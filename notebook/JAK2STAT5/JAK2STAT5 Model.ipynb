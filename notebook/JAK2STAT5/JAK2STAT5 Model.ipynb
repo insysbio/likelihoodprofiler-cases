{
 "cells": [
  {
   "cell_type": "markdown",
   "metadata": {},
   "source": [
    "## Jak2/STAT5 Model"
   ]
  },
  {
   "cell_type": "markdown",
   "metadata": {},
   "source": [
    "The goal of the notebook is to study practical identifiability of **JAK2/STAT5 Model** with *CICOBase*. Identifiability of this model was analyzed in [Bachmann et al. (2011), Mol Syst Biol. ; 7: 516.](https://pubmed.ncbi.nlm.nih.gov/21772264/). We have translated the original Matlab model from [Bachmann_MSB2011 repo](https://github.com/Data2Dynamics/d2d/tree/master/arFramework3/Examples/Bachmann_MSB2011) to [Julia language](https://julialang.org/). \n",
    "The model is defined by the system of ODE"
   ]
  },
  {
   "cell_type": "markdown",
   "metadata": {},
   "source": [
    "### Initial Value Problem"
   ]
  },
  {
   "cell_type": "code",
   "execution_count": 1,
   "metadata": {},
   "outputs": [],
   "source": [
    "using DiffEqBase, DiffEqCallbacks, CSV, DataFrames, Sundials, RecursiveArrayTools\n",
    "\n",
    "#compartments\n",
    "const cyt = 0.4\n",
    "const nuc = 0.275\n",
    "\n",
    "function ode_func(du, u, p, t, epo_level, ActD, CISoe, SOCS3oe)\n",
    "    # 25 states:\n",
    "    (EpoRJAK2,\n",
    "    EpoRpJAK2,\n",
    "    p1EpoRpJAK2,\n",
    "    p2EpoRpJAK2,\n",
    "    p12EpoRpJAK2,\n",
    "    EpoRJAK2_CIS,\n",
    "    SHP1,\n",
    "    SHP1Act,\n",
    "    STAT5,\n",
    "    pSTAT5,\n",
    "    npSTAT5,\n",
    "    CISnRNA1,\n",
    "    CISnRNA2,\n",
    "    CISnRNA3,\n",
    "    CISnRNA4,\n",
    "    CISnRNA5,\n",
    "    CISRNA,\n",
    "    CIS,\n",
    "    SOCS3nRNA1,\n",
    "    SOCS3nRNA2,\n",
    "    SOCS3nRNA3,\n",
    "    SOCS3nRNA4,\n",
    "    SOCS3nRNA5,\n",
    "    SOCS3RNA,\n",
    "    SOCS3) = u\n",
    "    \n",
    "    # 26 parameters + 3 are initial conditions \n",
    "    (CISEqc,\n",
    "    CISEqcOE,\n",
    "    CISInh,\n",
    "    CISRNADelay,\n",
    "    CISRNAEqc,\n",
    "    CISRNATurn,\n",
    "    CISTurn,\n",
    "    EpoRActJAK2,\n",
    "    EpoRCISInh,\n",
    "    EpoRCISRemove,\n",
    "    JAK2ActEpo,\n",
    "    JAK2EpoRDeaSHP1,\n",
    "    SHP1ActEpoR,\n",
    "    SHP1Dea,\n",
    "    SHP1ProOE,\n",
    "    SOCS3Eqc,\n",
    "    SOCS3EqcOE,\n",
    "    SOCS3Inh,\n",
    "    SOCS3RNADelay,\n",
    "    SOCS3RNAEqc,\n",
    "    SOCS3RNATurn,\n",
    "    SOCS3Turn,\n",
    "    STAT5ActEpoR,\n",
    "    STAT5ActJAK2,\n",
    "    STAT5Exp,\n",
    "    STAT5Imp,\n",
    "    init_EpoRJAK2,\n",
    "    init_SHP1,\n",
    "    init_STAT5) = p\n",
    "    \n",
    "    # treatment\n",
    "    Epo = epo_level\n",
    "    \n",
    "    # rates\n",
    "    v1 = (Epo*EpoRJAK2*JAK2ActEpo)/(SOCS3*(SOCS3Inh / SOCS3Eqc) + 1)\n",
    "    v2 = EpoRpJAK2*(JAK2EpoRDeaSHP1 / init_SHP1)*SHP1Act\n",
    "    v3 = (EpoRpJAK2*EpoRActJAK2)/(SOCS3*(SOCS3Inh / SOCS3Eqc) + 1)\n",
    "    v4 = (3*EpoRpJAK2*EpoRActJAK2)/((EpoRCISInh*EpoRJAK2_CIS + 1)*(SOCS3*(SOCS3Inh / SOCS3Eqc) + 1))\n",
    "    v5 = (3*EpoRActJAK2*p1EpoRpJAK2)/((EpoRCISInh*EpoRJAK2_CIS + 1)*(SOCS3*(SOCS3Inh / SOCS3Eqc) + 1))\n",
    "    v6 = (EpoRActJAK2*p2EpoRpJAK2)/(SOCS3*(SOCS3Inh / SOCS3Eqc) + 1)\n",
    "    v7 = (JAK2EpoRDeaSHP1 / init_SHP1)*SHP1Act*p1EpoRpJAK2\n",
    "    v8 = (JAK2EpoRDeaSHP1 / init_SHP1)*SHP1Act*p2EpoRpJAK2\n",
    "    v9 = (JAK2EpoRDeaSHP1 / init_SHP1)*SHP1Act*p12EpoRpJAK2\n",
    "    v10 = EpoRJAK2_CIS*(EpoRCISRemove / init_EpoRJAK2)*(p12EpoRpJAK2 + p1EpoRpJAK2)\n",
    "    v11 = SHP1*(SHP1ActEpoR / init_EpoRJAK2)*(EpoRpJAK2 + p12EpoRpJAK2 + p1EpoRpJAK2 + p2EpoRpJAK2)\n",
    "    v12 = SHP1Dea*SHP1Act\n",
    "    v13 = (STAT5*(STAT5ActJAK2 / init_EpoRJAK2)*(EpoRpJAK2 + p12EpoRpJAK2 + p1EpoRpJAK2 + p2EpoRpJAK2))/(SOCS3*(SOCS3Inh / SOCS3Eqc) + 1)\n",
    "    v14 = (STAT5*(STAT5ActEpoR / init_EpoRJAK2^2)*(p12EpoRpJAK2 + p1EpoRpJAK2)^2)/((CIS*(CISInh / CISEqc) + 1)*(SOCS3*(SOCS3Inh / SOCS3Eqc) + 1))\n",
    "    v15 = STAT5Imp*pSTAT5\n",
    "    v16 = STAT5Exp*npSTAT5\n",
    "    v17 = -(CISRNAEqc / init_STAT5)*CISRNATurn*npSTAT5*(ActD - 1)\n",
    "    v18 = CISnRNA1*CISRNADelay\n",
    "    v19 = CISnRNA2*CISRNADelay\n",
    "    v20 = CISnRNA3*CISRNADelay\n",
    "    v21 = CISnRNA4*CISRNADelay\n",
    "    v22 = CISnRNA5*CISRNADelay\n",
    "    v23 = CISRNA*CISRNATurn\n",
    "    v24 = CISRNA*CISEqc*CISTurn\n",
    "    v25 = CIS*CISTurn\n",
    "    v26 = CISoe*CISTurn*CISEqcOE*CISEqc\n",
    "    v27 = -(SOCS3RNAEqc / init_STAT5)*SOCS3RNATurn*npSTAT5*(ActD - 1)\n",
    "    v28 = SOCS3nRNA1*SOCS3RNADelay\n",
    "    v29 = SOCS3nRNA2*SOCS3RNADelay\n",
    "    v30 = SOCS3nRNA3*SOCS3RNADelay\n",
    "    v31 = SOCS3nRNA4*SOCS3RNADelay\n",
    "    v32 = SOCS3nRNA5*SOCS3RNADelay\n",
    "    v33 = SOCS3RNA*SOCS3RNATurn\n",
    "    v34 = SOCS3RNA*SOCS3Eqc*SOCS3Turn\n",
    "    v35 = SOCS3*SOCS3Turn\n",
    "    v36 = SOCS3oe*SOCS3Turn*SOCS3EqcOE*SOCS3Eqc\n",
    "    \n",
    "    # rhs with parameters transformations\n",
    "    du[1] = EpoRpJAK2*(JAK2EpoRDeaSHP1 / init_SHP1)*SHP1Act + (JAK2EpoRDeaSHP1 / init_SHP1)*SHP1Act*p12EpoRpJAK2 + (JAK2EpoRDeaSHP1 / init_SHP1)*SHP1Act*p1EpoRpJAK2 + (JAK2EpoRDeaSHP1 / init_SHP1)*SHP1Act*p2EpoRpJAK2 - (Epo*EpoRJAK2*JAK2ActEpo)/(SOCS3*(SOCS3Inh / SOCS3Eqc) + 1)\n",
    "    du[2] = (Epo*EpoRJAK2*JAK2ActEpo)/(SOCS3*(SOCS3Inh / SOCS3Eqc) + 1) - (EpoRpJAK2*EpoRActJAK2)/(SOCS3*(SOCS3Inh / SOCS3Eqc) + 1) - (3*EpoRpJAK2*EpoRActJAK2)/((EpoRCISInh*EpoRJAK2_CIS + 1)*(SOCS3*(SOCS3Inh / SOCS3Eqc) + 1)) - EpoRpJAK2*(JAK2EpoRDeaSHP1 / init_SHP1)*SHP1Act\n",
    "    du[3] = (EpoRpJAK2*EpoRActJAK2)/(SOCS3*(SOCS3Inh / SOCS3Eqc) + 1) - (JAK2EpoRDeaSHP1 / init_SHP1)*SHP1Act*p1EpoRpJAK2 - (3*EpoRActJAK2*p1EpoRpJAK2)/((EpoRCISInh*EpoRJAK2_CIS + 1)*(SOCS3*(SOCS3Inh / SOCS3Eqc) + 1))\n",
    "    du[4] = (3*EpoRpJAK2*EpoRActJAK2)/((EpoRCISInh*EpoRJAK2_CIS + 1)*(SOCS3*(SOCS3Inh / SOCS3Eqc) + 1)) - (EpoRActJAK2*p2EpoRpJAK2)/(SOCS3*(SOCS3Inh / SOCS3Eqc) + 1) - (JAK2EpoRDeaSHP1 / init_SHP1)*SHP1Act*p2EpoRpJAK2\n",
    "    du[5] = (EpoRActJAK2*p2EpoRpJAK2)/(SOCS3*(SOCS3Inh / SOCS3Eqc) + 1) - (JAK2EpoRDeaSHP1 / init_SHP1)*SHP1Act*p12EpoRpJAK2 + (3*EpoRActJAK2*p1EpoRpJAK2)/((EpoRCISInh*EpoRJAK2_CIS + 1)*(SOCS3*(SOCS3Inh / SOCS3Eqc) + 1))\n",
    "    du[6] = -EpoRJAK2_CIS*(EpoRCISRemove / init_EpoRJAK2)*(p12EpoRpJAK2 + p1EpoRpJAK2)\n",
    "    du[7] = SHP1Dea*SHP1Act - SHP1*(SHP1ActEpoR / init_EpoRJAK2)*(EpoRpJAK2 + p12EpoRpJAK2 + p1EpoRpJAK2 + p2EpoRpJAK2)\n",
    "    du[8] = SHP1*(SHP1ActEpoR / init_EpoRJAK2)*(EpoRpJAK2 + p12EpoRpJAK2 + p1EpoRpJAK2 + p2EpoRpJAK2) - SHP1Dea*SHP1Act\n",
    "    du[9] = (STAT5Exp*npSTAT5*nuc)/cyt - (STAT5*(STAT5ActJAK2 / init_EpoRJAK2)*(EpoRpJAK2 + p12EpoRpJAK2 + p1EpoRpJAK2 + p2EpoRpJAK2))/(SOCS3*(SOCS3Inh / SOCS3Eqc) + 1) - (STAT5*(STAT5ActEpoR / init_EpoRJAK2^2)*(p12EpoRpJAK2 + p1EpoRpJAK2)^2)/((CIS*(CISInh / CISEqc) + 1)*(SOCS3*(SOCS3Inh / SOCS3Eqc) + 1))\n",
    "    du[10] = (STAT5*(STAT5ActJAK2 / init_EpoRJAK2)*(EpoRpJAK2 + p12EpoRpJAK2 + p1EpoRpJAK2 + p2EpoRpJAK2))/(SOCS3*(SOCS3Inh / SOCS3Eqc) + 1) - STAT5Imp*pSTAT5 + (STAT5*(STAT5ActEpoR / init_EpoRJAK2^2)*(p12EpoRpJAK2 + p1EpoRpJAK2)^2)/((CIS*(CISInh / CISEqc) + 1)*(SOCS3*(SOCS3Inh / SOCS3Eqc) + 1))\n",
    "    du[11] = (STAT5Imp*cyt*pSTAT5)/nuc - STAT5Exp*npSTAT5\n",
    "    du[12] = - CISnRNA1*CISRNADelay - (CISRNAEqc / init_STAT5)*CISRNATurn*npSTAT5*(ActD - 1)\n",
    "    du[13] = CISnRNA1*CISRNADelay - CISnRNA2*CISRNADelay\n",
    "    du[14] = CISnRNA2*CISRNADelay - CISnRNA3*CISRNADelay\n",
    "    du[15] = CISnRNA3*CISRNADelay - CISnRNA4*CISRNADelay\n",
    "    du[16] = CISnRNA4*CISRNADelay - CISnRNA5*CISRNADelay\n",
    "    du[17] = (CISnRNA5*CISRNADelay*nuc)/cyt - CISRNA*CISRNATurn\n",
    "    du[18] = CISRNA*CISEqc*CISTurn - CIS*CISTurn + CISoe*CISTurn*CISEqcOE * CISEqc\n",
    "    du[19] = -SOCS3nRNA1*SOCS3RNADelay - (SOCS3RNAEqc / init_STAT5)*SOCS3RNATurn*npSTAT5*(ActD - 1)\n",
    "    du[20] = SOCS3nRNA1*SOCS3RNADelay - SOCS3nRNA2*SOCS3RNADelay\n",
    "    du[21] = SOCS3nRNA2*SOCS3RNADelay - SOCS3nRNA3*SOCS3RNADelay\n",
    "    du[22] = SOCS3nRNA3*SOCS3RNADelay - SOCS3nRNA4*SOCS3RNADelay\n",
    "    du[23] = SOCS3nRNA4*SOCS3RNADelay - SOCS3nRNA5*SOCS3RNADelay\n",
    "    du[24] = (SOCS3nRNA5*SOCS3RNADelay*nuc)/cyt - SOCS3RNA*SOCS3RNATurn\n",
    "    du[25] = SOCS3RNA*SOCS3Eqc*SOCS3Turn - SOCS3*SOCS3Turn + SOCS3oe*SOCS3Turn*SOCS3EqcOE * SOCS3Eqc\n",
    "end;"
   ]
  },
  {
   "cell_type": "markdown",
   "metadata": {},
   "source": [
    "The initial conditions and the ODE Problem "
   ]
  },
  {
   "cell_type": "code",
   "execution_count": 2,
   "metadata": {},
   "outputs": [],
   "source": [
    "# IVP\n",
    "function u_init(p,t0)\n",
    "    u0 = zeros(25)\n",
    "    u0[1] = p[27]\n",
    "    u0[7] = p[28]\n",
    "    u0[9] = p[29]\n",
    "    return u0\n",
    "end\n",
    "\n",
    "prob(p,epo_level,ActD,CISoe,SOCS3oe) = ODEProblem((du,u,p,t)->ode_func(du,u,p,t,epo_level,ActD,CISoe,SOCS3oe), u_init, (0.0,100.0), p);"
   ]
  },
  {
   "cell_type": "markdown",
   "metadata": {},
   "source": [
    "### Likelihood Function"
   ]
  },
  {
   "cell_type": "markdown",
   "metadata": {},
   "source": [
    "The likelihood function is defined as"
   ]
  },
  {
   "cell_type": "code",
   "execution_count": 3,
   "metadata": {},
   "outputs": [
    {
     "data": {
      "text/plain": [
       "L_component (generic function with 1 method)"
      ]
     },
     "metadata": {},
     "output_type": "display_data"
    }
   ],
   "source": [
    "function L(sim,data,σ)\n",
    "    loss = 0.0\n",
    "    obs = names(data)[2:end]  \n",
    "\n",
    "    for (i,id) in enumerate(obs)\n",
    "        loss_i = L_component(sim[i,:],data[!,id],σ[i])\n",
    "        loss += loss_i\n",
    "    end\n",
    "    return loss\n",
    "end\n",
    "    \n",
    "function L_component(sim,data,σ_i)\n",
    "    loss_i = 0.0\n",
    "    \n",
    "    for i in eachindex(sim)\n",
    "        if !isnan(data[i])\n",
    "            loss_i += ((sim[i]-data[i])/σ_i)^2 + 2*log(sqrt(2π)*σ_i)\n",
    "        end\n",
    "    end\n",
    "    return loss_i\n",
    "end"
   ]
  },
  {
   "cell_type": "markdown",
   "metadata": {},
   "source": [
    "### Experimental Data"
   ]
  },
  {
   "cell_type": "code",
   "execution_count": 4,
   "metadata": {
    "scrolled": true
   },
   "outputs": [
    {
     "ename": "UndefVarError",
     "evalue": "UndefVarError: `DataFrame!` not defined in `Main`\nSuggestion: check for spelling errors or missing imports.",
     "output_type": "error",
     "traceback": [
      "UndefVarError: `DataFrame!` not defined in `Main`\n",
      "Suggestion: check for spelling errors or missing imports.\n",
      "\n",
      "Stacktrace:\n",
      " [1] top-level scope\n",
      "   @ y:\\likelihoodprofiler-cases\\notebook\\JAK2STAT5\\jl_notebook_cell_df34fa98e69747e1a8f8a730347b8e2f_X13sZmlsZQ==.jl:1"
     ]
    }
   ],
   "source": [
    "data_CFUE_Long = DataFrame!(CSV.File(\"./JAK2STAT5_CFUE_Long_log10.csv\"))\n",
    "data_CFUE_Concentrations = DataFrame!(CSV.File(\"./JAK2STAT5_CFUE_Concentrations_log10.csv\"))\n",
    "data_CFUE_RNA = DataFrame!(CSV.File(\"./JAK2STAT5_CFUE_RNA_log10.csv\"))\n",
    "data_CFUE_ActD = [\n",
    "    DataFrame!(CSV.File(\"./JAK2STAT5_CFUE_ActD0_log10.csv\")),\n",
    "    DataFrame!(CSV.File(\"./JAK2STAT5_CFUE_ActD1_log10.csv\"))\n",
    "]\n",
    "data_CFUE_Fine = DataFrame!(CSV.File(\"./JAK2STAT5_CFUE_Fine_log10.csv\"))\n",
    "data_CFUE_CISoe =[\n",
    "    DataFrame!(CSV.File(\"./JAK2STAT5_CFUE_CISoe0_log10.csv\")),\n",
    "    DataFrame!(CSV.File(\"./JAK2STAT5_CFUE_CISoe1_log10.csv\"))\n",
    "]\n",
    "data_CFUE_CISoe_pEpoR =[\n",
    "    DataFrame!(CSV.File(\"./JAK2STAT5_CFUE_CISoe_pEpoR0_log10.csv\")),\n",
    "    DataFrame!(CSV.File(\"./JAK2STAT5_CFUE_CISoe_pEpoR1_log10.csv\"))\n",
    "]\n",
    "data_CFUE_SOCS3oe =[\n",
    "    DataFrame!(CSV.File(\"./JAK2STAT5_CFUE_SOCS3oe0_log10.csv\")),\n",
    "    DataFrame!(CSV.File(\"./JAK2STAT5_CFUE_SOCS3oe1_log10.csv\"))\n",
    "]\n",
    "data_CFUE_SHP1oe =[\n",
    "    DataFrame!(CSV.File(\"./JAK2STAT5_CFUE_SHP1oe0_log10.csv\")),\n",
    "    DataFrame!(CSV.File(\"./JAK2STAT5_CFUE_SHP1oe1_log10.csv\"))\n",
    "]\n",
    "data_CFUE_DR7 =[\n",
    "    DataFrame!(CSV.File(\"./JAK2STAT5_CFUE_DR72.5e-5_log10.csv\")),\n",
    "    DataFrame!(CSV.File(\"./JAK2STAT5_CFUE_DR72.5e-6_log10.csv\")),\n",
    "    DataFrame!(CSV.File(\"./JAK2STAT5_CFUE_DR72.5e-7_log10.csv\")),\n",
    "    DataFrame!(CSV.File(\"./JAK2STAT5_CFUE_DR72.5e-8_log10.csv\")),\n",
    "    DataFrame!(CSV.File(\"./JAK2STAT5_CFUE_DR72.5e-9_log10.csv\"))\n",
    "]\n",
    "data_CFUE_DR30 =[\n",
    "    DataFrame!(CSV.File(\"./JAK2STAT5_CFUE_DR301.25e-6_log10.csv\")),\n",
    "    DataFrame!(CSV.File(\"./JAK2STAT5_CFUE_DR301.25e-7_log10.csv\")),\n",
    "    DataFrame!(CSV.File(\"./JAK2STAT5_CFUE_DR302.5e-6_log10.csv\")),\n",
    "    DataFrame!(CSV.File(\"./JAK2STAT5_CFUE_DR302.5e-7_log10.csv\")),\n",
    "    DataFrame!(CSV.File(\"./JAK2STAT5_CFUE_DR302.5e-8_log10.csv\")),\n",
    "    DataFrame!(CSV.File(\"./JAK2STAT5_CFUE_DR302.5e-9_log10.csv\"))\n",
    "]\n",
    "data_CFUE_DR10 =[\n",
    "    DataFrame!(CSV.File(\"./JAK2STAT5_CFUE_DR101.25e-7_log10.csv\")),\n",
    "    DataFrame!(CSV.File(\"./JAK2STAT5_CFUE_DR101.25e-8_log10.csv\")),\n",
    "    DataFrame!(CSV.File(\"./JAK2STAT5_CFUE_DR101.75e-8_log10.csv\")),\n",
    "    DataFrame!(CSV.File(\"./JAK2STAT5_CFUE_DR101.7675e-7_log10.csv\")),\n",
    "    DataFrame!(CSV.File(\"./JAK2STAT5_CFUE_DR102.5e-6_log10.csv\")),\n",
    "    DataFrame!(CSV.File(\"./JAK2STAT5_CFUE_DR102.5e-7_log10.csv\"))\n",
    "]\n",
    "data_CFUE_DR90 =[\n",
    "    DataFrame!(CSV.File(\"./JAK2STAT5_CFUE_DR901.25e-7_log10.csv\")),\n",
    "    DataFrame!(CSV.File(\"./JAK2STAT5_CFUE_DR902.5e-6_log10.csv\")),\n",
    "    DataFrame!(CSV.File(\"./JAK2STAT5_CFUE_DR902.5e-7_log10.csv\")),\n",
    "    DataFrame!(CSV.File(\"./JAK2STAT5_CFUE_DR902.5e-8_log10.csv\")),\n",
    "    DataFrame!(CSV.File(\"./JAK2STAT5_CFUE_DR902.5e-9_log10.csv\"))\n",
    "];"
   ]
  },
  {
   "cell_type": "code",
   "execution_count": 5,
   "metadata": {},
   "outputs": [],
   "source": [
    "# fitted sd\n",
    "const sd_CIS_abs = 0.071666890399901\n",
    "const sd_CIS_au = 0.134037028009804\n",
    "const sd_JAK2EpoR_au = 0.191838137085675\n",
    "const sd_RNA_fold = 0.103074376969697\n",
    "const sd_SHP1_abs = 0.064904672549311\n",
    "const sd_SHP1_au = 0.077438644411215\n",
    "const sd_SOCS3_abs = 0.10271619027042\n",
    "const sd_SOCS3_au = 0.076348614779106\n",
    "const sd_STAT5_abs = 0.119518171917816\n",
    "const sd_STAT5_au = 0.123518909217589\n",
    "const sd_pSTAT5_rel = 2.56704055700378\n",
    "const sd_pSTAT5_socs3oe = 0.573852497761907;"
   ]
  },
  {
   "cell_type": "code",
   "execution_count": 6,
   "metadata": {},
   "outputs": [
    {
     "data": {
      "text/plain": [
       "solve_prob (generic function with 1 method)"
      ]
     },
     "metadata": {},
     "output_type": "display_data"
    }
   ],
   "source": [
    "function solve_prob(prob, saveat, saving_func)\n",
    "    \n",
    "    out = SavedValues(Float64, Vector{Float64})\n",
    "    scb = SavingCallback(saving_func, out, saveat=saveat)\n",
    "    \n",
    "    tspan = (0.0, saveat[end])\n",
    "    \n",
    "    prob = remake(prob, tspan=tspan, callback=scb)\n",
    "    \n",
    "    sol = solve(prob, \n",
    "                CVODE_BDF();\n",
    "                save_start = false,\n",
    "                save_end = false,\n",
    "                save_everystep = false,\n",
    "                reltol = 1e-12,\n",
    "                abstol = 1e-17\n",
    "    )\n",
    "    return VectorOfArray(sol.prob.kwargs[:callback].affect!.saved_values.saveval)\n",
    "end"
   ]
  },
  {
   "cell_type": "markdown",
   "metadata": {},
   "source": [
    "#### Experiment: Long time-course of JAK2-STAT5 phosphorylation dynamics in CFU-E cells (CFU-E Long)"
   ]
  },
  {
   "cell_type": "code",
   "execution_count": 7,
   "metadata": {},
   "outputs": [
    {
     "data": {
      "text/plain": [
       "L_CFUE_Long (generic function with 1 method)"
      ]
     },
     "metadata": {},
     "output_type": "display_data"
    }
   ],
   "source": [
    "# fitted offset and scale parameters\n",
    "const offset_pJAK2_long = 0.009473351822798\n",
    "const offset_pEpoR_long = 0.004391399791279\n",
    "const offset_CIS_long = 0.026460000624405\n",
    "const offset_SOCS3_long = 0.114475234936677\n",
    "const offset_pSTAT5_long = 0.001093070638337\n",
    "const scale_tSTAT5_long = 0.762143611844065\n",
    "const scale_pJAK2_long = 0.882775356861714\n",
    "const scale_pEpoR_long = 0.256529988627087\n",
    "const scale_CIS_long = 16.4036102124066\n",
    "const scale_SOCS3_long = 15.485524391452\n",
    "const scale_pSTAT5_long = 1.47372211945355\n",
    "\n",
    "function saving_CFUE_Long(u, t, integrator)\n",
    "    (EpoRJAK2,EpoRpJAK2,p1EpoRpJAK2,p2EpoRpJAK2,p12EpoRpJAK2,EpoRJAK2_CIS,SHP1,SHP1Act,STAT5,pSTAT5,npSTAT5,\n",
    "    CISnRNA1,CISnRNA2,CISnRNA3,CISnRNA4,CISnRNA5,CISRNA,CIS,SOCS3nRNA1,SOCS3nRNA2,SOCS3nRNA3,SOCS3nRNA4,\n",
    "    SOCS3nRNA5,SOCS3RNA,SOCS3) = u\n",
    "    (CISEqc,CISEqcOE,CISInh,CISRNADelay,CISRNAEqc,CISRNATurn,CISTurn,EpoRActJAK2,EpoRCISInh,\n",
    "    EpoRCISRemove,JAK2ActEpo,JAK2EpoRDeaSHP1,SHP1ActEpoR,SHP1Dea,SHP1ProOE,SOCS3Eqc,SOCS3EqcOE,\n",
    "    SOCS3Inh,SOCS3RNADelay,SOCS3RNAEqc,SOCS3RNATurn,SOCS3Turn,STAT5ActEpoR,STAT5ActJAK2,STAT5Exp,\n",
    "    STAT5Imp,init_EpoRJAK2,init_SHP1,init_STAT5) = integrator.p\n",
    "    \n",
    "    # output values\n",
    "    pJAK2_au = log10(offset_pJAK2_long + 2 * scale_pJAK2_long * (EpoRpJAK2 + p12EpoRpJAK2 + p1EpoRpJAK2 + p2EpoRpJAK2) / init_EpoRJAK2)\n",
    "    pEpoR_au = log10(offset_pEpoR_long + 16 * scale_pEpoR_long * (p12EpoRpJAK2 + p1EpoRpJAK2 + p2EpoRpJAK2) / init_EpoRJAK2)\n",
    "    CIS_au = log10(offset_CIS_long + CIS * scale_CIS_long / CISEqc )  #??? / (CISEqc * CISRNAEqc * init_STAT5)\n",
    "    SOCS3_au = log10(offset_SOCS3_long + SOCS3 * scale_SOCS3_long / SOCS3Eqc )  #??? / (SOCS3Eqc * SOCS3RNAEqc * init_STAT5)\n",
    "    tSTAT5_au = log10(scale_tSTAT5_long * (STAT5 + pSTAT5) / init_STAT5)\n",
    "    pSTAT5_au = log10(offset_pSTAT5_long + pSTAT5 * scale_pSTAT5_long / init_STAT5)\n",
    "    \n",
    "    return [pJAK2_au, pEpoR_au, CIS_au, SOCS3_au, tSTAT5_au, pSTAT5_au]\n",
    "end\n",
    "\n",
    "function L_CFUE_Long(p)\n",
    "    ActD = 0.0\n",
    "    CISoe = 0.0\n",
    "    SOCS3oe = 0.0\n",
    "    SHP1oe = 0.0\n",
    "    epo_level = 1.25e-7\n",
    "    \n",
    "    prob_CFUE_Long = prob(p,epo_level,ActD,CISoe,SOCS3oe)  \n",
    "    saveat = Float64.(data_CFUE_Long[!,:time])\n",
    "    \n",
    "    sim = solve_prob(prob_CFUE_Long, saveat, saving_CFUE_Long)\n",
    "    \n",
    "    σ = [\n",
    "        sd_JAK2EpoR_au,\n",
    "        sd_JAK2EpoR_au,\n",
    "        sd_CIS_au,\n",
    "        sd_SOCS3_au,\n",
    "        sd_STAT5_au,\n",
    "        sd_STAT5_au\n",
    "    ]\n",
    "    loss = L(sim, data_CFUE_Long, σ) \n",
    "    #@show loss\n",
    "    return loss\n",
    "end"
   ]
  },
  {
   "cell_type": "markdown",
   "metadata": {},
   "source": [
    "#### Experiment: Absolute concentrations of proteins in CFU-E cells (CFU-E Concentrations)"
   ]
  },
  {
   "cell_type": "code",
   "execution_count": 8,
   "metadata": {},
   "outputs": [
    {
     "data": {
      "text/plain": [
       "L_CFUE_Concentrations (generic function with 1 method)"
      ]
     },
     "metadata": {},
     "output_type": "display_data"
    }
   ],
   "source": [
    "# fitted offset and scale parameters\n",
    "const offset_pSTAT5_conc = 0.236827475949589\n",
    "\n",
    "function saving_CFUE_Concentrations(u, t, integrator)\n",
    "    (EpoRJAK2,EpoRpJAK2,p1EpoRpJAK2,p2EpoRpJAK2,p12EpoRpJAK2,EpoRJAK2_CIS,SHP1,SHP1Act,STAT5,pSTAT5,npSTAT5,\n",
    "    CISnRNA1,CISnRNA2,CISnRNA3,CISnRNA4,CISnRNA5,CISRNA,CIS,SOCS3nRNA1,SOCS3nRNA2,SOCS3nRNA3,SOCS3nRNA4,\n",
    "    SOCS3nRNA5,SOCS3RNA,SOCS3) = u\n",
    "    (CISEqc,CISEqcOE,CISInh,CISRNADelay,CISRNAEqc,CISRNATurn,CISTurn,EpoRActJAK2,EpoRCISInh,\n",
    "    EpoRCISRemove,JAK2ActEpo,JAK2EpoRDeaSHP1,SHP1ActEpoR,SHP1Dea,SHP1ProOE,SOCS3Eqc,SOCS3EqcOE,\n",
    "    SOCS3Inh,SOCS3RNADelay,SOCS3RNAEqc,SOCS3RNATurn,SOCS3Turn,STAT5ActEpoR,STAT5ActJAK2,STAT5Exp,\n",
    "    STAT5Imp,init_EpoRJAK2,init_SHP1,init_STAT5) = integrator.p\n",
    "    \n",
    "    # output values\n",
    "    STAT5_abs = log10(STAT5)\n",
    "    SHP1_abs = log10(SHP1 + SHP1Act)\n",
    "    CIS_abs = log10(CIS)\n",
    "    SOCS3_abs = log10(SOCS3)\n",
    "    pSTAT5B_rel = offset_pSTAT5_conc + 100 * pSTAT5 / (STAT5 + pSTAT5)\n",
    "    \n",
    "    return [STAT5_abs, SHP1_abs, CIS_abs, SOCS3_abs, pSTAT5B_rel]\n",
    "end\n",
    "\n",
    "function L_CFUE_Concentrations(p)\n",
    "    ActD = 0.0\n",
    "    CISoe = 0.0\n",
    "    SOCS3oe = 0.0\n",
    "    SHP1oe = 0.0\n",
    "    epo_level = 1.25e-7\n",
    "    \n",
    "    prob_CFUE_Concentrations = prob(p,epo_level,ActD,CISoe,SOCS3oe)  \n",
    "    saveat = Float64.(data_CFUE_Concentrations[!,:time])\n",
    "    \n",
    "    sim = solve_prob(prob_CFUE_Concentrations, saveat, saving_CFUE_Concentrations)\n",
    "    \n",
    "    σ = [\n",
    "        sd_STAT5_abs,\n",
    "        sd_SHP1_abs,\n",
    "        sd_CIS_abs,\n",
    "        sd_SOCS3_abs,\n",
    "        sd_pSTAT5_rel\n",
    "    ]\n",
    "    loss = L(sim, data_CFUE_Concentrations, σ)\n",
    "    #@show loss\n",
    "    return loss \n",
    "    \n",
    "end"
   ]
  },
  {
   "cell_type": "markdown",
   "metadata": {},
   "source": [
    "#### Experiment: Time-course of CIS and SOCS3 mRNA expression (CFU-E RNA)"
   ]
  },
  {
   "cell_type": "code",
   "execution_count": 9,
   "metadata": {},
   "outputs": [
    {
     "data": {
      "text/plain": [
       "L_CFUE_RNA (generic function with 1 method)"
      ]
     },
     "metadata": {},
     "output_type": "display_data"
    }
   ],
   "source": [
    "# fitted offset and scale parameters\n",
    "const scale_SOCS3RNA_foldA = 56.9631412510002\n",
    "const scale_SOCS3RNA_foldB = 49.074989211721\n",
    "const scale_SOCS3RNA_foldC = 80.7316820439984\n",
    "const scale_CISRNA_foldA = 33.2822368277369\n",
    "const scale_CISRNA_foldB = 31.0176342778512\n",
    "const scale_CISRNA_foldC = 19.6194113406379\n",
    "\n",
    "function saving_CFUE_RNA(u, t, integrator)\n",
    "    (EpoRJAK2,EpoRpJAK2,p1EpoRpJAK2,p2EpoRpJAK2,p12EpoRpJAK2,EpoRJAK2_CIS,SHP1,SHP1Act,STAT5,pSTAT5,npSTAT5,\n",
    "    CISnRNA1,CISnRNA2,CISnRNA3,CISnRNA4,CISnRNA5,CISRNA,CIS,SOCS3nRNA1,SOCS3nRNA2,SOCS3nRNA3,SOCS3nRNA4,\n",
    "    SOCS3nRNA5,SOCS3RNA,SOCS3) = u\n",
    "    (CISEqc,CISEqcOE,CISInh,CISRNADelay,CISRNAEqc,CISRNATurn,CISTurn,EpoRActJAK2,EpoRCISInh,\n",
    "    EpoRCISRemove,JAK2ActEpo,JAK2EpoRDeaSHP1,SHP1ActEpoR,SHP1Dea,SHP1ProOE,SOCS3Eqc,SOCS3EqcOE,\n",
    "    SOCS3Inh,SOCS3RNADelay,SOCS3RNAEqc,SOCS3RNATurn,SOCS3Turn,STAT5ActEpoR,STAT5ActJAK2,STAT5Exp,\n",
    "    STAT5Imp,init_EpoRJAK2,init_SHP1,init_STAT5) = integrator.p\n",
    "    \n",
    "    # output values\n",
    "    SOCS3RNA_foldA = log10(SOCS3RNA * scale_SOCS3RNA_foldA / SOCS3RNAEqc + 1)\n",
    "    SOCS3RNA_foldB = log10(SOCS3RNA * scale_SOCS3RNA_foldB / SOCS3RNAEqc + 1)\n",
    "    SOCS3RNA_foldC = log10(SOCS3RNA * scale_SOCS3RNA_foldC / SOCS3RNAEqc + 1)\n",
    "    CISRNA_foldA = log10(CISRNA * scale_CISRNA_foldA / CISRNAEqc + 1)\n",
    "    CISRNA_foldB = log10(CISRNA * scale_CISRNA_foldB / CISRNAEqc + 1)\n",
    "    CISRNA_foldC = log10(CISRNA * scale_CISRNA_foldC / CISRNAEqc + 1)\n",
    "    \n",
    "    return [SOCS3RNA_foldA, SOCS3RNA_foldB, SOCS3RNA_foldC, CISRNA_foldA, CISRNA_foldB, CISRNA_foldC]\n",
    "end\n",
    "\n",
    "function L_CFUE_RNA(p)\n",
    "    ActD = 0.0\n",
    "    CISoe = 0.0\n",
    "    SOCS3oe = 0.0\n",
    "    SHP1oe = 0.0\n",
    "    epo_level = 1.25e-7\n",
    "    \n",
    "    prob_CFUE_RNA = prob(p,epo_level,ActD,CISoe,SOCS3oe)  \n",
    "    saveat = Float64.(data_CFUE_RNA[!,:time])\n",
    "    \n",
    "    sim = solve_prob(prob_CFUE_RNA, saveat, saving_CFUE_RNA)\n",
    "    \n",
    "    σ = [\n",
    "        sd_RNA_fold,\n",
    "        sd_RNA_fold,\n",
    "        sd_RNA_fold,\n",
    "        sd_RNA_fold,\n",
    "        sd_RNA_fold,\n",
    "        sd_RNA_fold\n",
    "    ]\n",
    "    loss = L(sim, data_CFUE_RNA, σ)\n",
    "    #@show loss\n",
    "    return loss\n",
    "    \n",
    "end"
   ]
  },
  {
   "cell_type": "markdown",
   "metadata": {},
   "source": [
    "#### Experiment: Time-course of JAK2-STAT5 phosphorylation dynamics in CFU-E cells with Actinomycin D treatment (CFU-E ActD)"
   ]
  },
  {
   "cell_type": "code",
   "execution_count": 10,
   "metadata": {},
   "outputs": [
    {
     "data": {
      "text/plain": [
       "L_CFUE_ActD (generic function with 1 method)"
      ]
     },
     "metadata": {},
     "output_type": "display_data"
    }
   ],
   "source": [
    "# fitted offset and scale parameters\n",
    "const offset_pJAK2_actd = 0.017059890602388\n",
    "const offset_pEpoR_actd = 0.018840236081137\n",
    "const offset_CIS_actd = 0.009388328725541\n",
    "const offset_pSTAT5_actd = 0.001868785567417\n",
    "const scale_tSTAT5_actd = 0.815207201779241\n",
    "const scale_pJAK2_actd = 0.809491692283694\n",
    "const scale_pEpoR_actd = 0.215657294488182\n",
    "const scale_CIS_actd = 14.5490143154214\n",
    "const scale_pSTAT5_actd = 1.09743435047828\n",
    "\n",
    "function saving_CFUE_ActD(u, t, integrator)\n",
    "    (EpoRJAK2,EpoRpJAK2,p1EpoRpJAK2,p2EpoRpJAK2,p12EpoRpJAK2,EpoRJAK2_CIS,SHP1,SHP1Act,STAT5,pSTAT5,npSTAT5,\n",
    "    CISnRNA1,CISnRNA2,CISnRNA3,CISnRNA4,CISnRNA5,CISRNA,CIS,SOCS3nRNA1,SOCS3nRNA2,SOCS3nRNA3,SOCS3nRNA4,\n",
    "    SOCS3nRNA5,SOCS3RNA,SOCS3) = u\n",
    "    (CISEqc,CISEqcOE,CISInh,CISRNADelay,CISRNAEqc,CISRNATurn,CISTurn,EpoRActJAK2,EpoRCISInh,\n",
    "    EpoRCISRemove,JAK2ActEpo,JAK2EpoRDeaSHP1,SHP1ActEpoR,SHP1Dea,SHP1ProOE,SOCS3Eqc,SOCS3EqcOE,\n",
    "    SOCS3Inh,SOCS3RNADelay,SOCS3RNAEqc,SOCS3RNATurn,SOCS3Turn,STAT5ActEpoR,STAT5ActJAK2,STAT5Exp,\n",
    "    STAT5Imp,init_EpoRJAK2,init_SHP1,init_STAT5) = integrator.p\n",
    "    \n",
    "    # output values\n",
    "    pJAK2_au = log10(offset_pJAK2_actd + 2 * scale_pJAK2_actd * (EpoRpJAK2 + p12EpoRpJAK2 + p1EpoRpJAK2 + p2EpoRpJAK2) / init_EpoRJAK2)\n",
    "    pEpoR_au = log10(offset_pEpoR_actd + 16 * scale_pEpoR_actd * (p12EpoRpJAK2 + p1EpoRpJAK2 + p2EpoRpJAK2) / init_EpoRJAK2)\n",
    "    tSTAT5_au = log10(scale_tSTAT5_actd * (STAT5 + pSTAT5) / init_STAT5)\n",
    "    pSTAT5_au = log10(offset_pSTAT5_actd + pSTAT5 * scale_pSTAT5_actd / init_STAT5)\n",
    "    CIS_au = log10(offset_CIS_actd + CIS * scale_CIS_actd / CISEqc )  #??? / (CISEqc * CISRNAEqc * init_STAT5)\n",
    "    \n",
    "    return [pJAK2_au, pEpoR_au, tSTAT5_au, pSTAT5_au, CIS_au]\n",
    "end\n",
    "\n",
    "function L_CFUE_ActD(p)\n",
    "\n",
    "    CISoe = 0.0\n",
    "    SOCS3oe = 0.0\n",
    "    SHP1oe = 0.0\n",
    "    epo_level = 1.25e-7\n",
    "    \n",
    "    σ = [\n",
    "        sd_JAK2EpoR_au,\n",
    "        sd_JAK2EpoR_au,\n",
    "        sd_STAT5_au,\n",
    "        sd_STAT5_au,\n",
    "        sd_CIS_au\n",
    "    ]\n",
    "    \n",
    "    loss = 0.0\n",
    "    for (i,ActD) in enumerate([0.0, 1.0])\n",
    "    \n",
    "        prob_CFUE_ActD = prob(p,epo_level,ActD,CISoe,SOCS3oe)  \n",
    "        saveat = Float64.(data_CFUE_ActD[i][!,:time])\n",
    "    \n",
    "        sim = solve_prob(prob_CFUE_ActD, saveat, saving_CFUE_ActD)\n",
    "        \n",
    "        loss += L(sim, data_CFUE_ActD[i], σ) \n",
    "    end\n",
    "    #@show loss\n",
    "    return loss \n",
    "end"
   ]
  },
  {
   "cell_type": "markdown",
   "metadata": {},
   "source": [
    "#### Experiment: Time-course of JAK2-STAT5 phosphorylation dynamics in CFU-E cells densely sampled (CFU-E Fine)"
   ]
  },
  {
   "cell_type": "code",
   "execution_count": 11,
   "metadata": {},
   "outputs": [
    {
     "data": {
      "text/plain": [
       "L_CFUE_Fine (generic function with 1 method)"
      ]
     },
     "metadata": {},
     "output_type": "display_data"
    }
   ],
   "source": [
    "# fitted offset and scale parameters\n",
    "const offset_pJAK2_fine = 0.021658276199496\n",
    "const offset_pEpoR_fine = 0.064550876993068\n",
    "const scale_pJAK2_fine = 0.400770707451671\n",
    "const scale_pEpoR_fine = 0.080269467995686\n",
    "\n",
    "function saving_CFUE_Fine(u, t, integrator)\n",
    "    (EpoRJAK2,EpoRpJAK2,p1EpoRpJAK2,p2EpoRpJAK2,p12EpoRpJAK2,EpoRJAK2_CIS,SHP1,SHP1Act,STAT5,pSTAT5,npSTAT5,\n",
    "    CISnRNA1,CISnRNA2,CISnRNA3,CISnRNA4,CISnRNA5,CISRNA,CIS,SOCS3nRNA1,SOCS3nRNA2,SOCS3nRNA3,SOCS3nRNA4,\n",
    "    SOCS3nRNA5,SOCS3RNA,SOCS3) = u\n",
    "    (CISEqc,CISEqcOE,CISInh,CISRNADelay,CISRNAEqc,CISRNATurn,CISTurn,EpoRActJAK2,EpoRCISInh,\n",
    "    EpoRCISRemove,JAK2ActEpo,JAK2EpoRDeaSHP1,SHP1ActEpoR,SHP1Dea,SHP1ProOE,SOCS3Eqc,SOCS3EqcOE,\n",
    "    SOCS3Inh,SOCS3RNADelay,SOCS3RNAEqc,SOCS3RNATurn,SOCS3Turn,STAT5ActEpoR,STAT5ActJAK2,STAT5Exp,\n",
    "    STAT5Imp,init_EpoRJAK2,init_SHP1,init_STAT5) = integrator.p\n",
    "    \n",
    "    # output values\n",
    "    pJAK2_au = log10(offset_pJAK2_fine + 2 * scale_pJAK2_fine * (EpoRpJAK2 + p12EpoRpJAK2 + p1EpoRpJAK2 + p2EpoRpJAK2) / init_EpoRJAK2)\n",
    "    pEpoR_au = log10(offset_pEpoR_fine + 16 * scale_pEpoR_fine * (p12EpoRpJAK2 + p1EpoRpJAK2 + p2EpoRpJAK2) / init_EpoRJAK2)\n",
    "\n",
    "    return [pJAK2_au, pEpoR_au]\n",
    "end\n",
    "\n",
    "function L_CFUE_Fine(p)\n",
    "    ActD = 0.0\n",
    "    CISoe = 0.0\n",
    "    SOCS3oe = 0.0\n",
    "    SHP1oe = 0.0\n",
    "    epo_level = 1.25e-6\n",
    "    \n",
    "    prob_CFUE_Fine = prob(p,epo_level,ActD,CISoe,SOCS3oe)  \n",
    "    saveat = Float64.(data_CFUE_Fine[!,:time])\n",
    "    \n",
    "    sim = solve_prob(prob_CFUE_Fine, saveat, saving_CFUE_Fine)\n",
    "    \n",
    "    σ = [\n",
    "        sd_JAK2EpoR_au,\n",
    "        sd_JAK2EpoR_au,\n",
    "    ]\n",
    "    loss = L(sim, data_CFUE_Fine, σ) \n",
    "    #@show loss\n",
    "    return loss\n",
    "    \n",
    "end"
   ]
  },
  {
   "cell_type": "markdown",
   "metadata": {},
   "source": [
    "#### Experiment: Time-course of JAK2-STAT5 phosphorylation dynamics in CFU-E cells over-expressing CIS (CFU-E CISoe)"
   ]
  },
  {
   "cell_type": "code",
   "execution_count": 12,
   "metadata": {},
   "outputs": [
    {
     "data": {
      "text/plain": [
       "L_CFUE_CISoe (generic function with 1 method)"
      ]
     },
     "metadata": {},
     "output_type": "display_data"
    }
   ],
   "source": [
    "# fitted offset and scale parameters\n",
    "const offset_pJAK2_cisoe = 0.021928076840931\n",
    "const offset_pEpoR_cisoe = 0.030210854745913\n",
    "const offset_CIS_cisoe = 0.030012199170223\n",
    "const offset_SOCS3_cisoe = 0.278270301775932\n",
    "const offset_pSTAT5_cisoe = 0.070791697579138\n",
    "const scale_pJAK2_cisoe = 1.85429884799069\n",
    "const scale_pEpoR_cisoe = 0.273625536372832\n",
    "const scale_CIS_cisoe = 1.37088201048354\n",
    "const scale_SOCS3_cisoe = 11.5682149955845\n",
    "const scale_pSTAT5_cisoe = 2.41904111907135\n",
    "\n",
    "function saving_CFUE_CISoe(u, t, integrator)\n",
    "    (EpoRJAK2,EpoRpJAK2,p1EpoRpJAK2,p2EpoRpJAK2,p12EpoRpJAK2,EpoRJAK2_CIS,SHP1,SHP1Act,STAT5,pSTAT5,npSTAT5,\n",
    "    CISnRNA1,CISnRNA2,CISnRNA3,CISnRNA4,CISnRNA5,CISRNA,CIS,SOCS3nRNA1,SOCS3nRNA2,SOCS3nRNA3,SOCS3nRNA4,\n",
    "    SOCS3nRNA5,SOCS3RNA,SOCS3) = u\n",
    "    (CISEqc,CISEqcOE,CISInh,CISRNADelay,CISRNAEqc,CISRNATurn,CISTurn,EpoRActJAK2,EpoRCISInh,\n",
    "    EpoRCISRemove,JAK2ActEpo,JAK2EpoRDeaSHP1,SHP1ActEpoR,SHP1Dea,SHP1ProOE,SOCS3Eqc,SOCS3EqcOE,\n",
    "    SOCS3Inh,SOCS3RNADelay,SOCS3RNAEqc,SOCS3RNATurn,SOCS3Turn,STAT5ActEpoR,STAT5ActJAK2,STAT5Exp,\n",
    "    STAT5Imp,init_EpoRJAK2,init_SHP1,init_STAT5) = integrator.p\n",
    "    \n",
    "    # output values\n",
    "    pJAK2_au = log10(offset_pJAK2_cisoe + 2 * scale_pJAK2_cisoe * (EpoRpJAK2 + p12EpoRpJAK2 + p1EpoRpJAK2 + p2EpoRpJAK2) / init_EpoRJAK2)\n",
    "    pEpoR_au = log10(offset_pEpoR_cisoe + 16 * scale_pEpoR_cisoe * (p12EpoRpJAK2 + p1EpoRpJAK2 + p2EpoRpJAK2) / init_EpoRJAK2)\n",
    "    CIS_au = log10(offset_CIS_cisoe + CIS * scale_CIS_cisoe / CISEqc )  #??? / (CISEqc * CISRNAEqc * init_STAT5)\n",
    "    SOCS3_au = log10(offset_SOCS3_cisoe + SOCS3 * scale_SOCS3_cisoe / SOCS3Eqc )  #??? / (SOCS3Eqc * SOCS3RNAEqc * init_STAT5)\n",
    "    pSTAT5_au = log10(offset_pSTAT5_cisoe + pSTAT5 * scale_pSTAT5_cisoe / init_STAT5)\n",
    "    \n",
    "    return [pJAK2_au, pEpoR_au, CIS_au, SOCS3_au, pSTAT5_au]\n",
    "end\n",
    "\n",
    "function u_init_CISoe(p,t0)\n",
    "    u0 = zeros(25)\n",
    "    u0[1] = p[27]\n",
    "    u0[7] = p[28]\n",
    "    u0[9] = p[29]\n",
    "    u0[18] = p[1]*p[2]\n",
    "    u0[6] = 1.0\n",
    "    return u0\n",
    "end\n",
    "\n",
    "function L_CFUE_CISoe(p)\n",
    "    ActD = 0.0\n",
    "    SOCS3oe = 0.0\n",
    "    SHP1oe = 0.0\n",
    "    epo_level = 1.25e-7\n",
    "    \n",
    "    σ = [\n",
    "        sd_JAK2EpoR_au,\n",
    "        sd_JAK2EpoR_au,\n",
    "        sd_CIS_au,\n",
    "        sd_SOCS3_au,\n",
    "        sd_STAT5_au\n",
    "    ]\n",
    "    \n",
    "    loss = 0.0\n",
    "    for (i,CISoe) in enumerate([0.0, 1.0]) \n",
    "        prob_CFUE_CISoe = prob(p,epo_level,ActD,CISoe,SOCS3oe)\n",
    "        if CISoe == 1.0\n",
    "           prob_CFUE_CISoe = remake(prob_CFUE_CISoe, u0=u_init_CISoe)\n",
    "        end\n",
    "        saveat = Float64.(data_CFUE_CISoe[i][!,:time])\n",
    "\n",
    "        sim = solve_prob(prob_CFUE_CISoe, saveat, saving_CFUE_CISoe)\n",
    "        loss += L(sim, data_CFUE_CISoe[i], σ)\n",
    "    end\n",
    "    #@show loss\n",
    "    return loss\n",
    "end"
   ]
  },
  {
   "cell_type": "markdown",
   "metadata": {},
   "source": [
    "#### Experiment: Time-course of EpoR phosphorylation dynamics in CFU-E cells over-expressing CIS (CFU-E CISoe)"
   ]
  },
  {
   "cell_type": "code",
   "execution_count": 13,
   "metadata": {},
   "outputs": [
    {
     "data": {
      "text/plain": [
       "L_CFUE_CISoe_pEpoR (generic function with 1 method)"
      ]
     },
     "metadata": {},
     "output_type": "display_data"
    }
   ],
   "source": [
    "# fitted offset and scale parameters\n",
    "const offset_pEpoR_cisoe_pepor = 0.131027220027866\n",
    "const scale_pEpoR_cisoe_pepor = 0.156616708581292\n",
    "\n",
    "function saving_CFUE_CISoe_pEpoR(u, t, integrator)\n",
    "    (EpoRJAK2,EpoRpJAK2,p1EpoRpJAK2,p2EpoRpJAK2,p12EpoRpJAK2,EpoRJAK2_CIS,SHP1,SHP1Act,STAT5,pSTAT5,npSTAT5,\n",
    "    CISnRNA1,CISnRNA2,CISnRNA3,CISnRNA4,CISnRNA5,CISRNA,CIS,SOCS3nRNA1,SOCS3nRNA2,SOCS3nRNA3,SOCS3nRNA4,\n",
    "    SOCS3nRNA5,SOCS3RNA,SOCS3) = u\n",
    "    (CISEqc,CISEqcOE,CISInh,CISRNADelay,CISRNAEqc,CISRNATurn,CISTurn,EpoRActJAK2,EpoRCISInh,\n",
    "    EpoRCISRemove,JAK2ActEpo,JAK2EpoRDeaSHP1,SHP1ActEpoR,SHP1Dea,SHP1ProOE,SOCS3Eqc,SOCS3EqcOE,\n",
    "    SOCS3Inh,SOCS3RNADelay,SOCS3RNAEqc,SOCS3RNATurn,SOCS3Turn,STAT5ActEpoR,STAT5ActJAK2,STAT5Exp,\n",
    "    STAT5Imp,init_EpoRJAK2,init_SHP1,init_STAT5) = integrator.p\n",
    "    \n",
    "    # output values\n",
    "    pEpoR_au = log10(offset_pEpoR_cisoe_pepor + 16 * scale_pEpoR_cisoe_pepor * (p12EpoRpJAK2 + p1EpoRpJAK2 + p2EpoRpJAK2) / init_EpoRJAK2)\n",
    "    \n",
    "    return [pEpoR_au]\n",
    "end\n",
    "\n",
    "function u_init_CISoe_pEpoR(p,t0)\n",
    "    u0 = zeros(25)\n",
    "    u0[1] = p[27]\n",
    "    u0[7] = p[28]\n",
    "    u0[9] = p[29]\n",
    "    u0[18] = p[1]*p[2]\n",
    "    u0[6] = 1.0\n",
    "    return u0\n",
    "end\n",
    "\n",
    "function L_CFUE_CISoe_pEpoR(p)\n",
    "    ActD = 0.0\n",
    "    SOCS3oe = 0.0\n",
    "    SHP1oe = 0.0\n",
    "    epo_level = 1.25e-7\n",
    "    \n",
    "    σ = [\n",
    "        sd_JAK2EpoR_au,\n",
    "        sd_JAK2EpoR_au,\n",
    "        sd_CIS_au,\n",
    "        sd_SOCS3_au,\n",
    "        sd_STAT5_au\n",
    "    ]\n",
    "    \n",
    "    loss = 0.0\n",
    "    for (i,CISoe) in enumerate([0.0, 1.0]) \n",
    "        prob_CFUE_CISoe_pEpoR = prob(p,epo_level,ActD,CISoe,SOCS3oe)\n",
    "        if CISoe == 1.0\n",
    "           prob_CFUE_CISoe_pEpoR = remake(prob_CFUE_CISoe_pEpoR, u0=u_init_CISoe_pEpoR)\n",
    "        end\n",
    "        saveat = Float64.(data_CFUE_CISoe_pEpoR[i][!,:time])\n",
    "\n",
    "        sim = solve_prob(prob_CFUE_CISoe_pEpoR, saveat, saving_CFUE_CISoe_pEpoR)\n",
    "        loss += L(sim, data_CFUE_CISoe_pEpoR[i], σ)\n",
    "    end\n",
    "    #@show loss\n",
    "    return loss\n",
    "end"
   ]
  },
  {
   "cell_type": "markdown",
   "metadata": {},
   "source": [
    "#### Experiment: Time-course of JAK2-STAT5 phosphorylation dynamics in CFU-E cells over-expressing SOCS3 (CFU-E SOCS3oe)"
   ]
  },
  {
   "cell_type": "code",
   "execution_count": 14,
   "metadata": {},
   "outputs": [
    {
     "data": {
      "text/plain": [
       "L_CFUE_SOCS3oe (generic function with 1 method)"
      ]
     },
     "metadata": {},
     "output_type": "display_data"
    }
   ],
   "source": [
    "# fitted offset and scale parameters\n",
    "const offset_pJAK2_socs3oe = 0.059752453075581\n",
    "const offset_pEpoR_socs3oe = 0.056711915845858\n",
    "const offset_CIS_socs3oe = 0.090496783983191\n",
    "const offset_SOCS3_socs3oe = 0.025584406819207\n",
    "const offset_pSTAT5_socs3oe = 0.005613364786273\n",
    "const scale_pJAK2_socs3oe =  1.266550022901\n",
    "const scale_pEpoR_socs3oe = 0.637275573973593\n",
    "const scale_CIS_socs3oe = 21.1493834462165\n",
    "const scale_SOCS3_socs3oe = 1.20457246908681\n",
    "const scale_pSTAT5_socs3oe = 1.76032560825919\n",
    "\n",
    "function saving_CFUE_SOCS3oe(u, t, integrator)\n",
    "    (EpoRJAK2,EpoRpJAK2,p1EpoRpJAK2,p2EpoRpJAK2,p12EpoRpJAK2,EpoRJAK2_CIS,SHP1,SHP1Act,STAT5,pSTAT5,npSTAT5,\n",
    "    CISnRNA1,CISnRNA2,CISnRNA3,CISnRNA4,CISnRNA5,CISRNA,CIS,SOCS3nRNA1,SOCS3nRNA2,SOCS3nRNA3,SOCS3nRNA4,\n",
    "    SOCS3nRNA5,SOCS3RNA,SOCS3) = u\n",
    "    (CISEqc,CISEqcOE,CISInh,CISRNADelay,CISRNAEqc,CISRNATurn,CISTurn,EpoRActJAK2,EpoRCISInh,\n",
    "    EpoRCISRemove,JAK2ActEpo,JAK2EpoRDeaSHP1,SHP1ActEpoR,SHP1Dea,SHP1ProOE,SOCS3Eqc,SOCS3EqcOE,\n",
    "    SOCS3Inh,SOCS3RNADelay,SOCS3RNAEqc,SOCS3RNATurn,SOCS3Turn,STAT5ActEpoR,STAT5ActJAK2,STAT5Exp,\n",
    "    STAT5Imp,init_EpoRJAK2,init_SHP1,init_STAT5) = integrator.p\n",
    "    \n",
    "    # output values\n",
    "    pJAK2_au = log10(offset_pJAK2_socs3oe + 2 * scale_pJAK2_socs3oe * (EpoRpJAK2 + p12EpoRpJAK2 + p1EpoRpJAK2 + p2EpoRpJAK2) / init_EpoRJAK2)\n",
    "    pEpoR_au = log10(offset_pEpoR_socs3oe + 16 * scale_pEpoR_socs3oe * (p12EpoRpJAK2 + p1EpoRpJAK2 + p2EpoRpJAK2) / init_EpoRJAK2)\n",
    "    CIS_au = log10(offset_CIS_socs3oe + CIS * scale_CIS_socs3oe / CISEqc )  #??? / (CISEqc * CISRNAEqc * init_STAT5)\n",
    "    SOCS3_au = log10(offset_SOCS3_socs3oe + SOCS3 * scale_SOCS3_socs3oe / SOCS3Eqc )  #??? / (SOCS3Eqc * SOCS3RNAEqc * init_STAT5)\n",
    "    pSTAT5_au = log10(offset_pSTAT5_socs3oe + pSTAT5 * scale_pSTAT5_socs3oe / init_STAT5)\n",
    "    \n",
    "    return [pJAK2_au, pEpoR_au, CIS_au, SOCS3_au, pSTAT5_au]\n",
    "end\n",
    "\n",
    "function u_init_SOCS3oe(p,t0)\n",
    "    u0 = zeros(25)\n",
    "    u0[1] = p[27]\n",
    "    u0[7] = p[28]\n",
    "    u0[9] = p[29]\n",
    "    u0[25] = p[16]*p[17]\n",
    "    return u0\n",
    "end\n",
    "\n",
    "function L_CFUE_SOCS3oe(p)\n",
    "    ActD = 0.0\n",
    "    CISoe = 0.0\n",
    "    SHP1oe = 0.0\n",
    "    epo_level = 1.25e-7\n",
    "    \n",
    "    loss = 0.0\n",
    "    for (i,SOCS3oe) in enumerate([0.0, 1.0]) \n",
    "        σ = [\n",
    "            sd_JAK2EpoR_au,\n",
    "            sd_JAK2EpoR_au,\n",
    "            sd_CIS_au,\n",
    "            sd_SOCS3_au,\n",
    "            sd_STAT5_au + SOCS3oe * sd_pSTAT5_socs3oe\n",
    "        ]\n",
    "        \n",
    "        prob_CFUE_SOCS3oe = prob(p,epo_level,ActD,CISoe,SOCS3oe)  \n",
    "        \n",
    "        if SOCS3oe == 1.0\n",
    "           prob_CFUE_SOCS3oe = remake(prob_CFUE_SOCS3oe, u0=u_init_SOCS3oe)\n",
    "        end\n",
    "        saveat = Float64.(data_CFUE_SOCS3oe[i][!,:time])\n",
    "    \n",
    "        sim = solve_prob(prob_CFUE_SOCS3oe, saveat, saving_CFUE_SOCS3oe)\n",
    "        \n",
    "        loss += L(sim, data_CFUE_SOCS3oe[i], σ) \n",
    "    end\n",
    "    #@show loss\n",
    "    return loss \n",
    "end"
   ]
  },
  {
   "cell_type": "markdown",
   "metadata": {},
   "source": [
    "#### Experiment: Time-course of JAK2-STAT5 phosphorylation dynamics in CFU-E cells over-expressing SHP1 (CFU-E SHP1oe)"
   ]
  },
  {
   "cell_type": "code",
   "execution_count": 15,
   "metadata": {},
   "outputs": [
    {
     "data": {
      "text/plain": [
       "L_CFUE_SHP1oe (generic function with 1 method)"
      ]
     },
     "metadata": {},
     "output_type": "display_data"
    }
   ],
   "source": [
    "# fitted offset and scale parameters\n",
    "const offset_pJAK2_shp1oe = 0.026667365128327\n",
    "const offset_pEpoR_shp1oe = 0.031327226759826\n",
    "const offset_CIS_shp1oe = 0.058794513917949\n",
    "const offset_pSTAT5_shp1oe = 0.054941495350482\n",
    "const scale_tSTAT5_shp1oe = 0.681101374792296\n",
    "const scale_pJAK2_shp1oe =  2.31011130113927\n",
    "const scale_pEpoR_shp1oe = 0.241283495329875\n",
    "const scale_CIS_shp1oe = 51.7115711834136\n",
    "const scale_SHP1_shp1oe = 0.225547534442942\n",
    "const scale_pSTAT5_shp1oe = 1.15158552971751\n",
    "\n",
    "function saving_CFUE_SHP1oe(u, t, integrator)\n",
    "    (EpoRJAK2,EpoRpJAK2,p1EpoRpJAK2,p2EpoRpJAK2,p12EpoRpJAK2,EpoRJAK2_CIS,SHP1,SHP1Act,STAT5,pSTAT5,npSTAT5,\n",
    "    CISnRNA1,CISnRNA2,CISnRNA3,CISnRNA4,CISnRNA5,CISRNA,CIS,SOCS3nRNA1,SOCS3nRNA2,SOCS3nRNA3,SOCS3nRNA4,\n",
    "    SOCS3nRNA5,SOCS3RNA,SOCS3) = u\n",
    "    (CISEqc,CISEqcOE,CISInh,CISRNADelay,CISRNAEqc,CISRNATurn,CISTurn,EpoRActJAK2,EpoRCISInh,\n",
    "    EpoRCISRemove,JAK2ActEpo,JAK2EpoRDeaSHP1,SHP1ActEpoR,SHP1Dea,SHP1ProOE,SOCS3Eqc,SOCS3EqcOE,\n",
    "    SOCS3Inh,SOCS3RNADelay,SOCS3RNAEqc,SOCS3RNATurn,SOCS3Turn,STAT5ActEpoR,STAT5ActJAK2,STAT5Exp,\n",
    "    STAT5Imp,init_EpoRJAK2,init_SHP1,init_STAT5) = integrator.p\n",
    "    \n",
    "    # output values\n",
    "    pJAK2_au = log10(offset_pJAK2_shp1oe + 2 * scale_pJAK2_shp1oe * (EpoRpJAK2 + p12EpoRpJAK2 + p1EpoRpJAK2 + p2EpoRpJAK2) / init_EpoRJAK2)\n",
    "    pEpoR_au = log10(offset_pEpoR_shp1oe + 16 * scale_pEpoR_shp1oe * (p12EpoRpJAK2 + p1EpoRpJAK2 + p2EpoRpJAK2) / init_EpoRJAK2)\n",
    "    CIS_au = log10(offset_CIS_shp1oe + CIS * scale_CIS_shp1oe / CISEqc)   #??? / (CISEqc * CISRNAEqc * init_STAT5)\n",
    "    tSTAT5_au = log10(scale_tSTAT5_shp1oe * (STAT5 + pSTAT5) / init_STAT5)\n",
    "    pSTAT5_au = log10(offset_pSTAT5_shp1oe + pSTAT5 * scale_pSTAT5_shp1oe / init_STAT5)\n",
    "    tSHP1_au = log10(scale_SHP1_shp1oe * (SHP1 + SHP1Act) / init_SHP1) # *(SHP1oe * SHP1ProOE + 1)\n",
    "    \n",
    "    return [pJAK2_au, pEpoR_au, CIS_au, tSTAT5_au, pSTAT5_au, tSHP1_au]\n",
    "end\n",
    "\n",
    "function u_init_SHP1oe(p,t0)\n",
    "    u0 = zeros(25)\n",
    "    u0[1] = p[27]\n",
    "    u0[7] = p[28]*(p[15]+1)\n",
    "    u0[9] = p[29]\n",
    "    return u0\n",
    "end\n",
    "\n",
    "function L_CFUE_SHP1oe(p)\n",
    "    ActD = 0.0\n",
    "    CISoe = 0.0\n",
    "    SOCS3oe = 0.0\n",
    "    epo_level = 1.25e-7\n",
    "    \n",
    "    σ = [\n",
    "        sd_JAK2EpoR_au,\n",
    "        sd_JAK2EpoR_au,\n",
    "        sd_CIS_au,\n",
    "        sd_STAT5_au,\n",
    "        sd_STAT5_au,\n",
    "        sd_SHP1_au\n",
    "    ]\n",
    "    \n",
    "    prob_CFUE_SHP1oe = prob(p,epo_level,ActD,CISoe,SOCS3oe) \n",
    "    \n",
    "    loss = 0.0\n",
    "    for (i,SHP1oe) in enumerate([0.0, 1.0]) \n",
    "        \n",
    "        if SHP1oe == 1.0\n",
    "           prob_CFUE_SHP1oe = remake(prob_CFUE_SHP1oe, u0=u_init_SHP1oe)\n",
    "        end\n",
    "        saveat = Float64.(data_CFUE_SHP1oe[i][!,:time])\n",
    "    \n",
    "        sim = solve_prob(prob_CFUE_SHP1oe, saveat, saving_CFUE_SHP1oe)\n",
    "        loss += L(sim, data_CFUE_SHP1oe[i], σ) \n",
    "    end\n",
    "    #@show loss\n",
    "    return loss \n",
    "end"
   ]
  },
  {
   "cell_type": "markdown",
   "metadata": {},
   "source": [
    "#### Experiment: Dose response of JAK2 and EpoR phosphorylation in CFU-E cells 7 minutes after Epo stimulation (CFU-E DoseResp 7min)"
   ]
  },
  {
   "cell_type": "code",
   "execution_count": 16,
   "metadata": {},
   "outputs": [
    {
     "data": {
      "text/plain": [
       "L_CFUE_DR7 (generic function with 1 method)"
      ]
     },
     "metadata": {},
     "output_type": "display_data"
    }
   ],
   "source": [
    "# fitted offset and scale parameters\n",
    "const offset_pJAK2_dr7 = 0.04733977489635\n",
    "const offset_pEpoR_dr7 = 0.028405110847623\n",
    "const scale_pJAK2_dr7 =  0.506322186585869\n",
    "const scale_pEpoR_dr7 = 0.101429038197386\n",
    "\n",
    "\n",
    "function saving_CFUE_DR7(u, t, integrator)\n",
    "    (EpoRJAK2,EpoRpJAK2,p1EpoRpJAK2,p2EpoRpJAK2,p12EpoRpJAK2,EpoRJAK2_CIS,SHP1,SHP1Act,STAT5,pSTAT5,npSTAT5,\n",
    "    CISnRNA1,CISnRNA2,CISnRNA3,CISnRNA4,CISnRNA5,CISRNA,CIS,SOCS3nRNA1,SOCS3nRNA2,SOCS3nRNA3,SOCS3nRNA4,\n",
    "    SOCS3nRNA5,SOCS3RNA,SOCS3) = u\n",
    "    (CISEqc,CISEqcOE,CISInh,CISRNADelay,CISRNAEqc,CISRNATurn,CISTurn,EpoRActJAK2,EpoRCISInh,\n",
    "    EpoRCISRemove,JAK2ActEpo,JAK2EpoRDeaSHP1,SHP1ActEpoR,SHP1Dea,SHP1ProOE,SOCS3Eqc,SOCS3EqcOE,\n",
    "    SOCS3Inh,SOCS3RNADelay,SOCS3RNAEqc,SOCS3RNATurn,SOCS3Turn,STAT5ActEpoR,STAT5ActJAK2,STAT5Exp,\n",
    "    STAT5Imp,init_EpoRJAK2,init_SHP1,init_STAT5) = integrator.p\n",
    "    \n",
    "    # output values\n",
    "    pJAK2_au = log10(offset_pJAK2_dr7 + 2 * scale_pJAK2_dr7 * (EpoRpJAK2 + p12EpoRpJAK2 + p1EpoRpJAK2 + p2EpoRpJAK2) / init_EpoRJAK2)\n",
    "    pEpoR_au = log10(offset_pEpoR_dr7 + 16 * scale_pEpoR_dr7 * (p12EpoRpJAK2 + p1EpoRpJAK2 + p2EpoRpJAK2) / init_EpoRJAK2)\n",
    "\n",
    "    return [pJAK2_au, pEpoR_au]\n",
    "end\n",
    "\n",
    "\n",
    "function L_CFUE_DR7(p)\n",
    "    ActD = 0.0\n",
    "    CISoe = 0.0\n",
    "    SHP1oe = 0.0\n",
    "    SOCS3oe = 0.0\n",
    "    \n",
    "    σ = [\n",
    "        sd_JAK2EpoR_au,\n",
    "        sd_JAK2EpoR_au,\n",
    "    ]\n",
    "    \n",
    "    loss = 0.0\n",
    "    for (i,epo_level) in enumerate([2.5E-05, 2.5E-06, 2.5E-07, 2.5E-08, 2.5E-09]) \n",
    "        prob_CFUE_DR7 = prob(p,epo_level,ActD,CISoe,SOCS3oe)\n",
    "        saveat = Float64.(data_CFUE_DR7[i][!,:time])\n",
    "    \n",
    "        sim = solve_prob(prob_CFUE_DR7, saveat, saving_CFUE_DR7)\n",
    "        loss += L(sim, data_CFUE_DR7[i], σ) \n",
    "    end\n",
    "    #@show loss\n",
    "    return loss \n",
    "end"
   ]
  },
  {
   "cell_type": "markdown",
   "metadata": {},
   "source": [
    "#### Experiment: Dose response of JAK2 and EpoR phosphorylation in CFU-E cells 30 minutes after Epo stimulation (CFU-E DoseResp 30min)"
   ]
  },
  {
   "cell_type": "code",
   "execution_count": 17,
   "metadata": {},
   "outputs": [
    {
     "data": {
      "text/plain": [
       "L_CFUE_DR30 (generic function with 1 method)"
      ]
     },
     "metadata": {},
     "output_type": "display_data"
    }
   ],
   "source": [
    "# fitted offset and scale parameters\n",
    "const offset_pJAK2_dr30 = 0.029944254724382\n",
    "const offset_pEpoR_dr30 = 0.001\n",
    "const scale_pJAK2_dr30 =  1.77561150477407\n",
    "const scale_pEpoR_dr30 = 0.537385100441811\n",
    "\n",
    "\n",
    "function saving_CFUE_DR30(u, t, integrator)\n",
    "    (EpoRJAK2,EpoRpJAK2,p1EpoRpJAK2,p2EpoRpJAK2,p12EpoRpJAK2,EpoRJAK2_CIS,SHP1,SHP1Act,STAT5,pSTAT5,npSTAT5,\n",
    "    CISnRNA1,CISnRNA2,CISnRNA3,CISnRNA4,CISnRNA5,CISRNA,CIS,SOCS3nRNA1,SOCS3nRNA2,SOCS3nRNA3,SOCS3nRNA4,\n",
    "    SOCS3nRNA5,SOCS3RNA,SOCS3) = u\n",
    "    (CISEqc,CISEqcOE,CISInh,CISRNADelay,CISRNAEqc,CISRNATurn,CISTurn,EpoRActJAK2,EpoRCISInh,\n",
    "    EpoRCISRemove,JAK2ActEpo,JAK2EpoRDeaSHP1,SHP1ActEpoR,SHP1Dea,SHP1ProOE,SOCS3Eqc,SOCS3EqcOE,\n",
    "    SOCS3Inh,SOCS3RNADelay,SOCS3RNAEqc,SOCS3RNATurn,SOCS3Turn,STAT5ActEpoR,STAT5ActJAK2,STAT5Exp,\n",
    "    STAT5Imp,init_EpoRJAK2,init_SHP1,init_STAT5) = integrator.p\n",
    "    \n",
    "    # output values\n",
    "    pJAK2_au = log10(offset_pJAK2_dr30 + 2 * scale_pJAK2_dr30 * (EpoRpJAK2 + p12EpoRpJAK2 + p1EpoRpJAK2 + p2EpoRpJAK2) / init_EpoRJAK2)\n",
    "    pEpoR_au = log10(offset_pEpoR_dr30 + 16 * scale_pEpoR_dr30 * (p12EpoRpJAK2 + p1EpoRpJAK2 + p2EpoRpJAK2) / init_EpoRJAK2)\n",
    "\n",
    "    return [pJAK2_au, pEpoR_au]\n",
    "end\n",
    "\n",
    "\n",
    "function L_CFUE_DR30(p)\n",
    "    ActD = 0.0\n",
    "    CISoe = 0.0\n",
    "    SHP1oe = 0.0\n",
    "    SOCS3oe = 0.0\n",
    "    \n",
    "    σ = [\n",
    "        sd_JAK2EpoR_au,\n",
    "        sd_JAK2EpoR_au,\n",
    "    ]\n",
    "    \n",
    "    loss = 0.0\n",
    "    for (i,epo_level) in enumerate([1.25E-06, 1.25E-07, 2.5E-06, 2.5E-07, 2.5E-08, 2.5E-09]) \n",
    "        prob_CFUE_DR30 = prob(p,epo_level,ActD,CISoe,SOCS3oe)\n",
    "        saveat = Float64.(data_CFUE_DR30[i][!,:time])\n",
    "    \n",
    "        sim = solve_prob(prob_CFUE_DR30, saveat, saving_CFUE_DR30)\n",
    "        loss += L(sim, data_CFUE_DR30[i], σ) \n",
    "    end\n",
    "    #@show loss\n",
    "    return loss \n",
    "end"
   ]
  },
  {
   "cell_type": "markdown",
   "metadata": {},
   "source": [
    "#### Experiment: Dose response of STAT5 phosphorylation in CFU-E cells 10 minutes after Epo stimulation (CFU-E DoseResp pSTAT5 10min)"
   ]
  },
  {
   "cell_type": "code",
   "execution_count": 18,
   "metadata": {},
   "outputs": [
    {
     "data": {
      "text/plain": [
       "L_CFUE_DR10 (generic function with 1 method)"
      ]
     },
     "metadata": {},
     "output_type": "display_data"
    }
   ],
   "source": [
    "# fitted offset and scale parameters\n",
    "const scale_pSTAT_dr10 =  1.00950903665707\n",
    "\n",
    "function saving_CFUE_DR10(u, t, integrator)\n",
    "    (EpoRJAK2,EpoRpJAK2,p1EpoRpJAK2,p2EpoRpJAK2,p12EpoRpJAK2,EpoRJAK2_CIS,SHP1,SHP1Act,STAT5,pSTAT5,npSTAT5,\n",
    "    CISnRNA1,CISnRNA2,CISnRNA3,CISnRNA4,CISnRNA5,CISRNA,CIS,SOCS3nRNA1,SOCS3nRNA2,SOCS3nRNA3,SOCS3nRNA4,\n",
    "    SOCS3nRNA5,SOCS3RNA,SOCS3) = u\n",
    "    (CISEqc,CISEqcOE,CISInh,CISRNADelay,CISRNAEqc,CISRNATurn,CISTurn,EpoRActJAK2,EpoRCISInh,\n",
    "    EpoRCISRemove,JAK2ActEpo,JAK2EpoRDeaSHP1,SHP1ActEpoR,SHP1Dea,SHP1ProOE,SOCS3Eqc,SOCS3EqcOE,\n",
    "    SOCS3Inh,SOCS3RNADelay,SOCS3RNAEqc,SOCS3RNATurn,SOCS3Turn,STAT5ActEpoR,STAT5ActJAK2,STAT5Exp,\n",
    "    STAT5Imp,init_EpoRJAK2,init_SHP1,init_STAT5) = integrator.p\n",
    "    \n",
    "    # output values\n",
    "    pSTAT5_au = log10(pSTAT5 * scale_pSTAT_dr10 / init_STAT5)\n",
    "    return [pSTAT5_au]\n",
    "end\n",
    "\n",
    "\n",
    "function L_CFUE_DR10(p)\n",
    "    ActD = 0.0\n",
    "    CISoe = 0.0\n",
    "    SHP1oe = 0.0\n",
    "    SOCS3oe = 0.0\n",
    "    \n",
    "    σ = [\n",
    "        sd_STAT5_au\n",
    "    ]\n",
    "    \n",
    "    loss = 0.0\n",
    "    for (i,epo_level) in enumerate([1.25E-07, 1.25E-08, 2.5E-06, 2.5E-07, 2.5E-08, 2.5E-09]) \n",
    "        prob_CFUE_DR10 = prob(p,epo_level,ActD,CISoe,SOCS3oe)\n",
    "        saveat = Float64.(data_CFUE_DR10[i][!,:time])\n",
    "    \n",
    "        sim = solve_prob(prob_CFUE_DR10, saveat, saving_CFUE_DR10)\n",
    "        loss += L(sim, data_CFUE_DR10[i], σ) \n",
    "    end\n",
    "    #@show loss\n",
    "    return loss \n",
    "end"
   ]
  },
  {
   "cell_type": "markdown",
   "metadata": {},
   "source": [
    "#### Experiment: Dose response of CIS expression in CFU-E cells 90 minutes after Epo stimulation (CFU-E DoseResp CIS 90min)"
   ]
  },
  {
   "cell_type": "code",
   "execution_count": 19,
   "metadata": {},
   "outputs": [
    {
     "data": {
      "text/plain": [
       "L_CFUE_DR90 (generic function with 1 method)"
      ]
     },
     "metadata": {},
     "output_type": "display_data"
    }
   ],
   "source": [
    "# fitted offset and scale parameters\n",
    "const scale1_CIS_dr90 = 17.5631450183542\n",
    "const scale2_CIS_dr90 = 16.1205634424041\n",
    "\n",
    "function saving_CFUE_DR90(u, t, integrator)\n",
    "    (EpoRJAK2,EpoRpJAK2,p1EpoRpJAK2,p2EpoRpJAK2,p12EpoRpJAK2,EpoRJAK2_CIS,SHP1,SHP1Act,STAT5,pSTAT5,npSTAT5,\n",
    "    CISnRNA1,CISnRNA2,CISnRNA3,CISnRNA4,CISnRNA5,CISRNA,CIS,SOCS3nRNA1,SOCS3nRNA2,SOCS3nRNA3,SOCS3nRNA4,\n",
    "    SOCS3nRNA5,SOCS3RNA,SOCS3) = u\n",
    "    (CISEqc,CISEqcOE,CISInh,CISRNADelay,CISRNAEqc,CISRNATurn,CISTurn,EpoRActJAK2,EpoRCISInh,\n",
    "    EpoRCISRemove,JAK2ActEpo,JAK2EpoRDeaSHP1,SHP1ActEpoR,SHP1Dea,SHP1ProOE,SOCS3Eqc,SOCS3EqcOE,\n",
    "    SOCS3Inh,SOCS3RNADelay,SOCS3RNAEqc,SOCS3RNATurn,SOCS3Turn,STAT5ActEpoR,STAT5ActJAK2,STAT5Exp,\n",
    "    STAT5Imp,init_EpoRJAK2,init_SHP1,init_STAT5) = integrator.p\n",
    "    \n",
    "    # output values\n",
    "    CIS_au1 = log10(CIS * scale1_CIS_dr90 / CISEqc)\n",
    "    CIS_au2 = log10(CIS * scale2_CIS_dr90 / CISEqc)\n",
    "    \n",
    "    return [CIS_au1, CIS_au2]\n",
    "end\n",
    "\n",
    "\n",
    "function L_CFUE_DR90(p)\n",
    "    ActD = 0.0\n",
    "    CISoe = 0.0\n",
    "    SHP1oe = 0.0\n",
    "    SOCS3oe = 0.0\n",
    "    \n",
    "    σ = [\n",
    "        sd_CIS_au,\n",
    "        sd_CIS_au\n",
    "    ]\n",
    "    \n",
    "    loss = 0.0\n",
    "    for (i,epo_level) in enumerate([1.25E-07, 2.5E-06, 2.5E-07, 2.5E-08, 2.5E-09]) \n",
    "        prob_CFUE_DR90 = prob(p,epo_level,ActD,CISoe,SOCS3oe)\n",
    "        saveat = Float64.(data_CFUE_DR90[i][!,:time])\n",
    "    \n",
    "        sim = solve_prob(prob_CFUE_DR90, saveat, saving_CFUE_DR90)\n",
    "        loss += L(sim, data_CFUE_DR90[i], σ) \n",
    "    end\n",
    "    #@show loss\n",
    "    return loss \n",
    "end"
   ]
  },
  {
   "cell_type": "markdown",
   "metadata": {},
   "source": [
    "### Best Fit Parameters"
   ]
  },
  {
   "cell_type": "markdown",
   "metadata": {},
   "source": [
    "Best fit parameters reported in the article"
   ]
  },
  {
   "cell_type": "code",
   "execution_count": 20,
   "metadata": {
    "scrolled": true
   },
   "outputs": [],
   "source": [
    "const p_best = (\n",
    "    CISEqc = 432.854027325732,\n",
    "    CISEqcOE = 0.53027229006794,\n",
    "    CISInh = 785221045.232906,\n",
    "    CISRNADelay = 0.144777009620017,\n",
    "    CISRNAEqc = 1.0,\n",
    "    CISRNATurn = 1000.0,\n",
    "    CISTurn = 0.008398825029262,\n",
    "    EpoRActJAK2 = 0.267299659481333,\n",
    "    EpoRCISInh = 1000000.0,\n",
    "    EpoRCISRemove = 5.42989282766407,\n",
    "    JAK2ActEpo = 633154.209632843,\n",
    "    JAK2EpoRDeaSHP1 = 142.723069412318,\n",
    "    SHP1ActEpoR = 0.001,\n",
    "    SHP1Dea = 0.008162255244283,\n",
    "    SHP1ProOE = 2.82568032716189,\n",
    "    SOCS3Eqc = 173.64095522801,\n",
    "    SOCS3EqcOE = 0.679185853534469,\n",
    "    SOCS3Inh = 10.4074255973465,\n",
    "    SOCS3RNADelay = 1.06454014521077,\n",
    "    SOCS3RNAEqc = 1.0,\n",
    "    SOCS3RNATurn = 0.008309263619427,\n",
    "    SOCS3Turn = 10000.0,\n",
    "    STAT5ActEpoR = 38.9972748894298,\n",
    "    STAT5ActJAK2 = 0.078108833252848,\n",
    "    STAT5Exp = 0.074514698833232,\n",
    "    STAT5Imp = 0.026887318057561,\n",
    "    init_EpoRJAK2 = 3.97622379188569,\n",
    "    init_SHP1 = 26.7251164163486,\n",
    "    init_STAT5 = 79.753639977851\n",
    ");"
   ]
  },
  {
   "cell_type": "markdown",
   "metadata": {},
   "source": [
    "Total loss values is the sum of all losses"
   ]
  },
  {
   "cell_type": "code",
   "execution_count": 21,
   "metadata": {},
   "outputs": [
    {
     "data": {
      "text/plain": [
       "L_TOT (generic function with 1 method)"
      ]
     },
     "metadata": {},
     "output_type": "display_data"
    }
   ],
   "source": [
    "function L_TOT(params)\n",
    "    \n",
    "    p = [p_i for p_i in merge(p_best,params)]\n",
    "    \n",
    "    L_CFUE_Long(p) +\n",
    "    L_CFUE_Concentrations(p) +\n",
    "    L_CFUE_RNA(p) +\n",
    "    L_CFUE_ActD(p) +\n",
    "    L_CFUE_Fine(p) +\n",
    "    L_CFUE_CISoe(p) +\n",
    "    L_CFUE_CISoe_pEpoR(p) +\n",
    "    L_CFUE_SOCS3oe(p) +\n",
    "    L_CFUE_SHP1oe(p) +\n",
    "    L_CFUE_DR7(p) +\n",
    "    L_CFUE_DR30(p) +\n",
    "    L_CFUE_DR10(p) +\n",
    "    L_CFUE_DR90(p)\n",
    "end"
   ]
  },
  {
   "cell_type": "code",
   "execution_count": 22,
   "metadata": {
    "scrolled": true
   },
   "outputs": [
    {
     "ename": "UndefVarError",
     "evalue": "UndefVarError: `data_CFUE_Long` not defined in `Main`\nSuggestion: check for spelling errors or missing imports.",
     "output_type": "error",
     "traceback": [
      "UndefVarError: `data_CFUE_Long` not defined in `Main`\n",
      "Suggestion: check for spelling errors or missing imports.\n",
      "\n",
      "Stacktrace:\n",
      " [1] L_CFUE_Long(p::Vector{Float64})\n",
      "   @ Main y:\\likelihoodprofiler-cases\\notebook\\JAK2STAT5\\jl_notebook_cell_df34fa98e69747e1a8f8a730347b8e2f_X20sZmlsZQ==.jl:42\n",
      " [2] L_TOT(params::@NamedTuple{CISEqc::Float64, CISEqcOE::Float64, CISInh::Float64, CISRNADelay::Float64, CISRNAEqc::Float64, CISRNATurn::Float64, CISTurn::Float64, EpoRActJAK2::Float64, EpoRCISInh::Float64, EpoRCISRemove::Float64, JAK2ActEpo::Float64, JAK2EpoRDeaSHP1::Float64, SHP1ActEpoR::Float64, SHP1Dea::Float64, SHP1ProOE::Float64, SOCS3Eqc::Float64, SOCS3EqcOE::Float64, SOCS3Inh::Float64, SOCS3RNADelay::Float64, SOCS3RNAEqc::Float64, SOCS3RNATurn::Float64, SOCS3Turn::Float64, STAT5ActEpoR::Float64, STAT5ActJAK2::Float64, STAT5Exp::Float64, STAT5Imp::Float64, init_EpoRJAK2::Float64, init_SHP1::Float64, init_STAT5::Float64})\n",
      "   @ Main y:\\likelihoodprofiler-cases\\notebook\\JAK2STAT5\\jl_notebook_cell_df34fa98e69747e1a8f8a730347b8e2f_X61sZmlsZQ==.jl:5\n",
      " [3] top-level scope\n",
      "   @ y:\\likelihoodprofiler-cases\\notebook\\JAK2STAT5\\jl_notebook_cell_df34fa98e69747e1a8f8a730347b8e2f_X62sZmlsZQ==.jl:1"
     ]
    }
   ],
   "source": [
    "L_TOT(p_best)"
   ]
  },
  {
   "cell_type": "markdown",
   "metadata": {},
   "source": [
    "The value reported in the article is $$-2log(L) = -478.46$$"
   ]
  },
  {
   "cell_type": "markdown",
   "metadata": {},
   "source": [
    "### Identifiability and confidence intervals of the estimated model parameters"
   ]
  },
  {
   "cell_type": "code",
   "execution_count": 23,
   "metadata": {},
   "outputs": [],
   "source": [
    "p_init = (\n",
    "    CISEqc = 432.854027325732,\n",
    "    CISEqcOE = 0.53027229006794,\n",
    "    CISInh = 785221045.232906,\n",
    "    CISRNADelay = 0.144777009620017,\n",
    "    #CISRNAEqc = 1.0,\n",
    "    CISRNATurn = 1000.0,\n",
    "    CISTurn = 0.008398825029262,\n",
    "    EpoRActJAK2 = 0.267299659481333,\n",
    "    EpoRCISInh = 1000000.0,\n",
    "    EpoRCISRemove = 5.42989282766407,\n",
    "    JAK2ActEpo = 633154.209632843,\n",
    "    JAK2EpoRDeaSHP1 = 142.723069412318,\n",
    "    SHP1ActEpoR = 0.001,\n",
    "    SHP1Dea = 0.008162255244283,\n",
    "    SHP1ProOE = 2.82568032716189,\n",
    "    SOCS3Eqc = 173.64095522801,\n",
    "    SOCS3EqcOE = 0.679185853534469,\n",
    "    SOCS3Inh = 10.4074255973465,\n",
    "    SOCS3RNADelay = 1.06454014521077,\n",
    "    #SOCS3RNAEqc = 1.0,\n",
    "    SOCS3RNATurn = 0.008309263619427,\n",
    "    SOCS3Turn = 10000.0,\n",
    "    STAT5ActEpoR = 38.9972748894298,\n",
    "    STAT5ActJAK2 = 0.078108833252848,\n",
    "    STAT5Exp = 0.074514698833232,\n",
    "    STAT5Imp = 0.026887318057561,\n",
    "    init_EpoRJAK2 = 3.97622379188569,\n",
    "    init_SHP1 = 26.7251164163486,\n",
    "    init_STAT5 = 79.753639977851\n",
    ")\n",
    "\n",
    "p_scan = (\n",
    "    CISEqc = (1e-3, 1e4),\n",
    "    CISEqcOE = (1e-3, 1e3),\n",
    "    CISInh = (1e-3, 1e10),\n",
    "    CISRNADelay = (1e-3, 1e3),\n",
    "    #CISRNAEqc = 1.0,\n",
    "    CISRNATurn = (1e-3, 1e4),\n",
    "    CISTurn = (1e-3, 1e3),\n",
    "    EpoRActJAK2 = (1e-3, 1e4),\n",
    "    EpoRCISInh = (1e-3, 1e7),\n",
    "    EpoRCISRemove = (1e-3, 1e3),\n",
    "    JAK2ActEpo = (1e-3, 1e9),\n",
    "    JAK2EpoRDeaSHP1 = (1e-3,1e10),\n",
    "    SHP1ActEpoR = (1e-4,1e3),\n",
    "    SHP1Dea = (1e-3,1e3),\n",
    "    SHP1ProOE = (1e-3,1e3),\n",
    "    SOCS3Eqc = (1e-3,1e3),\n",
    "    SOCS3EqcOE = (1e-3,1e3),\n",
    "    SOCS3Inh = (1e-3,1e3),\n",
    "    SOCS3RNADelay = (1e-3,1e3),\n",
    "    #SOCS3RNAEqc = 1.0,\n",
    "    SOCS3RNATurn = (1e-3,1e3),\n",
    "    SOCS3Turn = (1e-3,1e5),\n",
    "    STAT5ActEpoR = (1e-3,1e3),\n",
    "    STAT5ActJAK2 = (1e-3,1e3),\n",
    "    STAT5Exp = (1e-3,1e3),\n",
    "    STAT5Imp = (1e-3,1e3),\n",
    "    init_EpoRJAK2 = (1e-3,1e3),\n",
    "    init_SHP1 = (1e-3,1e3),\n",
    "    init_STAT5 = (1e-3,1e3)\n",
    ");"
   ]
  },
  {
   "cell_type": "code",
   "execution_count": 24,
   "metadata": {},
   "outputs": [
    {
     "ename": "UndefVarError",
     "evalue": "UndefVarError: `data_CFUE_Long` not defined in `Main`\nSuggestion: check for spelling errors or missing imports.",
     "output_type": "error",
     "traceback": [
      "UndefVarError: `data_CFUE_Long` not defined in `Main`\n",
      "Suggestion: check for spelling errors or missing imports.\n",
      "\n",
      "Stacktrace:\n",
      " [1] L_CFUE_Long(p::Vector{Float64})\n",
      "   @ Main y:\\likelihoodprofiler-cases\\notebook\\JAK2STAT5\\jl_notebook_cell_df34fa98e69747e1a8f8a730347b8e2f_X20sZmlsZQ==.jl:42\n",
      " [2] L_TOT(params::@NamedTuple{CISEqc::Float64, CISEqcOE::Float64, CISInh::Float64, CISRNADelay::Float64, CISRNAEqc::Float64, CISRNATurn::Float64, CISTurn::Float64, EpoRActJAK2::Float64, EpoRCISInh::Float64, EpoRCISRemove::Float64, JAK2ActEpo::Float64, JAK2EpoRDeaSHP1::Float64, SHP1ActEpoR::Float64, SHP1Dea::Float64, SHP1ProOE::Float64, SOCS3Eqc::Float64, SOCS3EqcOE::Float64, SOCS3Inh::Float64, SOCS3RNADelay::Float64, SOCS3RNAEqc::Float64, SOCS3RNATurn::Float64, SOCS3Turn::Float64, STAT5ActEpoR::Float64, STAT5ActJAK2::Float64, STAT5Exp::Float64, STAT5Imp::Float64, init_EpoRJAK2::Float64, init_SHP1::Float64, init_STAT5::Float64})\n",
      "   @ Main y:\\likelihoodprofiler-cases\\notebook\\JAK2STAT5\\jl_notebook_cell_df34fa98e69747e1a8f8a730347b8e2f_X61sZmlsZQ==.jl:5\n",
      " [3] top-level scope\n",
      "   @ y:\\likelihoodprofiler-cases\\notebook\\JAK2STAT5\\jl_notebook_cell_df34fa98e69747e1a8f8a730347b8e2f_X66sZmlsZQ==.jl:3"
     ]
    }
   ],
   "source": [
    "using CICOBase\n",
    "\n",
    "α = L_TOT(p_best) + 3.84\n",
    "\n",
    "intervals = Vector{ParamInterval}(undef,length(p_init))\n",
    "for i in 1:length(p_init)\n",
    "    intervals[i] = get_interval(\n",
    "        [p for p in p_init],\n",
    "        i,\n",
    "        (p)->L_TOT(NamedTuple{keys(p_init)}(p)),\n",
    "        :CICO_ONE_PASS,\n",
    "        loss_crit = α,\n",
    "        theta_bounds = [(pb[1]/2,pb[2]*2) for pb in p_scan],\n",
    "        scan_bounds = p_scan[i],\n",
    "        local_alg = :LN_NELDERMEAD,\n",
    "        scale = fill(:log,length(p_init))\n",
    "    )\n",
    "    println(intervals[i]) \n",
    "end"
   ]
  },
  {
   "cell_type": "code",
   "execution_count": 25,
   "metadata": {},
   "outputs": [
    {
     "ename": "UndefVarError",
     "evalue": "UndefVarError: `saveval` not defined in `Main`\nSuggestion: check for spelling errors or missing imports.",
     "output_type": "error",
     "traceback": [
      "UndefVarError: `saveval` not defined in `Main`\n",
      "Suggestion: check for spelling errors or missing imports.\n",
      "\n",
      "Stacktrace:\n",
      " [1] top-level scope\n",
      "   @ y:\\likelihoodprofiler-cases\\notebook\\JAK2STAT5\\jl_notebook_cell_df34fa98e69747e1a8f8a730347b8e2f_Y100sZmlsZQ==.jl:1"
     ]
    }
   ],
   "source": [
    "L(saveval, data_CFUE_Long,[\n",
    "        sd_JAK2EpoR_au,\n",
    "        sd_JAK2EpoR_au,\n",
    "        sd_CIS_au,\n",
    "        sd_SOCS3_au,\n",
    "        sd_STAT5_au,\n",
    "        sd_STAT5_au\n",
    "    ] )"
   ]
  },
  {
   "cell_type": "code",
   "execution_count": 26,
   "metadata": {},
   "outputs": [
    {
     "data": {
      "text/plain": [
       "69430.02502971576"
      ]
     },
     "metadata": {},
     "output_type": "display_data"
    }
   ],
   "source": [
    "1/(sqrt(2π)*prod([\n",
    "        sd_JAK2EpoR_au,\n",
    "        sd_JAK2EpoR_au,\n",
    "        sd_CIS_au,\n",
    "        sd_SOCS3_au,\n",
    "        sd_STAT5_au,\n",
    "        sd_STAT5_au\n",
    "    ]))"
   ]
  },
  {
   "cell_type": "code",
   "execution_count": 27,
   "metadata": {},
   "outputs": [
    {
     "ename": "UndefVarError",
     "evalue": "UndefVarError: `data_CFUE_Long` not defined in `Main`\nSuggestion: check for spelling errors or missing imports.",
     "output_type": "error",
     "traceback": [
      "UndefVarError: `data_CFUE_Long` not defined in `Main`\n",
      "Suggestion: check for spelling errors or missing imports.\n",
      "\n",
      "Stacktrace:\n",
      " [1] top-level scope\n",
      "   @ y:\\likelihoodprofiler-cases\\notebook\\JAK2STAT5\\jl_notebook_cell_df34fa98e69747e1a8f8a730347b8e2f_Y102sZmlsZQ==.jl:1"
     ]
    }
   ],
   "source": [
    "df = DataFrame([recode(col, \"NaN\"=>missing) for col = eachcol(data_CFUE_Long)], names(data_CFUE_Long))"
   ]
  },
  {
   "cell_type": "code",
   "execution_count": 28,
   "metadata": {},
   "outputs": [
    {
     "ename": "UndefVarError",
     "evalue": "UndefVarError: `data_CFUE_Long` not defined in `Main`\nSuggestion: check for spelling errors or missing imports.",
     "output_type": "error",
     "traceback": [
      "UndefVarError: `data_CFUE_Long` not defined in `Main`\n",
      "Suggestion: check for spelling errors or missing imports.\n",
      "\n",
      "Stacktrace:\n",
      " [1] top-level scope\n",
      "   @ y:\\likelihoodprofiler-cases\\notebook\\JAK2STAT5\\jl_notebook_cell_df34fa98e69747e1a8f8a730347b8e2f_Y103sZmlsZQ==.jl:1"
     ]
    }
   ],
   "source": [
    "DataFrame([recode(col, missing=>NaN) for col = eachcol(data_CFUE_Long)], names(data_CFUE_Long))\n"
   ]
  },
  {
   "cell_type": "code",
   "execution_count": 29,
   "metadata": {},
   "outputs": [],
   "source": [
    "#CSV.write(\"C:\\\\Julia-1.4.2\\\\dev\\\\likelihoodprofiler-cases\\\\notebook\\\\JAK2STAT5_CFUE_Long_log10.csv\",df)"
   ]
  },
  {
   "cell_type": "code",
   "execution_count": 30,
   "metadata": {},
   "outputs": [
    {
     "ename": "UndefVarError",
     "evalue": "UndefVarError: `data_CFUE_DR7` not defined in `Main`\nSuggestion: check for spelling errors or missing imports.",
     "output_type": "error",
     "traceback": [
      "UndefVarError: `data_CFUE_DR7` not defined in `Main`\n",
      "Suggestion: check for spelling errors or missing imports.\n"
     ]
    }
   ],
   "source": [
    "data_CFUE_DR7"
   ]
  },
  {
   "cell_type": "code",
   "execution_count": 31,
   "metadata": {},
   "outputs": [],
   "source": []
  }
 ],
 "metadata": {
  "kernelspec": {
   "display_name": "Julia 1.11.3",
   "language": "julia",
   "name": "julia-1.11"
  },
  "language_info": {
   "file_extension": ".jl",
   "mimetype": "application/julia",
   "name": "julia",
   "version": "1.11.3"
  }
 },
 "nbformat": 4,
 "nbformat_minor": 4
}
