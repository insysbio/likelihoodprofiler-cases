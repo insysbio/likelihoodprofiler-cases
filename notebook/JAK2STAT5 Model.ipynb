{
 "cells": [
  {
   "cell_type": "markdown",
   "metadata": {},
   "source": [
    "## Jak2/STAT5 Model"
   ]
  },
  {
   "cell_type": "markdown",
   "metadata": {},
   "source": [
    "The goal of the notebook is to study practical identifiability of **JAK2/STAT5 Model** with *LikelihoodProfiler*. Identifiability of this model was analyzed in [Bachmann et al. (2011), Mol Syst Biol. ; 7: 516.](https://pubmed.ncbi.nlm.nih.gov/21772264/). We have translated the original Matlab model from [Bachmann_MSB2011 repo](https://github.com/Data2Dynamics/d2d/tree/master/arFramework3/Examples/Bachmann_MSB2011) to [Julia language](https://julialang.org/). \n",
    "The model is defined by the system of ODE"
   ]
  },
  {
   "cell_type": "markdown",
   "metadata": {},
   "source": [
    "### Initial Value Problem"
   ]
  },
  {
   "cell_type": "code",
   "execution_count": 1,
   "metadata": {},
   "outputs": [],
   "source": [
    "using DiffEqBase, DiffEqCallbacks, CSV, DataFrames, Sundials, RecursiveArrayTools\n",
    "\n",
    "#compartments\n",
    "const cyt = 0.4\n",
    "const nuc = 0.275\n",
    "\n",
    "function ode_func(du, u, p, t, epo_level, ActD, CISoe, SOCS3oe)\n",
    "    # 25 states:\n",
    "    (EpoRJAK2,\n",
    "    EpoRpJAK2,\n",
    "    p1EpoRpJAK2,\n",
    "    p2EpoRpJAK2,\n",
    "    p12EpoRpJAK2,\n",
    "    EpoRJAK2_CIS,\n",
    "    SHP1,\n",
    "    SHP1Act,\n",
    "    STAT5,\n",
    "    pSTAT5,\n",
    "    npSTAT5,\n",
    "    CISnRNA1,\n",
    "    CISnRNA2,\n",
    "    CISnRNA3,\n",
    "    CISnRNA4,\n",
    "    CISnRNA5,\n",
    "    CISRNA,\n",
    "    CIS,\n",
    "    SOCS3nRNA1,\n",
    "    SOCS3nRNA2,\n",
    "    SOCS3nRNA3,\n",
    "    SOCS3nRNA4,\n",
    "    SOCS3nRNA5,\n",
    "    SOCS3RNA,\n",
    "    SOCS3) = u\n",
    "    \n",
    "    # 26 parameters + 3 are initial conditions \n",
    "    (CISEqc,\n",
    "    CISEqcOE,\n",
    "    CISInh,\n",
    "    CISRNADelay,\n",
    "    CISRNAEqc,\n",
    "    CISRNATurn,\n",
    "    CISTurn,\n",
    "    EpoRActJAK2,\n",
    "    EpoRCISInh,\n",
    "    EpoRCISRemove,\n",
    "    JAK2ActEpo,\n",
    "    JAK2EpoRDeaSHP1,\n",
    "    SHP1ActEpoR,\n",
    "    SHP1Dea,\n",
    "    SHP1ProOE,\n",
    "    SOCS3Eqc,\n",
    "    SOCS3EqcOE,\n",
    "    SOCS3Inh,\n",
    "    SOCS3RNADelay,\n",
    "    SOCS3RNAEqc,\n",
    "    SOCS3RNATurn,\n",
    "    SOCS3Turn,\n",
    "    STAT5ActEpoR,\n",
    "    STAT5ActJAK2,\n",
    "    STAT5Exp,\n",
    "    STAT5Imp,\n",
    "    init_EpoRJAK2,\n",
    "    init_SHP1,\n",
    "    init_STAT5) = p\n",
    "    \n",
    "    # treatment\n",
    "    Epo = epo_level\n",
    "    \n",
    "    # rates\n",
    "    v1 = (Epo*EpoRJAK2*JAK2ActEpo)/(SOCS3*(SOCS3Inh / SOCS3Eqc) + 1)\n",
    "    v2 = EpoRpJAK2*(JAK2EpoRDeaSHP1 / init_SHP1)*SHP1Act\n",
    "    v3 = (EpoRpJAK2*EpoRActJAK2)/(SOCS3*(SOCS3Inh / SOCS3Eqc) + 1)\n",
    "    v4 = (3*EpoRpJAK2*EpoRActJAK2)/((EpoRCISInh*EpoRJAK2_CIS + 1)*(SOCS3*(SOCS3Inh / SOCS3Eqc) + 1))\n",
    "    v5 = (3*EpoRActJAK2*p1EpoRpJAK2)/((EpoRCISInh*EpoRJAK2_CIS + 1)*(SOCS3*(SOCS3Inh / SOCS3Eqc) + 1))\n",
    "    v6 = (EpoRActJAK2*p2EpoRpJAK2)/(SOCS3*(SOCS3Inh / SOCS3Eqc) + 1)\n",
    "    v7 = (JAK2EpoRDeaSHP1 / init_SHP1)*SHP1Act*p1EpoRpJAK2\n",
    "    v8 = (JAK2EpoRDeaSHP1 / init_SHP1)*SHP1Act*p2EpoRpJAK2\n",
    "    v9 = (JAK2EpoRDeaSHP1 / init_SHP1)*SHP1Act*p12EpoRpJAK2\n",
    "    v10 = EpoRJAK2_CIS*(EpoRCISRemove / init_EpoRJAK2)*(p12EpoRpJAK2 + p1EpoRpJAK2)\n",
    "    v11 = SHP1*(SHP1ActEpoR / init_EpoRJAK2)*(EpoRpJAK2 + p12EpoRpJAK2 + p1EpoRpJAK2 + p2EpoRpJAK2)\n",
    "    v12 = SHP1Dea*SHP1Act\n",
    "    v13 = (STAT5*(STAT5ActJAK2 / init_EpoRJAK2)*(EpoRpJAK2 + p12EpoRpJAK2 + p1EpoRpJAK2 + p2EpoRpJAK2))/(SOCS3*(SOCS3Inh / SOCS3Eqc) + 1)\n",
    "    v14 = (STAT5*(STAT5ActEpoR / init_EpoRJAK2^2)*(p12EpoRpJAK2 + p1EpoRpJAK2)^2)/((CIS*(CISInh / CISEqc) + 1)*(SOCS3*(SOCS3Inh / SOCS3Eqc) + 1))\n",
    "    v15 = STAT5Imp*pSTAT5\n",
    "    v16 = STAT5Exp*npSTAT5\n",
    "    v17 = -(CISRNAEqc / init_STAT5)*CISRNATurn*npSTAT5*(ActD - 1)\n",
    "    v18 = CISnRNA1*CISRNADelay\n",
    "    v19 = CISnRNA2*CISRNADelay\n",
    "    v20 = CISnRNA3*CISRNADelay\n",
    "    v21 = CISnRNA4*CISRNADelay\n",
    "    v22 = CISnRNA5*CISRNADelay\n",
    "    v23 = CISRNA*CISRNATurn\n",
    "    v24 = CISRNA*CISEqc*CISTurn\n",
    "    v25 = CIS*CISTurn\n",
    "    v26 = CISoe*CISTurn*CISEqcOE*CISEqc\n",
    "    v27 = -(SOCS3RNAEqc / init_STAT5)*SOCS3RNATurn*npSTAT5*(ActD - 1)\n",
    "    v28 = SOCS3nRNA1*SOCS3RNADelay\n",
    "    v29 = SOCS3nRNA2*SOCS3RNADelay\n",
    "    v30 = SOCS3nRNA3*SOCS3RNADelay\n",
    "    v31 = SOCS3nRNA4*SOCS3RNADelay\n",
    "    v32 = SOCS3nRNA5*SOCS3RNADelay\n",
    "    v33 = SOCS3RNA*SOCS3RNATurn\n",
    "    v34 = SOCS3RNA*SOCS3Eqc*SOCS3Turn\n",
    "    v35 = SOCS3*SOCS3Turn\n",
    "    v36 = SOCS3oe*SOCS3Turn*SOCS3EqcOE*SOCS3Eqc\n",
    "    \n",
    "    # rhs with parameters transformations\n",
    "    du[1] = EpoRpJAK2*(JAK2EpoRDeaSHP1 / init_SHP1)*SHP1Act + (JAK2EpoRDeaSHP1 / init_SHP1)*SHP1Act*p12EpoRpJAK2 + (JAK2EpoRDeaSHP1 / init_SHP1)*SHP1Act*p1EpoRpJAK2 + (JAK2EpoRDeaSHP1 / init_SHP1)*SHP1Act*p2EpoRpJAK2 - (Epo*EpoRJAK2*JAK2ActEpo)/(SOCS3*(SOCS3Inh / SOCS3Eqc) + 1)\n",
    "    du[2] = (Epo*EpoRJAK2*JAK2ActEpo)/(SOCS3*(SOCS3Inh / SOCS3Eqc) + 1) - (EpoRpJAK2*EpoRActJAK2)/(SOCS3*(SOCS3Inh / SOCS3Eqc) + 1) - (3*EpoRpJAK2*EpoRActJAK2)/((EpoRCISInh*EpoRJAK2_CIS + 1)*(SOCS3*(SOCS3Inh / SOCS3Eqc) + 1)) - EpoRpJAK2*(JAK2EpoRDeaSHP1 / init_SHP1)*SHP1Act\n",
    "    du[3] = (EpoRpJAK2*EpoRActJAK2)/(SOCS3*(SOCS3Inh / SOCS3Eqc) + 1) - (JAK2EpoRDeaSHP1 / init_SHP1)*SHP1Act*p1EpoRpJAK2 - (3*EpoRActJAK2*p1EpoRpJAK2)/((EpoRCISInh*EpoRJAK2_CIS + 1)*(SOCS3*(SOCS3Inh / SOCS3Eqc) + 1))\n",
    "    du[4] = (3*EpoRpJAK2*EpoRActJAK2)/((EpoRCISInh*EpoRJAK2_CIS + 1)*(SOCS3*(SOCS3Inh / SOCS3Eqc) + 1)) - (EpoRActJAK2*p2EpoRpJAK2)/(SOCS3*(SOCS3Inh / SOCS3Eqc) + 1) - (JAK2EpoRDeaSHP1 / init_SHP1)*SHP1Act*p2EpoRpJAK2\n",
    "    du[5] = (EpoRActJAK2*p2EpoRpJAK2)/(SOCS3*(SOCS3Inh / SOCS3Eqc) + 1) - (JAK2EpoRDeaSHP1 / init_SHP1)*SHP1Act*p12EpoRpJAK2 + (3*EpoRActJAK2*p1EpoRpJAK2)/((EpoRCISInh*EpoRJAK2_CIS + 1)*(SOCS3*(SOCS3Inh / SOCS3Eqc) + 1))\n",
    "    du[6] = -EpoRJAK2_CIS*(EpoRCISRemove / init_EpoRJAK2)*(p12EpoRpJAK2 + p1EpoRpJAK2)\n",
    "    du[7] = SHP1Dea*SHP1Act - SHP1*(SHP1ActEpoR / init_EpoRJAK2)*(EpoRpJAK2 + p12EpoRpJAK2 + p1EpoRpJAK2 + p2EpoRpJAK2)\n",
    "    du[8] = SHP1*(SHP1ActEpoR / init_EpoRJAK2)*(EpoRpJAK2 + p12EpoRpJAK2 + p1EpoRpJAK2 + p2EpoRpJAK2) - SHP1Dea*SHP1Act\n",
    "    du[9] = (STAT5Exp*npSTAT5*nuc)/cyt - (STAT5*(STAT5ActJAK2 / init_EpoRJAK2)*(EpoRpJAK2 + p12EpoRpJAK2 + p1EpoRpJAK2 + p2EpoRpJAK2))/(SOCS3*(SOCS3Inh / SOCS3Eqc) + 1) - (STAT5*(STAT5ActEpoR / init_EpoRJAK2^2)*(p12EpoRpJAK2 + p1EpoRpJAK2)^2)/((CIS*(CISInh / CISEqc) + 1)*(SOCS3*(SOCS3Inh / SOCS3Eqc) + 1))\n",
    "    du[10] = (STAT5*(STAT5ActJAK2 / init_EpoRJAK2)*(EpoRpJAK2 + p12EpoRpJAK2 + p1EpoRpJAK2 + p2EpoRpJAK2))/(SOCS3*(SOCS3Inh / SOCS3Eqc) + 1) - STAT5Imp*pSTAT5 + (STAT5*(STAT5ActEpoR / init_EpoRJAK2^2)*(p12EpoRpJAK2 + p1EpoRpJAK2)^2)/((CIS*(CISInh / CISEqc) + 1)*(SOCS3*(SOCS3Inh / SOCS3Eqc) + 1))\n",
    "    du[11] = (STAT5Imp*cyt*pSTAT5)/nuc - STAT5Exp*npSTAT5\n",
    "    du[12] = - CISnRNA1*CISRNADelay - (CISRNAEqc / init_STAT5)*CISRNATurn*npSTAT5*(ActD - 1)\n",
    "    du[13] = CISnRNA1*CISRNADelay - CISnRNA2*CISRNADelay\n",
    "    du[14] = CISnRNA2*CISRNADelay - CISnRNA3*CISRNADelay\n",
    "    du[15] = CISnRNA3*CISRNADelay - CISnRNA4*CISRNADelay\n",
    "    du[16] = CISnRNA4*CISRNADelay - CISnRNA5*CISRNADelay\n",
    "    du[17] = (CISnRNA5*CISRNADelay*nuc)/cyt - CISRNA*CISRNATurn\n",
    "    du[18] = CISRNA*CISEqc*CISTurn - CIS*CISTurn + CISoe*CISTurn*CISEqcOE * CISEqc\n",
    "    du[19] = -SOCS3nRNA1*SOCS3RNADelay - (SOCS3RNAEqc / init_STAT5)*SOCS3RNATurn*npSTAT5*(ActD - 1)\n",
    "    du[20] = SOCS3nRNA1*SOCS3RNADelay - SOCS3nRNA2*SOCS3RNADelay\n",
    "    du[21] = SOCS3nRNA2*SOCS3RNADelay - SOCS3nRNA3*SOCS3RNADelay\n",
    "    du[22] = SOCS3nRNA3*SOCS3RNADelay - SOCS3nRNA4*SOCS3RNADelay\n",
    "    du[23] = SOCS3nRNA4*SOCS3RNADelay - SOCS3nRNA5*SOCS3RNADelay\n",
    "    du[24] = (SOCS3nRNA5*SOCS3RNADelay*nuc)/cyt - SOCS3RNA*SOCS3RNATurn\n",
    "    du[25] = SOCS3RNA*SOCS3Eqc*SOCS3Turn - SOCS3*SOCS3Turn + SOCS3oe*SOCS3Turn*SOCS3EqcOE * SOCS3Eqc\n",
    "end;"
   ]
  },
  {
   "cell_type": "markdown",
   "metadata": {},
   "source": [
    "The initial conditions and the ODE Problem "
   ]
  },
  {
   "cell_type": "code",
   "execution_count": 2,
   "metadata": {},
   "outputs": [],
   "source": [
    "# IVP\n",
    "function u_init(p,t0)\n",
    "    u0 = zeros(25)\n",
    "    u0[1] = p[27]\n",
    "    u0[7] = p[28]\n",
    "    u0[9] = p[29]\n",
    "    return u0\n",
    "end\n",
    "\n",
    "prob(p,epo_level,ActD,CISoe,SOCS3oe) = ODEProblem((du,u,p,t)->ode_func(du,u,p,t,epo_level,ActD,CISoe,SOCS3oe), u_init, (0.0,100.0), p);"
   ]
  },
  {
   "cell_type": "markdown",
   "metadata": {},
   "source": [
    "### Likelihood Function"
   ]
  },
  {
   "cell_type": "markdown",
   "metadata": {},
   "source": [
    "The likelihood function is defined as"
   ]
  },
  {
   "cell_type": "code",
   "execution_count": 3,
   "metadata": {},
   "outputs": [
    {
     "data": {
      "text/plain": [
       "L_component (generic function with 1 method)"
      ]
     },
     "execution_count": 3,
     "metadata": {},
     "output_type": "execute_result"
    }
   ],
   "source": [
    "function L(sim,data,σ)\n",
    "    loss = 0.0\n",
    "    obs = names(data)[2:end]  \n",
    "\n",
    "    for (i,id) in enumerate(obs)\n",
    "        loss_i = L_component(sim[i,:],data[!,id],σ[i])\n",
    "        loss += loss_i\n",
    "    end\n",
    "    return loss\n",
    "end\n",
    "    \n",
    "function L_component(sim,data,σ_i)\n",
    "    loss_i = 0.0\n",
    "    \n",
    "    for i in eachindex(sim)\n",
    "        if !isnan(data[i])\n",
    "            loss_i += ((sim[i]-data[i])/σ_i)^2 + 2*log(sqrt(2π)*σ_i)\n",
    "        end\n",
    "    end\n",
    "    return loss_i\n",
    "end"
   ]
  },
  {
   "cell_type": "markdown",
   "metadata": {},
   "source": [
    "### Experimental Data"
   ]
  },
  {
   "cell_type": "code",
   "execution_count": 4,
   "metadata": {
    "scrolled": true
   },
   "outputs": [],
   "source": [
    "data_CFUE_Long = DataFrame!(CSV.File(\"./JAK2STAT5_CFUE_Long_log10.csv\"))\n",
    "data_CFUE_Concentrations = DataFrame!(CSV.File(\"./JAK2STAT5_CFUE_Concentrations_log10.csv\"))\n",
    "data_CFUE_RNA = DataFrame!(CSV.File(\"./JAK2STAT5_CFUE_RNA_log10.csv\"))\n",
    "data_CFUE_ActD = [\n",
    "    DataFrame!(CSV.File(\"./JAK2STAT5_CFUE_ActD0_log10.csv\")),\n",
    "    DataFrame!(CSV.File(\"./JAK2STAT5_CFUE_ActD1_log10.csv\"))\n",
    "]\n",
    "data_CFUE_Fine = DataFrame!(CSV.File(\"./JAK2STAT5_CFUE_Fine_log10.csv\"))\n",
    "data_CFUE_CISoe =[\n",
    "    DataFrame!(CSV.File(\"./JAK2STAT5_CFUE_CISoe0_log10.csv\")),\n",
    "    DataFrame!(CSV.File(\"./JAK2STAT5_CFUE_CISoe1_log10.csv\"))\n",
    "]\n",
    "data_CFUE_CISoe_pEpoR =[\n",
    "    DataFrame!(CSV.File(\"./JAK2STAT5_CFUE_CISoe_pEpoR0_log10.csv\")),\n",
    "    DataFrame!(CSV.File(\"./JAK2STAT5_CFUE_CISoe_pEpoR1_log10.csv\"))\n",
    "]\n",
    "data_CFUE_SOCS3oe =[\n",
    "    DataFrame!(CSV.File(\"./JAK2STAT5_CFUE_SOCS3oe0_log10.csv\")),\n",
    "    DataFrame!(CSV.File(\"./JAK2STAT5_CFUE_SOCS3oe1_log10.csv\"))\n",
    "]\n",
    "data_CFUE_SHP1oe =[\n",
    "    DataFrame!(CSV.File(\"./JAK2STAT5_CFUE_SHP1oe0_log10.csv\")),\n",
    "    DataFrame!(CSV.File(\"./JAK2STAT5_CFUE_SHP1oe1_log10.csv\"))\n",
    "]\n",
    "data_CFUE_DR7 =[\n",
    "    DataFrame!(CSV.File(\"./JAK2STAT5_CFUE_DR72.5e-5_log10.csv\")),\n",
    "    DataFrame!(CSV.File(\"./JAK2STAT5_CFUE_DR72.5e-6_log10.csv\")),\n",
    "    DataFrame!(CSV.File(\"./JAK2STAT5_CFUE_DR72.5e-7_log10.csv\")),\n",
    "    DataFrame!(CSV.File(\"./JAK2STAT5_CFUE_DR72.5e-8_log10.csv\")),\n",
    "    DataFrame!(CSV.File(\"./JAK2STAT5_CFUE_DR72.5e-9_log10.csv\"))\n",
    "]\n",
    "data_CFUE_DR30 =[\n",
    "    DataFrame!(CSV.File(\"./JAK2STAT5_CFUE_DR301.25e-6_log10.csv\")),\n",
    "    DataFrame!(CSV.File(\"./JAK2STAT5_CFUE_DR301.25e-7_log10.csv\")),\n",
    "    DataFrame!(CSV.File(\"./JAK2STAT5_CFUE_DR302.5e-6_log10.csv\")),\n",
    "    DataFrame!(CSV.File(\"./JAK2STAT5_CFUE_DR302.5e-7_log10.csv\")),\n",
    "    DataFrame!(CSV.File(\"./JAK2STAT5_CFUE_DR302.5e-8_log10.csv\")),\n",
    "    DataFrame!(CSV.File(\"./JAK2STAT5_CFUE_DR302.5e-9_log10.csv\"))\n",
    "]\n",
    "data_CFUE_DR10 =[\n",
    "    DataFrame!(CSV.File(\"./JAK2STAT5_CFUE_DR101.25e-7_log10.csv\")),\n",
    "    DataFrame!(CSV.File(\"./JAK2STAT5_CFUE_DR101.25e-8_log10.csv\")),\n",
    "    DataFrame!(CSV.File(\"./JAK2STAT5_CFUE_DR101.75e-8_log10.csv\")),\n",
    "    DataFrame!(CSV.File(\"./JAK2STAT5_CFUE_DR101.7675e-7_log10.csv\")),\n",
    "    DataFrame!(CSV.File(\"./JAK2STAT5_CFUE_DR102.5e-6_log10.csv\")),\n",
    "    DataFrame!(CSV.File(\"./JAK2STAT5_CFUE_DR102.5e-7_log10.csv\"))\n",
    "]\n",
    "data_CFUE_DR90 =[\n",
    "    DataFrame!(CSV.File(\"./JAK2STAT5_CFUE_DR901.25e-7_log10.csv\")),\n",
    "    DataFrame!(CSV.File(\"./JAK2STAT5_CFUE_DR902.5e-6_log10.csv\")),\n",
    "    DataFrame!(CSV.File(\"./JAK2STAT5_CFUE_DR902.5e-7_log10.csv\")),\n",
    "    DataFrame!(CSV.File(\"./JAK2STAT5_CFUE_DR902.5e-8_log10.csv\")),\n",
    "    DataFrame!(CSV.File(\"./JAK2STAT5_CFUE_DR902.5e-9_log10.csv\"))\n",
    "];"
   ]
  },
  {
   "cell_type": "code",
   "execution_count": 5,
   "metadata": {},
   "outputs": [],
   "source": [
    "# fitted sd\n",
    "const sd_CIS_abs = 0.071666890399901\n",
    "const sd_CIS_au = 0.134037028009804\n",
    "const sd_JAK2EpoR_au = 0.191838137085675\n",
    "const sd_RNA_fold = 0.103074376969697\n",
    "const sd_SHP1_abs = 0.064904672549311\n",
    "const sd_SHP1_au = 0.077438644411215\n",
    "const sd_SOCS3_abs = 0.10271619027042\n",
    "const sd_SOCS3_au = 0.076348614779106\n",
    "const sd_STAT5_abs = 0.119518171917816\n",
    "const sd_STAT5_au = 0.123518909217589\n",
    "const sd_pSTAT5_rel = 2.56704055700378\n",
    "const sd_pSTAT5_socs3oe = 0.573852497761907;"
   ]
  },
  {
   "cell_type": "code",
   "execution_count": 6,
   "metadata": {},
   "outputs": [
    {
     "data": {
      "text/plain": [
       "solve_prob (generic function with 1 method)"
      ]
     },
     "execution_count": 6,
     "metadata": {},
     "output_type": "execute_result"
    }
   ],
   "source": [
    "function solve_prob(prob, saveat, saving_func)\n",
    "    \n",
    "    out = SavedValues(Float64, Vector{Float64})\n",
    "    scb = SavingCallback(saving_func, out, saveat=saveat)\n",
    "    \n",
    "    tspan = (0.0, saveat[end])\n",
    "    \n",
    "    prob = remake(prob, tspan=tspan, callback=scb)\n",
    "    \n",
    "    sol = solve(prob, \n",
    "                CVODE_BDF();\n",
    "                save_start = false,\n",
    "                save_end = false,\n",
    "                save_everystep = false,\n",
    "                reltol = 1e-12,\n",
    "                abstol = 1e-17\n",
    "    )\n",
    "    return VectorOfArray(sol.prob.kwargs[:callback].affect!.saved_values.saveval)\n",
    "end"
   ]
  },
  {
   "cell_type": "markdown",
   "metadata": {},
   "source": [
    "#### Experiment: Long time-course of JAK2-STAT5 phosphorylation dynamics in CFU-E cells (CFU-E Long)"
   ]
  },
  {
   "cell_type": "code",
   "execution_count": 7,
   "metadata": {},
   "outputs": [
    {
     "data": {
      "text/plain": [
       "L_CFUE_Long (generic function with 1 method)"
      ]
     },
     "execution_count": 7,
     "metadata": {},
     "output_type": "execute_result"
    }
   ],
   "source": [
    "# fitted offset and scale parameters\n",
    "const offset_pJAK2_long = 0.009473351822798\n",
    "const offset_pEpoR_long = 0.004391399791279\n",
    "const offset_CIS_long = 0.026460000624405\n",
    "const offset_SOCS3_long = 0.114475234936677\n",
    "const offset_pSTAT5_long = 0.001093070638337\n",
    "const scale_tSTAT5_long = 0.762143611844065\n",
    "const scale_pJAK2_long = 0.882775356861714\n",
    "const scale_pEpoR_long = 0.256529988627087\n",
    "const scale_CIS_long = 16.4036102124066\n",
    "const scale_SOCS3_long = 15.485524391452\n",
    "const scale_pSTAT5_long = 1.47372211945355\n",
    "\n",
    "function saving_CFUE_Long(u, t, integrator)\n",
    "    (EpoRJAK2,EpoRpJAK2,p1EpoRpJAK2,p2EpoRpJAK2,p12EpoRpJAK2,EpoRJAK2_CIS,SHP1,SHP1Act,STAT5,pSTAT5,npSTAT5,\n",
    "    CISnRNA1,CISnRNA2,CISnRNA3,CISnRNA4,CISnRNA5,CISRNA,CIS,SOCS3nRNA1,SOCS3nRNA2,SOCS3nRNA3,SOCS3nRNA4,\n",
    "    SOCS3nRNA5,SOCS3RNA,SOCS3) = u\n",
    "    (CISEqc,CISEqcOE,CISInh,CISRNADelay,CISRNAEqc,CISRNATurn,CISTurn,EpoRActJAK2,EpoRCISInh,\n",
    "    EpoRCISRemove,JAK2ActEpo,JAK2EpoRDeaSHP1,SHP1ActEpoR,SHP1Dea,SHP1ProOE,SOCS3Eqc,SOCS3EqcOE,\n",
    "    SOCS3Inh,SOCS3RNADelay,SOCS3RNAEqc,SOCS3RNATurn,SOCS3Turn,STAT5ActEpoR,STAT5ActJAK2,STAT5Exp,\n",
    "    STAT5Imp,init_EpoRJAK2,init_SHP1,init_STAT5) = integrator.p\n",
    "    \n",
    "    # output values\n",
    "    pJAK2_au = log10(offset_pJAK2_long + 2 * scale_pJAK2_long * (EpoRpJAK2 + p12EpoRpJAK2 + p1EpoRpJAK2 + p2EpoRpJAK2) / init_EpoRJAK2)\n",
    "    pEpoR_au = log10(offset_pEpoR_long + 16 * scale_pEpoR_long * (p12EpoRpJAK2 + p1EpoRpJAK2 + p2EpoRpJAK2) / init_EpoRJAK2)\n",
    "    CIS_au = log10(offset_CIS_long + CIS * scale_CIS_long / CISEqc )  #??? / (CISEqc * CISRNAEqc * init_STAT5)\n",
    "    SOCS3_au = log10(offset_SOCS3_long + SOCS3 * scale_SOCS3_long / SOCS3Eqc )  #??? / (SOCS3Eqc * SOCS3RNAEqc * init_STAT5)\n",
    "    tSTAT5_au = log10(scale_tSTAT5_long * (STAT5 + pSTAT5) / init_STAT5)\n",
    "    pSTAT5_au = log10(offset_pSTAT5_long + pSTAT5 * scale_pSTAT5_long / init_STAT5)\n",
    "    \n",
    "    return [pJAK2_au, pEpoR_au, CIS_au, SOCS3_au, tSTAT5_au, pSTAT5_au]\n",
    "end\n",
    "\n",
    "function L_CFUE_Long(p)\n",
    "    ActD = 0.0\n",
    "    CISoe = 0.0\n",
    "    SOCS3oe = 0.0\n",
    "    SHP1oe = 0.0\n",
    "    epo_level = 1.25e-7\n",
    "    \n",
    "    prob_CFUE_Long = prob(p,epo_level,ActD,CISoe,SOCS3oe)  \n",
    "    saveat = Float64.(data_CFUE_Long[!,:time])\n",
    "    \n",
    "    sim = solve_prob(prob_CFUE_Long, saveat, saving_CFUE_Long)\n",
    "    \n",
    "    σ = [\n",
    "        sd_JAK2EpoR_au,\n",
    "        sd_JAK2EpoR_au,\n",
    "        sd_CIS_au,\n",
    "        sd_SOCS3_au,\n",
    "        sd_STAT5_au,\n",
    "        sd_STAT5_au\n",
    "    ]\n",
    "    loss = L(sim, data_CFUE_Long, σ) \n",
    "    #@show loss\n",
    "    return loss\n",
    "end"
   ]
  },
  {
   "cell_type": "markdown",
   "metadata": {},
   "source": [
    "#### Experiment: Absolute concentrations of proteins in CFU-E cells (CFU-E Concentrations)"
   ]
  },
  {
   "cell_type": "code",
   "execution_count": 8,
   "metadata": {},
   "outputs": [
    {
     "data": {
      "text/plain": [
       "L_CFUE_Concentrations (generic function with 1 method)"
      ]
     },
     "execution_count": 8,
     "metadata": {},
     "output_type": "execute_result"
    }
   ],
   "source": [
    "# fitted offset and scale parameters\n",
    "const offset_pSTAT5_conc = 0.236827475949589\n",
    "\n",
    "function saving_CFUE_Concentrations(u, t, integrator)\n",
    "    (EpoRJAK2,EpoRpJAK2,p1EpoRpJAK2,p2EpoRpJAK2,p12EpoRpJAK2,EpoRJAK2_CIS,SHP1,SHP1Act,STAT5,pSTAT5,npSTAT5,\n",
    "    CISnRNA1,CISnRNA2,CISnRNA3,CISnRNA4,CISnRNA5,CISRNA,CIS,SOCS3nRNA1,SOCS3nRNA2,SOCS3nRNA3,SOCS3nRNA4,\n",
    "    SOCS3nRNA5,SOCS3RNA,SOCS3) = u\n",
    "    (CISEqc,CISEqcOE,CISInh,CISRNADelay,CISRNAEqc,CISRNATurn,CISTurn,EpoRActJAK2,EpoRCISInh,\n",
    "    EpoRCISRemove,JAK2ActEpo,JAK2EpoRDeaSHP1,SHP1ActEpoR,SHP1Dea,SHP1ProOE,SOCS3Eqc,SOCS3EqcOE,\n",
    "    SOCS3Inh,SOCS3RNADelay,SOCS3RNAEqc,SOCS3RNATurn,SOCS3Turn,STAT5ActEpoR,STAT5ActJAK2,STAT5Exp,\n",
    "    STAT5Imp,init_EpoRJAK2,init_SHP1,init_STAT5) = integrator.p\n",
    "    \n",
    "    # output values\n",
    "    STAT5_abs = log10(STAT5)\n",
    "    SHP1_abs = log10(SHP1 + SHP1Act)\n",
    "    CIS_abs = log10(CIS)\n",
    "    SOCS3_abs = log10(SOCS3)\n",
    "    pSTAT5B_rel = offset_pSTAT5_conc + 100 * pSTAT5 / (STAT5 + pSTAT5)\n",
    "    \n",
    "    return [STAT5_abs, SHP1_abs, CIS_abs, SOCS3_abs, pSTAT5B_rel]\n",
    "end\n",
    "\n",
    "function L_CFUE_Concentrations(p)\n",
    "    ActD = 0.0\n",
    "    CISoe = 0.0\n",
    "    SOCS3oe = 0.0\n",
    "    SHP1oe = 0.0\n",
    "    epo_level = 1.25e-7\n",
    "    \n",
    "    prob_CFUE_Concentrations = prob(p,epo_level,ActD,CISoe,SOCS3oe)  \n",
    "    saveat = Float64.(data_CFUE_Concentrations[!,:time])\n",
    "    \n",
    "    sim = solve_prob(prob_CFUE_Concentrations, saveat, saving_CFUE_Concentrations)\n",
    "    \n",
    "    σ = [\n",
    "        sd_STAT5_abs,\n",
    "        sd_SHP1_abs,\n",
    "        sd_CIS_abs,\n",
    "        sd_SOCS3_abs,\n",
    "        sd_pSTAT5_rel\n",
    "    ]\n",
    "    loss = L(sim, data_CFUE_Concentrations, σ)\n",
    "    #@show loss\n",
    "    return loss \n",
    "    \n",
    "end"
   ]
  },
  {
   "cell_type": "markdown",
   "metadata": {},
   "source": [
    "#### Experiment: Time-course of CIS and SOCS3 mRNA expression (CFU-E RNA)"
   ]
  },
  {
   "cell_type": "code",
   "execution_count": 9,
   "metadata": {},
   "outputs": [
    {
     "data": {
      "text/plain": [
       "L_CFUE_RNA (generic function with 1 method)"
      ]
     },
     "execution_count": 9,
     "metadata": {},
     "output_type": "execute_result"
    }
   ],
   "source": [
    "# fitted offset and scale parameters\n",
    "const scale_SOCS3RNA_foldA = 56.9631412510002\n",
    "const scale_SOCS3RNA_foldB = 49.074989211721\n",
    "const scale_SOCS3RNA_foldC = 80.7316820439984\n",
    "const scale_CISRNA_foldA = 33.2822368277369\n",
    "const scale_CISRNA_foldB = 31.0176342778512\n",
    "const scale_CISRNA_foldC = 19.6194113406379\n",
    "\n",
    "function saving_CFUE_RNA(u, t, integrator)\n",
    "    (EpoRJAK2,EpoRpJAK2,p1EpoRpJAK2,p2EpoRpJAK2,p12EpoRpJAK2,EpoRJAK2_CIS,SHP1,SHP1Act,STAT5,pSTAT5,npSTAT5,\n",
    "    CISnRNA1,CISnRNA2,CISnRNA3,CISnRNA4,CISnRNA5,CISRNA,CIS,SOCS3nRNA1,SOCS3nRNA2,SOCS3nRNA3,SOCS3nRNA4,\n",
    "    SOCS3nRNA5,SOCS3RNA,SOCS3) = u\n",
    "    (CISEqc,CISEqcOE,CISInh,CISRNADelay,CISRNAEqc,CISRNATurn,CISTurn,EpoRActJAK2,EpoRCISInh,\n",
    "    EpoRCISRemove,JAK2ActEpo,JAK2EpoRDeaSHP1,SHP1ActEpoR,SHP1Dea,SHP1ProOE,SOCS3Eqc,SOCS3EqcOE,\n",
    "    SOCS3Inh,SOCS3RNADelay,SOCS3RNAEqc,SOCS3RNATurn,SOCS3Turn,STAT5ActEpoR,STAT5ActJAK2,STAT5Exp,\n",
    "    STAT5Imp,init_EpoRJAK2,init_SHP1,init_STAT5) = integrator.p\n",
    "    \n",
    "    # output values\n",
    "    SOCS3RNA_foldA = log10(SOCS3RNA * scale_SOCS3RNA_foldA / SOCS3RNAEqc + 1)\n",
    "    SOCS3RNA_foldB = log10(SOCS3RNA * scale_SOCS3RNA_foldB / SOCS3RNAEqc + 1)\n",
    "    SOCS3RNA_foldC = log10(SOCS3RNA * scale_SOCS3RNA_foldC / SOCS3RNAEqc + 1)\n",
    "    CISRNA_foldA = log10(CISRNA * scale_CISRNA_foldA / CISRNAEqc + 1)\n",
    "    CISRNA_foldB = log10(CISRNA * scale_CISRNA_foldB / CISRNAEqc + 1)\n",
    "    CISRNA_foldC = log10(CISRNA * scale_CISRNA_foldC / CISRNAEqc + 1)\n",
    "    \n",
    "    return [SOCS3RNA_foldA, SOCS3RNA_foldB, SOCS3RNA_foldC, CISRNA_foldA, CISRNA_foldB, CISRNA_foldC]\n",
    "end\n",
    "\n",
    "function L_CFUE_RNA(p)\n",
    "    ActD = 0.0\n",
    "    CISoe = 0.0\n",
    "    SOCS3oe = 0.0\n",
    "    SHP1oe = 0.0\n",
    "    epo_level = 1.25e-7\n",
    "    \n",
    "    prob_CFUE_RNA = prob(p,epo_level,ActD,CISoe,SOCS3oe)  \n",
    "    saveat = Float64.(data_CFUE_RNA[!,:time])\n",
    "    \n",
    "    sim = solve_prob(prob_CFUE_RNA, saveat, saving_CFUE_RNA)\n",
    "    \n",
    "    σ = [\n",
    "        sd_RNA_fold,\n",
    "        sd_RNA_fold,\n",
    "        sd_RNA_fold,\n",
    "        sd_RNA_fold,\n",
    "        sd_RNA_fold,\n",
    "        sd_RNA_fold\n",
    "    ]\n",
    "    loss = L(sim, data_CFUE_RNA, σ)\n",
    "    #@show loss\n",
    "    return loss\n",
    "    \n",
    "end"
   ]
  },
  {
   "cell_type": "markdown",
   "metadata": {},
   "source": [
    "#### Experiment: Time-course of JAK2-STAT5 phosphorylation dynamics in CFU-E cells with Actinomycin D treatment (CFU-E ActD)"
   ]
  },
  {
   "cell_type": "code",
   "execution_count": 10,
   "metadata": {},
   "outputs": [
    {
     "data": {
      "text/plain": [
       "L_CFUE_ActD (generic function with 1 method)"
      ]
     },
     "execution_count": 10,
     "metadata": {},
     "output_type": "execute_result"
    }
   ],
   "source": [
    "# fitted offset and scale parameters\n",
    "const offset_pJAK2_actd = 0.017059890602388\n",
    "const offset_pEpoR_actd = 0.018840236081137\n",
    "const offset_CIS_actd = 0.009388328725541\n",
    "const offset_pSTAT5_actd = 0.001868785567417\n",
    "const scale_tSTAT5_actd = 0.815207201779241\n",
    "const scale_pJAK2_actd = 0.809491692283694\n",
    "const scale_pEpoR_actd = 0.215657294488182\n",
    "const scale_CIS_actd = 14.5490143154214\n",
    "const scale_pSTAT5_actd = 1.09743435047828\n",
    "\n",
    "function saving_CFUE_ActD(u, t, integrator)\n",
    "    (EpoRJAK2,EpoRpJAK2,p1EpoRpJAK2,p2EpoRpJAK2,p12EpoRpJAK2,EpoRJAK2_CIS,SHP1,SHP1Act,STAT5,pSTAT5,npSTAT5,\n",
    "    CISnRNA1,CISnRNA2,CISnRNA3,CISnRNA4,CISnRNA5,CISRNA,CIS,SOCS3nRNA1,SOCS3nRNA2,SOCS3nRNA3,SOCS3nRNA4,\n",
    "    SOCS3nRNA5,SOCS3RNA,SOCS3) = u\n",
    "    (CISEqc,CISEqcOE,CISInh,CISRNADelay,CISRNAEqc,CISRNATurn,CISTurn,EpoRActJAK2,EpoRCISInh,\n",
    "    EpoRCISRemove,JAK2ActEpo,JAK2EpoRDeaSHP1,SHP1ActEpoR,SHP1Dea,SHP1ProOE,SOCS3Eqc,SOCS3EqcOE,\n",
    "    SOCS3Inh,SOCS3RNADelay,SOCS3RNAEqc,SOCS3RNATurn,SOCS3Turn,STAT5ActEpoR,STAT5ActJAK2,STAT5Exp,\n",
    "    STAT5Imp,init_EpoRJAK2,init_SHP1,init_STAT5) = integrator.p\n",
    "    \n",
    "    # output values\n",
    "    pJAK2_au = log10(offset_pJAK2_actd + 2 * scale_pJAK2_actd * (EpoRpJAK2 + p12EpoRpJAK2 + p1EpoRpJAK2 + p2EpoRpJAK2) / init_EpoRJAK2)\n",
    "    pEpoR_au = log10(offset_pEpoR_actd + 16 * scale_pEpoR_actd * (p12EpoRpJAK2 + p1EpoRpJAK2 + p2EpoRpJAK2) / init_EpoRJAK2)\n",
    "    tSTAT5_au = log10(scale_tSTAT5_actd * (STAT5 + pSTAT5) / init_STAT5)\n",
    "    pSTAT5_au = log10(offset_pSTAT5_actd + pSTAT5 * scale_pSTAT5_actd / init_STAT5)\n",
    "    CIS_au = log10(offset_CIS_actd + CIS * scale_CIS_actd / CISEqc )  #??? / (CISEqc * CISRNAEqc * init_STAT5)\n",
    "    \n",
    "    return [pJAK2_au, pEpoR_au, tSTAT5_au, pSTAT5_au, CIS_au]\n",
    "end\n",
    "\n",
    "function L_CFUE_ActD(p)\n",
    "\n",
    "    CISoe = 0.0\n",
    "    SOCS3oe = 0.0\n",
    "    SHP1oe = 0.0\n",
    "    epo_level = 1.25e-7\n",
    "    \n",
    "    σ = [\n",
    "        sd_JAK2EpoR_au,\n",
    "        sd_JAK2EpoR_au,\n",
    "        sd_STAT5_au,\n",
    "        sd_STAT5_au,\n",
    "        sd_CIS_au\n",
    "    ]\n",
    "    \n",
    "    loss = 0.0\n",
    "    for (i,ActD) in enumerate([0.0, 1.0])\n",
    "    \n",
    "        prob_CFUE_ActD = prob(p,epo_level,ActD,CISoe,SOCS3oe)  \n",
    "        saveat = Float64.(data_CFUE_ActD[i][!,:time])\n",
    "    \n",
    "        sim = solve_prob(prob_CFUE_ActD, saveat, saving_CFUE_ActD)\n",
    "        \n",
    "        loss += L(sim, data_CFUE_ActD[i], σ) \n",
    "    end\n",
    "    #@show loss\n",
    "    return loss \n",
    "end"
   ]
  },
  {
   "cell_type": "markdown",
   "metadata": {},
   "source": [
    "#### Experiment: Time-course of JAK2-STAT5 phosphorylation dynamics in CFU-E cells densely sampled (CFU-E Fine)"
   ]
  },
  {
   "cell_type": "code",
   "execution_count": 11,
   "metadata": {},
   "outputs": [
    {
     "data": {
      "text/plain": [
       "L_CFUE_Fine (generic function with 1 method)"
      ]
     },
     "execution_count": 11,
     "metadata": {},
     "output_type": "execute_result"
    }
   ],
   "source": [
    "# fitted offset and scale parameters\n",
    "const offset_pJAK2_fine = 0.021658276199496\n",
    "const offset_pEpoR_fine = 0.064550876993068\n",
    "const scale_pJAK2_fine = 0.400770707451671\n",
    "const scale_pEpoR_fine = 0.080269467995686\n",
    "\n",
    "function saving_CFUE_Fine(u, t, integrator)\n",
    "    (EpoRJAK2,EpoRpJAK2,p1EpoRpJAK2,p2EpoRpJAK2,p12EpoRpJAK2,EpoRJAK2_CIS,SHP1,SHP1Act,STAT5,pSTAT5,npSTAT5,\n",
    "    CISnRNA1,CISnRNA2,CISnRNA3,CISnRNA4,CISnRNA5,CISRNA,CIS,SOCS3nRNA1,SOCS3nRNA2,SOCS3nRNA3,SOCS3nRNA4,\n",
    "    SOCS3nRNA5,SOCS3RNA,SOCS3) = u\n",
    "    (CISEqc,CISEqcOE,CISInh,CISRNADelay,CISRNAEqc,CISRNATurn,CISTurn,EpoRActJAK2,EpoRCISInh,\n",
    "    EpoRCISRemove,JAK2ActEpo,JAK2EpoRDeaSHP1,SHP1ActEpoR,SHP1Dea,SHP1ProOE,SOCS3Eqc,SOCS3EqcOE,\n",
    "    SOCS3Inh,SOCS3RNADelay,SOCS3RNAEqc,SOCS3RNATurn,SOCS3Turn,STAT5ActEpoR,STAT5ActJAK2,STAT5Exp,\n",
    "    STAT5Imp,init_EpoRJAK2,init_SHP1,init_STAT5) = integrator.p\n",
    "    \n",
    "    # output values\n",
    "    pJAK2_au = log10(offset_pJAK2_fine + 2 * scale_pJAK2_fine * (EpoRpJAK2 + p12EpoRpJAK2 + p1EpoRpJAK2 + p2EpoRpJAK2) / init_EpoRJAK2)\n",
    "    pEpoR_au = log10(offset_pEpoR_fine + 16 * scale_pEpoR_fine * (p12EpoRpJAK2 + p1EpoRpJAK2 + p2EpoRpJAK2) / init_EpoRJAK2)\n",
    "\n",
    "    return [pJAK2_au, pEpoR_au]\n",
    "end\n",
    "\n",
    "function L_CFUE_Fine(p)\n",
    "    ActD = 0.0\n",
    "    CISoe = 0.0\n",
    "    SOCS3oe = 0.0\n",
    "    SHP1oe = 0.0\n",
    "    epo_level = 1.25e-6\n",
    "    \n",
    "    prob_CFUE_Fine = prob(p,epo_level,ActD,CISoe,SOCS3oe)  \n",
    "    saveat = Float64.(data_CFUE_Fine[!,:time])\n",
    "    \n",
    "    sim = solve_prob(prob_CFUE_Fine, saveat, saving_CFUE_Fine)\n",
    "    \n",
    "    σ = [\n",
    "        sd_JAK2EpoR_au,\n",
    "        sd_JAK2EpoR_au,\n",
    "    ]\n",
    "    loss = L(sim, data_CFUE_Fine, σ) \n",
    "    #@show loss\n",
    "    return loss\n",
    "    \n",
    "end"
   ]
  },
  {
   "cell_type": "markdown",
   "metadata": {},
   "source": [
    "#### Experiment: Time-course of JAK2-STAT5 phosphorylation dynamics in CFU-E cells over-expressing CIS (CFU-E CISoe)"
   ]
  },
  {
   "cell_type": "code",
   "execution_count": 12,
   "metadata": {},
   "outputs": [
    {
     "data": {
      "text/plain": [
       "L_CFUE_CISoe (generic function with 1 method)"
      ]
     },
     "execution_count": 12,
     "metadata": {},
     "output_type": "execute_result"
    }
   ],
   "source": [
    "# fitted offset and scale parameters\n",
    "const offset_pJAK2_cisoe = 0.021928076840931\n",
    "const offset_pEpoR_cisoe = 0.030210854745913\n",
    "const offset_CIS_cisoe = 0.030012199170223\n",
    "const offset_SOCS3_cisoe = 0.278270301775932\n",
    "const offset_pSTAT5_cisoe = 0.070791697579138\n",
    "const scale_pJAK2_cisoe = 1.85429884799069\n",
    "const scale_pEpoR_cisoe = 0.273625536372832\n",
    "const scale_CIS_cisoe = 1.37088201048354\n",
    "const scale_SOCS3_cisoe = 11.5682149955845\n",
    "const scale_pSTAT5_cisoe = 2.41904111907135\n",
    "\n",
    "function saving_CFUE_CISoe(u, t, integrator)\n",
    "    (EpoRJAK2,EpoRpJAK2,p1EpoRpJAK2,p2EpoRpJAK2,p12EpoRpJAK2,EpoRJAK2_CIS,SHP1,SHP1Act,STAT5,pSTAT5,npSTAT5,\n",
    "    CISnRNA1,CISnRNA2,CISnRNA3,CISnRNA4,CISnRNA5,CISRNA,CIS,SOCS3nRNA1,SOCS3nRNA2,SOCS3nRNA3,SOCS3nRNA4,\n",
    "    SOCS3nRNA5,SOCS3RNA,SOCS3) = u\n",
    "    (CISEqc,CISEqcOE,CISInh,CISRNADelay,CISRNAEqc,CISRNATurn,CISTurn,EpoRActJAK2,EpoRCISInh,\n",
    "    EpoRCISRemove,JAK2ActEpo,JAK2EpoRDeaSHP1,SHP1ActEpoR,SHP1Dea,SHP1ProOE,SOCS3Eqc,SOCS3EqcOE,\n",
    "    SOCS3Inh,SOCS3RNADelay,SOCS3RNAEqc,SOCS3RNATurn,SOCS3Turn,STAT5ActEpoR,STAT5ActJAK2,STAT5Exp,\n",
    "    STAT5Imp,init_EpoRJAK2,init_SHP1,init_STAT5) = integrator.p\n",
    "    \n",
    "    # output values\n",
    "    pJAK2_au = log10(offset_pJAK2_cisoe + 2 * scale_pJAK2_cisoe * (EpoRpJAK2 + p12EpoRpJAK2 + p1EpoRpJAK2 + p2EpoRpJAK2) / init_EpoRJAK2)\n",
    "    pEpoR_au = log10(offset_pEpoR_cisoe + 16 * scale_pEpoR_cisoe * (p12EpoRpJAK2 + p1EpoRpJAK2 + p2EpoRpJAK2) / init_EpoRJAK2)\n",
    "    CIS_au = log10(offset_CIS_cisoe + CIS * scale_CIS_cisoe / CISEqc )  #??? / (CISEqc * CISRNAEqc * init_STAT5)\n",
    "    SOCS3_au = log10(offset_SOCS3_cisoe + SOCS3 * scale_SOCS3_cisoe / SOCS3Eqc )  #??? / (SOCS3Eqc * SOCS3RNAEqc * init_STAT5)\n",
    "    pSTAT5_au = log10(offset_pSTAT5_cisoe + pSTAT5 * scale_pSTAT5_cisoe / init_STAT5)\n",
    "    \n",
    "    return [pJAK2_au, pEpoR_au, CIS_au, SOCS3_au, pSTAT5_au]\n",
    "end\n",
    "\n",
    "function u_init_CISoe(p,t0)\n",
    "    u0 = zeros(25)\n",
    "    u0[1] = p[27]\n",
    "    u0[7] = p[28]\n",
    "    u0[9] = p[29]\n",
    "    u0[18] = p[1]*p[2]\n",
    "    u0[6] = 1.0\n",
    "    return u0\n",
    "end\n",
    "\n",
    "function L_CFUE_CISoe(p)\n",
    "    ActD = 0.0\n",
    "    SOCS3oe = 0.0\n",
    "    SHP1oe = 0.0\n",
    "    epo_level = 1.25e-7\n",
    "    \n",
    "    σ = [\n",
    "        sd_JAK2EpoR_au,\n",
    "        sd_JAK2EpoR_au,\n",
    "        sd_CIS_au,\n",
    "        sd_SOCS3_au,\n",
    "        sd_STAT5_au\n",
    "    ]\n",
    "    \n",
    "    loss = 0.0\n",
    "    for (i,CISoe) in enumerate([0.0, 1.0]) \n",
    "        prob_CFUE_CISoe = prob(p,epo_level,ActD,CISoe,SOCS3oe)\n",
    "        if CISoe == 1.0\n",
    "           prob_CFUE_CISoe = remake(prob_CFUE_CISoe, u0=u_init_CISoe)\n",
    "        end\n",
    "        saveat = Float64.(data_CFUE_CISoe[i][!,:time])\n",
    "\n",
    "        sim = solve_prob(prob_CFUE_CISoe, saveat, saving_CFUE_CISoe)\n",
    "        loss += L(sim, data_CFUE_CISoe[i], σ)\n",
    "    end\n",
    "    #@show loss\n",
    "    return loss\n",
    "end"
   ]
  },
  {
   "cell_type": "markdown",
   "metadata": {},
   "source": [
    "#### Experiment: Time-course of EpoR phosphorylation dynamics in CFU-E cells over-expressing CIS (CFU-E CISoe)"
   ]
  },
  {
   "cell_type": "code",
   "execution_count": 13,
   "metadata": {},
   "outputs": [
    {
     "data": {
      "text/plain": [
       "L_CFUE_CISoe_pEpoR (generic function with 1 method)"
      ]
     },
     "execution_count": 13,
     "metadata": {},
     "output_type": "execute_result"
    }
   ],
   "source": [
    "# fitted offset and scale parameters\n",
    "const offset_pEpoR_cisoe_pepor = 0.131027220027866\n",
    "const scale_pEpoR_cisoe_pepor = 0.156616708581292\n",
    "\n",
    "function saving_CFUE_CISoe_pEpoR(u, t, integrator)\n",
    "    (EpoRJAK2,EpoRpJAK2,p1EpoRpJAK2,p2EpoRpJAK2,p12EpoRpJAK2,EpoRJAK2_CIS,SHP1,SHP1Act,STAT5,pSTAT5,npSTAT5,\n",
    "    CISnRNA1,CISnRNA2,CISnRNA3,CISnRNA4,CISnRNA5,CISRNA,CIS,SOCS3nRNA1,SOCS3nRNA2,SOCS3nRNA3,SOCS3nRNA4,\n",
    "    SOCS3nRNA5,SOCS3RNA,SOCS3) = u\n",
    "    (CISEqc,CISEqcOE,CISInh,CISRNADelay,CISRNAEqc,CISRNATurn,CISTurn,EpoRActJAK2,EpoRCISInh,\n",
    "    EpoRCISRemove,JAK2ActEpo,JAK2EpoRDeaSHP1,SHP1ActEpoR,SHP1Dea,SHP1ProOE,SOCS3Eqc,SOCS3EqcOE,\n",
    "    SOCS3Inh,SOCS3RNADelay,SOCS3RNAEqc,SOCS3RNATurn,SOCS3Turn,STAT5ActEpoR,STAT5ActJAK2,STAT5Exp,\n",
    "    STAT5Imp,init_EpoRJAK2,init_SHP1,init_STAT5) = integrator.p\n",
    "    \n",
    "    # output values\n",
    "    pEpoR_au = log10(offset_pEpoR_cisoe_pepor + 16 * scale_pEpoR_cisoe_pepor * (p12EpoRpJAK2 + p1EpoRpJAK2 + p2EpoRpJAK2) / init_EpoRJAK2)\n",
    "    \n",
    "    return [pEpoR_au]\n",
    "end\n",
    "\n",
    "function u_init_CISoe_pEpoR(p,t0)\n",
    "    u0 = zeros(25)\n",
    "    u0[1] = p[27]\n",
    "    u0[7] = p[28]\n",
    "    u0[9] = p[29]\n",
    "    u0[18] = p[1]*p[2]\n",
    "    u0[6] = 1.0\n",
    "    return u0\n",
    "end\n",
    "\n",
    "function L_CFUE_CISoe_pEpoR(p)\n",
    "    ActD = 0.0\n",
    "    SOCS3oe = 0.0\n",
    "    SHP1oe = 0.0\n",
    "    epo_level = 1.25e-7\n",
    "    \n",
    "    σ = [\n",
    "        sd_JAK2EpoR_au,\n",
    "        sd_JAK2EpoR_au,\n",
    "        sd_CIS_au,\n",
    "        sd_SOCS3_au,\n",
    "        sd_STAT5_au\n",
    "    ]\n",
    "    \n",
    "    loss = 0.0\n",
    "    for (i,CISoe) in enumerate([0.0, 1.0]) \n",
    "        prob_CFUE_CISoe_pEpoR = prob(p,epo_level,ActD,CISoe,SOCS3oe)\n",
    "        if CISoe == 1.0\n",
    "           prob_CFUE_CISoe_pEpoR = remake(prob_CFUE_CISoe_pEpoR, u0=u_init_CISoe_pEpoR)\n",
    "        end\n",
    "        saveat = Float64.(data_CFUE_CISoe_pEpoR[i][!,:time])\n",
    "\n",
    "        sim = solve_prob(prob_CFUE_CISoe_pEpoR, saveat, saving_CFUE_CISoe_pEpoR)\n",
    "        loss += L(sim, data_CFUE_CISoe_pEpoR[i], σ)\n",
    "    end\n",
    "    #@show loss\n",
    "    return loss\n",
    "end"
   ]
  },
  {
   "cell_type": "markdown",
   "metadata": {},
   "source": [
    "#### Experiment: Time-course of JAK2-STAT5 phosphorylation dynamics in CFU-E cells over-expressing SOCS3 (CFU-E SOCS3oe)"
   ]
  },
  {
   "cell_type": "code",
   "execution_count": 14,
   "metadata": {},
   "outputs": [
    {
     "data": {
      "text/plain": [
       "L_CFUE_SOCS3oe (generic function with 1 method)"
      ]
     },
     "execution_count": 14,
     "metadata": {},
     "output_type": "execute_result"
    }
   ],
   "source": [
    "# fitted offset and scale parameters\n",
    "const offset_pJAK2_socs3oe = 0.059752453075581\n",
    "const offset_pEpoR_socs3oe = 0.056711915845858\n",
    "const offset_CIS_socs3oe = 0.090496783983191\n",
    "const offset_SOCS3_socs3oe = 0.025584406819207\n",
    "const offset_pSTAT5_socs3oe = 0.005613364786273\n",
    "const scale_pJAK2_socs3oe =  1.266550022901\n",
    "const scale_pEpoR_socs3oe = 0.637275573973593\n",
    "const scale_CIS_socs3oe = 21.1493834462165\n",
    "const scale_SOCS3_socs3oe = 1.20457246908681\n",
    "const scale_pSTAT5_socs3oe = 1.76032560825919\n",
    "\n",
    "function saving_CFUE_SOCS3oe(u, t, integrator)\n",
    "    (EpoRJAK2,EpoRpJAK2,p1EpoRpJAK2,p2EpoRpJAK2,p12EpoRpJAK2,EpoRJAK2_CIS,SHP1,SHP1Act,STAT5,pSTAT5,npSTAT5,\n",
    "    CISnRNA1,CISnRNA2,CISnRNA3,CISnRNA4,CISnRNA5,CISRNA,CIS,SOCS3nRNA1,SOCS3nRNA2,SOCS3nRNA3,SOCS3nRNA4,\n",
    "    SOCS3nRNA5,SOCS3RNA,SOCS3) = u\n",
    "    (CISEqc,CISEqcOE,CISInh,CISRNADelay,CISRNAEqc,CISRNATurn,CISTurn,EpoRActJAK2,EpoRCISInh,\n",
    "    EpoRCISRemove,JAK2ActEpo,JAK2EpoRDeaSHP1,SHP1ActEpoR,SHP1Dea,SHP1ProOE,SOCS3Eqc,SOCS3EqcOE,\n",
    "    SOCS3Inh,SOCS3RNADelay,SOCS3RNAEqc,SOCS3RNATurn,SOCS3Turn,STAT5ActEpoR,STAT5ActJAK2,STAT5Exp,\n",
    "    STAT5Imp,init_EpoRJAK2,init_SHP1,init_STAT5) = integrator.p\n",
    "    \n",
    "    # output values\n",
    "    pJAK2_au = log10(offset_pJAK2_socs3oe + 2 * scale_pJAK2_socs3oe * (EpoRpJAK2 + p12EpoRpJAK2 + p1EpoRpJAK2 + p2EpoRpJAK2) / init_EpoRJAK2)\n",
    "    pEpoR_au = log10(offset_pEpoR_socs3oe + 16 * scale_pEpoR_socs3oe * (p12EpoRpJAK2 + p1EpoRpJAK2 + p2EpoRpJAK2) / init_EpoRJAK2)\n",
    "    CIS_au = log10(offset_CIS_socs3oe + CIS * scale_CIS_socs3oe / CISEqc )  #??? / (CISEqc * CISRNAEqc * init_STAT5)\n",
    "    SOCS3_au = log10(offset_SOCS3_socs3oe + SOCS3 * scale_SOCS3_socs3oe / SOCS3Eqc )  #??? / (SOCS3Eqc * SOCS3RNAEqc * init_STAT5)\n",
    "    pSTAT5_au = log10(offset_pSTAT5_socs3oe + pSTAT5 * scale_pSTAT5_socs3oe / init_STAT5)\n",
    "    \n",
    "    return [pJAK2_au, pEpoR_au, CIS_au, SOCS3_au, pSTAT5_au]\n",
    "end\n",
    "\n",
    "function u_init_SOCS3oe(p,t0)\n",
    "    u0 = zeros(25)\n",
    "    u0[1] = p[27]\n",
    "    u0[7] = p[28]\n",
    "    u0[9] = p[29]\n",
    "    u0[25] = p[16]*p[17]\n",
    "    return u0\n",
    "end\n",
    "\n",
    "function L_CFUE_SOCS3oe(p)\n",
    "    ActD = 0.0\n",
    "    CISoe = 0.0\n",
    "    SHP1oe = 0.0\n",
    "    epo_level = 1.25e-7\n",
    "    \n",
    "    loss = 0.0\n",
    "    for (i,SOCS3oe) in enumerate([0.0, 1.0]) \n",
    "        σ = [\n",
    "            sd_JAK2EpoR_au,\n",
    "            sd_JAK2EpoR_au,\n",
    "            sd_CIS_au,\n",
    "            sd_SOCS3_au,\n",
    "            sd_STAT5_au + SOCS3oe * sd_pSTAT5_socs3oe\n",
    "        ]\n",
    "        \n",
    "        prob_CFUE_SOCS3oe = prob(p,epo_level,ActD,CISoe,SOCS3oe)  \n",
    "        \n",
    "        if SOCS3oe == 1.0\n",
    "           prob_CFUE_SOCS3oe = remake(prob_CFUE_SOCS3oe, u0=u_init_SOCS3oe)\n",
    "        end\n",
    "        saveat = Float64.(data_CFUE_SOCS3oe[i][!,:time])\n",
    "    \n",
    "        sim = solve_prob(prob_CFUE_SOCS3oe, saveat, saving_CFUE_SOCS3oe)\n",
    "        \n",
    "        loss += L(sim, data_CFUE_SOCS3oe[i], σ) \n",
    "    end\n",
    "    #@show loss\n",
    "    return loss \n",
    "end"
   ]
  },
  {
   "cell_type": "markdown",
   "metadata": {},
   "source": [
    "#### Experiment: Time-course of JAK2-STAT5 phosphorylation dynamics in CFU-E cells over-expressing SHP1 (CFU-E SHP1oe)"
   ]
  },
  {
   "cell_type": "code",
   "execution_count": 15,
   "metadata": {},
   "outputs": [
    {
     "data": {
      "text/plain": [
       "L_CFUE_SHP1oe (generic function with 1 method)"
      ]
     },
     "execution_count": 15,
     "metadata": {},
     "output_type": "execute_result"
    }
   ],
   "source": [
    "# fitted offset and scale parameters\n",
    "const offset_pJAK2_shp1oe = 0.026667365128327\n",
    "const offset_pEpoR_shp1oe = 0.031327226759826\n",
    "const offset_CIS_shp1oe = 0.058794513917949\n",
    "const offset_pSTAT5_shp1oe = 0.054941495350482\n",
    "const scale_tSTAT5_shp1oe = 0.681101374792296\n",
    "const scale_pJAK2_shp1oe =  2.31011130113927\n",
    "const scale_pEpoR_shp1oe = 0.241283495329875\n",
    "const scale_CIS_shp1oe = 51.7115711834136\n",
    "const scale_SHP1_shp1oe = 0.225547534442942\n",
    "const scale_pSTAT5_shp1oe = 1.15158552971751\n",
    "\n",
    "function saving_CFUE_SHP1oe(u, t, integrator)\n",
    "    (EpoRJAK2,EpoRpJAK2,p1EpoRpJAK2,p2EpoRpJAK2,p12EpoRpJAK2,EpoRJAK2_CIS,SHP1,SHP1Act,STAT5,pSTAT5,npSTAT5,\n",
    "    CISnRNA1,CISnRNA2,CISnRNA3,CISnRNA4,CISnRNA5,CISRNA,CIS,SOCS3nRNA1,SOCS3nRNA2,SOCS3nRNA3,SOCS3nRNA4,\n",
    "    SOCS3nRNA5,SOCS3RNA,SOCS3) = u\n",
    "    (CISEqc,CISEqcOE,CISInh,CISRNADelay,CISRNAEqc,CISRNATurn,CISTurn,EpoRActJAK2,EpoRCISInh,\n",
    "    EpoRCISRemove,JAK2ActEpo,JAK2EpoRDeaSHP1,SHP1ActEpoR,SHP1Dea,SHP1ProOE,SOCS3Eqc,SOCS3EqcOE,\n",
    "    SOCS3Inh,SOCS3RNADelay,SOCS3RNAEqc,SOCS3RNATurn,SOCS3Turn,STAT5ActEpoR,STAT5ActJAK2,STAT5Exp,\n",
    "    STAT5Imp,init_EpoRJAK2,init_SHP1,init_STAT5) = integrator.p\n",
    "    \n",
    "    # output values\n",
    "    pJAK2_au = log10(offset_pJAK2_shp1oe + 2 * scale_pJAK2_shp1oe * (EpoRpJAK2 + p12EpoRpJAK2 + p1EpoRpJAK2 + p2EpoRpJAK2) / init_EpoRJAK2)\n",
    "    pEpoR_au = log10(offset_pEpoR_shp1oe + 16 * scale_pEpoR_shp1oe * (p12EpoRpJAK2 + p1EpoRpJAK2 + p2EpoRpJAK2) / init_EpoRJAK2)\n",
    "    CIS_au = log10(offset_CIS_shp1oe + CIS * scale_CIS_shp1oe / CISEqc)   #??? / (CISEqc * CISRNAEqc * init_STAT5)\n",
    "    tSTAT5_au = log10(scale_tSTAT5_shp1oe * (STAT5 + pSTAT5) / init_STAT5)\n",
    "    pSTAT5_au = log10(offset_pSTAT5_shp1oe + pSTAT5 * scale_pSTAT5_shp1oe / init_STAT5)\n",
    "    tSHP1_au = log10(scale_SHP1_shp1oe * (SHP1 + SHP1Act) / init_SHP1) # *(SHP1oe * SHP1ProOE + 1)\n",
    "    \n",
    "    return [pJAK2_au, pEpoR_au, CIS_au, tSTAT5_au, pSTAT5_au, tSHP1_au]\n",
    "end\n",
    "\n",
    "function u_init_SHP1oe(p,t0)\n",
    "    u0 = zeros(25)\n",
    "    u0[1] = p[27]\n",
    "    u0[7] = p[28]*(p[15]+1)\n",
    "    u0[9] = p[29]\n",
    "    return u0\n",
    "end\n",
    "\n",
    "function L_CFUE_SHP1oe(p)\n",
    "    ActD = 0.0\n",
    "    CISoe = 0.0\n",
    "    SOCS3oe = 0.0\n",
    "    epo_level = 1.25e-7\n",
    "    \n",
    "    σ = [\n",
    "        sd_JAK2EpoR_au,\n",
    "        sd_JAK2EpoR_au,\n",
    "        sd_CIS_au,\n",
    "        sd_STAT5_au,\n",
    "        sd_STAT5_au,\n",
    "        sd_SHP1_au\n",
    "    ]\n",
    "    \n",
    "    prob_CFUE_SHP1oe = prob(p,epo_level,ActD,CISoe,SOCS3oe) \n",
    "    \n",
    "    loss = 0.0\n",
    "    for (i,SHP1oe) in enumerate([0.0, 1.0]) \n",
    "        \n",
    "        if SHP1oe == 1.0\n",
    "           prob_CFUE_SHP1oe = remake(prob_CFUE_SHP1oe, u0=u_init_SHP1oe)\n",
    "        end\n",
    "        saveat = Float64.(data_CFUE_SHP1oe[i][!,:time])\n",
    "    \n",
    "        sim = solve_prob(prob_CFUE_SHP1oe, saveat, saving_CFUE_SHP1oe)\n",
    "        loss += L(sim, data_CFUE_SHP1oe[i], σ) \n",
    "    end\n",
    "    #@show loss\n",
    "    return loss \n",
    "end"
   ]
  },
  {
   "cell_type": "markdown",
   "metadata": {},
   "source": [
    "#### Experiment: Dose response of JAK2 and EpoR phosphorylation in CFU-E cells 7 minutes after Epo stimulation (CFU-E DoseResp 7min)"
   ]
  },
  {
   "cell_type": "code",
   "execution_count": 16,
   "metadata": {},
   "outputs": [
    {
     "data": {
      "text/plain": [
       "L_CFUE_DR7 (generic function with 1 method)"
      ]
     },
     "execution_count": 16,
     "metadata": {},
     "output_type": "execute_result"
    }
   ],
   "source": [
    "# fitted offset and scale parameters\n",
    "const offset_pJAK2_dr7 = 0.04733977489635\n",
    "const offset_pEpoR_dr7 = 0.028405110847623\n",
    "const scale_pJAK2_dr7 =  0.506322186585869\n",
    "const scale_pEpoR_dr7 = 0.101429038197386\n",
    "\n",
    "\n",
    "function saving_CFUE_DR7(u, t, integrator)\n",
    "    (EpoRJAK2,EpoRpJAK2,p1EpoRpJAK2,p2EpoRpJAK2,p12EpoRpJAK2,EpoRJAK2_CIS,SHP1,SHP1Act,STAT5,pSTAT5,npSTAT5,\n",
    "    CISnRNA1,CISnRNA2,CISnRNA3,CISnRNA4,CISnRNA5,CISRNA,CIS,SOCS3nRNA1,SOCS3nRNA2,SOCS3nRNA3,SOCS3nRNA4,\n",
    "    SOCS3nRNA5,SOCS3RNA,SOCS3) = u\n",
    "    (CISEqc,CISEqcOE,CISInh,CISRNADelay,CISRNAEqc,CISRNATurn,CISTurn,EpoRActJAK2,EpoRCISInh,\n",
    "    EpoRCISRemove,JAK2ActEpo,JAK2EpoRDeaSHP1,SHP1ActEpoR,SHP1Dea,SHP1ProOE,SOCS3Eqc,SOCS3EqcOE,\n",
    "    SOCS3Inh,SOCS3RNADelay,SOCS3RNAEqc,SOCS3RNATurn,SOCS3Turn,STAT5ActEpoR,STAT5ActJAK2,STAT5Exp,\n",
    "    STAT5Imp,init_EpoRJAK2,init_SHP1,init_STAT5) = integrator.p\n",
    "    \n",
    "    # output values\n",
    "    pJAK2_au = log10(offset_pJAK2_dr7 + 2 * scale_pJAK2_dr7 * (EpoRpJAK2 + p12EpoRpJAK2 + p1EpoRpJAK2 + p2EpoRpJAK2) / init_EpoRJAK2)\n",
    "    pEpoR_au = log10(offset_pEpoR_dr7 + 16 * scale_pEpoR_dr7 * (p12EpoRpJAK2 + p1EpoRpJAK2 + p2EpoRpJAK2) / init_EpoRJAK2)\n",
    "\n",
    "    return [pJAK2_au, pEpoR_au]\n",
    "end\n",
    "\n",
    "\n",
    "function L_CFUE_DR7(p)\n",
    "    ActD = 0.0\n",
    "    CISoe = 0.0\n",
    "    SHP1oe = 0.0\n",
    "    SOCS3oe = 0.0\n",
    "    \n",
    "    σ = [\n",
    "        sd_JAK2EpoR_au,\n",
    "        sd_JAK2EpoR_au,\n",
    "    ]\n",
    "    \n",
    "    loss = 0.0\n",
    "    for (i,epo_level) in enumerate([2.5E-05, 2.5E-06, 2.5E-07, 2.5E-08, 2.5E-09]) \n",
    "        prob_CFUE_DR7 = prob(p,epo_level,ActD,CISoe,SOCS3oe)\n",
    "        saveat = Float64.(data_CFUE_DR7[i][!,:time])\n",
    "    \n",
    "        sim = solve_prob(prob_CFUE_DR7, saveat, saving_CFUE_DR7)\n",
    "        loss += L(sim, data_CFUE_DR7[i], σ) \n",
    "    end\n",
    "    #@show loss\n",
    "    return loss \n",
    "end"
   ]
  },
  {
   "cell_type": "markdown",
   "metadata": {},
   "source": [
    "#### Experiment: Dose response of JAK2 and EpoR phosphorylation in CFU-E cells 30 minutes after Epo stimulation (CFU-E DoseResp 30min)"
   ]
  },
  {
   "cell_type": "code",
   "execution_count": 17,
   "metadata": {},
   "outputs": [
    {
     "data": {
      "text/plain": [
       "L_CFUE_DR30 (generic function with 1 method)"
      ]
     },
     "execution_count": 17,
     "metadata": {},
     "output_type": "execute_result"
    }
   ],
   "source": [
    "# fitted offset and scale parameters\n",
    "const offset_pJAK2_dr30 = 0.029944254724382\n",
    "const offset_pEpoR_dr30 = 0.001\n",
    "const scale_pJAK2_dr30 =  1.77561150477407\n",
    "const scale_pEpoR_dr30 = 0.537385100441811\n",
    "\n",
    "\n",
    "function saving_CFUE_DR30(u, t, integrator)\n",
    "    (EpoRJAK2,EpoRpJAK2,p1EpoRpJAK2,p2EpoRpJAK2,p12EpoRpJAK2,EpoRJAK2_CIS,SHP1,SHP1Act,STAT5,pSTAT5,npSTAT5,\n",
    "    CISnRNA1,CISnRNA2,CISnRNA3,CISnRNA4,CISnRNA5,CISRNA,CIS,SOCS3nRNA1,SOCS3nRNA2,SOCS3nRNA3,SOCS3nRNA4,\n",
    "    SOCS3nRNA5,SOCS3RNA,SOCS3) = u\n",
    "    (CISEqc,CISEqcOE,CISInh,CISRNADelay,CISRNAEqc,CISRNATurn,CISTurn,EpoRActJAK2,EpoRCISInh,\n",
    "    EpoRCISRemove,JAK2ActEpo,JAK2EpoRDeaSHP1,SHP1ActEpoR,SHP1Dea,SHP1ProOE,SOCS3Eqc,SOCS3EqcOE,\n",
    "    SOCS3Inh,SOCS3RNADelay,SOCS3RNAEqc,SOCS3RNATurn,SOCS3Turn,STAT5ActEpoR,STAT5ActJAK2,STAT5Exp,\n",
    "    STAT5Imp,init_EpoRJAK2,init_SHP1,init_STAT5) = integrator.p\n",
    "    \n",
    "    # output values\n",
    "    pJAK2_au = log10(offset_pJAK2_dr30 + 2 * scale_pJAK2_dr30 * (EpoRpJAK2 + p12EpoRpJAK2 + p1EpoRpJAK2 + p2EpoRpJAK2) / init_EpoRJAK2)\n",
    "    pEpoR_au = log10(offset_pEpoR_dr30 + 16 * scale_pEpoR_dr30 * (p12EpoRpJAK2 + p1EpoRpJAK2 + p2EpoRpJAK2) / init_EpoRJAK2)\n",
    "\n",
    "    return [pJAK2_au, pEpoR_au]\n",
    "end\n",
    "\n",
    "\n",
    "function L_CFUE_DR30(p)\n",
    "    ActD = 0.0\n",
    "    CISoe = 0.0\n",
    "    SHP1oe = 0.0\n",
    "    SOCS3oe = 0.0\n",
    "    \n",
    "    σ = [\n",
    "        sd_JAK2EpoR_au,\n",
    "        sd_JAK2EpoR_au,\n",
    "    ]\n",
    "    \n",
    "    loss = 0.0\n",
    "    for (i,epo_level) in enumerate([1.25E-06, 1.25E-07, 2.5E-06, 2.5E-07, 2.5E-08, 2.5E-09]) \n",
    "        prob_CFUE_DR30 = prob(p,epo_level,ActD,CISoe,SOCS3oe)\n",
    "        saveat = Float64.(data_CFUE_DR30[i][!,:time])\n",
    "    \n",
    "        sim = solve_prob(prob_CFUE_DR30, saveat, saving_CFUE_DR30)\n",
    "        loss += L(sim, data_CFUE_DR30[i], σ) \n",
    "    end\n",
    "    #@show loss\n",
    "    return loss \n",
    "end"
   ]
  },
  {
   "cell_type": "markdown",
   "metadata": {},
   "source": [
    "#### Experiment: Dose response of STAT5 phosphorylation in CFU-E cells 10 minutes after Epo stimulation (CFU-E DoseResp pSTAT5 10min)"
   ]
  },
  {
   "cell_type": "code",
   "execution_count": 18,
   "metadata": {},
   "outputs": [
    {
     "data": {
      "text/plain": [
       "L_CFUE_DR10 (generic function with 1 method)"
      ]
     },
     "execution_count": 18,
     "metadata": {},
     "output_type": "execute_result"
    }
   ],
   "source": [
    "# fitted offset and scale parameters\n",
    "const scale_pSTAT_dr10 =  1.00950903665707\n",
    "\n",
    "function saving_CFUE_DR10(u, t, integrator)\n",
    "    (EpoRJAK2,EpoRpJAK2,p1EpoRpJAK2,p2EpoRpJAK2,p12EpoRpJAK2,EpoRJAK2_CIS,SHP1,SHP1Act,STAT5,pSTAT5,npSTAT5,\n",
    "    CISnRNA1,CISnRNA2,CISnRNA3,CISnRNA4,CISnRNA5,CISRNA,CIS,SOCS3nRNA1,SOCS3nRNA2,SOCS3nRNA3,SOCS3nRNA4,\n",
    "    SOCS3nRNA5,SOCS3RNA,SOCS3) = u\n",
    "    (CISEqc,CISEqcOE,CISInh,CISRNADelay,CISRNAEqc,CISRNATurn,CISTurn,EpoRActJAK2,EpoRCISInh,\n",
    "    EpoRCISRemove,JAK2ActEpo,JAK2EpoRDeaSHP1,SHP1ActEpoR,SHP1Dea,SHP1ProOE,SOCS3Eqc,SOCS3EqcOE,\n",
    "    SOCS3Inh,SOCS3RNADelay,SOCS3RNAEqc,SOCS3RNATurn,SOCS3Turn,STAT5ActEpoR,STAT5ActJAK2,STAT5Exp,\n",
    "    STAT5Imp,init_EpoRJAK2,init_SHP1,init_STAT5) = integrator.p\n",
    "    \n",
    "    # output values\n",
    "    pSTAT5_au = log10(pSTAT5 * scale_pSTAT_dr10 / init_STAT5)\n",
    "    return [pSTAT5_au]\n",
    "end\n",
    "\n",
    "\n",
    "function L_CFUE_DR10(p)\n",
    "    ActD = 0.0\n",
    "    CISoe = 0.0\n",
    "    SHP1oe = 0.0\n",
    "    SOCS3oe = 0.0\n",
    "    \n",
    "    σ = [\n",
    "        sd_STAT5_au\n",
    "    ]\n",
    "    \n",
    "    loss = 0.0\n",
    "    for (i,epo_level) in enumerate([1.25E-07, 1.25E-08, 2.5E-06, 2.5E-07, 2.5E-08, 2.5E-09]) \n",
    "        prob_CFUE_DR10 = prob(p,epo_level,ActD,CISoe,SOCS3oe)\n",
    "        saveat = Float64.(data_CFUE_DR10[i][!,:time])\n",
    "    \n",
    "        sim = solve_prob(prob_CFUE_DR10, saveat, saving_CFUE_DR10)\n",
    "        loss += L(sim, data_CFUE_DR10[i], σ) \n",
    "    end\n",
    "    #@show loss\n",
    "    return loss \n",
    "end"
   ]
  },
  {
   "cell_type": "markdown",
   "metadata": {},
   "source": [
    "#### Experiment: Dose response of CIS expression in CFU-E cells 90 minutes after Epo stimulation (CFU-E DoseResp CIS 90min)"
   ]
  },
  {
   "cell_type": "code",
   "execution_count": 19,
   "metadata": {},
   "outputs": [
    {
     "data": {
      "text/plain": [
       "L_CFUE_DR90 (generic function with 1 method)"
      ]
     },
     "execution_count": 19,
     "metadata": {},
     "output_type": "execute_result"
    }
   ],
   "source": [
    "# fitted offset and scale parameters\n",
    "const scale1_CIS_dr90 = 17.5631450183542\n",
    "const scale2_CIS_dr90 = 16.1205634424041\n",
    "\n",
    "function saving_CFUE_DR90(u, t, integrator)\n",
    "    (EpoRJAK2,EpoRpJAK2,p1EpoRpJAK2,p2EpoRpJAK2,p12EpoRpJAK2,EpoRJAK2_CIS,SHP1,SHP1Act,STAT5,pSTAT5,npSTAT5,\n",
    "    CISnRNA1,CISnRNA2,CISnRNA3,CISnRNA4,CISnRNA5,CISRNA,CIS,SOCS3nRNA1,SOCS3nRNA2,SOCS3nRNA3,SOCS3nRNA4,\n",
    "    SOCS3nRNA5,SOCS3RNA,SOCS3) = u\n",
    "    (CISEqc,CISEqcOE,CISInh,CISRNADelay,CISRNAEqc,CISRNATurn,CISTurn,EpoRActJAK2,EpoRCISInh,\n",
    "    EpoRCISRemove,JAK2ActEpo,JAK2EpoRDeaSHP1,SHP1ActEpoR,SHP1Dea,SHP1ProOE,SOCS3Eqc,SOCS3EqcOE,\n",
    "    SOCS3Inh,SOCS3RNADelay,SOCS3RNAEqc,SOCS3RNATurn,SOCS3Turn,STAT5ActEpoR,STAT5ActJAK2,STAT5Exp,\n",
    "    STAT5Imp,init_EpoRJAK2,init_SHP1,init_STAT5) = integrator.p\n",
    "    \n",
    "    # output values\n",
    "    CIS_au1 = log10(CIS * scale1_CIS_dr90 / CISEqc)\n",
    "    CIS_au2 = log10(CIS * scale2_CIS_dr90 / CISEqc)\n",
    "    \n",
    "    return [CIS_au1, CIS_au2]\n",
    "end\n",
    "\n",
    "\n",
    "function L_CFUE_DR90(p)\n",
    "    ActD = 0.0\n",
    "    CISoe = 0.0\n",
    "    SHP1oe = 0.0\n",
    "    SOCS3oe = 0.0\n",
    "    \n",
    "    σ = [\n",
    "        sd_CIS_au,\n",
    "        sd_CIS_au\n",
    "    ]\n",
    "    \n",
    "    loss = 0.0\n",
    "    for (i,epo_level) in enumerate([1.25E-07, 2.5E-06, 2.5E-07, 2.5E-08, 2.5E-09]) \n",
    "        prob_CFUE_DR90 = prob(p,epo_level,ActD,CISoe,SOCS3oe)\n",
    "        saveat = Float64.(data_CFUE_DR90[i][!,:time])\n",
    "    \n",
    "        sim = solve_prob(prob_CFUE_DR90, saveat, saving_CFUE_DR90)\n",
    "        loss += L(sim, data_CFUE_DR90[i], σ) \n",
    "    end\n",
    "    #@show loss\n",
    "    return loss \n",
    "end"
   ]
  },
  {
   "cell_type": "markdown",
   "metadata": {},
   "source": [
    "### Best Fit Parameters"
   ]
  },
  {
   "cell_type": "markdown",
   "metadata": {},
   "source": [
    "Best fit parameters reported in the article"
   ]
  },
  {
   "cell_type": "code",
   "execution_count": 20,
   "metadata": {
    "scrolled": true
   },
   "outputs": [],
   "source": [
    "const p_best = (\n",
    "    CISEqc = 432.854027325732,\n",
    "    CISEqcOE = 0.53027229006794,\n",
    "    CISInh = 785221045.232906,\n",
    "    CISRNADelay = 0.144777009620017,\n",
    "    CISRNAEqc = 1.0,\n",
    "    CISRNATurn = 1000.0,\n",
    "    CISTurn = 0.008398825029262,\n",
    "    EpoRActJAK2 = 0.267299659481333,\n",
    "    EpoRCISInh = 1000000.0,\n",
    "    EpoRCISRemove = 5.42989282766407,\n",
    "    JAK2ActEpo = 633154.209632843,\n",
    "    JAK2EpoRDeaSHP1 = 142.723069412318,\n",
    "    SHP1ActEpoR = 0.001,\n",
    "    SHP1Dea = 0.008162255244283,\n",
    "    SHP1ProOE = 2.82568032716189,\n",
    "    SOCS3Eqc = 173.64095522801,\n",
    "    SOCS3EqcOE = 0.679185853534469,\n",
    "    SOCS3Inh = 10.4074255973465,\n",
    "    SOCS3RNADelay = 1.06454014521077,\n",
    "    SOCS3RNAEqc = 1.0,\n",
    "    SOCS3RNATurn = 0.008309263619427,\n",
    "    SOCS3Turn = 10000.0,\n",
    "    STAT5ActEpoR = 38.9972748894298,\n",
    "    STAT5ActJAK2 = 0.078108833252848,\n",
    "    STAT5Exp = 0.074514698833232,\n",
    "    STAT5Imp = 0.026887318057561,\n",
    "    init_EpoRJAK2 = 3.97622379188569,\n",
    "    init_SHP1 = 26.7251164163486,\n",
    "    init_STAT5 = 79.753639977851\n",
    ");"
   ]
  },
  {
   "cell_type": "markdown",
   "metadata": {},
   "source": [
    "Total loss values is the sum of all losses"
   ]
  },
  {
   "cell_type": "code",
   "execution_count": 21,
   "metadata": {},
   "outputs": [
    {
     "data": {
      "text/plain": [
       "L_TOT (generic function with 1 method)"
      ]
     },
     "execution_count": 21,
     "metadata": {},
     "output_type": "execute_result"
    }
   ],
   "source": [
    "function L_TOT(params)\n",
    "    \n",
    "    p = [p_i for p_i in merge(p_best,params)]\n",
    "    \n",
    "    L_CFUE_Long(p) +\n",
    "    L_CFUE_Concentrations(p) +\n",
    "    L_CFUE_RNA(p) +\n",
    "    L_CFUE_ActD(p) +\n",
    "    L_CFUE_Fine(p) +\n",
    "    L_CFUE_CISoe(p) +\n",
    "    L_CFUE_CISoe_pEpoR(p) +\n",
    "    L_CFUE_SOCS3oe(p) +\n",
    "    L_CFUE_SHP1oe(p) +\n",
    "    L_CFUE_DR7(p) +\n",
    "    L_CFUE_DR30(p) +\n",
    "    L_CFUE_DR10(p) +\n",
    "    L_CFUE_DR90(p)\n",
    "end"
   ]
  },
  {
   "cell_type": "code",
   "execution_count": 23,
   "metadata": {
    "scrolled": true
   },
   "outputs": [
    {
     "data": {
      "text/plain": [
       "-480.2975247152962"
      ]
     },
     "execution_count": 23,
     "metadata": {},
     "output_type": "execute_result"
    }
   ],
   "source": [
    "L_TOT(p_best)"
   ]
  },
  {
   "cell_type": "markdown",
   "metadata": {},
   "source": [
    "The value reported in the article is $$-2log(L) = -478.46$$"
   ]
  },
  {
   "cell_type": "markdown",
   "metadata": {},
   "source": [
    "### Identifiability and confidence intervals of the estimated model parameters"
   ]
  },
  {
   "cell_type": "code",
   "execution_count": 24,
   "metadata": {},
   "outputs": [],
   "source": [
    "p_init = (\n",
    "    CISEqc = 432.854027325732,\n",
    "    CISEqcOE = 0.53027229006794,\n",
    "    CISInh = 785221045.232906,\n",
    "    CISRNADelay = 0.144777009620017,\n",
    "    #CISRNAEqc = 1.0,\n",
    "    CISRNATurn = 1000.0,\n",
    "    CISTurn = 0.008398825029262,\n",
    "    EpoRActJAK2 = 0.267299659481333,\n",
    "    EpoRCISInh = 1000000.0,\n",
    "    EpoRCISRemove = 5.42989282766407,\n",
    "    JAK2ActEpo = 633154.209632843,\n",
    "    JAK2EpoRDeaSHP1 = 142.723069412318,\n",
    "    SHP1ActEpoR = 0.001,\n",
    "    SHP1Dea = 0.008162255244283,\n",
    "    SHP1ProOE = 2.82568032716189,\n",
    "    SOCS3Eqc = 173.64095522801,\n",
    "    SOCS3EqcOE = 0.679185853534469,\n",
    "    SOCS3Inh = 10.4074255973465,\n",
    "    SOCS3RNADelay = 1.06454014521077,\n",
    "    #SOCS3RNAEqc = 1.0,\n",
    "    SOCS3RNATurn = 0.008309263619427,\n",
    "    SOCS3Turn = 10000.0,\n",
    "    STAT5ActEpoR = 38.9972748894298,\n",
    "    STAT5ActJAK2 = 0.078108833252848,\n",
    "    STAT5Exp = 0.074514698833232,\n",
    "    STAT5Imp = 0.026887318057561,\n",
    "    init_EpoRJAK2 = 3.97622379188569,\n",
    "    init_SHP1 = 26.7251164163486,\n",
    "    init_STAT5 = 79.753639977851\n",
    ")\n",
    "\n",
    "p_scan = (\n",
    "    CISEqc = (1e-3, 1e4),\n",
    "    CISEqcOE = (1e-3, 1e3),\n",
    "    CISInh = (1e-3, 1e10),\n",
    "    CISRNADelay = (1e-3, 1e3),\n",
    "    #CISRNAEqc = 1.0,\n",
    "    CISRNATurn = (1e-3, 1e4),\n",
    "    CISTurn = (1e-3, 1e3),\n",
    "    EpoRActJAK2 = (1e-3, 1e4),\n",
    "    EpoRCISInh = (1e-3, 1e7),\n",
    "    EpoRCISRemove = (1e-3, 1e3),\n",
    "    JAK2ActEpo = (1e-3, 1e9),\n",
    "    JAK2EpoRDeaSHP1 = (1e-3,1e10),\n",
    "    SHP1ActEpoR = (1e-4,1e3),\n",
    "    SHP1Dea = (1e-3,1e3),\n",
    "    SHP1ProOE = (1e-3,1e3),\n",
    "    SOCS3Eqc = (1e-3,1e3),\n",
    "    SOCS3EqcOE = (1e-3,1e3),\n",
    "    SOCS3Inh = (1e-3,1e3),\n",
    "    SOCS3RNADelay = (1e-3,1e3),\n",
    "    #SOCS3RNAEqc = 1.0,\n",
    "    SOCS3RNATurn = (1e-3,1e3),\n",
    "    SOCS3Turn = (1e-3,1e5),\n",
    "    STAT5ActEpoR = (1e-3,1e3),\n",
    "    STAT5ActJAK2 = (1e-3,1e3),\n",
    "    STAT5Exp = (1e-3,1e3),\n",
    "    STAT5Imp = (1e-3,1e3),\n",
    "    init_EpoRJAK2 = (1e-3,1e3),\n",
    "    init_SHP1 = (1e-3,1e3),\n",
    "    init_STAT5 = (1e-3,1e3)\n",
    ");"
   ]
  },
  {
   "cell_type": "code",
   "execution_count": null,
   "metadata": {},
   "outputs": [
    {
     "name": "stdout",
     "output_type": "stream",
     "text": [
      "ParamInterval(ParamIntervalInput([432.854027325732, 0.53027229006794, 7.85221045232906e8, 0.144777009620017, 1000.0, 0.008398825029262, 0.267299659481333, 1.0e6, 5.42989282766407, 633154.209632843, 142.723069412318, 0.001, 0.008162255244283, 2.82568032716189, 173.64095522801, 0.679185853534469, 10.4074255973465, 1.06454014521077, 0.008309263619427, 10000.0, 38.9972748894298, 0.078108833252848, 0.074514698833232, 0.026887318057561, 3.97622379188569, 26.7251164163486, 79.753639977851], 1, var\"#5#7\"(), -476.45752471529624, [:log, :log, :log, :log, :log, :log, :log, :log, :log, :log, :log, :log, :log, :log, :log, :log, :log, :log, :log, :log, :log, :log, :log, :log, :log, :log, :log], [(0.0005, 20000.0), (0.0005, 2000.0), (0.0005, 2.0e10), (0.0005, 2000.0), (0.0005, 20000.0), (0.0005, 2000.0), (0.0005, 20000.0), (0.0005, 2.0e7), (0.0005, 2000.0), (0.0005, 2.0e9), (0.0005, 2.0e10), (5.0e-5, 2000.0), (0.0005, 2000.0), (0.0005, 2000.0), (0.0005, 2000.0), (0.0005, 2000.0), (0.0005, 2000.0), (0.0005, 2000.0), (0.0005, 2000.0), (0.0005, 200000.0), (0.0005, 2000.0), (0.0005, 2000.0), (0.0005, 2000.0), (0.0005, 2000.0), (0.0005, 2000.0), (0.0005, 2000.0), (0.0005, 2000.0)], (0.001, 10000.0), 0.001, 0.001, :LN_NELDERMEAD, Base.Iterators.Pairs{Union{},Union{},Tuple{},NamedTuple{(),Tuple{}}}()), -480.2975247152962, :CICO_ONE_PASS, (EndPoint(355.48155804927273, ProfilePoint[ProfilePoint(355.48155804927273, -476.46757357144435, [355.48155804927273, 0.5433911698242374, 8.21186825784998e8, 0.14607049106926107, 684.9074473429589, 0.008561407475105897, 0.26716682142156606, 158025.01541549008, 6.06058712713145, 642867.2778915626, 143.71474255701207, 0.000999965959521321, 0.008327207176948735, 2.8249264091086936, 174.54865912185218, 0.6766546273479193, 10.612518386182144, 1.1334538337698679, 0.008288158756129486, 4216.654365377593, 39.4967180825054, 0.07670907507734256, 0.07281727974082476, 0.02636730297792404, 10.736952850162323, 27.04845700022881, 77.81009493579901], :FTOL_REACHED, nothing)], :BORDER_FOUND_BY_SCAN_TOL, :left, 744, 355.48155804927273), EndPoint(531.2562801938634, ProfilePoint[ProfilePoint(531.2562801938634, -476.46387496548437, [531.2562801938634, 0.5307910053315448, 7.549494408461257e8, 0.1451427814960342, 1234.2157353860853, 0.008055488706596182, 0.26712865842074357, 514784.8967305426, 7.568622626948663, 623958.7054518852, 140.91492028813818, 0.0010017754840170763, 0.00794701270609204, 2.810118328562451, 173.41411615906244, 0.6718332023219316, 10.115499722748597, 1.0746093856730552, 0.008279361819709142, 6780.0980807511605, 39.109749840174715, 0.08110264560583014, 0.07625224866955709, 0.027472089503980248, 4.748352610667981, 26.442197613137477, 80.18917673881093], :FTOL_REACHED, nothing)], :BORDER_FOUND_BY_SCAN_TOL, :right, 736, 531.2562801938634)))\n",
      "ParamInterval(ParamIntervalInput([432.854027325732, 0.53027229006794, 7.85221045232906e8, 0.144777009620017, 1000.0, 0.008398825029262, 0.267299659481333, 1.0e6, 5.42989282766407, 633154.209632843, 142.723069412318, 0.001, 0.008162255244283, 2.82568032716189, 173.64095522801, 0.679185853534469, 10.4074255973465, 1.06454014521077, 0.008309263619427, 10000.0, 38.9972748894298, 0.078108833252848, 0.074514698833232, 0.026887318057561, 3.97622379188569, 26.7251164163486, 79.753639977851], 2, var\"#5#7\"(), -476.45752471529624, [:log, :log, :log, :log, :log, :log, :log, :log, :log, :log, :log, :log, :log, :log, :log, :log, :log, :log, :log, :log, :log, :log, :log, :log, :log, :log, "
     ]
    }
   ],
   "source": [
    "using LikelihoodProfiler\n",
    "\n",
    "α = L_TOT(p_best) + 3.84\n",
    "\n",
    "intervals = Vector{ParamInterval}(undef,length(p_init))\n",
    "for i in 1:length(p_init)\n",
    "    intervals[i] = get_interval(\n",
    "        [p for p in p_init],\n",
    "        i,\n",
    "        (p)->L_TOT(NamedTuple{keys(p_init)}(p)),\n",
    "        :CICO_ONE_PASS,\n",
    "        loss_crit = α,\n",
    "        theta_bounds = [(pb[1]/2,pb[2]*2) for pb in p_scan],\n",
    "        scan_bounds = p_scan[i],\n",
    "        local_alg = :LN_NELDERMEAD,\n",
    "        scale = fill(:log,length(p_init))\n",
    "    )\n",
    "    println(intervals[i]) \n",
    "end"
   ]
  },
  {
   "cell_type": "code",
   "execution_count": 141,
   "metadata": {},
   "outputs": [
    {
     "ename": "ArgumentError",
     "evalue": "ArgumentError: invalid index: 'p' of type Char",
     "output_type": "error",
     "traceback": [
      "ArgumentError: invalid index: 'p' of type Char",
      "",
      "Stacktrace:",
      " [1] to_index(::Char) at .\\indices.jl:297",
      " [2] to_index(::VectorOfArray{Float64,2,Array{Array{Float64,1},1}}, ::Char) at .\\indices.jl:274",
      " [3] to_indices at .\\indices.jl:325 [inlined]",
      " [4] to_indices at .\\indices.jl:321 [inlined]",
      " [5] getindex at .\\abstractarray.jl:980 [inlined]",
      " [6] L(::VectorOfArray{Float64,2,Array{Array{Float64,1},1}}, ::DataFrame, ::Array{Float64,1}) at .\\In[135]:4",
      " [7] top-level scope at In[141]:1"
     ]
    }
   ],
   "source": [
    "L(saveval, data_CFUE_Long,[\n",
    "        sd_JAK2EpoR_au,\n",
    "        sd_JAK2EpoR_au,\n",
    "        sd_CIS_au,\n",
    "        sd_SOCS3_au,\n",
    "        sd_STAT5_au,\n",
    "        sd_STAT5_au\n",
    "    ] )"
   ]
  },
  {
   "cell_type": "code",
   "execution_count": 147,
   "metadata": {},
   "outputs": [
    {
     "data": {
      "text/plain": [
       "69430.02502971576"
      ]
     },
     "execution_count": 147,
     "metadata": {},
     "output_type": "execute_result"
    }
   ],
   "source": [
    "1/(sqrt(2π)*prod([\n",
    "        sd_JAK2EpoR_au,\n",
    "        sd_JAK2EpoR_au,\n",
    "        sd_CIS_au,\n",
    "        sd_SOCS3_au,\n",
    "        sd_STAT5_au,\n",
    "        sd_STAT5_au\n",
    "    ]))"
   ]
  },
  {
   "cell_type": "code",
   "execution_count": 16,
   "metadata": {},
   "outputs": [
    {
     "data": {
      "text/html": [
       "<table class=\"data-frame\"><thead><tr><th></th><th>time</th><th>pJAK2_au</th><th>pEpoR_au</th><th>CIS_au</th><th>SOCS3_au</th><th>tSTAT5_au</th><th>pSTAT5_au</th></tr><tr><th></th><th>Float64?</th><th>Float64?</th><th>Float64?</th><th>Any</th><th>Any</th><th>Any</th><th>Any</th></tr></thead><tbody><p>14 rows × 7 columns</p><tr><th>1</th><td>0.0</td><td>-1.956</td><td>-2.35533</td><td>-1.76936</td><td><em>missing</em></td><td>-0.236382</td><td>-2.96273</td></tr><tr><th>2</th><td>5.0</td><td>0.0</td><td>-0.154401</td><td>-1.41095</td><td><em>missing</em></td><td>0.0</td><td>0.0</td></tr><tr><th>3</th><td>10.0</td><td>-0.127345</td><td>0.0</td><td>-1.67073</td><td>-0.959712</td><td>-0.164299</td><td>-0.0421106</td></tr><tr><th>4</th><td>20.0</td><td>-0.127345</td><td>-0.217191</td><td>-1.43079</td><td>-0.550579</td><td>-0.248148</td><td>-0.251698</td></tr><tr><th>5</th><td>40.0</td><td>-0.581607</td><td>-0.719316</td><td>-0.890319</td><td><em>missing</em></td><td><em>missing</em></td><td><em>missing</em></td></tr><tr><th>6</th><td>60.0</td><td>-1.36547</td><td>-0.996595</td><td>-0.548992</td><td>-0.244981</td><td>-0.065582</td><td>-0.407954</td></tr><tr><th>7</th><td>80.0</td><td>-0.787283</td><td>-0.954877</td><td>-0.085746</td><td><em>missing</em></td><td>-0.167296</td><td>-0.772186</td></tr><tr><th>8</th><td>100.0</td><td>-1.03335</td><td>-1.15586</td><td>-0.035147</td><td><em>missing</em></td><td>-0.126339</td><td>-0.786956</td></tr><tr><th>9</th><td>120.0</td><td>-1.59729</td><td>-0.548185</td><td><em>missing</em></td><td>0.0</td><td>-0.0584778</td><td>-0.712455</td></tr><tr><th>10</th><td>140.0</td><td>-0.872448</td><td>-0.872773</td><td>-0.111767</td><td><em>missing</em></td><td>-0.193369</td><td>-0.9147</td></tr><tr><th>11</th><td>160.0</td><td>-0.86692</td><td>-0.620594</td><td>-0.124038</td><td><em>missing</em></td><td>-0.153514</td><td>-0.897637</td></tr><tr><th>12</th><td>180.0</td><td>-1.25002</td><td>-1.29515</td><td>-0.0217614</td><td>0.0</td><td>-0.0751112</td><td>-0.535188</td></tr><tr><th>13</th><td>220.0</td><td>-1.22736</td><td>-1.39774</td><td>-0.0402839</td><td><em>missing</em></td><td>-0.240428</td><td>-1.06689</td></tr><tr><th>14</th><td>240.0</td><td>-0.990906</td><td>-1.06889</td><td>0.0</td><td>-0.0133421</td><td>-0.141014</td><td>-0.559228</td></tr></tbody></table>"
      ],
      "text/latex": [
       "\\begin{tabular}{r|ccccccc}\n",
       "\t& time & pJAK2\\_au & pEpoR\\_au & CIS\\_au & SOCS3\\_au & tSTAT5\\_au & pSTAT5\\_au\\\\\n",
       "\t\\hline\n",
       "\t& Float64? & Float64? & Float64? & Any & Any & Any & Any\\\\\n",
       "\t\\hline\n",
       "\t1 & 0.0 & -1.956 & -2.35533 & -1.76936 & \\emph{missing} & -0.236382 & -2.96273 \\\\\n",
       "\t2 & 5.0 & 0.0 & -0.154401 & -1.41095 & \\emph{missing} & 0.0 & 0.0 \\\\\n",
       "\t3 & 10.0 & -0.127345 & 0.0 & -1.67073 & -0.959712 & -0.164299 & -0.0421106 \\\\\n",
       "\t4 & 20.0 & -0.127345 & -0.217191 & -1.43079 & -0.550579 & -0.248148 & -0.251698 \\\\\n",
       "\t5 & 40.0 & -0.581607 & -0.719316 & -0.890319 & \\emph{missing} & \\emph{missing} & \\emph{missing} \\\\\n",
       "\t6 & 60.0 & -1.36547 & -0.996595 & -0.548992 & -0.244981 & -0.065582 & -0.407954 \\\\\n",
       "\t7 & 80.0 & -0.787283 & -0.954877 & -0.085746 & \\emph{missing} & -0.167296 & -0.772186 \\\\\n",
       "\t8 & 100.0 & -1.03335 & -1.15586 & -0.035147 & \\emph{missing} & -0.126339 & -0.786956 \\\\\n",
       "\t9 & 120.0 & -1.59729 & -0.548185 & \\emph{missing} & 0.0 & -0.0584778 & -0.712455 \\\\\n",
       "\t10 & 140.0 & -0.872448 & -0.872773 & -0.111767 & \\emph{missing} & -0.193369 & -0.9147 \\\\\n",
       "\t11 & 160.0 & -0.86692 & -0.620594 & -0.124038 & \\emph{missing} & -0.153514 & -0.897637 \\\\\n",
       "\t12 & 180.0 & -1.25002 & -1.29515 & -0.0217614 & 0.0 & -0.0751112 & -0.535188 \\\\\n",
       "\t13 & 220.0 & -1.22736 & -1.39774 & -0.0402839 & \\emph{missing} & -0.240428 & -1.06689 \\\\\n",
       "\t14 & 240.0 & -0.990906 & -1.06889 & 0.0 & -0.0133421 & -0.141014 & -0.559228 \\\\\n",
       "\\end{tabular}\n"
      ],
      "text/plain": [
       "14×7 DataFrame. Omitted printing of 2 columns\n",
       "│ Row │ time     │ pJAK2_au  │ pEpoR_au  │ CIS_au     │ SOCS3_au   │\n",
       "│     │ \u001b[90mFloat64?\u001b[39m │ \u001b[90mFloat64?\u001b[39m  │ \u001b[90mFloat64?\u001b[39m  │ \u001b[90mAny\u001b[39m        │ \u001b[90mAny\u001b[39m        │\n",
       "├─────┼──────────┼───────────┼───────────┼────────────┼────────────┤\n",
       "│ 1   │ 0.0      │ -1.956    │ -2.35533  │ -1.76936   │ \u001b[90mmissing\u001b[39m    │\n",
       "│ 2   │ 5.0      │ 0.0       │ -0.154401 │ -1.41095   │ \u001b[90mmissing\u001b[39m    │\n",
       "│ 3   │ 10.0     │ -0.127345 │ 0.0       │ -1.67073   │ -0.959712  │\n",
       "│ 4   │ 20.0     │ -0.127345 │ -0.217191 │ -1.43079   │ -0.550579  │\n",
       "│ 5   │ 40.0     │ -0.581607 │ -0.719316 │ -0.890319  │ \u001b[90mmissing\u001b[39m    │\n",
       "│ 6   │ 60.0     │ -1.36547  │ -0.996595 │ -0.548992  │ -0.244981  │\n",
       "│ 7   │ 80.0     │ -0.787283 │ -0.954877 │ -0.085746  │ \u001b[90mmissing\u001b[39m    │\n",
       "│ 8   │ 100.0    │ -1.03335  │ -1.15586  │ -0.035147  │ \u001b[90mmissing\u001b[39m    │\n",
       "│ 9   │ 120.0    │ -1.59729  │ -0.548185 │ \u001b[90mmissing\u001b[39m    │ 0.0        │\n",
       "│ 10  │ 140.0    │ -0.872448 │ -0.872773 │ -0.111767  │ \u001b[90mmissing\u001b[39m    │\n",
       "│ 11  │ 160.0    │ -0.86692  │ -0.620594 │ -0.124038  │ \u001b[90mmissing\u001b[39m    │\n",
       "│ 12  │ 180.0    │ -1.25002  │ -1.29515  │ -0.0217614 │ 0.0        │\n",
       "│ 13  │ 220.0    │ -1.22736  │ -1.39774  │ -0.0402839 │ \u001b[90mmissing\u001b[39m    │\n",
       "│ 14  │ 240.0    │ -0.990906 │ -1.06889  │ 0.0        │ -0.0133421 │"
      ]
     },
     "execution_count": 16,
     "metadata": {},
     "output_type": "execute_result"
    }
   ],
   "source": [
    "df = DataFrame([recode(col, \"NaN\"=>missing) for col = eachcol(data_CFUE_Long)], names(data_CFUE_Long))"
   ]
  },
  {
   "cell_type": "code",
   "execution_count": 18,
   "metadata": {},
   "outputs": [
    {
     "ename": "ArgumentError",
     "evalue": "ArgumentError: cannot `convert` value \"NaN\" (of type String) to type of recoded levels (Float64). This will happen with recode() when not all original levels are recoded (i.e. some are preserved) and their type is incompatible with that of recoded levels.",
     "output_type": "error",
     "traceback": [
      "ArgumentError: cannot `convert` value \"NaN\" (of type String) to type of recoded levels (Float64). This will happen with recode() when not all original levels are recoded (i.e. some are preserved) and their type is incompatible with that of recoded levels.",
      "",
      "Stacktrace:",
      " [1] recode!(::Array{Float64,1}, ::Array{Any,1}, ::Nothing, ::Pair{Missing,Float64}) at C:\\Julia-1.4.2\\packages\\CategoricalArrays\\hxUIH\\src\\recode.jl:67",
      " [2] recode at C:\\Julia-1.4.2\\packages\\CategoricalArrays\\hxUIH\\src\\recode.jl:370 [inlined]",
      " [3] recode at C:\\Julia-1.4.2\\packages\\CategoricalArrays\\hxUIH\\src\\recode.jl:348 [inlined]",
      " [4] (::var\"#19#20\")(::Array{Any,1}) at .\\none:0",
      " [5] iterate at .\\generator.jl:47 [inlined]",
      " [6] collect_to!(::Array{Array{Float64,1},1}, ::Base.Generator{DataFrames.DataFrameColumns{DataFrame},var\"#19#20\"}, ::Int64, ::Tuple{Base.OneTo{Int64},Int64}) at .\\array.jl:711",
      " [7] collect_to_with_first!(::Array{Array{Float64,1},1}, ::Array{Float64,1}, ::Base.Generator{DataFrames.DataFrameColumns{DataFrame},var\"#19#20\"}, ::Tuple{Base.OneTo{Int64},Int64}) at .\\array.jl:689",
      " [8] collect(::Base.Generator{DataFrames.DataFrameColumns{DataFrame},var\"#19#20\"}) at .\\array.jl:670",
      " [9] top-level scope at In[18]:1"
     ]
    }
   ],
   "source": [
    "DataFrame([recode(col, missing=>NaN) for col = eachcol(data_CFUE_Long)], names(data_CFUE_Long))\n"
   ]
  },
  {
   "cell_type": "code",
   "execution_count": 24,
   "metadata": {},
   "outputs": [
    {
     "data": {
      "text/plain": [
       "\"C:\\\\Julia-1.4.2\\\\dev\\\\likelihoodprofiler-cases\\\\notebook\\\\JAK2STAT5_CFUE_Long_log10.csv\""
      ]
     },
     "execution_count": 24,
     "metadata": {},
     "output_type": "execute_result"
    }
   ],
   "source": [
    "CSV.write(\"C:\\\\Julia-1.4.2\\\\dev\\\\likelihoodprofiler-cases\\\\notebook\\\\JAK2STAT5_CFUE_Long_log10.csv\",df)"
   ]
  },
  {
   "cell_type": "code",
   "execution_count": 210,
   "metadata": {},
   "outputs": [
    {
     "data": {
      "text/plain": [
       "5-element Array{DataFrame,1}:\n",
       " 3×3 DataFrame\n",
       "│ Row │ time  │ pJAK2_au   │ pEpoR_au   │\n",
       "│     │ \u001b[90mInt64\u001b[39m │ \u001b[90mFloat64\u001b[39m    │ \u001b[90mFloat64\u001b[39m    │\n",
       "├─────┼───────┼────────────┼────────────┤\n",
       "│ 1   │ 7     │ -0.29943   │ 0.0        │\n",
       "│ 2   │ 7     │ -0.119102  │ -0.172771  │\n",
       "│ 3   │ 7     │ -0.0827213 │ -0.0380217 │\n",
       " 3×3 DataFrame\n",
       "│ Row │ time  │ pJAK2_au   │ pEpoR_au  │\n",
       "│     │ \u001b[90mInt64\u001b[39m │ \u001b[90mFloat64\u001b[39m    │ \u001b[90mFloat64\u001b[39m   │\n",
       "├─────┼───────┼────────────┼───────────┤\n",
       "│ 1   │ 7     │ -0.248278  │ -0.180472 │\n",
       "│ 2   │ 7     │ -0.0985155 │ -0.105062 │\n",
       "│ 3   │ 7     │ 0.0        │ -0.157768 │\n",
       " 3×3 DataFrame\n",
       "│ Row │ time  │ pJAK2_au  │ pEpoR_au   │\n",
       "│     │ \u001b[90mInt64\u001b[39m │ \u001b[90mFloat64\u001b[39m   │ \u001b[90mFloat64\u001b[39m    │\n",
       "├─────┼───────┼───────────┼────────────┤\n",
       "│ 1   │ 7     │ -0.343064 │ -0.22202   │\n",
       "│ 2   │ 7     │ -0.228849 │ -0.0934627 │\n",
       "│ 3   │ 7     │ -0.136304 │ -0.474565  │\n",
       " 3×3 DataFrame\n",
       "│ Row │ time  │ pJAK2_au  │ pEpoR_au  │\n",
       "│     │ \u001b[90mInt64\u001b[39m │ \u001b[90mFloat64\u001b[39m   │ \u001b[90mFloat64\u001b[39m   │\n",
       "├─────┼───────┼───────────┼───────────┤\n",
       "│ 1   │ 7     │ -0.811793 │ -0.88256  │\n",
       "│ 2   │ 7     │ -0.781691 │ -0.568048 │\n",
       "│ 3   │ 7     │ -0.646928 │ -0.74604  │\n",
       " 3×3 DataFrame\n",
       "│ Row │ time  │ pJAK2_au │ pEpoR_au │\n",
       "│     │ \u001b[90mInt64\u001b[39m │ \u001b[90mFloat64\u001b[39m  │ \u001b[90mFloat64\u001b[39m  │\n",
       "├─────┼───────┼──────────┼──────────┤\n",
       "│ 1   │ 7     │ -1.39158 │ -1.28246 │\n",
       "│ 2   │ 7     │ -1.34306 │ -1.39768 │\n",
       "│ 3   │ 7     │ -1.09451 │ -1.43373 │"
      ]
     },
     "execution_count": 210,
     "metadata": {},
     "output_type": "execute_result"
    }
   ],
   "source": [
    "data_CFUE_DR7"
   ]
  },
  {
   "cell_type": "code",
   "execution_count": null,
   "metadata": {},
   "outputs": [],
   "source": []
  }
 ],
 "metadata": {
  "kernelspec": {
   "display_name": "Julia 1.5.0",
   "language": "julia",
   "name": "julia-1.5"
  },
  "language_info": {
   "file_extension": ".jl",
   "mimetype": "application/julia",
   "name": "julia",
   "version": "1.5.0"
  }
 },
 "nbformat": 4,
 "nbformat_minor": 4
}
