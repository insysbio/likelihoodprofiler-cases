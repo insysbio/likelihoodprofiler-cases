{
 "cells": [
  {
   "cell_type": "markdown",
   "metadata": {},
   "source": [
    "## Cancer Taxol Treatment Model"
   ]
  },
  {
   "cell_type": "markdown",
   "metadata": {},
   "source": [
    "The goal of the notebook is to study practical identifiability of **Cancer Taxol Treatment Model** with *CICOBase*. Identifiability of this model was analyzed in [Marisa C.Eisenberg, Harsh V.Jain. A confidence building exercise in data and identifiability](https://www.sciencedirect.com/science/article/pii/S0022519317303454). We have translated Marisa's Matlab model from [cancer-chemo-identifiability repo](https://github.com/marisae/cancer-chemo-identifiability) to [Julia language](https://julialang.org/). \n",
    "The model is defined by the following system of differential equations:"
   ]
  },
  {
   "cell_type": "code",
   "execution_count": 1,
   "metadata": {},
   "outputs": [],
   "source": [
    "using DiffEqBase, OrdinaryDiffEq, Plots, NLopt, CICOBase, DataFrames, Distributions\n",
    "import Statistics: mean\n",
    "\n",
    "# https://github.com/marisae/cancer-chemo-identifiability/blob/master/Profile%20Likelihood/testa0_de.m\n",
    "function ode_func(du, u, p, t, drug)\n",
    "    let (a0, ka, r0, d0, kd) = (p[1], p[2], p[3], p[4], p[5])\n",
    "\n",
    "        K   = 10.515*100\n",
    "        V0  = 1.3907*K\n",
    "        lam = 9.5722\n",
    "\n",
    "        theta = 10.\n",
    "\n",
    "        # Values taken from \n",
    "        aRP  = 20.     # per day from Kim_PrlifQuies\n",
    "\n",
    "        Ncel = u[1] + u[2] + u[3]\n",
    "        Lfac = ((K-Ncel)^theta)/((V0^theta) + ((K-Ncel)^theta))\n",
    "\n",
    "        arstexp = 3.\n",
    "        adthexp = 4.\n",
    "\n",
    "        arst = a0*(drug^arstexp)/(ka^arstexp + (drug^arstexp))\n",
    "        adth = d0*(drug^adthexp)/(kd^adthexp + (drug^adthexp))\n",
    "        arcv = r0\n",
    "\n",
    "        # The differntial equations\n",
    "        du[1] = -lam*u[1] + aRP*u[2]*Lfac - arst*u[1] + arcv*u[3]\n",
    "        du[2] = 2*lam*u[1] - aRP*u[2]*Lfac\n",
    "        du[3] = arst*u[1] - adth*u[3] - arcv*u[3]\n",
    "    end\n",
    "end;"
   ]
  },
  {
   "cell_type": "markdown",
   "metadata": {},
   "source": [
    "Experimental datasets are also provided in [cancer-chemo-identifiability repo](https://github.com/marisae/cancer-chemo-identifiability/blob/master/Profile%20Likelihood/testa0_fit.m#L56-L105) for four drug doses (5, 10, 40, 100)"
   ]
  },
  {
   "cell_type": "code",
   "execution_count": 2,
   "metadata": {},
   "outputs": [],
   "source": [
    "# https://github.com/marisae/cancer-chemo-identifiability/blob/master/Profile%20Likelihood/testa0_fit.m\n",
    "\n",
    "# Data from Terzis et al. Brit J Cancer 1997;75:1744.\n",
    "# From Bowman et al. Glia 1999;27:22, glioma cell volume is 0.916\n",
    "# picoliters, 1 mm^3 = 1e6 pl or ~1.091 million cells\n",
    "\n",
    "times = [0., 3., 6., 9., 12., 15.]   # days\n",
    "\n",
    "dose = [5., 10., 40., 100.];    # dose in ng/ml\n",
    "\n",
    "# Control data\n",
    "Cell = [0.009, 0.050, 0.120, 0.189, 0.230, 0.260]*1091.0   # thousands of cells\n",
    "Cerr = [0.006, 0.012, 0.010, 0.011, 0.011, 0.011]*1091.0   # thousands of cells\n",
    "\n",
    "# 0.005 ug/ml Taxol\n",
    "Cell005 = [0.009, 0.047, 0.089, 0.149, 0.198, 0.219]*1091.0   # thousands of cells\n",
    "Cerr005 = [0.006, 0.013, 0.010, 0.011, 0.013, 0.010]*1091.0   # thousands of cells\n",
    "\n",
    "# 0.010 ug/ml Taxol\n",
    "Cell010 = [0.009, 0.043, 0.077, 0.093, 0.109, 0.128]*1091.0   # thousands of cells\n",
    "Cerr010 = [0.006, 0.012, 0.013, 0.012, 0.014, 0.012]*1091.0   # thousands of cells\n",
    "\n",
    "# 0.040 ug/ml Taxol\n",
    "Cell040 = [0.009, 0.025, 0.047, 0.054, 0.076, 0.085]*1091.0   # thousands of cells\n",
    "Cerr040 = [0.005, 0.010, 0.010, 0.011, 0.010, 0.010]*1091.0   # thousands of cells\n",
    "\n",
    "# 0.100 ug/ml Taxol\n",
    "Cell100 = [0.009, 0.025, 0.026, 0.028, 0.029, 0.031]*1091.0   # thousands of cells\n",
    "Cerr100 = [0.006, 0.010, 0.009, 0.008, 0.011, 0.011]*1091.0   # thousands of cells\n",
    "\n",
    "C005 = mean(Cell005)\n",
    "C010 = mean(Cell010)\n",
    "C040 = mean(Cell040)\n",
    "C100 = mean(Cell100)\n",
    "\n",
    "data = [Cell005/C005, Cell010/C010, Cell040/C040, Cell100/C100]\n",
    "datamean = [C005, C010, C040, C100];"
   ]
  },
  {
   "cell_type": "markdown",
   "metadata": {},
   "source": [
    "To visualize numerical simulations vs experimental data we can solve the ODE system and plot the results. Let's do it for  *dose=5*.   "
   ]
  },
  {
   "cell_type": "code",
   "execution_count": 3,
   "metadata": {},
   "outputs": [],
   "source": [
    "# solver algorithm and tolerances\n",
    "solver_opts = Dict(\n",
    "    :alg => Rosenbrock23(),\n",
    "    :reltol => 1e-3,\n",
    "    :abstol => 1e-6\n",
    ")\n",
    "\n",
    "# initial values and parameters\n",
    "# https://github.com/marisae/cancer-chemo-identifiability/blob/master/Profile%20Likelihood/testa0_soln.m#L3-L6\n",
    "# https://github.com/marisae/cancer-chemo-identifiability/blob/master/Profile%20Likelihood/testa0_fit.m#L4\n",
    "\n",
    "#P0 = 7.2700\n",
    "#R0 = 2.5490\n",
    "\n",
    "u0 = [7.2700, 2.5490, 0.]\n",
    "p0 = [8.3170, 8.0959, 0.0582, 1.3307, 119.1363]\n",
    "\n",
    "tspan = (0.,15.)\n",
    "\n",
    "prob = ODEProblem((du,u,p,t)->ode_func(du,u,p,t,5.0), u0, tspan, p0)\n",
    "sol = solve(\n",
    "    prob, \n",
    "    solver_opts[:alg], \n",
    "    reltol=solver_opts[:reltol],\n",
    "    abstol=solver_opts[:abstol],\n",
    "    saveat=times\n",
    ");"
   ]
  },
  {
   "cell_type": "code",
   "execution_count": 4,
   "metadata": {},
   "outputs": [
    {
     "data": {
      "image/png": "[encoded data removed]",
      "image/svg+xml": [
       "<?xml version=\"1.0\" encoding=\"utf-8\"?>\n",
       "<svg xmlns=\"http://www.w3.org/2000/svg\" xmlns:xlink=\"http://www.w3.org/1999/xlink\" width=\"600\" height=\"400\" viewBox=\"0 0 2400 1600\">\n",
       "<defs>\n",
       "  <clipPath id=\"clip770\">\n",
       "    <rect x=\"0\" y=\"0\" width=\"2400\" height=\"1600\"/>\n",
       "  </clipPath>\n",
       "</defs>\n",
       "<path clip-path=\"url(#clip770)\" d=\"M0 1600 L2400 1600 L2400 0 L0 0  Z\" fill=\"#ffffff\" fill-rule=\"evenodd\" fill-opacity=\"1\"/>\n",
       "<defs>\n",
       "  <clipPath id=\"clip771\">\n",
       "    <rect x=\"480\" y=\"0\" width=\"1681\" height=\"1600\"/>\n",
       "  </clipPath>\n",
       "</defs>\n",
       "<path clip-path=\"url(#clip770)\" d=\"M234.125 1423.18 L2352.76 1423.18 L2352.76 47.2441 L234.125 47.2441  Z\" fill=\"#ffffff\" fill-rule=\"evenodd\" fill-opacity=\"1\"/>\n",
       "<defs>\n",
       "  <clipPath id=\"clip772\">\n",
       "    <rect x=\"234\" y=\"47\" width=\"2120\" height=\"1377\"/>\n",
       "  </clipPath>\n",
       "</defs>\n",
       "<polyline clip-path=\"url(#clip772)\" style=\"stroke:#000000; stroke-linecap:round; stroke-linejoin:round; stroke-width:2; stroke-opacity:0.1; fill:none\" points=\"294.087,1423.18 294.087,47.2441 \"/>\n",
       "<polyline clip-path=\"url(#clip772)\" style=\"stroke:#000000; stroke-linecap:round; stroke-linejoin:round; stroke-width:2; stroke-opacity:0.1; fill:none\" points=\"960.323,1423.18 960.323,47.2441 \"/>\n",
       "<polyline clip-path=\"url(#clip772)\" style=\"stroke:#000000; stroke-linecap:round; stroke-linejoin:round; stroke-width:2; stroke-opacity:0.1; fill:none\" points=\"1626.56,1423.18 1626.56,47.2441 \"/>\n",
       "<polyline clip-path=\"url(#clip772)\" style=\"stroke:#000000; stroke-linecap:round; stroke-linejoin:round; stroke-width:2; stroke-opacity:0.1; fill:none\" points=\"2292.79,1423.18 2292.79,47.2441 \"/>\n",
       "<polyline clip-path=\"url(#clip772)\" style=\"stroke:#000000; stroke-linecap:round; stroke-linejoin:round; stroke-width:2; stroke-opacity:0.1; fill:none\" points=\"234.125,1164.46 2352.76,1164.46 \"/>\n",
       "<polyline clip-path=\"url(#clip772)\" style=\"stroke:#000000; stroke-linecap:round; stroke-linejoin:round; stroke-width:2; stroke-opacity:0.1; fill:none\" points=\"234.125,890.968 2352.76,890.968 \"/>\n",
       "<polyline clip-path=\"url(#clip772)\" style=\"stroke:#000000; stroke-linecap:round; stroke-linejoin:round; stroke-width:2; stroke-opacity:0.1; fill:none\" points=\"234.125,617.48 2352.76,617.48 \"/>\n",
       "<polyline clip-path=\"url(#clip772)\" style=\"stroke:#000000; stroke-linecap:round; stroke-linejoin:round; stroke-width:2; stroke-opacity:0.1; fill:none\" points=\"234.125,343.991 2352.76,343.991 \"/>\n",
       "<polyline clip-path=\"url(#clip772)\" style=\"stroke:#000000; stroke-linecap:round; stroke-linejoin:round; stroke-width:2; stroke-opacity:0.1; fill:none\" points=\"234.125,70.5019 2352.76,70.5019 \"/>\n",
       "<polyline clip-path=\"url(#clip770)\" style=\"stroke:#000000; stroke-linecap:round; stroke-linejoin:round; stroke-width:4; stroke-opacity:1; fill:none\" points=\"234.125,1423.18 2352.76,1423.18 \"/>\n",
       "<polyline clip-path=\"url(#clip770)\" style=\"stroke:#000000; stroke-linecap:round; stroke-linejoin:round; stroke-width:4; stroke-opacity:1; fill:none\" points=\"294.087,1423.18 294.087,1404.28 \"/>\n",
       "<polyline clip-path=\"url(#clip770)\" style=\"stroke:#000000; stroke-linecap:round; stroke-linejoin:round; stroke-width:4; stroke-opacity:1; fill:none\" points=\"960.323,1423.18 960.323,1404.28 \"/>\n",
       "<polyline clip-path=\"url(#clip770)\" style=\"stroke:#000000; stroke-linecap:round; stroke-linejoin:round; stroke-width:4; stroke-opacity:1; fill:none\" points=\"1626.56,1423.18 1626.56,1404.28 \"/>\n",
       "<polyline clip-path=\"url(#clip770)\" style=\"stroke:#000000; stroke-linecap:round; stroke-linejoin:round; stroke-width:4; stroke-opacity:1; fill:none\" points=\"2292.79,1423.18 2292.79,1404.28 \"/>\n",
       "<path clip-path=\"url(#clip770)\" d=\"M294.087 1454.1 Q290.476 1454.1 288.647 1457.66 Q286.841 1461.2 286.841 1468.33 Q286.841 1475.44 288.647 1479.01 Q290.476 1482.55 294.087 1482.55 Q297.721 1482.55 299.526 1479.01 Q301.355 1475.44 301.355 1468.33 Q301.355 1461.2 299.526 1457.66 Q297.721 1454.1 294.087 1454.1 M294.087 1450.39 Q299.897 1450.39 302.952 1455 Q306.031 1459.58 306.031 1468.33 Q306.031 1477.06 302.952 1481.67 Q299.897 1486.25 294.087 1486.25 Q288.277 1486.25 285.198 1481.67 Q282.142 1477.06 282.142 1468.33 Q282.142 1459.58 285.198 1455 Q288.277 1450.39 294.087 1450.39 Z\" fill=\"#000000\" fill-rule=\"nonzero\" fill-opacity=\"1\" /><path clip-path=\"url(#clip770)\" d=\"M950.601 1451.02 L968.957 1451.02 L968.957 1454.96 L954.883 1454.96 L954.883 1463.43 Q955.901 1463.08 956.92 1462.92 Q957.938 1462.73 958.957 1462.73 Q964.744 1462.73 968.124 1465.9 Q971.503 1469.08 971.503 1474.49 Q971.503 1480.07 968.031 1483.17 Q964.559 1486.25 958.239 1486.25 Q956.063 1486.25 953.795 1485.88 Q951.55 1485.51 949.142 1484.77 L949.142 1480.07 Q951.226 1481.2 953.448 1481.76 Q955.67 1482.32 958.147 1482.32 Q962.151 1482.32 964.489 1480.21 Q966.827 1478.1 966.827 1474.49 Q966.827 1470.88 964.489 1468.77 Q962.151 1466.67 958.147 1466.67 Q956.272 1466.67 954.397 1467.08 Q952.545 1467.5 950.601 1468.38 L950.601 1451.02 Z\" fill=\"#000000\" fill-rule=\"nonzero\" fill-opacity=\"1\" /><path clip-path=\"url(#clip770)\" d=\"M1601.25 1481.64 L1608.89 1481.64 L1608.89 1455.28 L1600.58 1456.95 L1600.58 1452.69 L1608.84 1451.02 L1613.51 1451.02 L1613.51 1481.64 L1621.15 1481.64 L1621.15 1485.58 L1601.25 1485.58 L1601.25 1481.64 Z\" fill=\"#000000\" fill-rule=\"nonzero\" fill-opacity=\"1\" /><path clip-path=\"url(#clip770)\" d=\"M1640.6 1454.1 Q1636.99 1454.1 1635.16 1457.66 Q1633.35 1461.2 1633.35 1468.33 Q1633.35 1475.44 1635.16 1479.01 Q1636.99 1482.55 1640.6 1482.55 Q1644.23 1482.55 1646.04 1479.01 Q1647.87 1475.44 1647.87 1468.33 Q1647.87 1461.2 1646.04 1457.66 Q1644.23 1454.1 1640.6 1454.1 M1640.6 1450.39 Q1646.41 1450.39 1649.46 1455 Q1652.54 1459.58 1652.54 1468.33 Q1652.54 1477.06 1649.46 1481.67 Q1646.41 1486.25 1640.6 1486.25 Q1634.79 1486.25 1631.71 1481.67 Q1628.65 1477.06 1628.65 1468.33 Q1628.65 1459.58 1631.71 1455 Q1634.79 1450.39 1640.6 1450.39 Z\" fill=\"#000000\" fill-rule=\"nonzero\" fill-opacity=\"1\" /><path clip-path=\"url(#clip770)\" d=\"M2267.98 1481.64 L2275.62 1481.64 L2275.62 1455.28 L2267.31 1456.95 L2267.31 1452.69 L2275.57 1451.02 L2280.25 1451.02 L2280.25 1481.64 L2287.89 1481.64 L2287.89 1485.58 L2267.98 1485.58 L2267.98 1481.64 Z\" fill=\"#000000\" fill-rule=\"nonzero\" fill-opacity=\"1\" /><path clip-path=\"url(#clip770)\" d=\"M2297.38 1451.02 L2315.73 1451.02 L2315.73 1454.96 L2301.66 1454.96 L2301.66 1463.43 Q2302.68 1463.08 2303.7 1462.92 Q2304.72 1462.73 2305.73 1462.73 Q2311.52 1462.73 2314.9 1465.9 Q2318.28 1469.08 2318.28 1474.49 Q2318.28 1480.07 2314.81 1483.17 Q2311.34 1486.25 2305.02 1486.25 Q2302.84 1486.25 2300.57 1485.88 Q2298.33 1485.51 2295.92 1484.77 L2295.92 1480.07 Q2298 1481.2 2300.23 1481.76 Q2302.45 1482.32 2304.92 1482.32 Q2308.93 1482.32 2311.27 1480.21 Q2313.6 1478.1 2313.6 1474.49 Q2313.6 1470.88 2311.27 1468.77 Q2308.93 1466.67 2304.92 1466.67 Q2303.05 1466.67 2301.17 1467.08 Q2299.32 1467.5 2297.38 1468.38 L2297.38 1451.02 Z\" fill=\"#000000\" fill-rule=\"nonzero\" fill-opacity=\"1\" /><path clip-path=\"url(#clip770)\" d=\"M1292.5 1522.27 L1292.5 1532.4 L1304.56 1532.4 L1304.56 1536.95 L1292.5 1536.95 L1292.5 1556.3 Q1292.5 1560.66 1293.68 1561.9 Q1294.89 1563.14 1298.55 1563.14 L1304.56 1563.14 L1304.56 1568.04 L1298.55 1568.04 Q1291.77 1568.04 1289.19 1565.53 Q1286.61 1562.98 1286.61 1556.3 L1286.61 1536.95 L1282.32 1536.95 L1282.32 1532.4 L1286.61 1532.4 L1286.61 1522.27 L1292.5 1522.27 Z\" fill=\"#000000\" fill-rule=\"nonzero\" fill-opacity=\"1\" /><polyline clip-path=\"url(#clip770)\" style=\"stroke:#000000; stroke-linecap:round; stroke-linejoin:round; stroke-width:4; stroke-opacity:1; fill:none\" points=\"234.125,1423.18 234.125,47.2441 \"/>\n",
       "<polyline clip-path=\"url(#clip770)\" style=\"stroke:#000000; stroke-linecap:round; stroke-linejoin:round; stroke-width:4; stroke-opacity:1; fill:none\" points=\"234.125,1164.46 253.023,1164.46 \"/>\n",
       "<polyline clip-path=\"url(#clip770)\" style=\"stroke:#000000; stroke-linecap:round; stroke-linejoin:round; stroke-width:4; stroke-opacity:1; fill:none\" points=\"234.125,890.968 253.023,890.968 \"/>\n",
       "<polyline clip-path=\"url(#clip770)\" style=\"stroke:#000000; stroke-linecap:round; stroke-linejoin:round; stroke-width:4; stroke-opacity:1; fill:none\" points=\"234.125,617.48 253.023,617.48 \"/>\n",
       "<polyline clip-path=\"url(#clip770)\" style=\"stroke:#000000; stroke-linecap:round; stroke-linejoin:round; stroke-width:4; stroke-opacity:1; fill:none\" points=\"234.125,343.991 253.023,343.991 \"/>\n",
       "<polyline clip-path=\"url(#clip770)\" style=\"stroke:#000000; stroke-linecap:round; stroke-linejoin:round; stroke-width:4; stroke-opacity:1; fill:none\" points=\"234.125,70.5019 253.023,70.5019 \"/>\n",
       "<path clip-path=\"url(#clip770)\" d=\"M146.066 1147.18 L164.422 1147.18 L164.422 1151.11 L150.348 1151.11 L150.348 1159.58 Q151.366 1159.24 152.385 1159.08 Q153.403 1158.89 154.422 1158.89 Q160.209 1158.89 163.589 1162.06 Q166.968 1165.23 166.968 1170.65 Q166.968 1176.23 163.496 1179.33 Q160.024 1182.41 153.704 1182.41 Q151.528 1182.41 149.26 1182.04 Q147.015 1181.67 144.607 1180.93 L144.607 1176.23 Q146.691 1177.36 148.913 1177.92 Q151.135 1178.47 153.612 1178.47 Q157.616 1178.47 159.954 1176.37 Q162.292 1174.26 162.292 1170.65 Q162.292 1167.04 159.954 1164.93 Q157.616 1162.83 153.612 1162.83 Q151.737 1162.83 149.862 1163.24 Q148.01 1163.66 146.066 1164.54 L146.066 1147.18 Z\" fill=\"#000000\" fill-rule=\"nonzero\" fill-opacity=\"1\" /><path clip-path=\"url(#clip770)\" d=\"M186.181 1150.26 Q182.57 1150.26 180.741 1153.82 Q178.936 1157.36 178.936 1164.49 Q178.936 1171.6 180.741 1175.16 Q182.57 1178.7 186.181 1178.7 Q189.815 1178.7 191.621 1175.16 Q193.45 1171.6 193.45 1164.49 Q193.45 1157.36 191.621 1153.82 Q189.815 1150.26 186.181 1150.26 M186.181 1146.55 Q191.991 1146.55 195.047 1151.16 Q198.125 1155.74 198.125 1164.49 Q198.125 1173.22 195.047 1177.83 Q191.991 1182.41 186.181 1182.41 Q180.371 1182.41 177.292 1177.83 Q174.237 1173.22 174.237 1164.49 Q174.237 1155.74 177.292 1151.16 Q180.371 1146.55 186.181 1146.55 Z\" fill=\"#000000\" fill-rule=\"nonzero\" fill-opacity=\"1\" /><path clip-path=\"url(#clip770)\" d=\"M116.668 904.313 L124.306 904.313 L124.306 877.948 L115.996 879.614 L115.996 875.355 L124.26 873.688 L128.936 873.688 L128.936 904.313 L136.575 904.313 L136.575 908.248 L116.668 908.248 L116.668 904.313 Z\" fill=\"#000000\" fill-rule=\"nonzero\" fill-opacity=\"1\" /><path clip-path=\"url(#clip770)\" d=\"M156.019 876.767 Q152.408 876.767 150.579 880.332 Q148.774 883.873 148.774 891.003 Q148.774 898.11 150.579 901.674 Q152.408 905.216 156.019 905.216 Q159.653 905.216 161.459 901.674 Q163.288 898.11 163.288 891.003 Q163.288 883.873 161.459 880.332 Q159.653 876.767 156.019 876.767 M156.019 873.063 Q161.829 873.063 164.885 877.67 Q167.964 882.253 167.964 891.003 Q167.964 899.73 164.885 904.336 Q161.829 908.92 156.019 908.92 Q150.209 908.92 147.13 904.336 Q144.075 899.73 144.075 891.003 Q144.075 882.253 147.13 877.67 Q150.209 873.063 156.019 873.063 Z\" fill=\"#000000\" fill-rule=\"nonzero\" fill-opacity=\"1\" /><path clip-path=\"url(#clip770)\" d=\"M186.181 876.767 Q182.57 876.767 180.741 880.332 Q178.936 883.873 178.936 891.003 Q178.936 898.11 180.741 901.674 Q182.57 905.216 186.181 905.216 Q189.815 905.216 191.621 901.674 Q193.45 898.11 193.45 891.003 Q193.45 883.873 191.621 880.332 Q189.815 876.767 186.181 876.767 M186.181 873.063 Q191.991 873.063 195.047 877.67 Q198.125 882.253 198.125 891.003 Q198.125 899.73 195.047 904.336 Q191.991 908.92 186.181 908.92 Q180.371 908.92 177.292 904.336 Q174.237 899.73 174.237 891.003 Q174.237 882.253 177.292 877.67 Q180.371 873.063 186.181 873.063 Z\" fill=\"#000000\" fill-rule=\"nonzero\" fill-opacity=\"1\" /><path clip-path=\"url(#clip770)\" d=\"M116.668 630.824 L124.306 630.824 L124.306 604.459 L115.996 606.125 L115.996 601.866 L124.26 600.2 L128.936 600.2 L128.936 630.824 L136.575 630.824 L136.575 634.76 L116.668 634.76 L116.668 630.824 Z\" fill=\"#000000\" fill-rule=\"nonzero\" fill-opacity=\"1\" /><path clip-path=\"url(#clip770)\" d=\"M146.066 600.2 L164.422 600.2 L164.422 604.135 L150.348 604.135 L150.348 612.607 Q151.366 612.26 152.385 612.098 Q153.403 611.912 154.422 611.912 Q160.209 611.912 163.589 615.084 Q166.968 618.255 166.968 623.672 Q166.968 629.25 163.496 632.352 Q160.024 635.431 153.704 635.431 Q151.528 635.431 149.26 635.06 Q147.015 634.69 144.607 633.949 L144.607 629.25 Q146.691 630.385 148.913 630.94 Q151.135 631.496 153.612 631.496 Q157.616 631.496 159.954 629.389 Q162.292 627.283 162.292 623.672 Q162.292 620.061 159.954 617.954 Q157.616 615.848 153.612 615.848 Q151.737 615.848 149.862 616.264 Q148.01 616.681 146.066 617.561 L146.066 600.2 Z\" fill=\"#000000\" fill-rule=\"nonzero\" fill-opacity=\"1\" /><path clip-path=\"url(#clip770)\" d=\"M186.181 603.278 Q182.57 603.278 180.741 606.843 Q178.936 610.385 178.936 617.514 Q178.936 624.621 180.741 628.185 Q182.57 631.727 186.181 631.727 Q189.815 631.727 191.621 628.185 Q193.45 624.621 193.45 617.514 Q193.45 610.385 191.621 606.843 Q189.815 603.278 186.181 603.278 M186.181 599.575 Q191.991 599.575 195.047 604.181 Q198.125 608.764 198.125 617.514 Q198.125 626.241 195.047 630.848 Q191.991 635.431 186.181 635.431 Q180.371 635.431 177.292 630.848 Q174.237 626.241 174.237 617.514 Q174.237 608.764 177.292 604.181 Q180.371 599.575 186.181 599.575 Z\" fill=\"#000000\" fill-rule=\"nonzero\" fill-opacity=\"1\" /><path clip-path=\"url(#clip770)\" d=\"M119.885 357.336 L136.204 357.336 L136.204 361.271 L114.26 361.271 L114.26 357.336 Q116.922 354.581 121.505 349.951 Q126.112 345.299 127.292 343.956 Q129.538 341.433 130.417 339.697 Q131.32 337.937 131.32 336.248 Q131.32 333.493 129.376 331.757 Q127.455 330.021 124.353 330.021 Q122.154 330.021 119.7 330.785 Q117.269 331.549 114.492 333.1 L114.492 328.377 Q117.316 327.243 119.769 326.664 Q122.223 326.086 124.26 326.086 Q129.63 326.086 132.825 328.771 Q136.019 331.456 136.019 335.947 Q136.019 338.076 135.209 339.998 Q134.422 341.896 132.316 344.488 Q131.737 345.16 128.635 348.377 Q125.533 351.572 119.885 357.336 Z\" fill=\"#000000\" fill-rule=\"nonzero\" fill-opacity=\"1\" /><path clip-path=\"url(#clip770)\" d=\"M156.019 329.789 Q152.408 329.789 150.579 333.354 Q148.774 336.896 148.774 344.025 Q148.774 351.132 150.579 354.697 Q152.408 358.238 156.019 358.238 Q159.653 358.238 161.459 354.697 Q163.288 351.132 163.288 344.025 Q163.288 336.896 161.459 333.354 Q159.653 329.789 156.019 329.789 M156.019 326.086 Q161.829 326.086 164.885 330.692 Q167.964 335.275 167.964 344.025 Q167.964 352.752 164.885 357.359 Q161.829 361.942 156.019 361.942 Q150.209 361.942 147.13 357.359 Q144.075 352.752 144.075 344.025 Q144.075 335.275 147.13 330.692 Q150.209 326.086 156.019 326.086 Z\" fill=\"#000000\" fill-rule=\"nonzero\" fill-opacity=\"1\" /><path clip-path=\"url(#clip770)\" d=\"M186.181 329.789 Q182.57 329.789 180.741 333.354 Q178.936 336.896 178.936 344.025 Q178.936 351.132 180.741 354.697 Q182.57 358.238 186.181 358.238 Q189.815 358.238 191.621 354.697 Q193.45 351.132 193.45 344.025 Q193.45 336.896 191.621 333.354 Q189.815 329.789 186.181 329.789 M186.181 326.086 Q191.991 326.086 195.047 330.692 Q198.125 335.275 198.125 344.025 Q198.125 352.752 195.047 357.359 Q191.991 361.942 186.181 361.942 Q180.371 361.942 177.292 357.359 Q174.237 352.752 174.237 344.025 Q174.237 335.275 177.292 330.692 Q180.371 326.086 186.181 326.086 Z\" fill=\"#000000\" fill-rule=\"nonzero\" fill-opacity=\"1\" /><path clip-path=\"url(#clip770)\" d=\"M119.885 83.8467 L136.204 83.8467 L136.204 87.7819 L114.26 87.7819 L114.26 83.8467 Q116.922 81.0921 121.505 76.4625 Q126.112 71.8097 127.292 70.4672 Q129.538 67.944 130.417 66.2079 Q131.32 64.4487 131.32 62.7589 Q131.32 60.0042 129.376 58.2681 Q127.455 56.532 124.353 56.532 Q122.154 56.532 119.7 57.2959 Q117.269 58.0598 114.492 59.6107 L114.492 54.8885 Q117.316 53.7543 119.769 53.1756 Q122.223 52.5969 124.26 52.5969 Q129.63 52.5969 132.825 55.282 Q136.019 57.9672 136.019 62.4579 Q136.019 64.5876 135.209 66.5088 Q134.422 68.407 132.316 70.9996 Q131.737 71.6709 128.635 74.8884 Q125.533 78.0829 119.885 83.8467 Z\" fill=\"#000000\" fill-rule=\"nonzero\" fill-opacity=\"1\" /><path clip-path=\"url(#clip770)\" d=\"M146.066 53.2219 L164.422 53.2219 L164.422 57.157 L150.348 57.157 L150.348 65.6292 Q151.366 65.282 152.385 65.12 Q153.403 64.9348 154.422 64.9348 Q160.209 64.9348 163.589 68.1061 Q166.968 71.2773 166.968 76.694 Q166.968 82.2726 163.496 85.3745 Q160.024 88.4532 153.704 88.4532 Q151.528 88.4532 149.26 88.0828 Q147.015 87.7124 144.607 86.9717 L144.607 82.2726 Q146.691 83.4069 148.913 83.9625 Q151.135 84.518 153.612 84.518 Q157.616 84.518 159.954 82.4115 Q162.292 80.3051 162.292 76.694 Q162.292 73.0829 159.954 70.9764 Q157.616 68.8699 153.612 68.8699 Q151.737 68.8699 149.862 69.2866 Q148.01 69.7033 146.066 70.5829 L146.066 53.2219 Z\" fill=\"#000000\" fill-rule=\"nonzero\" fill-opacity=\"1\" /><path clip-path=\"url(#clip770)\" d=\"M186.181 56.3006 Q182.57 56.3006 180.741 59.8654 Q178.936 63.407 178.936 70.5366 Q178.936 77.643 180.741 81.2078 Q182.57 84.7495 186.181 84.7495 Q189.815 84.7495 191.621 81.2078 Q193.45 77.643 193.45 70.5366 Q193.45 63.407 191.621 59.8654 Q189.815 56.3006 186.181 56.3006 M186.181 52.5969 Q191.991 52.5969 195.047 57.2033 Q198.125 61.7866 198.125 70.5366 Q198.125 79.2634 195.047 83.8699 Q191.991 88.4532 186.181 88.4532 Q180.371 88.4532 177.292 83.8699 Q174.237 79.2634 174.237 70.5366 Q174.237 61.7866 177.292 57.2033 Q180.371 52.5969 186.181 52.5969 Z\" fill=\"#000000\" fill-rule=\"nonzero\" fill-opacity=\"1\" /><path clip-path=\"url(#clip770)\" d=\"M16.4842 800.365 L16.4842 791.708 L56.238 770.637 L16.4842 770.637 L16.4842 764.399 L64.0042 764.399 L64.0042 773.056 L24.2503 794.127 L64.0042 794.127 L64.0042 800.365 L16.4842 800.365 Z\" fill=\"#000000\" fill-rule=\"nonzero\" fill-opacity=\"1\" /><path clip-path=\"url(#clip770)\" d=\"M29.7248 726.204 L35.1993 726.204 Q33.8307 728.687 33.1623 731.202 Q32.4621 733.684 32.4621 736.23 Q32.4621 741.928 36.0905 745.079 Q39.6872 748.23 46.212 748.23 Q52.7369 748.23 56.3653 745.079 Q59.9619 741.928 59.9619 736.23 Q59.9619 733.684 59.2935 731.202 Q58.5933 728.687 57.2247 726.204 L62.6355 726.204 Q63.7814 728.655 64.3543 731.297 Q64.9272 733.907 64.9272 736.867 Q64.9272 744.92 59.8664 749.662 Q54.8057 754.405 46.212 754.405 Q37.491 754.405 32.4939 749.63 Q27.4968 744.824 27.4968 736.485 Q27.4968 733.78 28.0697 731.202 Q28.6108 728.623 29.7248 726.204 Z\" fill=\"#000000\" fill-rule=\"nonzero\" fill-opacity=\"1\" /><path clip-path=\"url(#clip770)\" d=\"M44.7161 685.528 L47.5806 685.528 L47.5806 712.455 Q53.6281 712.073 56.8109 708.826 Q59.9619 705.548 59.9619 699.723 Q59.9619 696.349 59.1344 693.198 Q58.3069 690.015 56.6518 686.896 L62.1899 686.896 Q63.5267 690.047 64.227 693.357 Q64.9272 696.668 64.9272 700.073 Q64.9272 708.603 59.9619 713.6 Q54.9967 718.566 46.5303 718.566 Q37.7774 718.566 32.6531 713.855 Q27.4968 709.113 27.4968 701.092 Q27.4968 693.899 32.1438 689.729 Q36.7589 685.528 44.7161 685.528 M42.9973 691.384 Q38.1912 691.448 35.3266 694.09 Q32.4621 696.699 32.4621 701.028 Q32.4621 705.93 35.2312 708.89 Q38.0002 711.818 43.0292 712.264 L42.9973 691.384 Z\" fill=\"#000000\" fill-rule=\"nonzero\" fill-opacity=\"1\" /><path clip-path=\"url(#clip770)\" d=\"M14.479 675.915 L14.479 670.059 L64.0042 670.059 L64.0042 675.915 L14.479 675.915 Z\" fill=\"#000000\" fill-rule=\"nonzero\" fill-opacity=\"1\" /><polyline clip-path=\"url(#clip772)\" style=\"stroke:#009af9; stroke-linecap:round; stroke-linejoin:round; stroke-width:12; stroke-opacity:1; fill:none\" points=\"294.087,1384.24 693.828,1169.67 1093.57,860.225 1493.31,545.305 1893.05,288.11 2292.79,86.1857 \"/>\n",
       "<circle clip-path=\"url(#clip772)\" cx=\"294.087\" cy=\"1384.24\" r=\"14.4\" fill=\"#e26f46\" fill-rule=\"evenodd\" fill-opacity=\"1\" stroke=\"#000000\" stroke-opacity=\"1\" stroke-width=\"3.2\"/>\n",
       "<circle clip-path=\"url(#clip772)\" cx=\"693.828\" cy=\"1157.47\" r=\"14.4\" fill=\"#e26f46\" fill-rule=\"evenodd\" fill-opacity=\"1\" stroke=\"#000000\" stroke-opacity=\"1\" stroke-width=\"3.2\"/>\n",
       "<circle clip-path=\"url(#clip772)\" cx=\"1093.57\" cy=\"906.836\" r=\"14.4\" fill=\"#e26f46\" fill-rule=\"evenodd\" fill-opacity=\"1\" stroke=\"#000000\" stroke-opacity=\"1\" stroke-width=\"3.2\"/>\n",
       "<circle clip-path=\"url(#clip772)\" cx=\"1493.31\" cy=\"548.785\" r=\"14.4\" fill=\"#e26f46\" fill-rule=\"evenodd\" fill-opacity=\"1\" stroke=\"#000000\" stroke-opacity=\"1\" stroke-width=\"3.2\"/>\n",
       "<circle clip-path=\"url(#clip772)\" cx=\"1893.05\" cy=\"256.376\" r=\"14.4\" fill=\"#e26f46\" fill-rule=\"evenodd\" fill-opacity=\"1\" stroke=\"#000000\" stroke-opacity=\"1\" stroke-width=\"3.2\"/>\n",
       "<circle clip-path=\"url(#clip772)\" cx=\"2292.79\" cy=\"131.058\" r=\"14.4\" fill=\"#e26f46\" fill-rule=\"evenodd\" fill-opacity=\"1\" stroke=\"#000000\" stroke-opacity=\"1\" stroke-width=\"3.2\"/>\n",
       "<path clip-path=\"url(#clip770)\" d=\"M304.746 248.629 L945.635 248.629 L945.635 93.1086 L304.746 93.1086  Z\" fill=\"#ffffff\" fill-rule=\"evenodd\" fill-opacity=\"1\"/>\n",
       "<polyline clip-path=\"url(#clip770)\" style=\"stroke:#000000; stroke-linecap:round; stroke-linejoin:round; stroke-width:4; stroke-opacity:1; fill:none\" points=\"304.746,248.629 945.635,248.629 945.635,93.1086 304.746,93.1086 304.746,248.629 \"/>\n",
       "<polyline clip-path=\"url(#clip770)\" style=\"stroke:#009af9; stroke-linecap:round; stroke-linejoin:round; stroke-width:12; stroke-opacity:1; fill:none\" points=\"328.287,144.949 469.529,144.949 \"/>\n",
       "<path clip-path=\"url(#clip770)\" d=\"M493.069 127.669 L499.365 127.669 L514.689 156.581 L514.689 127.669 L519.226 127.669 L519.226 162.229 L512.93 162.229 L497.606 133.317 L497.606 162.229 L493.069 162.229 L493.069 127.669 Z\" fill=\"#000000\" fill-rule=\"nonzero\" fill-opacity=\"1\" /><path clip-path=\"url(#clip770)\" d=\"M547.004 137.298 L547.004 141.28 Q545.199 140.284 543.37 139.798 Q541.564 139.289 539.712 139.289 Q535.569 139.289 533.277 141.928 Q530.986 144.544 530.986 149.289 Q530.986 154.034 533.277 156.673 Q535.569 159.289 539.712 159.289 Q541.564 159.289 543.37 158.803 Q545.199 158.293 547.004 157.298 L547.004 161.233 Q545.222 162.067 543.3 162.483 Q541.402 162.9 539.249 162.9 Q533.393 162.9 529.944 159.219 Q526.495 155.539 526.495 149.289 Q526.495 142.946 529.967 139.312 Q533.462 135.678 539.527 135.678 Q541.495 135.678 543.37 136.095 Q545.245 136.488 547.004 137.298 Z\" fill=\"#000000\" fill-rule=\"nonzero\" fill-opacity=\"1\" /><path clip-path=\"url(#clip770)\" d=\"M576.587 148.201 L576.587 150.284 L557.004 150.284 Q557.282 154.682 559.643 156.997 Q562.027 159.289 566.263 159.289 Q568.717 159.289 571.009 158.687 Q573.323 158.085 575.592 156.881 L575.592 160.909 Q573.3 161.881 570.893 162.391 Q568.485 162.9 566.009 162.9 Q559.805 162.9 556.171 159.289 Q552.56 155.678 552.56 149.52 Q552.56 143.155 555.986 139.428 Q559.435 135.678 565.268 135.678 Q570.499 135.678 573.532 139.057 Q576.587 142.414 576.587 148.201 M572.328 146.951 Q572.282 143.456 570.36 141.372 Q568.462 139.289 565.314 139.289 Q561.749 139.289 559.597 141.303 Q557.467 143.317 557.143 146.974 L572.328 146.951 Z\" fill=\"#000000\" fill-rule=\"nonzero\" fill-opacity=\"1\" /><path clip-path=\"url(#clip770)\" d=\"M583.578 126.21 L587.837 126.21 L587.837 162.229 L583.578 162.229 L583.578 126.21 Z\" fill=\"#000000\" fill-rule=\"nonzero\" fill-opacity=\"1\" /><path clip-path=\"url(#clip770)\" d=\"M606.981 126.257 Q603.879 131.581 602.374 136.789 Q600.87 141.997 600.87 147.344 Q600.87 152.692 602.374 157.946 Q603.902 163.178 606.981 168.479 L603.277 168.479 Q599.805 163.039 598.069 157.784 Q596.356 152.53 596.356 147.344 Q596.356 142.182 598.069 136.951 Q599.782 131.72 603.277 126.257 L606.981 126.257 Z\" fill=\"#000000\" fill-rule=\"nonzero\" fill-opacity=\"1\" /><path clip-path=\"url(#clip770)\" d=\"M619.457 128.942 L619.457 136.303 L628.23 136.303 L628.23 139.613 L619.457 139.613 L619.457 153.687 Q619.457 156.858 620.314 157.761 Q621.193 158.664 623.856 158.664 L628.23 158.664 L628.23 162.229 L623.856 162.229 Q618.925 162.229 617.05 160.4 Q615.175 158.548 615.175 153.687 L615.175 139.613 L612.05 139.613 L612.05 136.303 L615.175 136.303 L615.175 128.942 L619.457 128.942 Z\" fill=\"#000000\" fill-rule=\"nonzero\" fill-opacity=\"1\" /><path clip-path=\"url(#clip770)\" d=\"M633.161 126.257 L636.865 126.257 Q640.337 131.72 642.05 136.951 Q643.786 142.182 643.786 147.344 Q643.786 152.53 642.05 157.784 Q640.337 163.039 636.865 168.479 L633.161 168.479 Q636.24 163.178 637.744 157.946 Q639.272 152.692 639.272 147.344 Q639.272 141.997 637.744 136.789 Q636.24 131.581 633.161 126.257 Z\" fill=\"#000000\" fill-rule=\"nonzero\" fill-opacity=\"1\" /><path clip-path=\"url(#clip770)\" d=\"M680.522 126.21 L680.522 129.752 L676.448 129.752 Q674.156 129.752 673.253 130.678 Q672.374 131.604 672.374 134.011 L672.374 136.303 L679.388 136.303 L679.388 139.613 L672.374 139.613 L672.374 162.229 L668.091 162.229 L668.091 139.613 L664.017 139.613 L664.017 136.303 L668.091 136.303 L668.091 134.497 Q668.091 130.169 670.105 128.201 Q672.119 126.21 676.494 126.21 L680.522 126.21 Z\" fill=\"#000000\" fill-rule=\"nonzero\" fill-opacity=\"1\" /><path clip-path=\"url(#clip770)\" d=\"M694.133 139.289 Q690.707 139.289 688.716 141.974 Q686.726 144.636 686.726 149.289 Q686.726 153.942 688.693 156.627 Q690.684 159.289 694.133 159.289 Q697.536 159.289 699.526 156.604 Q701.517 153.918 701.517 149.289 Q701.517 144.682 699.526 141.997 Q697.536 139.289 694.133 139.289 M694.133 135.678 Q699.688 135.678 702.86 139.289 Q706.031 142.9 706.031 149.289 Q706.031 155.655 702.86 159.289 Q699.688 162.9 694.133 162.9 Q688.554 162.9 685.383 159.289 Q682.235 155.655 682.235 149.289 Q682.235 142.9 685.383 139.289 Q688.554 135.678 694.133 135.678 Z\" fill=\"#000000\" fill-rule=\"nonzero\" fill-opacity=\"1\" /><path clip-path=\"url(#clip770)\" d=\"M728.114 140.284 Q727.397 139.868 726.54 139.682 Q725.707 139.474 724.688 139.474 Q721.077 139.474 719.133 141.835 Q717.211 144.173 717.211 148.571 L717.211 162.229 L712.929 162.229 L712.929 136.303 L717.211 136.303 L717.211 140.331 Q718.554 137.969 720.707 136.835 Q722.86 135.678 725.938 135.678 Q726.378 135.678 726.911 135.747 Q727.443 135.794 728.091 135.909 L728.114 140.284 Z\" fill=\"#000000\" fill-rule=\"nonzero\" fill-opacity=\"1\" /><path clip-path=\"url(#clip770)\" d=\"M764.711 140.238 L764.711 126.21 L768.97 126.21 L768.97 162.229 L764.711 162.229 L764.711 158.34 Q763.369 160.655 761.308 161.789 Q759.271 162.9 756.401 162.9 Q751.702 162.9 748.739 159.15 Q745.799 155.4 745.799 149.289 Q745.799 143.178 748.739 139.428 Q751.702 135.678 756.401 135.678 Q759.271 135.678 761.308 136.812 Q763.369 137.923 764.711 140.238 M750.197 149.289 Q750.197 153.988 752.119 156.673 Q754.063 159.335 757.443 159.335 Q760.822 159.335 762.767 156.673 Q764.711 153.988 764.711 149.289 Q764.711 144.59 762.767 141.928 Q760.822 139.243 757.443 139.243 Q754.063 139.243 752.119 141.928 Q750.197 144.59 750.197 149.289 Z\" fill=\"#000000\" fill-rule=\"nonzero\" fill-opacity=\"1\" /><path clip-path=\"url(#clip770)\" d=\"M787.79 139.289 Q784.364 139.289 782.373 141.974 Q780.382 144.636 780.382 149.289 Q780.382 153.942 782.35 156.627 Q784.341 159.289 787.79 159.289 Q791.193 159.289 793.183 156.604 Q795.174 153.918 795.174 149.289 Q795.174 144.682 793.183 141.997 Q791.193 139.289 787.79 139.289 M787.79 135.678 Q793.345 135.678 796.517 139.289 Q799.688 142.9 799.688 149.289 Q799.688 155.655 796.517 159.289 Q793.345 162.9 787.79 162.9 Q782.211 162.9 779.04 159.289 Q775.892 155.655 775.892 149.289 Q775.892 142.9 779.04 139.289 Q782.211 135.678 787.79 135.678 Z\" fill=\"#000000\" fill-rule=\"nonzero\" fill-opacity=\"1\" /><path clip-path=\"url(#clip770)\" d=\"M823.276 137.067 L823.276 141.094 Q821.47 140.169 819.526 139.706 Q817.581 139.243 815.498 139.243 Q812.327 139.243 810.73 140.215 Q809.155 141.187 809.155 143.131 Q809.155 144.613 810.29 145.469 Q811.424 146.303 814.85 147.067 L816.308 147.391 Q820.845 148.363 822.743 150.145 Q824.665 151.905 824.665 155.076 Q824.665 158.687 821.794 160.793 Q818.947 162.9 813.947 162.9 Q811.864 162.9 809.595 162.483 Q807.35 162.09 804.85 161.28 L804.85 156.881 Q807.211 158.108 809.503 158.733 Q811.794 159.335 814.04 159.335 Q817.049 159.335 818.669 158.317 Q820.29 157.275 820.29 155.4 Q820.29 153.664 819.109 152.738 Q817.952 151.812 813.993 150.956 L812.512 150.608 Q808.554 149.775 806.794 148.062 Q805.035 146.326 805.035 143.317 Q805.035 139.659 807.628 137.669 Q810.22 135.678 814.989 135.678 Q817.35 135.678 819.433 136.025 Q821.516 136.372 823.276 137.067 Z\" fill=\"#000000\" fill-rule=\"nonzero\" fill-opacity=\"1\" /><path clip-path=\"url(#clip770)\" d=\"M853.623 148.201 L853.623 150.284 L834.04 150.284 Q834.317 154.682 836.678 156.997 Q839.063 159.289 843.299 159.289 Q845.752 159.289 848.044 158.687 Q850.359 158.085 852.627 156.881 L852.627 160.909 Q850.336 161.881 847.928 162.391 Q845.521 162.9 843.044 162.9 Q836.84 162.9 833.206 159.289 Q829.595 155.678 829.595 149.52 Q829.595 143.155 833.021 139.428 Q836.47 135.678 842.303 135.678 Q847.535 135.678 850.567 139.057 Q853.623 142.414 853.623 148.201 M849.364 146.951 Q849.317 143.456 847.396 141.372 Q845.498 139.289 842.35 139.289 Q838.785 139.289 836.632 141.303 Q834.503 143.317 834.178 146.974 L849.364 146.951 Z\" fill=\"#000000\" fill-rule=\"nonzero\" fill-opacity=\"1\" /><path clip-path=\"url(#clip770)\" d=\"M861.169 140.701 L890.845 140.701 L890.845 144.59 L861.169 144.59 L861.169 140.701 M861.169 150.145 L890.845 150.145 L890.845 154.081 L861.169 154.081 L861.169 150.145 Z\" fill=\"#000000\" fill-rule=\"nonzero\" fill-opacity=\"1\" /><path clip-path=\"url(#clip770)\" d=\"M900.984 127.669 L919.34 127.669 L919.34 131.604 L905.266 131.604 L905.266 140.076 Q906.285 139.729 907.303 139.567 Q908.322 139.382 909.34 139.382 Q915.127 139.382 918.507 142.553 Q921.886 145.724 921.886 151.141 Q921.886 156.719 918.414 159.821 Q914.942 162.9 908.623 162.9 Q906.447 162.9 904.178 162.53 Q901.933 162.159 899.525 161.418 L899.525 156.719 Q901.609 157.854 903.831 158.409 Q906.053 158.965 908.53 158.965 Q912.535 158.965 914.872 156.858 Q917.21 154.752 917.21 151.141 Q917.21 147.53 914.872 145.423 Q912.535 143.317 908.53 143.317 Q906.655 143.317 904.78 143.733 Q902.928 144.15 900.984 145.03 L900.984 127.669 Z\" fill=\"#000000\" fill-rule=\"nonzero\" fill-opacity=\"1\" /><circle clip-path=\"url(#clip770)\" cx=\"398.908\" cy=\"196.789\" r=\"20.48\" fill=\"#e26f46\" fill-rule=\"evenodd\" fill-opacity=\"1\" stroke=\"#000000\" stroke-opacity=\"1\" stroke-width=\"4.55111\"/>\n",
       "<path clip-path=\"url(#clip770)\" d=\"M493.069 179.509 L514.921 179.509 L514.921 183.444 L497.745 183.444 L497.745 193.675 L514.203 193.675 L514.203 197.61 L497.745 197.61 L497.745 210.133 L515.338 210.133 L515.338 214.069 L493.069 214.069 L493.069 179.509 Z\" fill=\"#000000\" fill-rule=\"nonzero\" fill-opacity=\"1\" /><path clip-path=\"url(#clip770)\" d=\"M544.388 188.143 L535.013 200.759 L544.874 214.069 L539.851 214.069 L532.305 203.883 L524.759 214.069 L519.736 214.069 L529.805 200.504 L520.592 188.143 L525.615 188.143 L532.49 197.379 L539.365 188.143 L544.388 188.143 Z\" fill=\"#000000\" fill-rule=\"nonzero\" fill-opacity=\"1\" /><path clip-path=\"url(#clip770)\" d=\"M555.013 210.18 L555.013 223.93 L550.731 223.93 L550.731 188.143 L555.013 188.143 L555.013 192.078 Q556.356 189.763 558.393 188.652 Q560.453 187.518 563.3 187.518 Q568.022 187.518 570.962 191.268 Q573.925 195.018 573.925 201.129 Q573.925 207.24 570.962 210.99 Q568.022 214.74 563.3 214.74 Q560.453 214.74 558.393 213.629 Q556.356 212.495 555.013 210.18 M569.504 201.129 Q569.504 196.43 567.56 193.768 Q565.638 191.083 562.259 191.083 Q558.879 191.083 556.935 193.768 Q555.013 196.43 555.013 201.129 Q555.013 205.828 556.935 208.513 Q558.879 211.175 562.259 211.175 Q565.638 211.175 567.56 208.513 Q569.504 205.828 569.504 201.129 Z\" fill=\"#000000\" fill-rule=\"nonzero\" fill-opacity=\"1\" /><path clip-path=\"url(#clip770)\" d=\"M603.161 200.041 L603.161 202.124 L583.578 202.124 Q583.856 206.522 586.217 208.837 Q588.601 211.129 592.837 211.129 Q595.291 211.129 597.583 210.527 Q599.897 209.925 602.166 208.721 L602.166 212.749 Q599.874 213.721 597.467 214.231 Q595.059 214.74 592.583 214.74 Q586.379 214.74 582.745 211.129 Q579.134 207.518 579.134 201.36 Q579.134 194.995 582.559 191.268 Q586.008 187.518 591.842 187.518 Q597.073 187.518 600.106 190.897 Q603.161 194.254 603.161 200.041 M598.902 198.791 Q598.856 195.296 596.934 193.212 Q595.036 191.129 591.888 191.129 Q588.323 191.129 586.171 193.143 Q584.041 195.157 583.717 198.814 L598.902 198.791 Z\" fill=\"#000000\" fill-rule=\"nonzero\" fill-opacity=\"1\" /><path clip-path=\"url(#clip770)\" d=\"M625.175 192.124 Q624.457 191.708 623.601 191.522 Q622.768 191.314 621.749 191.314 Q618.138 191.314 616.194 193.675 Q614.272 196.013 614.272 200.411 L614.272 214.069 L609.99 214.069 L609.99 188.143 L614.272 188.143 L614.272 192.171 Q615.615 189.809 617.768 188.675 Q619.92 187.518 622.999 187.518 Q623.439 187.518 623.971 187.587 Q624.504 187.634 625.152 187.749 L625.175 192.124 Z\" fill=\"#000000\" fill-rule=\"nonzero\" fill-opacity=\"1\" /><path clip-path=\"url(#clip770)\" d=\"M629.643 188.143 L633.902 188.143 L633.902 214.069 L629.643 214.069 L629.643 188.143 M629.643 178.05 L633.902 178.05 L633.902 183.444 L629.643 183.444 L629.643 178.05 Z\" fill=\"#000000\" fill-rule=\"nonzero\" fill-opacity=\"1\" /><path clip-path=\"url(#clip770)\" d=\"M662.999 193.12 Q664.596 190.249 666.818 188.884 Q669.04 187.518 672.05 187.518 Q676.101 187.518 678.3 190.365 Q680.499 193.189 680.499 198.421 L680.499 214.069 L676.216 214.069 L676.216 198.559 Q676.216 194.833 674.897 193.027 Q673.577 191.222 670.869 191.222 Q667.559 191.222 665.638 193.421 Q663.716 195.62 663.716 199.416 L663.716 214.069 L659.434 214.069 L659.434 198.559 Q659.434 194.809 658.115 193.027 Q656.795 191.222 654.041 191.222 Q650.777 191.222 648.855 193.444 Q646.934 195.643 646.934 199.416 L646.934 214.069 L642.652 214.069 L642.652 188.143 L646.934 188.143 L646.934 192.171 Q648.392 189.786 650.429 188.652 Q652.466 187.518 655.267 187.518 Q658.091 187.518 660.059 188.953 Q662.05 190.388 662.999 193.12 Z\" fill=\"#000000\" fill-rule=\"nonzero\" fill-opacity=\"1\" /><path clip-path=\"url(#clip770)\" d=\"M711.17 200.041 L711.17 202.124 L691.587 202.124 Q691.864 206.522 694.226 208.837 Q696.61 211.129 700.846 211.129 Q703.3 211.129 705.591 210.527 Q707.906 209.925 710.174 208.721 L710.174 212.749 Q707.883 213.721 705.475 214.231 Q703.068 214.74 700.591 214.74 Q694.388 214.74 690.753 211.129 Q687.142 207.518 687.142 201.36 Q687.142 194.995 690.568 191.268 Q694.017 187.518 699.85 187.518 Q705.082 187.518 708.114 190.897 Q711.17 194.254 711.17 200.041 M706.911 198.791 Q706.864 195.296 704.943 193.212 Q703.045 191.129 699.897 191.129 Q696.332 191.129 694.179 193.143 Q692.05 195.157 691.726 198.814 L706.911 198.791 Z\" fill=\"#000000\" fill-rule=\"nonzero\" fill-opacity=\"1\" /><path clip-path=\"url(#clip770)\" d=\"M739.711 198.421 L739.711 214.069 L735.452 214.069 L735.452 198.559 Q735.452 194.879 734.017 193.05 Q732.582 191.222 729.711 191.222 Q726.262 191.222 724.272 193.421 Q722.281 195.62 722.281 199.416 L722.281 214.069 L717.999 214.069 L717.999 188.143 L722.281 188.143 L722.281 192.171 Q723.809 189.833 725.869 188.675 Q727.952 187.518 730.66 187.518 Q735.128 187.518 737.42 190.296 Q739.711 193.05 739.711 198.421 Z\" fill=\"#000000\" fill-rule=\"nonzero\" fill-opacity=\"1\" /><path clip-path=\"url(#clip770)\" d=\"M752.42 180.782 L752.42 188.143 L761.193 188.143 L761.193 191.453 L752.42 191.453 L752.42 205.527 Q752.42 208.698 753.276 209.601 Q754.156 210.504 756.818 210.504 L761.193 210.504 L761.193 214.069 L756.818 214.069 Q751.887 214.069 750.012 212.24 Q748.137 210.388 748.137 205.527 L748.137 191.453 L745.012 191.453 L745.012 188.143 L748.137 188.143 L748.137 180.782 L752.42 180.782 Z\" fill=\"#000000\" fill-rule=\"nonzero\" fill-opacity=\"1\" /><path clip-path=\"url(#clip770)\" d=\"M778.577 201.036 Q773.415 201.036 771.424 202.217 Q769.433 203.397 769.433 206.245 Q769.433 208.513 770.915 209.856 Q772.42 211.175 774.989 211.175 Q778.531 211.175 780.66 208.675 Q782.813 206.152 782.813 201.985 L782.813 201.036 L778.577 201.036 M787.072 199.277 L787.072 214.069 L782.813 214.069 L782.813 210.133 Q781.355 212.495 779.179 213.629 Q777.003 214.74 773.855 214.74 Q769.873 214.74 767.512 212.518 Q765.174 210.272 765.174 206.522 Q765.174 202.147 768.091 199.925 Q771.031 197.703 776.841 197.703 L782.813 197.703 L782.813 197.286 Q782.813 194.347 780.869 192.749 Q778.947 191.129 775.452 191.129 Q773.23 191.129 771.123 191.661 Q769.017 192.194 767.072 193.259 L767.072 189.323 Q769.41 188.421 771.609 187.981 Q773.808 187.518 775.892 187.518 Q781.517 187.518 784.294 190.434 Q787.072 193.351 787.072 199.277 Z\" fill=\"#000000\" fill-rule=\"nonzero\" fill-opacity=\"1\" /><path clip-path=\"url(#clip770)\" d=\"M795.845 178.05 L800.105 178.05 L800.105 214.069 L795.845 214.069 L795.845 178.05 Z\" fill=\"#000000\" fill-rule=\"nonzero\" fill-opacity=\"1\" /><path clip-path=\"url(#clip770)\" d=\"M841.146 192.078 L841.146 178.05 L845.405 178.05 L845.405 214.069 L841.146 214.069 L841.146 210.18 Q839.803 212.495 837.743 213.629 Q835.706 214.74 832.836 214.74 Q828.137 214.74 825.174 210.99 Q822.234 207.24 822.234 201.129 Q822.234 195.018 825.174 191.268 Q828.137 187.518 832.836 187.518 Q835.706 187.518 837.743 188.652 Q839.803 189.763 841.146 192.078 M826.632 201.129 Q826.632 205.828 828.553 208.513 Q830.498 211.175 833.878 211.175 Q837.257 211.175 839.202 208.513 Q841.146 205.828 841.146 201.129 Q841.146 196.43 839.202 193.768 Q837.257 191.083 833.878 191.083 Q830.498 191.083 828.553 193.768 Q826.632 196.43 826.632 201.129 Z\" fill=\"#000000\" fill-rule=\"nonzero\" fill-opacity=\"1\" /><path clip-path=\"url(#clip770)\" d=\"M865.961 201.036 Q860.799 201.036 858.808 202.217 Q856.817 203.397 856.817 206.245 Q856.817 208.513 858.299 209.856 Q859.803 211.175 862.373 211.175 Q865.914 211.175 868.044 208.675 Q870.197 206.152 870.197 201.985 L870.197 201.036 L865.961 201.036 M874.456 199.277 L874.456 214.069 L870.197 214.069 L870.197 210.133 Q868.738 212.495 866.563 213.629 Q864.387 214.74 861.238 214.74 Q857.257 214.74 854.896 212.518 Q852.558 210.272 852.558 206.522 Q852.558 202.147 855.475 199.925 Q858.414 197.703 864.225 197.703 L870.197 197.703 L870.197 197.286 Q870.197 194.347 868.252 192.749 Q866.331 191.129 862.836 191.129 Q860.613 191.129 858.507 191.661 Q856.401 192.194 854.456 193.259 L854.456 189.323 Q856.794 188.421 858.993 187.981 Q861.192 187.518 863.276 187.518 Q868.9 187.518 871.678 190.434 Q874.456 193.351 874.456 199.277 Z\" fill=\"#000000\" fill-rule=\"nonzero\" fill-opacity=\"1\" /><path clip-path=\"url(#clip770)\" d=\"M887.442 180.782 L887.442 188.143 L896.215 188.143 L896.215 191.453 L887.442 191.453 L887.442 205.527 Q887.442 208.698 888.299 209.601 Q889.178 210.504 891.84 210.504 L896.215 210.504 L896.215 214.069 L891.84 214.069 Q886.91 214.069 885.035 212.24 Q883.16 210.388 883.16 205.527 L883.16 191.453 L880.035 191.453 L880.035 188.143 L883.16 188.143 L883.16 180.782 L887.442 180.782 Z\" fill=\"#000000\" fill-rule=\"nonzero\" fill-opacity=\"1\" /><path clip-path=\"url(#clip770)\" d=\"M913.599 201.036 Q908.437 201.036 906.447 202.217 Q904.456 203.397 904.456 206.245 Q904.456 208.513 905.937 209.856 Q907.442 211.175 910.011 211.175 Q913.553 211.175 915.683 208.675 Q917.835 206.152 917.835 201.985 L917.835 201.036 L913.599 201.036 M922.095 199.277 L922.095 214.069 L917.835 214.069 L917.835 210.133 Q916.377 212.495 914.201 213.629 Q912.025 214.74 908.877 214.74 Q904.896 214.74 902.535 212.518 Q900.197 210.272 900.197 206.522 Q900.197 202.147 903.113 199.925 Q906.053 197.703 911.863 197.703 L917.835 197.703 L917.835 197.286 Q917.835 194.347 915.891 192.749 Q913.97 191.129 910.474 191.129 Q908.252 191.129 906.146 191.661 Q904.039 192.194 902.095 193.259 L902.095 189.323 Q904.433 188.421 906.632 187.981 Q908.831 187.518 910.914 187.518 Q916.539 187.518 919.317 190.434 Q922.095 193.351 922.095 199.277 Z\" fill=\"#000000\" fill-rule=\"nonzero\" fill-opacity=\"1\" /></svg>\n"
      ],
      "text/html": [
       "<?xml version=\"1.0\" encoding=\"utf-8\"?>\n",
       "<svg xmlns=\"http://www.w3.org/2000/svg\" xmlns:xlink=\"http://www.w3.org/1999/xlink\" width=\"600\" height=\"400\" viewBox=\"0 0 2400 1600\">\n",
       "<defs>\n",
       "  <clipPath id=\"clip820\">\n",
       "    <rect x=\"0\" y=\"0\" width=\"2400\" height=\"1600\"/>\n",
       "  </clipPath>\n",
       "</defs>\n",
       "<path clip-path=\"url(#clip820)\" d=\"M0 1600 L2400 1600 L2400 0 L0 0  Z\" fill=\"#ffffff\" fill-rule=\"evenodd\" fill-opacity=\"1\"/>\n",
       "<defs>\n",
       "  <clipPath id=\"clip821\">\n",
       "    <rect x=\"480\" y=\"0\" width=\"1681\" height=\"1600\"/>\n",
       "  </clipPath>\n",
       "</defs>\n",
       "<path clip-path=\"url(#clip820)\" d=\"M234.125 1423.18 L2352.76 1423.18 L2352.76 47.2441 L234.125 47.2441  Z\" fill=\"#ffffff\" fill-rule=\"evenodd\" fill-opacity=\"1\"/>\n",
       "<defs>\n",
       "  <clipPath id=\"clip822\">\n",
       "    <rect x=\"234\" y=\"47\" width=\"2120\" height=\"1377\"/>\n",
       "  </clipPath>\n",
       "</defs>\n",
       "<polyline clip-path=\"url(#clip822)\" style=\"stroke:#000000; stroke-linecap:round; stroke-linejoin:round; stroke-width:2; stroke-opacity:0.1; fill:none\" points=\"294.087,1423.18 294.087,47.2441 \"/>\n",
       "<polyline clip-path=\"url(#clip822)\" style=\"stroke:#000000; stroke-linecap:round; stroke-linejoin:round; stroke-width:2; stroke-opacity:0.1; fill:none\" points=\"960.323,1423.18 960.323,47.2441 \"/>\n",
       "<polyline clip-path=\"url(#clip822)\" style=\"stroke:#000000; stroke-linecap:round; stroke-linejoin:round; stroke-width:2; stroke-opacity:0.1; fill:none\" points=\"1626.56,1423.18 1626.56,47.2441 \"/>\n",
       "<polyline clip-path=\"url(#clip822)\" style=\"stroke:#000000; stroke-linecap:round; stroke-linejoin:round; stroke-width:2; stroke-opacity:0.1; fill:none\" points=\"2292.79,1423.18 2292.79,47.2441 \"/>\n",
       "<polyline clip-path=\"url(#clip822)\" style=\"stroke:#000000; stroke-linecap:round; stroke-linejoin:round; stroke-width:2; stroke-opacity:0.1; fill:none\" points=\"234.125,1164.46 2352.76,1164.46 \"/>\n",
       "<polyline clip-path=\"url(#clip822)\" style=\"stroke:#000000; stroke-linecap:round; stroke-linejoin:round; stroke-width:2; stroke-opacity:0.1; fill:none\" points=\"234.125,890.968 2352.76,890.968 \"/>\n",
       "<polyline clip-path=\"url(#clip822)\" style=\"stroke:#000000; stroke-linecap:round; stroke-linejoin:round; stroke-width:2; stroke-opacity:0.1; fill:none\" points=\"234.125,617.48 2352.76,617.48 \"/>\n",
       "<polyline clip-path=\"url(#clip822)\" style=\"stroke:#000000; stroke-linecap:round; stroke-linejoin:round; stroke-width:2; stroke-opacity:0.1; fill:none\" points=\"234.125,343.991 2352.76,343.991 \"/>\n",
       "<polyline clip-path=\"url(#clip822)\" style=\"stroke:#000000; stroke-linecap:round; stroke-linejoin:round; stroke-width:2; stroke-opacity:0.1; fill:none\" points=\"234.125,70.5019 2352.76,70.5019 \"/>\n",
       "<polyline clip-path=\"url(#clip820)\" style=\"stroke:#000000; stroke-linecap:round; stroke-linejoin:round; stroke-width:4; stroke-opacity:1; fill:none\" points=\"234.125,1423.18 2352.76,1423.18 \"/>\n",
       "<polyline clip-path=\"url(#clip820)\" style=\"stroke:#000000; stroke-linecap:round; stroke-linejoin:round; stroke-width:4; stroke-opacity:1; fill:none\" points=\"294.087,1423.18 294.087,1404.28 \"/>\n",
       "<polyline clip-path=\"url(#clip820)\" style=\"stroke:#000000; stroke-linecap:round; stroke-linejoin:round; stroke-width:4; stroke-opacity:1; fill:none\" points=\"960.323,1423.18 960.323,1404.28 \"/>\n",
       "<polyline clip-path=\"url(#clip820)\" style=\"stroke:#000000; stroke-linecap:round; stroke-linejoin:round; stroke-width:4; stroke-opacity:1; fill:none\" points=\"1626.56,1423.18 1626.56,1404.28 \"/>\n",
       "<polyline clip-path=\"url(#clip820)\" style=\"stroke:#000000; stroke-linecap:round; stroke-linejoin:round; stroke-width:4; stroke-opacity:1; fill:none\" points=\"2292.79,1423.18 2292.79,1404.28 \"/>\n",
       "<path clip-path=\"url(#clip820)\" d=\"M294.087 1454.1 Q290.476 1454.1 288.647 1457.66 Q286.841 1461.2 286.841 1468.33 Q286.841 1475.44 288.647 1479.01 Q290.476 1482.55 294.087 1482.55 Q297.721 1482.55 299.526 1479.01 Q301.355 1475.44 301.355 1468.33 Q301.355 1461.2 299.526 1457.66 Q297.721 1454.1 294.087 1454.1 M294.087 1450.39 Q299.897 1450.39 302.952 1455 Q306.031 1459.58 306.031 1468.33 Q306.031 1477.06 302.952 1481.67 Q299.897 1486.25 294.087 1486.25 Q288.277 1486.25 285.198 1481.67 Q282.142 1477.06 282.142 1468.33 Q282.142 1459.58 285.198 1455 Q288.277 1450.39 294.087 1450.39 Z\" fill=\"#000000\" fill-rule=\"nonzero\" fill-opacity=\"1\" /><path clip-path=\"url(#clip820)\" d=\"M950.601 1451.02 L968.957 1451.02 L968.957 1454.96 L954.883 1454.96 L954.883 1463.43 Q955.901 1463.08 956.92 1462.92 Q957.938 1462.73 958.957 1462.73 Q964.744 1462.73 968.124 1465.9 Q971.503 1469.08 971.503 1474.49 Q971.503 1480.07 968.031 1483.17 Q964.559 1486.25 958.239 1486.25 Q956.063 1486.25 953.795 1485.88 Q951.55 1485.51 949.142 1484.77 L949.142 1480.07 Q951.226 1481.2 953.448 1481.76 Q955.67 1482.32 958.147 1482.32 Q962.151 1482.32 964.489 1480.21 Q966.827 1478.1 966.827 1474.49 Q966.827 1470.88 964.489 1468.77 Q962.151 1466.67 958.147 1466.67 Q956.272 1466.67 954.397 1467.08 Q952.545 1467.5 950.601 1468.38 L950.601 1451.02 Z\" fill=\"#000000\" fill-rule=\"nonzero\" fill-opacity=\"1\" /><path clip-path=\"url(#clip820)\" d=\"M1601.25 1481.64 L1608.89 1481.64 L1608.89 1455.28 L1600.58 1456.95 L1600.58 1452.69 L1608.84 1451.02 L1613.51 1451.02 L1613.51 1481.64 L1621.15 1481.64 L1621.15 1485.58 L1601.25 1485.58 L1601.25 1481.64 Z\" fill=\"#000000\" fill-rule=\"nonzero\" fill-opacity=\"1\" /><path clip-path=\"url(#clip820)\" d=\"M1640.6 1454.1 Q1636.99 1454.1 1635.16 1457.66 Q1633.35 1461.2 1633.35 1468.33 Q1633.35 1475.44 1635.16 1479.01 Q1636.99 1482.55 1640.6 1482.55 Q1644.23 1482.55 1646.04 1479.01 Q1647.87 1475.44 1647.87 1468.33 Q1647.87 1461.2 1646.04 1457.66 Q1644.23 1454.1 1640.6 1454.1 M1640.6 1450.39 Q1646.41 1450.39 1649.46 1455 Q1652.54 1459.58 1652.54 1468.33 Q1652.54 1477.06 1649.46 1481.67 Q1646.41 1486.25 1640.6 1486.25 Q1634.79 1486.25 1631.71 1481.67 Q1628.65 1477.06 1628.65 1468.33 Q1628.65 1459.58 1631.71 1455 Q1634.79 1450.39 1640.6 1450.39 Z\" fill=\"#000000\" fill-rule=\"nonzero\" fill-opacity=\"1\" /><path clip-path=\"url(#clip820)\" d=\"M2267.98 1481.64 L2275.62 1481.64 L2275.62 1455.28 L2267.31 1456.95 L2267.31 1452.69 L2275.57 1451.02 L2280.25 1451.02 L2280.25 1481.64 L2287.89 1481.64 L2287.89 1485.58 L2267.98 1485.58 L2267.98 1481.64 Z\" fill=\"#000000\" fill-rule=\"nonzero\" fill-opacity=\"1\" /><path clip-path=\"url(#clip820)\" d=\"M2297.38 1451.02 L2315.73 1451.02 L2315.73 1454.96 L2301.66 1454.96 L2301.66 1463.43 Q2302.68 1463.08 2303.7 1462.92 Q2304.72 1462.73 2305.73 1462.73 Q2311.52 1462.73 2314.9 1465.9 Q2318.28 1469.08 2318.28 1474.49 Q2318.28 1480.07 2314.81 1483.17 Q2311.34 1486.25 2305.02 1486.25 Q2302.84 1486.25 2300.57 1485.88 Q2298.33 1485.51 2295.92 1484.77 L2295.92 1480.07 Q2298 1481.2 2300.23 1481.76 Q2302.45 1482.32 2304.92 1482.32 Q2308.93 1482.32 2311.27 1480.21 Q2313.6 1478.1 2313.6 1474.49 Q2313.6 1470.88 2311.27 1468.77 Q2308.93 1466.67 2304.92 1466.67 Q2303.05 1466.67 2301.17 1467.08 Q2299.32 1467.5 2297.38 1468.38 L2297.38 1451.02 Z\" fill=\"#000000\" fill-rule=\"nonzero\" fill-opacity=\"1\" /><path clip-path=\"url(#clip820)\" d=\"M1292.5 1522.27 L1292.5 1532.4 L1304.56 1532.4 L1304.56 1536.95 L1292.5 1536.95 L1292.5 1556.3 Q1292.5 1560.66 1293.68 1561.9 Q1294.89 1563.14 1298.55 1563.14 L1304.56 1563.14 L1304.56 1568.04 L1298.55 1568.04 Q1291.77 1568.04 1289.19 1565.53 Q1286.61 1562.98 1286.61 1556.3 L1286.61 1536.95 L1282.32 1536.95 L1282.32 1532.4 L1286.61 1532.4 L1286.61 1522.27 L1292.5 1522.27 Z\" fill=\"#000000\" fill-rule=\"nonzero\" fill-opacity=\"1\" /><polyline clip-path=\"url(#clip820)\" style=\"stroke:#000000; stroke-linecap:round; stroke-linejoin:round; stroke-width:4; stroke-opacity:1; fill:none\" points=\"234.125,1423.18 234.125,47.2441 \"/>\n",
       "<polyline clip-path=\"url(#clip820)\" style=\"stroke:#000000; stroke-linecap:round; stroke-linejoin:round; stroke-width:4; stroke-opacity:1; fill:none\" points=\"234.125,1164.46 253.023,1164.46 \"/>\n",
       "<polyline clip-path=\"url(#clip820)\" style=\"stroke:#000000; stroke-linecap:round; stroke-linejoin:round; stroke-width:4; stroke-opacity:1; fill:none\" points=\"234.125,890.968 253.023,890.968 \"/>\n",
       "<polyline clip-path=\"url(#clip820)\" style=\"stroke:#000000; stroke-linecap:round; stroke-linejoin:round; stroke-width:4; stroke-opacity:1; fill:none\" points=\"234.125,617.48 253.023,617.48 \"/>\n",
       "<polyline clip-path=\"url(#clip820)\" style=\"stroke:#000000; stroke-linecap:round; stroke-linejoin:round; stroke-width:4; stroke-opacity:1; fill:none\" points=\"234.125,343.991 253.023,343.991 \"/>\n",
       "<polyline clip-path=\"url(#clip820)\" style=\"stroke:#000000; stroke-linecap:round; stroke-linejoin:round; stroke-width:4; stroke-opacity:1; fill:none\" points=\"234.125,70.5019 253.023,70.5019 \"/>\n",
       "<path clip-path=\"url(#clip820)\" d=\"M146.066 1147.18 L164.422 1147.18 L164.422 1151.11 L150.348 1151.11 L150.348 1159.58 Q151.366 1159.24 152.385 1159.08 Q153.403 1158.89 154.422 1158.89 Q160.209 1158.89 163.589 1162.06 Q166.968 1165.23 166.968 1170.65 Q166.968 1176.23 163.496 1179.33 Q160.024 1182.41 153.704 1182.41 Q151.528 1182.41 149.26 1182.04 Q147.015 1181.67 144.607 1180.93 L144.607 1176.23 Q146.691 1177.36 148.913 1177.92 Q151.135 1178.47 153.612 1178.47 Q157.616 1178.47 159.954 1176.37 Q162.292 1174.26 162.292 1170.65 Q162.292 1167.04 159.954 1164.93 Q157.616 1162.83 153.612 1162.83 Q151.737 1162.83 149.862 1163.24 Q148.01 1163.66 146.066 1164.54 L146.066 1147.18 Z\" fill=\"#000000\" fill-rule=\"nonzero\" fill-opacity=\"1\" /><path clip-path=\"url(#clip820)\" d=\"M186.181 1150.26 Q182.57 1150.26 180.741 1153.82 Q178.936 1157.36 178.936 1164.49 Q178.936 1171.6 180.741 1175.16 Q182.57 1178.7 186.181 1178.7 Q189.815 1178.7 191.621 1175.16 Q193.45 1171.6 193.45 1164.49 Q193.45 1157.36 191.621 1153.82 Q189.815 1150.26 186.181 1150.26 M186.181 1146.55 Q191.991 1146.55 195.047 1151.16 Q198.125 1155.74 198.125 1164.49 Q198.125 1173.22 195.047 1177.83 Q191.991 1182.41 186.181 1182.41 Q180.371 1182.41 177.292 1177.83 Q174.237 1173.22 174.237 1164.49 Q174.237 1155.74 177.292 1151.16 Q180.371 1146.55 186.181 1146.55 Z\" fill=\"#000000\" fill-rule=\"nonzero\" fill-opacity=\"1\" /><path clip-path=\"url(#clip820)\" d=\"M116.668 904.313 L124.306 904.313 L124.306 877.948 L115.996 879.614 L115.996 875.355 L124.26 873.688 L128.936 873.688 L128.936 904.313 L136.575 904.313 L136.575 908.248 L116.668 908.248 L116.668 904.313 Z\" fill=\"#000000\" fill-rule=\"nonzero\" fill-opacity=\"1\" /><path clip-path=\"url(#clip820)\" d=\"M156.019 876.767 Q152.408 876.767 150.579 880.332 Q148.774 883.873 148.774 891.003 Q148.774 898.11 150.579 901.674 Q152.408 905.216 156.019 905.216 Q159.653 905.216 161.459 901.674 Q163.288 898.11 163.288 891.003 Q163.288 883.873 161.459 880.332 Q159.653 876.767 156.019 876.767 M156.019 873.063 Q161.829 873.063 164.885 877.67 Q167.964 882.253 167.964 891.003 Q167.964 899.73 164.885 904.336 Q161.829 908.92 156.019 908.92 Q150.209 908.92 147.13 904.336 Q144.075 899.73 144.075 891.003 Q144.075 882.253 147.13 877.67 Q150.209 873.063 156.019 873.063 Z\" fill=\"#000000\" fill-rule=\"nonzero\" fill-opacity=\"1\" /><path clip-path=\"url(#clip820)\" d=\"M186.181 876.767 Q182.57 876.767 180.741 880.332 Q178.936 883.873 178.936 891.003 Q178.936 898.11 180.741 901.674 Q182.57 905.216 186.181 905.216 Q189.815 905.216 191.621 901.674 Q193.45 898.11 193.45 891.003 Q193.45 883.873 191.621 880.332 Q189.815 876.767 186.181 876.767 M186.181 873.063 Q191.991 873.063 195.047 877.67 Q198.125 882.253 198.125 891.003 Q198.125 899.73 195.047 904.336 Q191.991 908.92 186.181 908.92 Q180.371 908.92 177.292 904.336 Q174.237 899.73 174.237 891.003 Q174.237 882.253 177.292 877.67 Q180.371 873.063 186.181 873.063 Z\" fill=\"#000000\" fill-rule=\"nonzero\" fill-opacity=\"1\" /><path clip-path=\"url(#clip820)\" d=\"M116.668 630.824 L124.306 630.824 L124.306 604.459 L115.996 606.125 L115.996 601.866 L124.26 600.2 L128.936 600.2 L128.936 630.824 L136.575 630.824 L136.575 634.76 L116.668 634.76 L116.668 630.824 Z\" fill=\"#000000\" fill-rule=\"nonzero\" fill-opacity=\"1\" /><path clip-path=\"url(#clip820)\" d=\"M146.066 600.2 L164.422 600.2 L164.422 604.135 L150.348 604.135 L150.348 612.607 Q151.366 612.26 152.385 612.098 Q153.403 611.912 154.422 611.912 Q160.209 611.912 163.589 615.084 Q166.968 618.255 166.968 623.672 Q166.968 629.25 163.496 632.352 Q160.024 635.431 153.704 635.431 Q151.528 635.431 149.26 635.06 Q147.015 634.69 144.607 633.949 L144.607 629.25 Q146.691 630.385 148.913 630.94 Q151.135 631.496 153.612 631.496 Q157.616 631.496 159.954 629.389 Q162.292 627.283 162.292 623.672 Q162.292 620.061 159.954 617.954 Q157.616 615.848 153.612 615.848 Q151.737 615.848 149.862 616.264 Q148.01 616.681 146.066 617.561 L146.066 600.2 Z\" fill=\"#000000\" fill-rule=\"nonzero\" fill-opacity=\"1\" /><path clip-path=\"url(#clip820)\" d=\"M186.181 603.278 Q182.57 603.278 180.741 606.843 Q178.936 610.385 178.936 617.514 Q178.936 624.621 180.741 628.185 Q182.57 631.727 186.181 631.727 Q189.815 631.727 191.621 628.185 Q193.45 624.621 193.45 617.514 Q193.45 610.385 191.621 606.843 Q189.815 603.278 186.181 603.278 M186.181 599.575 Q191.991 599.575 195.047 604.181 Q198.125 608.764 198.125 617.514 Q198.125 626.241 195.047 630.848 Q191.991 635.431 186.181 635.431 Q180.371 635.431 177.292 630.848 Q174.237 626.241 174.237 617.514 Q174.237 608.764 177.292 604.181 Q180.371 599.575 186.181 599.575 Z\" fill=\"#000000\" fill-rule=\"nonzero\" fill-opacity=\"1\" /><path clip-path=\"url(#clip820)\" d=\"M119.885 357.336 L136.204 357.336 L136.204 361.271 L114.26 361.271 L114.26 357.336 Q116.922 354.581 121.505 349.951 Q126.112 345.299 127.292 343.956 Q129.538 341.433 130.417 339.697 Q131.32 337.937 131.32 336.248 Q131.32 333.493 129.376 331.757 Q127.455 330.021 124.353 330.021 Q122.154 330.021 119.7 330.785 Q117.269 331.549 114.492 333.1 L114.492 328.377 Q117.316 327.243 119.769 326.664 Q122.223 326.086 124.26 326.086 Q129.63 326.086 132.825 328.771 Q136.019 331.456 136.019 335.947 Q136.019 338.076 135.209 339.998 Q134.422 341.896 132.316 344.488 Q131.737 345.16 128.635 348.377 Q125.533 351.572 119.885 357.336 Z\" fill=\"#000000\" fill-rule=\"nonzero\" fill-opacity=\"1\" /><path clip-path=\"url(#clip820)\" d=\"M156.019 329.789 Q152.408 329.789 150.579 333.354 Q148.774 336.896 148.774 344.025 Q148.774 351.132 150.579 354.697 Q152.408 358.238 156.019 358.238 Q159.653 358.238 161.459 354.697 Q163.288 351.132 163.288 344.025 Q163.288 336.896 161.459 333.354 Q159.653 329.789 156.019 329.789 M156.019 326.086 Q161.829 326.086 164.885 330.692 Q167.964 335.275 167.964 344.025 Q167.964 352.752 164.885 357.359 Q161.829 361.942 156.019 361.942 Q150.209 361.942 147.13 357.359 Q144.075 352.752 144.075 344.025 Q144.075 335.275 147.13 330.692 Q150.209 326.086 156.019 326.086 Z\" fill=\"#000000\" fill-rule=\"nonzero\" fill-opacity=\"1\" /><path clip-path=\"url(#clip820)\" d=\"M186.181 329.789 Q182.57 329.789 180.741 333.354 Q178.936 336.896 178.936 344.025 Q178.936 351.132 180.741 354.697 Q182.57 358.238 186.181 358.238 Q189.815 358.238 191.621 354.697 Q193.45 351.132 193.45 344.025 Q193.45 336.896 191.621 333.354 Q189.815 329.789 186.181 329.789 M186.181 326.086 Q191.991 326.086 195.047 330.692 Q198.125 335.275 198.125 344.025 Q198.125 352.752 195.047 357.359 Q191.991 361.942 186.181 361.942 Q180.371 361.942 177.292 357.359 Q174.237 352.752 174.237 344.025 Q174.237 335.275 177.292 330.692 Q180.371 326.086 186.181 326.086 Z\" fill=\"#000000\" fill-rule=\"nonzero\" fill-opacity=\"1\" /><path clip-path=\"url(#clip820)\" d=\"M119.885 83.8467 L136.204 83.8467 L136.204 87.7819 L114.26 87.7819 L114.26 83.8467 Q116.922 81.0921 121.505 76.4625 Q126.112 71.8097 127.292 70.4672 Q129.538 67.944 130.417 66.2079 Q131.32 64.4487 131.32 62.7589 Q131.32 60.0042 129.376 58.2681 Q127.455 56.532 124.353 56.532 Q122.154 56.532 119.7 57.2959 Q117.269 58.0598 114.492 59.6107 L114.492 54.8885 Q117.316 53.7543 119.769 53.1756 Q122.223 52.5969 124.26 52.5969 Q129.63 52.5969 132.825 55.282 Q136.019 57.9672 136.019 62.4579 Q136.019 64.5876 135.209 66.5088 Q134.422 68.407 132.316 70.9996 Q131.737 71.6709 128.635 74.8884 Q125.533 78.0829 119.885 83.8467 Z\" fill=\"#000000\" fill-rule=\"nonzero\" fill-opacity=\"1\" /><path clip-path=\"url(#clip820)\" d=\"M146.066 53.2219 L164.422 53.2219 L164.422 57.157 L150.348 57.157 L150.348 65.6292 Q151.366 65.282 152.385 65.12 Q153.403 64.9348 154.422 64.9348 Q160.209 64.9348 163.589 68.1061 Q166.968 71.2773 166.968 76.694 Q166.968 82.2726 163.496 85.3745 Q160.024 88.4532 153.704 88.4532 Q151.528 88.4532 149.26 88.0828 Q147.015 87.7124 144.607 86.9717 L144.607 82.2726 Q146.691 83.4069 148.913 83.9625 Q151.135 84.518 153.612 84.518 Q157.616 84.518 159.954 82.4115 Q162.292 80.3051 162.292 76.694 Q162.292 73.0829 159.954 70.9764 Q157.616 68.8699 153.612 68.8699 Q151.737 68.8699 149.862 69.2866 Q148.01 69.7033 146.066 70.5829 L146.066 53.2219 Z\" fill=\"#000000\" fill-rule=\"nonzero\" fill-opacity=\"1\" /><path clip-path=\"url(#clip820)\" d=\"M186.181 56.3006 Q182.57 56.3006 180.741 59.8654 Q178.936 63.407 178.936 70.5366 Q178.936 77.643 180.741 81.2078 Q182.57 84.7495 186.181 84.7495 Q189.815 84.7495 191.621 81.2078 Q193.45 77.643 193.45 70.5366 Q193.45 63.407 191.621 59.8654 Q189.815 56.3006 186.181 56.3006 M186.181 52.5969 Q191.991 52.5969 195.047 57.2033 Q198.125 61.7866 198.125 70.5366 Q198.125 79.2634 195.047 83.8699 Q191.991 88.4532 186.181 88.4532 Q180.371 88.4532 177.292 83.8699 Q174.237 79.2634 174.237 70.5366 Q174.237 61.7866 177.292 57.2033 Q180.371 52.5969 186.181 52.5969 Z\" fill=\"#000000\" fill-rule=\"nonzero\" fill-opacity=\"1\" /><path clip-path=\"url(#clip820)\" d=\"M16.4842 800.365 L16.4842 791.708 L56.238 770.637 L16.4842 770.637 L16.4842 764.399 L64.0042 764.399 L64.0042 773.056 L24.2503 794.127 L64.0042 794.127 L64.0042 800.365 L16.4842 800.365 Z\" fill=\"#000000\" fill-rule=\"nonzero\" fill-opacity=\"1\" /><path clip-path=\"url(#clip820)\" d=\"M29.7248 726.204 L35.1993 726.204 Q33.8307 728.687 33.1623 731.202 Q32.4621 733.684 32.4621 736.23 Q32.4621 741.928 36.0905 745.079 Q39.6872 748.23 46.212 748.23 Q52.7369 748.23 56.3653 745.079 Q59.9619 741.928 59.9619 736.23 Q59.9619 733.684 59.2935 731.202 Q58.5933 728.687 57.2247 726.204 L62.6355 726.204 Q63.7814 728.655 64.3543 731.297 Q64.9272 733.907 64.9272 736.867 Q64.9272 744.92 59.8664 749.662 Q54.8057 754.405 46.212 754.405 Q37.491 754.405 32.4939 749.63 Q27.4968 744.824 27.4968 736.485 Q27.4968 733.78 28.0697 731.202 Q28.6108 728.623 29.7248 726.204 Z\" fill=\"#000000\" fill-rule=\"nonzero\" fill-opacity=\"1\" /><path clip-path=\"url(#clip820)\" d=\"M44.7161 685.528 L47.5806 685.528 L47.5806 712.455 Q53.6281 712.073 56.8109 708.826 Q59.9619 705.548 59.9619 699.723 Q59.9619 696.349 59.1344 693.198 Q58.3069 690.015 56.6518 686.896 L62.1899 686.896 Q63.5267 690.047 64.227 693.357 Q64.9272 696.668 64.9272 700.073 Q64.9272 708.603 59.9619 713.6 Q54.9967 718.566 46.5303 718.566 Q37.7774 718.566 32.6531 713.855 Q27.4968 709.113 27.4968 701.092 Q27.4968 693.899 32.1438 689.729 Q36.7589 685.528 44.7161 685.528 M42.9973 691.384 Q38.1912 691.448 35.3266 694.09 Q32.4621 696.699 32.4621 701.028 Q32.4621 705.93 35.2312 708.89 Q38.0002 711.818 43.0292 712.264 L42.9973 691.384 Z\" fill=\"#000000\" fill-rule=\"nonzero\" fill-opacity=\"1\" /><path clip-path=\"url(#clip820)\" d=\"M14.479 675.915 L14.479 670.059 L64.0042 670.059 L64.0042 675.915 L14.479 675.915 Z\" fill=\"#000000\" fill-rule=\"nonzero\" fill-opacity=\"1\" /><polyline clip-path=\"url(#clip822)\" style=\"stroke:#009af9; stroke-linecap:round; stroke-linejoin:round; stroke-width:12; stroke-opacity:1; fill:none\" points=\"294.087,1384.24 693.828,1169.67 1093.57,860.225 1493.31,545.305 1893.05,288.11 2292.79,86.1857 \"/>\n",
       "<circle clip-path=\"url(#clip822)\" cx=\"294.087\" cy=\"1384.24\" r=\"14.4\" fill=\"#e26f46\" fill-rule=\"evenodd\" fill-opacity=\"1\" stroke=\"#000000\" stroke-opacity=\"1\" stroke-width=\"3.2\"/>\n",
       "<circle clip-path=\"url(#clip822)\" cx=\"693.828\" cy=\"1157.47\" r=\"14.4\" fill=\"#e26f46\" fill-rule=\"evenodd\" fill-opacity=\"1\" stroke=\"#000000\" stroke-opacity=\"1\" stroke-width=\"3.2\"/>\n",
       "<circle clip-path=\"url(#clip822)\" cx=\"1093.57\" cy=\"906.836\" r=\"14.4\" fill=\"#e26f46\" fill-rule=\"evenodd\" fill-opacity=\"1\" stroke=\"#000000\" stroke-opacity=\"1\" stroke-width=\"3.2\"/>\n",
       "<circle clip-path=\"url(#clip822)\" cx=\"1493.31\" cy=\"548.785\" r=\"14.4\" fill=\"#e26f46\" fill-rule=\"evenodd\" fill-opacity=\"1\" stroke=\"#000000\" stroke-opacity=\"1\" stroke-width=\"3.2\"/>\n",
       "<circle clip-path=\"url(#clip822)\" cx=\"1893.05\" cy=\"256.376\" r=\"14.4\" fill=\"#e26f46\" fill-rule=\"evenodd\" fill-opacity=\"1\" stroke=\"#000000\" stroke-opacity=\"1\" stroke-width=\"3.2\"/>\n",
       "<circle clip-path=\"url(#clip822)\" cx=\"2292.79\" cy=\"131.058\" r=\"14.4\" fill=\"#e26f46\" fill-rule=\"evenodd\" fill-opacity=\"1\" stroke=\"#000000\" stroke-opacity=\"1\" stroke-width=\"3.2\"/>\n",
       "<path clip-path=\"url(#clip820)\" d=\"M304.746 248.629 L945.635 248.629 L945.635 93.1086 L304.746 93.1086  Z\" fill=\"#ffffff\" fill-rule=\"evenodd\" fill-opacity=\"1\"/>\n",
       "<polyline clip-path=\"url(#clip820)\" style=\"stroke:#000000; stroke-linecap:round; stroke-linejoin:round; stroke-width:4; stroke-opacity:1; fill:none\" points=\"304.746,248.629 945.635,248.629 945.635,93.1086 304.746,93.1086 304.746,248.629 \"/>\n",
       "<polyline clip-path=\"url(#clip820)\" style=\"stroke:#009af9; stroke-linecap:round; stroke-linejoin:round; stroke-width:12; stroke-opacity:1; fill:none\" points=\"328.287,144.949 469.529,144.949 \"/>\n",
       "<path clip-path=\"url(#clip820)\" d=\"M493.069 127.669 L499.365 127.669 L514.689 156.581 L514.689 127.669 L519.226 127.669 L519.226 162.229 L512.93 162.229 L497.606 133.317 L497.606 162.229 L493.069 162.229 L493.069 127.669 Z\" fill=\"#000000\" fill-rule=\"nonzero\" fill-opacity=\"1\" /><path clip-path=\"url(#clip820)\" d=\"M547.004 137.298 L547.004 141.28 Q545.199 140.284 543.37 139.798 Q541.564 139.289 539.712 139.289 Q535.569 139.289 533.277 141.928 Q530.986 144.544 530.986 149.289 Q530.986 154.034 533.277 156.673 Q535.569 159.289 539.712 159.289 Q541.564 159.289 543.37 158.803 Q545.199 158.293 547.004 157.298 L547.004 161.233 Q545.222 162.067 543.3 162.483 Q541.402 162.9 539.249 162.9 Q533.393 162.9 529.944 159.219 Q526.495 155.539 526.495 149.289 Q526.495 142.946 529.967 139.312 Q533.462 135.678 539.527 135.678 Q541.495 135.678 543.37 136.095 Q545.245 136.488 547.004 137.298 Z\" fill=\"#000000\" fill-rule=\"nonzero\" fill-opacity=\"1\" /><path clip-path=\"url(#clip820)\" d=\"M576.587 148.201 L576.587 150.284 L557.004 150.284 Q557.282 154.682 559.643 156.997 Q562.027 159.289 566.263 159.289 Q568.717 159.289 571.009 158.687 Q573.323 158.085 575.592 156.881 L575.592 160.909 Q573.3 161.881 570.893 162.391 Q568.485 162.9 566.009 162.9 Q559.805 162.9 556.171 159.289 Q552.56 155.678 552.56 149.52 Q552.56 143.155 555.986 139.428 Q559.435 135.678 565.268 135.678 Q570.499 135.678 573.532 139.057 Q576.587 142.414 576.587 148.201 M572.328 146.951 Q572.282 143.456 570.36 141.372 Q568.462 139.289 565.314 139.289 Q561.749 139.289 559.597 141.303 Q557.467 143.317 557.143 146.974 L572.328 146.951 Z\" fill=\"#000000\" fill-rule=\"nonzero\" fill-opacity=\"1\" /><path clip-path=\"url(#clip820)\" d=\"M583.578 126.21 L587.837 126.21 L587.837 162.229 L583.578 162.229 L583.578 126.21 Z\" fill=\"#000000\" fill-rule=\"nonzero\" fill-opacity=\"1\" /><path clip-path=\"url(#clip820)\" d=\"M606.981 126.257 Q603.879 131.581 602.374 136.789 Q600.87 141.997 600.87 147.344 Q600.87 152.692 602.374 157.946 Q603.902 163.178 606.981 168.479 L603.277 168.479 Q599.805 163.039 598.069 157.784 Q596.356 152.53 596.356 147.344 Q596.356 142.182 598.069 136.951 Q599.782 131.72 603.277 126.257 L606.981 126.257 Z\" fill=\"#000000\" fill-rule=\"nonzero\" fill-opacity=\"1\" /><path clip-path=\"url(#clip820)\" d=\"M619.457 128.942 L619.457 136.303 L628.23 136.303 L628.23 139.613 L619.457 139.613 L619.457 153.687 Q619.457 156.858 620.314 157.761 Q621.193 158.664 623.856 158.664 L628.23 158.664 L628.23 162.229 L623.856 162.229 Q618.925 162.229 617.05 160.4 Q615.175 158.548 615.175 153.687 L615.175 139.613 L612.05 139.613 L612.05 136.303 L615.175 136.303 L615.175 128.942 L619.457 128.942 Z\" fill=\"#000000\" fill-rule=\"nonzero\" fill-opacity=\"1\" /><path clip-path=\"url(#clip820)\" d=\"M633.161 126.257 L636.865 126.257 Q640.337 131.72 642.05 136.951 Q643.786 142.182 643.786 147.344 Q643.786 152.53 642.05 157.784 Q640.337 163.039 636.865 168.479 L633.161 168.479 Q636.24 163.178 637.744 157.946 Q639.272 152.692 639.272 147.344 Q639.272 141.997 637.744 136.789 Q636.24 131.581 633.161 126.257 Z\" fill=\"#000000\" fill-rule=\"nonzero\" fill-opacity=\"1\" /><path clip-path=\"url(#clip820)\" d=\"M680.522 126.21 L680.522 129.752 L676.448 129.752 Q674.156 129.752 673.253 130.678 Q672.374 131.604 672.374 134.011 L672.374 136.303 L679.388 136.303 L679.388 139.613 L672.374 139.613 L672.374 162.229 L668.091 162.229 L668.091 139.613 L664.017 139.613 L664.017 136.303 L668.091 136.303 L668.091 134.497 Q668.091 130.169 670.105 128.201 Q672.119 126.21 676.494 126.21 L680.522 126.21 Z\" fill=\"#000000\" fill-rule=\"nonzero\" fill-opacity=\"1\" /><path clip-path=\"url(#clip820)\" d=\"M694.133 139.289 Q690.707 139.289 688.716 141.974 Q686.726 144.636 686.726 149.289 Q686.726 153.942 688.693 156.627 Q690.684 159.289 694.133 159.289 Q697.536 159.289 699.526 156.604 Q701.517 153.918 701.517 149.289 Q701.517 144.682 699.526 141.997 Q697.536 139.289 694.133 139.289 M694.133 135.678 Q699.688 135.678 702.86 139.289 Q706.031 142.9 706.031 149.289 Q706.031 155.655 702.86 159.289 Q699.688 162.9 694.133 162.9 Q688.554 162.9 685.383 159.289 Q682.235 155.655 682.235 149.289 Q682.235 142.9 685.383 139.289 Q688.554 135.678 694.133 135.678 Z\" fill=\"#000000\" fill-rule=\"nonzero\" fill-opacity=\"1\" /><path clip-path=\"url(#clip820)\" d=\"M728.114 140.284 Q727.397 139.868 726.54 139.682 Q725.707 139.474 724.688 139.474 Q721.077 139.474 719.133 141.835 Q717.211 144.173 717.211 148.571 L717.211 162.229 L712.929 162.229 L712.929 136.303 L717.211 136.303 L717.211 140.331 Q718.554 137.969 720.707 136.835 Q722.86 135.678 725.938 135.678 Q726.378 135.678 726.911 135.747 Q727.443 135.794 728.091 135.909 L728.114 140.284 Z\" fill=\"#000000\" fill-rule=\"nonzero\" fill-opacity=\"1\" /><path clip-path=\"url(#clip820)\" d=\"M764.711 140.238 L764.711 126.21 L768.97 126.21 L768.97 162.229 L764.711 162.229 L764.711 158.34 Q763.369 160.655 761.308 161.789 Q759.271 162.9 756.401 162.9 Q751.702 162.9 748.739 159.15 Q745.799 155.4 745.799 149.289 Q745.799 143.178 748.739 139.428 Q751.702 135.678 756.401 135.678 Q759.271 135.678 761.308 136.812 Q763.369 137.923 764.711 140.238 M750.197 149.289 Q750.197 153.988 752.119 156.673 Q754.063 159.335 757.443 159.335 Q760.822 159.335 762.767 156.673 Q764.711 153.988 764.711 149.289 Q764.711 144.59 762.767 141.928 Q760.822 139.243 757.443 139.243 Q754.063 139.243 752.119 141.928 Q750.197 144.59 750.197 149.289 Z\" fill=\"#000000\" fill-rule=\"nonzero\" fill-opacity=\"1\" /><path clip-path=\"url(#clip820)\" d=\"M787.79 139.289 Q784.364 139.289 782.373 141.974 Q780.382 144.636 780.382 149.289 Q780.382 153.942 782.35 156.627 Q784.341 159.289 787.79 159.289 Q791.193 159.289 793.183 156.604 Q795.174 153.918 795.174 149.289 Q795.174 144.682 793.183 141.997 Q791.193 139.289 787.79 139.289 M787.79 135.678 Q793.345 135.678 796.517 139.289 Q799.688 142.9 799.688 149.289 Q799.688 155.655 796.517 159.289 Q793.345 162.9 787.79 162.9 Q782.211 162.9 779.04 159.289 Q775.892 155.655 775.892 149.289 Q775.892 142.9 779.04 139.289 Q782.211 135.678 787.79 135.678 Z\" fill=\"#000000\" fill-rule=\"nonzero\" fill-opacity=\"1\" /><path clip-path=\"url(#clip820)\" d=\"M823.276 137.067 L823.276 141.094 Q821.47 140.169 819.526 139.706 Q817.581 139.243 815.498 139.243 Q812.327 139.243 810.73 140.215 Q809.155 141.187 809.155 143.131 Q809.155 144.613 810.29 145.469 Q811.424 146.303 814.85 147.067 L816.308 147.391 Q820.845 148.363 822.743 150.145 Q824.665 151.905 824.665 155.076 Q824.665 158.687 821.794 160.793 Q818.947 162.9 813.947 162.9 Q811.864 162.9 809.595 162.483 Q807.35 162.09 804.85 161.28 L804.85 156.881 Q807.211 158.108 809.503 158.733 Q811.794 159.335 814.04 159.335 Q817.049 159.335 818.669 158.317 Q820.29 157.275 820.29 155.4 Q820.29 153.664 819.109 152.738 Q817.952 151.812 813.993 150.956 L812.512 150.608 Q808.554 149.775 806.794 148.062 Q805.035 146.326 805.035 143.317 Q805.035 139.659 807.628 137.669 Q810.22 135.678 814.989 135.678 Q817.35 135.678 819.433 136.025 Q821.516 136.372 823.276 137.067 Z\" fill=\"#000000\" fill-rule=\"nonzero\" fill-opacity=\"1\" /><path clip-path=\"url(#clip820)\" d=\"M853.623 148.201 L853.623 150.284 L834.04 150.284 Q834.317 154.682 836.678 156.997 Q839.063 159.289 843.299 159.289 Q845.752 159.289 848.044 158.687 Q850.359 158.085 852.627 156.881 L852.627 160.909 Q850.336 161.881 847.928 162.391 Q845.521 162.9 843.044 162.9 Q836.84 162.9 833.206 159.289 Q829.595 155.678 829.595 149.52 Q829.595 143.155 833.021 139.428 Q836.47 135.678 842.303 135.678 Q847.535 135.678 850.567 139.057 Q853.623 142.414 853.623 148.201 M849.364 146.951 Q849.317 143.456 847.396 141.372 Q845.498 139.289 842.35 139.289 Q838.785 139.289 836.632 141.303 Q834.503 143.317 834.178 146.974 L849.364 146.951 Z\" fill=\"#000000\" fill-rule=\"nonzero\" fill-opacity=\"1\" /><path clip-path=\"url(#clip820)\" d=\"M861.169 140.701 L890.845 140.701 L890.845 144.59 L861.169 144.59 L861.169 140.701 M861.169 150.145 L890.845 150.145 L890.845 154.081 L861.169 154.081 L861.169 150.145 Z\" fill=\"#000000\" fill-rule=\"nonzero\" fill-opacity=\"1\" /><path clip-path=\"url(#clip820)\" d=\"M900.984 127.669 L919.34 127.669 L919.34 131.604 L905.266 131.604 L905.266 140.076 Q906.285 139.729 907.303 139.567 Q908.322 139.382 909.34 139.382 Q915.127 139.382 918.507 142.553 Q921.886 145.724 921.886 151.141 Q921.886 156.719 918.414 159.821 Q914.942 162.9 908.623 162.9 Q906.447 162.9 904.178 162.53 Q901.933 162.159 899.525 161.418 L899.525 156.719 Q901.609 157.854 903.831 158.409 Q906.053 158.965 908.53 158.965 Q912.535 158.965 914.872 156.858 Q917.21 154.752 917.21 151.141 Q917.21 147.53 914.872 145.423 Q912.535 143.317 908.53 143.317 Q906.655 143.317 904.78 143.733 Q902.928 144.15 900.984 145.03 L900.984 127.669 Z\" fill=\"#000000\" fill-rule=\"nonzero\" fill-opacity=\"1\" /><circle clip-path=\"url(#clip820)\" cx=\"398.908\" cy=\"196.789\" r=\"20.48\" fill=\"#e26f46\" fill-rule=\"evenodd\" fill-opacity=\"1\" stroke=\"#000000\" stroke-opacity=\"1\" stroke-width=\"4.55111\"/>\n",
       "<path clip-path=\"url(#clip820)\" d=\"M493.069 179.509 L514.921 179.509 L514.921 183.444 L497.745 183.444 L497.745 193.675 L514.203 193.675 L514.203 197.61 L497.745 197.61 L497.745 210.133 L515.338 210.133 L515.338 214.069 L493.069 214.069 L493.069 179.509 Z\" fill=\"#000000\" fill-rule=\"nonzero\" fill-opacity=\"1\" /><path clip-path=\"url(#clip820)\" d=\"M544.388 188.143 L535.013 200.759 L544.874 214.069 L539.851 214.069 L532.305 203.883 L524.759 214.069 L519.736 214.069 L529.805 200.504 L520.592 188.143 L525.615 188.143 L532.49 197.379 L539.365 188.143 L544.388 188.143 Z\" fill=\"#000000\" fill-rule=\"nonzero\" fill-opacity=\"1\" /><path clip-path=\"url(#clip820)\" d=\"M555.013 210.18 L555.013 223.93 L550.731 223.93 L550.731 188.143 L555.013 188.143 L555.013 192.078 Q556.356 189.763 558.393 188.652 Q560.453 187.518 563.3 187.518 Q568.022 187.518 570.962 191.268 Q573.925 195.018 573.925 201.129 Q573.925 207.24 570.962 210.99 Q568.022 214.74 563.3 214.74 Q560.453 214.74 558.393 213.629 Q556.356 212.495 555.013 210.18 M569.504 201.129 Q569.504 196.43 567.56 193.768 Q565.638 191.083 562.259 191.083 Q558.879 191.083 556.935 193.768 Q555.013 196.43 555.013 201.129 Q555.013 205.828 556.935 208.513 Q558.879 211.175 562.259 211.175 Q565.638 211.175 567.56 208.513 Q569.504 205.828 569.504 201.129 Z\" fill=\"#000000\" fill-rule=\"nonzero\" fill-opacity=\"1\" /><path clip-path=\"url(#clip820)\" d=\"M603.161 200.041 L603.161 202.124 L583.578 202.124 Q583.856 206.522 586.217 208.837 Q588.601 211.129 592.837 211.129 Q595.291 211.129 597.583 210.527 Q599.897 209.925 602.166 208.721 L602.166 212.749 Q599.874 213.721 597.467 214.231 Q595.059 214.74 592.583 214.74 Q586.379 214.74 582.745 211.129 Q579.134 207.518 579.134 201.36 Q579.134 194.995 582.559 191.268 Q586.008 187.518 591.842 187.518 Q597.073 187.518 600.106 190.897 Q603.161 194.254 603.161 200.041 M598.902 198.791 Q598.856 195.296 596.934 193.212 Q595.036 191.129 591.888 191.129 Q588.323 191.129 586.171 193.143 Q584.041 195.157 583.717 198.814 L598.902 198.791 Z\" fill=\"#000000\" fill-rule=\"nonzero\" fill-opacity=\"1\" /><path clip-path=\"url(#clip820)\" d=\"M625.175 192.124 Q624.457 191.708 623.601 191.522 Q622.768 191.314 621.749 191.314 Q618.138 191.314 616.194 193.675 Q614.272 196.013 614.272 200.411 L614.272 214.069 L609.99 214.069 L609.99 188.143 L614.272 188.143 L614.272 192.171 Q615.615 189.809 617.768 188.675 Q619.92 187.518 622.999 187.518 Q623.439 187.518 623.971 187.587 Q624.504 187.634 625.152 187.749 L625.175 192.124 Z\" fill=\"#000000\" fill-rule=\"nonzero\" fill-opacity=\"1\" /><path clip-path=\"url(#clip820)\" d=\"M629.643 188.143 L633.902 188.143 L633.902 214.069 L629.643 214.069 L629.643 188.143 M629.643 178.05 L633.902 178.05 L633.902 183.444 L629.643 183.444 L629.643 178.05 Z\" fill=\"#000000\" fill-rule=\"nonzero\" fill-opacity=\"1\" /><path clip-path=\"url(#clip820)\" d=\"M662.999 193.12 Q664.596 190.249 666.818 188.884 Q669.04 187.518 672.05 187.518 Q676.101 187.518 678.3 190.365 Q680.499 193.189 680.499 198.421 L680.499 214.069 L676.216 214.069 L676.216 198.559 Q676.216 194.833 674.897 193.027 Q673.577 191.222 670.869 191.222 Q667.559 191.222 665.638 193.421 Q663.716 195.62 663.716 199.416 L663.716 214.069 L659.434 214.069 L659.434 198.559 Q659.434 194.809 658.115 193.027 Q656.795 191.222 654.041 191.222 Q650.777 191.222 648.855 193.444 Q646.934 195.643 646.934 199.416 L646.934 214.069 L642.652 214.069 L642.652 188.143 L646.934 188.143 L646.934 192.171 Q648.392 189.786 650.429 188.652 Q652.466 187.518 655.267 187.518 Q658.091 187.518 660.059 188.953 Q662.05 190.388 662.999 193.12 Z\" fill=\"#000000\" fill-rule=\"nonzero\" fill-opacity=\"1\" /><path clip-path=\"url(#clip820)\" d=\"M711.17 200.041 L711.17 202.124 L691.587 202.124 Q691.864 206.522 694.226 208.837 Q696.61 211.129 700.846 211.129 Q703.3 211.129 705.591 210.527 Q707.906 209.925 710.174 208.721 L710.174 212.749 Q707.883 213.721 705.475 214.231 Q703.068 214.74 700.591 214.74 Q694.388 214.74 690.753 211.129 Q687.142 207.518 687.142 201.36 Q687.142 194.995 690.568 191.268 Q694.017 187.518 699.85 187.518 Q705.082 187.518 708.114 190.897 Q711.17 194.254 711.17 200.041 M706.911 198.791 Q706.864 195.296 704.943 193.212 Q703.045 191.129 699.897 191.129 Q696.332 191.129 694.179 193.143 Q692.05 195.157 691.726 198.814 L706.911 198.791 Z\" fill=\"#000000\" fill-rule=\"nonzero\" fill-opacity=\"1\" /><path clip-path=\"url(#clip820)\" d=\"M739.711 198.421 L739.711 214.069 L735.452 214.069 L735.452 198.559 Q735.452 194.879 734.017 193.05 Q732.582 191.222 729.711 191.222 Q726.262 191.222 724.272 193.421 Q722.281 195.62 722.281 199.416 L722.281 214.069 L717.999 214.069 L717.999 188.143 L722.281 188.143 L722.281 192.171 Q723.809 189.833 725.869 188.675 Q727.952 187.518 730.66 187.518 Q735.128 187.518 737.42 190.296 Q739.711 193.05 739.711 198.421 Z\" fill=\"#000000\" fill-rule=\"nonzero\" fill-opacity=\"1\" /><path clip-path=\"url(#clip820)\" d=\"M752.42 180.782 L752.42 188.143 L761.193 188.143 L761.193 191.453 L752.42 191.453 L752.42 205.527 Q752.42 208.698 753.276 209.601 Q754.156 210.504 756.818 210.504 L761.193 210.504 L761.193 214.069 L756.818 214.069 Q751.887 214.069 750.012 212.24 Q748.137 210.388 748.137 205.527 L748.137 191.453 L745.012 191.453 L745.012 188.143 L748.137 188.143 L748.137 180.782 L752.42 180.782 Z\" fill=\"#000000\" fill-rule=\"nonzero\" fill-opacity=\"1\" /><path clip-path=\"url(#clip820)\" d=\"M778.577 201.036 Q773.415 201.036 771.424 202.217 Q769.433 203.397 769.433 206.245 Q769.433 208.513 770.915 209.856 Q772.42 211.175 774.989 211.175 Q778.531 211.175 780.66 208.675 Q782.813 206.152 782.813 201.985 L782.813 201.036 L778.577 201.036 M787.072 199.277 L787.072 214.069 L782.813 214.069 L782.813 210.133 Q781.355 212.495 779.179 213.629 Q777.003 214.74 773.855 214.74 Q769.873 214.74 767.512 212.518 Q765.174 210.272 765.174 206.522 Q765.174 202.147 768.091 199.925 Q771.031 197.703 776.841 197.703 L782.813 197.703 L782.813 197.286 Q782.813 194.347 780.869 192.749 Q778.947 191.129 775.452 191.129 Q773.23 191.129 771.123 191.661 Q769.017 192.194 767.072 193.259 L767.072 189.323 Q769.41 188.421 771.609 187.981 Q773.808 187.518 775.892 187.518 Q781.517 187.518 784.294 190.434 Q787.072 193.351 787.072 199.277 Z\" fill=\"#000000\" fill-rule=\"nonzero\" fill-opacity=\"1\" /><path clip-path=\"url(#clip820)\" d=\"M795.845 178.05 L800.105 178.05 L800.105 214.069 L795.845 214.069 L795.845 178.05 Z\" fill=\"#000000\" fill-rule=\"nonzero\" fill-opacity=\"1\" /><path clip-path=\"url(#clip820)\" d=\"M841.146 192.078 L841.146 178.05 L845.405 178.05 L845.405 214.069 L841.146 214.069 L841.146 210.18 Q839.803 212.495 837.743 213.629 Q835.706 214.74 832.836 214.74 Q828.137 214.74 825.174 210.99 Q822.234 207.24 822.234 201.129 Q822.234 195.018 825.174 191.268 Q828.137 187.518 832.836 187.518 Q835.706 187.518 837.743 188.652 Q839.803 189.763 841.146 192.078 M826.632 201.129 Q826.632 205.828 828.553 208.513 Q830.498 211.175 833.878 211.175 Q837.257 211.175 839.202 208.513 Q841.146 205.828 841.146 201.129 Q841.146 196.43 839.202 193.768 Q837.257 191.083 833.878 191.083 Q830.498 191.083 828.553 193.768 Q826.632 196.43 826.632 201.129 Z\" fill=\"#000000\" fill-rule=\"nonzero\" fill-opacity=\"1\" /><path clip-path=\"url(#clip820)\" d=\"M865.961 201.036 Q860.799 201.036 858.808 202.217 Q856.817 203.397 856.817 206.245 Q856.817 208.513 858.299 209.856 Q859.803 211.175 862.373 211.175 Q865.914 211.175 868.044 208.675 Q870.197 206.152 870.197 201.985 L870.197 201.036 L865.961 201.036 M874.456 199.277 L874.456 214.069 L870.197 214.069 L870.197 210.133 Q868.738 212.495 866.563 213.629 Q864.387 214.74 861.238 214.74 Q857.257 214.74 854.896 212.518 Q852.558 210.272 852.558 206.522 Q852.558 202.147 855.475 199.925 Q858.414 197.703 864.225 197.703 L870.197 197.703 L870.197 197.286 Q870.197 194.347 868.252 192.749 Q866.331 191.129 862.836 191.129 Q860.613 191.129 858.507 191.661 Q856.401 192.194 854.456 193.259 L854.456 189.323 Q856.794 188.421 858.993 187.981 Q861.192 187.518 863.276 187.518 Q868.9 187.518 871.678 190.434 Q874.456 193.351 874.456 199.277 Z\" fill=\"#000000\" fill-rule=\"nonzero\" fill-opacity=\"1\" /><path clip-path=\"url(#clip820)\" d=\"M887.442 180.782 L887.442 188.143 L896.215 188.143 L896.215 191.453 L887.442 191.453 L887.442 205.527 Q887.442 208.698 888.299 209.601 Q889.178 210.504 891.84 210.504 L896.215 210.504 L896.215 214.069 L891.84 214.069 Q886.91 214.069 885.035 212.24 Q883.16 210.388 883.16 205.527 L883.16 191.453 L880.035 191.453 L880.035 188.143 L883.16 188.143 L883.16 180.782 L887.442 180.782 Z\" fill=\"#000000\" fill-rule=\"nonzero\" fill-opacity=\"1\" /><path clip-path=\"url(#clip820)\" d=\"M913.599 201.036 Q908.437 201.036 906.447 202.217 Q904.456 203.397 904.456 206.245 Q904.456 208.513 905.937 209.856 Q907.442 211.175 910.011 211.175 Q913.553 211.175 915.683 208.675 Q917.835 206.152 917.835 201.985 L917.835 201.036 L913.599 201.036 M922.095 199.277 L922.095 214.069 L917.835 214.069 L917.835 210.133 Q916.377 212.495 914.201 213.629 Q912.025 214.74 908.877 214.74 Q904.896 214.74 902.535 212.518 Q900.197 210.272 900.197 206.522 Q900.197 202.147 903.113 199.925 Q906.053 197.703 911.863 197.703 L917.835 197.703 L917.835 197.286 Q917.835 194.347 915.891 192.749 Q913.97 191.129 910.474 191.129 Q908.252 191.129 906.146 191.661 Q904.039 192.194 902.095 193.259 L902.095 189.323 Q904.433 188.421 906.632 187.981 Q908.831 187.518 910.914 187.518 Q916.539 187.518 919.317 190.434 Q922.095 193.351 922.095 199.277 Z\" fill=\"#000000\" fill-rule=\"nonzero\" fill-opacity=\"1\" /></svg>\n"
      ]
     },
     "metadata": {},
     "output_type": "display_data"
    }
   ],
   "source": [
    "plot(sol.t, (sol[1,:]+sol[2,:]+sol[3,:]), xlabel = \"t\", ylabel = \"Ncel\", label=\"Ncel(t) for dose=5\", line=3);\n",
    "scatter!(times, Cell005, label = \"Experimental data\")"
   ]
  },
  {
   "cell_type": "markdown",
   "metadata": {},
   "source": [
    "We need to define the objective function to run confidence intervals estimation. We use OLS fit as it was proposed in the original code:\n",
    "$$ \\Lambda = \\sum_{i=1}^n \\left( y(t_i) - data_i \\right)^2 $$\n",
    "\n",
    "Where\n",
    "$n$ - number of observations (experimental data time points),\n",
    "$data_i$ - experimental data,\n",
    "$y(t_i)$ - numerical solution "
   ]
  },
  {
   "cell_type": "code",
   "execution_count": 5,
   "metadata": {},
   "outputs": [],
   "source": [
    "# https://github.com/marisae/cancer-chemo-identifiability/blob/master/Profile%20Likelihood/testa0_fit.m#L92\n",
    "# https://www.mathworks.com/help/optim/ug/lsqcurvefit.html\n",
    "function lsq_func(\n",
    "    p;\n",
    "    ode_func=ode_func,\n",
    "    dose=dose,\n",
    "    data=data,\n",
    "    datamean=datamean,\n",
    "    times=times,\n",
    "    solver_opts=solver_opts\n",
    ")\n",
    "    loss = 0.\n",
    "    \n",
    "    for (i,d) in enumerate(dose)\n",
    "       prob = ODEProblem((du,u,p,t)->ode_func(du,u,p,t,d), u0, tspan, p)\n",
    "       sol = solve(prob, \n",
    "                   solver_opts[:alg], \n",
    "                   reltol=solver_opts[:reltol],\n",
    "                   abstol=solver_opts[:abstol],\n",
    "                   saveat=times)\n",
    "        \n",
    "       sim = (sol[1,:] + sol[2,:] + sol[3,:])/datamean[i]\n",
    "       loss += sum((sim-data[i]).^2)\n",
    "    end\n",
    "    return loss\n",
    "end;"
   ]
  },
  {
   "cell_type": "markdown",
   "metadata": {},
   "source": [
    "We are ready to compute Confidence Intervals for *a0, ka, r0, d0, kd* with *CICOBase*"
   ]
  },
  {
   "cell_type": "code",
   "execution_count": 6,
   "metadata": {},
   "outputs": [
    {
     "name": "stderr",
     "output_type": "stream",
     "text": [
      "\u001b[32mleft CP counter: 2    Time: 0:00:00 ( 0.25  s/it)\u001b[39m\u001b[K\n",
      "\u001b[32mleft CP counter: 286    Time: 0:00:00 ( 3.40 ms/it)\u001b[39m\u001b[K\n",
      "\u001b[32mright CP counter: 171    Time: 0:00:00 ( 0.59 ms/it)\u001b[39m\u001b[K\n",
      "\u001b[32mright CP counter: 338    Time: 0:00:00 ( 0.60 ms/it)\u001b[39m\u001b[K\n",
      "\u001b[32mright CP counter: 503    Time: 0:00:00 ( 0.62 ms/it)\u001b[39m\u001b[K\n",
      "\u001b[32mright CP counter: 602    Time: 0:00:00 ( 0.62 ms/it)\u001b[39m\u001b[K\n"
     ]
    },
    {
     "name": "stdout",
     "output_type": "stream",
     "text": [
      "ParamInterval(ParamIntervalInput([8.317, 8.0959, 0.0582, 1.3307, 119.1363], 1, Main.lsq_func, :CICO_ONE_PASS, Dict{Symbol, Any}(:loss_crit => 0.9969368096327396, :scan_bounds => (0.001, 1000.0), :scale => [:log, :log, :log, :log, :log])), 0.5543989297852309, :CICO_ONE_PASS, (EndPoint(6.759329214244876, ProfilePoint[ProfilePoint(6.759329214244876, 0.9924943595466817, [6.759329214244876, 8.256344456490467, 1.9817511071795298e-10, 1.6586007246551167, 94.95892750454199], :FTOL_REACHED, nothing)], :BORDER_FOUND_BY_SCAN_TOL, :left, 286, 6.759329214244876), EndPoint(17.302679462368186, ProfilePoint[ProfilePoint(17.302679462368186, 0.9956708518516835, [17.302679462368186, 8.33131589398121, 0.34985139501527907, 15.628248415205716, 303.01625115751506], :FTOL_REACHED, nothing)], :BORDER_FOUND_BY_SCAN_TOL, :right, 602, 17.329102930750473)))\n"
     ]
    },
    {
     "name": "stderr",
     "output_type": "stream",
     "text": [
      "\u001b[32mleft CP counter: 172    Time: 0:00:00 ( 0.58 ms/it)\u001b[39m\u001b[K\n",
      "\u001b[32mleft CP counter: 343    Time: 0:00:00 ( 0.66 ms/it)\u001b[39m\u001b[K\n",
      "\u001b[32mleft CP counter: 512    Time: 0:00:00 ( 0.64 ms/it)\u001b[39m\u001b[K\n",
      "\u001b[32mleft CP counter: 523    Time: 0:00:00 ( 0.64 ms/it)\u001b[39m\u001b[K\n",
      "\u001b[32mright CP counter: 164    Time: 0:00:00 ( 0.61 ms/it)\u001b[39m\u001b[K\n",
      "\u001b[32mright CP counter: 339    Time: 0:00:00 ( 0.60 ms/it)\u001b[39m\u001b[K\n",
      "\u001b[32mright CP counter: 350    Time: 0:00:00 ( 0.60 ms/it)\u001b[39m\u001b[K\n"
     ]
    },
    {
     "name": "stdout",
     "output_type": "stream",
     "text": [
      "ParamInterval(ParamIntervalInput([8.317, 8.0959, 0.0582, 1.3307, 119.1363], 2, Main.lsq_func, :CICO_ONE_PASS, Dict{Symbol, Any}(:loss_crit => 0.9969368096327396, :scan_bounds => (0.001, 1000.0), :scale => [:log, :log, :log, :log, :log])), 0.5543989297852309, :CICO_ONE_PASS, (EndPoint(4.988704525570046, ProfilePoint[ProfilePoint(4.988704525570046, 0.9966367142978716, [8.575190186313096, 4.988704525570046, 0.18469854265473112, 1.032753052136969, 62.862908547911346], :FTOL_REACHED, nothing)], :BORDER_FOUND_BY_SCAN_TOL, :left, 523, 4.988704525570046), EndPoint(10.733968805768779, ProfilePoint[ProfilePoint(10.733968805768779, 0.99627443719079, [8.259835675742929, 10.733968805768779, 0.019831967244602757, 1.482003580289652, 143.5011672405034], :FTOL_REACHED, nothing)], :BORDER_FOUND_BY_SCAN_TOL, :right, 350, 10.733968805768779)))\n"
     ]
    },
    {
     "name": "stderr",
     "output_type": "stream",
     "text": [
      "\u001b[32mright CP counter: 176    Time: 0:00:00 ( 0.58 ms/it)\u001b[39m\u001b[K\n",
      "\u001b[32mright CP counter: 348    Time: 0:00:00 ( 0.61 ms/it)\u001b[39m\u001b[K\n",
      "\u001b[32mright CP counter: 524    Time: 0:00:00 ( 0.60 ms/it)\u001b[39m\u001b[K\n",
      "\u001b[32mright CP counter: 697    Time: 0:00:00 ( 0.61 ms/it)\u001b[39m\u001b[K\n",
      "\u001b[32mright CP counter: 797    Time: 0:00:00 ( 0.62 ms/it)\u001b[39m\u001b[K\n"
     ]
    },
    {
     "name": "stdout",
     "output_type": "stream",
     "text": [
      "ParamInterval(ParamIntervalInput([8.317, 8.0959, 0.0582, 1.3307, 119.1363], 3, Main.lsq_func, :CICO_ONE_PASS, Dict{Symbol, Any}(:loss_crit => 0.9969368096327396, :scan_bounds => (0.001, 1000.0), :scale => [:log, :log, :log, :log, :log])), 0.5543989297852309, :CICO_ONE_PASS, (EndPoint(nothing, ProfilePoint[], :SCAN_BOUND_REACHED, :left, 49, 0.0008153063791662839), EndPoint(0.4045462742487371, ProfilePoint[ProfilePoint(0.4045462742487371, 0.9968787940950203, [15.0959425352963, 6.987935478768365, 0.4045462742487371, 0.3410256688974108, 58.85802452482185], :FTOL_REACHED, nothing)], :BORDER_FOUND_BY_SCAN_TOL, :right, 797, 0.4045462742487371)))\n"
     ]
    },
    {
     "name": "stderr",
     "output_type": "stream",
     "text": [
      "\u001b[32mleft CP counter: 151    Time: 0:00:00 ( 0.67 ms/it)\u001b[39m\u001b[K\n",
      "\u001b[32mleft CP counter: 314    Time: 0:00:00 ( 0.65 ms/it)\u001b[39m\u001b[K\n",
      "\u001b[32mleft CP counter: 473    Time: 0:00:00 ( 0.65 ms/it)\u001b[39m\u001b[K\n",
      "\u001b[32mleft CP counter: 602    Time: 0:00:00 ( 0.66 ms/it)\u001b[39m\u001b[K\n",
      "\u001b[32mright CP counter: 115    Time: 0:00:00 ( 0.88 ms/it)\u001b[39m\u001b[K\n",
      "\u001b[32mright CP counter: 170    Time: 0:00:00 ( 0.81 ms/it)\u001b[39m\u001b[K\n"
     ]
    },
    {
     "name": "stdout",
     "output_type": "stream",
     "text": [
      "ParamInterval(ParamIntervalInput([8.317, 8.0959, 0.0582, 1.3307, 119.1363], 4, Main.lsq_func, :CICO_ONE_PASS, Dict{Symbol, Any}(:loss_crit => 0.9969368096327396, :scan_bounds => (0.001, 1000.0), :scale => [:log, :log, :log, :log, :log])), 0.5543989297852309, :CICO_ONE_PASS, (EndPoint(0.18703851425547172, ProfilePoint[ProfilePoint(0.18703851425547172, 0.9970091474606448, [10.01843604602707, 8.981783216538687, 0.07194353484460049, 0.18703851425547172, 70.77251071685085], :FTOL_REACHED, nothing)], :BORDER_FOUND_BY_SCAN_TOL, :left, 602, 0.1873545682587843), EndPoint(nothing, ProfilePoint[], :SCAN_BOUND_REACHED, :right, 170, 2.056974662333836e16)))\n"
     ]
    },
    {
     "name": "stderr",
     "output_type": "stream",
     "text": [
      "\u001b[32mleft CP counter: 126    Time: 0:00:00 ( 0.79 ms/it)\u001b[39m\u001b[K\n",
      "\u001b[32mleft CP counter: 265    Time: 0:00:00 ( 0.76 ms/it)\u001b[39m\u001b[K\n",
      "\u001b[32mleft CP counter: 419    Time: 0:00:00 ( 0.73 ms/it)\u001b[39m\u001b[K\n",
      "\u001b[32mleft CP counter: 571    Time: 0:00:00 ( 0.72 ms/it)\u001b[39m\u001b[K\n",
      "\u001b[32mleft CP counter: 720    Time: 0:00:00 ( 0.73 ms/it)\u001b[39m\u001b[K\n",
      "\u001b[32mleft CP counter: 797    Time: 0:00:00 ( 0.81 ms/it)\u001b[39m\u001b[K\n",
      "\u001b[32mright CP counter: 103    Time: 0:00:00 ( 0.97 ms/it)\u001b[39m\u001b[K\n",
      "\u001b[32mright CP counter: 214    Time: 0:00:00 ( 0.96 ms/it)\u001b[39m\u001b[K\n",
      "\u001b[32mright CP counter: 223    Time: 0:00:00 ( 0.99 ms/it)\u001b[39m\u001b[K\n"
     ]
    },
    {
     "name": "stdout",
     "output_type": "stream",
     "text": [
      "ParamInterval(ParamIntervalInput([8.317, 8.0959, 0.0582, 1.3307, 119.1363], 5, Main.lsq_func, :CICO_ONE_PASS, Dict{Symbol, Any}(:loss_crit => 0.9969368096327396, :scan_bounds => (0.001, 1000.0), :scale => [:log, :log, :log, :log, :log])), 0.5543989297852309, :CICO_ONE_PASS, (EndPoint(50.515927620015816, ProfilePoint[ProfilePoint(50.515927620015816, 0.9974642637398783, [8.831456506782727, 6.8582115047390255, 0.14304346162063303, 0.5358898046182273, 50.515927620015816], :FTOL_REACHED, nothing)], :BORDER_FOUND_BY_SCAN_TOL, :left, 797, 50.56847398398075), EndPoint(nothing, ProfilePoint[], :SCAN_BOUND_REACHED, :right, 223, 1897.5539243235398)))\n"
     ]
    }
   ],
   "source": [
    "# threshold is chosen according to\n",
    "# https://github.com/marisae/cancer-chemo-identifiability/blob/master/Profile%20Likelihood/testa0_fit.m#L40-L41\n",
    "sigmasq = (mean([(Cerr005/C005); (Cerr010/C010); (Cerr040/C040); (Cerr100/C100)]))^2\n",
    "threshold = sigmasq*cquantile(Chisq(5), 0.05)\n",
    "\n",
    "α = lsq_func(p0) + threshold\n",
    "\n",
    "intervals = Vector{ParamInterval}(undef,length(p0))\n",
    "for i in eachindex(p0)\n",
    "    \n",
    "    # upper and lower scan bounds\n",
    "    # https://github.com/marisae/cancer-chemo-identifiability/blob/master/Profile%20Likelihood/testa0_fit.m#L56-L105\n",
    "    #lb = (1 - 0.05*14)*p0[i]\n",
    "    #ub = (1 + 0.05*60)*p0[i]\n",
    "    #theta_bounds = fill((1e-4,1e4),5)\n",
    "    \n",
    "    intervals[i] = get_interval(\n",
    "        p0,\n",
    "        i,\n",
    "        lsq_func,\n",
    "        :CICO_ONE_PASS,\n",
    "        loss_crit = α,\n",
    "        scan_bounds = (1e-3,1e3),\n",
    "        scale = fill(:log,length(p0))\n",
    "    )\n",
    "    println(intervals[i]) \n",
    "end"
   ]
  },
  {
   "cell_type": "code",
   "execution_count": 7,
   "metadata": {
    "scrolled": true
   },
   "outputs": [
    {
     "data": {
      "text/html": [
       "<div><div style = \"float: left;\"><span>5×8 DataFrame</span></div><div style = \"clear: both;\"></div></div><div class = \"data-frame\" style = \"overflow-x: scroll;\"><table class = \"data-frame\" style = \"margin-bottom: 6px;\"><thead><tr class = \"header\"><th class = \"rowNumber\" style = \"font-weight: bold; text-align: right;\">Row</th><th style = \"text-align: left;\">Parameters</th><th style = \"text-align: left;\">StatusLower</th><th style = \"text-align: left;\">StatusUpper</th><th style = \"text-align: left;\">CILower</th><th style = \"text-align: left;\">CIUpper</th><th style = \"text-align: left;\">LFLowerCalls</th><th style = \"text-align: left;\">LFUpperCalls</th><th style = \"text-align: left;\">NominalStartValues</th></tr><tr class = \"subheader headerLastRow\"><th class = \"rowNumber\" style = \"font-weight: bold; text-align: right;\"></th><th title = \"Symbol\" style = \"text-align: left;\">Symbol</th><th title = \"Symbol\" style = \"text-align: left;\">Symbol</th><th title = \"Symbol\" style = \"text-align: left;\">Symbol</th><th title = \"Union{Nothing, Float64}\" style = \"text-align: left;\">Union…</th><th title = \"Union{Nothing, Float64}\" style = \"text-align: left;\">Union…</th><th title = \"Int64\" style = \"text-align: left;\">Int64</th><th title = \"Int64\" style = \"text-align: left;\">Int64</th><th title = \"Float64\" style = \"text-align: left;\">Float64</th></tr></thead><tbody><tr><td class = \"rowNumber\" style = \"font-weight: bold; text-align: right;\">1</td><td style = \"text-align: left;\">a0</td><td style = \"text-align: left;\">BORDER_FOUND_BY_SCAN_TOL</td><td style = \"text-align: left;\">BORDER_FOUND_BY_SCAN_TOL</td><td style = \"text-align: left;\">6.75933</td><td style = \"text-align: left;\">17.3027</td><td style = \"text-align: right;\">286</td><td style = \"text-align: right;\">602</td><td style = \"text-align: right;\">8.317</td></tr><tr><td class = \"rowNumber\" style = \"font-weight: bold; text-align: right;\">2</td><td style = \"text-align: left;\">ka</td><td style = \"text-align: left;\">BORDER_FOUND_BY_SCAN_TOL</td><td style = \"text-align: left;\">BORDER_FOUND_BY_SCAN_TOL</td><td style = \"text-align: left;\">4.9887</td><td style = \"text-align: left;\">10.734</td><td style = \"text-align: right;\">523</td><td style = \"text-align: right;\">350</td><td style = \"text-align: right;\">8.0959</td></tr><tr><td class = \"rowNumber\" style = \"font-weight: bold; text-align: right;\">3</td><td style = \"text-align: left;\">r0</td><td style = \"text-align: left;\">SCAN_BOUND_REACHED</td><td style = \"text-align: left;\">BORDER_FOUND_BY_SCAN_TOL</td><td style = \"font-style: italic; text-align: left;\"></td><td style = \"text-align: left;\">0.404546</td><td style = \"text-align: right;\">49</td><td style = \"text-align: right;\">797</td><td style = \"text-align: right;\">0.0582</td></tr><tr><td class = \"rowNumber\" style = \"font-weight: bold; text-align: right;\">4</td><td style = \"text-align: left;\">d0</td><td style = \"text-align: left;\">BORDER_FOUND_BY_SCAN_TOL</td><td style = \"text-align: left;\">SCAN_BOUND_REACHED</td><td style = \"text-align: left;\">0.187039</td><td style = \"font-style: italic; text-align: left;\"></td><td style = \"text-align: right;\">602</td><td style = \"text-align: right;\">170</td><td style = \"text-align: right;\">1.3307</td></tr><tr><td class = \"rowNumber\" style = \"font-weight: bold; text-align: right;\">5</td><td style = \"text-align: left;\">kd</td><td style = \"text-align: left;\">BORDER_FOUND_BY_SCAN_TOL</td><td style = \"text-align: left;\">SCAN_BOUND_REACHED</td><td style = \"text-align: left;\">50.5159</td><td style = \"font-style: italic; text-align: left;\"></td><td style = \"text-align: right;\">797</td><td style = \"text-align: right;\">223</td><td style = \"text-align: right;\">119.136</td></tr></tbody></table></div>"
      ],
      "text/latex": [
       "\\begin{tabular}{r|cccccccc}\n",
       "\t& Parameters & StatusLower & StatusUpper & CILower & CIUpper & LFLowerCalls & LFUpperCalls & NominalStartValues\\\\\n",
       "\t\\hline\n",
       "\t& Symbol & Symbol & Symbol & Union… & Union… & Int64 & Int64 & Float64\\\\\n",
       "\t\\hline\n",
       "\t1 & a0 & BORDER\\_FOUND\\_BY\\_SCAN\\_TOL & BORDER\\_FOUND\\_BY\\_SCAN\\_TOL & 6.75933 & 17.3027 & 286 & 602 & 8.317 \\\\\n",
       "\t2 & ka & BORDER\\_FOUND\\_BY\\_SCAN\\_TOL & BORDER\\_FOUND\\_BY\\_SCAN\\_TOL & 4.9887 & 10.734 & 523 & 350 & 8.0959 \\\\\n",
       "\t3 & r0 & SCAN\\_BOUND\\_REACHED & BORDER\\_FOUND\\_BY\\_SCAN\\_TOL &  & 0.404546 & 49 & 797 & 0.0582 \\\\\n",
       "\t4 & d0 & BORDER\\_FOUND\\_BY\\_SCAN\\_TOL & SCAN\\_BOUND\\_REACHED & 0.187039 &  & 602 & 170 & 1.3307 \\\\\n",
       "\t5 & kd & BORDER\\_FOUND\\_BY\\_SCAN\\_TOL & SCAN\\_BOUND\\_REACHED & 50.5159 &  & 797 & 223 & 119.136 \\\\\n",
       "\\end{tabular}\n"
      ],
      "text/plain": [
       "\u001b[1m5×8 DataFrame\u001b[0m\n",
       "\u001b[1m Row \u001b[0m│\u001b[1m Parameters \u001b[0m\u001b[1m StatusLower              \u001b[0m\u001b[1m StatusUpper              \u001b[0m\u001b[1m CILower  \u001b[0m\u001b[1m CIUpper  \u001b[0m\u001b[1m LFLowerCalls \u001b[0m\u001b[1m LFUpperCalls \u001b[0m\u001b[1m\u001b[0m ⋯\n",
       "     │\u001b[90m Symbol     \u001b[0m\u001b[90m Symbol                   \u001b[0m\u001b[90m Symbol                   \u001b[0m\u001b[90m Union…   \u001b[0m\u001b[90m Union…   \u001b[0m\u001b[90m Int64        \u001b[0m\u001b[90m Int64        \u001b[0m\u001b[90m\u001b[0m ⋯\n",
       "─────┼──────────────────────────────────────────────────────────────────────────────────────────────────────────────────\n",
       "   1 │ a0          BORDER_FOUND_BY_SCAN_TOL  BORDER_FOUND_BY_SCAN_TOL  6.75933   17.3027            286           602  ⋯\n",
       "   2 │ ka          BORDER_FOUND_BY_SCAN_TOL  BORDER_FOUND_BY_SCAN_TOL  4.9887    10.734             523           350\n",
       "   3 │ r0          SCAN_BOUND_REACHED        BORDER_FOUND_BY_SCAN_TOL \u001b[90m          \u001b[0m 0.404546            49           797\n",
       "   4 │ d0          BORDER_FOUND_BY_SCAN_TOL  SCAN_BOUND_REACHED        0.187039 \u001b[90m          \u001b[0m          602           170\n",
       "   5 │ kd          BORDER_FOUND_BY_SCAN_TOL  SCAN_BOUND_REACHED        50.5159  \u001b[90m          \u001b[0m          797           223  ⋯\n",
       "\u001b[36m                                                                                                        1 column omitted\u001b[0m"
      ]
     },
     "metadata": {},
     "output_type": "display_data"
    }
   ],
   "source": [
    "ENV[\"COLUMNS\"]=120\n",
    "cico_res = DataFrame(\n",
    "    Parameters = [:a0, :ka, :r0, :d0, :kd], \n",
    "    StatusLower = [k.result[1].status for k in intervals],\n",
    "    StatusUpper = [k.result[2].status for k in intervals],\n",
    "    CILower = [k.result[1].value for k in intervals],\n",
    "    CIUpper = [k.result[2].value for k in intervals],\n",
    "    LFLowerCalls = [k.result[1].counter for k in intervals],\n",
    "    LFUpperCalls = [k.result[2].counter for k in intervals],\n",
    "    NominalStartValues = p0\n",
    ")\n",
    "cico_res"
   ]
  },
  {
   "cell_type": "markdown",
   "metadata": {},
   "source": [
    "### CICOBase vs Original Implementation Comparison"
   ]
  },
  {
   "cell_type": "markdown",
   "metadata": {},
   "source": [
    "Endpoints esimated in the [original Matlab code](https://github.com/marisae/cancer-chemo-identifiability). Lower and upper CI endpoints for original Matlab implementation are given as intervals because stepwise PL approach doesn’t estimate endpoints with any preset tolerance but marks two points before and after parameters profile intersects the threshold."
   ]
  },
  {
   "cell_type": "code",
   "execution_count": 8,
   "metadata": {},
   "outputs": [
    {
     "data": {
      "text/html": [
       "<div><div style = \"float: left;\"><span>5×8 DataFrame</span></div><div style = \"clear: both;\"></div></div><div class = \"data-frame\" style = \"overflow-x: scroll;\"><table class = \"data-frame\" style = \"margin-bottom: 6px;\"><thead><tr class = \"header\"><th class = \"rowNumber\" style = \"font-weight: bold; text-align: right;\">Row</th><th style = \"text-align: left;\">Parameters</th><th style = \"text-align: left;\">StatusLower</th><th style = \"text-align: left;\">StatusUpper</th><th style = \"text-align: left;\">CILower</th><th style = \"text-align: left;\">CIUpper</th><th style = \"text-align: left;\">LFLowerCalls</th><th style = \"text-align: left;\">LFUpperCalls</th><th style = \"text-align: left;\">NominalStartValues</th></tr><tr class = \"subheader headerLastRow\"><th class = \"rowNumber\" style = \"font-weight: bold; text-align: right;\"></th><th title = \"Symbol\" style = \"text-align: left;\">Symbol</th><th title = \"String\" style = \"text-align: left;\">String</th><th title = \"String\" style = \"text-align: left;\">String</th><th title = \"Any\" style = \"text-align: left;\">Any</th><th title = \"Any\" style = \"text-align: left;\">Any</th><th title = \"Int64\" style = \"text-align: left;\">Int64</th><th title = \"Any\" style = \"text-align: left;\">Any</th><th title = \"Float64\" style = \"text-align: left;\">Float64</th></tr></thead><tbody><tr><td class = \"rowNumber\" style = \"font-weight: bold; text-align: right;\">1</td><td style = \"text-align: left;\">a0</td><td style = \"text-align: left;\">identified</td><td style = \"text-align: left;\">identified</td><td style = \"text-align: left;\">(7.90115, 8.317)</td><td style = \"text-align: left;\">(17.0498, 17.4657)</td><td style = \"text-align: right;\">285</td><td style = \"text-align: left;\">1715</td><td style = \"text-align: right;\">8.317</td></tr><tr><td class = \"rowNumber\" style = \"font-weight: bold; text-align: right;\">2</td><td style = \"text-align: left;\">ka</td><td style = \"text-align: left;\">identified</td><td style = \"text-align: left;\">identified</td><td style = \"text-align: left;\">(4.85754, 5.26233)</td><td style = \"text-align: left;\">(10.5247, 10.9295)</td><td style = \"text-align: right;\">685</td><td style = \"text-align: left;\">670</td><td style = \"text-align: right;\">8.0959</td></tr><tr><td class = \"rowNumber\" style = \"font-weight: bold; text-align: right;\">3</td><td style = \"text-align: left;\">r0</td><td style = \"text-align: left;\">not udentified</td><td style = \"text-align: left;\">identified</td><td style = \"text-align: left;\">NULL</td><td style = \"text-align: left;\">(0.36375, 0.36666)</td><td style = \"text-align: right;\">1510</td><td style = \"text-align: left;\">7475</td><td style = \"text-align: right;\">0.0582</td></tr><tr><td class = \"rowNumber\" style = \"font-weight: bold; text-align: right;\">4</td><td style = \"text-align: left;\">d0</td><td style = \"text-align: left;\">identified</td><td style = \"text-align: left;\">not udentified</td><td style = \"text-align: left;\">(0.13307, 0.199605)</td><td style = \"text-align: left;\">NULL</td><td style = \"text-align: right;\">1605</td><td style = \"text-align: left;\">&gt;20000</td><td style = \"text-align: right;\">1.3307</td></tr><tr><td class = \"rowNumber\" style = \"font-weight: bold; text-align: right;\">5</td><td style = \"text-align: left;\">kd</td><td style = \"text-align: left;\">identified</td><td style = \"text-align: left;\">not udentified</td><td style = \"text-align: left;\">(47.6545, 53.6113)</td><td style = \"text-align: left;\">NULL</td><td style = \"text-align: right;\">930</td><td style = \"text-align: left;\">12260</td><td style = \"text-align: right;\">119.136</td></tr></tbody></table></div>"
      ],
      "text/latex": [
       "\\begin{tabular}{r|cccccccc}\n",
       "\t& Parameters & StatusLower & StatusUpper & CILower & CIUpper & LFLowerCalls & LFUpperCalls & NominalStartValues\\\\\n",
       "\t\\hline\n",
       "\t& Symbol & String & String & Any & Any & Int64 & Any & Float64\\\\\n",
       "\t\\hline\n",
       "\t1 & a0 & identified & identified & (7.90115, 8.317) & (17.0498, 17.4657) & 285 & 1715 & 8.317 \\\\\n",
       "\t2 & ka & identified & identified & (4.85754, 5.26233) & (10.5247, 10.9295) & 685 & 670 & 8.0959 \\\\\n",
       "\t3 & r0 & not udentified & identified & NULL & (0.36375, 0.36666) & 1510 & 7475 & 0.0582 \\\\\n",
       "\t4 & d0 & identified & not udentified & (0.13307, 0.199605) & NULL & 1605 & >20000 & 1.3307 \\\\\n",
       "\t5 & kd & identified & not udentified & (47.6545, 53.6113) & NULL & 930 & 12260 & 119.136 \\\\\n",
       "\\end{tabular}\n"
      ],
      "text/plain": [
       "\u001b[1m5×8 DataFrame\u001b[0m\n",
       "\u001b[1m Row \u001b[0m│\u001b[1m Parameters \u001b[0m\u001b[1m StatusLower    \u001b[0m\u001b[1m StatusUpper    \u001b[0m\u001b[1m CILower             \u001b[0m\u001b[1m CIUpper            \u001b[0m\u001b[1m LFLowerCalls \u001b[0m\u001b[1m LFUpperCalls\u001b[0m ⋯\n",
       "     │\u001b[90m Symbol     \u001b[0m\u001b[90m String         \u001b[0m\u001b[90m String         \u001b[0m\u001b[90m Any                 \u001b[0m\u001b[90m Any                \u001b[0m\u001b[90m Int64        \u001b[0m\u001b[90m Any         \u001b[0m ⋯\n",
       "─────┼──────────────────────────────────────────────────────────────────────────────────────────────────────────────────\n",
       "   1 │ a0          identified      identified      (7.90115, 8.317)     (17.0498, 17.4657)           285  1715         ⋯\n",
       "   2 │ ka          identified      identified      (4.85754, 5.26233)   (10.5247, 10.9295)           685  670\n",
       "   3 │ r0          not udentified  identified      NULL                 (0.36375, 0.36666)          1510  7475\n",
       "   4 │ d0          identified      not udentified  (0.13307, 0.199605)  NULL                        1605  >20000\n",
       "   5 │ kd          identified      not udentified  (47.6545, 53.6113)   NULL                         930  12260        ⋯\n",
       "\u001b[36m                                                                                                        1 column omitted\u001b[0m"
      ]
     },
     "metadata": {},
     "output_type": "display_data"
    }
   ],
   "source": [
    "ENV[\"COLUMNS\"]=120\n",
    "orig_res = DataFrame(\n",
    "    Parameters = [:a0, :ka, :r0, :d0, :kd], \n",
    "    StatusLower = [\"identified\", \"identified\", \"not udentified\", \"identified\", \"identified\"],\n",
    "    StatusUpper = [\"identified\", \"identified\", \"identified\", \"not udentified\", \"not udentified\"],\n",
    "    CILower = [(7.90115,8.317), (4.85754, 5.26233499), :NULL, (0.13307,0.199605), (47.654519, 53.611335)],\n",
    "    CIUpper = [(17.04985, 17.4657), (10.52467, 10.929465), (0.36375, 0.36666), :NULL, :NULL],\n",
    "    LFLowerCalls = [285, 685, 1510, 1605, 930],\n",
    "    LFUpperCalls = [1715, 670, 7475, \">20000\", 12260],\n",
    "    NominalStartValues = p0\n",
    ")\n",
    "orig_res"
   ]
  },
  {
   "cell_type": "markdown",
   "metadata": {},
   "source": [
    "In general CI endpoints found with *CICOBase* fit into intervals estimated in the original implementation. Two values (a0_lower, r0_upper) are outside of the estimated intervals. The original intervals can be verified by additional fitting"
   ]
  },
  {
   "cell_type": "markdown",
   "metadata": {},
   "source": [
    "According to the original results a0 lower CI endpoint is between (7.90115, 8.317) values. Hence the Profile Likelihood function should intersect the threashold between these points. Let's check it"
   ]
  },
  {
   "cell_type": "code",
   "execution_count": 9,
   "metadata": {},
   "outputs": [
    {
     "name": "stdout",
     "output_type": "stream",
     "text": [
      "(7.90115, -0.4574330942918253)\n",
      "(8.317, -0.455567035564163)\n"
     ]
    }
   ],
   "source": [
    "fitter_opts = Dict(\n",
    "    :alg => :LN_NELDERMEAD,\n",
    "    :lb => [1e-9, 1e-9, 1e-9, 1e-9, 1e-9],\n",
    "    :ub => [1e9, 1e9, 1e9, 1e9, 1e9]\n",
    ")\n",
    "\n",
    "a0_lower_loss = Vector{Float64}(undef, 2)\n",
    "\n",
    "for (i,a0) in enumerate((7.90115, 8.317))\n",
    "    \n",
    "    fitter_opts[:lb][1] = a0\n",
    "    fitter_opts[:ub][1] = a0\n",
    "    opt = Opt(fitter_opts[:alg], 5)\n",
    "    lower_bounds!(opt, fitter_opts[:lb])\n",
    "    upper_bounds!(opt, fitter_opts[:ub])\n",
    "    opt.min_objective = (p,grad) -> lsq_func(p)\n",
    "    (loss,p,ret) = NLopt.optimize(opt, p0)\n",
    "\n",
    "    a0_lower_loss[i] = loss-α\n",
    "end\n",
    "\n",
    "println((7.90115, a0_lower_loss[1]))\n",
    "println((8.317, a0_lower_loss[2]))"
   ]
  },
  {
   "cell_type": "markdown",
   "metadata": {},
   "source": [
    "a0 profile is below the threashold between (7.90115, 8.317) which means profiling can lead to inaccurate CI endpoints estimation. The same can be checked for original r0 upper endpoint estimation:"
   ]
  },
  {
   "cell_type": "code",
   "execution_count": 10,
   "metadata": {},
   "outputs": [
    {
     "name": "stdout",
     "output_type": "stream",
     "text": [
      "(0.36375, -0.03679984726322372)\n",
      "(0.36666, -0.0340795912489561)\n"
     ]
    }
   ],
   "source": [
    "fitter_opts = Dict(\n",
    "    :alg => :LN_NELDERMEAD,\n",
    "    :lb => [1e-9, 1e-9, 1e-9, 1e-9, 1e-9],\n",
    "    :ub => [1e9, 1e9, 1e9, 1e9, 1e9]\n",
    ")\n",
    "\n",
    "r0_upper_loss = Vector{Float64}(undef, 2)\n",
    "\n",
    "for (i,r0) in enumerate((0.36375, 0.36666))\n",
    "    \n",
    "    fitter_opts[:lb][3] = r0\n",
    "    fitter_opts[:ub][3] = r0\n",
    "    opt = Opt(fitter_opts[:alg], 5)\n",
    "    lower_bounds!(opt, fitter_opts[:lb])\n",
    "    upper_bounds!(opt, fitter_opts[:ub])\n",
    "    opt.min_objective = (p,grad) -> lsq_func(p)\n",
    "    (loss,p,ret) = NLopt.optimize(opt, p0)\n",
    "\n",
    "    r0_upper_loss[i] = loss-α\n",
    "end\n",
    "\n",
    "println((0.36375, r0_upper_loss[1]))\n",
    "println((0.36666, r0_upper_loss[2]))"
   ]
  },
  {
   "cell_type": "markdown",
   "metadata": {},
   "source": [
    "### Results"
   ]
  },
  {
   "cell_type": "markdown",
   "metadata": {},
   "source": [
    "1. Confidence intervals estimated with *CICOBase* correspond with those reported in [Marisa C.Eisenberg, Harsh V.Jain. A confidence building exercise in data and identifiability](https://www.sciencedirect.com/science/article/pii/S0022519317303454)\n",
    "2. Stepwise optimization-based algorithm used in the original Matlab implementation may lead to inaccurate CI endpoints estimates.\n",
    "3. *a0, ka* are practically identifiable parameters\n",
    "4. *d0, kd* are practically unindentifiable (CI have infinite upper bounds)\n",
    "5. *r0* can be considered as identifiable parameter if zero is the natural lower bound for it. However *r0* profile has only one intersection with the threashold confidence level"
   ]
  },
  {
   "cell_type": "code",
   "execution_count": 11,
   "metadata": {},
   "outputs": [],
   "source": []
  }
 ],
 "metadata": {
  "kernelspec": {
   "display_name": "Julia 1.11.3",
   "language": "julia",
   "name": "julia-1.11"
  },
  "language_info": {
   "file_extension": ".jl",
   "mimetype": "application/julia",
   "name": "julia",
   "version": "1.11.3"
  }
 },
 "nbformat": 4,
 "nbformat_minor": 2
}
