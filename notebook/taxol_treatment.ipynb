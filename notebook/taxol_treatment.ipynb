{
 "cells": [
  {
   "cell_type": "markdown",
   "metadata": {},
   "source": [
    "## Cancer Taxol Treatment Model"
   ]
  },
  {
   "cell_type": "markdown",
   "metadata": {},
   "source": [
    "The goal of the notebook is to study practical identifiability of **Cancer Taxol Treatment Model** with *LikelihoodProfiler*. Identifiability of this model was analyzed in [Marisa C.Eisenberg, Harsh V.Jain. A confidence building exercise in data and identifiability](https://www.sciencedirect.com/science/article/pii/S0022519317303454). We have translated Marisa's Matlab model from [cancer-chemo-identifiability repo](https://github.com/marisae/cancer-chemo-identifiability) to [Julia language](https://julialang.org/). \n",
    "The model is defined by the following system of differential equations:"
   ]
  },
  {
   "cell_type": "code",
   "execution_count": 1,
   "metadata": {},
   "outputs": [
    {
     "name": "stderr",
     "output_type": "stream",
     "text": [
      "┌ Info: Precompiling LikelihoodProfiler [93acb638-a083-5915-8dce-d129bc6a3f59]\n",
      "└ @ Base loading.jl:1242\n",
      "┌ Info: Skipping precompilation since __precompile__(false). Importing LikelihoodProfiler [93acb638-a083-5915-8dce-d129bc6a3f59].\n",
      "└ @ Base loading.jl:1017\n"
     ]
    }
   ],
   "source": [
    "using DiffEqBase, OrdinaryDiffEq, Plots, NLopt, LikelihoodProfiler, DataFrames, Distributions\n",
    "import Statistics: mean\n",
    "\n",
    "# https://github.com/marisae/cancer-chemo-identifiability/blob/master/Profile%20Likelihood/testa0_de.m\n",
    "function ode_func(du, u, p, t, drug)\n",
    "    let (a0, ka, r0, d0, kd) = (p[1], p[2], p[3], p[4], p[5])\n",
    "\n",
    "        K   = 10.515*100\n",
    "        V0  = 1.3907*K\n",
    "        lam = 9.5722\n",
    "\n",
    "        theta = 10.\n",
    "\n",
    "        # Values taken from \n",
    "        aRP  = 20.     # per day from Kim_PrlifQuies\n",
    "\n",
    "        Ncel = u[1] + u[2] + u[3]\n",
    "        Lfac = ((K-Ncel)^theta)/((V0^theta) + ((K-Ncel)^theta))\n",
    "\n",
    "        arstexp = 3.\n",
    "        adthexp = 4.\n",
    "\n",
    "        arst = a0*(drug^arstexp)/(ka^arstexp + (drug^arstexp))\n",
    "        adth = d0*(drug^adthexp)/(kd^adthexp + (drug^adthexp))\n",
    "        arcv = r0\n",
    "\n",
    "        # The differntial equations\n",
    "        du[1] = -lam*u[1] + aRP*u[2]*Lfac - arst*u[1] + arcv*u[3]\n",
    "        du[2] = 2*lam*u[1] - aRP*u[2]*Lfac\n",
    "        du[3] = arst*u[1] - adth*u[3] - arcv*u[3]\n",
    "    end\n",
    "end;"
   ]
  },
  {
   "cell_type": "markdown",
   "metadata": {},
   "source": [
    "Experimental datasets are also provided in [cancer-chemo-identifiability repo](https://github.com/marisae/cancer-chemo-identifiability/blob/master/Profile%20Likelihood/testa0_fit.m#L56-L105) for four drug doses (5, 10, 40, 100)"
   ]
  },
  {
   "cell_type": "code",
   "execution_count": 2,
   "metadata": {},
   "outputs": [],
   "source": [
    "# https://github.com/marisae/cancer-chemo-identifiability/blob/master/Profile%20Likelihood/testa0_fit.m\n",
    "\n",
    "# Data from Terzis et al. Brit J Cancer 1997;75:1744.\n",
    "# From Bowman et al. Glia 1999;27:22, glioma cell volume is 0.916\n",
    "# picoliters, 1 mm^3 = 1e6 pl or ~1.091 million cells\n",
    "\n",
    "times = [0., 3., 6., 9., 12., 15.]   # days\n",
    "\n",
    "dose = [5., 10., 40., 100.];    # dose in ng/ml\n",
    "\n",
    "# Control data\n",
    "Cell = [0.009, 0.050, 0.120, 0.189, 0.230, 0.260]*1091.0   # thousands of cells\n",
    "Cerr = [0.006, 0.012, 0.010, 0.011, 0.011, 0.011]*1091.0   # thousands of cells\n",
    "\n",
    "# 0.005 ug/ml Taxol\n",
    "Cell005 = [0.009, 0.047, 0.089, 0.149, 0.198, 0.219]*1091.0   # thousands of cells\n",
    "Cerr005 = [0.006, 0.013, 0.010, 0.011, 0.013, 0.010]*1091.0   # thousands of cells\n",
    "\n",
    "# 0.010 ug/ml Taxol\n",
    "Cell010 = [0.009, 0.043, 0.077, 0.093, 0.109, 0.128]*1091.0   # thousands of cells\n",
    "Cerr010 = [0.006, 0.012, 0.013, 0.012, 0.014, 0.012]*1091.0   # thousands of cells\n",
    "\n",
    "# 0.040 ug/ml Taxol\n",
    "Cell040 = [0.009, 0.025, 0.047, 0.054, 0.076, 0.085]*1091.0   # thousands of cells\n",
    "Cerr040 = [0.005, 0.010, 0.010, 0.011, 0.010, 0.010]*1091.0   # thousands of cells\n",
    "\n",
    "# 0.100 ug/ml Taxol\n",
    "Cell100 = [0.009, 0.025, 0.026, 0.028, 0.029, 0.031]*1091.0   # thousands of cells\n",
    "Cerr100 = [0.006, 0.010, 0.009, 0.008, 0.011, 0.011]*1091.0   # thousands of cells\n",
    "\n",
    "C005 = mean(Cell005)\n",
    "C010 = mean(Cell010)\n",
    "C040 = mean(Cell040)\n",
    "C100 = mean(Cell100)\n",
    "\n",
    "data = [Cell005/C005, Cell010/C010, Cell040/C040, Cell100/C100]\n",
    "datamean = [C005, C010, C040, C100];"
   ]
  },
  {
   "cell_type": "markdown",
   "metadata": {},
   "source": [
    "To visualize numerical simulations vs experimental data we can solve the ODE system and plot the results. Let's do it for  *dose=5*.   "
   ]
  },
  {
   "cell_type": "code",
   "execution_count": 3,
   "metadata": {},
   "outputs": [],
   "source": [
    "# solver algorithm and tolerances\n",
    "solver_opts = Dict(\n",
    "    :alg => Rosenbrock23(),\n",
    "    :reltol => 1e-3,\n",
    "    :abstol => 1e-6\n",
    ")\n",
    "\n",
    "# initial values and parameters\n",
    "# https://github.com/marisae/cancer-chemo-identifiability/blob/master/Profile%20Likelihood/testa0_soln.m#L3-L6\n",
    "# https://github.com/marisae/cancer-chemo-identifiability/blob/master/Profile%20Likelihood/testa0_fit.m#L4\n",
    "\n",
    "#P0 = 7.2700\n",
    "#R0 = 2.5490\n",
    "\n",
    "u0 = [7.2700, 2.5490, 0.]\n",
    "p0 = [8.3170, 8.0959, 0.0582, 1.3307, 119.1363]\n",
    "\n",
    "tspan = (0.,15.)\n",
    "\n",
    "prob = ODEProblem((du,u,p,t)->ode_func(du,u,p,t,5.0), u0, tspan, p0)\n",
    "sol = solve(\n",
    "    prob, \n",
    "    solver_opts[:alg], \n",
    "    reltol=solver_opts[:reltol],\n",
    "    abstol=solver_opts[:abstol],\n",
    "    saveat=times\n",
    ");"
   ]
  },
  {
   "cell_type": "code",
   "execution_count": 5,
   "metadata": {},
   "outputs": [
    {
     "data": {
      "image/svg+xml": [
       "<?xml version=\"1.0\" encoding=\"utf-8\"?>\n",
       "<svg xmlns=\"http://www.w3.org/2000/svg\" xmlns:xlink=\"http://www.w3.org/1999/xlink\" width=\"600\" height=\"400\" viewBox=\"0 0 2400 1600\">\n",
       "<defs>\n",
       "  <clipPath id=\"clip1400\">\n",
       "    <rect x=\"0\" y=\"0\" width=\"2400\" height=\"1600\"/>\n",
       "  </clipPath>\n",
       "</defs>\n",
       "<path clip-path=\"url(#clip1400)\" d=\"\n",
       "M0 1600 L2400 1600 L2400 0 L0 0  Z\n",
       "  \" fill=\"#ffffff\" fill-rule=\"evenodd\" fill-opacity=\"1\"/>\n",
       "<defs>\n",
       "  <clipPath id=\"clip1401\">\n",
       "    <rect x=\"480\" y=\"0\" width=\"1681\" height=\"1600\"/>\n",
       "  </clipPath>\n",
       "</defs>\n",
       "<path clip-path=\"url(#clip1400)\" d=\"\n",
       "M229.135 1425.62 L2352.76 1425.62 L2352.76 47.2441 L229.135 47.2441  Z\n",
       "  \" fill=\"#ffffff\" fill-rule=\"evenodd\" fill-opacity=\"1\"/>\n",
       "<defs>\n",
       "  <clipPath id=\"clip1402\">\n",
       "    <rect x=\"229\" y=\"47\" width=\"2125\" height=\"1379\"/>\n",
       "  </clipPath>\n",
       "</defs>\n",
       "<polyline clip-path=\"url(#clip1402)\" style=\"stroke:#000000; stroke-width:2; stroke-opacity:0.1; fill:none\" points=\"\n",
       "  289.238,1425.62 289.238,47.2441 \n",
       "  \"/>\n",
       "<polyline clip-path=\"url(#clip1402)\" style=\"stroke:#000000; stroke-width:2; stroke-opacity:0.1; fill:none\" points=\"\n",
       "  957.043,1425.62 957.043,47.2441 \n",
       "  \"/>\n",
       "<polyline clip-path=\"url(#clip1402)\" style=\"stroke:#000000; stroke-width:2; stroke-opacity:0.1; fill:none\" points=\"\n",
       "  1624.85,1425.62 1624.85,47.2441 \n",
       "  \"/>\n",
       "<polyline clip-path=\"url(#clip1402)\" style=\"stroke:#000000; stroke-width:2; stroke-opacity:0.1; fill:none\" points=\"\n",
       "  2292.65,1425.62 2292.65,47.2441 \n",
       "  \"/>\n",
       "<polyline clip-path=\"url(#clip1402)\" style=\"stroke:#000000; stroke-width:2; stroke-opacity:0.1; fill:none\" points=\"\n",
       "  229.135,1166.44 2352.76,1166.44 \n",
       "  \"/>\n",
       "<polyline clip-path=\"url(#clip1402)\" style=\"stroke:#000000; stroke-width:2; stroke-opacity:0.1; fill:none\" points=\"\n",
       "  229.135,892.464 2352.76,892.464 \n",
       "  \"/>\n",
       "<polyline clip-path=\"url(#clip1402)\" style=\"stroke:#000000; stroke-width:2; stroke-opacity:0.1; fill:none\" points=\"\n",
       "  229.135,618.49 2352.76,618.49 \n",
       "  \"/>\n",
       "<polyline clip-path=\"url(#clip1402)\" style=\"stroke:#000000; stroke-width:2; stroke-opacity:0.1; fill:none\" points=\"\n",
       "  229.135,344.517 2352.76,344.517 \n",
       "  \"/>\n",
       "<polyline clip-path=\"url(#clip1402)\" style=\"stroke:#000000; stroke-width:2; stroke-opacity:0.1; fill:none\" points=\"\n",
       "  229.135,70.5431 2352.76,70.5431 \n",
       "  \"/>\n",
       "<polyline clip-path=\"url(#clip1400)\" style=\"stroke:#000000; stroke-width:4; stroke-opacity:1; fill:none\" points=\"\n",
       "  229.135,1425.62 2352.76,1425.62 \n",
       "  \"/>\n",
       "<polyline clip-path=\"url(#clip1400)\" style=\"stroke:#000000; stroke-width:4; stroke-opacity:1; fill:none\" points=\"\n",
       "  229.135,1425.62 229.135,47.2441 \n",
       "  \"/>\n",
       "<polyline clip-path=\"url(#clip1400)\" style=\"stroke:#000000; stroke-width:4; stroke-opacity:1; fill:none\" points=\"\n",
       "  289.238,1425.62 289.238,1404.94 \n",
       "  \"/>\n",
       "<polyline clip-path=\"url(#clip1400)\" style=\"stroke:#000000; stroke-width:4; stroke-opacity:1; fill:none\" points=\"\n",
       "  957.043,1425.62 957.043,1404.94 \n",
       "  \"/>\n",
       "<polyline clip-path=\"url(#clip1400)\" style=\"stroke:#000000; stroke-width:4; stroke-opacity:1; fill:none\" points=\"\n",
       "  1624.85,1425.62 1624.85,1404.94 \n",
       "  \"/>\n",
       "<polyline clip-path=\"url(#clip1400)\" style=\"stroke:#000000; stroke-width:4; stroke-opacity:1; fill:none\" points=\"\n",
       "  2292.65,1425.62 2292.65,1404.94 \n",
       "  \"/>\n",
       "<polyline clip-path=\"url(#clip1400)\" style=\"stroke:#000000; stroke-width:4; stroke-opacity:1; fill:none\" points=\"\n",
       "  229.135,1166.44 260.99,1166.44 \n",
       "  \"/>\n",
       "<polyline clip-path=\"url(#clip1400)\" style=\"stroke:#000000; stroke-width:4; stroke-opacity:1; fill:none\" points=\"\n",
       "  229.135,892.464 260.99,892.464 \n",
       "  \"/>\n",
       "<polyline clip-path=\"url(#clip1400)\" style=\"stroke:#000000; stroke-width:4; stroke-opacity:1; fill:none\" points=\"\n",
       "  229.135,618.49 260.99,618.49 \n",
       "  \"/>\n",
       "<polyline clip-path=\"url(#clip1400)\" style=\"stroke:#000000; stroke-width:4; stroke-opacity:1; fill:none\" points=\"\n",
       "  229.135,344.517 260.99,344.517 \n",
       "  \"/>\n",
       "<polyline clip-path=\"url(#clip1400)\" style=\"stroke:#000000; stroke-width:4; stroke-opacity:1; fill:none\" points=\"\n",
       "  229.135,70.5431 260.99,70.5431 \n",
       "  \"/>\n",
       "<g clip-path=\"url(#clip1400)\">\n",
       "<text style=\"fill:#000000; fill-opacity:1; font-family:Arial,Helvetica Neue,Helvetica,sans-serif; font-size:48px; text-anchor:middle;\" transform=\"rotate(0, 289.238, 1479.62)\" x=\"289.238\" y=\"1479.62\">0</text>\n",
       "</g>\n",
       "<g clip-path=\"url(#clip1400)\">\n",
       "<text style=\"fill:#000000; fill-opacity:1; font-family:Arial,Helvetica Neue,Helvetica,sans-serif; font-size:48px; text-anchor:middle;\" transform=\"rotate(0, 957.043, 1479.62)\" x=\"957.043\" y=\"1479.62\">5</text>\n",
       "</g>\n",
       "<g clip-path=\"url(#clip1400)\">\n",
       "<text style=\"fill:#000000; fill-opacity:1; font-family:Arial,Helvetica Neue,Helvetica,sans-serif; font-size:48px; text-anchor:middle;\" transform=\"rotate(0, 1624.85, 1479.62)\" x=\"1624.85\" y=\"1479.62\">10</text>\n",
       "</g>\n",
       "<g clip-path=\"url(#clip1400)\">\n",
       "<text style=\"fill:#000000; fill-opacity:1; font-family:Arial,Helvetica Neue,Helvetica,sans-serif; font-size:48px; text-anchor:middle;\" transform=\"rotate(0, 2292.65, 1479.62)\" x=\"2292.65\" y=\"1479.62\">15</text>\n",
       "</g>\n",
       "<g clip-path=\"url(#clip1400)\">\n",
       "<text style=\"fill:#000000; fill-opacity:1; font-family:Arial,Helvetica Neue,Helvetica,sans-serif; font-size:48px; text-anchor:end;\" transform=\"rotate(0, 205.135, 1183.94)\" x=\"205.135\" y=\"1183.94\">50</text>\n",
       "</g>\n",
       "<g clip-path=\"url(#clip1400)\">\n",
       "<text style=\"fill:#000000; fill-opacity:1; font-family:Arial,Helvetica Neue,Helvetica,sans-serif; font-size:48px; text-anchor:end;\" transform=\"rotate(0, 205.135, 909.964)\" x=\"205.135\" y=\"909.964\">100</text>\n",
       "</g>\n",
       "<g clip-path=\"url(#clip1400)\">\n",
       "<text style=\"fill:#000000; fill-opacity:1; font-family:Arial,Helvetica Neue,Helvetica,sans-serif; font-size:48px; text-anchor:end;\" transform=\"rotate(0, 205.135, 635.99)\" x=\"205.135\" y=\"635.99\">150</text>\n",
       "</g>\n",
       "<g clip-path=\"url(#clip1400)\">\n",
       "<text style=\"fill:#000000; fill-opacity:1; font-family:Arial,Helvetica Neue,Helvetica,sans-serif; font-size:48px; text-anchor:end;\" transform=\"rotate(0, 205.135, 362.017)\" x=\"205.135\" y=\"362.017\">200</text>\n",
       "</g>\n",
       "<g clip-path=\"url(#clip1400)\">\n",
       "<text style=\"fill:#000000; fill-opacity:1; font-family:Arial,Helvetica Neue,Helvetica,sans-serif; font-size:48px; text-anchor:end;\" transform=\"rotate(0, 205.135, 88.0431)\" x=\"205.135\" y=\"88.0431\">250</text>\n",
       "</g>\n",
       "<g clip-path=\"url(#clip1400)\">\n",
       "<text style=\"fill:#000000; fill-opacity:1; font-family:Arial,Helvetica Neue,Helvetica,sans-serif; font-size:66px; text-anchor:middle;\" transform=\"rotate(0, 1290.95, 1559.48)\" x=\"1290.95\" y=\"1559.48\">t</text>\n",
       "</g>\n",
       "<g clip-path=\"url(#clip1400)\">\n",
       "<text style=\"fill:#000000; fill-opacity:1; font-family:Arial,Helvetica Neue,Helvetica,sans-serif; font-size:66px; text-anchor:middle;\" transform=\"rotate(-90, 89.2861, 736.431)\" x=\"89.2861\" y=\"736.431\">Ncel</text>\n",
       "</g>\n",
       "<polyline clip-path=\"url(#clip1402)\" style=\"stroke:#009af9; stroke-width:12; stroke-opacity:1; fill:none\" points=\"\n",
       "  289.238,1386.61 689.921,1171.65 1090.6,861.666 1491.29,546.188 1891.97,288.537 2292.65,86.2547 \n",
       "  \"/>\n",
       "<circle clip-path=\"url(#clip1402)\" style=\"fill:#000000; stroke:none; fill-opacity:1\" cx=\"289.238\" cy=\"1386.61\" r=\"18\"/>\n",
       "<circle clip-path=\"url(#clip1402)\" style=\"fill:#e26f46; stroke:none; fill-opacity:1\" cx=\"289.238\" cy=\"1386.61\" r=\"14\"/>\n",
       "<circle clip-path=\"url(#clip1402)\" style=\"fill:#000000; stroke:none; fill-opacity:1\" cx=\"689.921\" cy=\"1159.44\" r=\"18\"/>\n",
       "<circle clip-path=\"url(#clip1402)\" style=\"fill:#e26f46; stroke:none; fill-opacity:1\" cx=\"689.921\" cy=\"1159.44\" r=\"14\"/>\n",
       "<circle clip-path=\"url(#clip1402)\" style=\"fill:#000000; stroke:none; fill-opacity:1\" cx=\"1090.6\" cy=\"908.36\" r=\"18\"/>\n",
       "<circle clip-path=\"url(#clip1402)\" style=\"fill:#e26f46; stroke:none; fill-opacity:1\" cx=\"1090.6\" cy=\"908.36\" r=\"14\"/>\n",
       "<circle clip-path=\"url(#clip1402)\" style=\"fill:#000000; stroke:none; fill-opacity:1\" cx=\"1491.29\" cy=\"549.674\" r=\"18\"/>\n",
       "<circle clip-path=\"url(#clip1402)\" style=\"fill:#e26f46; stroke:none; fill-opacity:1\" cx=\"1491.29\" cy=\"549.674\" r=\"14\"/>\n",
       "<circle clip-path=\"url(#clip1402)\" style=\"fill:#000000; stroke:none; fill-opacity:1\" cx=\"1891.97\" cy=\"256.746\" r=\"18\"/>\n",
       "<circle clip-path=\"url(#clip1402)\" style=\"fill:#e26f46; stroke:none; fill-opacity:1\" cx=\"1891.97\" cy=\"256.746\" r=\"14\"/>\n",
       "<circle clip-path=\"url(#clip1402)\" style=\"fill:#000000; stroke:none; fill-opacity:1\" cx=\"2292.65\" cy=\"131.206\" r=\"18\"/>\n",
       "<circle clip-path=\"url(#clip1402)\" style=\"fill:#e26f46; stroke:none; fill-opacity:1\" cx=\"2292.65\" cy=\"131.206\" r=\"14\"/>\n",
       "<path clip-path=\"url(#clip1400)\" d=\"\n",
       "M1652.85 312.204 L2280.76 312.204 L2280.76 130.764 L1652.85 130.764  Z\n",
       "  \" fill=\"#ffffff\" fill-rule=\"evenodd\" fill-opacity=\"1\"/>\n",
       "<polyline clip-path=\"url(#clip1400)\" style=\"stroke:#000000; stroke-width:4; stroke-opacity:1; fill:none\" points=\"\n",
       "  1652.85,312.204 2280.76,312.204 2280.76,130.764 1652.85,130.764 1652.85,312.204 \n",
       "  \"/>\n",
       "<polyline clip-path=\"url(#clip1400)\" style=\"stroke:#009af9; stroke-width:12; stroke-opacity:1; fill:none\" points=\"\n",
       "  1676.85,191.244 1820.85,191.244 \n",
       "  \"/>\n",
       "<g clip-path=\"url(#clip1400)\">\n",
       "<text style=\"fill:#000000; fill-opacity:1; font-family:Arial,Helvetica Neue,Helvetica,sans-serif; font-size:48px; text-anchor:start;\" transform=\"rotate(0, 1844.85, 208.744)\" x=\"1844.85\" y=\"208.744\">Ncel(t) for dose=5</text>\n",
       "</g>\n",
       "<circle clip-path=\"url(#clip1400)\" style=\"fill:#000000; stroke:none; fill-opacity:1\" cx=\"1760.85\" cy=\"251.724\" r=\"25\"/>\n",
       "<circle clip-path=\"url(#clip1400)\" style=\"fill:#e26f46; stroke:none; fill-opacity:1\" cx=\"1760.85\" cy=\"251.724\" r=\"21\"/>\n",
       "<g clip-path=\"url(#clip1400)\">\n",
       "<text style=\"fill:#000000; fill-opacity:1; font-family:Arial,Helvetica Neue,Helvetica,sans-serif; font-size:48px; text-anchor:start;\" transform=\"rotate(0, 1844.85, 269.224)\" x=\"1844.85\" y=\"269.224\">Experimental data</text>\n",
       "</g>\n",
       "</svg>\n"
      ]
     },
     "execution_count": 5,
     "metadata": {},
     "output_type": "execute_result"
    }
   ],
   "source": [
    "plot(sol.t, (sol[1,:]+sol[2,:]+sol[3,:]), xlabel = \"t\", ylabel = \"Ncel\", label=\"Ncel(t) for dose=5\", line=3);\n",
    "scatter!(times, Cell005, label = \"Experimental data\")"
   ]
  },
  {
   "cell_type": "markdown",
   "metadata": {},
   "source": [
    "We need to define the objective function to run confidence intervals estimation. We use OLS fit as it was proposed in the original code:\n",
    "$$ \\Lambda = \\sum_{i=1}^n \\left( y(t_i) - data_i \\right)^2 $$\n",
    "\n",
    "Where\n",
    "$n$ - number of observations (experimental data time points),\n",
    "$data_i$ - experimental data,\n",
    "$y(t_i)$ - numerical solution "
   ]
  },
  {
   "cell_type": "code",
   "execution_count": 4,
   "metadata": {},
   "outputs": [],
   "source": [
    "# https://github.com/marisae/cancer-chemo-identifiability/blob/master/Profile%20Likelihood/testa0_fit.m#L92\n",
    "# https://www.mathworks.com/help/optim/ug/lsqcurvefit.html\n",
    "function lsq_func(\n",
    "    p;\n",
    "    ode_func=ode_func,\n",
    "    dose=dose,\n",
    "    data=data,\n",
    "    datamean=datamean,\n",
    "    times=times,\n",
    "    solver_opts=solver_opts\n",
    ")\n",
    "    loss = 0.\n",
    "    \n",
    "    for (i,d) in enumerate(dose)\n",
    "       prob = ODEProblem((du,u,p,t)->ode_func(du,u,p,t,d), u0, tspan, p)\n",
    "       sol = solve(prob, \n",
    "                   solver_opts[:alg], \n",
    "                   reltol=solver_opts[:reltol],\n",
    "                   abstol=solver_opts[:abstol],\n",
    "                   saveat=times)\n",
    "        \n",
    "       sim = (sol[1,:] + sol[2,:] + sol[3,:])/datamean[i]\n",
    "       loss += sum((sim-data[i]).^2)\n",
    "    end\n",
    "    return loss\n",
    "end;"
   ]
  },
  {
   "cell_type": "markdown",
   "metadata": {},
   "source": [
    "We are ready to compute Confidence Intervals for *a0, ka, r0, d0, kd* with *LikelihoodProfiler*"
   ]
  },
  {
   "cell_type": "code",
   "execution_count": 7,
   "metadata": {},
   "outputs": [
    {
     "name": "stdout",
     "output_type": "stream",
     "text": [
      "ParamInterval(ParamIntervalInput([8.317, 8.0959, 0.0582, 1.3307, 119.1363], 1, lsq_func, 0.9969368036738508, Symbol[:log, :log, :log, :log, :log], Tuple{Float64,Float64}[(0.0, Inf), (0.0, Inf), (0.0, Inf), (0.0, Inf), (0.0, Inf)], (0.001, 1000.0), 0.001, 0.001, :LN_NELDERMEAD, Base.Iterators.Pairs{Union{},Union{},Tuple{},NamedTuple{(),Tuple{}}}()), 0.5543989238263423, :CICO_ONE_PASS, (EndPoint(6.759329214244876, ProfilePoint[ProfilePoint(6.759329214244876, 0.9924933961348142, [6.759329214244876, 8.256344456490467, 1.9817511071795298e-10, 1.6586007246551167, 94.95892750454199], :FTOL_REACHED, nothing)], :BORDER_FOUND_BY_SCAN_TOL, :left, 286), EndPoint(17.302679462368186, ProfilePoint[ProfilePoint(17.302679462368186, 0.9956708587587412, [17.302679462368186, 8.33131589398121, 0.34985139501527907, 15.628248415205716, 303.01625115751506], :FTOL_REACHED, nothing)], :BORDER_FOUND_BY_SCAN_TOL, :right, 602)))\n",
      "ParamInterval(ParamIntervalInput([8.317, 8.0959, 0.0582, 1.3307, 119.1363], 2, lsq_func, 0.9969368036738508, Symbol[:log, :log, :log, :log, :log], Tuple{Float64,Float64}[(0.0, Inf), (0.0, Inf), (0.0, Inf), (0.0, Inf), (0.0, Inf)], (0.001, 1000.0), 0.001, 0.001, :LN_NELDERMEAD, Base.Iterators.Pairs{Union{},Union{},Tuple{},NamedTuple{(),Tuple{}}}()), 0.5543989238263423, :CICO_ONE_PASS, (EndPoint(4.988704525570046, ProfilePoint[ProfilePoint(4.988704525570046, 0.9966365964991073, [8.575190186313096, 4.988704525570046, 0.18469854265473112, 1.032753052136969, 62.862908547911346], :FTOL_REACHED, nothing)], :BORDER_FOUND_BY_SCAN_TOL, :left, 523), EndPoint(10.733968805768779, ProfilePoint[ProfilePoint(10.733968805768779, 0.996274467285134, [8.259835675742929, 10.733968805768779, 0.019831967244602757, 1.482003580289652, 143.5011672405034], :FTOL_REACHED, nothing)], :BORDER_FOUND_BY_SCAN_TOL, :right, 350)))\n",
      "ParamInterval(ParamIntervalInput([8.317, 8.0959, 0.0582, 1.3307, 119.1363], 3, lsq_func, 0.9969368036738508, Symbol[:log, :log, :log, :log, :log], Tuple{Float64,Float64}[(0.0, Inf), (0.0, Inf), (0.0, Inf), (0.0, Inf), (0.0, Inf)], (0.001, 1000.0), 0.001, 0.001, :LN_NELDERMEAD, Base.Iterators.Pairs{Union{},Union{},Tuple{},NamedTuple{(),Tuple{}}}()), 0.5543989238263423, :CICO_ONE_PASS, (EndPoint(nothing, ProfilePoint[], :SCAN_BOUND_REACHED, :left, 49), EndPoint(0.4045462742487371, ProfilePoint[ProfilePoint(0.4045462742487371, 0.9968787982735017, [15.0959425352963, 6.987935478768365, 0.4045462742487371, 0.3410256688974108, 58.85802452482185], :FTOL_REACHED, nothing)], :BORDER_FOUND_BY_SCAN_TOL, :right, 797)))\n",
      "ParamInterval(ParamIntervalInput([8.317, 8.0959, 0.0582, 1.3307, 119.1363], 4, lsq_func, 0.9969368036738508, Symbol[:log, :log, :log, :log, :log], Tuple{Float64,Float64}[(0.0, Inf), (0.0, Inf), (0.0, Inf), (0.0, Inf), (0.0, Inf)], (0.001, 1000.0), 0.001, 0.001, :LN_NELDERMEAD, Base.Iterators.Pairs{Union{},Union{},Tuple{},NamedTuple{(),Tuple{}}}()), 0.5543989238263423, :CICO_ONE_PASS, (EndPoint(0.18703851425547172, ProfilePoint[ProfilePoint(0.18703851425547172, 0.9970055434186571, [10.01843604602707, 8.981783216538687, 0.07194353484460049, 0.18703851425547172, 70.77251071685085], :FTOL_REACHED, nothing)], :BORDER_FOUND_BY_SCAN_TOL, :left, 602), EndPoint(nothing, ProfilePoint[], :SCAN_BOUND_REACHED, :right, 170)))\n",
      "ParamInterval(ParamIntervalInput([8.317, 8.0959, 0.0582, 1.3307, 119.1363], 5, lsq_func, 0.9969368036738508, Symbol[:log, :log, :log, :log, :log], Tuple{Float64,Float64}[(0.0, Inf), (0.0, Inf), (0.0, Inf), (0.0, Inf), (0.0, Inf)], (0.001, 1000.0), 0.001, 0.001, :LN_NELDERMEAD, Base.Iterators.Pairs{Union{},Union{},Tuple{},NamedTuple{(),Tuple{}}}()), 0.5543989238263423, :CICO_ONE_PASS, (EndPoint(50.515927620015816, ProfilePoint[ProfilePoint(50.515927620015816, 0.9974643323778585, [8.831456506782727, 6.8582115047390255, 0.14304346162063303, 0.5358898046182273, 50.515927620015816], :FTOL_REACHED, nothing)], :BORDER_FOUND_BY_SCAN_TOL, :left, 797), EndPoint(nothing, ProfilePoint[], :SCAN_BOUND_REACHED, :right, 180)))\n"
     ]
    }
   ],
   "source": [
    "# threshold is chosen according to\n",
    "# https://github.com/marisae/cancer-chemo-identifiability/blob/master/Profile%20Likelihood/testa0_fit.m#L40-L41\n",
    "sigmasq = (mean([(Cerr005/C005); (Cerr010/C010); (Cerr040/C040); (Cerr100/C100)]))^2\n",
    "threshold = sigmasq*cquantile(Chisq(5), 0.05)\n",
    "\n",
    "α = lsq_func(p0) + threshold\n",
    "\n",
    "intervals = Vector{ParamInterval}(undef,length(p0))\n",
    "for i in eachindex(p0)\n",
    "    \n",
    "    # upper and lower scan bounds\n",
    "    # https://github.com/marisae/cancer-chemo-identifiability/blob/master/Profile%20Likelihood/testa0_fit.m#L56-L105\n",
    "    #lb = (1 - 0.05*14)*p0[i]\n",
    "    #ub = (1 + 0.05*60)*p0[i]\n",
    "    #theta_bounds = fill((1e-4,1e4),5)\n",
    "    \n",
    "    intervals[i] = get_interval(\n",
    "        p0,\n",
    "        i,\n",
    "        lsq_func,\n",
    "        :CICO_ONE_PASS,\n",
    "        loss_crit = α,\n",
    "        scan_bounds = (1e-3,1e3),\n",
    "        scale = fill(:log,length(p0))\n",
    "    )\n",
    "    println(intervals[i]) \n",
    "end"
   ]
  },
  {
   "cell_type": "code",
   "execution_count": 19,
   "metadata": {
    "scrolled": true
   },
   "outputs": [
    {
     "data": {
      "text/html": [
       "<table class=\"data-frame\"><thead><tr><th></th><th>Parameters</th><th>StatusLower</th><th>StatusUpper</th><th>CILower</th><th>CIUpper</th><th>LFLowerCalls</th><th>LFUpperCalls</th><th>NominalStartValues</th></tr><tr><th></th><th>Symbol</th><th>Symbol</th><th>Symbol</th><th>Union…</th><th>Union…</th><th>Int64</th><th>Int64</th><th>Float64</th></tr></thead><tbody><p>5 rows × 8 columns</p><tr><th>1</th><td>a0</td><td>BORDER_FOUND_BY_SCAN_TOL</td><td>BORDER_FOUND_BY_SCAN_TOL</td><td>6.75933</td><td>17.3027</td><td>286</td><td>602</td><td>8.317</td></tr><tr><th>2</th><td>ka</td><td>BORDER_FOUND_BY_SCAN_TOL</td><td>BORDER_FOUND_BY_SCAN_TOL</td><td>4.9887</td><td>10.734</td><td>523</td><td>350</td><td>8.0959</td></tr><tr><th>3</th><td>r0</td><td>SCAN_BOUND_REACHED</td><td>BORDER_FOUND_BY_SCAN_TOL</td><td></td><td>0.404546</td><td>49</td><td>797</td><td>0.0582</td></tr><tr><th>4</th><td>d0</td><td>BORDER_FOUND_BY_SCAN_TOL</td><td>SCAN_BOUND_REACHED</td><td>0.187039</td><td></td><td>602</td><td>170</td><td>1.3307</td></tr><tr><th>5</th><td>kd</td><td>BORDER_FOUND_BY_SCAN_TOL</td><td>SCAN_BOUND_REACHED</td><td>50.5159</td><td></td><td>797</td><td>180</td><td>119.136</td></tr></tbody></table>"
      ],
      "text/latex": [
       "\\begin{tabular}{r|cccccccc}\n",
       "\t& Parameters & StatusLower & StatusUpper & CILower & CIUpper & LFLowerCalls & LFUpperCalls & NominalStartValues\\\\\n",
       "\t\\hline\n",
       "\t& Symbol & Symbol & Symbol & Union… & Union… & Int64 & Int64 & Float64\\\\\n",
       "\t\\hline\n",
       "\t1 & a0 & BORDER\\_FOUND\\_BY\\_SCAN\\_TOL & BORDER\\_FOUND\\_BY\\_SCAN\\_TOL & 6.75933 & 17.3027 & 286 & 602 & 8.317 \\\\\n",
       "\t2 & ka & BORDER\\_FOUND\\_BY\\_SCAN\\_TOL & BORDER\\_FOUND\\_BY\\_SCAN\\_TOL & 4.9887 & 10.734 & 523 & 350 & 8.0959 \\\\\n",
       "\t3 & r0 & SCAN\\_BOUND\\_REACHED & BORDER\\_FOUND\\_BY\\_SCAN\\_TOL &  & 0.404546 & 49 & 797 & 0.0582 \\\\\n",
       "\t4 & d0 & BORDER\\_FOUND\\_BY\\_SCAN\\_TOL & SCAN\\_BOUND\\_REACHED & 0.187039 &  & 602 & 170 & 1.3307 \\\\\n",
       "\t5 & kd & BORDER\\_FOUND\\_BY\\_SCAN\\_TOL & SCAN\\_BOUND\\_REACHED & 50.5159 &  & 797 & 180 & 119.136 \\\\\n",
       "\\end{tabular}\n"
      ],
      "text/plain": [
       "5×8 DataFrame. Omitted printing of 2 columns\n",
       "│ Row │ Parameters │ StatusLower              │ StatusUpper              │ CILower  │ CIUpper  │ LFLowerCalls │\n",
       "│     │ \u001b[90mSymbol\u001b[39m     │ \u001b[90mSymbol\u001b[39m                   │ \u001b[90mSymbol\u001b[39m                   │ \u001b[90mUnion…\u001b[39m   │ \u001b[90mUnion…\u001b[39m   │ \u001b[90mInt64\u001b[39m        │\n",
       "├─────┼────────────┼──────────────────────────┼──────────────────────────┼──────────┼──────────┼──────────────┤\n",
       "│ 1   │ a0         │ BORDER_FOUND_BY_SCAN_TOL │ BORDER_FOUND_BY_SCAN_TOL │ 6.75933  │ 17.3027  │ 286          │\n",
       "│ 2   │ ka         │ BORDER_FOUND_BY_SCAN_TOL │ BORDER_FOUND_BY_SCAN_TOL │ 4.9887   │ 10.734   │ 523          │\n",
       "│ 3   │ r0         │ SCAN_BOUND_REACHED       │ BORDER_FOUND_BY_SCAN_TOL │          │ 0.404546 │ 49           │\n",
       "│ 4   │ d0         │ BORDER_FOUND_BY_SCAN_TOL │ SCAN_BOUND_REACHED       │ 0.187039 │          │ 602          │\n",
       "│ 5   │ kd         │ BORDER_FOUND_BY_SCAN_TOL │ SCAN_BOUND_REACHED       │ 50.5159  │          │ 797          │"
      ]
     },
     "execution_count": 19,
     "metadata": {},
     "output_type": "execute_result"
    }
   ],
   "source": [
    "ENV[\"COLUMNS\"]=120\n",
    "cico_res = DataFrame(\n",
    "    Parameters = [:a0, :ka, :r0, :d0, :kd], \n",
    "    StatusLower = [k.result[1].status for k in intervals],\n",
    "    StatusUpper = [k.result[2].status for k in intervals],\n",
    "    CILower = [k.result[1].value for k in intervals],\n",
    "    CIUpper = [k.result[2].value for k in intervals],\n",
    "    LFLowerCalls = [k.result[1].counter for k in intervals],\n",
    "    LFUpperCalls = [k.result[2].counter for k in intervals],\n",
    "    NominalStartValues = p0\n",
    ")\n",
    "cico_res"
   ]
  },
  {
   "cell_type": "markdown",
   "metadata": {},
   "source": [
    "### LikelihoodProfiler vs Original Implementation Comparison"
   ]
  },
  {
   "cell_type": "markdown",
   "metadata": {},
   "source": [
    "Endpoints esimated in the [original Matlab code](https://github.com/marisae/cancer-chemo-identifiability). Lower and upper CI endpoints for original Matlab implementation are given as intervals because stepwise PL approach doesn’t estimate endpoints with any preset tolerance but marks two points before and after parameters profile intersects the threshold."
   ]
  },
  {
   "cell_type": "code",
   "execution_count": 20,
   "metadata": {},
   "outputs": [
    {
     "data": {
      "text/html": [
       "<table class=\"data-frame\"><thead><tr><th></th><th>Parameters</th><th>StatusLower</th><th>StatusUpper</th><th>CILower</th><th>CIUpper</th><th>LFLowerCalls</th><th>LFUpperCalls</th><th>NominalStartValues</th></tr><tr><th></th><th>Symbol</th><th>String</th><th>String</th><th>Any</th><th>Any</th><th>Int64</th><th>Any</th><th>Float64</th></tr></thead><tbody><p>5 rows × 8 columns</p><tr><th>1</th><td>a0</td><td>identified</td><td>identified</td><td>(7.90115, 8.317)</td><td>(17.0498, 17.4657)</td><td>285</td><td>1715</td><td>8.317</td></tr><tr><th>2</th><td>ka</td><td>identified</td><td>identified</td><td>(4.85754, 5.26233)</td><td>(10.5247, 10.9295)</td><td>685</td><td>670</td><td>8.0959</td></tr><tr><th>3</th><td>r0</td><td>not udentified</td><td>identified</td><td>NULL</td><td>(0.36375, 0.36666)</td><td>1510</td><td>7475</td><td>0.0582</td></tr><tr><th>4</th><td>d0</td><td>identified</td><td>not udentified</td><td>(0.13307, 0.199605)</td><td>NULL</td><td>1605</td><td>&gt;20000</td><td>1.3307</td></tr><tr><th>5</th><td>kd</td><td>identified</td><td>not udentified</td><td>(47.6545, 53.6113)</td><td>NULL</td><td>930</td><td>12260</td><td>119.136</td></tr></tbody></table>"
      ],
      "text/latex": [
       "\\begin{tabular}{r|cccccccc}\n",
       "\t& Parameters & StatusLower & StatusUpper & CILower & CIUpper & LFLowerCalls & LFUpperCalls & NominalStartValues\\\\\n",
       "\t\\hline\n",
       "\t& Symbol & String & String & Any & Any & Int64 & Any & Float64\\\\\n",
       "\t\\hline\n",
       "\t1 & a0 & identified & identified & (7.90115, 8.317) & (17.0498, 17.4657) & 285 & 1715 & 8.317 \\\\\n",
       "\t2 & ka & identified & identified & (4.85754, 5.26233) & (10.5247, 10.9295) & 685 & 670 & 8.0959 \\\\\n",
       "\t3 & r0 & not udentified & identified & NULL & (0.36375, 0.36666) & 1510 & 7475 & 0.0582 \\\\\n",
       "\t4 & d0 & identified & not udentified & (0.13307, 0.199605) & NULL & 1605 & >20000 & 1.3307 \\\\\n",
       "\t5 & kd & identified & not udentified & (47.6545, 53.6113) & NULL & 930 & 12260 & 119.136 \\\\\n",
       "\\end{tabular}\n"
      ],
      "text/plain": [
       "5×8 DataFrame. Omitted printing of 2 columns\n",
       "│ Row │ Parameters │ StatusLower    │ StatusUpper    │ CILower             │ CIUpper            │ LFLowerCalls │\n",
       "│     │ \u001b[90mSymbol\u001b[39m     │ \u001b[90mString\u001b[39m         │ \u001b[90mString\u001b[39m         │ \u001b[90mAny\u001b[39m                 │ \u001b[90mAny\u001b[39m                │ \u001b[90mInt64\u001b[39m        │\n",
       "├─────┼────────────┼────────────────┼────────────────┼─────────────────────┼────────────────────┼──────────────┤\n",
       "│ 1   │ a0         │ identified     │ identified     │ (7.90115, 8.317)    │ (17.0498, 17.4657) │ 285          │\n",
       "│ 2   │ ka         │ identified     │ identified     │ (4.85754, 5.26233)  │ (10.5247, 10.9295) │ 685          │\n",
       "│ 3   │ r0         │ not udentified │ identified     │ NULL                │ (0.36375, 0.36666) │ 1510         │\n",
       "│ 4   │ d0         │ identified     │ not udentified │ (0.13307, 0.199605) │ NULL               │ 1605         │\n",
       "│ 5   │ kd         │ identified     │ not udentified │ (47.6545, 53.6113)  │ NULL               │ 930          │"
      ]
     },
     "execution_count": 20,
     "metadata": {},
     "output_type": "execute_result"
    }
   ],
   "source": [
    "ENV[\"COLUMNS\"]=120\n",
    "orig_res = DataFrame(\n",
    "    Parameters = [:a0, :ka, :r0, :d0, :kd], \n",
    "    StatusLower = [\"identified\", \"identified\", \"not udentified\", \"identified\", \"identified\"],\n",
    "    StatusUpper = [\"identified\", \"identified\", \"identified\", \"not udentified\", \"not udentified\"],\n",
    "    CILower = [(7.90115,8.317), (4.85754, 5.26233499), :NULL, (0.13307,0.199605), (47.654519, 53.611335)],\n",
    "    CIUpper = [(17.04985, 17.4657), (10.52467, 10.929465), (0.36375, 0.36666), :NULL, :NULL],\n",
    "    LFLowerCalls = [285, 685, 1510, 1605, 930],\n",
    "    LFUpperCalls = [1715, 670, 7475, \">20000\", 12260],\n",
    "    NominalStartValues = p0\n",
    ")\n",
    "orig_res"
   ]
  },
  {
   "cell_type": "markdown",
   "metadata": {},
   "source": [
    "In general CI endpoints found with *LikelihoodProfile* fit into intervals estimated in the original implementation. Two values (a0_lower, r0_upper) are outside of the estimated intervals. The original intervals can be verified by additional fitting"
   ]
  },
  {
   "cell_type": "markdown",
   "metadata": {},
   "source": [
    "According to the original results a0 lower CI endpoint is between (7.90115, 8.317) values. Hence the Profile Likelihood function should intersect the threashold between these points. Let's check it"
   ]
  },
  {
   "cell_type": "code",
   "execution_count": 49,
   "metadata": {},
   "outputs": [
    {
     "name": "stdout",
     "output_type": "stream",
     "text": [
      "(7.90115, -0.4574331887930094)\n",
      "(8.317, -0.455567273998305)\n"
     ]
    }
   ],
   "source": [
    "fitter_opts = Dict(\n",
    "    :alg => :LN_NELDERMEAD,\n",
    "    :lb => [1e-9, 1e-9, 1e-9, 1e-9, 1e-9],\n",
    "    :ub => [1e9, 1e9, 1e9, 1e9, 1e9]\n",
    ")\n",
    "\n",
    "a0_lower_loss = Vector{Float64}(undef, 2)\n",
    "\n",
    "for (i,a0) in enumerate((7.90115, 8.317))\n",
    "    \n",
    "    fitter_opts[:lb][1] = a0\n",
    "    fitter_opts[:ub][1] = a0\n",
    "    opt = Opt(fitter_opts[:alg], 5)\n",
    "    lower_bounds!(opt, fitter_opts[:lb])\n",
    "    upper_bounds!(opt, fitter_opts[:ub])\n",
    "    opt.min_objective = (p,grad) -> lsq_func(p)\n",
    "    (loss,p,ret) = NLopt.optimize(opt, p0)\n",
    "\n",
    "    a0_lower_loss[i] = loss-α\n",
    "end\n",
    "\n",
    "println((7.90115, a0_lower_loss[1]))\n",
    "println((8.317, a0_lower_loss[2]))"
   ]
  },
  {
   "cell_type": "markdown",
   "metadata": {},
   "source": [
    "a0 profile is below the threashold between (7.90115, 8.317) which means profiling can lead to inaccurate CI endpoints estimation. The same can be checked for original r0 upper endpoint estimation:"
   ]
  },
  {
   "cell_type": "code",
   "execution_count": 56,
   "metadata": {},
   "outputs": [
    {
     "name": "stdout",
     "output_type": "stream",
     "text": [
      "(0.36375, -0.03679986265525348)\n",
      "(0.36666, -0.034079605988768136)\n"
     ]
    }
   ],
   "source": [
    "fitter_opts = Dict(\n",
    "    :alg => :LN_NELDERMEAD,\n",
    "    :lb => [1e-9, 1e-9, 1e-9, 1e-9, 1e-9],\n",
    "    :ub => [1e9, 1e9, 1e9, 1e9, 1e9]\n",
    ")\n",
    "\n",
    "r0_upper_loss = Vector{Float64}(undef, 2)\n",
    "\n",
    "for (i,r0) in enumerate((0.36375, 0.36666))\n",
    "    \n",
    "    fitter_opts[:lb][3] = r0\n",
    "    fitter_opts[:ub][3] = r0\n",
    "    opt = Opt(fitter_opts[:alg], 5)\n",
    "    lower_bounds!(opt, fitter_opts[:lb])\n",
    "    upper_bounds!(opt, fitter_opts[:ub])\n",
    "    opt.min_objective = (p,grad) -> lsq_func(p)\n",
    "    (loss,p,ret) = NLopt.optimize(opt, p0)\n",
    "\n",
    "    r0_upper_loss[i] = loss-α\n",
    "end\n",
    "\n",
    "println((0.36375, r0_upper_loss[1]))\n",
    "println((0.36666, r0_upper_loss[2]))"
   ]
  },
  {
   "cell_type": "markdown",
   "metadata": {},
   "source": [
    "### Results"
   ]
  },
  {
   "cell_type": "markdown",
   "metadata": {},
   "source": [
    "1. Confidence intervals estimated with *LikelihoodProfiler* correspond with those reported in [Marisa C.Eisenberg, Harsh V.Jain. A confidence building exercise in data and identifiability](https://www.sciencedirect.com/science/article/pii/S0022519317303454)\n",
    "2. Stepwise optimization-based algorithm used in the original Matlab implementation may lead to inaccurate CI endpoints estimates.\n",
    "3. *a0, ka* are practically identifiable parameters\n",
    "4. *d0, kd* are practically unindentifiable (CI have infinite upper bounds)\n",
    "5. *r0* can be considered as identifiable parameter if zero is the natural lower bound for it. However *r0* profile has only one intersection with the threashold confidence level"
   ]
  },
  {
   "cell_type": "code",
   "execution_count": null,
   "metadata": {},
   "outputs": [],
   "source": []
  }
 ],
 "metadata": {
  "kernelspec": {
   "display_name": "Julia 1.5.0",
   "language": "julia",
   "name": "julia-1.5"
  },
  "language_info": {
   "file_extension": ".jl",
   "mimetype": "application/julia",
   "name": "julia",
   "version": "1.5.0"
  }
 },
 "nbformat": 4,
 "nbformat_minor": 2
}
