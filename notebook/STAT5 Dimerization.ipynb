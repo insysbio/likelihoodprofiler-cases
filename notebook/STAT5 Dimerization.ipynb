{
 "cells": [
  {
   "cell_type": "markdown",
   "metadata": {},
   "source": [
    "## STAT5 Dimerization Model"
   ]
  },
  {
   "cell_type": "markdown",
   "metadata": {},
   "source": [
    "The goal of the notebook is to study practical identifiability of [STAT5 Dimerization](doi:10.1021/pr5006923) Model with *LikelihoodProfiler*. STAT5 Dimerization is one of the Benchmark models for [dMod R package](https://github.com/dkaschek/dMod). We have translated the model to [Julia language](https://julialang.org/). [dMod BenchmarkModels repo](https://github.com/dkaschek/dMod/tree/master/BenchmarkModels/Boehm_JProteomeRes2014) contains the model files, experimental data and best-fit parameters.\n",
    "The model is defined by the following system of differential equations:"
   ]
  },
  {
   "cell_type": "code",
   "execution_count": 4,
   "metadata": {},
   "outputs": [],
   "source": [
    "using DiffEqBase, CSV, DataFrames, LikelihoodProfiler, LSODA\n",
    "using Plots\n",
    "\n",
    "# constants\n",
    "const cyt = 1.4\n",
    "const nuc = 0.45\n",
    "const ratio = 0.693\n",
    "const specC17 = 0.107\n",
    "\n",
    "\n",
    "# ode system\n",
    "function stat5_ode(du, u, p, time)\n",
    "    # 8 states:\n",
    "    (STAT5A, pApA, STAT5B, pApB, pBpB, nucpApA, nucpApB, nucpBpB) = u\n",
    "    # 6 parameters\n",
    "    (Epo_degradation_BaF3, k_exp_hetero, k_exp_homo, k_imp_hetero, k_imp_homo, k_phos) =  p\n",
    "    \n",
    "    BaF3_Epo = 1.25e-7*exp(-1*Epo_degradation_BaF3*time)\n",
    "\n",
    "    v1 = BaF3_Epo*(STAT5A^2)*k_phos\n",
    "    v2 = BaF3_Epo*STAT5A*STAT5B*k_phos\n",
    "    v3 = BaF3_Epo*(STAT5B^2)*k_phos\n",
    "    v4 = k_imp_homo*pApA\n",
    "    v5 = k_imp_hetero*pApB\n",
    "    v6 = k_imp_homo*pBpB\n",
    "    v7 = k_exp_homo*nucpApA\n",
    "    v8 = k_exp_hetero*nucpApB\n",
    "    v9 = k_exp_homo*nucpBpB\n",
    "\n",
    "    du[1] = -2*v1 - v2 + 2*v7*(nuc/cyt) + v8*(nuc/cyt)\n",
    "    du[2] = v1 - v4\n",
    "    du[3] = -v2 -2*v3 + v8*(nuc/cyt) + 2*v9*(nuc/cyt)\n",
    "    du[4] = v2 - v5\n",
    "    du[5] = v3 - v6\n",
    "    du[6] = v4*(cyt/nuc) - v7\n",
    "    du[7] = v5*(cyt/nuc) - v8\n",
    "    du[8] = v6*(cyt/nuc) - v9\n",
    "    end;"
   ]
  },
  {
   "cell_type": "markdown",
   "metadata": {},
   "source": [
    "Let's load the experimental dataset "
   ]
  },
  {
   "cell_type": "code",
   "execution_count": 5,
   "metadata": {},
   "outputs": [],
   "source": [
    "data = DataFrame!(CSV.File(\"data_stat5.csv\"));"
   ]
  },
  {
   "cell_type": "markdown",
   "metadata": {},
   "source": [
    "Observables, initial values and solver settings are set according to [model's files](https://github.com/dkaschek/dMod/tree/master/BenchmarkModels/Boehm_JProteomeRes2014) and [dMod settings](https://github.com/dkaschek/dMod/blob/master/R/PEtab2dMod.R)"
   ]
  },
  {
   "cell_type": "code",
   "execution_count": 6,
   "metadata": {},
   "outputs": [],
   "source": [
    "saveat = Float64.(data[!,:time])\n",
    "tspan = (0.,saveat[end])\n",
    "\n",
    "u0 = zeros(8)\n",
    "u0[1] = 207.6*ratio         # STAT5A\n",
    "u0[3] = 207.6 - 207.6*ratio # STAT5B\n",
    "\n",
    "prob(p) = ODEProblem(stat5_ode, eltype(p).(u0), tspan, p)\n",
    "\n",
    "function solve_prob(p)\n",
    "    _prob = prob(p)\n",
    "\n",
    "    # solution\n",
    "    sol = solve(_prob, lsoda(), saveat=saveat, reltol=1e-7,abstol=1e-7) #save_idxs=[1,2,3,4,5] \n",
    "    STAT5A = sol[1,:]\n",
    "    pApA = sol[2,:]\n",
    "    STAT5B = sol[3,:]\n",
    "    pApB = sol[4,:]\n",
    "    pBpB = sol[5,:]\n",
    "\n",
    "    # observables\n",
    "    pSTAT5A_rel = (100 * pApB + 200 * pApA * specC17) ./ (pApB + STAT5A * specC17 + 2 * pApA * specC17)\n",
    "    pSTAT5B_rel = -(100 * pApB - 200 * pBpB * (specC17 - 1)) ./ ((STAT5B * (specC17 - 1) - pApB) + 2 * pBpB * (specC17 - 1))\n",
    "    rSTAT5A_rel = (100 * pApB + 100 * STAT5A * specC17 + 200 * pApA * specC17) ./ (2 * pApB + STAT5A * specC17 + 2 * pApA * specC17 - STAT5B * (specC17 - 1) - 2 * pBpB * (specC17 - 1))\n",
    "\n",
    "    return [pSTAT5A_rel, pSTAT5B_rel, rSTAT5A_rel]\n",
    "end;"
   ]
  },
  {
   "cell_type": "markdown",
   "metadata": {},
   "source": [
    "The [best-fit](https://github.com/dkaschek/dMod/blob/master/BenchmarkModels/Boehm_JProteomeRes2014/parameters_Boehm_JProteomeRes2014.tsv) parameters values:"
   ]
  },
  {
   "cell_type": "code",
   "execution_count": 7,
   "metadata": {},
   "outputs": [],
   "source": [
    "p_best = [\n",
    "    0.026982514033029,      # Epo_degradation_BaF3\n",
    "    0.0000100067973851508,  # k_exp_hetero\n",
    "    0.006170228086381,      # k_exp_homo\n",
    "    0.0163679184468,        # k_imp_hetero\n",
    "    97749.3794024716,       # k_imp_homo\n",
    "    15766.5070195731,       # k_phos\n",
    "    3.85261197844677,       # sd_pSTAT5A_rel\n",
    "    6.59147818673419,       # sd_pSTAT5B_rel\n",
    "    3.15271275648527        # sd_rSTAT5A_rel\n",
    "];"
   ]
  },
  {
   "cell_type": "markdown",
   "metadata": {},
   "source": [
    "Let's run the simulations and plot results for best-fit parameters values"
   ]
  },
  {
   "cell_type": "code",
   "execution_count": 8,
   "metadata": {},
   "outputs": [
    {
     "data": {
      "image/svg+xml": [
       "<?xml version=\"1.0\" encoding=\"utf-8\"?>\n",
       "<svg xmlns=\"http://www.w3.org/2000/svg\" xmlns:xlink=\"http://www.w3.org/1999/xlink\" width=\"600\" height=\"400\" viewBox=\"0 0 2400 1600\">\n",
       "<defs>\n",
       "  <clipPath id=\"clip8700\">\n",
       "    <rect x=\"0\" y=\"0\" width=\"2400\" height=\"1600\"/>\n",
       "  </clipPath>\n",
       "</defs>\n",
       "<path clip-path=\"url(#clip8700)\" d=\"\n",
       "M0 1600 L2400 1600 L2400 0 L0 0  Z\n",
       "  \" fill=\"#ffffff\" fill-rule=\"evenodd\" fill-opacity=\"1\"/>\n",
       "<defs>\n",
       "  <clipPath id=\"clip8701\">\n",
       "    <rect x=\"480\" y=\"0\" width=\"1681\" height=\"1600\"/>\n",
       "  </clipPath>\n",
       "</defs>\n",
       "<path clip-path=\"url(#clip8700)\" d=\"\n",
       "M140.517 1425.62 L2352.76 1425.62 L2352.76 47.2441 L140.517 47.2441  Z\n",
       "  \" fill=\"#ffffff\" fill-rule=\"evenodd\" fill-opacity=\"1\"/>\n",
       "<defs>\n",
       "  <clipPath id=\"clip8702\">\n",
       "    <rect x=\"140\" y=\"47\" width=\"2213\" height=\"1379\"/>\n",
       "  </clipPath>\n",
       "</defs>\n",
       "<polyline clip-path=\"url(#clip8702)\" style=\"stroke:#000000; stroke-width:2; stroke-opacity:0.1; fill:none\" points=\"\n",
       "  203.127,1425.62 203.127,47.2441 \n",
       "  \"/>\n",
       "<polyline clip-path=\"url(#clip8702)\" style=\"stroke:#000000; stroke-width:2; stroke-opacity:0.1; fill:none\" points=\"\n",
       "  637.923,1425.62 637.923,47.2441 \n",
       "  \"/>\n",
       "<polyline clip-path=\"url(#clip8702)\" style=\"stroke:#000000; stroke-width:2; stroke-opacity:0.1; fill:none\" points=\"\n",
       "  1072.72,1425.62 1072.72,47.2441 \n",
       "  \"/>\n",
       "<polyline clip-path=\"url(#clip8702)\" style=\"stroke:#000000; stroke-width:2; stroke-opacity:0.1; fill:none\" points=\"\n",
       "  1507.51,1425.62 1507.51,47.2441 \n",
       "  \"/>\n",
       "<polyline clip-path=\"url(#clip8702)\" style=\"stroke:#000000; stroke-width:2; stroke-opacity:0.1; fill:none\" points=\"\n",
       "  1942.31,1425.62 1942.31,47.2441 \n",
       "  \"/>\n",
       "<polyline clip-path=\"url(#clip8702)\" style=\"stroke:#000000; stroke-width:2; stroke-opacity:0.1; fill:none\" points=\"\n",
       "  140.517,1386.61 2352.76,1386.61 \n",
       "  \"/>\n",
       "<polyline clip-path=\"url(#clip8702)\" style=\"stroke:#000000; stroke-width:2; stroke-opacity:0.1; fill:none\" points=\"\n",
       "  140.517,1105.46 2352.76,1105.46 \n",
       "  \"/>\n",
       "<polyline clip-path=\"url(#clip8702)\" style=\"stroke:#000000; stroke-width:2; stroke-opacity:0.1; fill:none\" points=\"\n",
       "  140.517,824.304 2352.76,824.304 \n",
       "  \"/>\n",
       "<polyline clip-path=\"url(#clip8702)\" style=\"stroke:#000000; stroke-width:2; stroke-opacity:0.1; fill:none\" points=\"\n",
       "  140.517,543.152 2352.76,543.152 \n",
       "  \"/>\n",
       "<polyline clip-path=\"url(#clip8702)\" style=\"stroke:#000000; stroke-width:2; stroke-opacity:0.1; fill:none\" points=\"\n",
       "  140.517,262.001 2352.76,262.001 \n",
       "  \"/>\n",
       "<polyline clip-path=\"url(#clip8700)\" style=\"stroke:#000000; stroke-width:4; stroke-opacity:1; fill:none\" points=\"\n",
       "  140.517,1425.62 2352.76,1425.62 \n",
       "  \"/>\n",
       "<polyline clip-path=\"url(#clip8700)\" style=\"stroke:#000000; stroke-width:4; stroke-opacity:1; fill:none\" points=\"\n",
       "  140.517,1425.62 140.517,47.2441 \n",
       "  \"/>\n",
       "<polyline clip-path=\"url(#clip8700)\" style=\"stroke:#000000; stroke-width:4; stroke-opacity:1; fill:none\" points=\"\n",
       "  203.127,1425.62 203.127,1409.08 \n",
       "  \"/>\n",
       "<polyline clip-path=\"url(#clip8700)\" style=\"stroke:#000000; stroke-width:4; stroke-opacity:1; fill:none\" points=\"\n",
       "  637.923,1425.62 637.923,1409.08 \n",
       "  \"/>\n",
       "<polyline clip-path=\"url(#clip8700)\" style=\"stroke:#000000; stroke-width:4; stroke-opacity:1; fill:none\" points=\"\n",
       "  1072.72,1425.62 1072.72,1409.08 \n",
       "  \"/>\n",
       "<polyline clip-path=\"url(#clip8700)\" style=\"stroke:#000000; stroke-width:4; stroke-opacity:1; fill:none\" points=\"\n",
       "  1507.51,1425.62 1507.51,1409.08 \n",
       "  \"/>\n",
       "<polyline clip-path=\"url(#clip8700)\" style=\"stroke:#000000; stroke-width:4; stroke-opacity:1; fill:none\" points=\"\n",
       "  1942.31,1425.62 1942.31,1409.08 \n",
       "  \"/>\n",
       "<polyline clip-path=\"url(#clip8700)\" style=\"stroke:#000000; stroke-width:4; stroke-opacity:1; fill:none\" points=\"\n",
       "  140.517,1386.61 167.064,1386.61 \n",
       "  \"/>\n",
       "<polyline clip-path=\"url(#clip8700)\" style=\"stroke:#000000; stroke-width:4; stroke-opacity:1; fill:none\" points=\"\n",
       "  140.517,1105.46 167.064,1105.46 \n",
       "  \"/>\n",
       "<polyline clip-path=\"url(#clip8700)\" style=\"stroke:#000000; stroke-width:4; stroke-opacity:1; fill:none\" points=\"\n",
       "  140.517,824.304 167.064,824.304 \n",
       "  \"/>\n",
       "<polyline clip-path=\"url(#clip8700)\" style=\"stroke:#000000; stroke-width:4; stroke-opacity:1; fill:none\" points=\"\n",
       "  140.517,543.152 167.064,543.152 \n",
       "  \"/>\n",
       "<polyline clip-path=\"url(#clip8700)\" style=\"stroke:#000000; stroke-width:4; stroke-opacity:1; fill:none\" points=\"\n",
       "  140.517,262.001 167.064,262.001 \n",
       "  \"/>\n",
       "<g clip-path=\"url(#clip8700)\">\n",
       "<text style=\"fill:#000000; fill-opacity:1; font-family:Arial,Helvetica Neue,Helvetica,sans-serif; font-size:48px; text-anchor:middle;\" transform=\"rotate(0, 203.127, 1479.62)\" x=\"203.127\" y=\"1479.62\">0</text>\n",
       "</g>\n",
       "<g clip-path=\"url(#clip8700)\">\n",
       "<text style=\"fill:#000000; fill-opacity:1; font-family:Arial,Helvetica Neue,Helvetica,sans-serif; font-size:48px; text-anchor:middle;\" transform=\"rotate(0, 637.923, 1479.62)\" x=\"637.923\" y=\"1479.62\">50</text>\n",
       "</g>\n",
       "<g clip-path=\"url(#clip8700)\">\n",
       "<text style=\"fill:#000000; fill-opacity:1; font-family:Arial,Helvetica Neue,Helvetica,sans-serif; font-size:48px; text-anchor:middle;\" transform=\"rotate(0, 1072.72, 1479.62)\" x=\"1072.72\" y=\"1479.62\">100</text>\n",
       "</g>\n",
       "<g clip-path=\"url(#clip8700)\">\n",
       "<text style=\"fill:#000000; fill-opacity:1; font-family:Arial,Helvetica Neue,Helvetica,sans-serif; font-size:48px; text-anchor:middle;\" transform=\"rotate(0, 1507.51, 1479.62)\" x=\"1507.51\" y=\"1479.62\">150</text>\n",
       "</g>\n",
       "<g clip-path=\"url(#clip8700)\">\n",
       "<text style=\"fill:#000000; fill-opacity:1; font-family:Arial,Helvetica Neue,Helvetica,sans-serif; font-size:48px; text-anchor:middle;\" transform=\"rotate(0, 1942.31, 1479.62)\" x=\"1942.31\" y=\"1479.62\">200</text>\n",
       "</g>\n",
       "<g clip-path=\"url(#clip8700)\">\n",
       "<text style=\"fill:#000000; fill-opacity:1; font-family:Arial,Helvetica Neue,Helvetica,sans-serif; font-size:48px; text-anchor:end;\" transform=\"rotate(0, 116.517, 1404.11)\" x=\"116.517\" y=\"1404.11\">0</text>\n",
       "</g>\n",
       "<g clip-path=\"url(#clip8700)\">\n",
       "<text style=\"fill:#000000; fill-opacity:1; font-family:Arial,Helvetica Neue,Helvetica,sans-serif; font-size:48px; text-anchor:end;\" transform=\"rotate(0, 116.517, 1122.96)\" x=\"116.517\" y=\"1122.96\">20</text>\n",
       "</g>\n",
       "<g clip-path=\"url(#clip8700)\">\n",
       "<text style=\"fill:#000000; fill-opacity:1; font-family:Arial,Helvetica Neue,Helvetica,sans-serif; font-size:48px; text-anchor:end;\" transform=\"rotate(0, 116.517, 841.804)\" x=\"116.517\" y=\"841.804\">40</text>\n",
       "</g>\n",
       "<g clip-path=\"url(#clip8700)\">\n",
       "<text style=\"fill:#000000; fill-opacity:1; font-family:Arial,Helvetica Neue,Helvetica,sans-serif; font-size:48px; text-anchor:end;\" transform=\"rotate(0, 116.517, 560.652)\" x=\"116.517\" y=\"560.652\">60</text>\n",
       "</g>\n",
       "<g clip-path=\"url(#clip8700)\">\n",
       "<text style=\"fill:#000000; fill-opacity:1; font-family:Arial,Helvetica Neue,Helvetica,sans-serif; font-size:48px; text-anchor:end;\" transform=\"rotate(0, 116.517, 279.501)\" x=\"116.517\" y=\"279.501\">80</text>\n",
       "</g>\n",
       "<g clip-path=\"url(#clip8700)\">\n",
       "<text style=\"fill:#000000; fill-opacity:1; font-family:Arial,Helvetica Neue,Helvetica,sans-serif; font-size:66px; text-anchor:middle;\" transform=\"rotate(0, 1246.64, 1559.48)\" x=\"1246.64\" y=\"1559.48\">time</text>\n",
       "</g>\n",
       "<polyline clip-path=\"url(#clip8702)\" style=\"stroke:#009af9; stroke-width:4; stroke-opacity:1; fill:none\" points=\"\n",
       "  203.127,1386.61 224.867,330.11 246.607,188.671 290.086,112.014 333.566,91.3094 377.046,86.2547 464.005,93.8312 550.964,112.635 637.923,138.493 724.882,170.304 \n",
       "  898.8,250.727 1072.72,352.288 1246.64,471.381 1594.47,733.46 1942.31,971.705 2290.15,1145.59 \n",
       "  \"/>\n",
       "<polyline clip-path=\"url(#clip8702)\" style=\"stroke:#e26f46; stroke-width:4; stroke-opacity:1; fill:none\" points=\"\n",
       "  203.127,1386.61 224.867,821.978 246.607,620.423 290.086,454.76 333.566,389.32 377.046,360.98 464.005,352.005 550.964,373.295 637.923,410.507 724.882,457.794 \n",
       "  898.8,570.621 1072.72,694.658 1246.64,817.921 1594.47,1031.08 1942.31,1180.55 2290.15,1272.84 \n",
       "  \"/>\n",
       "<polyline clip-path=\"url(#clip8702)\" style=\"stroke:#3da44d; stroke-width:4; stroke-opacity:1; fill:none\" points=\"\n",
       "  203.127,1087.33 224.867,896.99 246.607,838.235 290.086,792.913 333.566,775.095 377.046,766.747 464.005,761.698 550.964,763.829 637.923,769.688 724.882,777.928 \n",
       "  898.8,798.924 1072.72,823.13 1246.64,847.873 1594.47,891.122 1942.31,920.119 2290.15,935.825 \n",
       "  \"/>\n",
       "<path clip-path=\"url(#clip8700)\" d=\"\n",
       "M1751.86 372.684 L2280.76 372.684 L2280.76 130.764 L1751.86 130.764  Z\n",
       "  \" fill=\"#ffffff\" fill-rule=\"evenodd\" fill-opacity=\"1\"/>\n",
       "<polyline clip-path=\"url(#clip8700)\" style=\"stroke:#000000; stroke-width:4; stroke-opacity:1; fill:none\" points=\"\n",
       "  1751.86,372.684 2280.76,372.684 2280.76,130.764 1751.86,130.764 1751.86,372.684 \n",
       "  \"/>\n",
       "<polyline clip-path=\"url(#clip8700)\" style=\"stroke:#009af9; stroke-width:4; stroke-opacity:1; fill:none\" points=\"\n",
       "  1775.86,191.244 1919.86,191.244 \n",
       "  \"/>\n",
       "<g clip-path=\"url(#clip8700)\">\n",
       "<text style=\"fill:#000000; fill-opacity:1; font-family:Arial,Helvetica Neue,Helvetica,sans-serif; font-size:48px; text-anchor:start;\" transform=\"rotate(0, 1943.86, 208.744)\" x=\"1943.86\" y=\"208.744\">pSTAT5A_rel</text>\n",
       "</g>\n",
       "<polyline clip-path=\"url(#clip8700)\" style=\"stroke:#e26f46; stroke-width:4; stroke-opacity:1; fill:none\" points=\"\n",
       "  1775.86,251.724 1919.86,251.724 \n",
       "  \"/>\n",
       "<g clip-path=\"url(#clip8700)\">\n",
       "<text style=\"fill:#000000; fill-opacity:1; font-family:Arial,Helvetica Neue,Helvetica,sans-serif; font-size:48px; text-anchor:start;\" transform=\"rotate(0, 1943.86, 269.224)\" x=\"1943.86\" y=\"269.224\">pSTAT5B_rel</text>\n",
       "</g>\n",
       "<polyline clip-path=\"url(#clip8700)\" style=\"stroke:#3da44d; stroke-width:4; stroke-opacity:1; fill:none\" points=\"\n",
       "  1775.86,312.204 1919.86,312.204 \n",
       "  \"/>\n",
       "<g clip-path=\"url(#clip8700)\">\n",
       "<text style=\"fill:#000000; fill-opacity:1; font-family:Arial,Helvetica Neue,Helvetica,sans-serif; font-size:48px; text-anchor:start;\" transform=\"rotate(0, 1943.86, 329.704)\" x=\"1943.86\" y=\"329.704\">rSTAT5A_rel</text>\n",
       "</g>\n",
       "</svg>\n"
      ]
     },
     "execution_count": 8,
     "metadata": {},
     "output_type": "execute_result"
    }
   ],
   "source": [
    "sol = solve_prob(p_best)\n",
    "plot(saveat,sol, label=[:pSTAT5A_rel :pSTAT5B_rel :rSTAT5A_rel], xlabel=:time)"
   ]
  },
  {
   "cell_type": "markdown",
   "metadata": {},
   "source": [
    "Loss function includes parameters transformation to log10 scale:"
   ]
  },
  {
   "cell_type": "code",
   "execution_count": 10,
   "metadata": {},
   "outputs": [],
   "source": [
    "function loss_func(p_init)\n",
    "    p = exp10.(p_init)\n",
    "\n",
    "    sim = solve_prob(p)\n",
    "    σ = p[7:9]\n",
    "    # loss\n",
    "    return loss(sim,data,σ)\n",
    "end\n",
    "\n",
    "function loss(sim,data,σ)\n",
    "    loss = 0.0\n",
    "    obs = names(data)[2:end]  \n",
    "\n",
    "    for i in 1:length(obs)\n",
    "        loss_i = loss_component(sim[i],data[!,i+1],σ[i])\n",
    "        loss += loss_i\n",
    "    end\n",
    "    return loss\n",
    "end\n",
    "\n",
    "function loss_component(sim,data,σ)\n",
    "    loss_i = 0.0\n",
    "    \n",
    "    for i in eachindex(sim)\n",
    "            loss_i += ((sim[i]-data[i])/σ)^2 + 2*log(sqrt(2π)*σ)\n",
    "    end\n",
    "    return loss_i\n",
    "end;"
   ]
  },
  {
   "cell_type": "markdown",
   "metadata": {},
   "source": [
    "Now we are ready to perform identifiability analysis with *LikelihoodProfiler*"
   ]
  },
  {
   "cell_type": "code",
   "execution_count": 15,
   "metadata": {},
   "outputs": [
    {
     "name": "stdout",
     "output_type": "stream",
     "text": [
      "  0.784934 seconds (1.69 M allocations: 135.207 MiB, 4.00% gc time)\n",
      "  1.044460 seconds (1.67 M allocations: 134.190 MiB, 6.98% gc time)\n",
      "  0.595737 seconds (902.18 k allocations: 72.128 MiB, 3.08% gc time)\n",
      "  0.470997 seconds (595.08 k allocations: 47.605 MiB, 4.63% gc time)\n",
      "  1.545490 seconds (2.59 M allocations: 205.508 MiB, 4.24% gc time)\n",
      "  0.301798 seconds (533.45 k allocations: 42.660 MiB, 5.99% gc time)\n",
      "  0.364914 seconds (709.19 k allocations: 56.716 MiB, 5.36% gc time)\n",
      "  0.655530 seconds (703.24 k allocations: 56.275 MiB, 3.77% gc time)\n",
      "  1.204388 seconds (1.84 M allocations: 147.707 MiB, 3.50% gc time)\n"
     ]
    }
   ],
   "source": [
    "α = loss_func(log10.(p_best)) + 3.84 # chisq with 1 df\n",
    "\n",
    "# search CI with LikelihoodProfiler\n",
    "num_params = length(p_best)\n",
    "\n",
    "intervals = Vector{ParamInterval}(undef,num_params)\n",
    "p_log = log10.(p_best)\n",
    "\n",
    "tbounds = fill((-7.,7.), num_params)\n",
    "sbounds = (-5.,5.)\n",
    "for i in 1:num_params\n",
    "    @time intervals[i] = get_interval(\n",
    "        p_log,\n",
    "        i,\n",
    "        loss_func,\n",
    "        :CICO_ONE_PASS,\n",
    "        loss_crit = α,\n",
    "        theta_bounds = tbounds,\n",
    "        scan_bounds = sbounds,\n",
    "        scan_tol = 1e-2,\n",
    "        local_alg = :LN_NELDERMEAD,\n",
    "    )\n",
    "end;"
   ]
  },
  {
   "cell_type": "code",
   "execution_count": 17,
   "metadata": {},
   "outputs": [
    {
     "data": {
      "text/html": [
       "<table class=\"data-frame\"><thead><tr><th></th><th>params</th><th>LSatus</th><th>UStatus</th><th>LBound</th><th>UBound</th><th>LCount</th><th>UCount</th><th>InitValues</th></tr><tr><th></th><th>Symbol</th><th>Symbol</th><th>Symbol</th><th>Union…</th><th>Union…</th><th>Int64</th><th>Int64</th><th>Float64</th></tr></thead><tbody><p>9 rows × 8 columns</p><tr><th>1</th><td>Epo_degradation_BaF3</td><td>BORDER_FOUND_BY_SCAN_TOL</td><td>BORDER_FOUND_BY_SCAN_TOL</td><td>-1.70803</td><td>-1.41987</td><td>523</td><td>494</td><td>-1.56892</td></tr><tr><th>2</th><td>k_exp_hetero</td><td>SCAN_BOUND_REACHED</td><td>BORDER_FOUND_BY_SCAN_TOL</td><td></td><td>-3.14629</td><td>4</td><td>1036</td><td>-4.9997</td></tr><tr><th>3</th><td>k_exp_homo</td><td>BORDER_FOUND_BY_SCAN_TOL</td><td>BORDER_FOUND_BY_SCAN_TOL</td><td>-2.48322</td><td>-1.98024</td><td>237</td><td>289</td><td>-2.2097</td></tr><tr><th>4</th><td>k_imp_hetero</td><td>BORDER_FOUND_BY_SCAN_TOL</td><td>BORDER_FOUND_BY_SCAN_TOL</td><td>-1.85648</td><td>-1.68961</td><td>171</td><td>179</td><td>-1.78601</td></tr><tr><th>5</th><td>k_imp_homo</td><td>BORDER_FOUND_BY_SCAN_TOL</td><td>SCAN_BOUND_REACHED</td><td>0.190413</td><td></td><td>1287</td><td>7</td><td>4.99011</td></tr><tr><th>6</th><td>k_phos</td><td>BORDER_FOUND_BY_SCAN_TOL</td><td>BORDER_FOUND_BY_SCAN_TOL</td><td>4.15994</td><td>4.27243</td><td>143</td><td>168</td><td>4.19774</td></tr><tr><th>7</th><td>sd_pSTAT5A_rel</td><td>BORDER_FOUND_BY_SCAN_TOL</td><td>BORDER_FOUND_BY_SCAN_TOL</td><td>0.43758</td><td>0.768413</td><td>172</td><td>243</td><td>0.585755</td></tr><tr><th>8</th><td>sd_pSTAT5B_rel</td><td>BORDER_FOUND_BY_SCAN_TOL</td><td>BORDER_FOUND_BY_SCAN_TOL</td><td>0.720768</td><td>0.990163</td><td>231</td><td>186</td><td>0.818983</td></tr><tr><th>9</th><td>sd_rSTAT5A_rel</td><td>BORDER_FOUND_BY_SCAN_TOL</td><td>BORDER_FOUND_BY_SCAN_TOL</td><td>0.400102</td><td>0.666105</td><td>204</td><td>929</td><td>0.498684</td></tr></tbody></table>"
      ],
      "text/latex": [
       "\\begin{tabular}{r|cccccccc}\n",
       "\t& params & LSatus & UStatus & LBound & UBound & LCount & UCount & InitValues\\\\\n",
       "\t\\hline\n",
       "\t& Symbol & Symbol & Symbol & Union… & Union… & Int64 & Int64 & Float64\\\\\n",
       "\t\\hline\n",
       "\t1 & Epo\\_degradation\\_BaF3 & BORDER\\_FOUND\\_BY\\_SCAN\\_TOL & BORDER\\_FOUND\\_BY\\_SCAN\\_TOL & -1.70803 & -1.41987 & 523 & 494 & -1.56892 \\\\\n",
       "\t2 & k\\_exp\\_hetero & SCAN\\_BOUND\\_REACHED & BORDER\\_FOUND\\_BY\\_SCAN\\_TOL &  & -3.14629 & 4 & 1036 & -4.9997 \\\\\n",
       "\t3 & k\\_exp\\_homo & BORDER\\_FOUND\\_BY\\_SCAN\\_TOL & BORDER\\_FOUND\\_BY\\_SCAN\\_TOL & -2.48322 & -1.98024 & 237 & 289 & -2.2097 \\\\\n",
       "\t4 & k\\_imp\\_hetero & BORDER\\_FOUND\\_BY\\_SCAN\\_TOL & BORDER\\_FOUND\\_BY\\_SCAN\\_TOL & -1.85648 & -1.68961 & 171 & 179 & -1.78601 \\\\\n",
       "\t5 & k\\_imp\\_homo & BORDER\\_FOUND\\_BY\\_SCAN\\_TOL & SCAN\\_BOUND\\_REACHED & 0.190413 &  & 1287 & 7 & 4.99011 \\\\\n",
       "\t6 & k\\_phos & BORDER\\_FOUND\\_BY\\_SCAN\\_TOL & BORDER\\_FOUND\\_BY\\_SCAN\\_TOL & 4.15994 & 4.27243 & 143 & 168 & 4.19774 \\\\\n",
       "\t7 & sd\\_pSTAT5A\\_rel & BORDER\\_FOUND\\_BY\\_SCAN\\_TOL & BORDER\\_FOUND\\_BY\\_SCAN\\_TOL & 0.43758 & 0.768413 & 172 & 243 & 0.585755 \\\\\n",
       "\t8 & sd\\_pSTAT5B\\_rel & BORDER\\_FOUND\\_BY\\_SCAN\\_TOL & BORDER\\_FOUND\\_BY\\_SCAN\\_TOL & 0.720768 & 0.990163 & 231 & 186 & 0.818983 \\\\\n",
       "\t9 & sd\\_rSTAT5A\\_rel & BORDER\\_FOUND\\_BY\\_SCAN\\_TOL & BORDER\\_FOUND\\_BY\\_SCAN\\_TOL & 0.400102 & 0.666105 & 204 & 929 & 0.498684 \\\\\n",
       "\\end{tabular}\n"
      ],
      "text/plain": [
       "9×8 DataFrame. Omitted printing of 2 columns\n",
       "│ Row │ params               │ LSatus                   │ UStatus                  │ LBound   │ UBound   │ LCount │\n",
       "│     │ \u001b[90mSymbol\u001b[39m               │ \u001b[90mSymbol\u001b[39m                   │ \u001b[90mSymbol\u001b[39m                   │ \u001b[90mUnion…\u001b[39m   │ \u001b[90mUnion…\u001b[39m   │ \u001b[90mInt64\u001b[39m  │\n",
       "├─────┼──────────────────────┼──────────────────────────┼──────────────────────────┼──────────┼──────────┼────────┤\n",
       "│ 1   │ Epo_degradation_BaF3 │ BORDER_FOUND_BY_SCAN_TOL │ BORDER_FOUND_BY_SCAN_TOL │ -1.70803 │ -1.41987 │ 523    │\n",
       "│ 2   │ k_exp_hetero         │ SCAN_BOUND_REACHED       │ BORDER_FOUND_BY_SCAN_TOL │          │ -3.14629 │ 4      │\n",
       "│ 3   │ k_exp_homo           │ BORDER_FOUND_BY_SCAN_TOL │ BORDER_FOUND_BY_SCAN_TOL │ -2.48322 │ -1.98024 │ 237    │\n",
       "│ 4   │ k_imp_hetero         │ BORDER_FOUND_BY_SCAN_TOL │ BORDER_FOUND_BY_SCAN_TOL │ -1.85648 │ -1.68961 │ 171    │\n",
       "│ 5   │ k_imp_homo           │ BORDER_FOUND_BY_SCAN_TOL │ SCAN_BOUND_REACHED       │ 0.190413 │          │ 1287   │\n",
       "│ 6   │ k_phos               │ BORDER_FOUND_BY_SCAN_TOL │ BORDER_FOUND_BY_SCAN_TOL │ 4.15994  │ 4.27243  │ 143    │\n",
       "│ 7   │ sd_pSTAT5A_rel       │ BORDER_FOUND_BY_SCAN_TOL │ BORDER_FOUND_BY_SCAN_TOL │ 0.43758  │ 0.768413 │ 172    │\n",
       "│ 8   │ sd_pSTAT5B_rel       │ BORDER_FOUND_BY_SCAN_TOL │ BORDER_FOUND_BY_SCAN_TOL │ 0.720768 │ 0.990163 │ 231    │\n",
       "│ 9   │ sd_rSTAT5A_rel       │ BORDER_FOUND_BY_SCAN_TOL │ BORDER_FOUND_BY_SCAN_TOL │ 0.400102 │ 0.666105 │ 204    │"
      ]
     },
     "execution_count": 17,
     "metadata": {},
     "output_type": "execute_result"
    }
   ],
   "source": [
    "ENV[\"COLUMNS\"]=120\n",
    "res = DataFrame(\n",
    "    params = [:Epo_degradation_BaF3,:k_exp_hetero,:k_exp_homo,:k_imp_hetero,:k_imp_homo,:k_phos,:sd_pSTAT5A_rel,:sd_pSTAT5B_rel,:sd_rSTAT5A_rel],\n",
    "    LSatus = [k.result[1].status for k in intervals],\n",
    "    UStatus = [k.result[2].status for k in intervals],\n",
    "    LBound = [k.result[1].value for k in intervals],\n",
    "    UBound = [k.result[2].value for k in intervals],\n",
    "    LCount = [k.result[1].counter for k in intervals],\n",
    "    UCount = [k.result[2].counter for k in intervals],\n",
    "    InitValues = p_log\n",
    ")"
   ]
  },
  {
   "cell_type": "code",
   "execution_count": null,
   "metadata": {},
   "outputs": [],
   "source": []
  }
 ],
 "metadata": {
  "kernelspec": {
   "display_name": "Julia 1.5.0",
   "language": "julia",
   "name": "julia-1.5"
  },
  "language_info": {
   "file_extension": ".jl",
   "mimetype": "application/julia",
   "name": "julia",
   "version": "1.5.0"
  }
 },
 "nbformat": 4,
 "nbformat_minor": 4
}
