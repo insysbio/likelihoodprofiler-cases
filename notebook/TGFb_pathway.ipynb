{
 "cells": [
  {
   "cell_type": "markdown",
   "metadata": {},
   "source": [
    "## TGF-β Signaling Pathway Model"
   ]
  },
  {
   "cell_type": "markdown",
   "metadata": {},
   "source": [
    "This notebook studies parameters identifiability of the **TGF-β signaling pathway model** proposed in [Geier F, Fengos G, Felizzi F, Iber D. Analyzing and Constraining Signaling Networks](https://link.springer.com/book/10.1007%2F978-1-61779-833-7). Identifiability of this model was analyzed in this article \\[\\*\\] [Parameter identifiability analysis and visualization in large-scale kinetic models of biosystems](https://bmcsystbiol.biomedcentral.com/articles/10.1186/s12918-017-0428-y). We used the equations and datasets provided by the authors of this article in the use-cases of [visid](https://github.com/gabora/visid) software. Our goal is to compare *CICOBase* results with the results of \\[\\*\\]. "
   ]
  },
  {
   "cell_type": "markdown",
   "metadata": {},
   "source": []
  },
  {
   "cell_type": "markdown",
   "metadata": {},
   "source": [
    "The following ODE system defines the **TGF-β signaling pathway model**"
   ]
  },
  {
   "cell_type": "code",
   "execution_count": 12,
   "metadata": {},
   "outputs": [],
   "source": [
    "using DiffEqBase, OrdinaryDiffEq, Sundials, CSV, Plots, NLopt, CICOBase, DataFrames\n",
    "NLopt.srand(12345) # Set random seed for reproducibility of NLOpt\n",
    "\n",
    "# ODE function\n",
    "function ode_func(du,u,p,t)\n",
    "    #parameters\n",
    "    k1, k2, k4, k5, k6, k7, k8, k9, k10, k11, k12, k13, k14, k15, k16, k17, k18, k19 = p\n",
    "    k3 = 0.01\n",
    "    k20 = 9000.\n",
    "    k21 = 1800.\n",
    "    \n",
    "    # concentrations (all concencentrations except I_Smad_mRNA1, I_Smad_mRNA2 are observed in the experiment)\n",
    "    TGFb, TGFbR, TGFb_TGFbR, TGFb_TGFbR_P, I_Smad_TGFb_TGFbR_P, Smad, Smad_P, CoSmad, Smad_P_Smad_P, Smad_P_CoSmad, \n",
    "    Smad_N, Smad_P_Smad_P_N, Smad_P_N, Smad_P_CoSmad_N, CoSmad_N, I_Smad, I_Smad_mRNA1, I_Smad_mRNA2 = u\n",
    "\n",
    "    # kinetic rates\n",
    "    r1 = k1*TGFb_TGFbR                                   \n",
    "    r2 = k2*TGFbR*TGFb                                   \n",
    "    r3 = k3*TGFb_TGFbR*(1-exp(-((t-k20)/(k21))^10))      \n",
    "    r4 = k4*TGFb_TGFbR_P                                 \n",
    "    r5 = k5*TGFb_TGFbR_P*I_Smad                          \n",
    "    r6 = k6*I_Smad_TGFb_TGFbR_P                          \n",
    "    r7 = k7*Smad*TGFb_TGFbR_P                            \n",
    "    r8 = k8*Smad                                         \n",
    "    r9 = k9*Smad_N                                       \n",
    "    r10 = k10*2*Smad_P*Smad_P                            \n",
    "    r11 = k11*Smad_P_Smad_P                              \n",
    "    r12 = k10*Smad_P*CoSmad                              \n",
    "    r13 = k11*Smad_P_CoSmad                              \n",
    "    r14 = k8*CoSmad                                      \n",
    "    r15 = k9*CoSmad_N                                    \n",
    "    r16 = k12*k8*Smad_P_Smad_P                           \n",
    "    r17 = k8*Smad_P                                      \n",
    "    r18 = k9*Smad_P_N                                    \n",
    "    r19 = k12*k8*Smad_P_CoSmad                           \n",
    "    r20 = k13*Smad_P_N                                   \n",
    "    r21 = k10*2*Smad_P_N*Smad_P_N                        \n",
    "    r22 = k11*Smad_P_Smad_P_N                            \n",
    "    r23 = k10*Smad_P_N*CoSmad_N                          \n",
    "    r24 = k11*Smad_P_CoSmad_N                            \n",
    "    r25 = k14*Smad_P_CoSmad_N^2/(Smad_P_CoSmad_N^2+k15^2)\n",
    "    r26 = k16*I_Smad_mRNA1                               \n",
    "    r27 = k17*I_Smad_mRNA2                               \n",
    "    r28 = k18*I_Smad_mRNA2                               \n",
    "    r29 = k19*I_Smad                                     \n",
    "        \n",
    "    # rhs\n",
    "    du[1] = r1-r2                                         \n",
    "    du[2] = r1-r2                                        \n",
    "    du[3] = -r1+r2-r3+r4+r6                         \n",
    "    du[4] = r3-r4-r5                              \n",
    "    du[5] = r5-r6                          \n",
    "    du[6] = -r7-r8+r9                                    \n",
    "    du[7] = r7-r10+r11-r12+r13-r17+r18                 \n",
    "    du[8] = -r12+r13-r14+r15                           \n",
    "    du[9] = r10-r11-r16                         \n",
    "    du[10] = r12-r13-r19                         \n",
    "    du[11] = r8-r9+r20                                  \n",
    "    du[12] = r16+r21-r22                       \n",
    "    du[13] = r17-r18-r20-r21+r22-r23+r24              \n",
    "    du[14] = r19+r23-r24                       \n",
    "    du[15] = r14-r15-r23+r24                          \n",
    "    du[16] = r28-r29-r5+r6                    \n",
    "    du[17] = r25-r26                            \n",
    "    du[18] = r26-r27\n",
    "end;"
   ]
  },
  {
   "cell_type": "markdown",
   "metadata": {},
   "source": [
    "Initial conditions, estimated parameter values, and time points are taken from [visid repo](https://github.com/gabora/visid/blob/53c5f390f6b0459978c076ace01a4b5f7c165094/case_studies/tgfb/TGFB_amigo.m)"
   ]
  },
  {
   "cell_type": "code",
   "execution_count": 13,
   "metadata": {},
   "outputs": [],
   "source": [
    "# initial conditions, nominal parameter values and timepoints\n",
    "# https://github.com/gabora/visid/blob/master/case_studies/tgfb/TGFB_amigo.m\n",
    "u0 = [\n",
    "    1., \n",
    "    1., \n",
    "    -1.3645e-017, \n",
    "    -1.3645e-017, \n",
    "    -1.0333e-034, \n",
    "    40.976, \n",
    "    3.5121e-011, \n",
    "    34.146, \n",
    "    2.3805e-021, \n",
    "    -5.2419e-011, \n",
    "    19.024,\n",
    "    1.0252e-018,\n",
    "    6.218e-011,\n",
    "    4.1486e-009,\n",
    "    15.854,\n",
    "    5.3131e-017,\n",
    "    6.504e-017,\n",
    "    3.7963e-017\n",
    "]\n",
    "    \n",
    "p0 = [\n",
    "    0.00015,\n",
    "    0.023,\n",
    "#    0.01, not estimated in fitting\n",
    "    0.01,\n",
    "    0.01,\n",
    "    0.1,\n",
    "    0.000404,\n",
    "    0.0026,\n",
    "    0.0056,\n",
    "    0.002,\n",
    "    0.016,\n",
    "    5.7,\n",
    "    0.00657,\n",
    "    0.0017,\n",
    "    1.,\n",
    "    0.0008,\n",
    "    0.001,\n",
    "    0.0021,\n",
    "    0.001\n",
    "#    9000., not estimated in fitting\n",
    "#    1800.  not estimated in fitting\n",
    "]\n",
    "\n",
    "time_points = [\n",
    "    0.,\n",
    "    1285.71,\n",
    "    2571.43,\n",
    "    3857.14,\n",
    "    5142.86,\n",
    "    6428.57,\n",
    "    7714.29,\n",
    "    9000.,\n",
    "    10285.7,\n",
    "    11571.4,\n",
    "    12857.1,\n",
    "    14142.9,\n",
    "    15428.6,\n",
    "    16714.3,\n",
    "    18000.\n",
    "]\n",
    "\n",
    "# time interval to solve on\n",
    "tspan = (0., 18000.);"
   ]
  },
  {
   "cell_type": "markdown",
   "metadata": {},
   "source": [
    "Next we solve the IVP (Initial Value Problem)"
   ]
  },
  {
   "cell_type": "code",
   "execution_count": 14,
   "metadata": {},
   "outputs": [],
   "source": [
    "# next we create an IVP \n",
    "prob = ODEProblem(ode_func, u0, tspan, p0)\n",
    "\n",
    "# solver algorithm, tolerances and max iterations\n",
    "solver_opts = Dict(\n",
    "    :alg => AutoTsit5(Rosenbrock23()),\n",
    "    :reltol => 1e-7,\n",
    "    :abstol => 1e-7\n",
    ")\n",
    "\n",
    "# we are interested only in concentrations observed in the experiment, hence \"save_idxs = 1:16\"\n",
    "sol = solve(\n",
    "    prob, \n",
    "    solver_opts[:alg], \n",
    "    reltol=solver_opts[:reltol],\n",
    "    abstol=solver_opts[:abstol],\n",
    "    saveat=time_points,\n",
    "    save_idxs = 1:16\n",
    ");"
   ]
  },
  {
   "cell_type": "markdown",
   "metadata": {},
   "source": [
    "We use pseudo-experimental dataset from [visid repo](https://github.com/gabora/visid/blob/53c5f390f6b0459978c076ace01a4b5f7c165094/case_studies/tgfb/TGFB_amigo.m) and plot one of the variables (TGFb) together with experimental data"
   ]
  },
  {
   "cell_type": "code",
   "execution_count": 15,
   "metadata": {},
   "outputs": [],
   "source": [
    "dataset = CSV.read(\"TGFb_data.csv\", DataFrame)\n",
    "\n",
    "# standard deviation (sigma and not sigma^2!)\n",
    "# provided in inputs.exps.error_data{iexp}\n",
    "sigmas = CSV.read(\"TGFb_error.csv\", DataFrame);"
   ]
  },
  {
   "cell_type": "code",
   "execution_count": 16,
   "metadata": {},
   "outputs": [
    {
     "data": {
      "image/png": "[encoded data removed]",
      "image/svg+xml": [
       "<?xml version=\"1.0\" encoding=\"utf-8\"?>\n",
       "<svg xmlns=\"http://www.w3.org/2000/svg\" xmlns:xlink=\"http://www.w3.org/1999/xlink\" width=\"600\" height=\"400\" viewBox=\"0 0 2400 1600\">\n",
       "<defs>\n",
       "  <clipPath id=\"clip460\">\n",
       "    <rect x=\"0\" y=\"0\" width=\"2400\" height=\"1600\"/>\n",
       "  </clipPath>\n",
       "</defs>\n",
       "<path clip-path=\"url(#clip460)\" d=\"M0 1600 L2400 1600 L2400 0 L0 0  Z\" fill=\"#ffffff\" fill-rule=\"evenodd\" fill-opacity=\"1\"/>\n",
       "<defs>\n",
       "  <clipPath id=\"clip461\">\n",
       "    <rect x=\"480\" y=\"0\" width=\"1681\" height=\"1600\"/>\n",
       "  </clipPath>\n",
       "</defs>\n",
       "<path clip-path=\"url(#clip460)\" d=\"M219.866 1410.9 L2352.76 1410.9 L2352.76 47.2441 L219.866 47.2441  Z\" fill=\"#ffffff\" fill-rule=\"evenodd\" fill-opacity=\"1\"/>\n",
       "<defs>\n",
       "  <clipPath id=\"clip462\">\n",
       "    <rect x=\"219\" y=\"47\" width=\"2134\" height=\"1365\"/>\n",
       "  </clipPath>\n",
       "</defs>\n",
       "<polyline clip-path=\"url(#clip462)\" style=\"stroke:#000000; stroke-linecap:round; stroke-linejoin:round; stroke-width:2; stroke-opacity:0.1; fill:none\" points=\"219.866,1410.9 219.866,47.2441 \"/>\n",
       "<polyline clip-path=\"url(#clip462)\" style=\"stroke:#000000; stroke-linecap:round; stroke-linejoin:round; stroke-width:2; stroke-opacity:0.1; fill:none\" points=\"575.348,1410.9 575.348,47.2441 \"/>\n",
       "<polyline clip-path=\"url(#clip462)\" style=\"stroke:#000000; stroke-linecap:round; stroke-linejoin:round; stroke-width:2; stroke-opacity:0.1; fill:none\" points=\"930.829,1410.9 930.829,47.2441 \"/>\n",
       "<polyline clip-path=\"url(#clip462)\" style=\"stroke:#000000; stroke-linecap:round; stroke-linejoin:round; stroke-width:2; stroke-opacity:0.1; fill:none\" points=\"1286.31,1410.9 1286.31,47.2441 \"/>\n",
       "<polyline clip-path=\"url(#clip462)\" style=\"stroke:#000000; stroke-linecap:round; stroke-linejoin:round; stroke-width:2; stroke-opacity:0.1; fill:none\" points=\"1641.79,1410.9 1641.79,47.2441 \"/>\n",
       "<polyline clip-path=\"url(#clip462)\" style=\"stroke:#000000; stroke-linecap:round; stroke-linejoin:round; stroke-width:2; stroke-opacity:0.1; fill:none\" points=\"1997.27,1410.9 1997.27,47.2441 \"/>\n",
       "<polyline clip-path=\"url(#clip462)\" style=\"stroke:#000000; stroke-linecap:round; stroke-linejoin:round; stroke-width:2; stroke-opacity:0.1; fill:none\" points=\"2352.76,1410.9 2352.76,47.2441 \"/>\n",
       "<polyline clip-path=\"url(#clip462)\" style=\"stroke:#000000; stroke-linecap:round; stroke-linejoin:round; stroke-width:2; stroke-opacity:0.1; fill:none\" points=\"219.866,1149.5 2352.76,1149.5 \"/>\n",
       "<polyline clip-path=\"url(#clip462)\" style=\"stroke:#000000; stroke-linecap:round; stroke-linejoin:round; stroke-width:2; stroke-opacity:0.1; fill:none\" points=\"219.866,883.583 2352.76,883.583 \"/>\n",
       "<polyline clip-path=\"url(#clip462)\" style=\"stroke:#000000; stroke-linecap:round; stroke-linejoin:round; stroke-width:2; stroke-opacity:0.1; fill:none\" points=\"219.866,617.668 2352.76,617.668 \"/>\n",
       "<polyline clip-path=\"url(#clip462)\" style=\"stroke:#000000; stroke-linecap:round; stroke-linejoin:round; stroke-width:2; stroke-opacity:0.1; fill:none\" points=\"219.866,351.753 2352.76,351.753 \"/>\n",
       "<polyline clip-path=\"url(#clip462)\" style=\"stroke:#000000; stroke-linecap:round; stroke-linejoin:round; stroke-width:2; stroke-opacity:0.1; fill:none\" points=\"219.866,85.838 2352.76,85.838 \"/>\n",
       "<polyline clip-path=\"url(#clip460)\" style=\"stroke:#000000; stroke-linecap:round; stroke-linejoin:round; stroke-width:4; stroke-opacity:1; fill:none\" points=\"219.866,1410.9 2352.76,1410.9 \"/>\n",
       "<polyline clip-path=\"url(#clip460)\" style=\"stroke:#000000; stroke-linecap:round; stroke-linejoin:round; stroke-width:4; stroke-opacity:1; fill:none\" points=\"219.866,1410.9 219.866,1392 \"/>\n",
       "<polyline clip-path=\"url(#clip460)\" style=\"stroke:#000000; stroke-linecap:round; stroke-linejoin:round; stroke-width:4; stroke-opacity:1; fill:none\" points=\"575.348,1410.9 575.348,1392 \"/>\n",
       "<polyline clip-path=\"url(#clip460)\" style=\"stroke:#000000; stroke-linecap:round; stroke-linejoin:round; stroke-width:4; stroke-opacity:1; fill:none\" points=\"930.829,1410.9 930.829,1392 \"/>\n",
       "<polyline clip-path=\"url(#clip460)\" style=\"stroke:#000000; stroke-linecap:round; stroke-linejoin:round; stroke-width:4; stroke-opacity:1; fill:none\" points=\"1286.31,1410.9 1286.31,1392 \"/>\n",
       "<polyline clip-path=\"url(#clip460)\" style=\"stroke:#000000; stroke-linecap:round; stroke-linejoin:round; stroke-width:4; stroke-opacity:1; fill:none\" points=\"1641.79,1410.9 1641.79,1392 \"/>\n",
       "<polyline clip-path=\"url(#clip460)\" style=\"stroke:#000000; stroke-linecap:round; stroke-linejoin:round; stroke-width:4; stroke-opacity:1; fill:none\" points=\"1997.27,1410.9 1997.27,1392 \"/>\n",
       "<polyline clip-path=\"url(#clip460)\" style=\"stroke:#000000; stroke-linecap:round; stroke-linejoin:round; stroke-width:4; stroke-opacity:1; fill:none\" points=\"2352.76,1410.9 2352.76,1392 \"/>\n",
       "<path clip-path=\"url(#clip460)\" d=\"M219.866 1441.82 Q216.255 1441.82 214.426 1445.38 Q212.621 1448.92 212.621 1456.05 Q212.621 1463.16 214.426 1466.72 Q216.255 1470.26 219.866 1470.26 Q223.501 1470.26 225.306 1466.72 Q227.135 1463.16 227.135 1456.05 Q227.135 1448.92 225.306 1445.38 Q223.501 1441.82 219.866 1441.82 M219.866 1438.11 Q225.676 1438.11 228.732 1442.72 Q231.811 1447.3 231.811 1456.05 Q231.811 1464.78 228.732 1469.38 Q225.676 1473.97 219.866 1473.97 Q214.056 1473.97 210.977 1469.38 Q207.922 1464.78 207.922 1456.05 Q207.922 1447.3 210.977 1442.72 Q214.056 1438.11 219.866 1438.11 Z\" fill=\"#000000\" fill-rule=\"nonzero\" fill-opacity=\"1\" /><path clip-path=\"url(#clip460)\" d=\"M482.308 1470.32 Q485.664 1471.04 487.539 1473.31 Q489.438 1475.58 489.438 1478.91 Q489.438 1484.03 485.919 1486.83 Q482.401 1489.63 475.919 1489.63 Q473.743 1489.63 471.428 1489.19 Q469.137 1488.77 466.683 1487.91 L466.683 1483.4 Q468.628 1484.54 470.942 1485.11 Q473.257 1485.69 475.78 1485.69 Q480.178 1485.69 482.47 1483.96 Q484.785 1482.22 484.785 1478.91 Q484.785 1475.85 482.632 1474.14 Q480.502 1472.41 476.683 1472.41 L472.655 1472.41 L472.655 1468.56 L476.868 1468.56 Q480.317 1468.56 482.146 1467.2 Q483.975 1465.81 483.975 1463.22 Q483.975 1460.55 482.077 1459.14 Q480.202 1457.71 476.683 1457.71 Q474.762 1457.71 472.563 1458.12 Q470.364 1458.54 467.725 1459.42 L467.725 1455.25 Q470.387 1454.51 472.702 1454.14 Q475.04 1453.77 477.1 1453.77 Q482.424 1453.77 485.526 1456.2 Q488.627 1458.61 488.627 1462.73 Q488.627 1465.6 486.984 1467.59 Q485.34 1469.56 482.308 1470.32 Z\" fill=\"#000000\" fill-rule=\"nonzero\" fill-opacity=\"1\" /><path clip-path=\"url(#clip460)\" d=\"M498.303 1483.08 L503.188 1483.08 L503.188 1488.96 L498.303 1488.96 L498.303 1483.08 Z\" fill=\"#000000\" fill-rule=\"nonzero\" fill-opacity=\"1\" /><path clip-path=\"url(#clip460)\" d=\"M523.373 1457.48 Q519.762 1457.48 517.933 1461.04 Q516.127 1464.58 516.127 1471.71 Q516.127 1478.82 517.933 1482.38 Q519.762 1485.92 523.373 1485.92 Q527.007 1485.92 528.812 1482.38 Q530.641 1478.82 530.641 1471.71 Q530.641 1464.58 528.812 1461.04 Q527.007 1457.48 523.373 1457.48 M523.373 1453.77 Q529.183 1453.77 532.238 1458.38 Q535.317 1462.96 535.317 1471.71 Q535.317 1480.44 532.238 1485.04 Q529.183 1489.63 523.373 1489.63 Q517.562 1489.63 514.484 1485.04 Q511.428 1480.44 511.428 1471.71 Q511.428 1462.96 514.484 1458.38 Q517.562 1453.77 523.373 1453.77 Z\" fill=\"#000000\" fill-rule=\"nonzero\" fill-opacity=\"1\" /><path clip-path=\"url(#clip460)\" d=\"M553.534 1457.48 Q549.923 1457.48 548.095 1461.04 Q546.289 1464.58 546.289 1471.71 Q546.289 1478.82 548.095 1482.38 Q549.923 1485.92 553.534 1485.92 Q557.169 1485.92 558.974 1482.38 Q560.803 1478.82 560.803 1471.71 Q560.803 1464.58 558.974 1461.04 Q557.169 1457.48 553.534 1457.48 M553.534 1453.77 Q559.345 1453.77 562.4 1458.38 Q565.479 1462.96 565.479 1471.71 Q565.479 1480.44 562.4 1485.04 Q559.345 1489.63 553.534 1489.63 Q547.724 1489.63 544.646 1485.04 Q541.59 1480.44 541.59 1471.71 Q541.59 1462.96 544.646 1458.38 Q547.724 1453.77 553.534 1453.77 Z\" fill=\"#000000\" fill-rule=\"nonzero\" fill-opacity=\"1\" /><path clip-path=\"url(#clip460)\" d=\"M601.868 1463.49 L591.289 1474.12 L601.868 1484.7 L599.113 1487.5 L588.488 1476.87 L577.863 1487.5 L575.132 1484.7 L585.687 1474.12 L575.132 1463.49 L577.863 1460.69 L588.488 1471.32 L599.113 1460.69 L601.868 1463.49 Z\" fill=\"#000000\" fill-rule=\"nonzero\" fill-opacity=\"1\" /><path clip-path=\"url(#clip460)\" d=\"M614.229 1485.02 L621.867 1485.02 L621.867 1458.66 L613.557 1460.32 L613.557 1456.06 L621.821 1454.4 L626.497 1454.4 L626.497 1485.02 L634.136 1485.02 L634.136 1488.96 L614.229 1488.96 L614.229 1485.02 Z\" fill=\"#000000\" fill-rule=\"nonzero\" fill-opacity=\"1\" /><path clip-path=\"url(#clip460)\" d=\"M653.58 1457.48 Q649.969 1457.48 648.14 1461.04 Q646.335 1464.58 646.335 1471.71 Q646.335 1478.82 648.14 1482.38 Q649.969 1485.92 653.58 1485.92 Q657.214 1485.92 659.02 1482.38 Q660.849 1478.82 660.849 1471.71 Q660.849 1464.58 659.02 1461.04 Q657.214 1457.48 653.58 1457.48 M653.58 1453.77 Q659.39 1453.77 662.446 1458.38 Q665.525 1462.96 665.525 1471.71 Q665.525 1480.44 662.446 1485.04 Q659.39 1489.63 653.58 1489.63 Q647.77 1489.63 644.691 1485.04 Q641.636 1480.44 641.636 1471.71 Q641.636 1462.96 644.691 1458.38 Q647.77 1453.77 653.58 1453.77 Z\" fill=\"#000000\" fill-rule=\"nonzero\" fill-opacity=\"1\" /><path clip-path=\"url(#clip460)\" d=\"M678.22 1446.41 Q680.947 1446.99 682.47 1448.83 Q684.013 1450.68 684.013 1453.38 Q684.013 1457.54 681.154 1459.82 Q678.295 1462.09 673.029 1462.09 Q671.261 1462.09 669.38 1461.73 Q667.518 1461.4 665.525 1460.7 L665.525 1457.03 Q667.104 1457.95 668.985 1458.42 Q670.866 1458.89 672.916 1458.89 Q676.49 1458.89 678.352 1457.48 Q680.232 1456.07 680.232 1453.38 Q680.232 1450.9 678.483 1449.51 Q676.753 1448.1 673.65 1448.1 L670.377 1448.1 L670.377 1444.98 L673.8 1444.98 Q676.602 1444.98 678.088 1443.87 Q679.574 1442.74 679.574 1440.63 Q679.574 1438.47 678.032 1437.32 Q676.508 1436.16 673.65 1436.16 Q672.089 1436.16 670.302 1436.49 Q668.515 1436.83 666.371 1437.55 L666.371 1434.16 Q668.534 1433.56 670.415 1433.26 Q672.314 1432.96 673.988 1432.96 Q678.314 1432.96 680.834 1434.93 Q683.354 1436.89 683.354 1440.24 Q683.354 1442.57 682.019 1444.19 Q680.684 1445.79 678.22 1446.41 Z\" fill=\"#000000\" fill-rule=\"nonzero\" fill-opacity=\"1\" /><path clip-path=\"url(#clip460)\" d=\"M834.352 1469.81 Q831.204 1469.81 829.352 1471.97 Q827.523 1474.12 827.523 1477.87 Q827.523 1481.6 829.352 1483.77 Q831.204 1485.92 834.352 1485.92 Q837.5 1485.92 839.329 1483.77 Q841.181 1481.6 841.181 1477.87 Q841.181 1474.12 839.329 1471.97 Q837.5 1469.81 834.352 1469.81 M843.634 1455.16 L843.634 1459.42 Q841.875 1458.59 840.07 1458.15 Q838.287 1457.71 836.528 1457.71 Q831.898 1457.71 829.445 1460.83 Q827.014 1463.96 826.667 1470.28 Q828.033 1468.26 830.093 1467.2 Q832.153 1466.11 834.63 1466.11 Q839.838 1466.11 842.847 1469.28 Q845.88 1472.43 845.88 1477.87 Q845.88 1483.19 842.732 1486.41 Q839.584 1489.63 834.352 1489.63 Q828.357 1489.63 825.186 1485.04 Q822.014 1480.44 822.014 1471.71 Q822.014 1463.52 825.903 1458.66 Q829.792 1453.77 836.343 1453.77 Q838.102 1453.77 839.885 1454.12 Q841.69 1454.47 843.634 1455.16 Z\" fill=\"#000000\" fill-rule=\"nonzero\" fill-opacity=\"1\" /><path clip-path=\"url(#clip460)\" d=\"M853.935 1483.08 L858.82 1483.08 L858.82 1488.96 L853.935 1488.96 L853.935 1483.08 Z\" fill=\"#000000\" fill-rule=\"nonzero\" fill-opacity=\"1\" /><path clip-path=\"url(#clip460)\" d=\"M879.005 1457.48 Q875.394 1457.48 873.565 1461.04 Q871.759 1464.58 871.759 1471.71 Q871.759 1478.82 873.565 1482.38 Q875.394 1485.92 879.005 1485.92 Q882.639 1485.92 884.444 1482.38 Q886.273 1478.82 886.273 1471.71 Q886.273 1464.58 884.444 1461.04 Q882.639 1457.48 879.005 1457.48 M879.005 1453.77 Q884.815 1453.77 887.87 1458.38 Q890.949 1462.96 890.949 1471.71 Q890.949 1480.44 887.87 1485.04 Q884.815 1489.63 879.005 1489.63 Q873.195 1489.63 870.116 1485.04 Q867.06 1480.44 867.06 1471.71 Q867.06 1462.96 870.116 1458.38 Q873.195 1453.77 879.005 1453.77 Z\" fill=\"#000000\" fill-rule=\"nonzero\" fill-opacity=\"1\" /><path clip-path=\"url(#clip460)\" d=\"M909.167 1457.48 Q905.555 1457.48 903.727 1461.04 Q901.921 1464.58 901.921 1471.71 Q901.921 1478.82 903.727 1482.38 Q905.555 1485.92 909.167 1485.92 Q912.801 1485.92 914.606 1482.38 Q916.435 1478.82 916.435 1471.71 Q916.435 1464.58 914.606 1461.04 Q912.801 1457.48 909.167 1457.48 M909.167 1453.77 Q914.977 1453.77 918.032 1458.38 Q921.111 1462.96 921.111 1471.71 Q921.111 1480.44 918.032 1485.04 Q914.977 1489.63 909.167 1489.63 Q903.356 1489.63 900.278 1485.04 Q897.222 1480.44 897.222 1471.71 Q897.222 1462.96 900.278 1458.38 Q903.356 1453.77 909.167 1453.77 Z\" fill=\"#000000\" fill-rule=\"nonzero\" fill-opacity=\"1\" /><path clip-path=\"url(#clip460)\" d=\"M957.5 1463.49 L946.921 1474.12 L957.5 1484.7 L954.745 1487.5 L944.12 1476.87 L933.495 1487.5 L930.764 1484.7 L941.319 1474.12 L930.764 1463.49 L933.495 1460.69 L944.12 1471.32 L954.745 1460.69 L957.5 1463.49 Z\" fill=\"#000000\" fill-rule=\"nonzero\" fill-opacity=\"1\" /><path clip-path=\"url(#clip460)\" d=\"M969.861 1485.02 L977.5 1485.02 L977.5 1458.66 L969.189 1460.32 L969.189 1456.06 L977.453 1454.4 L982.129 1454.4 L982.129 1485.02 L989.768 1485.02 L989.768 1488.96 L969.861 1488.96 L969.861 1485.02 Z\" fill=\"#000000\" fill-rule=\"nonzero\" fill-opacity=\"1\" /><path clip-path=\"url(#clip460)\" d=\"M1009.21 1457.48 Q1005.6 1457.48 1003.77 1461.04 Q1001.97 1464.58 1001.97 1471.71 Q1001.97 1478.82 1003.77 1482.38 Q1005.6 1485.92 1009.21 1485.92 Q1012.85 1485.92 1014.65 1482.38 Q1016.48 1478.82 1016.48 1471.71 Q1016.48 1464.58 1014.65 1461.04 Q1012.85 1457.48 1009.21 1457.48 M1009.21 1453.77 Q1015.02 1453.77 1018.08 1458.38 Q1021.16 1462.96 1021.16 1471.71 Q1021.16 1480.44 1018.08 1485.04 Q1015.02 1489.63 1009.21 1489.63 Q1003.4 1489.63 1000.32 1485.04 Q997.268 1480.44 997.268 1471.71 Q997.268 1462.96 1000.32 1458.38 Q1003.4 1453.77 1009.21 1453.77 Z\" fill=\"#000000\" fill-rule=\"nonzero\" fill-opacity=\"1\" /><path clip-path=\"url(#clip460)\" d=\"M1033.85 1446.41 Q1036.58 1446.99 1038.1 1448.83 Q1039.64 1450.68 1039.64 1453.38 Q1039.64 1457.54 1036.79 1459.82 Q1033.93 1462.09 1028.66 1462.09 Q1026.89 1462.09 1025.01 1461.73 Q1023.15 1461.4 1021.16 1460.7 L1021.16 1457.03 Q1022.74 1457.95 1024.62 1458.42 Q1026.5 1458.89 1028.55 1458.89 Q1032.12 1458.89 1033.98 1457.48 Q1035.86 1456.07 1035.86 1453.38 Q1035.86 1450.9 1034.12 1449.51 Q1032.38 1448.1 1029.28 1448.1 L1026.01 1448.1 L1026.01 1444.98 L1029.43 1444.98 Q1032.23 1444.98 1033.72 1443.87 Q1035.21 1442.74 1035.21 1440.63 Q1035.21 1438.47 1033.66 1437.32 Q1032.14 1436.16 1029.28 1436.16 Q1027.72 1436.16 1025.93 1436.49 Q1024.15 1436.83 1022 1437.55 L1022 1434.16 Q1024.17 1433.56 1026.05 1433.26 Q1027.95 1432.96 1029.62 1432.96 Q1033.95 1432.96 1036.47 1434.93 Q1038.99 1436.89 1038.99 1440.24 Q1038.99 1442.57 1037.65 1444.19 Q1036.32 1445.79 1033.85 1446.41 Z\" fill=\"#000000\" fill-rule=\"nonzero\" fill-opacity=\"1\" /><path clip-path=\"url(#clip460)\" d=\"M1179.56 1488.24 L1179.56 1483.98 Q1181.32 1484.81 1183.12 1485.25 Q1184.93 1485.69 1186.66 1485.69 Q1191.29 1485.69 1193.72 1482.59 Q1196.18 1479.47 1196.52 1473.12 Q1195.18 1475.11 1193.12 1476.18 Q1191.06 1477.24 1188.56 1477.24 Q1183.38 1477.24 1180.34 1474.12 Q1177.33 1470.97 1177.33 1465.53 Q1177.33 1460.21 1180.48 1456.99 Q1183.63 1453.77 1188.86 1453.77 Q1194.86 1453.77 1198 1458.38 Q1201.18 1462.96 1201.18 1471.71 Q1201.18 1479.88 1197.29 1484.77 Q1193.42 1489.63 1186.87 1489.63 Q1185.11 1489.63 1183.31 1489.28 Q1181.5 1488.93 1179.56 1488.24 M1188.86 1473.59 Q1192.01 1473.59 1193.84 1471.43 Q1195.69 1469.28 1195.69 1465.53 Q1195.69 1461.8 1193.84 1459.65 Q1192.01 1457.48 1188.86 1457.48 Q1185.71 1457.48 1183.86 1459.65 Q1182.03 1461.8 1182.03 1465.53 Q1182.03 1469.28 1183.86 1471.43 Q1185.71 1473.59 1188.86 1473.59 Z\" fill=\"#000000\" fill-rule=\"nonzero\" fill-opacity=\"1\" /><path clip-path=\"url(#clip460)\" d=\"M1209.58 1483.08 L1214.46 1483.08 L1214.46 1488.96 L1209.58 1488.96 L1209.58 1483.08 Z\" fill=\"#000000\" fill-rule=\"nonzero\" fill-opacity=\"1\" /><path clip-path=\"url(#clip460)\" d=\"M1234.65 1457.48 Q1231.04 1457.48 1229.21 1461.04 Q1227.4 1464.58 1227.4 1471.71 Q1227.4 1478.82 1229.21 1482.38 Q1231.04 1485.92 1234.65 1485.92 Q1238.28 1485.92 1240.09 1482.38 Q1241.92 1478.82 1241.92 1471.71 Q1241.92 1464.58 1240.09 1461.04 Q1238.28 1457.48 1234.65 1457.48 M1234.65 1453.77 Q1240.46 1453.77 1243.51 1458.38 Q1246.59 1462.96 1246.59 1471.71 Q1246.59 1480.44 1243.51 1485.04 Q1240.46 1489.63 1234.65 1489.63 Q1228.84 1489.63 1225.76 1485.04 Q1222.7 1480.44 1222.7 1471.71 Q1222.7 1462.96 1225.76 1458.38 Q1228.84 1453.77 1234.65 1453.77 Z\" fill=\"#000000\" fill-rule=\"nonzero\" fill-opacity=\"1\" /><path clip-path=\"url(#clip460)\" d=\"M1264.81 1457.48 Q1261.2 1457.48 1259.37 1461.04 Q1257.56 1464.58 1257.56 1471.71 Q1257.56 1478.82 1259.37 1482.38 Q1261.2 1485.92 1264.81 1485.92 Q1268.44 1485.92 1270.25 1482.38 Q1272.08 1478.82 1272.08 1471.71 Q1272.08 1464.58 1270.25 1461.04 Q1268.44 1457.48 1264.81 1457.48 M1264.81 1453.77 Q1270.62 1453.77 1273.68 1458.38 Q1276.75 1462.96 1276.75 1471.71 Q1276.75 1480.44 1273.68 1485.04 Q1270.62 1489.63 1264.81 1489.63 Q1259 1489.63 1255.92 1485.04 Q1252.87 1480.44 1252.87 1471.71 Q1252.87 1462.96 1255.92 1458.38 Q1259 1453.77 1264.81 1453.77 Z\" fill=\"#000000\" fill-rule=\"nonzero\" fill-opacity=\"1\" /><path clip-path=\"url(#clip460)\" d=\"M1313.14 1463.49 L1302.56 1474.12 L1313.14 1484.7 L1310.39 1487.5 L1299.76 1476.87 L1289.14 1487.5 L1286.41 1484.7 L1296.96 1474.12 L1286.41 1463.49 L1289.14 1460.69 L1299.76 1471.32 L1310.39 1460.69 L1313.14 1463.49 Z\" fill=\"#000000\" fill-rule=\"nonzero\" fill-opacity=\"1\" /><path clip-path=\"url(#clip460)\" d=\"M1325.5 1485.02 L1333.14 1485.02 L1333.14 1458.66 L1324.83 1460.32 L1324.83 1456.06 L1333.1 1454.4 L1337.77 1454.4 L1337.77 1485.02 L1345.41 1485.02 L1345.41 1488.96 L1325.5 1488.96 L1325.5 1485.02 Z\" fill=\"#000000\" fill-rule=\"nonzero\" fill-opacity=\"1\" /><path clip-path=\"url(#clip460)\" d=\"M1364.86 1457.48 Q1361.24 1457.48 1359.42 1461.04 Q1357.61 1464.58 1357.61 1471.71 Q1357.61 1478.82 1359.42 1482.38 Q1361.24 1485.92 1364.86 1485.92 Q1368.49 1485.92 1370.3 1482.38 Q1372.12 1478.82 1372.12 1471.71 Q1372.12 1464.58 1370.3 1461.04 Q1368.49 1457.48 1364.86 1457.48 M1364.86 1453.77 Q1370.67 1453.77 1373.72 1458.38 Q1376.8 1462.96 1376.8 1471.71 Q1376.8 1480.44 1373.72 1485.04 Q1370.67 1489.63 1364.86 1489.63 Q1359.05 1489.63 1355.97 1485.04 Q1352.91 1480.44 1352.91 1471.71 Q1352.91 1462.96 1355.97 1458.38 Q1359.05 1453.77 1364.86 1453.77 Z\" fill=\"#000000\" fill-rule=\"nonzero\" fill-opacity=\"1\" /><path clip-path=\"url(#clip460)\" d=\"M1389.5 1446.41 Q1392.22 1446.99 1393.75 1448.83 Q1395.29 1450.68 1395.29 1453.38 Q1395.29 1457.54 1392.43 1459.82 Q1389.57 1462.09 1384.3 1462.09 Q1382.54 1462.09 1380.66 1461.73 Q1378.79 1461.4 1376.8 1460.7 L1376.8 1457.03 Q1378.38 1457.95 1380.26 1458.42 Q1382.14 1458.89 1384.19 1458.89 Q1387.77 1458.89 1389.63 1457.48 Q1391.51 1456.07 1391.51 1453.38 Q1391.51 1450.9 1389.76 1449.51 Q1388.03 1448.1 1384.93 1448.1 L1381.65 1448.1 L1381.65 1444.98 L1385.08 1444.98 Q1387.88 1444.98 1389.36 1443.87 Q1390.85 1442.74 1390.85 1440.63 Q1390.85 1438.47 1389.31 1437.32 Q1387.78 1436.16 1384.93 1436.16 Q1383.36 1436.16 1381.58 1436.49 Q1379.79 1436.83 1377.65 1437.55 L1377.65 1434.16 Q1379.81 1433.56 1381.69 1433.26 Q1383.59 1432.96 1385.26 1432.96 Q1389.59 1432.96 1392.11 1434.93 Q1394.63 1436.89 1394.63 1440.24 Q1394.63 1442.57 1393.29 1444.19 Q1391.96 1445.79 1389.5 1446.41 Z\" fill=\"#000000\" fill-rule=\"nonzero\" fill-opacity=\"1\" /><path clip-path=\"url(#clip460)\" d=\"M1533.61 1485.02 L1541.25 1485.02 L1541.25 1458.66 L1532.94 1460.32 L1532.94 1456.06 L1541.2 1454.4 L1545.88 1454.4 L1545.88 1485.02 L1553.52 1485.02 L1553.52 1488.96 L1533.61 1488.96 L1533.61 1485.02 Z\" fill=\"#000000\" fill-rule=\"nonzero\" fill-opacity=\"1\" /><path clip-path=\"url(#clip460)\" d=\"M1562.96 1483.08 L1567.85 1483.08 L1567.85 1488.96 L1562.96 1488.96 L1562.96 1483.08 Z\" fill=\"#000000\" fill-rule=\"nonzero\" fill-opacity=\"1\" /><path clip-path=\"url(#clip460)\" d=\"M1582.06 1485.02 L1598.38 1485.02 L1598.38 1488.96 L1576.43 1488.96 L1576.43 1485.02 Q1579.1 1482.27 1583.68 1477.64 Q1588.29 1472.98 1589.47 1471.64 Q1591.71 1469.12 1592.59 1467.38 Q1593.49 1465.62 1593.49 1463.93 Q1593.49 1461.18 1591.55 1459.44 Q1589.63 1457.71 1586.53 1457.71 Q1584.33 1457.71 1581.87 1458.47 Q1579.44 1459.23 1576.67 1460.79 L1576.67 1456.06 Q1579.49 1454.93 1581.94 1454.35 Q1584.4 1453.77 1586.43 1453.77 Q1591.8 1453.77 1595 1456.46 Q1598.19 1459.14 1598.19 1463.63 Q1598.19 1465.76 1597.38 1467.68 Q1596.6 1469.58 1594.49 1472.17 Q1593.91 1472.85 1590.81 1476.06 Q1587.71 1479.26 1582.06 1485.02 Z\" fill=\"#000000\" fill-rule=\"nonzero\" fill-opacity=\"1\" /><path clip-path=\"url(#clip460)\" d=\"M1618.19 1457.48 Q1614.58 1457.48 1612.75 1461.04 Q1610.95 1464.58 1610.95 1471.71 Q1610.95 1478.82 1612.75 1482.38 Q1614.58 1485.92 1618.19 1485.92 Q1621.83 1485.92 1623.63 1482.38 Q1625.46 1478.82 1625.46 1471.71 Q1625.46 1464.58 1623.63 1461.04 Q1621.83 1457.48 1618.19 1457.48 M1618.19 1453.77 Q1624 1453.77 1627.06 1458.38 Q1630.14 1462.96 1630.14 1471.71 Q1630.14 1480.44 1627.06 1485.04 Q1624 1489.63 1618.19 1489.63 Q1612.38 1489.63 1609.3 1485.04 Q1606.25 1480.44 1606.25 1471.71 Q1606.25 1462.96 1609.3 1458.38 Q1612.38 1453.77 1618.19 1453.77 Z\" fill=\"#000000\" fill-rule=\"nonzero\" fill-opacity=\"1\" /><path clip-path=\"url(#clip460)\" d=\"M1666.53 1463.49 L1655.95 1474.12 L1666.53 1484.7 L1663.77 1487.5 L1653.15 1476.87 L1642.52 1487.5 L1639.79 1484.7 L1650.35 1474.12 L1639.79 1463.49 L1642.52 1460.69 L1653.15 1471.32 L1663.77 1460.69 L1666.53 1463.49 Z\" fill=\"#000000\" fill-rule=\"nonzero\" fill-opacity=\"1\" /><path clip-path=\"url(#clip460)\" d=\"M1678.89 1485.02 L1686.53 1485.02 L1686.53 1458.66 L1678.22 1460.32 L1678.22 1456.06 L1686.48 1454.4 L1691.16 1454.4 L1691.16 1485.02 L1698.79 1485.02 L1698.79 1488.96 L1678.89 1488.96 L1678.89 1485.02 Z\" fill=\"#000000\" fill-rule=\"nonzero\" fill-opacity=\"1\" /><path clip-path=\"url(#clip460)\" d=\"M1718.24 1457.48 Q1714.63 1457.48 1712.8 1461.04 Q1710.99 1464.58 1710.99 1471.71 Q1710.99 1478.82 1712.8 1482.38 Q1714.63 1485.92 1718.24 1485.92 Q1721.87 1485.92 1723.68 1482.38 Q1725.51 1478.82 1725.51 1471.71 Q1725.51 1464.58 1723.68 1461.04 Q1721.87 1457.48 1718.24 1457.48 M1718.24 1453.77 Q1724.05 1453.77 1727.1 1458.38 Q1730.18 1462.96 1730.18 1471.71 Q1730.18 1480.44 1727.1 1485.04 Q1724.05 1489.63 1718.24 1489.63 Q1712.43 1489.63 1709.35 1485.04 Q1706.29 1480.44 1706.29 1471.71 Q1706.29 1462.96 1709.35 1458.38 Q1712.43 1453.77 1718.24 1453.77 Z\" fill=\"#000000\" fill-rule=\"nonzero\" fill-opacity=\"1\" /><path clip-path=\"url(#clip460)\" d=\"M1742.86 1436.78 L1733.27 1451.77 L1742.86 1451.77 L1742.86 1436.78 M1741.86 1433.47 L1746.64 1433.47 L1746.64 1451.77 L1750.65 1451.77 L1750.65 1454.93 L1746.64 1454.93 L1746.64 1461.55 L1742.86 1461.55 L1742.86 1454.93 L1730.18 1454.93 L1730.18 1451.26 L1741.86 1433.47 Z\" fill=\"#000000\" fill-rule=\"nonzero\" fill-opacity=\"1\" /><path clip-path=\"url(#clip460)\" d=\"M1889.09 1485.02 L1896.73 1485.02 L1896.73 1458.66 L1888.42 1460.32 L1888.42 1456.06 L1896.68 1454.4 L1901.36 1454.4 L1901.36 1485.02 L1909 1485.02 L1909 1488.96 L1889.09 1488.96 L1889.09 1485.02 Z\" fill=\"#000000\" fill-rule=\"nonzero\" fill-opacity=\"1\" /><path clip-path=\"url(#clip460)\" d=\"M1918.44 1483.08 L1923.33 1483.08 L1923.33 1488.96 L1918.44 1488.96 L1918.44 1483.08 Z\" fill=\"#000000\" fill-rule=\"nonzero\" fill-opacity=\"1\" /><path clip-path=\"url(#clip460)\" d=\"M1933.56 1454.4 L1951.92 1454.4 L1951.92 1458.33 L1937.84 1458.33 L1937.84 1466.8 Q1938.86 1466.46 1939.88 1466.29 Q1940.9 1466.11 1941.92 1466.11 Q1947.7 1466.11 1951.08 1469.28 Q1954.46 1472.45 1954.46 1477.87 Q1954.46 1483.45 1950.99 1486.55 Q1947.52 1489.63 1941.2 1489.63 Q1939.02 1489.63 1936.75 1489.26 Q1934.51 1488.89 1932.1 1488.15 L1932.1 1483.45 Q1934.18 1484.58 1936.41 1485.14 Q1938.63 1485.69 1941.11 1485.69 Q1945.11 1485.69 1947.45 1483.59 Q1949.79 1481.48 1949.79 1477.87 Q1949.79 1474.26 1947.45 1472.15 Q1945.11 1470.04 1941.11 1470.04 Q1939.23 1470.04 1937.36 1470.46 Q1935.5 1470.88 1933.56 1471.76 L1933.56 1454.4 Z\" fill=\"#000000\" fill-rule=\"nonzero\" fill-opacity=\"1\" /><path clip-path=\"url(#clip460)\" d=\"M1973.67 1457.48 Q1970.06 1457.48 1968.24 1461.04 Q1966.43 1464.58 1966.43 1471.71 Q1966.43 1478.82 1968.24 1482.38 Q1970.06 1485.92 1973.67 1485.92 Q1977.31 1485.92 1979.11 1482.38 Q1980.94 1478.82 1980.94 1471.71 Q1980.94 1464.58 1979.11 1461.04 Q1977.31 1457.48 1973.67 1457.48 M1973.67 1453.77 Q1979.49 1453.77 1982.54 1458.38 Q1985.62 1462.96 1985.62 1471.71 Q1985.62 1480.44 1982.54 1485.04 Q1979.49 1489.63 1973.67 1489.63 Q1967.86 1489.63 1964.79 1485.04 Q1961.73 1480.44 1961.73 1471.71 Q1961.73 1462.96 1964.79 1458.38 Q1967.86 1453.77 1973.67 1453.77 Z\" fill=\"#000000\" fill-rule=\"nonzero\" fill-opacity=\"1\" /><path clip-path=\"url(#clip460)\" d=\"M2022.01 1463.49 L2011.43 1474.12 L2022.01 1484.7 L2019.25 1487.5 L2008.63 1476.87 L1998 1487.5 L1995.27 1484.7 L2005.83 1474.12 L1995.27 1463.49 L1998 1460.69 L2008.63 1471.32 L2019.25 1460.69 L2022.01 1463.49 Z\" fill=\"#000000\" fill-rule=\"nonzero\" fill-opacity=\"1\" /><path clip-path=\"url(#clip460)\" d=\"M2034.37 1485.02 L2042.01 1485.02 L2042.01 1458.66 L2033.7 1460.32 L2033.7 1456.06 L2041.96 1454.4 L2046.64 1454.4 L2046.64 1485.02 L2054.28 1485.02 L2054.28 1488.96 L2034.37 1488.96 L2034.37 1485.02 Z\" fill=\"#000000\" fill-rule=\"nonzero\" fill-opacity=\"1\" /><path clip-path=\"url(#clip460)\" d=\"M2073.72 1457.48 Q2070.11 1457.48 2068.28 1461.04 Q2066.48 1464.58 2066.48 1471.71 Q2066.48 1478.82 2068.28 1482.38 Q2070.11 1485.92 2073.72 1485.92 Q2077.35 1485.92 2079.16 1482.38 Q2080.99 1478.82 2080.99 1471.71 Q2080.99 1464.58 2079.16 1461.04 Q2077.35 1457.48 2073.72 1457.48 M2073.72 1453.77 Q2079.53 1453.77 2082.59 1458.38 Q2085.67 1462.96 2085.67 1471.71 Q2085.67 1480.44 2082.59 1485.04 Q2079.53 1489.63 2073.72 1489.63 Q2067.91 1489.63 2064.83 1485.04 Q2061.78 1480.44 2061.78 1471.71 Q2061.78 1462.96 2064.83 1458.38 Q2067.91 1453.77 2073.72 1453.77 Z\" fill=\"#000000\" fill-rule=\"nonzero\" fill-opacity=\"1\" /><path clip-path=\"url(#clip460)\" d=\"M2098.34 1436.78 L2088.75 1451.77 L2098.34 1451.77 L2098.34 1436.78 M2097.34 1433.47 L2102.12 1433.47 L2102.12 1451.77 L2106.13 1451.77 L2106.13 1454.93 L2102.12 1454.93 L2102.12 1461.55 L2098.34 1461.55 L2098.34 1454.93 L2085.67 1454.93 L2085.67 1451.26 L2097.34 1433.47 Z\" fill=\"#000000\" fill-rule=\"nonzero\" fill-opacity=\"1\" /><path clip-path=\"url(#clip460)\" d=\"M2244.57 1485.02 L2252.21 1485.02 L2252.21 1458.66 L2243.9 1460.32 L2243.9 1456.06 L2252.17 1454.4 L2256.84 1454.4 L2256.84 1485.02 L2264.48 1485.02 L2264.48 1488.96 L2244.57 1488.96 L2244.57 1485.02 Z\" fill=\"#000000\" fill-rule=\"nonzero\" fill-opacity=\"1\" /><path clip-path=\"url(#clip460)\" d=\"M2273.93 1483.08 L2278.81 1483.08 L2278.81 1488.96 L2273.93 1488.96 L2273.93 1483.08 Z\" fill=\"#000000\" fill-rule=\"nonzero\" fill-opacity=\"1\" /><path clip-path=\"url(#clip460)\" d=\"M2298.99 1472.54 Q2295.66 1472.54 2293.74 1474.33 Q2291.84 1476.11 2291.84 1479.23 Q2291.84 1482.36 2293.74 1484.14 Q2295.66 1485.92 2298.99 1485.92 Q2302.33 1485.92 2304.25 1484.14 Q2306.17 1482.34 2306.17 1479.23 Q2306.17 1476.11 2304.25 1474.33 Q2302.35 1472.54 2298.99 1472.54 M2294.32 1470.55 Q2291.31 1469.81 2289.62 1467.75 Q2287.95 1465.69 2287.95 1462.73 Q2287.95 1458.59 2290.89 1456.18 Q2293.86 1453.77 2298.99 1453.77 Q2304.16 1453.77 2307.1 1456.18 Q2310.04 1458.59 2310.04 1462.73 Q2310.04 1465.69 2308.35 1467.75 Q2306.68 1469.81 2303.69 1470.55 Q2307.07 1471.34 2308.95 1473.63 Q2310.85 1475.92 2310.85 1479.23 Q2310.85 1484.26 2307.77 1486.94 Q2304.71 1489.63 2298.99 1489.63 Q2293.28 1489.63 2290.2 1486.94 Q2287.14 1484.26 2287.14 1479.23 Q2287.14 1475.92 2289.04 1473.63 Q2290.94 1471.34 2294.32 1470.55 M2292.61 1463.17 Q2292.61 1465.85 2294.27 1467.36 Q2295.96 1468.86 2298.99 1468.86 Q2302 1468.86 2303.69 1467.36 Q2305.41 1465.85 2305.41 1463.17 Q2305.41 1460.48 2303.69 1458.98 Q2302 1457.48 2298.99 1457.48 Q2295.96 1457.48 2294.27 1458.98 Q2292.61 1460.48 2292.61 1463.17 Z\" fill=\"#000000\" fill-rule=\"nonzero\" fill-opacity=\"1\" /><path clip-path=\"url(#clip460)\" d=\"M2329.16 1457.48 Q2325.55 1457.48 2323.72 1461.04 Q2321.91 1464.58 2321.91 1471.71 Q2321.91 1478.82 2323.72 1482.38 Q2325.55 1485.92 2329.16 1485.92 Q2332.79 1485.92 2334.6 1482.38 Q2336.42 1478.82 2336.42 1471.71 Q2336.42 1464.58 2334.6 1461.04 Q2332.79 1457.48 2329.16 1457.48 M2329.16 1453.77 Q2334.97 1453.77 2338.02 1458.38 Q2341.1 1462.96 2341.1 1471.71 Q2341.1 1480.44 2338.02 1485.04 Q2334.97 1489.63 2329.16 1489.63 Q2323.35 1489.63 2320.27 1485.04 Q2317.21 1480.44 2317.21 1471.71 Q2317.21 1462.96 2320.27 1458.38 Q2323.35 1453.77 2329.16 1453.77 Z\" fill=\"#000000\" fill-rule=\"nonzero\" fill-opacity=\"1\" /><path clip-path=\"url(#clip460)\" d=\"M2377.49 1463.49 L2366.91 1474.12 L2377.49 1484.7 L2374.73 1487.5 L2364.11 1476.87 L2353.49 1487.5 L2350.75 1484.7 L2361.31 1474.12 L2350.75 1463.49 L2353.49 1460.69 L2364.11 1471.32 L2374.73 1460.69 L2377.49 1463.49 Z\" fill=\"#000000\" fill-rule=\"nonzero\" fill-opacity=\"1\" /><path clip-path=\"url(#clip460)\" d=\"M2389.85 1485.02 L2397.49 1485.02 L2397.49 1458.66 L2389.18 1460.32 L2389.18 1456.06 L2397.44 1454.4 L2402.12 1454.4 L2402.12 1485.02 L2409.76 1485.02 L2409.76 1488.96 L2389.85 1488.96 L2389.85 1485.02 Z\" fill=\"#000000\" fill-rule=\"nonzero\" fill-opacity=\"1\" /><path clip-path=\"url(#clip460)\" d=\"M2429.2 1457.48 Q2425.59 1457.48 2423.76 1461.04 Q2421.96 1464.58 2421.96 1471.71 Q2421.96 1478.82 2423.76 1482.38 Q2425.59 1485.92 2429.2 1485.92 Q2432.84 1485.92 2434.64 1482.38 Q2436.47 1478.82 2436.47 1471.71 Q2436.47 1464.58 2434.64 1461.04 Q2432.84 1457.48 2429.2 1457.48 M2429.2 1453.77 Q2435.01 1453.77 2438.07 1458.38 Q2441.15 1462.96 2441.15 1471.71 Q2441.15 1480.44 2438.07 1485.04 Q2435.01 1489.63 2429.2 1489.63 Q2423.39 1489.63 2420.31 1485.04 Q2417.26 1480.44 2417.26 1471.71 Q2417.26 1462.96 2420.31 1458.38 Q2423.39 1453.77 2429.2 1453.77 Z\" fill=\"#000000\" fill-rule=\"nonzero\" fill-opacity=\"1\" /><path clip-path=\"url(#clip460)\" d=\"M2453.82 1436.78 L2444.23 1451.77 L2453.82 1451.77 L2453.82 1436.78 M2452.83 1433.47 L2457.6 1433.47 L2457.6 1451.77 L2461.61 1451.77 L2461.61 1454.93 L2457.6 1454.93 L2457.6 1461.55 L2453.82 1461.55 L2453.82 1454.93 L2441.15 1454.93 L2441.15 1451.26 L2452.83 1433.47 Z\" fill=\"#000000\" fill-rule=\"nonzero\" fill-opacity=\"1\" /><path clip-path=\"url(#clip460)\" d=\"M1285.37 1528.42 L1285.37 1538.54 L1297.44 1538.54 L1297.44 1543.09 L1285.37 1543.09 L1285.37 1562.44 Q1285.37 1566.8 1286.55 1568.04 Q1287.76 1569.28 1291.42 1569.28 L1297.44 1569.28 L1297.44 1574.19 L1291.42 1574.19 Q1284.64 1574.19 1282.06 1571.67 Q1279.48 1569.12 1279.48 1562.44 L1279.48 1543.09 L1275.19 1543.09 L1275.19 1538.54 L1279.48 1538.54 L1279.48 1528.42 L1285.37 1528.42 Z\" fill=\"#000000\" fill-rule=\"nonzero\" fill-opacity=\"1\" /><polyline clip-path=\"url(#clip460)\" style=\"stroke:#000000; stroke-linecap:round; stroke-linejoin:round; stroke-width:4; stroke-opacity:1; fill:none\" points=\"219.866,1410.9 219.866,47.2441 \"/>\n",
       "<polyline clip-path=\"url(#clip460)\" style=\"stroke:#000000; stroke-linecap:round; stroke-linejoin:round; stroke-width:4; stroke-opacity:1; fill:none\" points=\"219.866,1149.5 238.764,1149.5 \"/>\n",
       "<polyline clip-path=\"url(#clip460)\" style=\"stroke:#000000; stroke-linecap:round; stroke-linejoin:round; stroke-width:4; stroke-opacity:1; fill:none\" points=\"219.866,883.583 238.764,883.583 \"/>\n",
       "<polyline clip-path=\"url(#clip460)\" style=\"stroke:#000000; stroke-linecap:round; stroke-linejoin:round; stroke-width:4; stroke-opacity:1; fill:none\" points=\"219.866,617.668 238.764,617.668 \"/>\n",
       "<polyline clip-path=\"url(#clip460)\" style=\"stroke:#000000; stroke-linecap:round; stroke-linejoin:round; stroke-width:4; stroke-opacity:1; fill:none\" points=\"219.866,351.753 238.764,351.753 \"/>\n",
       "<polyline clip-path=\"url(#clip460)\" style=\"stroke:#000000; stroke-linecap:round; stroke-linejoin:round; stroke-width:4; stroke-opacity:1; fill:none\" points=\"219.866,85.838 238.764,85.838 \"/>\n",
       "<path clip-path=\"url(#clip460)\" d=\"M128.288 1135.3 Q124.677 1135.3 122.848 1138.86 Q121.043 1142.4 121.043 1149.53 Q121.043 1156.64 122.848 1160.2 Q124.677 1163.75 128.288 1163.75 Q131.922 1163.75 133.728 1160.2 Q135.556 1156.64 135.556 1149.53 Q135.556 1142.4 133.728 1138.86 Q131.922 1135.3 128.288 1135.3 M128.288 1131.59 Q134.098 1131.59 137.154 1136.2 Q140.232 1140.78 140.232 1149.53 Q140.232 1158.26 137.154 1162.87 Q134.098 1167.45 128.288 1167.45 Q122.478 1167.45 119.399 1162.87 Q116.343 1158.26 116.343 1149.53 Q116.343 1140.78 119.399 1136.2 Q122.478 1131.59 128.288 1131.59 Z\" fill=\"#000000\" fill-rule=\"nonzero\" fill-opacity=\"1\" /><path clip-path=\"url(#clip460)\" d=\"M148.45 1160.9 L153.334 1160.9 L153.334 1166.78 L148.45 1166.78 L148.45 1160.9 Z\" fill=\"#000000\" fill-rule=\"nonzero\" fill-opacity=\"1\" /><path clip-path=\"url(#clip460)\" d=\"M167.547 1162.84 L183.866 1162.84 L183.866 1166.78 L161.922 1166.78 L161.922 1162.84 Q164.584 1160.09 169.167 1155.46 Q173.774 1150.81 174.954 1149.46 Q177.2 1146.94 178.079 1145.2 Q178.982 1143.44 178.982 1141.75 Q178.982 1139 177.038 1137.26 Q175.116 1135.53 172.014 1135.53 Q169.815 1135.53 167.362 1136.29 Q164.931 1137.06 162.153 1138.61 L162.153 1133.88 Q164.977 1132.75 167.431 1132.17 Q169.885 1131.59 171.922 1131.59 Q177.292 1131.59 180.487 1134.28 Q183.681 1136.96 183.681 1141.45 Q183.681 1143.58 182.871 1145.5 Q182.084 1147.4 179.977 1150 Q179.399 1150.67 176.297 1153.88 Q173.195 1157.08 167.547 1162.84 Z\" fill=\"#000000\" fill-rule=\"nonzero\" fill-opacity=\"1\" /><path clip-path=\"url(#clip460)\" d=\"M126.205 869.381 Q122.593 869.381 120.765 872.946 Q118.959 876.488 118.959 883.617 Q118.959 890.724 120.765 894.289 Q122.593 897.83 126.205 897.83 Q129.839 897.83 131.644 894.289 Q133.473 890.724 133.473 883.617 Q133.473 876.488 131.644 872.946 Q129.839 869.381 126.205 869.381 M126.205 865.678 Q132.015 865.678 135.07 870.284 Q138.149 874.868 138.149 883.617 Q138.149 892.344 135.07 896.951 Q132.015 901.534 126.205 901.534 Q120.394 901.534 117.316 896.951 Q114.26 892.344 114.26 883.617 Q114.26 874.868 117.316 870.284 Q120.394 865.678 126.205 865.678 Z\" fill=\"#000000\" fill-rule=\"nonzero\" fill-opacity=\"1\" /><path clip-path=\"url(#clip460)\" d=\"M146.366 894.983 L151.251 894.983 L151.251 900.863 L146.366 900.863 L146.366 894.983 Z\" fill=\"#000000\" fill-rule=\"nonzero\" fill-opacity=\"1\" /><path clip-path=\"url(#clip460)\" d=\"M174.283 870.377 L162.477 888.826 L174.283 888.826 L174.283 870.377 M173.056 866.303 L178.936 866.303 L178.936 888.826 L183.866 888.826 L183.866 892.715 L178.936 892.715 L178.936 900.863 L174.283 900.863 L174.283 892.715 L158.681 892.715 L158.681 888.201 L173.056 866.303 Z\" fill=\"#000000\" fill-rule=\"nonzero\" fill-opacity=\"1\" /><path clip-path=\"url(#clip460)\" d=\"M126.529 603.467 Q122.918 603.467 121.089 607.031 Q119.283 610.573 119.283 617.703 Q119.283 624.809 121.089 628.374 Q122.918 631.915 126.529 631.915 Q130.163 631.915 131.968 628.374 Q133.797 624.809 133.797 617.703 Q133.797 610.573 131.968 607.031 Q130.163 603.467 126.529 603.467 M126.529 599.763 Q132.339 599.763 135.394 604.369 Q138.473 608.953 138.473 617.703 Q138.473 626.429 135.394 631.036 Q132.339 635.619 126.529 635.619 Q120.718 635.619 117.64 631.036 Q114.584 626.429 114.584 617.703 Q114.584 608.953 117.64 604.369 Q120.718 599.763 126.529 599.763 Z\" fill=\"#000000\" fill-rule=\"nonzero\" fill-opacity=\"1\" /><path clip-path=\"url(#clip460)\" d=\"M146.691 629.068 L151.575 629.068 L151.575 634.948 L146.691 634.948 L146.691 629.068 Z\" fill=\"#000000\" fill-rule=\"nonzero\" fill-opacity=\"1\" /><path clip-path=\"url(#clip460)\" d=\"M172.339 615.804 Q169.19 615.804 167.339 617.957 Q165.51 620.11 165.51 623.86 Q165.51 627.587 167.339 629.763 Q169.19 631.915 172.339 631.915 Q175.487 631.915 177.315 629.763 Q179.167 627.587 179.167 623.86 Q179.167 620.11 177.315 617.957 Q175.487 615.804 172.339 615.804 M181.621 601.152 L181.621 605.411 Q179.862 604.578 178.056 604.138 Q176.274 603.698 174.514 603.698 Q169.885 603.698 167.431 606.823 Q165.001 609.948 164.653 616.267 Q166.019 614.254 168.079 613.189 Q170.139 612.101 172.616 612.101 Q177.825 612.101 180.834 615.272 Q183.866 618.42 183.866 623.86 Q183.866 629.184 180.718 632.402 Q177.57 635.619 172.339 635.619 Q166.343 635.619 163.172 631.036 Q160.001 626.429 160.001 617.703 Q160.001 609.508 163.89 604.647 Q167.778 599.763 174.329 599.763 Q176.089 599.763 177.871 600.11 Q179.676 600.457 181.621 601.152 Z\" fill=\"#000000\" fill-rule=\"nonzero\" fill-opacity=\"1\" /><path clip-path=\"url(#clip460)\" d=\"M126.783 337.552 Q123.172 337.552 121.343 341.116 Q119.538 344.658 119.538 351.788 Q119.538 358.894 121.343 362.459 Q123.172 366.001 126.783 366.001 Q130.417 366.001 132.223 362.459 Q134.052 358.894 134.052 351.788 Q134.052 344.658 132.223 341.116 Q130.417 337.552 126.783 337.552 M126.783 333.848 Q132.593 333.848 135.649 338.454 Q138.728 343.038 138.728 351.788 Q138.728 360.514 135.649 365.121 Q132.593 369.704 126.783 369.704 Q120.973 369.704 117.894 365.121 Q114.839 360.514 114.839 351.788 Q114.839 343.038 117.894 338.454 Q120.973 333.848 126.783 333.848 Z\" fill=\"#000000\" fill-rule=\"nonzero\" fill-opacity=\"1\" /><path clip-path=\"url(#clip460)\" d=\"M146.945 363.153 L151.829 363.153 L151.829 369.033 L146.945 369.033 L146.945 363.153 Z\" fill=\"#000000\" fill-rule=\"nonzero\" fill-opacity=\"1\" /><path clip-path=\"url(#clip460)\" d=\"M172.014 352.621 Q168.681 352.621 166.76 354.403 Q164.862 356.186 164.862 359.311 Q164.862 362.436 166.76 364.218 Q168.681 366.001 172.014 366.001 Q175.348 366.001 177.269 364.218 Q179.19 362.413 179.19 359.311 Q179.19 356.186 177.269 354.403 Q175.371 352.621 172.014 352.621 M167.339 350.63 Q164.329 349.89 162.64 347.829 Q160.973 345.769 160.973 342.806 Q160.973 338.663 163.913 336.255 Q166.876 333.848 172.014 333.848 Q177.176 333.848 180.116 336.255 Q183.056 338.663 183.056 342.806 Q183.056 345.769 181.366 347.829 Q179.7 349.89 176.714 350.63 Q180.093 351.417 181.968 353.709 Q183.866 356.001 183.866 359.311 Q183.866 364.334 180.788 367.019 Q177.732 369.704 172.014 369.704 Q166.297 369.704 163.218 367.019 Q160.163 364.334 160.163 359.311 Q160.163 356.001 162.061 353.709 Q163.959 351.417 167.339 350.63 M165.626 343.246 Q165.626 345.931 167.292 347.436 Q168.982 348.94 172.014 348.94 Q175.024 348.94 176.714 347.436 Q178.426 345.931 178.426 343.246 Q178.426 340.561 176.714 339.056 Q175.024 337.552 172.014 337.552 Q168.982 337.552 167.292 339.056 Q165.626 340.561 165.626 343.246 Z\" fill=\"#000000\" fill-rule=\"nonzero\" fill-opacity=\"1\" /><path clip-path=\"url(#clip460)\" d=\"M117.501 99.1829 L125.14 99.1829 L125.14 72.8173 L116.83 74.4839 L116.83 70.2247 L125.093 68.558 L129.769 68.558 L129.769 99.1829 L137.408 99.1829 L137.408 103.118 L117.501 103.118 L117.501 99.1829 Z\" fill=\"#000000\" fill-rule=\"nonzero\" fill-opacity=\"1\" /><path clip-path=\"url(#clip460)\" d=\"M146.853 97.2384 L151.737 97.2384 L151.737 103.118 L146.853 103.118 L146.853 97.2384 Z\" fill=\"#000000\" fill-rule=\"nonzero\" fill-opacity=\"1\" /><path clip-path=\"url(#clip460)\" d=\"M171.922 71.6367 Q168.311 71.6367 166.482 75.2015 Q164.677 78.7432 164.677 85.8728 Q164.677 92.9792 166.482 96.544 Q168.311 100.086 171.922 100.086 Q175.556 100.086 177.362 96.544 Q179.19 92.9792 179.19 85.8728 Q179.19 78.7432 177.362 75.2015 Q175.556 71.6367 171.922 71.6367 M171.922 67.933 Q177.732 67.933 180.788 72.5395 Q183.866 77.1228 183.866 85.8728 Q183.866 94.5996 180.788 99.206 Q177.732 103.789 171.922 103.789 Q166.112 103.789 163.033 99.206 Q159.978 94.5996 159.978 85.8728 Q159.978 77.1228 163.033 72.5395 Q166.112 67.933 171.922 67.933 Z\" fill=\"#000000\" fill-rule=\"nonzero\" fill-opacity=\"1\" /><path clip-path=\"url(#clip460)\" d=\"M16.4842 811.984 L16.4842 771.784 L21.895 771.784 L21.895 788.653 L64.0042 788.653 L64.0042 795.115 L21.895 795.115 L21.895 811.984 L16.4842 811.984 Z\" fill=\"#000000\" fill-rule=\"nonzero\" fill-opacity=\"1\" /><path clip-path=\"url(#clip460)\" d=\"M57.2247 733.176 L44.4614 733.176 L44.4614 743.68 L39.1779 743.68 L39.1779 726.811 L59.58 726.811 Q62.2218 730.534 63.5904 735.022 Q64.9272 739.51 64.9272 744.603 Q64.9272 755.743 58.4342 762.045 Q51.9093 768.315 40.2919 768.315 Q28.6427 768.315 22.1496 762.045 Q15.6248 755.743 15.6248 744.603 Q15.6248 739.956 16.7706 735.786 Q17.9164 731.585 20.1444 728.052 L26.9876 728.052 Q23.9639 731.617 22.4361 735.627 Q20.9083 739.637 20.9083 744.062 Q20.9083 752.783 25.7781 757.175 Q30.6479 761.535 40.2919 761.535 Q49.9041 761.535 54.7739 757.175 Q59.6436 752.783 59.6436 744.062 Q59.6436 740.656 59.0707 737.982 Q58.466 735.309 57.2247 733.176 Z\" fill=\"#000000\" fill-rule=\"nonzero\" fill-opacity=\"1\" /><path clip-path=\"url(#clip460)\" d=\"M16.4842 715.066 L16.4842 687.757 L21.895 687.757 L21.895 708.636 L35.8996 708.636 L35.8996 689.794 L41.3104 689.794 L41.3104 708.636 L64.0042 708.636 L64.0042 715.066 L16.4842 715.066 Z\" fill=\"#000000\" fill-rule=\"nonzero\" fill-opacity=\"1\" /><path clip-path=\"url(#clip460)\" d=\"M46.212 652.236 Q39.7508 652.236 36.0905 654.91 Q32.3984 657.552 32.3984 662.199 Q32.3984 666.846 36.0905 669.519 Q39.7508 672.161 46.212 672.161 Q52.6732 672.161 56.3653 669.519 Q60.0256 666.846 60.0256 662.199 Q60.0256 657.552 56.3653 654.91 Q52.6732 652.236 46.212 652.236 M33.7671 672.161 Q30.5842 670.315 29.0564 667.514 Q27.4968 664.681 27.4968 660.766 Q27.4968 654.273 32.6531 650.231 Q37.8093 646.157 46.212 646.157 Q54.6147 646.157 59.771 650.231 Q64.9272 654.273 64.9272 660.766 Q64.9272 664.681 63.3994 667.514 Q61.8398 670.315 58.657 672.161 L64.0042 672.161 L64.0042 678.049 L14.479 678.049 L14.479 672.161 L33.7671 672.161 Z\" fill=\"#000000\" fill-rule=\"nonzero\" fill-opacity=\"1\" /><polyline clip-path=\"url(#clip462)\" style=\"stroke:#009af9; stroke-linecap:round; stroke-linejoin:round; stroke-width:4; stroke-opacity:1; fill:none\" points=\"219.866,85.838 372.215,1336.06 524.565,1334.4 676.914,1329.28 829.264,1327.14 981.612,1326.5 1133.96,1317.04 1286.31,1312.33 1438.66,1312.46 1591.01,1330.54 1743.35,1332.78 1895.71,1330.01 2048.06,1327.8 2200.41,1326.84 2352.76,1326.6 \"/>\n",
       "<circle clip-path=\"url(#clip462)\" cx=\"219.866\" cy=\"248.619\" r=\"14.4\" fill=\"#e26f46\" fill-rule=\"evenodd\" fill-opacity=\"1\" stroke=\"#000000\" stroke-opacity=\"1\" stroke-width=\"3.2\"/>\n",
       "<circle clip-path=\"url(#clip462)\" cx=\"372.215\" cy=\"1340.94\" r=\"14.4\" fill=\"#e26f46\" fill-rule=\"evenodd\" fill-opacity=\"1\" stroke=\"#000000\" stroke-opacity=\"1\" stroke-width=\"3.2\"/>\n",
       "<circle clip-path=\"url(#clip462)\" cx=\"524.565\" cy=\"1372.3\" r=\"14.4\" fill=\"#e26f46\" fill-rule=\"evenodd\" fill-opacity=\"1\" stroke=\"#000000\" stroke-opacity=\"1\" stroke-width=\"3.2\"/>\n",
       "<circle clip-path=\"url(#clip462)\" cx=\"676.914\" cy=\"1326.15\" r=\"14.4\" fill=\"#e26f46\" fill-rule=\"evenodd\" fill-opacity=\"1\" stroke=\"#000000\" stroke-opacity=\"1\" stroke-width=\"3.2\"/>\n",
       "<circle clip-path=\"url(#clip462)\" cx=\"829.264\" cy=\"1307.34\" r=\"14.4\" fill=\"#e26f46\" fill-rule=\"evenodd\" fill-opacity=\"1\" stroke=\"#000000\" stroke-opacity=\"1\" stroke-width=\"3.2\"/>\n",
       "<circle clip-path=\"url(#clip462)\" cx=\"981.612\" cy=\"1316.22\" r=\"14.4\" fill=\"#e26f46\" fill-rule=\"evenodd\" fill-opacity=\"1\" stroke=\"#000000\" stroke-opacity=\"1\" stroke-width=\"3.2\"/>\n",
       "<circle clip-path=\"url(#clip462)\" cx=\"1133.96\" cy=\"1289.9\" r=\"14.4\" fill=\"#e26f46\" fill-rule=\"evenodd\" fill-opacity=\"1\" stroke=\"#000000\" stroke-opacity=\"1\" stroke-width=\"3.2\"/>\n",
       "<circle clip-path=\"url(#clip462)\" cx=\"1286.31\" cy=\"1335.26\" r=\"14.4\" fill=\"#e26f46\" fill-rule=\"evenodd\" fill-opacity=\"1\" stroke=\"#000000\" stroke-opacity=\"1\" stroke-width=\"3.2\"/>\n",
       "<circle clip-path=\"url(#clip462)\" cx=\"1438.66\" cy=\"1333.01\" r=\"14.4\" fill=\"#e26f46\" fill-rule=\"evenodd\" fill-opacity=\"1\" stroke=\"#000000\" stroke-opacity=\"1\" stroke-width=\"3.2\"/>\n",
       "<circle clip-path=\"url(#clip462)\" cx=\"1591.01\" cy=\"1324.16\" r=\"14.4\" fill=\"#e26f46\" fill-rule=\"evenodd\" fill-opacity=\"1\" stroke=\"#000000\" stroke-opacity=\"1\" stroke-width=\"3.2\"/>\n",
       "<circle clip-path=\"url(#clip462)\" cx=\"1743.35\" cy=\"1338.17\" r=\"14.4\" fill=\"#e26f46\" fill-rule=\"evenodd\" fill-opacity=\"1\" stroke=\"#000000\" stroke-opacity=\"1\" stroke-width=\"3.2\"/>\n",
       "<circle clip-path=\"url(#clip462)\" cx=\"1895.71\" cy=\"1329.7\" r=\"14.4\" fill=\"#e26f46\" fill-rule=\"evenodd\" fill-opacity=\"1\" stroke=\"#000000\" stroke-opacity=\"1\" stroke-width=\"3.2\"/>\n",
       "<circle clip-path=\"url(#clip462)\" cx=\"2048.06\" cy=\"1353.5\" r=\"14.4\" fill=\"#e26f46\" fill-rule=\"evenodd\" fill-opacity=\"1\" stroke=\"#000000\" stroke-opacity=\"1\" stroke-width=\"3.2\"/>\n",
       "<circle clip-path=\"url(#clip462)\" cx=\"2200.41\" cy=\"1331.57\" r=\"14.4\" fill=\"#e26f46\" fill-rule=\"evenodd\" fill-opacity=\"1\" stroke=\"#000000\" stroke-opacity=\"1\" stroke-width=\"3.2\"/>\n",
       "<circle clip-path=\"url(#clip462)\" cx=\"2352.76\" cy=\"1335.54\" r=\"14.4\" fill=\"#e26f46\" fill-rule=\"evenodd\" fill-opacity=\"1\" stroke=\"#000000\" stroke-opacity=\"1\" stroke-width=\"3.2\"/>\n",
       "<path clip-path=\"url(#clip460)\" d=\"M1449.53 248.219 L2281.66 248.219 L2281.66 92.6992 L1449.53 92.6992  Z\" fill=\"#ffffff\" fill-rule=\"evenodd\" fill-opacity=\"1\"/>\n",
       "<polyline clip-path=\"url(#clip460)\" style=\"stroke:#000000; stroke-linecap:round; stroke-linejoin:round; stroke-width:4; stroke-opacity:1; fill:none\" points=\"1449.53,248.219 2281.66,248.219 2281.66,92.6992 1449.53,92.6992 1449.53,248.219 \"/>\n",
       "<polyline clip-path=\"url(#clip460)\" style=\"stroke:#009af9; stroke-linecap:round; stroke-linejoin:round; stroke-width:4; stroke-opacity:1; fill:none\" points=\"1473.23,144.539 1615.42,144.539 \"/>\n",
       "<path clip-path=\"url(#clip460)\" d=\"M1639.12 127.259 L1668.36 127.259 L1668.36 131.194 L1656.09 131.194 L1656.09 161.819 L1651.39 161.819 L1651.39 131.194 L1639.12 131.194 L1639.12 127.259 Z\" fill=\"#000000\" fill-rule=\"nonzero\" fill-opacity=\"1\" /><path clip-path=\"url(#clip460)\" d=\"M1696.44 156.889 L1696.44 147.606 L1688.8 147.606 L1688.8 143.764 L1701.07 143.764 L1701.07 158.602 Q1698.36 160.523 1695.09 161.518 Q1691.83 162.49 1688.13 162.49 Q1680.02 162.49 1675.44 157.768 Q1670.88 153.023 1670.88 144.574 Q1670.88 136.102 1675.44 131.38 Q1680.02 126.634 1688.13 126.634 Q1691.51 126.634 1694.54 127.468 Q1697.59 128.301 1700.16 129.921 L1700.16 134.898 Q1697.57 132.699 1694.65 131.588 Q1691.74 130.477 1688.52 130.477 Q1682.18 130.477 1678.98 134.018 Q1675.81 137.56 1675.81 144.574 Q1675.81 151.565 1678.98 155.106 Q1682.18 158.648 1688.52 158.648 Q1691 158.648 1692.94 158.231 Q1694.89 157.791 1696.44 156.889 Z\" fill=\"#000000\" fill-rule=\"nonzero\" fill-opacity=\"1\" /><path clip-path=\"url(#clip460)\" d=\"M1709.61 127.259 L1729.47 127.259 L1729.47 131.194 L1714.28 131.194 L1714.28 141.379 L1727.99 141.379 L1727.99 145.315 L1714.28 145.315 L1714.28 161.819 L1709.61 161.819 L1709.61 127.259 Z\" fill=\"#000000\" fill-rule=\"nonzero\" fill-opacity=\"1\" /><path clip-path=\"url(#clip460)\" d=\"M1755.3 148.879 Q1755.3 144.18 1753.36 141.518 Q1751.44 138.833 1748.06 138.833 Q1744.68 138.833 1742.73 141.518 Q1740.81 144.18 1740.81 148.879 Q1740.81 153.578 1742.73 156.264 Q1744.68 158.926 1748.06 158.926 Q1751.44 158.926 1753.36 156.264 Q1755.3 153.578 1755.3 148.879 M1740.81 139.829 Q1742.15 137.514 1744.19 136.403 Q1746.25 135.268 1749.1 135.268 Q1753.82 135.268 1756.76 139.018 Q1759.72 142.768 1759.72 148.879 Q1759.72 154.991 1756.76 158.74 Q1753.82 162.49 1749.1 162.49 Q1746.25 162.49 1744.19 161.379 Q1742.15 160.245 1740.81 157.93 L1740.81 161.819 L1736.53 161.819 L1736.53 125.801 L1740.81 125.801 L1740.81 139.829 Z\" fill=\"#000000\" fill-rule=\"nonzero\" fill-opacity=\"1\" /><path clip-path=\"url(#clip460)\" d=\"M1777.01 125.847 Q1773.91 131.171 1772.41 136.38 Q1770.9 141.588 1770.9 146.935 Q1770.9 152.282 1772.41 157.537 Q1773.94 162.768 1777.01 168.069 L1773.31 168.069 Q1769.84 162.629 1768.1 157.375 Q1766.39 152.12 1766.39 146.935 Q1766.39 141.773 1768.1 136.542 Q1769.82 131.31 1773.31 125.847 L1777.01 125.847 Z\" fill=\"#000000\" fill-rule=\"nonzero\" fill-opacity=\"1\" /><path clip-path=\"url(#clip460)\" d=\"M1789.49 128.532 L1789.49 135.893 L1798.26 135.893 L1798.26 139.204 L1789.49 139.204 L1789.49 153.278 Q1789.49 156.449 1790.35 157.352 Q1791.23 158.254 1793.89 158.254 L1798.26 158.254 L1798.26 161.819 L1793.89 161.819 Q1788.96 161.819 1787.08 159.99 Q1785.21 158.139 1785.21 153.278 L1785.21 139.204 L1782.08 139.204 L1782.08 135.893 L1785.21 135.893 L1785.21 128.532 L1789.49 128.532 Z\" fill=\"#000000\" fill-rule=\"nonzero\" fill-opacity=\"1\" /><path clip-path=\"url(#clip460)\" d=\"M1803.19 125.847 L1806.9 125.847 Q1810.37 131.31 1812.08 136.542 Q1813.82 141.773 1813.82 146.935 Q1813.82 152.12 1812.08 157.375 Q1810.37 162.629 1806.9 168.069 L1803.19 168.069 Q1806.27 162.768 1807.78 157.537 Q1809.31 152.282 1809.31 146.935 Q1809.31 141.588 1807.78 136.38 Q1806.27 131.171 1803.19 125.847 Z\" fill=\"#000000\" fill-rule=\"nonzero\" fill-opacity=\"1\" /><circle clip-path=\"url(#clip460)\" cx=\"1544.33\" cy=\"196.379\" r=\"20.48\" fill=\"#e26f46\" fill-rule=\"evenodd\" fill-opacity=\"1\" stroke=\"#000000\" stroke-opacity=\"1\" stroke-width=\"4.55111\"/>\n",
       "<path clip-path=\"url(#clip460)\" d=\"M1643.4 209.77 L1643.4 223.52 L1639.12 223.52 L1639.12 187.733 L1643.4 187.733 L1643.4 191.669 Q1644.75 189.354 1646.78 188.243 Q1648.84 187.108 1651.69 187.108 Q1656.41 187.108 1659.35 190.858 Q1662.32 194.608 1662.32 200.719 Q1662.32 206.831 1659.35 210.58 Q1656.41 214.33 1651.69 214.33 Q1648.84 214.33 1646.78 213.219 Q1644.75 212.085 1643.4 209.77 M1657.89 200.719 Q1657.89 196.02 1655.95 193.358 Q1654.03 190.673 1650.65 190.673 Q1647.27 190.673 1645.33 193.358 Q1643.4 196.02 1643.4 200.719 Q1643.4 205.418 1645.33 208.104 Q1647.27 210.766 1650.65 210.766 Q1654.03 210.766 1655.95 208.104 Q1657.89 205.418 1657.89 200.719 Z\" fill=\"#000000\" fill-rule=\"nonzero\" fill-opacity=\"1\" /><path clip-path=\"url(#clip460)\" d=\"M1685.9 188.497 L1685.9 192.525 Q1684.1 191.599 1682.15 191.136 Q1680.21 190.673 1678.13 190.673 Q1674.95 190.673 1673.36 191.645 Q1671.78 192.618 1671.78 194.562 Q1671.78 196.044 1672.92 196.9 Q1674.05 197.733 1677.48 198.497 L1678.94 198.821 Q1683.47 199.794 1685.37 201.576 Q1687.29 203.335 1687.29 206.506 Q1687.29 210.118 1684.42 212.224 Q1681.58 214.33 1676.58 214.33 Q1674.49 214.33 1672.22 213.914 Q1669.98 213.52 1667.48 212.71 L1667.48 208.312 Q1669.84 209.539 1672.13 210.164 Q1674.42 210.766 1676.67 210.766 Q1679.68 210.766 1681.3 209.747 Q1682.92 208.706 1682.92 206.831 Q1682.92 205.094 1681.74 204.168 Q1680.58 203.243 1676.62 202.386 L1675.14 202.039 Q1671.18 201.206 1669.42 199.493 Q1667.66 197.756 1667.66 194.747 Q1667.66 191.09 1670.26 189.099 Q1672.85 187.108 1677.62 187.108 Q1679.98 187.108 1682.06 187.456 Q1684.14 187.803 1685.9 188.497 Z\" fill=\"#000000\" fill-rule=\"nonzero\" fill-opacity=\"1\" /><path clip-path=\"url(#clip460)\" d=\"M1716.25 199.631 L1716.25 201.715 L1696.67 201.715 Q1696.95 206.113 1699.31 208.428 Q1701.69 210.719 1705.93 210.719 Q1708.38 210.719 1710.67 210.118 Q1712.99 209.516 1715.26 208.312 L1715.26 212.34 Q1712.96 213.312 1710.56 213.821 Q1708.15 214.33 1705.67 214.33 Q1699.47 214.33 1695.83 210.719 Q1692.22 207.108 1692.22 200.951 Q1692.22 194.585 1695.65 190.858 Q1699.1 187.108 1704.93 187.108 Q1710.16 187.108 1713.2 190.488 Q1716.25 193.844 1716.25 199.631 M1711.99 198.381 Q1711.95 194.886 1710.02 192.803 Q1708.13 190.719 1704.98 190.719 Q1701.41 190.719 1699.26 192.733 Q1697.13 194.747 1696.81 198.405 L1711.99 198.381 Z\" fill=\"#000000\" fill-rule=\"nonzero\" fill-opacity=\"1\" /><path clip-path=\"url(#clip460)\" d=\"M1722.8 203.428 L1722.8 187.733 L1727.06 187.733 L1727.06 203.266 Q1727.06 206.946 1728.5 208.798 Q1729.93 210.627 1732.8 210.627 Q1736.25 210.627 1738.24 208.428 Q1740.26 206.229 1740.26 202.432 L1740.26 187.733 L1744.51 187.733 L1744.51 213.659 L1740.26 213.659 L1740.26 209.678 Q1738.7 212.039 1736.64 213.196 Q1734.61 214.33 1731.9 214.33 Q1727.43 214.33 1725.12 211.553 Q1722.8 208.775 1722.8 203.428 M1733.52 187.108 L1733.52 187.108 Z\" fill=\"#000000\" fill-rule=\"nonzero\" fill-opacity=\"1\" /><path clip-path=\"url(#clip460)\" d=\"M1770.35 191.669 L1770.35 177.641 L1774.61 177.641 L1774.61 213.659 L1770.35 213.659 L1770.35 209.77 Q1769.01 212.085 1766.94 213.219 Q1764.91 214.33 1762.04 214.33 Q1757.34 214.33 1754.38 210.58 Q1751.44 206.831 1751.44 200.719 Q1751.44 194.608 1754.38 190.858 Q1757.34 187.108 1762.04 187.108 Q1764.91 187.108 1766.94 188.243 Q1769.01 189.354 1770.35 191.669 M1755.83 200.719 Q1755.83 205.418 1757.76 208.104 Q1759.7 210.766 1763.08 210.766 Q1766.46 210.766 1768.4 208.104 Q1770.35 205.418 1770.35 200.719 Q1770.35 196.02 1768.4 193.358 Q1766.46 190.673 1763.08 190.673 Q1759.7 190.673 1757.76 193.358 Q1755.83 196.02 1755.83 200.719 Z\" fill=\"#000000\" fill-rule=\"nonzero\" fill-opacity=\"1\" /><path clip-path=\"url(#clip460)\" d=\"M1793.43 190.719 Q1790 190.719 1788.01 193.405 Q1786.02 196.067 1786.02 200.719 Q1786.02 205.372 1787.99 208.057 Q1789.98 210.719 1793.43 210.719 Q1796.83 210.719 1798.82 208.034 Q1800.81 205.349 1800.81 200.719 Q1800.81 196.113 1798.82 193.428 Q1796.83 190.719 1793.43 190.719 M1793.43 187.108 Q1798.98 187.108 1802.15 190.719 Q1805.32 194.331 1805.32 200.719 Q1805.32 207.085 1802.15 210.719 Q1798.98 214.33 1793.43 214.33 Q1787.85 214.33 1784.68 210.719 Q1781.53 207.085 1781.53 200.719 Q1781.53 194.331 1784.68 190.719 Q1787.85 187.108 1793.43 187.108 Z\" fill=\"#000000\" fill-rule=\"nonzero\" fill-opacity=\"1\" /><path clip-path=\"url(#clip460)\" d=\"M1811.11 198.775 L1823.59 198.775 L1823.59 202.571 L1811.11 202.571 L1811.11 198.775 Z\" fill=\"#000000\" fill-rule=\"nonzero\" fill-opacity=\"1\" /><path clip-path=\"url(#clip460)\" d=\"M1852.55 199.631 L1852.55 201.715 L1832.96 201.715 Q1833.24 206.113 1835.6 208.428 Q1837.99 210.719 1842.22 210.719 Q1844.68 210.719 1846.97 210.118 Q1849.28 209.516 1851.55 208.312 L1851.55 212.34 Q1849.26 213.312 1846.85 213.821 Q1844.44 214.33 1841.97 214.33 Q1835.76 214.33 1832.13 210.719 Q1828.52 207.108 1828.52 200.951 Q1828.52 194.585 1831.94 190.858 Q1835.39 187.108 1841.23 187.108 Q1846.46 187.108 1849.49 190.488 Q1852.55 193.844 1852.55 199.631 M1848.29 198.381 Q1848.24 194.886 1846.32 192.803 Q1844.42 190.719 1841.27 190.719 Q1837.71 190.719 1835.56 192.733 Q1833.43 194.747 1833.1 198.405 L1848.29 198.381 Z\" fill=\"#000000\" fill-rule=\"nonzero\" fill-opacity=\"1\" /><path clip-path=\"url(#clip460)\" d=\"M1880.25 187.733 L1870.88 200.349 L1880.74 213.659 L1875.72 213.659 L1868.17 203.474 L1860.62 213.659 L1855.6 213.659 L1865.67 200.094 L1856.46 187.733 L1861.48 187.733 L1868.36 196.969 L1875.23 187.733 L1880.25 187.733 Z\" fill=\"#000000\" fill-rule=\"nonzero\" fill-opacity=\"1\" /><path clip-path=\"url(#clip460)\" d=\"M1890.88 209.77 L1890.88 223.52 L1886.6 223.52 L1886.6 187.733 L1890.88 187.733 L1890.88 191.669 Q1892.22 189.354 1894.26 188.243 Q1896.32 187.108 1899.17 187.108 Q1903.89 187.108 1906.83 190.858 Q1909.79 194.608 1909.79 200.719 Q1909.79 206.831 1906.83 210.58 Q1903.89 214.33 1899.17 214.33 Q1896.32 214.33 1894.26 213.219 Q1892.22 212.085 1890.88 209.77 M1905.37 200.719 Q1905.37 196.02 1903.43 193.358 Q1901.5 190.673 1898.12 190.673 Q1894.75 190.673 1892.8 193.358 Q1890.88 196.02 1890.88 200.719 Q1890.88 205.418 1892.8 208.104 Q1894.75 210.766 1898.12 210.766 Q1901.5 210.766 1903.43 208.104 Q1905.37 205.418 1905.37 200.719 Z\" fill=\"#000000\" fill-rule=\"nonzero\" fill-opacity=\"1\" /><path clip-path=\"url(#clip460)\" d=\"M1939.03 199.631 L1939.03 201.715 L1919.44 201.715 Q1919.72 206.113 1922.08 208.428 Q1924.47 210.719 1928.7 210.719 Q1931.16 210.719 1933.45 210.118 Q1935.76 209.516 1938.03 208.312 L1938.03 212.34 Q1935.74 213.312 1933.33 213.821 Q1930.93 214.33 1928.45 214.33 Q1922.25 214.33 1918.61 210.719 Q1915 207.108 1915 200.951 Q1915 194.585 1918.43 190.858 Q1921.87 187.108 1927.71 187.108 Q1932.94 187.108 1935.97 190.488 Q1939.03 193.844 1939.03 199.631 M1934.77 198.381 Q1934.72 194.886 1932.8 192.803 Q1930.9 190.719 1927.75 190.719 Q1924.19 190.719 1922.04 192.733 Q1919.91 194.747 1919.58 198.405 L1934.77 198.381 Z\" fill=\"#000000\" fill-rule=\"nonzero\" fill-opacity=\"1\" /><path clip-path=\"url(#clip460)\" d=\"M1961.04 191.715 Q1960.32 191.298 1959.47 191.113 Q1958.63 190.905 1957.62 190.905 Q1954 190.905 1952.06 193.266 Q1950.14 195.604 1950.14 200.002 L1950.14 213.659 L1945.86 213.659 L1945.86 187.733 L1950.14 187.733 L1950.14 191.761 Q1951.48 189.4 1953.63 188.266 Q1955.79 187.108 1958.87 187.108 Q1959.31 187.108 1959.84 187.178 Q1960.37 187.224 1961.02 187.34 L1961.04 191.715 Z\" fill=\"#000000\" fill-rule=\"nonzero\" fill-opacity=\"1\" /><path clip-path=\"url(#clip460)\" d=\"M1965.51 187.733 L1969.77 187.733 L1969.77 213.659 L1965.51 213.659 L1965.51 187.733 M1965.51 177.641 L1969.77 177.641 L1969.77 183.034 L1965.51 183.034 L1965.51 177.641 Z\" fill=\"#000000\" fill-rule=\"nonzero\" fill-opacity=\"1\" /><path clip-path=\"url(#clip460)\" d=\"M1998.86 192.71 Q2000.46 189.84 2002.68 188.474 Q2004.91 187.108 2007.92 187.108 Q2011.97 187.108 2014.17 189.956 Q2016.36 192.78 2016.36 198.011 L2016.36 213.659 L2012.08 213.659 L2012.08 198.15 Q2012.08 194.423 2010.76 192.618 Q2009.44 190.812 2006.74 190.812 Q2003.43 190.812 2001.5 193.011 Q1999.58 195.21 1999.58 199.006 L1999.58 213.659 L1995.3 213.659 L1995.3 198.15 Q1995.3 194.4 1993.98 192.618 Q1992.66 190.812 1989.91 190.812 Q1986.64 190.812 1984.72 193.034 Q1982.8 195.233 1982.8 199.006 L1982.8 213.659 L1978.52 213.659 L1978.52 187.733 L1982.8 187.733 L1982.8 191.761 Q1984.26 189.377 1986.3 188.243 Q1988.33 187.108 1991.13 187.108 Q1993.96 187.108 1995.93 188.544 Q1997.92 189.979 1998.86 192.71 Z\" fill=\"#000000\" fill-rule=\"nonzero\" fill-opacity=\"1\" /><path clip-path=\"url(#clip460)\" d=\"M2047.04 199.631 L2047.04 201.715 L2027.45 201.715 Q2027.73 206.113 2030.09 208.428 Q2032.48 210.719 2036.71 210.719 Q2039.17 210.719 2041.46 210.118 Q2043.77 209.516 2046.04 208.312 L2046.04 212.34 Q2043.75 213.312 2041.34 213.821 Q2038.93 214.33 2036.46 214.33 Q2030.25 214.33 2026.62 210.719 Q2023.01 207.108 2023.01 200.951 Q2023.01 194.585 2026.43 190.858 Q2029.88 187.108 2035.72 187.108 Q2040.95 187.108 2043.98 190.488 Q2047.04 193.844 2047.04 199.631 M2042.78 198.381 Q2042.73 194.886 2040.81 192.803 Q2038.91 190.719 2035.76 190.719 Q2032.2 190.719 2030.05 192.733 Q2027.92 194.747 2027.59 198.405 L2042.78 198.381 Z\" fill=\"#000000\" fill-rule=\"nonzero\" fill-opacity=\"1\" /><path clip-path=\"url(#clip460)\" d=\"M2075.58 198.011 L2075.58 213.659 L2071.32 213.659 L2071.32 198.15 Q2071.32 194.469 2069.88 192.641 Q2068.45 190.812 2065.58 190.812 Q2062.13 190.812 2060.14 193.011 Q2058.15 195.21 2058.15 199.006 L2058.15 213.659 L2053.86 213.659 L2053.86 187.733 L2058.15 187.733 L2058.15 191.761 Q2059.67 189.423 2061.74 188.266 Q2063.82 187.108 2066.53 187.108 Q2070.99 187.108 2073.29 189.886 Q2075.58 192.641 2075.58 198.011 Z\" fill=\"#000000\" fill-rule=\"nonzero\" fill-opacity=\"1\" /><path clip-path=\"url(#clip460)\" d=\"M2088.29 180.372 L2088.29 187.733 L2097.06 187.733 L2097.06 191.044 L2088.29 191.044 L2088.29 205.118 Q2088.29 208.289 2089.14 209.192 Q2090.02 210.094 2092.68 210.094 L2097.06 210.094 L2097.06 213.659 L2092.68 213.659 Q2087.75 213.659 2085.88 211.83 Q2084 209.979 2084 205.118 L2084 191.044 L2080.88 191.044 L2080.88 187.733 L2084 187.733 L2084 180.372 L2088.29 180.372 Z\" fill=\"#000000\" fill-rule=\"nonzero\" fill-opacity=\"1\" /><path clip-path=\"url(#clip460)\" d=\"M2114.44 200.627 Q2109.28 200.627 2107.29 201.807 Q2105.3 202.988 2105.3 205.835 Q2105.3 208.104 2106.78 209.446 Q2108.29 210.766 2110.86 210.766 Q2114.4 210.766 2116.53 208.266 Q2118.68 205.743 2118.68 201.576 L2118.68 200.627 L2114.44 200.627 M2122.94 198.868 L2122.94 213.659 L2118.68 213.659 L2118.68 209.724 Q2117.22 212.085 2115.04 213.219 Q2112.87 214.33 2109.72 214.33 Q2105.74 214.33 2103.38 212.108 Q2101.04 209.863 2101.04 206.113 Q2101.04 201.738 2103.96 199.516 Q2106.9 197.294 2112.71 197.294 L2118.68 197.294 L2118.68 196.877 Q2118.68 193.937 2116.73 192.34 Q2114.81 190.719 2111.32 190.719 Q2109.1 190.719 2106.99 191.252 Q2104.88 191.784 2102.94 192.849 L2102.94 188.914 Q2105.28 188.011 2107.48 187.571 Q2109.67 187.108 2111.76 187.108 Q2117.38 187.108 2120.16 190.025 Q2122.94 192.942 2122.94 198.868 Z\" fill=\"#000000\" fill-rule=\"nonzero\" fill-opacity=\"1\" /><path clip-path=\"url(#clip460)\" d=\"M2131.71 177.641 L2135.97 177.641 L2135.97 213.659 L2131.71 213.659 L2131.71 177.641 Z\" fill=\"#000000\" fill-rule=\"nonzero\" fill-opacity=\"1\" /><path clip-path=\"url(#clip460)\" d=\"M2177.01 191.669 L2177.01 177.641 L2181.27 177.641 L2181.27 213.659 L2177.01 213.659 L2177.01 209.77 Q2175.67 212.085 2173.61 213.219 Q2171.57 214.33 2168.7 214.33 Q2164 214.33 2161.04 210.58 Q2158.1 206.831 2158.1 200.719 Q2158.1 194.608 2161.04 190.858 Q2164 187.108 2168.7 187.108 Q2171.57 187.108 2173.61 188.243 Q2175.67 189.354 2177.01 191.669 M2162.5 200.719 Q2162.5 205.418 2164.42 208.104 Q2166.36 210.766 2169.74 210.766 Q2173.12 210.766 2175.07 208.104 Q2177.01 205.418 2177.01 200.719 Q2177.01 196.02 2175.07 193.358 Q2173.12 190.673 2169.74 190.673 Q2166.36 190.673 2164.42 193.358 Q2162.5 196.02 2162.5 200.719 Z\" fill=\"#000000\" fill-rule=\"nonzero\" fill-opacity=\"1\" /><path clip-path=\"url(#clip460)\" d=\"M2201.83 200.627 Q2196.66 200.627 2194.67 201.807 Q2192.68 202.988 2192.68 205.835 Q2192.68 208.104 2194.16 209.446 Q2195.67 210.766 2198.24 210.766 Q2201.78 210.766 2203.91 208.266 Q2206.06 205.743 2206.06 201.576 L2206.06 200.627 L2201.83 200.627 M2210.32 198.868 L2210.32 213.659 L2206.06 213.659 L2206.06 209.724 Q2204.6 212.085 2202.43 213.219 Q2200.25 214.33 2197.1 214.33 Q2193.12 214.33 2190.76 212.108 Q2188.42 209.863 2188.42 206.113 Q2188.42 201.738 2191.34 199.516 Q2194.28 197.294 2200.09 197.294 L2206.06 197.294 L2206.06 196.877 Q2206.06 193.937 2204.12 192.34 Q2202.2 190.719 2198.7 190.719 Q2196.48 190.719 2194.37 191.252 Q2192.27 191.784 2190.32 192.849 L2190.32 188.914 Q2192.66 188.011 2194.86 187.571 Q2197.06 187.108 2199.14 187.108 Q2204.77 187.108 2207.54 190.025 Q2210.32 192.942 2210.32 198.868 Z\" fill=\"#000000\" fill-rule=\"nonzero\" fill-opacity=\"1\" /><path clip-path=\"url(#clip460)\" d=\"M2223.31 180.372 L2223.31 187.733 L2232.08 187.733 L2232.08 191.044 L2223.31 191.044 L2223.31 205.118 Q2223.31 208.289 2224.16 209.192 Q2225.04 210.094 2227.71 210.094 L2232.08 210.094 L2232.08 213.659 L2227.71 213.659 Q2222.78 213.659 2220.9 211.83 Q2219.03 209.979 2219.03 205.118 L2219.03 191.044 L2215.9 191.044 L2215.9 187.733 L2219.03 187.733 L2219.03 180.372 L2223.31 180.372 Z\" fill=\"#000000\" fill-rule=\"nonzero\" fill-opacity=\"1\" /><path clip-path=\"url(#clip460)\" d=\"M2249.47 200.627 Q2244.3 200.627 2242.31 201.807 Q2240.32 202.988 2240.32 205.835 Q2240.32 208.104 2241.8 209.446 Q2243.31 210.766 2245.88 210.766 Q2249.42 210.766 2251.55 208.266 Q2253.7 205.743 2253.7 201.576 L2253.7 200.627 L2249.47 200.627 M2257.96 198.868 L2257.96 213.659 L2253.7 213.659 L2253.7 209.724 Q2252.24 212.085 2250.07 213.219 Q2247.89 214.33 2244.74 214.33 Q2240.76 214.33 2238.4 212.108 Q2236.06 209.863 2236.06 206.113 Q2236.06 201.738 2238.98 199.516 Q2241.92 197.294 2247.73 197.294 L2253.7 197.294 L2253.7 196.877 Q2253.7 193.937 2251.76 192.34 Q2249.84 190.719 2246.34 190.719 Q2244.12 190.719 2242.01 191.252 Q2239.91 191.784 2237.96 192.849 L2237.96 188.914 Q2240.3 188.011 2242.5 187.571 Q2244.7 187.108 2246.78 187.108 Q2252.41 187.108 2255.18 190.025 Q2257.96 192.942 2257.96 198.868 Z\" fill=\"#000000\" fill-rule=\"nonzero\" fill-opacity=\"1\" /></svg>\n"
      ],
      "text/html": [
       "<?xml version=\"1.0\" encoding=\"utf-8\"?>\n",
       "<svg xmlns=\"http://www.w3.org/2000/svg\" xmlns:xlink=\"http://www.w3.org/1999/xlink\" width=\"600\" height=\"400\" viewBox=\"0 0 2400 1600\">\n",
       "<defs>\n",
       "  <clipPath id=\"clip510\">\n",
       "    <rect x=\"0\" y=\"0\" width=\"2400\" height=\"1600\"/>\n",
       "  </clipPath>\n",
       "</defs>\n",
       "<path clip-path=\"url(#clip510)\" d=\"M0 1600 L2400 1600 L2400 0 L0 0  Z\" fill=\"#ffffff\" fill-rule=\"evenodd\" fill-opacity=\"1\"/>\n",
       "<defs>\n",
       "  <clipPath id=\"clip511\">\n",
       "    <rect x=\"480\" y=\"0\" width=\"1681\" height=\"1600\"/>\n",
       "  </clipPath>\n",
       "</defs>\n",
       "<path clip-path=\"url(#clip510)\" d=\"M219.866 1410.9 L2352.76 1410.9 L2352.76 47.2441 L219.866 47.2441  Z\" fill=\"#ffffff\" fill-rule=\"evenodd\" fill-opacity=\"1\"/>\n",
       "<defs>\n",
       "  <clipPath id=\"clip512\">\n",
       "    <rect x=\"219\" y=\"47\" width=\"2134\" height=\"1365\"/>\n",
       "  </clipPath>\n",
       "</defs>\n",
       "<polyline clip-path=\"url(#clip512)\" style=\"stroke:#000000; stroke-linecap:round; stroke-linejoin:round; stroke-width:2; stroke-opacity:0.1; fill:none\" points=\"219.866,1410.9 219.866,47.2441 \"/>\n",
       "<polyline clip-path=\"url(#clip512)\" style=\"stroke:#000000; stroke-linecap:round; stroke-linejoin:round; stroke-width:2; stroke-opacity:0.1; fill:none\" points=\"575.348,1410.9 575.348,47.2441 \"/>\n",
       "<polyline clip-path=\"url(#clip512)\" style=\"stroke:#000000; stroke-linecap:round; stroke-linejoin:round; stroke-width:2; stroke-opacity:0.1; fill:none\" points=\"930.829,1410.9 930.829,47.2441 \"/>\n",
       "<polyline clip-path=\"url(#clip512)\" style=\"stroke:#000000; stroke-linecap:round; stroke-linejoin:round; stroke-width:2; stroke-opacity:0.1; fill:none\" points=\"1286.31,1410.9 1286.31,47.2441 \"/>\n",
       "<polyline clip-path=\"url(#clip512)\" style=\"stroke:#000000; stroke-linecap:round; stroke-linejoin:round; stroke-width:2; stroke-opacity:0.1; fill:none\" points=\"1641.79,1410.9 1641.79,47.2441 \"/>\n",
       "<polyline clip-path=\"url(#clip512)\" style=\"stroke:#000000; stroke-linecap:round; stroke-linejoin:round; stroke-width:2; stroke-opacity:0.1; fill:none\" points=\"1997.27,1410.9 1997.27,47.2441 \"/>\n",
       "<polyline clip-path=\"url(#clip512)\" style=\"stroke:#000000; stroke-linecap:round; stroke-linejoin:round; stroke-width:2; stroke-opacity:0.1; fill:none\" points=\"2352.76,1410.9 2352.76,47.2441 \"/>\n",
       "<polyline clip-path=\"url(#clip512)\" style=\"stroke:#000000; stroke-linecap:round; stroke-linejoin:round; stroke-width:2; stroke-opacity:0.1; fill:none\" points=\"219.866,1149.5 2352.76,1149.5 \"/>\n",
       "<polyline clip-path=\"url(#clip512)\" style=\"stroke:#000000; stroke-linecap:round; stroke-linejoin:round; stroke-width:2; stroke-opacity:0.1; fill:none\" points=\"219.866,883.583 2352.76,883.583 \"/>\n",
       "<polyline clip-path=\"url(#clip512)\" style=\"stroke:#000000; stroke-linecap:round; stroke-linejoin:round; stroke-width:2; stroke-opacity:0.1; fill:none\" points=\"219.866,617.668 2352.76,617.668 \"/>\n",
       "<polyline clip-path=\"url(#clip512)\" style=\"stroke:#000000; stroke-linecap:round; stroke-linejoin:round; stroke-width:2; stroke-opacity:0.1; fill:none\" points=\"219.866,351.753 2352.76,351.753 \"/>\n",
       "<polyline clip-path=\"url(#clip512)\" style=\"stroke:#000000; stroke-linecap:round; stroke-linejoin:round; stroke-width:2; stroke-opacity:0.1; fill:none\" points=\"219.866,85.838 2352.76,85.838 \"/>\n",
       "<polyline clip-path=\"url(#clip510)\" style=\"stroke:#000000; stroke-linecap:round; stroke-linejoin:round; stroke-width:4; stroke-opacity:1; fill:none\" points=\"219.866,1410.9 2352.76,1410.9 \"/>\n",
       "<polyline clip-path=\"url(#clip510)\" style=\"stroke:#000000; stroke-linecap:round; stroke-linejoin:round; stroke-width:4; stroke-opacity:1; fill:none\" points=\"219.866,1410.9 219.866,1392 \"/>\n",
       "<polyline clip-path=\"url(#clip510)\" style=\"stroke:#000000; stroke-linecap:round; stroke-linejoin:round; stroke-width:4; stroke-opacity:1; fill:none\" points=\"575.348,1410.9 575.348,1392 \"/>\n",
       "<polyline clip-path=\"url(#clip510)\" style=\"stroke:#000000; stroke-linecap:round; stroke-linejoin:round; stroke-width:4; stroke-opacity:1; fill:none\" points=\"930.829,1410.9 930.829,1392 \"/>\n",
       "<polyline clip-path=\"url(#clip510)\" style=\"stroke:#000000; stroke-linecap:round; stroke-linejoin:round; stroke-width:4; stroke-opacity:1; fill:none\" points=\"1286.31,1410.9 1286.31,1392 \"/>\n",
       "<polyline clip-path=\"url(#clip510)\" style=\"stroke:#000000; stroke-linecap:round; stroke-linejoin:round; stroke-width:4; stroke-opacity:1; fill:none\" points=\"1641.79,1410.9 1641.79,1392 \"/>\n",
       "<polyline clip-path=\"url(#clip510)\" style=\"stroke:#000000; stroke-linecap:round; stroke-linejoin:round; stroke-width:4; stroke-opacity:1; fill:none\" points=\"1997.27,1410.9 1997.27,1392 \"/>\n",
       "<polyline clip-path=\"url(#clip510)\" style=\"stroke:#000000; stroke-linecap:round; stroke-linejoin:round; stroke-width:4; stroke-opacity:1; fill:none\" points=\"2352.76,1410.9 2352.76,1392 \"/>\n",
       "<path clip-path=\"url(#clip510)\" d=\"M219.866 1441.82 Q216.255 1441.82 214.426 1445.38 Q212.621 1448.92 212.621 1456.05 Q212.621 1463.16 214.426 1466.72 Q216.255 1470.26 219.866 1470.26 Q223.501 1470.26 225.306 1466.72 Q227.135 1463.16 227.135 1456.05 Q227.135 1448.92 225.306 1445.38 Q223.501 1441.82 219.866 1441.82 M219.866 1438.11 Q225.676 1438.11 228.732 1442.72 Q231.811 1447.3 231.811 1456.05 Q231.811 1464.78 228.732 1469.38 Q225.676 1473.97 219.866 1473.97 Q214.056 1473.97 210.977 1469.38 Q207.922 1464.78 207.922 1456.05 Q207.922 1447.3 210.977 1442.72 Q214.056 1438.11 219.866 1438.11 Z\" fill=\"#000000\" fill-rule=\"nonzero\" fill-opacity=\"1\" /><path clip-path=\"url(#clip510)\" d=\"M482.308 1470.32 Q485.664 1471.04 487.539 1473.31 Q489.438 1475.58 489.438 1478.91 Q489.438 1484.03 485.919 1486.83 Q482.401 1489.63 475.919 1489.63 Q473.743 1489.63 471.428 1489.19 Q469.137 1488.77 466.683 1487.91 L466.683 1483.4 Q468.628 1484.54 470.942 1485.11 Q473.257 1485.69 475.78 1485.69 Q480.178 1485.69 482.47 1483.96 Q484.785 1482.22 484.785 1478.91 Q484.785 1475.85 482.632 1474.14 Q480.502 1472.41 476.683 1472.41 L472.655 1472.41 L472.655 1468.56 L476.868 1468.56 Q480.317 1468.56 482.146 1467.2 Q483.975 1465.81 483.975 1463.22 Q483.975 1460.55 482.077 1459.14 Q480.202 1457.71 476.683 1457.71 Q474.762 1457.71 472.563 1458.12 Q470.364 1458.54 467.725 1459.42 L467.725 1455.25 Q470.387 1454.51 472.702 1454.14 Q475.04 1453.77 477.1 1453.77 Q482.424 1453.77 485.526 1456.2 Q488.627 1458.61 488.627 1462.73 Q488.627 1465.6 486.984 1467.59 Q485.34 1469.56 482.308 1470.32 Z\" fill=\"#000000\" fill-rule=\"nonzero\" fill-opacity=\"1\" /><path clip-path=\"url(#clip510)\" d=\"M498.303 1483.08 L503.188 1483.08 L503.188 1488.96 L498.303 1488.96 L498.303 1483.08 Z\" fill=\"#000000\" fill-rule=\"nonzero\" fill-opacity=\"1\" /><path clip-path=\"url(#clip510)\" d=\"M523.373 1457.48 Q519.762 1457.48 517.933 1461.04 Q516.127 1464.58 516.127 1471.71 Q516.127 1478.82 517.933 1482.38 Q519.762 1485.92 523.373 1485.92 Q527.007 1485.92 528.812 1482.38 Q530.641 1478.82 530.641 1471.71 Q530.641 1464.58 528.812 1461.04 Q527.007 1457.48 523.373 1457.48 M523.373 1453.77 Q529.183 1453.77 532.238 1458.38 Q535.317 1462.96 535.317 1471.71 Q535.317 1480.44 532.238 1485.04 Q529.183 1489.63 523.373 1489.63 Q517.562 1489.63 514.484 1485.04 Q511.428 1480.44 511.428 1471.71 Q511.428 1462.96 514.484 1458.38 Q517.562 1453.77 523.373 1453.77 Z\" fill=\"#000000\" fill-rule=\"nonzero\" fill-opacity=\"1\" /><path clip-path=\"url(#clip510)\" d=\"M553.534 1457.48 Q549.923 1457.48 548.095 1461.04 Q546.289 1464.58 546.289 1471.71 Q546.289 1478.82 548.095 1482.38 Q549.923 1485.92 553.534 1485.92 Q557.169 1485.92 558.974 1482.38 Q560.803 1478.82 560.803 1471.71 Q560.803 1464.58 558.974 1461.04 Q557.169 1457.48 553.534 1457.48 M553.534 1453.77 Q559.345 1453.77 562.4 1458.38 Q565.479 1462.96 565.479 1471.71 Q565.479 1480.44 562.4 1485.04 Q559.345 1489.63 553.534 1489.63 Q547.724 1489.63 544.646 1485.04 Q541.59 1480.44 541.59 1471.71 Q541.59 1462.96 544.646 1458.38 Q547.724 1453.77 553.534 1453.77 Z\" fill=\"#000000\" fill-rule=\"nonzero\" fill-opacity=\"1\" /><path clip-path=\"url(#clip510)\" d=\"M601.868 1463.49 L591.289 1474.12 L601.868 1484.7 L599.113 1487.5 L588.488 1476.87 L577.863 1487.5 L575.132 1484.7 L585.687 1474.12 L575.132 1463.49 L577.863 1460.69 L588.488 1471.32 L599.113 1460.69 L601.868 1463.49 Z\" fill=\"#000000\" fill-rule=\"nonzero\" fill-opacity=\"1\" /><path clip-path=\"url(#clip510)\" d=\"M614.229 1485.02 L621.867 1485.02 L621.867 1458.66 L613.557 1460.32 L613.557 1456.06 L621.821 1454.4 L626.497 1454.4 L626.497 1485.02 L634.136 1485.02 L634.136 1488.96 L614.229 1488.96 L614.229 1485.02 Z\" fill=\"#000000\" fill-rule=\"nonzero\" fill-opacity=\"1\" /><path clip-path=\"url(#clip510)\" d=\"M653.58 1457.48 Q649.969 1457.48 648.14 1461.04 Q646.335 1464.58 646.335 1471.71 Q646.335 1478.82 648.14 1482.38 Q649.969 1485.92 653.58 1485.92 Q657.214 1485.92 659.02 1482.38 Q660.849 1478.82 660.849 1471.71 Q660.849 1464.58 659.02 1461.04 Q657.214 1457.48 653.58 1457.48 M653.58 1453.77 Q659.39 1453.77 662.446 1458.38 Q665.525 1462.96 665.525 1471.71 Q665.525 1480.44 662.446 1485.04 Q659.39 1489.63 653.58 1489.63 Q647.77 1489.63 644.691 1485.04 Q641.636 1480.44 641.636 1471.71 Q641.636 1462.96 644.691 1458.38 Q647.77 1453.77 653.58 1453.77 Z\" fill=\"#000000\" fill-rule=\"nonzero\" fill-opacity=\"1\" /><path clip-path=\"url(#clip510)\" d=\"M678.22 1446.41 Q680.947 1446.99 682.47 1448.83 Q684.013 1450.68 684.013 1453.38 Q684.013 1457.54 681.154 1459.82 Q678.295 1462.09 673.029 1462.09 Q671.261 1462.09 669.38 1461.73 Q667.518 1461.4 665.525 1460.7 L665.525 1457.03 Q667.104 1457.95 668.985 1458.42 Q670.866 1458.89 672.916 1458.89 Q676.49 1458.89 678.352 1457.48 Q680.232 1456.07 680.232 1453.38 Q680.232 1450.9 678.483 1449.51 Q676.753 1448.1 673.65 1448.1 L670.377 1448.1 L670.377 1444.98 L673.8 1444.98 Q676.602 1444.98 678.088 1443.87 Q679.574 1442.74 679.574 1440.63 Q679.574 1438.47 678.032 1437.32 Q676.508 1436.16 673.65 1436.16 Q672.089 1436.16 670.302 1436.49 Q668.515 1436.83 666.371 1437.55 L666.371 1434.16 Q668.534 1433.56 670.415 1433.26 Q672.314 1432.96 673.988 1432.96 Q678.314 1432.96 680.834 1434.93 Q683.354 1436.89 683.354 1440.24 Q683.354 1442.57 682.019 1444.19 Q680.684 1445.79 678.22 1446.41 Z\" fill=\"#000000\" fill-rule=\"nonzero\" fill-opacity=\"1\" /><path clip-path=\"url(#clip510)\" d=\"M834.352 1469.81 Q831.204 1469.81 829.352 1471.97 Q827.523 1474.12 827.523 1477.87 Q827.523 1481.6 829.352 1483.77 Q831.204 1485.92 834.352 1485.92 Q837.5 1485.92 839.329 1483.77 Q841.181 1481.6 841.181 1477.87 Q841.181 1474.12 839.329 1471.97 Q837.5 1469.81 834.352 1469.81 M843.634 1455.16 L843.634 1459.42 Q841.875 1458.59 840.07 1458.15 Q838.287 1457.71 836.528 1457.71 Q831.898 1457.71 829.445 1460.83 Q827.014 1463.96 826.667 1470.28 Q828.033 1468.26 830.093 1467.2 Q832.153 1466.11 834.63 1466.11 Q839.838 1466.11 842.847 1469.28 Q845.88 1472.43 845.88 1477.87 Q845.88 1483.19 842.732 1486.41 Q839.584 1489.63 834.352 1489.63 Q828.357 1489.63 825.186 1485.04 Q822.014 1480.44 822.014 1471.71 Q822.014 1463.52 825.903 1458.66 Q829.792 1453.77 836.343 1453.77 Q838.102 1453.77 839.885 1454.12 Q841.69 1454.47 843.634 1455.16 Z\" fill=\"#000000\" fill-rule=\"nonzero\" fill-opacity=\"1\" /><path clip-path=\"url(#clip510)\" d=\"M853.935 1483.08 L858.82 1483.08 L858.82 1488.96 L853.935 1488.96 L853.935 1483.08 Z\" fill=\"#000000\" fill-rule=\"nonzero\" fill-opacity=\"1\" /><path clip-path=\"url(#clip510)\" d=\"M879.005 1457.48 Q875.394 1457.48 873.565 1461.04 Q871.759 1464.58 871.759 1471.71 Q871.759 1478.82 873.565 1482.38 Q875.394 1485.92 879.005 1485.92 Q882.639 1485.92 884.444 1482.38 Q886.273 1478.82 886.273 1471.71 Q886.273 1464.58 884.444 1461.04 Q882.639 1457.48 879.005 1457.48 M879.005 1453.77 Q884.815 1453.77 887.87 1458.38 Q890.949 1462.96 890.949 1471.71 Q890.949 1480.44 887.87 1485.04 Q884.815 1489.63 879.005 1489.63 Q873.195 1489.63 870.116 1485.04 Q867.06 1480.44 867.06 1471.71 Q867.06 1462.96 870.116 1458.38 Q873.195 1453.77 879.005 1453.77 Z\" fill=\"#000000\" fill-rule=\"nonzero\" fill-opacity=\"1\" /><path clip-path=\"url(#clip510)\" d=\"M909.167 1457.48 Q905.555 1457.48 903.727 1461.04 Q901.921 1464.58 901.921 1471.71 Q901.921 1478.82 903.727 1482.38 Q905.555 1485.92 909.167 1485.92 Q912.801 1485.92 914.606 1482.38 Q916.435 1478.82 916.435 1471.71 Q916.435 1464.58 914.606 1461.04 Q912.801 1457.48 909.167 1457.48 M909.167 1453.77 Q914.977 1453.77 918.032 1458.38 Q921.111 1462.96 921.111 1471.71 Q921.111 1480.44 918.032 1485.04 Q914.977 1489.63 909.167 1489.63 Q903.356 1489.63 900.278 1485.04 Q897.222 1480.44 897.222 1471.71 Q897.222 1462.96 900.278 1458.38 Q903.356 1453.77 909.167 1453.77 Z\" fill=\"#000000\" fill-rule=\"nonzero\" fill-opacity=\"1\" /><path clip-path=\"url(#clip510)\" d=\"M957.5 1463.49 L946.921 1474.12 L957.5 1484.7 L954.745 1487.5 L944.12 1476.87 L933.495 1487.5 L930.764 1484.7 L941.319 1474.12 L930.764 1463.49 L933.495 1460.69 L944.12 1471.32 L954.745 1460.69 L957.5 1463.49 Z\" fill=\"#000000\" fill-rule=\"nonzero\" fill-opacity=\"1\" /><path clip-path=\"url(#clip510)\" d=\"M969.861 1485.02 L977.5 1485.02 L977.5 1458.66 L969.189 1460.32 L969.189 1456.06 L977.453 1454.4 L982.129 1454.4 L982.129 1485.02 L989.768 1485.02 L989.768 1488.96 L969.861 1488.96 L969.861 1485.02 Z\" fill=\"#000000\" fill-rule=\"nonzero\" fill-opacity=\"1\" /><path clip-path=\"url(#clip510)\" d=\"M1009.21 1457.48 Q1005.6 1457.48 1003.77 1461.04 Q1001.97 1464.58 1001.97 1471.71 Q1001.97 1478.82 1003.77 1482.38 Q1005.6 1485.92 1009.21 1485.92 Q1012.85 1485.92 1014.65 1482.38 Q1016.48 1478.82 1016.48 1471.71 Q1016.48 1464.58 1014.65 1461.04 Q1012.85 1457.48 1009.21 1457.48 M1009.21 1453.77 Q1015.02 1453.77 1018.08 1458.38 Q1021.16 1462.96 1021.16 1471.71 Q1021.16 1480.44 1018.08 1485.04 Q1015.02 1489.63 1009.21 1489.63 Q1003.4 1489.63 1000.32 1485.04 Q997.268 1480.44 997.268 1471.71 Q997.268 1462.96 1000.32 1458.38 Q1003.4 1453.77 1009.21 1453.77 Z\" fill=\"#000000\" fill-rule=\"nonzero\" fill-opacity=\"1\" /><path clip-path=\"url(#clip510)\" d=\"M1033.85 1446.41 Q1036.58 1446.99 1038.1 1448.83 Q1039.64 1450.68 1039.64 1453.38 Q1039.64 1457.54 1036.79 1459.82 Q1033.93 1462.09 1028.66 1462.09 Q1026.89 1462.09 1025.01 1461.73 Q1023.15 1461.4 1021.16 1460.7 L1021.16 1457.03 Q1022.74 1457.95 1024.62 1458.42 Q1026.5 1458.89 1028.55 1458.89 Q1032.12 1458.89 1033.98 1457.48 Q1035.86 1456.07 1035.86 1453.38 Q1035.86 1450.9 1034.12 1449.51 Q1032.38 1448.1 1029.28 1448.1 L1026.01 1448.1 L1026.01 1444.98 L1029.43 1444.98 Q1032.23 1444.98 1033.72 1443.87 Q1035.21 1442.74 1035.21 1440.63 Q1035.21 1438.47 1033.66 1437.32 Q1032.14 1436.16 1029.28 1436.16 Q1027.72 1436.16 1025.93 1436.49 Q1024.15 1436.83 1022 1437.55 L1022 1434.16 Q1024.17 1433.56 1026.05 1433.26 Q1027.95 1432.96 1029.62 1432.96 Q1033.95 1432.96 1036.47 1434.93 Q1038.99 1436.89 1038.99 1440.24 Q1038.99 1442.57 1037.65 1444.19 Q1036.32 1445.79 1033.85 1446.41 Z\" fill=\"#000000\" fill-rule=\"nonzero\" fill-opacity=\"1\" /><path clip-path=\"url(#clip510)\" d=\"M1179.56 1488.24 L1179.56 1483.98 Q1181.32 1484.81 1183.12 1485.25 Q1184.93 1485.69 1186.66 1485.69 Q1191.29 1485.69 1193.72 1482.59 Q1196.18 1479.47 1196.52 1473.12 Q1195.18 1475.11 1193.12 1476.18 Q1191.06 1477.24 1188.56 1477.24 Q1183.38 1477.24 1180.34 1474.12 Q1177.33 1470.97 1177.33 1465.53 Q1177.33 1460.21 1180.48 1456.99 Q1183.63 1453.77 1188.86 1453.77 Q1194.86 1453.77 1198 1458.38 Q1201.18 1462.96 1201.18 1471.71 Q1201.18 1479.88 1197.29 1484.77 Q1193.42 1489.63 1186.87 1489.63 Q1185.11 1489.63 1183.31 1489.28 Q1181.5 1488.93 1179.56 1488.24 M1188.86 1473.59 Q1192.01 1473.59 1193.84 1471.43 Q1195.69 1469.28 1195.69 1465.53 Q1195.69 1461.8 1193.84 1459.65 Q1192.01 1457.48 1188.86 1457.48 Q1185.71 1457.48 1183.86 1459.65 Q1182.03 1461.8 1182.03 1465.53 Q1182.03 1469.28 1183.86 1471.43 Q1185.71 1473.59 1188.86 1473.59 Z\" fill=\"#000000\" fill-rule=\"nonzero\" fill-opacity=\"1\" /><path clip-path=\"url(#clip510)\" d=\"M1209.58 1483.08 L1214.46 1483.08 L1214.46 1488.96 L1209.58 1488.96 L1209.58 1483.08 Z\" fill=\"#000000\" fill-rule=\"nonzero\" fill-opacity=\"1\" /><path clip-path=\"url(#clip510)\" d=\"M1234.65 1457.48 Q1231.04 1457.48 1229.21 1461.04 Q1227.4 1464.58 1227.4 1471.71 Q1227.4 1478.82 1229.21 1482.38 Q1231.04 1485.92 1234.65 1485.92 Q1238.28 1485.92 1240.09 1482.38 Q1241.92 1478.82 1241.92 1471.71 Q1241.92 1464.58 1240.09 1461.04 Q1238.28 1457.48 1234.65 1457.48 M1234.65 1453.77 Q1240.46 1453.77 1243.51 1458.38 Q1246.59 1462.96 1246.59 1471.71 Q1246.59 1480.44 1243.51 1485.04 Q1240.46 1489.63 1234.65 1489.63 Q1228.84 1489.63 1225.76 1485.04 Q1222.7 1480.44 1222.7 1471.71 Q1222.7 1462.96 1225.76 1458.38 Q1228.84 1453.77 1234.65 1453.77 Z\" fill=\"#000000\" fill-rule=\"nonzero\" fill-opacity=\"1\" /><path clip-path=\"url(#clip510)\" d=\"M1264.81 1457.48 Q1261.2 1457.48 1259.37 1461.04 Q1257.56 1464.58 1257.56 1471.71 Q1257.56 1478.82 1259.37 1482.38 Q1261.2 1485.92 1264.81 1485.92 Q1268.44 1485.92 1270.25 1482.38 Q1272.08 1478.82 1272.08 1471.71 Q1272.08 1464.58 1270.25 1461.04 Q1268.44 1457.48 1264.81 1457.48 M1264.81 1453.77 Q1270.62 1453.77 1273.68 1458.38 Q1276.75 1462.96 1276.75 1471.71 Q1276.75 1480.44 1273.68 1485.04 Q1270.62 1489.63 1264.81 1489.63 Q1259 1489.63 1255.92 1485.04 Q1252.87 1480.44 1252.87 1471.71 Q1252.87 1462.96 1255.92 1458.38 Q1259 1453.77 1264.81 1453.77 Z\" fill=\"#000000\" fill-rule=\"nonzero\" fill-opacity=\"1\" /><path clip-path=\"url(#clip510)\" d=\"M1313.14 1463.49 L1302.56 1474.12 L1313.14 1484.7 L1310.39 1487.5 L1299.76 1476.87 L1289.14 1487.5 L1286.41 1484.7 L1296.96 1474.12 L1286.41 1463.49 L1289.14 1460.69 L1299.76 1471.32 L1310.39 1460.69 L1313.14 1463.49 Z\" fill=\"#000000\" fill-rule=\"nonzero\" fill-opacity=\"1\" /><path clip-path=\"url(#clip510)\" d=\"M1325.5 1485.02 L1333.14 1485.02 L1333.14 1458.66 L1324.83 1460.32 L1324.83 1456.06 L1333.1 1454.4 L1337.77 1454.4 L1337.77 1485.02 L1345.41 1485.02 L1345.41 1488.96 L1325.5 1488.96 L1325.5 1485.02 Z\" fill=\"#000000\" fill-rule=\"nonzero\" fill-opacity=\"1\" /><path clip-path=\"url(#clip510)\" d=\"M1364.86 1457.48 Q1361.24 1457.48 1359.42 1461.04 Q1357.61 1464.58 1357.61 1471.71 Q1357.61 1478.82 1359.42 1482.38 Q1361.24 1485.92 1364.86 1485.92 Q1368.49 1485.92 1370.3 1482.38 Q1372.12 1478.82 1372.12 1471.71 Q1372.12 1464.58 1370.3 1461.04 Q1368.49 1457.48 1364.86 1457.48 M1364.86 1453.77 Q1370.67 1453.77 1373.72 1458.38 Q1376.8 1462.96 1376.8 1471.71 Q1376.8 1480.44 1373.72 1485.04 Q1370.67 1489.63 1364.86 1489.63 Q1359.05 1489.63 1355.97 1485.04 Q1352.91 1480.44 1352.91 1471.71 Q1352.91 1462.96 1355.97 1458.38 Q1359.05 1453.77 1364.86 1453.77 Z\" fill=\"#000000\" fill-rule=\"nonzero\" fill-opacity=\"1\" /><path clip-path=\"url(#clip510)\" d=\"M1389.5 1446.41 Q1392.22 1446.99 1393.75 1448.83 Q1395.29 1450.68 1395.29 1453.38 Q1395.29 1457.54 1392.43 1459.82 Q1389.57 1462.09 1384.3 1462.09 Q1382.54 1462.09 1380.66 1461.73 Q1378.79 1461.4 1376.8 1460.7 L1376.8 1457.03 Q1378.38 1457.95 1380.26 1458.42 Q1382.14 1458.89 1384.19 1458.89 Q1387.77 1458.89 1389.63 1457.48 Q1391.51 1456.07 1391.51 1453.38 Q1391.51 1450.9 1389.76 1449.51 Q1388.03 1448.1 1384.93 1448.1 L1381.65 1448.1 L1381.65 1444.98 L1385.08 1444.98 Q1387.88 1444.98 1389.36 1443.87 Q1390.85 1442.74 1390.85 1440.63 Q1390.85 1438.47 1389.31 1437.32 Q1387.78 1436.16 1384.93 1436.16 Q1383.36 1436.16 1381.58 1436.49 Q1379.79 1436.83 1377.65 1437.55 L1377.65 1434.16 Q1379.81 1433.56 1381.69 1433.26 Q1383.59 1432.96 1385.26 1432.96 Q1389.59 1432.96 1392.11 1434.93 Q1394.63 1436.89 1394.63 1440.24 Q1394.63 1442.57 1393.29 1444.19 Q1391.96 1445.79 1389.5 1446.41 Z\" fill=\"#000000\" fill-rule=\"nonzero\" fill-opacity=\"1\" /><path clip-path=\"url(#clip510)\" d=\"M1533.61 1485.02 L1541.25 1485.02 L1541.25 1458.66 L1532.94 1460.32 L1532.94 1456.06 L1541.2 1454.4 L1545.88 1454.4 L1545.88 1485.02 L1553.52 1485.02 L1553.52 1488.96 L1533.61 1488.96 L1533.61 1485.02 Z\" fill=\"#000000\" fill-rule=\"nonzero\" fill-opacity=\"1\" /><path clip-path=\"url(#clip510)\" d=\"M1562.96 1483.08 L1567.85 1483.08 L1567.85 1488.96 L1562.96 1488.96 L1562.96 1483.08 Z\" fill=\"#000000\" fill-rule=\"nonzero\" fill-opacity=\"1\" /><path clip-path=\"url(#clip510)\" d=\"M1582.06 1485.02 L1598.38 1485.02 L1598.38 1488.96 L1576.43 1488.96 L1576.43 1485.02 Q1579.1 1482.27 1583.68 1477.64 Q1588.29 1472.98 1589.47 1471.64 Q1591.71 1469.12 1592.59 1467.38 Q1593.49 1465.62 1593.49 1463.93 Q1593.49 1461.18 1591.55 1459.44 Q1589.63 1457.71 1586.53 1457.71 Q1584.33 1457.71 1581.87 1458.47 Q1579.44 1459.23 1576.67 1460.79 L1576.67 1456.06 Q1579.49 1454.93 1581.94 1454.35 Q1584.4 1453.77 1586.43 1453.77 Q1591.8 1453.77 1595 1456.46 Q1598.19 1459.14 1598.19 1463.63 Q1598.19 1465.76 1597.38 1467.68 Q1596.6 1469.58 1594.49 1472.17 Q1593.91 1472.85 1590.81 1476.06 Q1587.71 1479.26 1582.06 1485.02 Z\" fill=\"#000000\" fill-rule=\"nonzero\" fill-opacity=\"1\" /><path clip-path=\"url(#clip510)\" d=\"M1618.19 1457.48 Q1614.58 1457.48 1612.75 1461.04 Q1610.95 1464.58 1610.95 1471.71 Q1610.95 1478.82 1612.75 1482.38 Q1614.58 1485.92 1618.19 1485.92 Q1621.83 1485.92 1623.63 1482.38 Q1625.46 1478.82 1625.46 1471.71 Q1625.46 1464.58 1623.63 1461.04 Q1621.83 1457.48 1618.19 1457.48 M1618.19 1453.77 Q1624 1453.77 1627.06 1458.38 Q1630.14 1462.96 1630.14 1471.71 Q1630.14 1480.44 1627.06 1485.04 Q1624 1489.63 1618.19 1489.63 Q1612.38 1489.63 1609.3 1485.04 Q1606.25 1480.44 1606.25 1471.71 Q1606.25 1462.96 1609.3 1458.38 Q1612.38 1453.77 1618.19 1453.77 Z\" fill=\"#000000\" fill-rule=\"nonzero\" fill-opacity=\"1\" /><path clip-path=\"url(#clip510)\" d=\"M1666.53 1463.49 L1655.95 1474.12 L1666.53 1484.7 L1663.77 1487.5 L1653.15 1476.87 L1642.52 1487.5 L1639.79 1484.7 L1650.35 1474.12 L1639.79 1463.49 L1642.52 1460.69 L1653.15 1471.32 L1663.77 1460.69 L1666.53 1463.49 Z\" fill=\"#000000\" fill-rule=\"nonzero\" fill-opacity=\"1\" /><path clip-path=\"url(#clip510)\" d=\"M1678.89 1485.02 L1686.53 1485.02 L1686.53 1458.66 L1678.22 1460.32 L1678.22 1456.06 L1686.48 1454.4 L1691.16 1454.4 L1691.16 1485.02 L1698.79 1485.02 L1698.79 1488.96 L1678.89 1488.96 L1678.89 1485.02 Z\" fill=\"#000000\" fill-rule=\"nonzero\" fill-opacity=\"1\" /><path clip-path=\"url(#clip510)\" d=\"M1718.24 1457.48 Q1714.63 1457.48 1712.8 1461.04 Q1710.99 1464.58 1710.99 1471.71 Q1710.99 1478.82 1712.8 1482.38 Q1714.63 1485.92 1718.24 1485.92 Q1721.87 1485.92 1723.68 1482.38 Q1725.51 1478.82 1725.51 1471.71 Q1725.51 1464.58 1723.68 1461.04 Q1721.87 1457.48 1718.24 1457.48 M1718.24 1453.77 Q1724.05 1453.77 1727.1 1458.38 Q1730.18 1462.96 1730.18 1471.71 Q1730.18 1480.44 1727.1 1485.04 Q1724.05 1489.63 1718.24 1489.63 Q1712.43 1489.63 1709.35 1485.04 Q1706.29 1480.44 1706.29 1471.71 Q1706.29 1462.96 1709.35 1458.38 Q1712.43 1453.77 1718.24 1453.77 Z\" fill=\"#000000\" fill-rule=\"nonzero\" fill-opacity=\"1\" /><path clip-path=\"url(#clip510)\" d=\"M1742.86 1436.78 L1733.27 1451.77 L1742.86 1451.77 L1742.86 1436.78 M1741.86 1433.47 L1746.64 1433.47 L1746.64 1451.77 L1750.65 1451.77 L1750.65 1454.93 L1746.64 1454.93 L1746.64 1461.55 L1742.86 1461.55 L1742.86 1454.93 L1730.18 1454.93 L1730.18 1451.26 L1741.86 1433.47 Z\" fill=\"#000000\" fill-rule=\"nonzero\" fill-opacity=\"1\" /><path clip-path=\"url(#clip510)\" d=\"M1889.09 1485.02 L1896.73 1485.02 L1896.73 1458.66 L1888.42 1460.32 L1888.42 1456.06 L1896.68 1454.4 L1901.36 1454.4 L1901.36 1485.02 L1909 1485.02 L1909 1488.96 L1889.09 1488.96 L1889.09 1485.02 Z\" fill=\"#000000\" fill-rule=\"nonzero\" fill-opacity=\"1\" /><path clip-path=\"url(#clip510)\" d=\"M1918.44 1483.08 L1923.33 1483.08 L1923.33 1488.96 L1918.44 1488.96 L1918.44 1483.08 Z\" fill=\"#000000\" fill-rule=\"nonzero\" fill-opacity=\"1\" /><path clip-path=\"url(#clip510)\" d=\"M1933.56 1454.4 L1951.92 1454.4 L1951.92 1458.33 L1937.84 1458.33 L1937.84 1466.8 Q1938.86 1466.46 1939.88 1466.29 Q1940.9 1466.11 1941.92 1466.11 Q1947.7 1466.11 1951.08 1469.28 Q1954.46 1472.45 1954.46 1477.87 Q1954.46 1483.45 1950.99 1486.55 Q1947.52 1489.63 1941.2 1489.63 Q1939.02 1489.63 1936.75 1489.26 Q1934.51 1488.89 1932.1 1488.15 L1932.1 1483.45 Q1934.18 1484.58 1936.41 1485.14 Q1938.63 1485.69 1941.11 1485.69 Q1945.11 1485.69 1947.45 1483.59 Q1949.79 1481.48 1949.79 1477.87 Q1949.79 1474.26 1947.45 1472.15 Q1945.11 1470.04 1941.11 1470.04 Q1939.23 1470.04 1937.36 1470.46 Q1935.5 1470.88 1933.56 1471.76 L1933.56 1454.4 Z\" fill=\"#000000\" fill-rule=\"nonzero\" fill-opacity=\"1\" /><path clip-path=\"url(#clip510)\" d=\"M1973.67 1457.48 Q1970.06 1457.48 1968.24 1461.04 Q1966.43 1464.58 1966.43 1471.71 Q1966.43 1478.82 1968.24 1482.38 Q1970.06 1485.92 1973.67 1485.92 Q1977.31 1485.92 1979.11 1482.38 Q1980.94 1478.82 1980.94 1471.71 Q1980.94 1464.58 1979.11 1461.04 Q1977.31 1457.48 1973.67 1457.48 M1973.67 1453.77 Q1979.49 1453.77 1982.54 1458.38 Q1985.62 1462.96 1985.62 1471.71 Q1985.62 1480.44 1982.54 1485.04 Q1979.49 1489.63 1973.67 1489.63 Q1967.86 1489.63 1964.79 1485.04 Q1961.73 1480.44 1961.73 1471.71 Q1961.73 1462.96 1964.79 1458.38 Q1967.86 1453.77 1973.67 1453.77 Z\" fill=\"#000000\" fill-rule=\"nonzero\" fill-opacity=\"1\" /><path clip-path=\"url(#clip510)\" d=\"M2022.01 1463.49 L2011.43 1474.12 L2022.01 1484.7 L2019.25 1487.5 L2008.63 1476.87 L1998 1487.5 L1995.27 1484.7 L2005.83 1474.12 L1995.27 1463.49 L1998 1460.69 L2008.63 1471.32 L2019.25 1460.69 L2022.01 1463.49 Z\" fill=\"#000000\" fill-rule=\"nonzero\" fill-opacity=\"1\" /><path clip-path=\"url(#clip510)\" d=\"M2034.37 1485.02 L2042.01 1485.02 L2042.01 1458.66 L2033.7 1460.32 L2033.7 1456.06 L2041.96 1454.4 L2046.64 1454.4 L2046.64 1485.02 L2054.28 1485.02 L2054.28 1488.96 L2034.37 1488.96 L2034.37 1485.02 Z\" fill=\"#000000\" fill-rule=\"nonzero\" fill-opacity=\"1\" /><path clip-path=\"url(#clip510)\" d=\"M2073.72 1457.48 Q2070.11 1457.48 2068.28 1461.04 Q2066.48 1464.58 2066.48 1471.71 Q2066.48 1478.82 2068.28 1482.38 Q2070.11 1485.92 2073.72 1485.92 Q2077.35 1485.92 2079.16 1482.38 Q2080.99 1478.82 2080.99 1471.71 Q2080.99 1464.58 2079.16 1461.04 Q2077.35 1457.48 2073.72 1457.48 M2073.72 1453.77 Q2079.53 1453.77 2082.59 1458.38 Q2085.67 1462.96 2085.67 1471.71 Q2085.67 1480.44 2082.59 1485.04 Q2079.53 1489.63 2073.72 1489.63 Q2067.91 1489.63 2064.83 1485.04 Q2061.78 1480.44 2061.78 1471.71 Q2061.78 1462.96 2064.83 1458.38 Q2067.91 1453.77 2073.72 1453.77 Z\" fill=\"#000000\" fill-rule=\"nonzero\" fill-opacity=\"1\" /><path clip-path=\"url(#clip510)\" d=\"M2098.34 1436.78 L2088.75 1451.77 L2098.34 1451.77 L2098.34 1436.78 M2097.34 1433.47 L2102.12 1433.47 L2102.12 1451.77 L2106.13 1451.77 L2106.13 1454.93 L2102.12 1454.93 L2102.12 1461.55 L2098.34 1461.55 L2098.34 1454.93 L2085.67 1454.93 L2085.67 1451.26 L2097.34 1433.47 Z\" fill=\"#000000\" fill-rule=\"nonzero\" fill-opacity=\"1\" /><path clip-path=\"url(#clip510)\" d=\"M2244.57 1485.02 L2252.21 1485.02 L2252.21 1458.66 L2243.9 1460.32 L2243.9 1456.06 L2252.17 1454.4 L2256.84 1454.4 L2256.84 1485.02 L2264.48 1485.02 L2264.48 1488.96 L2244.57 1488.96 L2244.57 1485.02 Z\" fill=\"#000000\" fill-rule=\"nonzero\" fill-opacity=\"1\" /><path clip-path=\"url(#clip510)\" d=\"M2273.93 1483.08 L2278.81 1483.08 L2278.81 1488.96 L2273.93 1488.96 L2273.93 1483.08 Z\" fill=\"#000000\" fill-rule=\"nonzero\" fill-opacity=\"1\" /><path clip-path=\"url(#clip510)\" d=\"M2298.99 1472.54 Q2295.66 1472.54 2293.74 1474.33 Q2291.84 1476.11 2291.84 1479.23 Q2291.84 1482.36 2293.74 1484.14 Q2295.66 1485.92 2298.99 1485.92 Q2302.33 1485.92 2304.25 1484.14 Q2306.17 1482.34 2306.17 1479.23 Q2306.17 1476.11 2304.25 1474.33 Q2302.35 1472.54 2298.99 1472.54 M2294.32 1470.55 Q2291.31 1469.81 2289.62 1467.75 Q2287.95 1465.69 2287.95 1462.73 Q2287.95 1458.59 2290.89 1456.18 Q2293.86 1453.77 2298.99 1453.77 Q2304.16 1453.77 2307.1 1456.18 Q2310.04 1458.59 2310.04 1462.73 Q2310.04 1465.69 2308.35 1467.75 Q2306.68 1469.81 2303.69 1470.55 Q2307.07 1471.34 2308.95 1473.63 Q2310.85 1475.92 2310.85 1479.23 Q2310.85 1484.26 2307.77 1486.94 Q2304.71 1489.63 2298.99 1489.63 Q2293.28 1489.63 2290.2 1486.94 Q2287.14 1484.26 2287.14 1479.23 Q2287.14 1475.92 2289.04 1473.63 Q2290.94 1471.34 2294.32 1470.55 M2292.61 1463.17 Q2292.61 1465.85 2294.27 1467.36 Q2295.96 1468.86 2298.99 1468.86 Q2302 1468.86 2303.69 1467.36 Q2305.41 1465.85 2305.41 1463.17 Q2305.41 1460.48 2303.69 1458.98 Q2302 1457.48 2298.99 1457.48 Q2295.96 1457.48 2294.27 1458.98 Q2292.61 1460.48 2292.61 1463.17 Z\" fill=\"#000000\" fill-rule=\"nonzero\" fill-opacity=\"1\" /><path clip-path=\"url(#clip510)\" d=\"M2329.16 1457.48 Q2325.55 1457.48 2323.72 1461.04 Q2321.91 1464.58 2321.91 1471.71 Q2321.91 1478.82 2323.72 1482.38 Q2325.55 1485.92 2329.16 1485.92 Q2332.79 1485.92 2334.6 1482.38 Q2336.42 1478.82 2336.42 1471.71 Q2336.42 1464.58 2334.6 1461.04 Q2332.79 1457.48 2329.16 1457.48 M2329.16 1453.77 Q2334.97 1453.77 2338.02 1458.38 Q2341.1 1462.96 2341.1 1471.71 Q2341.1 1480.44 2338.02 1485.04 Q2334.97 1489.63 2329.16 1489.63 Q2323.35 1489.63 2320.27 1485.04 Q2317.21 1480.44 2317.21 1471.71 Q2317.21 1462.96 2320.27 1458.38 Q2323.35 1453.77 2329.16 1453.77 Z\" fill=\"#000000\" fill-rule=\"nonzero\" fill-opacity=\"1\" /><path clip-path=\"url(#clip510)\" d=\"M2377.49 1463.49 L2366.91 1474.12 L2377.49 1484.7 L2374.73 1487.5 L2364.11 1476.87 L2353.49 1487.5 L2350.75 1484.7 L2361.31 1474.12 L2350.75 1463.49 L2353.49 1460.69 L2364.11 1471.32 L2374.73 1460.69 L2377.49 1463.49 Z\" fill=\"#000000\" fill-rule=\"nonzero\" fill-opacity=\"1\" /><path clip-path=\"url(#clip510)\" d=\"M2389.85 1485.02 L2397.49 1485.02 L2397.49 1458.66 L2389.18 1460.32 L2389.18 1456.06 L2397.44 1454.4 L2402.12 1454.4 L2402.12 1485.02 L2409.76 1485.02 L2409.76 1488.96 L2389.85 1488.96 L2389.85 1485.02 Z\" fill=\"#000000\" fill-rule=\"nonzero\" fill-opacity=\"1\" /><path clip-path=\"url(#clip510)\" d=\"M2429.2 1457.48 Q2425.59 1457.48 2423.76 1461.04 Q2421.96 1464.58 2421.96 1471.71 Q2421.96 1478.82 2423.76 1482.38 Q2425.59 1485.92 2429.2 1485.92 Q2432.84 1485.92 2434.64 1482.38 Q2436.47 1478.82 2436.47 1471.71 Q2436.47 1464.58 2434.64 1461.04 Q2432.84 1457.48 2429.2 1457.48 M2429.2 1453.77 Q2435.01 1453.77 2438.07 1458.38 Q2441.15 1462.96 2441.15 1471.71 Q2441.15 1480.44 2438.07 1485.04 Q2435.01 1489.63 2429.2 1489.63 Q2423.39 1489.63 2420.31 1485.04 Q2417.26 1480.44 2417.26 1471.71 Q2417.26 1462.96 2420.31 1458.38 Q2423.39 1453.77 2429.2 1453.77 Z\" fill=\"#000000\" fill-rule=\"nonzero\" fill-opacity=\"1\" /><path clip-path=\"url(#clip510)\" d=\"M2453.82 1436.78 L2444.23 1451.77 L2453.82 1451.77 L2453.82 1436.78 M2452.83 1433.47 L2457.6 1433.47 L2457.6 1451.77 L2461.61 1451.77 L2461.61 1454.93 L2457.6 1454.93 L2457.6 1461.55 L2453.82 1461.55 L2453.82 1454.93 L2441.15 1454.93 L2441.15 1451.26 L2452.83 1433.47 Z\" fill=\"#000000\" fill-rule=\"nonzero\" fill-opacity=\"1\" /><path clip-path=\"url(#clip510)\" d=\"M1285.37 1528.42 L1285.37 1538.54 L1297.44 1538.54 L1297.44 1543.09 L1285.37 1543.09 L1285.37 1562.44 Q1285.37 1566.8 1286.55 1568.04 Q1287.76 1569.28 1291.42 1569.28 L1297.44 1569.28 L1297.44 1574.19 L1291.42 1574.19 Q1284.64 1574.19 1282.06 1571.67 Q1279.48 1569.12 1279.48 1562.44 L1279.48 1543.09 L1275.19 1543.09 L1275.19 1538.54 L1279.48 1538.54 L1279.48 1528.42 L1285.37 1528.42 Z\" fill=\"#000000\" fill-rule=\"nonzero\" fill-opacity=\"1\" /><polyline clip-path=\"url(#clip510)\" style=\"stroke:#000000; stroke-linecap:round; stroke-linejoin:round; stroke-width:4; stroke-opacity:1; fill:none\" points=\"219.866,1410.9 219.866,47.2441 \"/>\n",
       "<polyline clip-path=\"url(#clip510)\" style=\"stroke:#000000; stroke-linecap:round; stroke-linejoin:round; stroke-width:4; stroke-opacity:1; fill:none\" points=\"219.866,1149.5 238.764,1149.5 \"/>\n",
       "<polyline clip-path=\"url(#clip510)\" style=\"stroke:#000000; stroke-linecap:round; stroke-linejoin:round; stroke-width:4; stroke-opacity:1; fill:none\" points=\"219.866,883.583 238.764,883.583 \"/>\n",
       "<polyline clip-path=\"url(#clip510)\" style=\"stroke:#000000; stroke-linecap:round; stroke-linejoin:round; stroke-width:4; stroke-opacity:1; fill:none\" points=\"219.866,617.668 238.764,617.668 \"/>\n",
       "<polyline clip-path=\"url(#clip510)\" style=\"stroke:#000000; stroke-linecap:round; stroke-linejoin:round; stroke-width:4; stroke-opacity:1; fill:none\" points=\"219.866,351.753 238.764,351.753 \"/>\n",
       "<polyline clip-path=\"url(#clip510)\" style=\"stroke:#000000; stroke-linecap:round; stroke-linejoin:round; stroke-width:4; stroke-opacity:1; fill:none\" points=\"219.866,85.838 238.764,85.838 \"/>\n",
       "<path clip-path=\"url(#clip510)\" d=\"M128.288 1135.3 Q124.677 1135.3 122.848 1138.86 Q121.043 1142.4 121.043 1149.53 Q121.043 1156.64 122.848 1160.2 Q124.677 1163.75 128.288 1163.75 Q131.922 1163.75 133.728 1160.2 Q135.556 1156.64 135.556 1149.53 Q135.556 1142.4 133.728 1138.86 Q131.922 1135.3 128.288 1135.3 M128.288 1131.59 Q134.098 1131.59 137.154 1136.2 Q140.232 1140.78 140.232 1149.53 Q140.232 1158.26 137.154 1162.87 Q134.098 1167.45 128.288 1167.45 Q122.478 1167.45 119.399 1162.87 Q116.343 1158.26 116.343 1149.53 Q116.343 1140.78 119.399 1136.2 Q122.478 1131.59 128.288 1131.59 Z\" fill=\"#000000\" fill-rule=\"nonzero\" fill-opacity=\"1\" /><path clip-path=\"url(#clip510)\" d=\"M148.45 1160.9 L153.334 1160.9 L153.334 1166.78 L148.45 1166.78 L148.45 1160.9 Z\" fill=\"#000000\" fill-rule=\"nonzero\" fill-opacity=\"1\" /><path clip-path=\"url(#clip510)\" d=\"M167.547 1162.84 L183.866 1162.84 L183.866 1166.78 L161.922 1166.78 L161.922 1162.84 Q164.584 1160.09 169.167 1155.46 Q173.774 1150.81 174.954 1149.46 Q177.2 1146.94 178.079 1145.2 Q178.982 1143.44 178.982 1141.75 Q178.982 1139 177.038 1137.26 Q175.116 1135.53 172.014 1135.53 Q169.815 1135.53 167.362 1136.29 Q164.931 1137.06 162.153 1138.61 L162.153 1133.88 Q164.977 1132.75 167.431 1132.17 Q169.885 1131.59 171.922 1131.59 Q177.292 1131.59 180.487 1134.28 Q183.681 1136.96 183.681 1141.45 Q183.681 1143.58 182.871 1145.5 Q182.084 1147.4 179.977 1150 Q179.399 1150.67 176.297 1153.88 Q173.195 1157.08 167.547 1162.84 Z\" fill=\"#000000\" fill-rule=\"nonzero\" fill-opacity=\"1\" /><path clip-path=\"url(#clip510)\" d=\"M126.205 869.381 Q122.593 869.381 120.765 872.946 Q118.959 876.488 118.959 883.617 Q118.959 890.724 120.765 894.289 Q122.593 897.83 126.205 897.83 Q129.839 897.83 131.644 894.289 Q133.473 890.724 133.473 883.617 Q133.473 876.488 131.644 872.946 Q129.839 869.381 126.205 869.381 M126.205 865.678 Q132.015 865.678 135.07 870.284 Q138.149 874.868 138.149 883.617 Q138.149 892.344 135.07 896.951 Q132.015 901.534 126.205 901.534 Q120.394 901.534 117.316 896.951 Q114.26 892.344 114.26 883.617 Q114.26 874.868 117.316 870.284 Q120.394 865.678 126.205 865.678 Z\" fill=\"#000000\" fill-rule=\"nonzero\" fill-opacity=\"1\" /><path clip-path=\"url(#clip510)\" d=\"M146.366 894.983 L151.251 894.983 L151.251 900.863 L146.366 900.863 L146.366 894.983 Z\" fill=\"#000000\" fill-rule=\"nonzero\" fill-opacity=\"1\" /><path clip-path=\"url(#clip510)\" d=\"M174.283 870.377 L162.477 888.826 L174.283 888.826 L174.283 870.377 M173.056 866.303 L178.936 866.303 L178.936 888.826 L183.866 888.826 L183.866 892.715 L178.936 892.715 L178.936 900.863 L174.283 900.863 L174.283 892.715 L158.681 892.715 L158.681 888.201 L173.056 866.303 Z\" fill=\"#000000\" fill-rule=\"nonzero\" fill-opacity=\"1\" /><path clip-path=\"url(#clip510)\" d=\"M126.529 603.467 Q122.918 603.467 121.089 607.031 Q119.283 610.573 119.283 617.703 Q119.283 624.809 121.089 628.374 Q122.918 631.915 126.529 631.915 Q130.163 631.915 131.968 628.374 Q133.797 624.809 133.797 617.703 Q133.797 610.573 131.968 607.031 Q130.163 603.467 126.529 603.467 M126.529 599.763 Q132.339 599.763 135.394 604.369 Q138.473 608.953 138.473 617.703 Q138.473 626.429 135.394 631.036 Q132.339 635.619 126.529 635.619 Q120.718 635.619 117.64 631.036 Q114.584 626.429 114.584 617.703 Q114.584 608.953 117.64 604.369 Q120.718 599.763 126.529 599.763 Z\" fill=\"#000000\" fill-rule=\"nonzero\" fill-opacity=\"1\" /><path clip-path=\"url(#clip510)\" d=\"M146.691 629.068 L151.575 629.068 L151.575 634.948 L146.691 634.948 L146.691 629.068 Z\" fill=\"#000000\" fill-rule=\"nonzero\" fill-opacity=\"1\" /><path clip-path=\"url(#clip510)\" d=\"M172.339 615.804 Q169.19 615.804 167.339 617.957 Q165.51 620.11 165.51 623.86 Q165.51 627.587 167.339 629.763 Q169.19 631.915 172.339 631.915 Q175.487 631.915 177.315 629.763 Q179.167 627.587 179.167 623.86 Q179.167 620.11 177.315 617.957 Q175.487 615.804 172.339 615.804 M181.621 601.152 L181.621 605.411 Q179.862 604.578 178.056 604.138 Q176.274 603.698 174.514 603.698 Q169.885 603.698 167.431 606.823 Q165.001 609.948 164.653 616.267 Q166.019 614.254 168.079 613.189 Q170.139 612.101 172.616 612.101 Q177.825 612.101 180.834 615.272 Q183.866 618.42 183.866 623.86 Q183.866 629.184 180.718 632.402 Q177.57 635.619 172.339 635.619 Q166.343 635.619 163.172 631.036 Q160.001 626.429 160.001 617.703 Q160.001 609.508 163.89 604.647 Q167.778 599.763 174.329 599.763 Q176.089 599.763 177.871 600.11 Q179.676 600.457 181.621 601.152 Z\" fill=\"#000000\" fill-rule=\"nonzero\" fill-opacity=\"1\" /><path clip-path=\"url(#clip510)\" d=\"M126.783 337.552 Q123.172 337.552 121.343 341.116 Q119.538 344.658 119.538 351.788 Q119.538 358.894 121.343 362.459 Q123.172 366.001 126.783 366.001 Q130.417 366.001 132.223 362.459 Q134.052 358.894 134.052 351.788 Q134.052 344.658 132.223 341.116 Q130.417 337.552 126.783 337.552 M126.783 333.848 Q132.593 333.848 135.649 338.454 Q138.728 343.038 138.728 351.788 Q138.728 360.514 135.649 365.121 Q132.593 369.704 126.783 369.704 Q120.973 369.704 117.894 365.121 Q114.839 360.514 114.839 351.788 Q114.839 343.038 117.894 338.454 Q120.973 333.848 126.783 333.848 Z\" fill=\"#000000\" fill-rule=\"nonzero\" fill-opacity=\"1\" /><path clip-path=\"url(#clip510)\" d=\"M146.945 363.153 L151.829 363.153 L151.829 369.033 L146.945 369.033 L146.945 363.153 Z\" fill=\"#000000\" fill-rule=\"nonzero\" fill-opacity=\"1\" /><path clip-path=\"url(#clip510)\" d=\"M172.014 352.621 Q168.681 352.621 166.76 354.403 Q164.862 356.186 164.862 359.311 Q164.862 362.436 166.76 364.218 Q168.681 366.001 172.014 366.001 Q175.348 366.001 177.269 364.218 Q179.19 362.413 179.19 359.311 Q179.19 356.186 177.269 354.403 Q175.371 352.621 172.014 352.621 M167.339 350.63 Q164.329 349.89 162.64 347.829 Q160.973 345.769 160.973 342.806 Q160.973 338.663 163.913 336.255 Q166.876 333.848 172.014 333.848 Q177.176 333.848 180.116 336.255 Q183.056 338.663 183.056 342.806 Q183.056 345.769 181.366 347.829 Q179.7 349.89 176.714 350.63 Q180.093 351.417 181.968 353.709 Q183.866 356.001 183.866 359.311 Q183.866 364.334 180.788 367.019 Q177.732 369.704 172.014 369.704 Q166.297 369.704 163.218 367.019 Q160.163 364.334 160.163 359.311 Q160.163 356.001 162.061 353.709 Q163.959 351.417 167.339 350.63 M165.626 343.246 Q165.626 345.931 167.292 347.436 Q168.982 348.94 172.014 348.94 Q175.024 348.94 176.714 347.436 Q178.426 345.931 178.426 343.246 Q178.426 340.561 176.714 339.056 Q175.024 337.552 172.014 337.552 Q168.982 337.552 167.292 339.056 Q165.626 340.561 165.626 343.246 Z\" fill=\"#000000\" fill-rule=\"nonzero\" fill-opacity=\"1\" /><path clip-path=\"url(#clip510)\" d=\"M117.501 99.1829 L125.14 99.1829 L125.14 72.8173 L116.83 74.4839 L116.83 70.2247 L125.093 68.558 L129.769 68.558 L129.769 99.1829 L137.408 99.1829 L137.408 103.118 L117.501 103.118 L117.501 99.1829 Z\" fill=\"#000000\" fill-rule=\"nonzero\" fill-opacity=\"1\" /><path clip-path=\"url(#clip510)\" d=\"M146.853 97.2384 L151.737 97.2384 L151.737 103.118 L146.853 103.118 L146.853 97.2384 Z\" fill=\"#000000\" fill-rule=\"nonzero\" fill-opacity=\"1\" /><path clip-path=\"url(#clip510)\" d=\"M171.922 71.6367 Q168.311 71.6367 166.482 75.2015 Q164.677 78.7432 164.677 85.8728 Q164.677 92.9792 166.482 96.544 Q168.311 100.086 171.922 100.086 Q175.556 100.086 177.362 96.544 Q179.19 92.9792 179.19 85.8728 Q179.19 78.7432 177.362 75.2015 Q175.556 71.6367 171.922 71.6367 M171.922 67.933 Q177.732 67.933 180.788 72.5395 Q183.866 77.1228 183.866 85.8728 Q183.866 94.5996 180.788 99.206 Q177.732 103.789 171.922 103.789 Q166.112 103.789 163.033 99.206 Q159.978 94.5996 159.978 85.8728 Q159.978 77.1228 163.033 72.5395 Q166.112 67.933 171.922 67.933 Z\" fill=\"#000000\" fill-rule=\"nonzero\" fill-opacity=\"1\" /><path clip-path=\"url(#clip510)\" d=\"M16.4842 811.984 L16.4842 771.784 L21.895 771.784 L21.895 788.653 L64.0042 788.653 L64.0042 795.115 L21.895 795.115 L21.895 811.984 L16.4842 811.984 Z\" fill=\"#000000\" fill-rule=\"nonzero\" fill-opacity=\"1\" /><path clip-path=\"url(#clip510)\" d=\"M57.2247 733.176 L44.4614 733.176 L44.4614 743.68 L39.1779 743.68 L39.1779 726.811 L59.58 726.811 Q62.2218 730.534 63.5904 735.022 Q64.9272 739.51 64.9272 744.603 Q64.9272 755.743 58.4342 762.045 Q51.9093 768.315 40.2919 768.315 Q28.6427 768.315 22.1496 762.045 Q15.6248 755.743 15.6248 744.603 Q15.6248 739.956 16.7706 735.786 Q17.9164 731.585 20.1444 728.052 L26.9876 728.052 Q23.9639 731.617 22.4361 735.627 Q20.9083 739.637 20.9083 744.062 Q20.9083 752.783 25.7781 757.175 Q30.6479 761.535 40.2919 761.535 Q49.9041 761.535 54.7739 757.175 Q59.6436 752.783 59.6436 744.062 Q59.6436 740.656 59.0707 737.982 Q58.466 735.309 57.2247 733.176 Z\" fill=\"#000000\" fill-rule=\"nonzero\" fill-opacity=\"1\" /><path clip-path=\"url(#clip510)\" d=\"M16.4842 715.066 L16.4842 687.757 L21.895 687.757 L21.895 708.636 L35.8996 708.636 L35.8996 689.794 L41.3104 689.794 L41.3104 708.636 L64.0042 708.636 L64.0042 715.066 L16.4842 715.066 Z\" fill=\"#000000\" fill-rule=\"nonzero\" fill-opacity=\"1\" /><path clip-path=\"url(#clip510)\" d=\"M46.212 652.236 Q39.7508 652.236 36.0905 654.91 Q32.3984 657.552 32.3984 662.199 Q32.3984 666.846 36.0905 669.519 Q39.7508 672.161 46.212 672.161 Q52.6732 672.161 56.3653 669.519 Q60.0256 666.846 60.0256 662.199 Q60.0256 657.552 56.3653 654.91 Q52.6732 652.236 46.212 652.236 M33.7671 672.161 Q30.5842 670.315 29.0564 667.514 Q27.4968 664.681 27.4968 660.766 Q27.4968 654.273 32.6531 650.231 Q37.8093 646.157 46.212 646.157 Q54.6147 646.157 59.771 650.231 Q64.9272 654.273 64.9272 660.766 Q64.9272 664.681 63.3994 667.514 Q61.8398 670.315 58.657 672.161 L64.0042 672.161 L64.0042 678.049 L14.479 678.049 L14.479 672.161 L33.7671 672.161 Z\" fill=\"#000000\" fill-rule=\"nonzero\" fill-opacity=\"1\" /><polyline clip-path=\"url(#clip512)\" style=\"stroke:#009af9; stroke-linecap:round; stroke-linejoin:round; stroke-width:4; stroke-opacity:1; fill:none\" points=\"219.866,85.838 372.215,1336.06 524.565,1334.4 676.914,1329.28 829.264,1327.14 981.612,1326.5 1133.96,1317.04 1286.31,1312.33 1438.66,1312.46 1591.01,1330.54 1743.35,1332.78 1895.71,1330.01 2048.06,1327.8 2200.41,1326.84 2352.76,1326.6 \"/>\n",
       "<circle clip-path=\"url(#clip512)\" cx=\"219.866\" cy=\"248.619\" r=\"14.4\" fill=\"#e26f46\" fill-rule=\"evenodd\" fill-opacity=\"1\" stroke=\"#000000\" stroke-opacity=\"1\" stroke-width=\"3.2\"/>\n",
       "<circle clip-path=\"url(#clip512)\" cx=\"372.215\" cy=\"1340.94\" r=\"14.4\" fill=\"#e26f46\" fill-rule=\"evenodd\" fill-opacity=\"1\" stroke=\"#000000\" stroke-opacity=\"1\" stroke-width=\"3.2\"/>\n",
       "<circle clip-path=\"url(#clip512)\" cx=\"524.565\" cy=\"1372.3\" r=\"14.4\" fill=\"#e26f46\" fill-rule=\"evenodd\" fill-opacity=\"1\" stroke=\"#000000\" stroke-opacity=\"1\" stroke-width=\"3.2\"/>\n",
       "<circle clip-path=\"url(#clip512)\" cx=\"676.914\" cy=\"1326.15\" r=\"14.4\" fill=\"#e26f46\" fill-rule=\"evenodd\" fill-opacity=\"1\" stroke=\"#000000\" stroke-opacity=\"1\" stroke-width=\"3.2\"/>\n",
       "<circle clip-path=\"url(#clip512)\" cx=\"829.264\" cy=\"1307.34\" r=\"14.4\" fill=\"#e26f46\" fill-rule=\"evenodd\" fill-opacity=\"1\" stroke=\"#000000\" stroke-opacity=\"1\" stroke-width=\"3.2\"/>\n",
       "<circle clip-path=\"url(#clip512)\" cx=\"981.612\" cy=\"1316.22\" r=\"14.4\" fill=\"#e26f46\" fill-rule=\"evenodd\" fill-opacity=\"1\" stroke=\"#000000\" stroke-opacity=\"1\" stroke-width=\"3.2\"/>\n",
       "<circle clip-path=\"url(#clip512)\" cx=\"1133.96\" cy=\"1289.9\" r=\"14.4\" fill=\"#e26f46\" fill-rule=\"evenodd\" fill-opacity=\"1\" stroke=\"#000000\" stroke-opacity=\"1\" stroke-width=\"3.2\"/>\n",
       "<circle clip-path=\"url(#clip512)\" cx=\"1286.31\" cy=\"1335.26\" r=\"14.4\" fill=\"#e26f46\" fill-rule=\"evenodd\" fill-opacity=\"1\" stroke=\"#000000\" stroke-opacity=\"1\" stroke-width=\"3.2\"/>\n",
       "<circle clip-path=\"url(#clip512)\" cx=\"1438.66\" cy=\"1333.01\" r=\"14.4\" fill=\"#e26f46\" fill-rule=\"evenodd\" fill-opacity=\"1\" stroke=\"#000000\" stroke-opacity=\"1\" stroke-width=\"3.2\"/>\n",
       "<circle clip-path=\"url(#clip512)\" cx=\"1591.01\" cy=\"1324.16\" r=\"14.4\" fill=\"#e26f46\" fill-rule=\"evenodd\" fill-opacity=\"1\" stroke=\"#000000\" stroke-opacity=\"1\" stroke-width=\"3.2\"/>\n",
       "<circle clip-path=\"url(#clip512)\" cx=\"1743.35\" cy=\"1338.17\" r=\"14.4\" fill=\"#e26f46\" fill-rule=\"evenodd\" fill-opacity=\"1\" stroke=\"#000000\" stroke-opacity=\"1\" stroke-width=\"3.2\"/>\n",
       "<circle clip-path=\"url(#clip512)\" cx=\"1895.71\" cy=\"1329.7\" r=\"14.4\" fill=\"#e26f46\" fill-rule=\"evenodd\" fill-opacity=\"1\" stroke=\"#000000\" stroke-opacity=\"1\" stroke-width=\"3.2\"/>\n",
       "<circle clip-path=\"url(#clip512)\" cx=\"2048.06\" cy=\"1353.5\" r=\"14.4\" fill=\"#e26f46\" fill-rule=\"evenodd\" fill-opacity=\"1\" stroke=\"#000000\" stroke-opacity=\"1\" stroke-width=\"3.2\"/>\n",
       "<circle clip-path=\"url(#clip512)\" cx=\"2200.41\" cy=\"1331.57\" r=\"14.4\" fill=\"#e26f46\" fill-rule=\"evenodd\" fill-opacity=\"1\" stroke=\"#000000\" stroke-opacity=\"1\" stroke-width=\"3.2\"/>\n",
       "<circle clip-path=\"url(#clip512)\" cx=\"2352.76\" cy=\"1335.54\" r=\"14.4\" fill=\"#e26f46\" fill-rule=\"evenodd\" fill-opacity=\"1\" stroke=\"#000000\" stroke-opacity=\"1\" stroke-width=\"3.2\"/>\n",
       "<path clip-path=\"url(#clip510)\" d=\"M1449.53 248.219 L2281.66 248.219 L2281.66 92.6992 L1449.53 92.6992  Z\" fill=\"#ffffff\" fill-rule=\"evenodd\" fill-opacity=\"1\"/>\n",
       "<polyline clip-path=\"url(#clip510)\" style=\"stroke:#000000; stroke-linecap:round; stroke-linejoin:round; stroke-width:4; stroke-opacity:1; fill:none\" points=\"1449.53,248.219 2281.66,248.219 2281.66,92.6992 1449.53,92.6992 1449.53,248.219 \"/>\n",
       "<polyline clip-path=\"url(#clip510)\" style=\"stroke:#009af9; stroke-linecap:round; stroke-linejoin:round; stroke-width:4; stroke-opacity:1; fill:none\" points=\"1473.23,144.539 1615.42,144.539 \"/>\n",
       "<path clip-path=\"url(#clip510)\" d=\"M1639.12 127.259 L1668.36 127.259 L1668.36 131.194 L1656.09 131.194 L1656.09 161.819 L1651.39 161.819 L1651.39 131.194 L1639.12 131.194 L1639.12 127.259 Z\" fill=\"#000000\" fill-rule=\"nonzero\" fill-opacity=\"1\" /><path clip-path=\"url(#clip510)\" d=\"M1696.44 156.889 L1696.44 147.606 L1688.8 147.606 L1688.8 143.764 L1701.07 143.764 L1701.07 158.602 Q1698.36 160.523 1695.09 161.518 Q1691.83 162.49 1688.13 162.49 Q1680.02 162.49 1675.44 157.768 Q1670.88 153.023 1670.88 144.574 Q1670.88 136.102 1675.44 131.38 Q1680.02 126.634 1688.13 126.634 Q1691.51 126.634 1694.54 127.468 Q1697.59 128.301 1700.16 129.921 L1700.16 134.898 Q1697.57 132.699 1694.65 131.588 Q1691.74 130.477 1688.52 130.477 Q1682.18 130.477 1678.98 134.018 Q1675.81 137.56 1675.81 144.574 Q1675.81 151.565 1678.98 155.106 Q1682.18 158.648 1688.52 158.648 Q1691 158.648 1692.94 158.231 Q1694.89 157.791 1696.44 156.889 Z\" fill=\"#000000\" fill-rule=\"nonzero\" fill-opacity=\"1\" /><path clip-path=\"url(#clip510)\" d=\"M1709.61 127.259 L1729.47 127.259 L1729.47 131.194 L1714.28 131.194 L1714.28 141.379 L1727.99 141.379 L1727.99 145.315 L1714.28 145.315 L1714.28 161.819 L1709.61 161.819 L1709.61 127.259 Z\" fill=\"#000000\" fill-rule=\"nonzero\" fill-opacity=\"1\" /><path clip-path=\"url(#clip510)\" d=\"M1755.3 148.879 Q1755.3 144.18 1753.36 141.518 Q1751.44 138.833 1748.06 138.833 Q1744.68 138.833 1742.73 141.518 Q1740.81 144.18 1740.81 148.879 Q1740.81 153.578 1742.73 156.264 Q1744.68 158.926 1748.06 158.926 Q1751.44 158.926 1753.36 156.264 Q1755.3 153.578 1755.3 148.879 M1740.81 139.829 Q1742.15 137.514 1744.19 136.403 Q1746.25 135.268 1749.1 135.268 Q1753.82 135.268 1756.76 139.018 Q1759.72 142.768 1759.72 148.879 Q1759.72 154.991 1756.76 158.74 Q1753.82 162.49 1749.1 162.49 Q1746.25 162.49 1744.19 161.379 Q1742.15 160.245 1740.81 157.93 L1740.81 161.819 L1736.53 161.819 L1736.53 125.801 L1740.81 125.801 L1740.81 139.829 Z\" fill=\"#000000\" fill-rule=\"nonzero\" fill-opacity=\"1\" /><path clip-path=\"url(#clip510)\" d=\"M1777.01 125.847 Q1773.91 131.171 1772.41 136.38 Q1770.9 141.588 1770.9 146.935 Q1770.9 152.282 1772.41 157.537 Q1773.94 162.768 1777.01 168.069 L1773.31 168.069 Q1769.84 162.629 1768.1 157.375 Q1766.39 152.12 1766.39 146.935 Q1766.39 141.773 1768.1 136.542 Q1769.82 131.31 1773.31 125.847 L1777.01 125.847 Z\" fill=\"#000000\" fill-rule=\"nonzero\" fill-opacity=\"1\" /><path clip-path=\"url(#clip510)\" d=\"M1789.49 128.532 L1789.49 135.893 L1798.26 135.893 L1798.26 139.204 L1789.49 139.204 L1789.49 153.278 Q1789.49 156.449 1790.35 157.352 Q1791.23 158.254 1793.89 158.254 L1798.26 158.254 L1798.26 161.819 L1793.89 161.819 Q1788.96 161.819 1787.08 159.99 Q1785.21 158.139 1785.21 153.278 L1785.21 139.204 L1782.08 139.204 L1782.08 135.893 L1785.21 135.893 L1785.21 128.532 L1789.49 128.532 Z\" fill=\"#000000\" fill-rule=\"nonzero\" fill-opacity=\"1\" /><path clip-path=\"url(#clip510)\" d=\"M1803.19 125.847 L1806.9 125.847 Q1810.37 131.31 1812.08 136.542 Q1813.82 141.773 1813.82 146.935 Q1813.82 152.12 1812.08 157.375 Q1810.37 162.629 1806.9 168.069 L1803.19 168.069 Q1806.27 162.768 1807.78 157.537 Q1809.31 152.282 1809.31 146.935 Q1809.31 141.588 1807.78 136.38 Q1806.27 131.171 1803.19 125.847 Z\" fill=\"#000000\" fill-rule=\"nonzero\" fill-opacity=\"1\" /><circle clip-path=\"url(#clip510)\" cx=\"1544.33\" cy=\"196.379\" r=\"20.48\" fill=\"#e26f46\" fill-rule=\"evenodd\" fill-opacity=\"1\" stroke=\"#000000\" stroke-opacity=\"1\" stroke-width=\"4.55111\"/>\n",
       "<path clip-path=\"url(#clip510)\" d=\"M1643.4 209.77 L1643.4 223.52 L1639.12 223.52 L1639.12 187.733 L1643.4 187.733 L1643.4 191.669 Q1644.75 189.354 1646.78 188.243 Q1648.84 187.108 1651.69 187.108 Q1656.41 187.108 1659.35 190.858 Q1662.32 194.608 1662.32 200.719 Q1662.32 206.831 1659.35 210.58 Q1656.41 214.33 1651.69 214.33 Q1648.84 214.33 1646.78 213.219 Q1644.75 212.085 1643.4 209.77 M1657.89 200.719 Q1657.89 196.02 1655.95 193.358 Q1654.03 190.673 1650.65 190.673 Q1647.27 190.673 1645.33 193.358 Q1643.4 196.02 1643.4 200.719 Q1643.4 205.418 1645.33 208.104 Q1647.27 210.766 1650.65 210.766 Q1654.03 210.766 1655.95 208.104 Q1657.89 205.418 1657.89 200.719 Z\" fill=\"#000000\" fill-rule=\"nonzero\" fill-opacity=\"1\" /><path clip-path=\"url(#clip510)\" d=\"M1685.9 188.497 L1685.9 192.525 Q1684.1 191.599 1682.15 191.136 Q1680.21 190.673 1678.13 190.673 Q1674.95 190.673 1673.36 191.645 Q1671.78 192.618 1671.78 194.562 Q1671.78 196.044 1672.92 196.9 Q1674.05 197.733 1677.48 198.497 L1678.94 198.821 Q1683.47 199.794 1685.37 201.576 Q1687.29 203.335 1687.29 206.506 Q1687.29 210.118 1684.42 212.224 Q1681.58 214.33 1676.58 214.33 Q1674.49 214.33 1672.22 213.914 Q1669.98 213.52 1667.48 212.71 L1667.48 208.312 Q1669.84 209.539 1672.13 210.164 Q1674.42 210.766 1676.67 210.766 Q1679.68 210.766 1681.3 209.747 Q1682.92 208.706 1682.92 206.831 Q1682.92 205.094 1681.74 204.168 Q1680.58 203.243 1676.62 202.386 L1675.14 202.039 Q1671.18 201.206 1669.42 199.493 Q1667.66 197.756 1667.66 194.747 Q1667.66 191.09 1670.26 189.099 Q1672.85 187.108 1677.62 187.108 Q1679.98 187.108 1682.06 187.456 Q1684.14 187.803 1685.9 188.497 Z\" fill=\"#000000\" fill-rule=\"nonzero\" fill-opacity=\"1\" /><path clip-path=\"url(#clip510)\" d=\"M1716.25 199.631 L1716.25 201.715 L1696.67 201.715 Q1696.95 206.113 1699.31 208.428 Q1701.69 210.719 1705.93 210.719 Q1708.38 210.719 1710.67 210.118 Q1712.99 209.516 1715.26 208.312 L1715.26 212.34 Q1712.96 213.312 1710.56 213.821 Q1708.15 214.33 1705.67 214.33 Q1699.47 214.33 1695.83 210.719 Q1692.22 207.108 1692.22 200.951 Q1692.22 194.585 1695.65 190.858 Q1699.1 187.108 1704.93 187.108 Q1710.16 187.108 1713.2 190.488 Q1716.25 193.844 1716.25 199.631 M1711.99 198.381 Q1711.95 194.886 1710.02 192.803 Q1708.13 190.719 1704.98 190.719 Q1701.41 190.719 1699.26 192.733 Q1697.13 194.747 1696.81 198.405 L1711.99 198.381 Z\" fill=\"#000000\" fill-rule=\"nonzero\" fill-opacity=\"1\" /><path clip-path=\"url(#clip510)\" d=\"M1722.8 203.428 L1722.8 187.733 L1727.06 187.733 L1727.06 203.266 Q1727.06 206.946 1728.5 208.798 Q1729.93 210.627 1732.8 210.627 Q1736.25 210.627 1738.24 208.428 Q1740.26 206.229 1740.26 202.432 L1740.26 187.733 L1744.51 187.733 L1744.51 213.659 L1740.26 213.659 L1740.26 209.678 Q1738.7 212.039 1736.64 213.196 Q1734.61 214.33 1731.9 214.33 Q1727.43 214.33 1725.12 211.553 Q1722.8 208.775 1722.8 203.428 M1733.52 187.108 L1733.52 187.108 Z\" fill=\"#000000\" fill-rule=\"nonzero\" fill-opacity=\"1\" /><path clip-path=\"url(#clip510)\" d=\"M1770.35 191.669 L1770.35 177.641 L1774.61 177.641 L1774.61 213.659 L1770.35 213.659 L1770.35 209.77 Q1769.01 212.085 1766.94 213.219 Q1764.91 214.33 1762.04 214.33 Q1757.34 214.33 1754.38 210.58 Q1751.44 206.831 1751.44 200.719 Q1751.44 194.608 1754.38 190.858 Q1757.34 187.108 1762.04 187.108 Q1764.91 187.108 1766.94 188.243 Q1769.01 189.354 1770.35 191.669 M1755.83 200.719 Q1755.83 205.418 1757.76 208.104 Q1759.7 210.766 1763.08 210.766 Q1766.46 210.766 1768.4 208.104 Q1770.35 205.418 1770.35 200.719 Q1770.35 196.02 1768.4 193.358 Q1766.46 190.673 1763.08 190.673 Q1759.7 190.673 1757.76 193.358 Q1755.83 196.02 1755.83 200.719 Z\" fill=\"#000000\" fill-rule=\"nonzero\" fill-opacity=\"1\" /><path clip-path=\"url(#clip510)\" d=\"M1793.43 190.719 Q1790 190.719 1788.01 193.405 Q1786.02 196.067 1786.02 200.719 Q1786.02 205.372 1787.99 208.057 Q1789.98 210.719 1793.43 210.719 Q1796.83 210.719 1798.82 208.034 Q1800.81 205.349 1800.81 200.719 Q1800.81 196.113 1798.82 193.428 Q1796.83 190.719 1793.43 190.719 M1793.43 187.108 Q1798.98 187.108 1802.15 190.719 Q1805.32 194.331 1805.32 200.719 Q1805.32 207.085 1802.15 210.719 Q1798.98 214.33 1793.43 214.33 Q1787.85 214.33 1784.68 210.719 Q1781.53 207.085 1781.53 200.719 Q1781.53 194.331 1784.68 190.719 Q1787.85 187.108 1793.43 187.108 Z\" fill=\"#000000\" fill-rule=\"nonzero\" fill-opacity=\"1\" /><path clip-path=\"url(#clip510)\" d=\"M1811.11 198.775 L1823.59 198.775 L1823.59 202.571 L1811.11 202.571 L1811.11 198.775 Z\" fill=\"#000000\" fill-rule=\"nonzero\" fill-opacity=\"1\" /><path clip-path=\"url(#clip510)\" d=\"M1852.55 199.631 L1852.55 201.715 L1832.96 201.715 Q1833.24 206.113 1835.6 208.428 Q1837.99 210.719 1842.22 210.719 Q1844.68 210.719 1846.97 210.118 Q1849.28 209.516 1851.55 208.312 L1851.55 212.34 Q1849.26 213.312 1846.85 213.821 Q1844.44 214.33 1841.97 214.33 Q1835.76 214.33 1832.13 210.719 Q1828.52 207.108 1828.52 200.951 Q1828.52 194.585 1831.94 190.858 Q1835.39 187.108 1841.23 187.108 Q1846.46 187.108 1849.49 190.488 Q1852.55 193.844 1852.55 199.631 M1848.29 198.381 Q1848.24 194.886 1846.32 192.803 Q1844.42 190.719 1841.27 190.719 Q1837.71 190.719 1835.56 192.733 Q1833.43 194.747 1833.1 198.405 L1848.29 198.381 Z\" fill=\"#000000\" fill-rule=\"nonzero\" fill-opacity=\"1\" /><path clip-path=\"url(#clip510)\" d=\"M1880.25 187.733 L1870.88 200.349 L1880.74 213.659 L1875.72 213.659 L1868.17 203.474 L1860.62 213.659 L1855.6 213.659 L1865.67 200.094 L1856.46 187.733 L1861.48 187.733 L1868.36 196.969 L1875.23 187.733 L1880.25 187.733 Z\" fill=\"#000000\" fill-rule=\"nonzero\" fill-opacity=\"1\" /><path clip-path=\"url(#clip510)\" d=\"M1890.88 209.77 L1890.88 223.52 L1886.6 223.52 L1886.6 187.733 L1890.88 187.733 L1890.88 191.669 Q1892.22 189.354 1894.26 188.243 Q1896.32 187.108 1899.17 187.108 Q1903.89 187.108 1906.83 190.858 Q1909.79 194.608 1909.79 200.719 Q1909.79 206.831 1906.83 210.58 Q1903.89 214.33 1899.17 214.33 Q1896.32 214.33 1894.26 213.219 Q1892.22 212.085 1890.88 209.77 M1905.37 200.719 Q1905.37 196.02 1903.43 193.358 Q1901.5 190.673 1898.12 190.673 Q1894.75 190.673 1892.8 193.358 Q1890.88 196.02 1890.88 200.719 Q1890.88 205.418 1892.8 208.104 Q1894.75 210.766 1898.12 210.766 Q1901.5 210.766 1903.43 208.104 Q1905.37 205.418 1905.37 200.719 Z\" fill=\"#000000\" fill-rule=\"nonzero\" fill-opacity=\"1\" /><path clip-path=\"url(#clip510)\" d=\"M1939.03 199.631 L1939.03 201.715 L1919.44 201.715 Q1919.72 206.113 1922.08 208.428 Q1924.47 210.719 1928.7 210.719 Q1931.16 210.719 1933.45 210.118 Q1935.76 209.516 1938.03 208.312 L1938.03 212.34 Q1935.74 213.312 1933.33 213.821 Q1930.93 214.33 1928.45 214.33 Q1922.25 214.33 1918.61 210.719 Q1915 207.108 1915 200.951 Q1915 194.585 1918.43 190.858 Q1921.87 187.108 1927.71 187.108 Q1932.94 187.108 1935.97 190.488 Q1939.03 193.844 1939.03 199.631 M1934.77 198.381 Q1934.72 194.886 1932.8 192.803 Q1930.9 190.719 1927.75 190.719 Q1924.19 190.719 1922.04 192.733 Q1919.91 194.747 1919.58 198.405 L1934.77 198.381 Z\" fill=\"#000000\" fill-rule=\"nonzero\" fill-opacity=\"1\" /><path clip-path=\"url(#clip510)\" d=\"M1961.04 191.715 Q1960.32 191.298 1959.47 191.113 Q1958.63 190.905 1957.62 190.905 Q1954 190.905 1952.06 193.266 Q1950.14 195.604 1950.14 200.002 L1950.14 213.659 L1945.86 213.659 L1945.86 187.733 L1950.14 187.733 L1950.14 191.761 Q1951.48 189.4 1953.63 188.266 Q1955.79 187.108 1958.87 187.108 Q1959.31 187.108 1959.84 187.178 Q1960.37 187.224 1961.02 187.34 L1961.04 191.715 Z\" fill=\"#000000\" fill-rule=\"nonzero\" fill-opacity=\"1\" /><path clip-path=\"url(#clip510)\" d=\"M1965.51 187.733 L1969.77 187.733 L1969.77 213.659 L1965.51 213.659 L1965.51 187.733 M1965.51 177.641 L1969.77 177.641 L1969.77 183.034 L1965.51 183.034 L1965.51 177.641 Z\" fill=\"#000000\" fill-rule=\"nonzero\" fill-opacity=\"1\" /><path clip-path=\"url(#clip510)\" d=\"M1998.86 192.71 Q2000.46 189.84 2002.68 188.474 Q2004.91 187.108 2007.92 187.108 Q2011.97 187.108 2014.17 189.956 Q2016.36 192.78 2016.36 198.011 L2016.36 213.659 L2012.08 213.659 L2012.08 198.15 Q2012.08 194.423 2010.76 192.618 Q2009.44 190.812 2006.74 190.812 Q2003.43 190.812 2001.5 193.011 Q1999.58 195.21 1999.58 199.006 L1999.58 213.659 L1995.3 213.659 L1995.3 198.15 Q1995.3 194.4 1993.98 192.618 Q1992.66 190.812 1989.91 190.812 Q1986.64 190.812 1984.72 193.034 Q1982.8 195.233 1982.8 199.006 L1982.8 213.659 L1978.52 213.659 L1978.52 187.733 L1982.8 187.733 L1982.8 191.761 Q1984.26 189.377 1986.3 188.243 Q1988.33 187.108 1991.13 187.108 Q1993.96 187.108 1995.93 188.544 Q1997.92 189.979 1998.86 192.71 Z\" fill=\"#000000\" fill-rule=\"nonzero\" fill-opacity=\"1\" /><path clip-path=\"url(#clip510)\" d=\"M2047.04 199.631 L2047.04 201.715 L2027.45 201.715 Q2027.73 206.113 2030.09 208.428 Q2032.48 210.719 2036.71 210.719 Q2039.17 210.719 2041.46 210.118 Q2043.77 209.516 2046.04 208.312 L2046.04 212.34 Q2043.75 213.312 2041.34 213.821 Q2038.93 214.33 2036.46 214.33 Q2030.25 214.33 2026.62 210.719 Q2023.01 207.108 2023.01 200.951 Q2023.01 194.585 2026.43 190.858 Q2029.88 187.108 2035.72 187.108 Q2040.95 187.108 2043.98 190.488 Q2047.04 193.844 2047.04 199.631 M2042.78 198.381 Q2042.73 194.886 2040.81 192.803 Q2038.91 190.719 2035.76 190.719 Q2032.2 190.719 2030.05 192.733 Q2027.92 194.747 2027.59 198.405 L2042.78 198.381 Z\" fill=\"#000000\" fill-rule=\"nonzero\" fill-opacity=\"1\" /><path clip-path=\"url(#clip510)\" d=\"M2075.58 198.011 L2075.58 213.659 L2071.32 213.659 L2071.32 198.15 Q2071.32 194.469 2069.88 192.641 Q2068.45 190.812 2065.58 190.812 Q2062.13 190.812 2060.14 193.011 Q2058.15 195.21 2058.15 199.006 L2058.15 213.659 L2053.86 213.659 L2053.86 187.733 L2058.15 187.733 L2058.15 191.761 Q2059.67 189.423 2061.74 188.266 Q2063.82 187.108 2066.53 187.108 Q2070.99 187.108 2073.29 189.886 Q2075.58 192.641 2075.58 198.011 Z\" fill=\"#000000\" fill-rule=\"nonzero\" fill-opacity=\"1\" /><path clip-path=\"url(#clip510)\" d=\"M2088.29 180.372 L2088.29 187.733 L2097.06 187.733 L2097.06 191.044 L2088.29 191.044 L2088.29 205.118 Q2088.29 208.289 2089.14 209.192 Q2090.02 210.094 2092.68 210.094 L2097.06 210.094 L2097.06 213.659 L2092.68 213.659 Q2087.75 213.659 2085.88 211.83 Q2084 209.979 2084 205.118 L2084 191.044 L2080.88 191.044 L2080.88 187.733 L2084 187.733 L2084 180.372 L2088.29 180.372 Z\" fill=\"#000000\" fill-rule=\"nonzero\" fill-opacity=\"1\" /><path clip-path=\"url(#clip510)\" d=\"M2114.44 200.627 Q2109.28 200.627 2107.29 201.807 Q2105.3 202.988 2105.3 205.835 Q2105.3 208.104 2106.78 209.446 Q2108.29 210.766 2110.86 210.766 Q2114.4 210.766 2116.53 208.266 Q2118.68 205.743 2118.68 201.576 L2118.68 200.627 L2114.44 200.627 M2122.94 198.868 L2122.94 213.659 L2118.68 213.659 L2118.68 209.724 Q2117.22 212.085 2115.04 213.219 Q2112.87 214.33 2109.72 214.33 Q2105.74 214.33 2103.38 212.108 Q2101.04 209.863 2101.04 206.113 Q2101.04 201.738 2103.96 199.516 Q2106.9 197.294 2112.71 197.294 L2118.68 197.294 L2118.68 196.877 Q2118.68 193.937 2116.73 192.34 Q2114.81 190.719 2111.32 190.719 Q2109.1 190.719 2106.99 191.252 Q2104.88 191.784 2102.94 192.849 L2102.94 188.914 Q2105.28 188.011 2107.48 187.571 Q2109.67 187.108 2111.76 187.108 Q2117.38 187.108 2120.16 190.025 Q2122.94 192.942 2122.94 198.868 Z\" fill=\"#000000\" fill-rule=\"nonzero\" fill-opacity=\"1\" /><path clip-path=\"url(#clip510)\" d=\"M2131.71 177.641 L2135.97 177.641 L2135.97 213.659 L2131.71 213.659 L2131.71 177.641 Z\" fill=\"#000000\" fill-rule=\"nonzero\" fill-opacity=\"1\" /><path clip-path=\"url(#clip510)\" d=\"M2177.01 191.669 L2177.01 177.641 L2181.27 177.641 L2181.27 213.659 L2177.01 213.659 L2177.01 209.77 Q2175.67 212.085 2173.61 213.219 Q2171.57 214.33 2168.7 214.33 Q2164 214.33 2161.04 210.58 Q2158.1 206.831 2158.1 200.719 Q2158.1 194.608 2161.04 190.858 Q2164 187.108 2168.7 187.108 Q2171.57 187.108 2173.61 188.243 Q2175.67 189.354 2177.01 191.669 M2162.5 200.719 Q2162.5 205.418 2164.42 208.104 Q2166.36 210.766 2169.74 210.766 Q2173.12 210.766 2175.07 208.104 Q2177.01 205.418 2177.01 200.719 Q2177.01 196.02 2175.07 193.358 Q2173.12 190.673 2169.74 190.673 Q2166.36 190.673 2164.42 193.358 Q2162.5 196.02 2162.5 200.719 Z\" fill=\"#000000\" fill-rule=\"nonzero\" fill-opacity=\"1\" /><path clip-path=\"url(#clip510)\" d=\"M2201.83 200.627 Q2196.66 200.627 2194.67 201.807 Q2192.68 202.988 2192.68 205.835 Q2192.68 208.104 2194.16 209.446 Q2195.67 210.766 2198.24 210.766 Q2201.78 210.766 2203.91 208.266 Q2206.06 205.743 2206.06 201.576 L2206.06 200.627 L2201.83 200.627 M2210.32 198.868 L2210.32 213.659 L2206.06 213.659 L2206.06 209.724 Q2204.6 212.085 2202.43 213.219 Q2200.25 214.33 2197.1 214.33 Q2193.12 214.33 2190.76 212.108 Q2188.42 209.863 2188.42 206.113 Q2188.42 201.738 2191.34 199.516 Q2194.28 197.294 2200.09 197.294 L2206.06 197.294 L2206.06 196.877 Q2206.06 193.937 2204.12 192.34 Q2202.2 190.719 2198.7 190.719 Q2196.48 190.719 2194.37 191.252 Q2192.27 191.784 2190.32 192.849 L2190.32 188.914 Q2192.66 188.011 2194.86 187.571 Q2197.06 187.108 2199.14 187.108 Q2204.77 187.108 2207.54 190.025 Q2210.32 192.942 2210.32 198.868 Z\" fill=\"#000000\" fill-rule=\"nonzero\" fill-opacity=\"1\" /><path clip-path=\"url(#clip510)\" d=\"M2223.31 180.372 L2223.31 187.733 L2232.08 187.733 L2232.08 191.044 L2223.31 191.044 L2223.31 205.118 Q2223.31 208.289 2224.16 209.192 Q2225.04 210.094 2227.71 210.094 L2232.08 210.094 L2232.08 213.659 L2227.71 213.659 Q2222.78 213.659 2220.9 211.83 Q2219.03 209.979 2219.03 205.118 L2219.03 191.044 L2215.9 191.044 L2215.9 187.733 L2219.03 187.733 L2219.03 180.372 L2223.31 180.372 Z\" fill=\"#000000\" fill-rule=\"nonzero\" fill-opacity=\"1\" /><path clip-path=\"url(#clip510)\" d=\"M2249.47 200.627 Q2244.3 200.627 2242.31 201.807 Q2240.32 202.988 2240.32 205.835 Q2240.32 208.104 2241.8 209.446 Q2243.31 210.766 2245.88 210.766 Q2249.42 210.766 2251.55 208.266 Q2253.7 205.743 2253.7 201.576 L2253.7 200.627 L2249.47 200.627 M2257.96 198.868 L2257.96 213.659 L2253.7 213.659 L2253.7 209.724 Q2252.24 212.085 2250.07 213.219 Q2247.89 214.33 2244.74 214.33 Q2240.76 214.33 2238.4 212.108 Q2236.06 209.863 2236.06 206.113 Q2236.06 201.738 2238.98 199.516 Q2241.92 197.294 2247.73 197.294 L2253.7 197.294 L2253.7 196.877 Q2253.7 193.937 2251.76 192.34 Q2249.84 190.719 2246.34 190.719 Q2244.12 190.719 2242.01 191.252 Q2239.91 191.784 2237.96 192.849 L2237.96 188.914 Q2240.3 188.011 2242.5 187.571 Q2244.7 187.108 2246.78 187.108 Q2252.41 187.108 2255.18 190.025 Q2257.96 192.942 2257.96 198.868 Z\" fill=\"#000000\" fill-rule=\"nonzero\" fill-opacity=\"1\" /></svg>\n"
      ]
     },
     "metadata": {},
     "output_type": "display_data"
    }
   ],
   "source": [
    "plot(sol, idxs=(0,1), xlabel = \"t\", ylabel = \"TGFb\", label=\"TGFb(t)\");\n",
    "scatter!(dataset[!,:time],dataset[!,:TGFb], label = \"pseudo-experimental data\")"
   ]
  },
  {
   "cell_type": "markdown",
   "metadata": {},
   "source": [
    "To fit parameters to pseudo-experimental data we use the following likelihood function provided by the authors of \\[\\*\\] in [AMIGO2 package](https://github.com/csynbiosys/AMIGO2R2016b). According to AMIGO2 docs:\n",
    "\n",
    "*For the homoscedastic case, for which the variance is known or constant, the cost function results\n",
    "to be similar to the generalized least squares, with weights taken as the inverse of the variance of\n",
    "the experimental data*\n",
    "\n",
    "$$ \\Lambda = \\sum_{i=1}^n \\left(\\frac{y(t_i) - \\tilde y_i}{\\sigma_i}\\right)^2 $$\n",
    "\n",
    "Here \n",
    "$n$ - number of observations (experimental data time points),\n",
    "$\\tilde y_i$ - experimental data,\n",
    "$y(t_i)$ - numerical solution,\n",
    "$\\sigma_i $ - standard deviation of heteroscedastic noise"
   ]
  },
  {
   "cell_type": "code",
   "execution_count": 17,
   "metadata": {},
   "outputs": [],
   "source": [
    "# loss function \n",
    "# for 'hetero' case \n",
    "# https://github.com/csynbiosys/AMIGO2R2016b/blob/63b131e0274096f9aef6ca42d0332ff113d1828a/Kernel/AMIGO_PEcost.m#L322\n",
    "\n",
    "function loss_func(sol, data, sigma) # sum by components\n",
    "    loss = 0.0\n",
    "    for i in eachindex(sol.u[1]) #1:16\n",
    "        loss += loss_i(sol[i,:], data[!,i+1], sigma[!,i+1])\n",
    "    end\n",
    "    return loss\n",
    "end\n",
    "\n",
    "function loss_i(sol, data, sigma) # sum by data points\n",
    "    loss = 0.0  \n",
    "    for i in eachindex(sol)\n",
    "        loss += ((sol[i] - data[i])/sigma[i])^2\n",
    "    end\n",
    "    return loss \n",
    "end;"
   ]
  },
  {
   "cell_type": "markdown",
   "metadata": {},
   "source": [
    "Objective function is a wrapper for parameters updates during fitting `obj_func = (params)->loss`"
   ]
  },
  {
   "cell_type": "code",
   "execution_count": 18,
   "metadata": {},
   "outputs": [],
   "source": [
    "# obj function (params,prob)->loss\n",
    "function obj_func(params;\n",
    "                  prob=prob, \n",
    "                  solver_opts=solver_opts, \n",
    "                  time_points=time_points,\n",
    "                  loss=(sol)->loss_func(sol,dataset,sigmas)\n",
    ")\n",
    "    prob_p = remake(prob,p=params)\n",
    "    sol_p = solve(prob_p, \n",
    "                  solver_opts[:alg], \n",
    "                  reltol=solver_opts[:reltol], \n",
    "                  abstol=solver_opts[:abstol], \n",
    "                  saveat=time_points,\n",
    "                  save_idxs = 1:16)\n",
    "    loss(sol_p)\n",
    "end;"
   ]
  },
  {
   "cell_type": "markdown",
   "metadata": {},
   "source": [
    "Now we fit parameters to the dataset with *NLopt* package. See [NLopt documentation](https://nlopt.readthedocs.io/en/latest) for details"
   ]
  },
  {
   "cell_type": "code",
   "execution_count": 19,
   "metadata": {},
   "outputs": [
    {
     "data": {
      "text/plain": [
       "(266.4304286862838, [0.0002290100323639326, 0.034062308265112966, 0.009190331178398126, 0.009397837818185099, 0.09984707196991427, 0.0003603781799218335, 0.0012436335138352544, 0.0027941738043466367, 0.001485713457196536, 0.011736726315087891, 9.135925727754511, 0.006429496691451377, 0.1503929163818522, 1.3782294060271663, 0.0007144737649710162, 0.0013187312206062762, 2.9047538654247835e-5, 0.0007398218861179926], :XTOL_REACHED)"
      ]
     },
     "metadata": {},
     "output_type": "display_data"
    }
   ],
   "source": [
    "# fitting algorithm and search bounds\n",
    "\n",
    "fitter_opts = Dict(\n",
    "    :alg => :LN_SBPLX\n",
    ")\n",
    "\n",
    "# lower, upper bounds and start values formula:\n",
    "# https://github.com/gabora/visid/blob/master/case_studies/tgfb/TGFB_amigo.m\n",
    "lb = [1e-6, 0.0001, 1e-6, 0.0001, 1e-6, 1e-6, 1e-5, 1e-5, 1e-6, 1e-5, 0.1, 1e-5, 1e-5, 0.001, 1e-5, 1e-5, 1e-5, 1e-5]\n",
    "ub = [0.1, 1.0, 1.0, 1.0, 1.0, 1.0, 1.0, 1.0, 1.0, 1.0, 100., 1.0, 1.0, 100., 0.1, 0.1, 0.1, 0.1]\n",
    "\n",
    "# start values generated with exp.(log.(lb) + rand(length(p0)).*(log.(ub) - log.(lb)))\n",
    "p_start = [3.52E-05,\n",
    "           0.00131226,\n",
    "           0.00151732,\n",
    "           0.0395871,\n",
    "           1.63E-05,\n",
    "           0.000251247,\n",
    "           0.000112007,\n",
    "           0.00783227,\n",
    "           0.0424562,\n",
    "           0.000142716,\n",
    "           8.20992,\n",
    "           0.000270499,\n",
    "           0.0213893,\n",
    "           1.41254,\n",
    "           0.000121978,\n",
    "           0.00658392,\n",
    "           0.000205464,\n",
    "           0.0111338]\n",
    "\n",
    "opt = CICOBase.NLopt.Opt(fitter_opts[:alg], length(p0))\n",
    "opt.min_objective = (p,grad) -> obj_func(p)\n",
    "opt.lower_bounds = lb\n",
    "opt.upper_bounds = ub\n",
    "opt.xtol_rel = 1e-3\n",
    "\n",
    "(loss,p,ret) = CICOBase.NLopt.optimize(opt, p_start)"
   ]
  },
  {
   "cell_type": "markdown",
   "metadata": {},
   "source": [
    "Let's use *CICOBase* package to determine identifiable parameters and compute confidence intrvals.\n",
    "We choose identification confidence level $ \\alpha = loss + 3.84$, where $loss $ is the minimum likelihood function value obtained during fitting and 3.84 is *Chi-square statistics* with 1 degree of freedom and P-value=0.05.\n",
    "Please, look up [CICOBase documentation](https://insysbio.github.io/CICOBase.jl/latest/) for details"
   ]
  },
  {
   "cell_type": "code",
   "execution_count": 20,
   "metadata": {},
   "outputs": [
    {
     "data": {
      "text/plain": [
       "ParamInterval [0.0001959, 0.0002548] by :CICO_ONE_PASS\n",
       "  loss_init: 266.4304286862838\n",
       "  method: :CICO_ONE_PASS\n",
       "  result:\n",
       "    1: :left Endpoint with status :BORDER_FOUND_BY_SCAN_TOL\n",
       "      value: 0.00019592579814263725\n",
       "      profilePoints count: 1\n",
       "      status: :BORDER_FOUND_BY_SCAN_TOL\n",
       "      direction: :left\n",
       "      counter: 562\n",
       "      supreme: 0.00019592579814263725\n",
       "    2: :right Endpoint with status :BORDER_FOUND_BY_SCAN_TOL\n",
       "      value: 0.00025480125884828984\n",
       "      profilePoints count: 1\n",
       "      status: :BORDER_FOUND_BY_SCAN_TOL\n",
       "      direction: :right\n",
       "      counter: 529\n",
       "      supreme: 0.00025480125884828984\n"
      ]
     },
     "metadata": {},
     "output_type": "display_data"
    },
    {
     "data": {
      "text/plain": [
       "ParamInterval [0.02845, 0.04026] by :CICO_ONE_PASS\n",
       "  loss_init: 266.4304286862838\n",
       "  method: :CICO_ONE_PASS\n",
       "  result:\n",
       "    1: :left Endpoint with status :BORDER_FOUND_BY_SCAN_TOL\n",
       "      value: 0.028449288110131192\n",
       "      profilePoints count: 1\n",
       "      status: :BORDER_FOUND_BY_SCAN_TOL\n",
       "      direction: :left\n",
       "      counter: 719\n",
       "      supreme: 0.028449288110131192\n",
       "    2: :right Endpoint with status :BORDER_FOUND_BY_SCAN_TOL\n",
       "      value: 0.0402581106149024\n",
       "      profilePoints count: 1\n",
       "      status: :BORDER_FOUND_BY_SCAN_TOL\n",
       "      direction: :right\n",
       "      counter: 592\n",
       "      supreme: 0.0402581106149024\n"
      ]
     },
     "metadata": {},
     "output_type": "display_data"
    },
    {
     "data": {
      "text/plain": [
       "ParamInterval [0.008799, 0.009799] by :CICO_ONE_PASS\n",
       "  loss_init: 266.4304286862838\n",
       "  method: :CICO_ONE_PASS\n",
       "  result:\n",
       "    1: :left Endpoint with status :BORDER_FOUND_BY_SCAN_TOL\n",
       "      value: 0.008799169652307332\n",
       "      profilePoints count: 1\n",
       "      status: :BORDER_FOUND_BY_SCAN_TOL\n",
       "      direction: :left\n",
       "      counter: 729\n",
       "      supreme: 0.008799169652307332\n",
       "    2: :right Endpoint with status :BORDER_FOUND_BY_SCAN_TOL\n",
       "      value: 0.009798779335080728\n",
       "      profilePoints count: 1\n",
       "      status: :BORDER_FOUND_BY_SCAN_TOL\n",
       "      direction: :right\n",
       "      counter: 799\n",
       "      supreme: 0.009798779335080728\n"
      ]
     },
     "metadata": {},
     "output_type": "display_data"
    },
    {
     "data": {
      "text/plain": [
       "ParamInterval [0.008962, 0.009973] by :CICO_ONE_PASS\n",
       "  loss_init: 266.4304286862838\n",
       "  method: :CICO_ONE_PASS\n",
       "  result:\n",
       "    1: :left Endpoint with status :BORDER_FOUND_BY_SCAN_TOL\n",
       "      value: 0.00896179470271066\n",
       "      profilePoints count: 1\n",
       "      status: :BORDER_FOUND_BY_SCAN_TOL\n",
       "      direction: :left\n",
       "      counter: 673\n",
       "      supreme: 0.00896179470271066\n",
       "    2: :right Endpoint with status :BORDER_FOUND_BY_SCAN_TOL\n",
       "      value: 0.009972711736671877\n",
       "      profilePoints count: 1\n",
       "      status: :BORDER_FOUND_BY_SCAN_TOL\n",
       "      direction: :right\n",
       "      counter: 878\n",
       "      supreme: 0.009972711736671877\n"
      ]
     },
     "metadata": {},
     "output_type": "display_data"
    },
    {
     "data": {
      "text/plain": [
       "ParamInterval [0.09298, 0.1071] by :CICO_ONE_PASS\n",
       "  loss_init: 266.4304286862838\n",
       "  method: :CICO_ONE_PASS\n",
       "  result:\n",
       "    1: :left Endpoint with status :BORDER_FOUND_BY_SCAN_TOL\n",
       "      value: 0.09297916034514314\n",
       "      profilePoints count: 1\n",
       "      status: :BORDER_FOUND_BY_SCAN_TOL\n",
       "      direction: :left\n",
       "      counter: 701\n",
       "      supreme: 0.09297916034514314\n",
       "    2: :right Endpoint with status :BORDER_FOUND_BY_SCAN_TOL\n",
       "      value: 0.10712158818134494\n",
       "      profilePoints count: 1\n",
       "      status: :BORDER_FOUND_BY_SCAN_TOL\n",
       "      direction: :right\n",
       "      counter: 480\n",
       "      supreme: 0.10712158818134494\n"
      ]
     },
     "metadata": {},
     "output_type": "display_data"
    },
    {
     "data": {
      "text/plain": [
       "ParamInterval [0.0003492, 0.0003779] by :CICO_ONE_PASS\n",
       "  loss_init: 266.4304286862838\n",
       "  method: :CICO_ONE_PASS\n",
       "  result:\n",
       "    1: :left Endpoint with status :BORDER_FOUND_BY_SCAN_TOL\n",
       "      value: 0.000349170111826034\n",
       "      profilePoints count: 1\n",
       "      status: :BORDER_FOUND_BY_SCAN_TOL\n",
       "      direction: :left\n",
       "      counter: 609\n",
       "      supreme: 0.000349170111826034\n",
       "    2: :right Endpoint with status :BORDER_FOUND_BY_SCAN_TOL\n",
       "      value: 0.00037788184209084177\n",
       "      profilePoints count: 1\n",
       "      status: :BORDER_FOUND_BY_SCAN_TOL\n",
       "      direction: :right\n",
       "      counter: 761\n",
       "      supreme: 0.00037788184209084177\n"
      ]
     },
     "metadata": {},
     "output_type": "display_data"
    },
    {
     "data": {
      "text/plain": [
       "ParamInterval [0.00114, 0.001348] by :CICO_ONE_PASS\n",
       "  loss_init: 266.4304286862838\n",
       "  method: :CICO_ONE_PASS\n",
       "  result:\n",
       "    1: :left Endpoint with status :BORDER_FOUND_BY_SCAN_TOL\n",
       "      value: 0.0011400970617217298\n",
       "      profilePoints count: 1\n",
       "      status: :BORDER_FOUND_BY_SCAN_TOL\n",
       "      direction: :left\n",
       "      counter: 908\n",
       "      supreme: 0.0011400970617217298\n",
       "    2: :right Endpoint with status :BORDER_FOUND_BY_SCAN_TOL\n",
       "      value: 0.0013481295847610538\n",
       "      profilePoints count: 1\n",
       "      status: :BORDER_FOUND_BY_SCAN_TOL\n",
       "      direction: :right\n",
       "      counter: 806\n",
       "      supreme: 0.0013481295847610538\n"
      ]
     },
     "metadata": {},
     "output_type": "display_data"
    },
    {
     "data": {
      "text/plain": [
       "ParamInterval [0.0027, 0.003152] by :CICO_ONE_PASS\n",
       "  loss_init: 266.4304286862838\n",
       "  method: :CICO_ONE_PASS\n",
       "  result:\n",
       "    1: :left Endpoint with status :BORDER_FOUND_BY_SCAN_TOL\n",
       "      value: 0.002700359160357181\n",
       "      profilePoints count: 1\n",
       "      status: :BORDER_FOUND_BY_SCAN_TOL\n",
       "      direction: :left\n",
       "      counter: 643\n",
       "      supreme: 0.002700359160357181\n",
       "    2: :right Endpoint with status :BORDER_FOUND_BY_SCAN_TOL\n",
       "      value: 0.0031521152550768117\n",
       "      profilePoints count: 1\n",
       "      status: :BORDER_FOUND_BY_SCAN_TOL\n",
       "      direction: :right\n",
       "      counter: 676\n",
       "      supreme: 0.0031521152550768117\n"
      ]
     },
     "metadata": {},
     "output_type": "display_data"
    },
    {
     "data": {
      "text/plain": [
       "ParamInterval [0.001321, 0.001606] by :CICO_ONE_PASS\n",
       "  loss_init: 266.4304286862838\n",
       "  method: :CICO_ONE_PASS\n",
       "  result:\n",
       "    1: :left Endpoint with status :BORDER_FOUND_BY_SCAN_TOL\n",
       "      value: 0.0013207785252008527\n",
       "      profilePoints count: 1\n",
       "      status: :BORDER_FOUND_BY_SCAN_TOL\n",
       "      direction: :left\n",
       "      counter: 677\n",
       "      supreme: 0.0013207785252008527\n",
       "    2: :right Endpoint with status :BORDER_FOUND_BY_SCAN_TOL\n",
       "      value: 0.0016057574917872196\n",
       "      profilePoints count: 1\n",
       "      status: :BORDER_FOUND_BY_SCAN_TOL\n",
       "      direction: :right\n",
       "      counter: 894\n",
       "      supreme: 0.0016057574917872196\n"
      ]
     },
     "metadata": {},
     "output_type": "display_data"
    },
    {
     "data": {
      "text/plain": [
       "ParamInterval [0.01141, 0.01213] by :CICO_ONE_PASS\n",
       "  loss_init: 266.4304286862838\n",
       "  method: :CICO_ONE_PASS\n",
       "  result:\n",
       "    1: :left Endpoint with status :BORDER_FOUND_BY_SCAN_TOL\n",
       "      value: 0.011409341073266379\n",
       "      profilePoints count: 1\n",
       "      status: :BORDER_FOUND_BY_SCAN_TOL\n",
       "      direction: :left\n",
       "      counter: 1025\n",
       "      supreme: 0.011409341073266379\n",
       "    2: :right Endpoint with status :BORDER_FOUND_BY_SCAN_TOL\n",
       "      value: 0.012126992063162837\n",
       "      profilePoints count: 1\n",
       "      status: :BORDER_FOUND_BY_SCAN_TOL\n",
       "      direction: :right\n",
       "      counter: 572\n",
       "      supreme: 0.012126992063162837\n"
      ]
     },
     "metadata": {},
     "output_type": "display_data"
    },
    {
     "data": {
      "text/plain": [
       "ParamInterval [6.693, 9.568] by :CICO_ONE_PASS\n",
       "  loss_init: 266.4304286862838\n",
       "  method: :CICO_ONE_PASS\n",
       "  result:\n",
       "    1: :left Endpoint with status :BORDER_FOUND_BY_SCAN_TOL\n",
       "      value: 6.693166001499397\n",
       "      profilePoints count: 1\n",
       "      status: :BORDER_FOUND_BY_SCAN_TOL\n",
       "      direction: :left\n",
       "      counter: 5465\n",
       "      supreme: 6.693166001499397\n",
       "    2: :right Endpoint with status :BORDER_FOUND_BY_SCAN_TOL\n",
       "      value: 9.567708505780214\n",
       "      profilePoints count: 1\n",
       "      status: :BORDER_FOUND_BY_SCAN_TOL\n",
       "      direction: :right\n",
       "      counter: 3129\n",
       "      supreme: 9.567708505780214\n"
      ]
     },
     "metadata": {},
     "output_type": "display_data"
    },
    {
     "data": {
      "text/plain": [
       "ParamInterval [0.006238, 0.00676] by :CICO_ONE_PASS\n",
       "  loss_init: 266.4304286862838\n",
       "  method: :CICO_ONE_PASS\n",
       "  result:\n",
       "    1: :left Endpoint with status :BORDER_FOUND_BY_SCAN_TOL\n",
       "      value: 0.006237695837818853\n",
       "      profilePoints count: 1\n",
       "      status: :BORDER_FOUND_BY_SCAN_TOL\n",
       "      direction: :left\n",
       "      counter: 506\n",
       "      supreme: 0.006237695837818853\n",
       "    2: :right Endpoint with status :BORDER_FOUND_BY_SCAN_TOL\n",
       "      value: 0.006760165617290153\n",
       "      profilePoints count: 1\n",
       "      status: :BORDER_FOUND_BY_SCAN_TOL\n",
       "      direction: :right\n",
       "      counter: 803\n",
       "      supreme: 0.006760165617290153\n"
      ]
     },
     "metadata": {},
     "output_type": "display_data"
    },
    {
     "data": {
      "text/plain": [
       "ParamInterval [0.1237, 0.2138] by :CICO_ONE_PASS\n",
       "  loss_init: 266.4304286862838\n",
       "  method: :CICO_ONE_PASS\n",
       "  result:\n",
       "    1: :left Endpoint with status :BORDER_FOUND_BY_SCAN_TOL\n",
       "      value: 0.12374908652901118\n",
       "      profilePoints count: 1\n",
       "      status: :BORDER_FOUND_BY_SCAN_TOL\n",
       "      direction: :left\n",
       "      counter: 710\n",
       "      supreme: 0.12374908652901118\n",
       "    2: :right Endpoint with status :BORDER_FOUND_BY_SCAN_TOL\n",
       "      value: 0.21377400108026132\n",
       "      profilePoints count: 1\n",
       "      status: :BORDER_FOUND_BY_SCAN_TOL\n",
       "      direction: :right\n",
       "      counter: 1857\n",
       "      supreme: 0.21377400108026132\n"
      ]
     },
     "metadata": {},
     "output_type": "display_data"
    },
    {
     "data": {
      "text/plain": [
       "ParamInterval [1.276, 1.804] by :CICO_ONE_PASS\n",
       "  loss_init: 266.4304286862838\n",
       "  method: :CICO_ONE_PASS\n",
       "  result:\n",
       "    1: :left Endpoint with status :BORDER_FOUND_BY_SCAN_TOL\n",
       "      value: 1.2758393595388418\n",
       "      profilePoints count: 1\n",
       "      status: :BORDER_FOUND_BY_SCAN_TOL\n",
       "      direction: :left\n",
       "      counter: 696\n",
       "      supreme: 1.2758393595388418\n",
       "    2: :right Endpoint with status :BORDER_FOUND_BY_SCAN_TOL\n",
       "      value: 1.803927010440819\n",
       "      profilePoints count: 1\n",
       "      status: :BORDER_FOUND_BY_SCAN_TOL\n",
       "      direction: :right\n",
       "      counter: 604\n",
       "      supreme: 1.803927010440819\n"
      ]
     },
     "metadata": {},
     "output_type": "display_data"
    },
    {
     "data": {
      "text/plain": [
       "ParamInterval [0.0006514, 0.0007609] by :CICO_ONE_PASS\n",
       "  loss_init: 266.4304286862838\n",
       "  method: :CICO_ONE_PASS\n",
       "  result:\n",
       "    1: :left Endpoint with status :BORDER_FOUND_BY_SCAN_TOL\n",
       "      value: 0.0006514177151797354\n",
       "      profilePoints count: 1\n",
       "      status: :BORDER_FOUND_BY_SCAN_TOL\n",
       "      direction: :left\n",
       "      counter: 717\n",
       "      supreme: 0.0006514177151797354\n",
       "    2: :right Endpoint with status :BORDER_FOUND_BY_SCAN_TOL\n",
       "      value: 0.0007608753643956887\n",
       "      profilePoints count: 1\n",
       "      status: :BORDER_FOUND_BY_SCAN_TOL\n",
       "      direction: :right\n",
       "      counter: 682\n",
       "      supreme: 0.0007608753643956887\n"
      ]
     },
     "metadata": {},
     "output_type": "display_data"
    },
    {
     "data": {
      "text/plain": [
       "ParamInterval [0.001255, 0.001365] by :CICO_ONE_PASS\n",
       "  loss_init: 266.4304286862838\n",
       "  method: :CICO_ONE_PASS\n",
       "  result:\n",
       "    1: :left Endpoint with status :BORDER_FOUND_BY_SCAN_TOL\n",
       "      value: 0.0012547570027940497\n",
       "      profilePoints count: 1\n",
       "      status: :BORDER_FOUND_BY_SCAN_TOL\n",
       "      direction: :left\n",
       "      counter: 511\n",
       "      supreme: 0.0012547570027940497\n",
       "    2: :right Endpoint with status :BORDER_FOUND_BY_SCAN_TOL\n",
       "      value: 0.0013649281070707057\n",
       "      profilePoints count: 1\n",
       "      status: :BORDER_FOUND_BY_SCAN_TOL\n",
       "      direction: :right\n",
       "      counter: 555\n",
       "      supreme: 0.0013649281070707057\n"
      ]
     },
     "metadata": {},
     "output_type": "display_data"
    },
    {
     "data": {
      "text/plain": [
       "ParamInterval [2.71e-5, 3.187e-5] by :CICO_ONE_PASS\n",
       "  loss_init: 266.4304286862838\n",
       "  method: :CICO_ONE_PASS\n",
       "  result:\n",
       "    1: :left Endpoint with status :BORDER_FOUND_BY_SCAN_TOL\n",
       "      value: 2.7098066543298524e-5\n",
       "      profilePoints count: 1\n",
       "      status: :BORDER_FOUND_BY_SCAN_TOL\n",
       "      direction: :left\n",
       "      counter: 564\n",
       "      supreme: 2.7098066543298524e-5\n",
       "    2: :right Endpoint with status :BORDER_FOUND_BY_SCAN_TOL\n",
       "      value: 3.186884935592538e-5\n",
       "      profilePoints count: 1\n",
       "      status: :BORDER_FOUND_BY_SCAN_TOL\n",
       "      direction: :right\n",
       "      counter: 533\n",
       "      supreme: 3.186884935592538e-5\n"
      ]
     },
     "metadata": {},
     "output_type": "display_data"
    },
    {
     "data": {
      "text/plain": [
       "ParamInterval [0.0006887, 0.0007951] by :CICO_ONE_PASS\n",
       "  loss_init: 266.4304286862838\n",
       "  method: :CICO_ONE_PASS\n",
       "  result:\n",
       "    1: :left Endpoint with status :BORDER_FOUND_BY_SCAN_TOL\n",
       "      value: 0.0006886597977588877\n",
       "      profilePoints count: 1\n",
       "      status: :BORDER_FOUND_BY_SCAN_TOL\n",
       "      direction: :left\n",
       "      counter: 556\n",
       "      supreme: 0.0006886597977588877\n",
       "    2: :right Endpoint with status :BORDER_FOUND_BY_SCAN_TOL\n",
       "      value: 0.0007950729264325051\n",
       "      profilePoints count: 1\n",
       "      status: :BORDER_FOUND_BY_SCAN_TOL\n",
       "      direction: :right\n",
       "      counter: 582\n",
       "      supreme: 0.0007950729264325051\n"
      ]
     },
     "metadata": {},
     "output_type": "display_data"
    }
   ],
   "source": [
    "α = loss + 3.84\n",
    "scan_bounds = tuple.(lb/10,ub*10)\n",
    "theta_bounds = tuple.(lb/100.,ub*100)\n",
    "\n",
    "intervals = Vector{ParamInterval}(undef,length(p))\n",
    "for i in eachindex(p)\n",
    "    \n",
    "    intervals[i] = get_interval(\n",
    "        p,\n",
    "        i,\n",
    "        (p)->obj_func(p),\n",
    "        :CICO_ONE_PASS,\n",
    "        loss_crit = α,\n",
    "        theta_bounds = theta_bounds,\n",
    "        scan_bounds = scan_bounds[i],\n",
    "        local_alg = :LN_SBPLX,\n",
    "        #scale = fill(:log,length(p)),\n",
    "        silent = true\n",
    "    )\n",
    "    display(intervals[i]) \n",
    "end"
   ]
  },
  {
   "cell_type": "code",
   "execution_count": 21,
   "metadata": {
    "scrolled": true
   },
   "outputs": [
    {
     "data": {
      "text/html": [
       "<div><div style = \"float: left;\"><span>18×9 DataFrame</span></div><div style = \"clear: both;\"></div></div><div class = \"data-frame\" style = \"overflow-x: scroll;\"><table class = \"data-frame\" style = \"margin-bottom: 6px;\"><thead><tr class = \"header\"><th class = \"rowNumber\" style = \"font-weight: bold; text-align: right;\">Row</th><th style = \"text-align: left;\">Parameters</th><th style = \"text-align: left;\">StatusLower</th><th style = \"text-align: left;\">StatusUpper</th><th style = \"text-align: left;\">CILower</th><th style = \"text-align: left;\">CIUpper</th><th style = \"text-align: left;\">FittedValues</th><th style = \"text-align: left;\">StartValues</th><th style = \"text-align: left;\">NominalValues</th><th style = \"text-align: left;\">NominalInCI</th></tr><tr class = \"subheader headerLastRow\"><th class = \"rowNumber\" style = \"font-weight: bold; text-align: right;\"></th><th title = \"Symbol\" style = \"text-align: left;\">Symbol</th><th title = \"Symbol\" style = \"text-align: left;\">Symbol</th><th title = \"Symbol\" style = \"text-align: left;\">Symbol</th><th title = \"Float64\" style = \"text-align: left;\">Float64</th><th title = \"Float64\" style = \"text-align: left;\">Float64</th><th title = \"Float64\" style = \"text-align: left;\">Float64</th><th title = \"Float64\" style = \"text-align: left;\">Float64</th><th title = \"Float64\" style = \"text-align: left;\">Float64</th><th title = \"Bool\" style = \"text-align: left;\">Bool</th></tr></thead><tbody><tr><td class = \"rowNumber\" style = \"font-weight: bold; text-align: right;\">1</td><td style = \"text-align: left;\">k1</td><td style = \"text-align: left;\">BORDER_FOUND_BY_SCAN_TOL</td><td style = \"text-align: left;\">BORDER_FOUND_BY_SCAN_TOL</td><td style = \"text-align: right;\">0.000195926</td><td style = \"text-align: right;\">0.000254801</td><td style = \"text-align: right;\">0.00022901</td><td style = \"text-align: right;\">3.52e-5</td><td style = \"text-align: right;\">0.00015</td><td style = \"text-align: right;\">false</td></tr><tr><td class = \"rowNumber\" style = \"font-weight: bold; text-align: right;\">2</td><td style = \"text-align: left;\">k2</td><td style = \"text-align: left;\">BORDER_FOUND_BY_SCAN_TOL</td><td style = \"text-align: left;\">BORDER_FOUND_BY_SCAN_TOL</td><td style = \"text-align: right;\">0.0284493</td><td style = \"text-align: right;\">0.0402581</td><td style = \"text-align: right;\">0.0340623</td><td style = \"text-align: right;\">0.00131226</td><td style = \"text-align: right;\">0.023</td><td style = \"text-align: right;\">false</td></tr><tr><td class = \"rowNumber\" style = \"font-weight: bold; text-align: right;\">3</td><td style = \"text-align: left;\">k4</td><td style = \"text-align: left;\">BORDER_FOUND_BY_SCAN_TOL</td><td style = \"text-align: left;\">BORDER_FOUND_BY_SCAN_TOL</td><td style = \"text-align: right;\">0.00879917</td><td style = \"text-align: right;\">0.00979878</td><td style = \"text-align: right;\">0.00919033</td><td style = \"text-align: right;\">0.00151732</td><td style = \"text-align: right;\">0.01</td><td style = \"text-align: right;\">false</td></tr><tr><td class = \"rowNumber\" style = \"font-weight: bold; text-align: right;\">4</td><td style = \"text-align: left;\">k5</td><td style = \"text-align: left;\">BORDER_FOUND_BY_SCAN_TOL</td><td style = \"text-align: left;\">BORDER_FOUND_BY_SCAN_TOL</td><td style = \"text-align: right;\">0.00896179</td><td style = \"text-align: right;\">0.00997271</td><td style = \"text-align: right;\">0.00939784</td><td style = \"text-align: right;\">0.0395871</td><td style = \"text-align: right;\">0.01</td><td style = \"text-align: right;\">false</td></tr><tr><td class = \"rowNumber\" style = \"font-weight: bold; text-align: right;\">5</td><td style = \"text-align: left;\">k6</td><td style = \"text-align: left;\">BORDER_FOUND_BY_SCAN_TOL</td><td style = \"text-align: left;\">BORDER_FOUND_BY_SCAN_TOL</td><td style = \"text-align: right;\">0.0929792</td><td style = \"text-align: right;\">0.107122</td><td style = \"text-align: right;\">0.0998471</td><td style = \"text-align: right;\">1.63e-5</td><td style = \"text-align: right;\">0.1</td><td style = \"text-align: right;\">true</td></tr><tr><td class = \"rowNumber\" style = \"font-weight: bold; text-align: right;\">6</td><td style = \"text-align: left;\">k7</td><td style = \"text-align: left;\">BORDER_FOUND_BY_SCAN_TOL</td><td style = \"text-align: left;\">BORDER_FOUND_BY_SCAN_TOL</td><td style = \"text-align: right;\">0.00034917</td><td style = \"text-align: right;\">0.000377882</td><td style = \"text-align: right;\">0.000360378</td><td style = \"text-align: right;\">0.000251247</td><td style = \"text-align: right;\">0.000404</td><td style = \"text-align: right;\">false</td></tr><tr><td class = \"rowNumber\" style = \"font-weight: bold; text-align: right;\">7</td><td style = \"text-align: left;\">k8</td><td style = \"text-align: left;\">BORDER_FOUND_BY_SCAN_TOL</td><td style = \"text-align: left;\">BORDER_FOUND_BY_SCAN_TOL</td><td style = \"text-align: right;\">0.0011401</td><td style = \"text-align: right;\">0.00134813</td><td style = \"text-align: right;\">0.00124363</td><td style = \"text-align: right;\">0.000112007</td><td style = \"text-align: right;\">0.0026</td><td style = \"text-align: right;\">false</td></tr><tr><td class = \"rowNumber\" style = \"font-weight: bold; text-align: right;\">8</td><td style = \"text-align: left;\">k9</td><td style = \"text-align: left;\">BORDER_FOUND_BY_SCAN_TOL</td><td style = \"text-align: left;\">BORDER_FOUND_BY_SCAN_TOL</td><td style = \"text-align: right;\">0.00270036</td><td style = \"text-align: right;\">0.00315212</td><td style = \"text-align: right;\">0.00279417</td><td style = \"text-align: right;\">0.00783227</td><td style = \"text-align: right;\">0.0056</td><td style = \"text-align: right;\">false</td></tr><tr><td class = \"rowNumber\" style = \"font-weight: bold; text-align: right;\">9</td><td style = \"text-align: left;\">k10</td><td style = \"text-align: left;\">BORDER_FOUND_BY_SCAN_TOL</td><td style = \"text-align: left;\">BORDER_FOUND_BY_SCAN_TOL</td><td style = \"text-align: right;\">0.00132078</td><td style = \"text-align: right;\">0.00160576</td><td style = \"text-align: right;\">0.00148571</td><td style = \"text-align: right;\">0.0424562</td><td style = \"text-align: right;\">0.002</td><td style = \"text-align: right;\">false</td></tr><tr><td class = \"rowNumber\" style = \"font-weight: bold; text-align: right;\">10</td><td style = \"text-align: left;\">k11</td><td style = \"text-align: left;\">BORDER_FOUND_BY_SCAN_TOL</td><td style = \"text-align: left;\">BORDER_FOUND_BY_SCAN_TOL</td><td style = \"text-align: right;\">0.0114093</td><td style = \"text-align: right;\">0.012127</td><td style = \"text-align: right;\">0.0117367</td><td style = \"text-align: right;\">0.000142716</td><td style = \"text-align: right;\">0.016</td><td style = \"text-align: right;\">false</td></tr><tr><td class = \"rowNumber\" style = \"font-weight: bold; text-align: right;\">11</td><td style = \"text-align: left;\">k12</td><td style = \"text-align: left;\">BORDER_FOUND_BY_SCAN_TOL</td><td style = \"text-align: left;\">BORDER_FOUND_BY_SCAN_TOL</td><td style = \"text-align: right;\">6.69317</td><td style = \"text-align: right;\">9.56771</td><td style = \"text-align: right;\">9.13593</td><td style = \"text-align: right;\">8.20992</td><td style = \"text-align: right;\">5.7</td><td style = \"text-align: right;\">false</td></tr><tr><td class = \"rowNumber\" style = \"font-weight: bold; text-align: right;\">12</td><td style = \"text-align: left;\">k13</td><td style = \"text-align: left;\">BORDER_FOUND_BY_SCAN_TOL</td><td style = \"text-align: left;\">BORDER_FOUND_BY_SCAN_TOL</td><td style = \"text-align: right;\">0.0062377</td><td style = \"text-align: right;\">0.00676017</td><td style = \"text-align: right;\">0.0064295</td><td style = \"text-align: right;\">0.000270499</td><td style = \"text-align: right;\">0.00657</td><td style = \"text-align: right;\">true</td></tr><tr><td class = \"rowNumber\" style = \"font-weight: bold; text-align: right;\">13</td><td style = \"text-align: left;\">k14</td><td style = \"text-align: left;\">BORDER_FOUND_BY_SCAN_TOL</td><td style = \"text-align: left;\">BORDER_FOUND_BY_SCAN_TOL</td><td style = \"text-align: right;\">0.123749</td><td style = \"text-align: right;\">0.213774</td><td style = \"text-align: right;\">0.150393</td><td style = \"text-align: right;\">0.0213893</td><td style = \"text-align: right;\">0.0017</td><td style = \"text-align: right;\">false</td></tr><tr><td class = \"rowNumber\" style = \"font-weight: bold; text-align: right;\">14</td><td style = \"text-align: left;\">k15</td><td style = \"text-align: left;\">BORDER_FOUND_BY_SCAN_TOL</td><td style = \"text-align: left;\">BORDER_FOUND_BY_SCAN_TOL</td><td style = \"text-align: right;\">1.27584</td><td style = \"text-align: right;\">1.80393</td><td style = \"text-align: right;\">1.37823</td><td style = \"text-align: right;\">1.41254</td><td style = \"text-align: right;\">1.0</td><td style = \"text-align: right;\">false</td></tr><tr><td class = \"rowNumber\" style = \"font-weight: bold; text-align: right;\">15</td><td style = \"text-align: left;\">k16</td><td style = \"text-align: left;\">BORDER_FOUND_BY_SCAN_TOL</td><td style = \"text-align: left;\">BORDER_FOUND_BY_SCAN_TOL</td><td style = \"text-align: right;\">0.000651418</td><td style = \"text-align: right;\">0.000760875</td><td style = \"text-align: right;\">0.000714474</td><td style = \"text-align: right;\">0.000121978</td><td style = \"text-align: right;\">0.0008</td><td style = \"text-align: right;\">false</td></tr><tr><td class = \"rowNumber\" style = \"font-weight: bold; text-align: right;\">16</td><td style = \"text-align: left;\">k17</td><td style = \"text-align: left;\">BORDER_FOUND_BY_SCAN_TOL</td><td style = \"text-align: left;\">BORDER_FOUND_BY_SCAN_TOL</td><td style = \"text-align: right;\">0.00125476</td><td style = \"text-align: right;\">0.00136493</td><td style = \"text-align: right;\">0.00131873</td><td style = \"text-align: right;\">0.00658392</td><td style = \"text-align: right;\">0.001</td><td style = \"text-align: right;\">false</td></tr><tr><td class = \"rowNumber\" style = \"font-weight: bold; text-align: right;\">17</td><td style = \"text-align: left;\">k18</td><td style = \"text-align: left;\">BORDER_FOUND_BY_SCAN_TOL</td><td style = \"text-align: left;\">BORDER_FOUND_BY_SCAN_TOL</td><td style = \"text-align: right;\">2.70981e-5</td><td style = \"text-align: right;\">3.18688e-5</td><td style = \"text-align: right;\">2.90475e-5</td><td style = \"text-align: right;\">0.000205464</td><td style = \"text-align: right;\">0.0021</td><td style = \"text-align: right;\">false</td></tr><tr><td class = \"rowNumber\" style = \"font-weight: bold; text-align: right;\">18</td><td style = \"text-align: left;\">k19</td><td style = \"text-align: left;\">BORDER_FOUND_BY_SCAN_TOL</td><td style = \"text-align: left;\">BORDER_FOUND_BY_SCAN_TOL</td><td style = \"text-align: right;\">0.00068866</td><td style = \"text-align: right;\">0.000795073</td><td style = \"text-align: right;\">0.000739822</td><td style = \"text-align: right;\">0.0111338</td><td style = \"text-align: right;\">0.001</td><td style = \"text-align: right;\">false</td></tr></tbody></table></div>"
      ],
      "text/latex": [
       "\\begin{tabular}{r|ccccccccc}\n",
       "\t& Parameters & StatusLower & StatusUpper & CILower & CIUpper & FittedValues & StartValues & NominalValues & NominalInCI\\\\\n",
       "\t\\hline\n",
       "\t& Symbol & Symbol & Symbol & Float64 & Float64 & Float64 & Float64 & Float64 & Bool\\\\\n",
       "\t\\hline\n",
       "\t1 & k1 & BORDER\\_FOUND\\_BY\\_SCAN\\_TOL & BORDER\\_FOUND\\_BY\\_SCAN\\_TOL & 0.000195926 & 0.000254801 & 0.00022901 & 3.52e-5 & 0.00015 & 0 \\\\\n",
       "\t2 & k2 & BORDER\\_FOUND\\_BY\\_SCAN\\_TOL & BORDER\\_FOUND\\_BY\\_SCAN\\_TOL & 0.0284493 & 0.0402581 & 0.0340623 & 0.00131226 & 0.023 & 0 \\\\\n",
       "\t3 & k4 & BORDER\\_FOUND\\_BY\\_SCAN\\_TOL & BORDER\\_FOUND\\_BY\\_SCAN\\_TOL & 0.00879917 & 0.00979878 & 0.00919033 & 0.00151732 & 0.01 & 0 \\\\\n",
       "\t4 & k5 & BORDER\\_FOUND\\_BY\\_SCAN\\_TOL & BORDER\\_FOUND\\_BY\\_SCAN\\_TOL & 0.00896179 & 0.00997271 & 0.00939784 & 0.0395871 & 0.01 & 0 \\\\\n",
       "\t5 & k6 & BORDER\\_FOUND\\_BY\\_SCAN\\_TOL & BORDER\\_FOUND\\_BY\\_SCAN\\_TOL & 0.0929792 & 0.107122 & 0.0998471 & 1.63e-5 & 0.1 & 1 \\\\\n",
       "\t6 & k7 & BORDER\\_FOUND\\_BY\\_SCAN\\_TOL & BORDER\\_FOUND\\_BY\\_SCAN\\_TOL & 0.00034917 & 0.000377882 & 0.000360378 & 0.000251247 & 0.000404 & 0 \\\\\n",
       "\t7 & k8 & BORDER\\_FOUND\\_BY\\_SCAN\\_TOL & BORDER\\_FOUND\\_BY\\_SCAN\\_TOL & 0.0011401 & 0.00134813 & 0.00124363 & 0.000112007 & 0.0026 & 0 \\\\\n",
       "\t8 & k9 & BORDER\\_FOUND\\_BY\\_SCAN\\_TOL & BORDER\\_FOUND\\_BY\\_SCAN\\_TOL & 0.00270036 & 0.00315212 & 0.00279417 & 0.00783227 & 0.0056 & 0 \\\\\n",
       "\t9 & k10 & BORDER\\_FOUND\\_BY\\_SCAN\\_TOL & BORDER\\_FOUND\\_BY\\_SCAN\\_TOL & 0.00132078 & 0.00160576 & 0.00148571 & 0.0424562 & 0.002 & 0 \\\\\n",
       "\t10 & k11 & BORDER\\_FOUND\\_BY\\_SCAN\\_TOL & BORDER\\_FOUND\\_BY\\_SCAN\\_TOL & 0.0114093 & 0.012127 & 0.0117367 & 0.000142716 & 0.016 & 0 \\\\\n",
       "\t11 & k12 & BORDER\\_FOUND\\_BY\\_SCAN\\_TOL & BORDER\\_FOUND\\_BY\\_SCAN\\_TOL & 6.69317 & 9.56771 & 9.13593 & 8.20992 & 5.7 & 0 \\\\\n",
       "\t12 & k13 & BORDER\\_FOUND\\_BY\\_SCAN\\_TOL & BORDER\\_FOUND\\_BY\\_SCAN\\_TOL & 0.0062377 & 0.00676017 & 0.0064295 & 0.000270499 & 0.00657 & 1 \\\\\n",
       "\t13 & k14 & BORDER\\_FOUND\\_BY\\_SCAN\\_TOL & BORDER\\_FOUND\\_BY\\_SCAN\\_TOL & 0.123749 & 0.213774 & 0.150393 & 0.0213893 & 0.0017 & 0 \\\\\n",
       "\t14 & k15 & BORDER\\_FOUND\\_BY\\_SCAN\\_TOL & BORDER\\_FOUND\\_BY\\_SCAN\\_TOL & 1.27584 & 1.80393 & 1.37823 & 1.41254 & 1.0 & 0 \\\\\n",
       "\t15 & k16 & BORDER\\_FOUND\\_BY\\_SCAN\\_TOL & BORDER\\_FOUND\\_BY\\_SCAN\\_TOL & 0.000651418 & 0.000760875 & 0.000714474 & 0.000121978 & 0.0008 & 0 \\\\\n",
       "\t16 & k17 & BORDER\\_FOUND\\_BY\\_SCAN\\_TOL & BORDER\\_FOUND\\_BY\\_SCAN\\_TOL & 0.00125476 & 0.00136493 & 0.00131873 & 0.00658392 & 0.001 & 0 \\\\\n",
       "\t17 & k18 & BORDER\\_FOUND\\_BY\\_SCAN\\_TOL & BORDER\\_FOUND\\_BY\\_SCAN\\_TOL & 2.70981e-5 & 3.18688e-5 & 2.90475e-5 & 0.000205464 & 0.0021 & 0 \\\\\n",
       "\t18 & k19 & BORDER\\_FOUND\\_BY\\_SCAN\\_TOL & BORDER\\_FOUND\\_BY\\_SCAN\\_TOL & 0.00068866 & 0.000795073 & 0.000739822 & 0.0111338 & 0.001 & 0 \\\\\n",
       "\\end{tabular}\n"
      ],
      "text/plain": [
       "\u001b[1m18×9 DataFrame\u001b[0m\n",
       "\u001b[1m Row \u001b[0m│\u001b[1m Parameters \u001b[0m\u001b[1m StatusLower              \u001b[0m\u001b[1m StatusUpper              \u001b[0m\u001b[1m CILower     \u001b[0m\u001b[1m CIUpper     \u001b[0m\u001b[1m FittedValues \u001b[0m\u001b[1m StartValues \u001b[0m\u001b[1m NominalValues \u001b[0m\u001b[1m\u001b[0m ⋯\n",
       "     │\u001b[90m Symbol     \u001b[0m\u001b[90m Symbol                   \u001b[0m\u001b[90m Symbol                   \u001b[0m\u001b[90m Float64     \u001b[0m\u001b[90m Float64     \u001b[0m\u001b[90m Float64      \u001b[0m\u001b[90m Float64     \u001b[0m\u001b[90m Float64       \u001b[0m\u001b[90m\u001b[0m ⋯\n",
       "─────┼──────────────────────────────────────────────────────────────────────────────────────────────────────────────────────────────────────\n",
       "   1 │ k1          BORDER_FOUND_BY_SCAN_TOL  BORDER_FOUND_BY_SCAN_TOL  0.000195926  0.000254801   0.00022901   3.52e-5           0.00015   ⋯\n",
       "   2 │ k2          BORDER_FOUND_BY_SCAN_TOL  BORDER_FOUND_BY_SCAN_TOL  0.0284493    0.0402581     0.0340623    0.00131226        0.023\n",
       "   3 │ k4          BORDER_FOUND_BY_SCAN_TOL  BORDER_FOUND_BY_SCAN_TOL  0.00879917   0.00979878    0.00919033   0.00151732        0.01\n",
       "   4 │ k5          BORDER_FOUND_BY_SCAN_TOL  BORDER_FOUND_BY_SCAN_TOL  0.00896179   0.00997271    0.00939784   0.0395871         0.01\n",
       "   5 │ k6          BORDER_FOUND_BY_SCAN_TOL  BORDER_FOUND_BY_SCAN_TOL  0.0929792    0.107122      0.0998471    1.63e-5           0.1       ⋯\n",
       "   6 │ k7          BORDER_FOUND_BY_SCAN_TOL  BORDER_FOUND_BY_SCAN_TOL  0.00034917   0.000377882   0.000360378  0.000251247       0.000404\n",
       "   7 │ k8          BORDER_FOUND_BY_SCAN_TOL  BORDER_FOUND_BY_SCAN_TOL  0.0011401    0.00134813    0.00124363   0.000112007       0.0026\n",
       "   8 │ k9          BORDER_FOUND_BY_SCAN_TOL  BORDER_FOUND_BY_SCAN_TOL  0.00270036   0.00315212    0.00279417   0.00783227        0.0056\n",
       "  ⋮  │     ⋮                  ⋮                         ⋮                   ⋮            ⋮            ⋮             ⋮             ⋮        ⋱\n",
       "  12 │ k13         BORDER_FOUND_BY_SCAN_TOL  BORDER_FOUND_BY_SCAN_TOL  0.0062377    0.00676017    0.0064295    0.000270499       0.00657   ⋯\n",
       "  13 │ k14         BORDER_FOUND_BY_SCAN_TOL  BORDER_FOUND_BY_SCAN_TOL  0.123749     0.213774      0.150393     0.0213893         0.0017\n",
       "  14 │ k15         BORDER_FOUND_BY_SCAN_TOL  BORDER_FOUND_BY_SCAN_TOL  1.27584      1.80393       1.37823      1.41254           1.0\n",
       "  15 │ k16         BORDER_FOUND_BY_SCAN_TOL  BORDER_FOUND_BY_SCAN_TOL  0.000651418  0.000760875   0.000714474  0.000121978       0.0008\n",
       "  16 │ k17         BORDER_FOUND_BY_SCAN_TOL  BORDER_FOUND_BY_SCAN_TOL  0.00125476   0.00136493    0.00131873   0.00658392        0.001     ⋯\n",
       "  17 │ k18         BORDER_FOUND_BY_SCAN_TOL  BORDER_FOUND_BY_SCAN_TOL  2.70981e-5   3.18688e-5    2.90475e-5   0.000205464       0.0021\n",
       "  18 │ k19         BORDER_FOUND_BY_SCAN_TOL  BORDER_FOUND_BY_SCAN_TOL  0.00068866   0.000795073   0.000739822  0.0111338         0.001\n",
       "\u001b[36m                                                                                                                 1 column and 3 rows omitted\u001b[0m"
      ]
     },
     "metadata": {},
     "output_type": "display_data"
    }
   ],
   "source": [
    "ENV[\"COLUMNS\"]=140\n",
    "df_res = DataFrame(\n",
    "    Parameters = [:k1, :k2, :k4, :k5, :k6, :k7, :k8, :k9, :k10, :k11, :k12, :k13, :k14, :k15, :k16, :k17, :k18, :k19], \n",
    "    StatusLower = [k.result[1].status for k in intervals],\n",
    "    StatusUpper = [k.result[2].status for k in intervals],\n",
    "    CILower = [k.result[1].value for k in intervals],\n",
    "    CIUpper = [k.result[2].value for k in intervals],\n",
    "    FittedValues = p,\n",
    "    StartValues = p_start,\n",
    "    NominalValues = p0,\n",
    "    NominalInCI = [(intervals[i].result[1].value <= p0[i] <= intervals[i].result[2].value) for i in eachindex(p0)]\n",
    ")\n",
    "df_res"
   ]
  },
  {
   "cell_type": "code",
   "execution_count": 22,
   "metadata": {},
   "outputs": [],
   "source": []
  }
 ],
 "metadata": {
  "@webio": {
   "lastCommId": null,
   "lastKernelId": null
  },
  "kernelspec": {
   "display_name": "Julia 1.11.3",
   "language": "julia",
   "name": "julia-1.11"
  },
  "language_info": {
   "file_extension": ".jl",
   "mimetype": "application/julia",
   "name": "julia",
   "version": "1.11.3"
  }
 },
 "nbformat": 4,
 "nbformat_minor": 2
}
