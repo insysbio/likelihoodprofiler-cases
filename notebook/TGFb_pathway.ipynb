{
 "cells": [
  {
   "cell_type": "markdown",
   "metadata": {},
   "source": [
    "## TGF-β Signaling Pathway Model"
   ]
  },
  {
   "cell_type": "markdown",
   "metadata": {},
   "source": [
    "This notebook studies parameters identifiability of the **TGF-β signaling pathway model** proposed in [Geier F, Fengos G, Felizzi F, Iber D. Analyzing and Constraining Signaling Networks](https://link.springer.com/book/10.1007%2F978-1-61779-833-7). Identifiability of this model was analyzed in this article \\[\\*\\] [Parameter identifiability analysis and visualization in large-scale kinetic models of biosystems](https://bmcsystbiol.biomedcentral.com/articles/10.1186/s12918-017-0428-y). We used the equations and datasets provided by the authors of this article in the use-cases of [visid](https://github.com/gabora/visid) software. Our goal is to compare *LikelihoodProfiler* results with the results of \\[\\*\\]. "
   ]
  },
  {
   "cell_type": "markdown",
   "metadata": {},
   "source": [
    "The following ODE system defines the **TGF-β signaling pathway model**"
   ]
  },
  {
   "cell_type": "code",
   "execution_count": 2,
   "metadata": {},
   "outputs": [],
   "source": [
    "using DiffEqBase, OrdinaryDiffEq, Sundials, CSV, Plots, NLopt, LikelihoodProfiler, DataFrames\n",
    "\n",
    "# ODE function\n",
    "function ode_func(du,u,p,t)\n",
    "    #parameters\n",
    "    k1, k2, k4, k5, k6, k7, k8, k9, k10, k11, k12, k13, k14, k15, k16, k17, k18, k19 = p\n",
    "    k3 = 0.01\n",
    "    k20 = 9000.\n",
    "    k21 = 1800.\n",
    "    \n",
    "    # concentrations (all concencentrations except I_Smad_mRNA1, I_Smad_mRNA2 are observed in the experiment)\n",
    "    TGFb, TGFbR, TGFb_TGFbR, TGFb_TGFbR_P, I_Smad_TGFb_TGFbR_P, Smad, Smad_P, CoSmad, Smad_P_Smad_P, Smad_P_CoSmad, \n",
    "    Smad_N, Smad_P_Smad_P_N, Smad_P_N, Smad_P_CoSmad_N, CoSmad_N, I_Smad, I_Smad_mRNA1, I_Smad_mRNA2 = u\n",
    "\n",
    "    # kinetic rates\n",
    "    r1 = k1*TGFb_TGFbR                                   \n",
    "    r2 = k2*TGFbR*TGFb                                   \n",
    "    r3 = k3*TGFb_TGFbR*(1-exp(-((t-k20)/(k21))^10))      \n",
    "    r4 = k4*TGFb_TGFbR_P                                 \n",
    "    r5 = k5*TGFb_TGFbR_P*I_Smad                          \n",
    "    r6 = k6*I_Smad_TGFb_TGFbR_P                          \n",
    "    r7 = k7*Smad*TGFb_TGFbR_P                            \n",
    "    r8 = k8*Smad                                         \n",
    "    r9 = k9*Smad_N                                       \n",
    "    r10 = k10*2*Smad_P*Smad_P                            \n",
    "    r11 = k11*Smad_P_Smad_P                              \n",
    "    r12 = k10*Smad_P*CoSmad                              \n",
    "    r13 = k11*Smad_P_CoSmad                              \n",
    "    r14 = k8*CoSmad                                      \n",
    "    r15 = k9*CoSmad_N                                    \n",
    "    r16 = k12*k8*Smad_P_Smad_P                           \n",
    "    r17 = k8*Smad_P                                      \n",
    "    r18 = k9*Smad_P_N                                    \n",
    "    r19 = k12*k8*Smad_P_CoSmad                           \n",
    "    r20 = k13*Smad_P_N                                   \n",
    "    r21 = k10*2*Smad_P_N*Smad_P_N                        \n",
    "    r22 = k11*Smad_P_Smad_P_N                            \n",
    "    r23 = k10*Smad_P_N*CoSmad_N                          \n",
    "    r24 = k11*Smad_P_CoSmad_N                            \n",
    "    r25 = k14*Smad_P_CoSmad_N^2/(Smad_P_CoSmad_N^2+k15^2)\n",
    "    r26 = k16*I_Smad_mRNA1                               \n",
    "    r27 = k17*I_Smad_mRNA2                               \n",
    "    r28 = k18*I_Smad_mRNA2                               \n",
    "    r29 = k19*I_Smad                                     \n",
    "        \n",
    "    # rhs\n",
    "    du[1] = r1-r2                                         \n",
    "    du[2] = r1-r2                                        \n",
    "    du[3] = -r1+r2-r3+r4+r6                         \n",
    "    du[4] = r3-r4-r5                              \n",
    "    du[5] = r5-r6                          \n",
    "    du[6] = -r7-r8+r9                                    \n",
    "    du[7] = r7-r10+r11-r12+r13-r17+r18                 \n",
    "    du[8] = -r12+r13-r14+r15                           \n",
    "    du[9] = r10-r11-r16                         \n",
    "    du[10] = r12-r13-r19                         \n",
    "    du[11] = r8-r9+r20                                  \n",
    "    du[12] = r16+r21-r22                       \n",
    "    du[13] = r17-r18-r20-r21+r22-r23+r24              \n",
    "    du[14] = r19+r23-r24                       \n",
    "    du[15] = r14-r15-r23+r24                          \n",
    "    du[16] = r28-r29-r5+r6                    \n",
    "    du[17] = r25-r26                            \n",
    "    du[18] = r26-r27\n",
    "end;"
   ]
  },
  {
   "cell_type": "markdown",
   "metadata": {},
   "source": [
    "Initial conditions, estimated parameter values, and time points are taken from [visid repo](https://github.com/gabora/visid/blob/53c5f390f6b0459978c076ace01a4b5f7c165094/case_studies/tgfb/TGFB_amigo.m)"
   ]
  },
  {
   "cell_type": "code",
   "execution_count": 3,
   "metadata": {},
   "outputs": [],
   "source": [
    "# initial conditions, nominal parameter values and timepoints\n",
    "# https://github.com/gabora/visid/blob/master/case_studies/tgfb/TGFB_amigo.m\n",
    "u0 = [\n",
    "    1., \n",
    "    1., \n",
    "    -1.3645e-017, \n",
    "    -1.3645e-017, \n",
    "    -1.0333e-034, \n",
    "    40.976, \n",
    "    3.5121e-011, \n",
    "    34.146, \n",
    "    2.3805e-021, \n",
    "    -5.2419e-011, \n",
    "    19.024,\n",
    "    1.0252e-018,\n",
    "    6.218e-011,\n",
    "    4.1486e-009,\n",
    "    15.854,\n",
    "    5.3131e-017,\n",
    "    6.504e-017,\n",
    "    3.7963e-017\n",
    "]\n",
    "    \n",
    "p0 = [\n",
    "    0.00015,\n",
    "    0.023,\n",
    "#    0.01, not estimated in fitting\n",
    "    0.01,\n",
    "    0.01,\n",
    "    0.1,\n",
    "    0.000404,\n",
    "    0.0026,\n",
    "    0.0056,\n",
    "    0.002,\n",
    "    0.016,\n",
    "    5.7,\n",
    "    0.00657,\n",
    "    0.0017,\n",
    "    1.,\n",
    "    0.0008,\n",
    "    0.001,\n",
    "    0.0021,\n",
    "    0.001\n",
    "#    9000., not estimated in fitting\n",
    "#    1800.  not estimated in fitting\n",
    "]\n",
    "\n",
    "time_points = [\n",
    "    0.,\n",
    "    1285.71,\n",
    "    2571.43,\n",
    "    3857.14,\n",
    "    5142.86,\n",
    "    6428.57,\n",
    "    7714.29,\n",
    "    9000.,\n",
    "    10285.7,\n",
    "    11571.4,\n",
    "    12857.1,\n",
    "    14142.9,\n",
    "    15428.6,\n",
    "    16714.3,\n",
    "    18000.\n",
    "]\n",
    "\n",
    "# time interval to solve on\n",
    "tspan = (0., 18000.);"
   ]
  },
  {
   "cell_type": "markdown",
   "metadata": {},
   "source": [
    "Next we solve the IVP (Initial Value Problem)"
   ]
  },
  {
   "cell_type": "code",
   "execution_count": 4,
   "metadata": {},
   "outputs": [],
   "source": [
    "# next we create an IVP \n",
    "prob = ODEProblem(ode_func, u0, tspan, p0)\n",
    "\n",
    "# solver algorithm, tolerances and max iterations\n",
    "solver_opts = Dict(\n",
    "    :alg => AutoTsit5(Rosenbrock23()),\n",
    "    :reltol => 1e-7,\n",
    "    :abstol => 1e-7\n",
    ")\n",
    "\n",
    "# we are interested only in concentrations observed in the experiment, hence \"save_idxs = 1:16\"\n",
    "sol = solve(\n",
    "    prob, \n",
    "    solver_opts[:alg], \n",
    "    reltol=solver_opts[:reltol],\n",
    "    abstol=solver_opts[:abstol],\n",
    "    saveat=time_points,\n",
    "    save_idxs = 1:16\n",
    ");"
   ]
  },
  {
   "cell_type": "markdown",
   "metadata": {},
   "source": [
    "We use pseudo-experimental dataset from [visid repo](https://github.com/gabora/visid/blob/53c5f390f6b0459978c076ace01a4b5f7c165094/case_studies/tgfb/TGFB_amigo.m) and plot one of the variables (TGFb) together with experimental data"
   ]
  },
  {
   "cell_type": "code",
   "execution_count": null,
   "metadata": {},
   "outputs": [],
   "source": [
    "dataset = CSV.read(\"TGFb_data.csv\", DataFrame)\n",
    "\n",
    "# standard deviation (sigma and not sigma^2!)\n",
    "# provided in inputs.exps.error_data{iexp}\n",
    "sigmas = CSV.read(\"TGFb_error.csv\", DataFrame);"
   ]
  },
  {
   "cell_type": "code",
   "execution_count": 6,
   "metadata": {},
   "outputs": [
    {
     "data": {
      "image/svg+xml": [
       "<?xml version=\"1.0\" encoding=\"utf-8\"?>\n",
       "<svg xmlns=\"http://www.w3.org/2000/svg\" xmlns:xlink=\"http://www.w3.org/1999/xlink\" width=\"600\" height=\"400\" viewBox=\"0 0 2400 1600\">\n",
       "<defs>\n",
       "  <clipPath id=\"clip7400\">\n",
       "    <rect x=\"0\" y=\"0\" width=\"2400\" height=\"1600\"/>\n",
       "  </clipPath>\n",
       "</defs>\n",
       "<polygon clip-path=\"url(#clip7400)\" points=\"\n",
       "0,1600 2400,1600 2400,0 0,0 \n",
       "  \" fill=\"#ffffff\" fill-rule=\"evenodd\" fill-opacity=\"1\"/>\n",
       "<defs>\n",
       "  <clipPath id=\"clip7401\">\n",
       "    <rect x=\"480\" y=\"0\" width=\"1681\" height=\"1600\"/>\n",
       "  </clipPath>\n",
       "</defs>\n",
       "<polygon clip-path=\"url(#clip7400)\" points=\"\n",
       "215.754,1425.62 2352.76,1425.62 2352.76,47.2441 215.754,47.2441 \n",
       "  \" fill=\"#ffffff\" fill-rule=\"evenodd\" fill-opacity=\"1\"/>\n",
       "<defs>\n",
       "  <clipPath id=\"clip7402\">\n",
       "    <rect x=\"215\" y=\"47\" width=\"2138\" height=\"1379\"/>\n",
       "  </clipPath>\n",
       "</defs>\n",
       "<polyline clip-path=\"url(#clip7402)\" style=\"stroke:#000000; stroke-width:2; stroke-opacity:0.1; fill:none\" points=\"\n",
       "  215.754,1425.62 215.754,47.2441 \n",
       "  \"/>\n",
       "<polyline clip-path=\"url(#clip7402)\" style=\"stroke:#000000; stroke-width:2; stroke-opacity:0.1; fill:none\" points=\"\n",
       "  571.921,1425.62 571.921,47.2441 \n",
       "  \"/>\n",
       "<polyline clip-path=\"url(#clip7402)\" style=\"stroke:#000000; stroke-width:2; stroke-opacity:0.1; fill:none\" points=\"\n",
       "  928.088,1425.62 928.088,47.2441 \n",
       "  \"/>\n",
       "<polyline clip-path=\"url(#clip7402)\" style=\"stroke:#000000; stroke-width:2; stroke-opacity:0.1; fill:none\" points=\"\n",
       "  1284.25,1425.62 1284.25,47.2441 \n",
       "  \"/>\n",
       "<polyline clip-path=\"url(#clip7402)\" style=\"stroke:#000000; stroke-width:2; stroke-opacity:0.1; fill:none\" points=\"\n",
       "  1640.42,1425.62 1640.42,47.2441 \n",
       "  \"/>\n",
       "<polyline clip-path=\"url(#clip7402)\" style=\"stroke:#000000; stroke-width:2; stroke-opacity:0.1; fill:none\" points=\"\n",
       "  1996.59,1425.62 1996.59,47.2441 \n",
       "  \"/>\n",
       "<polyline clip-path=\"url(#clip7402)\" style=\"stroke:#000000; stroke-width:2; stroke-opacity:0.1; fill:none\" points=\"\n",
       "  2352.76,1425.62 2352.76,47.2441 \n",
       "  \"/>\n",
       "<polyline clip-path=\"url(#clip7402)\" style=\"stroke:#000000; stroke-width:2; stroke-opacity:0.1; fill:none\" points=\"\n",
       "  215.754,1161.4 2352.76,1161.4 \n",
       "  \"/>\n",
       "<polyline clip-path=\"url(#clip7402)\" style=\"stroke:#000000; stroke-width:2; stroke-opacity:0.1; fill:none\" points=\"\n",
       "  215.754,892.612 2352.76,892.612 \n",
       "  \"/>\n",
       "<polyline clip-path=\"url(#clip7402)\" style=\"stroke:#000000; stroke-width:2; stroke-opacity:0.1; fill:none\" points=\"\n",
       "  215.754,623.826 2352.76,623.826 \n",
       "  \"/>\n",
       "<polyline clip-path=\"url(#clip7402)\" style=\"stroke:#000000; stroke-width:2; stroke-opacity:0.1; fill:none\" points=\"\n",
       "  215.754,355.04 2352.76,355.04 \n",
       "  \"/>\n",
       "<polyline clip-path=\"url(#clip7402)\" style=\"stroke:#000000; stroke-width:2; stroke-opacity:0.1; fill:none\" points=\"\n",
       "  215.754,86.2547 2352.76,86.2547 \n",
       "  \"/>\n",
       "<polyline clip-path=\"url(#clip7400)\" style=\"stroke:#000000; stroke-width:4; stroke-opacity:1; fill:none\" points=\"\n",
       "  215.754,1425.62 2352.76,1425.62 \n",
       "  \"/>\n",
       "<polyline clip-path=\"url(#clip7400)\" style=\"stroke:#000000; stroke-width:4; stroke-opacity:1; fill:none\" points=\"\n",
       "  215.754,1425.62 215.754,47.2441 \n",
       "  \"/>\n",
       "<polyline clip-path=\"url(#clip7400)\" style=\"stroke:#000000; stroke-width:4; stroke-opacity:1; fill:none\" points=\"\n",
       "  215.754,1425.62 215.754,1404.94 \n",
       "  \"/>\n",
       "<polyline clip-path=\"url(#clip7400)\" style=\"stroke:#000000; stroke-width:4; stroke-opacity:1; fill:none\" points=\"\n",
       "  571.921,1425.62 571.921,1404.94 \n",
       "  \"/>\n",
       "<polyline clip-path=\"url(#clip7400)\" style=\"stroke:#000000; stroke-width:4; stroke-opacity:1; fill:none\" points=\"\n",
       "  928.088,1425.62 928.088,1404.94 \n",
       "  \"/>\n",
       "<polyline clip-path=\"url(#clip7400)\" style=\"stroke:#000000; stroke-width:4; stroke-opacity:1; fill:none\" points=\"\n",
       "  1284.25,1425.62 1284.25,1404.94 \n",
       "  \"/>\n",
       "<polyline clip-path=\"url(#clip7400)\" style=\"stroke:#000000; stroke-width:4; stroke-opacity:1; fill:none\" points=\"\n",
       "  1640.42,1425.62 1640.42,1404.94 \n",
       "  \"/>\n",
       "<polyline clip-path=\"url(#clip7400)\" style=\"stroke:#000000; stroke-width:4; stroke-opacity:1; fill:none\" points=\"\n",
       "  1996.59,1425.62 1996.59,1404.94 \n",
       "  \"/>\n",
       "<polyline clip-path=\"url(#clip7400)\" style=\"stroke:#000000; stroke-width:4; stroke-opacity:1; fill:none\" points=\"\n",
       "  2352.76,1425.62 2352.76,1404.94 \n",
       "  \"/>\n",
       "<polyline clip-path=\"url(#clip7400)\" style=\"stroke:#000000; stroke-width:4; stroke-opacity:1; fill:none\" points=\"\n",
       "  215.754,1161.4 247.809,1161.4 \n",
       "  \"/>\n",
       "<polyline clip-path=\"url(#clip7400)\" style=\"stroke:#000000; stroke-width:4; stroke-opacity:1; fill:none\" points=\"\n",
       "  215.754,892.612 247.809,892.612 \n",
       "  \"/>\n",
       "<polyline clip-path=\"url(#clip7400)\" style=\"stroke:#000000; stroke-width:4; stroke-opacity:1; fill:none\" points=\"\n",
       "  215.754,623.826 247.809,623.826 \n",
       "  \"/>\n",
       "<polyline clip-path=\"url(#clip7400)\" style=\"stroke:#000000; stroke-width:4; stroke-opacity:1; fill:none\" points=\"\n",
       "  215.754,355.04 247.809,355.04 \n",
       "  \"/>\n",
       "<polyline clip-path=\"url(#clip7400)\" style=\"stroke:#000000; stroke-width:4; stroke-opacity:1; fill:none\" points=\"\n",
       "  215.754,86.2547 247.809,86.2547 \n",
       "  \"/>\n",
       "<g clip-path=\"url(#clip7400)\">\n",
       "<text style=\"fill:#000000; fill-opacity:1; font-family:Arial,Helvetica Neue,Helvetica,sans-serif; font-size:48px; text-anchor:middle;\" transform=\"rotate(0, 215.754, 1479.62)\" x=\"215.754\" y=\"1479.62\">0</text>\n",
       "</g>\n",
       "<g clip-path=\"url(#clip7400)\">\n",
       "<text style=\"fill:#000000; fill-opacity:1; font-family:Arial,Helvetica Neue,Helvetica,sans-serif; font-size:48px; text-anchor:start;\" transform=\"rotate(0, 486.779, 1500.63)\" x=\"486.779\" y=\"1500.63\">3.0×10</text>\n",
       "</g>\n",
       "<g clip-path=\"url(#clip7400)\">\n",
       "<text style=\"fill:#000000; fill-opacity:1; font-family:Arial,Helvetica Neue,Helvetica,sans-serif; font-size:38px; text-anchor:start;\" transform=\"rotate(0, 635.319, 1473.22)\" x=\"635.319\" y=\"1473.22\">3</text>\n",
       "</g>\n",
       "<g clip-path=\"url(#clip7400)\">\n",
       "<text style=\"fill:#000000; fill-opacity:1; font-family:Arial,Helvetica Neue,Helvetica,sans-serif; font-size:48px; text-anchor:start;\" transform=\"rotate(0, 842.946, 1500.63)\" x=\"842.946\" y=\"1500.63\">6.0×10</text>\n",
       "</g>\n",
       "<g clip-path=\"url(#clip7400)\">\n",
       "<text style=\"fill:#000000; fill-opacity:1; font-family:Arial,Helvetica Neue,Helvetica,sans-serif; font-size:38px; text-anchor:start;\" transform=\"rotate(0, 991.486, 1473.22)\" x=\"991.486\" y=\"1473.22\">3</text>\n",
       "</g>\n",
       "<g clip-path=\"url(#clip7400)\">\n",
       "<text style=\"fill:#000000; fill-opacity:1; font-family:Arial,Helvetica Neue,Helvetica,sans-serif; font-size:48px; text-anchor:start;\" transform=\"rotate(0, 1199.11, 1500.63)\" x=\"1199.11\" y=\"1500.63\">9.0×10</text>\n",
       "</g>\n",
       "<g clip-path=\"url(#clip7400)\">\n",
       "<text style=\"fill:#000000; fill-opacity:1; font-family:Arial,Helvetica Neue,Helvetica,sans-serif; font-size:38px; text-anchor:start;\" transform=\"rotate(0, 1347.65, 1473.22)\" x=\"1347.65\" y=\"1473.22\">3</text>\n",
       "</g>\n",
       "<g clip-path=\"url(#clip7400)\">\n",
       "<text style=\"fill:#000000; fill-opacity:1; font-family:Arial,Helvetica Neue,Helvetica,sans-serif; font-size:48px; text-anchor:start;\" transform=\"rotate(0, 1555.28, 1500.63)\" x=\"1555.28\" y=\"1500.63\">1.2×10</text>\n",
       "</g>\n",
       "<g clip-path=\"url(#clip7400)\">\n",
       "<text style=\"fill:#000000; fill-opacity:1; font-family:Arial,Helvetica Neue,Helvetica,sans-serif; font-size:38px; text-anchor:start;\" transform=\"rotate(0, 1703.82, 1473.22)\" x=\"1703.82\" y=\"1473.22\">4</text>\n",
       "</g>\n",
       "<g clip-path=\"url(#clip7400)\">\n",
       "<text style=\"fill:#000000; fill-opacity:1; font-family:Arial,Helvetica Neue,Helvetica,sans-serif; font-size:48px; text-anchor:start;\" transform=\"rotate(0, 1911.45, 1500.63)\" x=\"1911.45\" y=\"1500.63\">1.5×10</text>\n",
       "</g>\n",
       "<g clip-path=\"url(#clip7400)\">\n",
       "<text style=\"fill:#000000; fill-opacity:1; font-family:Arial,Helvetica Neue,Helvetica,sans-serif; font-size:38px; text-anchor:start;\" transform=\"rotate(0, 2059.99, 1473.22)\" x=\"2059.99\" y=\"1473.22\">4</text>\n",
       "</g>\n",
       "<g clip-path=\"url(#clip7400)\">\n",
       "<text style=\"fill:#000000; fill-opacity:1; font-family:Arial,Helvetica Neue,Helvetica,sans-serif; font-size:48px; text-anchor:start;\" transform=\"rotate(0, 2267.61, 1500.63)\" x=\"2267.61\" y=\"1500.63\">1.8×10</text>\n",
       "</g>\n",
       "<g clip-path=\"url(#clip7400)\">\n",
       "<text style=\"fill:#000000; fill-opacity:1; font-family:Arial,Helvetica Neue,Helvetica,sans-serif; font-size:38px; text-anchor:start;\" transform=\"rotate(0, 2416.15, 1473.22)\" x=\"2416.15\" y=\"1473.22\">4</text>\n",
       "</g>\n",
       "<g clip-path=\"url(#clip7400)\">\n",
       "<text style=\"fill:#000000; fill-opacity:1; font-family:Arial,Helvetica Neue,Helvetica,sans-serif; font-size:48px; text-anchor:end;\" transform=\"rotate(0, 191.754, 1178.9)\" x=\"191.754\" y=\"1178.9\">0.2</text>\n",
       "</g>\n",
       "<g clip-path=\"url(#clip7400)\">\n",
       "<text style=\"fill:#000000; fill-opacity:1; font-family:Arial,Helvetica Neue,Helvetica,sans-serif; font-size:48px; text-anchor:end;\" transform=\"rotate(0, 191.754, 910.112)\" x=\"191.754\" y=\"910.112\">0.4</text>\n",
       "</g>\n",
       "<g clip-path=\"url(#clip7400)\">\n",
       "<text style=\"fill:#000000; fill-opacity:1; font-family:Arial,Helvetica Neue,Helvetica,sans-serif; font-size:48px; text-anchor:end;\" transform=\"rotate(0, 191.754, 641.326)\" x=\"191.754\" y=\"641.326\">0.6</text>\n",
       "</g>\n",
       "<g clip-path=\"url(#clip7400)\">\n",
       "<text style=\"fill:#000000; fill-opacity:1; font-family:Arial,Helvetica Neue,Helvetica,sans-serif; font-size:48px; text-anchor:end;\" transform=\"rotate(0, 191.754, 372.54)\" x=\"191.754\" y=\"372.54\">0.8</text>\n",
       "</g>\n",
       "<g clip-path=\"url(#clip7400)\">\n",
       "<text style=\"fill:#000000; fill-opacity:1; font-family:Arial,Helvetica Neue,Helvetica,sans-serif; font-size:48px; text-anchor:end;\" transform=\"rotate(0, 191.754, 103.755)\" x=\"191.754\" y=\"103.755\">1.0</text>\n",
       "</g>\n",
       "<g clip-path=\"url(#clip7400)\">\n",
       "<text style=\"fill:#000000; fill-opacity:1; font-family:Arial,Helvetica Neue,Helvetica,sans-serif; font-size:66px; text-anchor:middle;\" transform=\"rotate(0, 1284.25, 1559.48)\" x=\"1284.25\" y=\"1559.48\">t</text>\n",
       "</g>\n",
       "<g clip-path=\"url(#clip7400)\">\n",
       "<text style=\"fill:#000000; fill-opacity:1; font-family:Arial,Helvetica Neue,Helvetica,sans-serif; font-size:66px; text-anchor:middle;\" transform=\"rotate(-90, 89.2861, 736.431)\" x=\"89.2861\" y=\"736.431\">TGFb</text>\n",
       "</g>\n",
       "<polyline clip-path=\"url(#clip7402)\" style=\"stroke:#009af9; stroke-width:12; stroke-opacity:1; fill:none\" points=\"\n",
       "  215.754,86.2547 368.397,1349.98 521.04,1348.3 673.683,1343.12 826.326,1340.95 978.969,1340.31 1131.61,1330.75 1284.25,1325.99 1436.9,1326.12 1589.54,1344.4 \n",
       "  1742.18,1346.66 1894.83,1343.86 2047.47,1341.62 2200.11,1340.66 2352.76,1340.42 \n",
       "  \"/>\n",
       "<circle clip-path=\"url(#clip7402)\" style=\"fill:#000000; stroke:none; fill-opacity:1\" cx=\"215.754\" cy=\"250.793\" r=\"18\"/>\n",
       "<circle clip-path=\"url(#clip7402)\" style=\"fill:#e26f46; stroke:none; fill-opacity:1\" cx=\"215.754\" cy=\"250.793\" r=\"14\"/>\n",
       "<circle clip-path=\"url(#clip7402)\" style=\"fill:#000000; stroke:none; fill-opacity:1\" cx=\"368.397\" cy=\"1354.91\" r=\"18\"/>\n",
       "<circle clip-path=\"url(#clip7402)\" style=\"fill:#e26f46; stroke:none; fill-opacity:1\" cx=\"368.397\" cy=\"1354.91\" r=\"14\"/>\n",
       "<circle clip-path=\"url(#clip7402)\" style=\"fill:#000000; stroke:none; fill-opacity:1\" cx=\"521.04\" cy=\"1386.61\" r=\"18\"/>\n",
       "<circle clip-path=\"url(#clip7402)\" style=\"fill:#e26f46; stroke:none; fill-opacity:1\" cx=\"521.04\" cy=\"1386.61\" r=\"14\"/>\n",
       "<circle clip-path=\"url(#clip7402)\" style=\"fill:#000000; stroke:none; fill-opacity:1\" cx=\"673.683\" cy=\"1339.95\" r=\"18\"/>\n",
       "<circle clip-path=\"url(#clip7402)\" style=\"fill:#e26f46; stroke:none; fill-opacity:1\" cx=\"673.683\" cy=\"1339.95\" r=\"14\"/>\n",
       "<circle clip-path=\"url(#clip7402)\" style=\"fill:#000000; stroke:none; fill-opacity:1\" cx=\"826.326\" cy=\"1320.94\" r=\"18\"/>\n",
       "<circle clip-path=\"url(#clip7402)\" style=\"fill:#e26f46; stroke:none; fill-opacity:1\" cx=\"826.326\" cy=\"1320.94\" r=\"14\"/>\n",
       "<circle clip-path=\"url(#clip7402)\" style=\"fill:#000000; stroke:none; fill-opacity:1\" cx=\"978.969\" cy=\"1329.92\" r=\"18\"/>\n",
       "<circle clip-path=\"url(#clip7402)\" style=\"fill:#e26f46; stroke:none; fill-opacity:1\" cx=\"978.969\" cy=\"1329.92\" r=\"14\"/>\n",
       "<circle clip-path=\"url(#clip7402)\" style=\"fill:#000000; stroke:none; fill-opacity:1\" cx=\"1131.61\" cy=\"1303.32\" r=\"18\"/>\n",
       "<circle clip-path=\"url(#clip7402)\" style=\"fill:#e26f46; stroke:none; fill-opacity:1\" cx=\"1131.61\" cy=\"1303.32\" r=\"14\"/>\n",
       "<circle clip-path=\"url(#clip7402)\" style=\"fill:#000000; stroke:none; fill-opacity:1\" cx=\"1284.25\" cy=\"1349.16\" r=\"18\"/>\n",
       "<circle clip-path=\"url(#clip7402)\" style=\"fill:#e26f46; stroke:none; fill-opacity:1\" cx=\"1284.25\" cy=\"1349.16\" r=\"14\"/>\n",
       "<circle clip-path=\"url(#clip7402)\" style=\"fill:#000000; stroke:none; fill-opacity:1\" cx=\"1436.9\" cy=\"1346.89\" r=\"18\"/>\n",
       "<circle clip-path=\"url(#clip7402)\" style=\"fill:#e26f46; stroke:none; fill-opacity:1\" cx=\"1436.9\" cy=\"1346.89\" r=\"14\"/>\n",
       "<circle clip-path=\"url(#clip7402)\" style=\"fill:#000000; stroke:none; fill-opacity:1\" cx=\"1589.54\" cy=\"1337.94\" r=\"18\"/>\n",
       "<circle clip-path=\"url(#clip7402)\" style=\"fill:#e26f46; stroke:none; fill-opacity:1\" cx=\"1589.54\" cy=\"1337.94\" r=\"14\"/>\n",
       "<circle clip-path=\"url(#clip7402)\" style=\"fill:#000000; stroke:none; fill-opacity:1\" cx=\"1742.18\" cy=\"1352.1\" r=\"18\"/>\n",
       "<circle clip-path=\"url(#clip7402)\" style=\"fill:#e26f46; stroke:none; fill-opacity:1\" cx=\"1742.18\" cy=\"1352.1\" r=\"14\"/>\n",
       "<circle clip-path=\"url(#clip7402)\" style=\"fill:#000000; stroke:none; fill-opacity:1\" cx=\"1894.83\" cy=\"1343.55\" r=\"18\"/>\n",
       "<circle clip-path=\"url(#clip7402)\" style=\"fill:#e26f46; stroke:none; fill-opacity:1\" cx=\"1894.83\" cy=\"1343.55\" r=\"14\"/>\n",
       "<circle clip-path=\"url(#clip7402)\" style=\"fill:#000000; stroke:none; fill-opacity:1\" cx=\"2047.47\" cy=\"1367.6\" r=\"18\"/>\n",
       "<circle clip-path=\"url(#clip7402)\" style=\"fill:#e26f46; stroke:none; fill-opacity:1\" cx=\"2047.47\" cy=\"1367.6\" r=\"14\"/>\n",
       "<circle clip-path=\"url(#clip7402)\" style=\"fill:#000000; stroke:none; fill-opacity:1\" cx=\"2200.11\" cy=\"1345.44\" r=\"18\"/>\n",
       "<circle clip-path=\"url(#clip7402)\" style=\"fill:#e26f46; stroke:none; fill-opacity:1\" cx=\"2200.11\" cy=\"1345.44\" r=\"14\"/>\n",
       "<polygon clip-path=\"url(#clip7400)\" points=\"\n",
       "1472.2,312.204 2280.76,312.204 2280.76,130.764 1472.2,130.764 \n",
       "  \" fill=\"#ffffff\" fill-rule=\"evenodd\" fill-opacity=\"1\"/>\n",
       "<polyline clip-path=\"url(#clip7400)\" style=\"stroke:#000000; stroke-width:4; stroke-opacity:1; fill:none\" points=\"\n",
       "  1472.2,312.204 2280.76,312.204 2280.76,130.764 1472.2,130.764 1472.2,312.204 \n",
       "  \"/>\n",
       "<polyline clip-path=\"url(#clip7400)\" style=\"stroke:#009af9; stroke-width:12; stroke-opacity:1; fill:none\" points=\"\n",
       "  1496.2,191.244 1640.2,191.244 \n",
       "  \"/>\n",
       "<g clip-path=\"url(#clip7400)\">\n",
       "<text style=\"fill:#000000; fill-opacity:1; font-family:Arial,Helvetica Neue,Helvetica,sans-serif; font-size:48px; text-anchor:start;\" transform=\"rotate(0, 1664.2, 208.744)\" x=\"1664.2\" y=\"208.744\">TGFb(t)</text>\n",
       "</g>\n",
       "<circle clip-path=\"url(#clip7400)\" style=\"fill:#000000; stroke:none; fill-opacity:1\" cx=\"1580.2\" cy=\"251.724\" r=\"25\"/>\n",
       "<circle clip-path=\"url(#clip7400)\" style=\"fill:#e26f46; stroke:none; fill-opacity:1\" cx=\"1580.2\" cy=\"251.724\" r=\"21\"/>\n",
       "<g clip-path=\"url(#clip7400)\">\n",
       "<text style=\"fill:#000000; fill-opacity:1; font-family:Arial,Helvetica Neue,Helvetica,sans-serif; font-size:48px; text-anchor:start;\" transform=\"rotate(0, 1664.2, 269.224)\" x=\"1664.2\" y=\"269.224\">pseudo-experimental data</text>\n",
       "</g>\n",
       "</svg>\n"
      ]
     },
     "execution_count": 6,
     "metadata": {},
     "output_type": "execute_result"
    }
   ],
   "source": [
    "plot(sol, vars=(0,1), xlabel = \"t\", ylabel = \"TGFb\", label=\"TGFb(t)\");\n",
    "scatter!(dataset[!,:time],dataset[!,:TGFb], label = \"pseudo-experimental data\")"
   ]
  },
  {
   "cell_type": "markdown",
   "metadata": {},
   "source": [
    "To fit parameters to pseudo-experimental data we use the following likelihood function provided by the authors of \\[\\*\\] in [AMIGO2 package](https://github.com/csynbiosys/AMIGO2R2016b). According to AMIGO2 docs:\n",
    "\n",
    "*For the homoscedastic case, for which the variance is known or constant, the cost function results\n",
    "to be similar to the generalized least squares, with weights taken as the inverse of the variance of\n",
    "the experimental data*\n",
    "\n",
    "$$ \\Lambda = \\sum_{i=1}^n \\left(\\frac{y(t_i) - \\tilde y_i}{\\sigma_i}\\right)^2 $$\n",
    "\n",
    "Here \n",
    "$n$ - number of observations (experimental data time points),\n",
    "$\\tilde y_i$ - experimental data,\n",
    "$y(t_i)$ - numerical solution,\n",
    "$\\sigma_i $ - standard deviation of heteroscedastic noise"
   ]
  },
  {
   "cell_type": "code",
   "execution_count": 6,
   "metadata": {},
   "outputs": [],
   "source": [
    "# loss function \n",
    "# for 'hetero' case \n",
    "# https://github.com/csynbiosys/AMIGO2R2016b/blob/63b131e0274096f9aef6ca42d0332ff113d1828a/Kernel/AMIGO_PEcost.m#L322\n",
    "\n",
    "function loss_func(sol, data, sigma) # sum by components\n",
    "    loss = 0.0\n",
    "    for i in eachindex(sol.u[1]) #1:16\n",
    "        loss += loss_i(sol[i,:], data[!,i+1], sigma[!,i+1])\n",
    "    end\n",
    "    return loss\n",
    "end\n",
    "\n",
    "function loss_i(sol, data, sigma) # sum by data points\n",
    "    loss = 0.0  \n",
    "    for i in eachindex(sol)\n",
    "        loss += ((sol[i] - data[i])/sigma[i])^2\n",
    "    end\n",
    "    return loss \n",
    "end;"
   ]
  },
  {
   "cell_type": "markdown",
   "metadata": {},
   "source": [
    "Objective function is a wrapper for parameters updates during fitting `obj_func = (params)->loss`"
   ]
  },
  {
   "cell_type": "code",
   "execution_count": 7,
   "metadata": {},
   "outputs": [],
   "source": [
    "# obj function (params,prob)->loss\n",
    "function obj_func(params;\n",
    "                  prob=prob, \n",
    "                  solver_opts=solver_opts, \n",
    "                  time_points=time_points,\n",
    "                  loss=(sol)->loss_func(sol,dataset,sigmas)\n",
    ")\n",
    "    prob_p = remake(prob,p=params)\n",
    "    sol_p = solve(prob_p, \n",
    "                  solver_opts[:alg], \n",
    "                  reltol=solver_opts[:reltol], \n",
    "                  abstol=solver_opts[:abstol], \n",
    "                  saveat=time_points,\n",
    "                  save_idxs = 1:16)\n",
    "    loss(sol_p)\n",
    "end;"
   ]
  },
  {
   "cell_type": "markdown",
   "metadata": {},
   "source": [
    "Now we fit parameters to the dataset with *NLopt* package. See [NLopt documentation](https://nlopt.readthedocs.io/en/latest) for details"
   ]
  },
  {
   "cell_type": "code",
   "execution_count": null,
   "metadata": {},
   "outputs": [
    {
     "data": {
      "text/plain": [
       "(250.92869385593033, [0.00016134539126921329, 0.023992179254071128, 0.00910920512455982, 0.009410350583927153, 0.10047863759852893, 0.0004042730786639355, 0.004076198201046859, 0.008640513394286379, 0.0023874332982037937, 0.01835684462469936, 4.5522634341256785, 0.0072351308420322644, 0.002200597245980988, 1.7073702419808598, 0.0007837581118844848, 0.0013890369518288097, 0.0020578935641991087, 0.0006081666562122653], :XTOL_REACHED)"
      ]
     },
     "execution_count": 13,
     "metadata": {},
     "output_type": "execute_result"
    }
   ],
   "source": [
    "# fitting algorithm and search bounds\n",
    "\n",
    "fitter_opts = Dict(\n",
    "    :alg => :LN_SBPLX\n",
    ")\n",
    "\n",
    "# lower, upper bounds and start values formula:\n",
    "# https://github.com/gabora/visid/blob/master/case_studies/tgfb/TGFB_amigo.m\n",
    "lb = [1e-6, 0.0001, 1e-6, 0.0001, 1e-6, 1e-6, 1e-5, 1e-5, 1e-6, 1e-5, 0.1, 1e-5, 1e-5, 0.001, 1e-5, 1e-5, 1e-5, 1e-5]\n",
    "ub = [0.1, 1.0, 1.0, 1.0, 1.0, 1.0, 1.0, 1.0, 1.0, 1.0, 100., 1.0, 1.0, 100., 0.1, 0.1, 0.1, 0.1]\n",
    "\n",
    "# start values generated with exp.(log.(lb) + rand(length(p0)).*(log.(ub) - log.(lb)))\n",
    "p_start = [3.52E-05,\n",
    "           0.00131226,\n",
    "           0.00151732,\n",
    "           0.0395871,\n",
    "           1.63E-05,\n",
    "           0.000251247,\n",
    "           0.000112007,\n",
    "           0.00783227,\n",
    "           0.0424562,\n",
    "           0.000142716,\n",
    "           8.20992,\n",
    "           0.000270499,\n",
    "           0.0213893,\n",
    "           1.41254,\n",
    "           0.000121978,\n",
    "           0.00658392,\n",
    "           0.000205464,\n",
    "           0.0111338]\n",
    "\n",
    "opt = LikelihoodProfiler.NLopt.Opt(fitter_opts[:alg], length(p0))\n",
    "opt.min_objective = (p,grad) -> obj_func(p)\n",
    "opt.lower_bounds = lb\n",
    "opt.upper_bounds = ub\n",
    "opt.xtol_rel = 1e-3\n",
    "\n",
    "(loss,p,ret) = LikelihoodProfiler.NLopt.optimize(opt, p_start)"
   ]
  },
  {
   "cell_type": "markdown",
   "metadata": {},
   "source": [
    "Let's use *LikelihoodProfiler* package to determine identifiable parameters and compute confidence intrvals.\n",
    "We choose identification confidence level $ \\alpha = loss + 3.84$, where $loss $ is the minimum likelihood function value obtained during fitting and 3.84 is *Chi-square statistics* with 1 degree of freedom and P-value=0.05.\n",
    "Please, look up [LikelihoodProfiler documentation](https://insysbio.github.io/LikelihoodProfiler.jl/latest/) for details"
   ]
  },
  {
   "cell_type": "code",
   "execution_count": null,
   "metadata": {},
   "outputs": [
    {
     "name": "stderr",
     "output_type": "stream",
     "text": [
      "┌ Warning: Using local_alg = :LN_SBPLX may result in wrong output.\n",
      "└ @ LikelihoodProfiler D:\\INSYSBIO\\repos\\LikelihoodProfiler\\src\\cico_one_pass.jl:29\n",
      "┌ Warning: Using local_alg = :LN_SBPLX may result in wrong output.\n",
      "└ @ LikelihoodProfiler D:\\INSYSBIO\\repos\\LikelihoodProfiler\\src\\cico_one_pass.jl:29\n"
     ]
    },
    {
     "name": "stdout",
     "output_type": "stream",
     "text": [
      "ParamInterval(ParamIntervalInput([0.00016134539126921329, 0.023992179254071128, 0.00910920512455982, 0.009410350583927153, 0.10047863759852893, 0.0004042730786639355, 0.004076198201046859, 0.008640513394286379, 0.0023874332982037937, 0.01835684462469936, 4.5522634341256785, 0.0072351308420322644, 0.002200597245980988, 1.7073702419808598, 0.0007837581118844848, 0.0013890369518288097, 0.0020578935641991087, 0.0006081666562122653], 1, getfield(Main, Symbol(\"##32#33\"))(), 254.76869385593034, Symbol[:direct, :direct, :direct, :direct, :direct, :direct, :direct, :direct, :direct, :direct, :direct, :direct, :direct, :direct, :direct, :direct, :direct, :direct], Tuple{Float64,Float64}[(1.0e-7, 1.0), (1.0e-5, 10.0), (1.0e-7, 10.0), (1.0e-5, 10.0), (1.0e-7, 10.0), (1.0e-7, 10.0), (1.0000000000000002e-6, 10.0), (1.0000000000000002e-6, 10.0), (1.0e-7, 10.0), (1.0000000000000002e-6, 10.0), (0.01, 1000.0), (1.0000000000000002e-6, 10.0), (1.0000000000000002e-6, 10.0), (0.0001, 1000.0), (1.0000000000000002e-6, 1.0), (1.0000000000000002e-6, 1.0), (1.0000000000000002e-6, 1.0), (1.0000000000000002e-6, 1.0)], (1.0e-6, 0.1), 0.001, 0.001, :LN_SBPLX, Base.Iterators.Pairs{Union{},Union{},Tuple{},NamedTuple{(),Tuple{}}}()), 250.92869385593033, :CICO_ONE_PASS, (EndPoint(9.641146652277698e-5, ProfilePoint[ProfilePoint(9.641146652277698e-5, 254.75895304127664, [9.641146652277698e-5, 0.015266988772118815, 0.008832477436068794, 0.00940799799628117, 0.10051942574058427, 0.00040679307384080263, 0.004050302002417065, 0.008571568594661022, 0.0023849572687480395, 0.018273181154129563, 4.55358590329904, 0.007372767901409988, 0.002198360633421685, 1.7116100099432006, 0.0007893615231511903, 0.0013746398818635585, 0.0020680292929012942, 0.0006109794309846984], :FTOL_REACHED, nothing)], :BORDER_FOUND_BY_SCAN_TOL, :left, 736, 9.641146652277698e-5), EndPoint(0.0005085964412013095, ProfilePoint[ProfilePoint(0.0005085964412013095, 254.71636193453924, [0.0005085964412013095, 0.07227107273396635, 0.009388376352888986, 0.009650730936413825, 0.10044750477691944, 0.00040357766678745686, 0.0040369396576562435, 0.008538621363572954, 0.0023807356909812593, 0.01840430867555448, 4.547859097851799, 0.007113904864663203, 0.00220696412289115, 1.7185927832551888, 0.0007328138346119931, 0.0014100247882106438, 0.0020585533612532273, 0.0006047592071966835], :FTOL_REACHED, nothing)], :BORDER_FOUND_BY_SCAN_TOL, :right, 617, 0.0005085964412013095)))\n"
     ]
    },
    {
     "name": "stderr",
     "output_type": "stream",
     "text": [
      "┌ Warning: Using local_alg = :LN_SBPLX may result in wrong output.\n",
      "└ @ LikelihoodProfiler D:\\INSYSBIO\\repos\\LikelihoodProfiler\\src\\cico_one_pass.jl:29\n",
      "┌ Warning: Using local_alg = :LN_SBPLX may result in wrong output.\n",
      "└ @ LikelihoodProfiler D:\\INSYSBIO\\repos\\LikelihoodProfiler\\src\\cico_one_pass.jl:29\n"
     ]
    },
    {
     "name": "stdout",
     "output_type": "stream",
     "text": [
      "ParamInterval(ParamIntervalInput([0.00016134539126921329, 0.023992179254071128, 0.00910920512455982, 0.009410350583927153, 0.10047863759852893, 0.0004042730786639355, 0.004076198201046859, 0.008640513394286379, 0.0023874332982037937, 0.01835684462469936, 4.5522634341256785, 0.0072351308420322644, 0.002200597245980988, 1.7073702419808598, 0.0007837581118844848, 0.0013890369518288097, 0.0020578935641991087, 0.0006081666562122653], 2, getfield(Main, Symbol(\"##32#33\"))(), 254.76869385593034, Symbol[:direct, :direct, :direct, :direct, :direct, :direct, :direct, :direct, :direct, :direct, :direct, :direct, :direct, :direct, :direct, :direct, :direct, :direct], Tuple{Float64,Float64}[(1.0e-7, 1.0), (1.0e-5, 10.0), (1.0e-7, 10.0), (1.0e-5, 10.0), (1.0e-7, 10.0), (1.0e-7, 10.0), (1.0000000000000002e-6, 10.0), (1.0000000000000002e-6, 10.0), (1.0e-7, 10.0), (1.0000000000000002e-6, 10.0), (0.01, 1000.0), (1.0000000000000002e-6, 10.0), (1.0000000000000002e-6, 10.0), (0.0001, 1000.0), (1.0000000000000002e-6, 1.0), (1.0000000000000002e-6, 1.0), (1.0000000000000002e-6, 1.0), (1.0000000000000002e-6, 1.0)], (0.0001, 1.0), 0.001, 0.001, :LN_SBPLX, Base.Iterators.Pairs{Union{},Union{},Tuple{},NamedTuple{(),Tuple{}}}()), 250.92869385593033, :CICO_ONE_PASS, (EndPoint(0.014756339345591797, ProfilePoint[ProfilePoint(0.014756339345591797, 254.7425248258744, [0.00010182991065536495, 0.014756339345591797, 0.008966090972173182, 0.009456373079751673, 0.10035133961619153, 0.00040321214135246035, 0.004047754378541411, 0.008546187086565305, 0.002379895630378508, 0.0182720069614314, 4.5508559506528625, 0.00723422645067701, 0.0022003221713252407, 1.6965174567629597, 0.0008144348942324635, 0.0013735720516296016, 0.0020476684055519946, 0.0006166296797093157], :FTOL_REACHED, nothing)], :BORDER_FOUND_BY_SCAN_TOL, :left, 665, 0.014756339345591797), EndPoint(0.07541793729717061, ProfilePoint[ProfilePoint(0.07541793729717061, 254.64734072966166, [0.0004825802589294737, 0.07541793729717061, 0.009321189849284685, 0.009422113522157062, 0.10221606234075677, 0.0004028712992694715, 0.00404188489197164, 0.008577819044169634, 0.002379436329245943, 0.018328251688003658, 4.5576942103531515, 0.007151898575119042, 0.0021950756057965226, 1.7030731587332963, 0.0007733086415500093, 0.0014187924818910716, 0.0020515474294132714, 0.000598449808624184], :FTOL_REACHED, nothing)], :BORDER_FOUND_BY_SCAN_TOL, :right, 519, 0.07541793729717061)))\n"
     ]
    },
    {
     "name": "stderr",
     "output_type": "stream",
     "text": [
      "┌ Warning: Using local_alg = :LN_SBPLX may result in wrong output.\n",
      "└ @ LikelihoodProfiler D:\\INSYSBIO\\repos\\LikelihoodProfiler\\src\\cico_one_pass.jl:29\n",
      "┌ Warning: Using local_alg = :LN_SBPLX may result in wrong output.\n",
      "└ @ LikelihoodProfiler D:\\INSYSBIO\\repos\\LikelihoodProfiler\\src\\cico_one_pass.jl:29\n"
     ]
    },
    {
     "name": "stdout",
     "output_type": "stream",
     "text": [
      "ParamInterval(ParamIntervalInput([0.00016134539126921329, 0.023992179254071128, 0.00910920512455982, 0.009410350583927153, 0.10047863759852893, 0.0004042730786639355, 0.004076198201046859, 0.008640513394286379, 0.0023874332982037937, 0.01835684462469936, 4.5522634341256785, 0.0072351308420322644, 0.002200597245980988, 1.7073702419808598, 0.0007837581118844848, 0.0013890369518288097, 0.0020578935641991087, 0.0006081666562122653], 3, getfield(Main, Symbol(\"##32#33\"))(), 254.76869385593034, Symbol[:direct, :direct, :direct, :direct, :direct, :direct, :direct, :direct, :direct, :direct, :direct, :direct, :direct, :direct, :direct, :direct, :direct, :direct], Tuple{Float64,Float64}[(1.0e-7, 1.0), (1.0e-5, 10.0), (1.0e-7, 10.0), (1.0e-5, 10.0), (1.0e-7, 10.0), (1.0e-7, 10.0), (1.0000000000000002e-6, 10.0), (1.0000000000000002e-6, 10.0), (1.0e-7, 10.0), (1.0000000000000002e-6, 10.0), (0.01, 1000.0), (1.0000000000000002e-6, 10.0), (1.0000000000000002e-6, 10.0), (0.0001, 1000.0), (1.0000000000000002e-6, 1.0), (1.0000000000000002e-6, 1.0), (1.0000000000000002e-6, 1.0), (1.0000000000000002e-6, 1.0)], (1.0e-6, 1.0), 0.001, 0.001, :LN_SBPLX, Base.Iterators.Pairs{Union{},Union{},Tuple{},NamedTuple{(),Tuple{}}}()), 250.92869385593033, :CICO_ONE_PASS, (EndPoint(0.008679867362639405, ProfilePoint[ProfilePoint(0.008679867362639405, 254.6988729296347, [0.0001647106401625022, 0.024224154398298732, 0.008679867362639405, 0.009879691819300521, 0.1005761453120551, 0.00040564381707128045, 0.004055530602355613, 0.008593496850699498, 0.002381352804022431, 0.018342646752684946, 4.551127237772496, 0.007254886140698594, 0.0021996143376163584, 1.707555005618496, 0.0007177264909582166, 0.0014091939252932405, 0.0020660125974016133, 0.0006009740897707101], :FTOL_REACHED, nothing)], :BORDER_FOUND_BY_SCAN_TOL, :left, 733, 0.008679867362639405), EndPoint(0.009439144916504102, ProfilePoint[ProfilePoint(0.009439144916504102, 254.6176432140577, [0.00016494166175617426, 0.024888733979710517, 0.009439144916504102, 0.009866217655757266, 0.09988412976923206, 0.0004051973728684891, 0.004060238868490697, 0.008643660832415787, 0.0023787163292933776, 0.01837003463644814, 4.549084424323282, 0.00712091180797104, 0.002197184188454822, 1.7061837876598445, 0.0007176520833936412, 0.0014101015532991194, 0.0020676145080667733, 0.0006016456963958512], :FTOL_REACHED, nothing)], :BORDER_FOUND_BY_SCAN_TOL, :right, 804, 0.009439144916504102)))\n"
     ]
    },
    {
     "name": "stderr",
     "output_type": "stream",
     "text": [
      "┌ Warning: Using local_alg = :LN_SBPLX may result in wrong output.\n",
      "└ @ LikelihoodProfiler D:\\INSYSBIO\\repos\\LikelihoodProfiler\\src\\cico_one_pass.jl:29\n",
      "┌ Warning: Using local_alg = :LN_SBPLX may result in wrong output.\n",
      "└ @ LikelihoodProfiler D:\\INSYSBIO\\repos\\LikelihoodProfiler\\src\\cico_one_pass.jl:29\n"
     ]
    },
    {
     "name": "stdout",
     "output_type": "stream",
     "text": [
      "ParamInterval(ParamIntervalInput([0.00016134539126921329, 0.023992179254071128, 0.00910920512455982, 0.009410350583927153, 0.10047863759852893, 0.0004042730786639355, 0.004076198201046859, 0.008640513394286379, 0.0023874332982037937, 0.01835684462469936, 4.5522634341256785, 0.0072351308420322644, 0.002200597245980988, 1.7073702419808598, 0.0007837581118844848, 0.0013890369518288097, 0.0020578935641991087, 0.0006081666562122653], 4, getfield(Main, Symbol(\"##32#33\"))(), 254.76869385593034, Symbol[:direct, :direct, :direct, :direct, :direct, :direct, :direct, :direct, :direct, :direct, :direct, :direct, :direct, :direct, :direct, :direct, :direct, :direct], Tuple{Float64,Float64}[(1.0e-7, 1.0), (1.0e-5, 10.0), (1.0e-7, 10.0), (1.0e-5, 10.0), (1.0e-7, 10.0), (1.0e-7, 10.0), (1.0000000000000002e-6, 10.0), (1.0000000000000002e-6, 10.0), (1.0e-7, 10.0), (1.0000000000000002e-6, 10.0), (0.01, 1000.0), (1.0000000000000002e-6, 10.0), (1.0000000000000002e-6, 10.0), (0.0001, 1000.0), (1.0000000000000002e-6, 1.0), (1.0000000000000002e-6, 1.0), (1.0000000000000002e-6, 1.0), (1.0000000000000002e-6, 1.0)], (0.0001, 1.0), 0.001, 0.001, :LN_SBPLX, Base.Iterators.Pairs{Union{},Union{},Tuple{},NamedTuple{(),Tuple{}}}()), 250.92869385593033, :CICO_ONE_PASS, (EndPoint(0.008934238778922542, ProfilePoint[ProfilePoint(0.008934238778922542, 254.15755043077837, [0.00016501464548484125, 0.024558331543798016, 0.008977917017651618, 0.008934238778922542, 0.09972536702049364, 0.00040596857380447755, 0.004053473773761466, 0.008526453468276709, 0.0023771528559848746, 0.018306017410267425, 4.5555832660018645, 0.007317723041789934, 0.002190929263159523, 1.6589947974380794, 0.0007587722208221443, 0.0014095475669388853, 0.002071938497097965, 0.0005982697613723103], :FTOL_REACHED, nothing)], :BORDER_FOUND_BY_SCAN_TOL, :left, 943, 0.008934238778922542), EndPoint(0.009964758238202455, ProfilePoint[ProfilePoint(0.009964758238202455, 254.71993583145542, [0.0001647106401625022, 0.024385893291564927, 0.008796930186383502, 0.009964758238202455, 0.1005761453120551, 0.00040564381707128045, 0.004063173473982577, 0.008571895567213784, 0.0023906041080529704, 0.01850556374872915, 4.551127237772496, 0.0072111644711180325, 0.0021996143376163584, 1.707555005618496, 0.0007173346119022744, 0.0014100620733881334, 0.0020660125974016133, 0.0006009740897707101], :FTOL_REACHED, nothing)], :BORDER_FOUND_BY_SCAN_TOL, :right, 693, 0.009964758238202455)))\n"
     ]
    },
    {
     "name": "stderr",
     "output_type": "stream",
     "text": [
      "┌ Warning: Using local_alg = :LN_SBPLX may result in wrong output.\n",
      "└ @ LikelihoodProfiler D:\\INSYSBIO\\repos\\LikelihoodProfiler\\src\\cico_one_pass.jl:29\n",
      "┌ Warning: Using local_alg = :LN_SBPLX may result in wrong output.\n",
      "└ @ LikelihoodProfiler D:\\INSYSBIO\\repos\\LikelihoodProfiler\\src\\cico_one_pass.jl:29\n"
     ]
    },
    {
     "name": "stdout",
     "output_type": "stream",
     "text": [
      "ParamInterval(ParamIntervalInput([0.00016134539126921329, 0.023992179254071128, 0.00910920512455982, 0.009410350583927153, 0.10047863759852893, 0.0004042730786639355, 0.004076198201046859, 0.008640513394286379, 0.0023874332982037937, 0.01835684462469936, 4.5522634341256785, 0.0072351308420322644, 0.002200597245980988, 1.7073702419808598, 0.0007837581118844848, 0.0013890369518288097, 0.0020578935641991087, 0.0006081666562122653], 5, getfield(Main, Symbol(\"##32#33\"))(), 254.76869385593034, Symbol[:direct, :direct, :direct, :direct, :direct, :direct, :direct, :direct, :direct, :direct, :direct, :direct, :direct, :direct, :direct, :direct, :direct, :direct], Tuple{Float64,Float64}[(1.0e-7, 1.0), (1.0e-5, 10.0), (1.0e-7, 10.0), (1.0e-5, 10.0), (1.0e-7, 10.0), (1.0e-7, 10.0), (1.0000000000000002e-6, 10.0), (1.0000000000000002e-6, 10.0), (1.0e-7, 10.0), (1.0000000000000002e-6, 10.0), (0.01, 1000.0), (1.0000000000000002e-6, 10.0), (1.0000000000000002e-6, 10.0), (0.0001, 1000.0), (1.0000000000000002e-6, 1.0), (1.0000000000000002e-6, 1.0), (1.0000000000000002e-6, 1.0), (1.0000000000000002e-6, 1.0)], (1.0e-6, 1.0), 0.001, 0.001, :LN_SBPLX, Base.Iterators.Pairs{Union{},Union{},Tuple{},NamedTuple{(),Tuple{}}}()), 250.92869385593033, :CICO_ONE_PASS, (EndPoint(0.09320713239739395, ProfilePoint[ProfilePoint(0.09320713239739395, 254.70224656908948, [0.000160959359815493, 0.023951821315823928, 0.009245131544777862, 0.009332421118154004, 0.09320713239739395, 0.00040326121282651127, 0.004052075387474257, 0.008567018402426775, 0.0023952379202406464, 0.01844295955865043, 4.552630188624468, 0.007271306496242426, 0.0021799666467999155, 1.7116461220329755, 0.0007573062756083835, 0.0013921466920313093, 0.002088761967662095, 0.0006164323443409677], :FTOL_REACHED, nothing)], :BORDER_FOUND_BY_SCAN_TOL, :left, 550, 0.09320713239739395), EndPoint(0.10781306752612736, ProfilePoint[ProfilePoint(0.10781306752612736, 254.51772263619134, [0.00016045515546777672, 0.024094187018160393, 0.008985021039072656, 0.009422113522157062, 0.10781306752612736, 0.0004079738157451134, 0.003996584954932663, 0.00845352728411315, 0.002395115517654557, 0.018300689531157495, 4.557673891681999, 0.007284307121974202, 0.0021978158590886276, 1.7030651801850694, 0.0007847378095243404, 0.001390682367603146, 0.002067503515163273, 0.0005992183584207513], :FTOL_REACHED, nothing)], :BORDER_FOUND_BY_SCAN_TOL, :right, 503, 0.10781306752612736)))\n"
     ]
    },
    {
     "name": "stderr",
     "output_type": "stream",
     "text": [
      "┌ Warning: Using local_alg = :LN_SBPLX may result in wrong output.\n",
      "└ @ LikelihoodProfiler D:\\INSYSBIO\\repos\\LikelihoodProfiler\\src\\cico_one_pass.jl:29\n",
      "┌ Warning: Using local_alg = :LN_SBPLX may result in wrong output.\n",
      "└ @ LikelihoodProfiler D:\\INSYSBIO\\repos\\LikelihoodProfiler\\src\\cico_one_pass.jl:29\n"
     ]
    },
    {
     "name": "stdout",
     "output_type": "stream",
     "text": [
      "ParamInterval(ParamIntervalInput([0.00016134539126921329, 0.023992179254071128, 0.00910920512455982, 0.009410350583927153, 0.10047863759852893, 0.0004042730786639355, 0.004076198201046859, 0.008640513394286379, 0.0023874332982037937, 0.01835684462469936, 4.5522634341256785, 0.0072351308420322644, 0.002200597245980988, 1.7073702419808598, 0.0007837581118844848, 0.0013890369518288097, 0.0020578935641991087, 0.0006081666562122653], 6, getfield(Main, Symbol(\"##32#33\"))(), 254.76869385593034, Symbol[:direct, :direct, :direct, :direct, :direct, :direct, :direct, :direct, :direct, :direct, :direct, :direct, :direct, :direct, :direct, :direct, :direct, :direct], Tuple{Float64,Float64}[(1.0e-7, 1.0), (1.0e-5, 10.0), (1.0e-7, 10.0), (1.0e-5, 10.0), (1.0e-7, 10.0), (1.0e-7, 10.0), (1.0000000000000002e-6, 10.0), (1.0000000000000002e-6, 10.0), (1.0e-7, 10.0), (1.0000000000000002e-6, 10.0), (0.01, 1000.0), (1.0000000000000002e-6, 10.0), (1.0000000000000002e-6, 10.0), (0.0001, 1000.0), (1.0000000000000002e-6, 1.0), (1.0000000000000002e-6, 1.0), (1.0000000000000002e-6, 1.0), (1.0000000000000002e-6, 1.0)], (1.0e-6, 1.0), 0.001, 0.001, :LN_SBPLX, Base.Iterators.Pairs{Union{},Union{},Tuple{},NamedTuple{(),Tuple{}}}()), 250.92869385593033, :CICO_ONE_PASS, (EndPoint(0.00039522431014540286, ProfilePoint[ProfilePoint(0.00039522431014540286, 254.21258577545376, [0.00016327869981498793, 0.024534229124230242, 0.009026652953118497, 0.009422113522157062, 0.10031238888835896, 0.00039522431014540286, 0.004057568701456137, 0.008543813898682353, 0.0023831433789960835, 0.018271513979764235, 4.541062467836109, 0.007257740625913615, 0.002201958348418821, 1.7030728330782667, 0.0007847378095243404, 0.001413361036148727, 0.0020101038093586258, 0.0006001378606184183], :FTOL_REACHED, nothing)], :BORDER_FOUND_BY_SCAN_TOL, :left, 477, 0.00039522431014540286), EndPoint(0.00042105214622115334, ProfilePoint[ProfilePoint(0.00042105214622115334, 254.76396174752404, [0.00016474115113078604, 0.024549301176234453, 0.009223796451317866, 0.009425069345633471, 0.10024926751721713, 0.00042105214622115334, 0.004112554719764688, 0.008541099883714338, 0.0023779170405536674, 0.018265748031746618, 4.5396325862382465, 0.00730354864044882, 0.0021936990517014607, 1.702536542214376, 0.0007849839906422779, 0.0014107610463348506, 0.002054654569427731, 0.0005946253751386305], :FTOL_REACHED, nothing)], :BORDER_FOUND_BY_SCAN_TOL, :right, 647, 0.00042105214622115334)))\n"
     ]
    },
    {
     "name": "stderr",
     "output_type": "stream",
     "text": [
      "┌ Warning: Using local_alg = :LN_SBPLX may result in wrong output.\n",
      "└ @ LikelihoodProfiler D:\\INSYSBIO\\repos\\LikelihoodProfiler\\src\\cico_one_pass.jl:29\n",
      "┌ Warning: Using local_alg = :LN_SBPLX may result in wrong output.\n",
      "└ @ LikelihoodProfiler D:\\INSYSBIO\\repos\\LikelihoodProfiler\\src\\cico_one_pass.jl:29\n"
     ]
    },
    {
     "name": "stdout",
     "output_type": "stream",
     "text": [
      "ParamInterval(ParamIntervalInput([0.00016134539126921329, 0.023992179254071128, 0.00910920512455982, 0.009410350583927153, 0.10047863759852893, 0.0004042730786639355, 0.004076198201046859, 0.008640513394286379, 0.0023874332982037937, 0.01835684462469936, 4.5522634341256785, 0.0072351308420322644, 0.002200597245980988, 1.7073702419808598, 0.0007837581118844848, 0.0013890369518288097, 0.0020578935641991087, 0.0006081666562122653], 7, getfield(Main, Symbol(\"##32#33\"))(), 254.76869385593034, Symbol[:direct, :direct, :direct, :direct, :direct, :direct, :direct, :direct, :direct, :direct, :direct, :direct, :direct, :direct, :direct, :direct, :direct, :direct], Tuple{Float64,Float64}[(1.0e-7, 1.0), (1.0e-5, 10.0), (1.0e-7, 10.0), (1.0e-5, 10.0), (1.0e-7, 10.0), (1.0e-7, 10.0), (1.0000000000000002e-6, 10.0), (1.0000000000000002e-6, 10.0), (1.0e-7, 10.0), (1.0000000000000002e-6, 10.0), (0.01, 1000.0), (1.0000000000000002e-6, 10.0), (1.0000000000000002e-6, 10.0), (0.0001, 1000.0), (1.0000000000000002e-6, 1.0), (1.0000000000000002e-6, 1.0), (1.0000000000000002e-6, 1.0), (1.0000000000000002e-6, 1.0)], (1.0e-5, 1.0), 0.001, 0.001, :LN_SBPLX, Base.Iterators.Pairs{Union{},Union{},Tuple{},NamedTuple{(),Tuple{}}}()), 250.92869385593033, :CICO_ONE_PASS, (EndPoint(0.0036693608298766383, ProfilePoint[ProfilePoint(0.0036693608298766383, 254.19971428835325, [0.00016469047198859355, 0.024534229124230242, 0.009320273869338225, 0.009422113522157062, 0.10031238888835896, 0.00040524033358847327, 0.0036693608298766383, 0.007617215874160797, 0.0023824672504253034, 0.018271065814612263, 4.552443126421423, 0.007193020119553249, 0.0021998952885007137, 1.7030728330782667, 0.0007847378095243404, 0.0014098884437691549, 0.002069117524703066, 0.0005993776522981529], :FTOL_REACHED, nothing)], :BORDER_FOUND_BY_SCAN_TOL, :left, 522, 0.0036693608298766383), EndPoint(0.00450314002072981, ProfilePoint[ProfilePoint(0.00450314002072981, 254.74603050438242, [0.00016473080833641086, 0.02454022716904376, 0.008948067155539394, 0.009422701669068556, 0.10028726922895934, 0.000403587610760781, 0.00450314002072981, 0.009775883133102483, 0.0023932526668681655, 0.018382085286058322, 4.545614731270235, 0.007309437543480451, 0.0022003221713252407, 1.707801252925735, 0.0007849337490523115, 0.001410235703007112, 0.0020469024732427607, 0.0006009740897707101], :FTOL_REACHED, nothing)], :BORDER_FOUND_BY_SCAN_TOL, :right, 624, 0.00450314002072981)))\n"
     ]
    },
    {
     "name": "stderr",
     "output_type": "stream",
     "text": [
      "┌ Warning: Using local_alg = :LN_SBPLX may result in wrong output.\n",
      "└ @ LikelihoodProfiler D:\\INSYSBIO\\repos\\LikelihoodProfiler\\src\\cico_one_pass.jl:29\n",
      "┌ Warning: Using local_alg = :LN_SBPLX may result in wrong output.\n",
      "└ @ LikelihoodProfiler D:\\INSYSBIO\\repos\\LikelihoodProfiler\\src\\cico_one_pass.jl:29\n"
     ]
    },
    {
     "name": "stdout",
     "output_type": "stream",
     "text": [
      "ParamInterval(ParamIntervalInput([0.00016134539126921329, 0.023992179254071128, 0.00910920512455982, 0.009410350583927153, 0.10047863759852893, 0.0004042730786639355, 0.004076198201046859, 0.008640513394286379, 0.0023874332982037937, 0.01835684462469936, 4.5522634341256785, 0.0072351308420322644, 0.002200597245980988, 1.7073702419808598, 0.0007837581118844848, 0.0013890369518288097, 0.0020578935641991087, 0.0006081666562122653], 8, getfield(Main, Symbol(\"##32#33\"))(), 254.76869385593034, Symbol[:direct, :direct, :direct, :direct, :direct, :direct, :direct, :direct, :direct, :direct, :direct, :direct, :direct, :direct, :direct, :direct, :direct, :direct], Tuple{Float64,Float64}[(1.0e-7, 1.0), (1.0e-5, 10.0), (1.0e-7, 10.0), (1.0e-5, 10.0), (1.0e-7, 10.0), (1.0e-7, 10.0), (1.0000000000000002e-6, 10.0), (1.0000000000000002e-6, 10.0), (1.0e-7, 10.0), (1.0000000000000002e-6, 10.0), (0.01, 1000.0), (1.0000000000000002e-6, 10.0), (1.0000000000000002e-6, 10.0), (0.0001, 1000.0), (1.0000000000000002e-6, 1.0), (1.0000000000000002e-6, 1.0), (1.0000000000000002e-6, 1.0), (1.0000000000000002e-6, 1.0)], (1.0e-5, 1.0), 0.001, 0.001, :LN_SBPLX, Base.Iterators.Pairs{Union{},Union{},Tuple{},NamedTuple{(),Tuple{}}}()), 250.92869385593033, :CICO_ONE_PASS, (EndPoint(0.007534246748551927, ProfilePoint[ProfilePoint(0.007534246748551927, 254.4779424623313, [0.00016479131285813682, 0.024536538247012296, 0.009362577131356966, 0.009422113522157062, 0.10031238888835896, 0.00040573185700930976, 0.003692060746184017, 0.007534246748551927, 0.0023824672504253034, 0.018305484898283576, 4.552443126421423, 0.007106537696207081, 0.002200577098911475, 1.7030731587332963, 0.0007847378095243404, 0.0014098884437691549, 0.0020697656405960878, 0.0006001378606184183], :FTOL_REACHED, nothing)], :BORDER_FOUND_BY_SCAN_TOL, :left, 542, 0.007534246748551927), EndPoint(0.009757320449969987, ProfilePoint[ProfilePoint(0.009757320449969987, 254.56886334244044, [0.0001648921537276801, 0.024288449866051328, 0.009046712774950411, 0.009422113522157062, 0.10031238888835896, 0.0004036490511883855, 0.004466214164083031, 0.009757320449969987, 0.0023874332982037937, 0.018362581138644578, 4.546752797128766, 0.00728536695559364, 0.0022009909532977163, 1.7073327916524472, 0.0007857175071641961, 0.0014068499254370295, 0.002041308203134371, 0.000600517964778551], :FTOL_REACHED, nothing)], :BORDER_FOUND_BY_SCAN_TOL, :right, 522, 0.009757320449969987)))\n"
     ]
    },
    {
     "name": "stderr",
     "output_type": "stream",
     "text": [
      "┌ Warning: Using local_alg = :LN_SBPLX may result in wrong output.\n",
      "└ @ LikelihoodProfiler D:\\INSYSBIO\\repos\\LikelihoodProfiler\\src\\cico_one_pass.jl:29\n",
      "┌ Warning: Using local_alg = :LN_SBPLX may result in wrong output.\n",
      "└ @ LikelihoodProfiler D:\\INSYSBIO\\repos\\LikelihoodProfiler\\src\\cico_one_pass.jl:29\n"
     ]
    },
    {
     "name": "stdout",
     "output_type": "stream",
     "text": [
      "ParamInterval(ParamIntervalInput([0.00016134539126921329, 0.023992179254071128, 0.00910920512455982, 0.009410350583927153, 0.10047863759852893, 0.0004042730786639355, 0.004076198201046859, 0.008640513394286379, 0.0023874332982037937, 0.01835684462469936, 4.5522634341256785, 0.0072351308420322644, 0.002200597245980988, 1.7073702419808598, 0.0007837581118844848, 0.0013890369518288097, 0.0020578935641991087, 0.0006081666562122653], 9, getfield(Main, Symbol(\"##32#33\"))(), 254.76869385593034, Symbol[:direct, :direct, :direct, :direct, :direct, :direct, :direct, :direct, :direct, :direct, :direct, :direct, :direct, :direct, :direct, :direct, :direct, :direct], Tuple{Float64,Float64}[(1.0e-7, 1.0), (1.0e-5, 10.0), (1.0e-7, 10.0), (1.0e-5, 10.0), (1.0e-7, 10.0), (1.0e-7, 10.0), (1.0000000000000002e-6, 10.0), (1.0000000000000002e-6, 10.0), (1.0e-7, 10.0), (1.0000000000000002e-6, 10.0), (0.01, 1000.0), (1.0000000000000002e-6, 10.0), (1.0000000000000002e-6, 10.0), (0.0001, 1000.0), (1.0000000000000002e-6, 1.0), (1.0000000000000002e-6, 1.0), (1.0000000000000002e-6, 1.0), (1.0000000000000002e-6, 1.0)], (1.0e-6, 1.0), 0.001, 0.001, :LN_SBPLX, Base.Iterators.Pairs{Union{},Union{},Tuple{},NamedTuple{(),Tuple{}}}()), 250.92869385593033, :CICO_ONE_PASS, (EndPoint(0.002120180646517524, ProfilePoint[ProfilePoint(0.002120180646517524, 254.7457234723998, [0.00016531568537976176, 0.02454022716904376, 0.0091853543320841, 0.009423289815980052, 0.10028726922895934, 0.000402540705354192, 0.004059288347572205, 0.008559407325198604, 0.002120180646517524, 0.0162197046130634, 4.546752797128766, 0.00729363365782526, 0.0021892830882624583, 1.7073305771982454, 0.0007861093862201382, 0.001406591388560528, 0.00205202133275908, 0.0006009740897707101], :FTOL_REACHED, nothing)], :BORDER_FOUND_BY_SCAN_TOL, :left, 704, 0.002120180646517524), EndPoint(0.0026717301531414992, ProfilePoint[ProfilePoint(0.0026717301531414992, 254.76778460393936, [0.00016571930313670903, 0.02453726595807918, 0.00893312226637527, 0.00942330464660145, 0.10003575592824325, 0.00040590389903895536, 0.004052473453704829, 0.00856760254524752, 0.0026717301531414992, 0.02058751691215671, 4.545600382624054, 0.007205738122986508, 0.0022013714066667, 1.7068926866422975, 0.0007859159170825569, 0.001408503785034897, 0.0020531213938031496, 0.0005985404646810999], :FTOL_REACHED, nothing)], :BORDER_FOUND_BY_SCAN_TOL, :right, 738, 0.0026717301531414992)))\n"
     ]
    },
    {
     "name": "stderr",
     "output_type": "stream",
     "text": [
      "┌ Warning: Using local_alg = :LN_SBPLX may result in wrong output.\n",
      "└ @ LikelihoodProfiler D:\\INSYSBIO\\repos\\LikelihoodProfiler\\src\\cico_one_pass.jl:29\n",
      "┌ Warning: Using local_alg = :LN_SBPLX may result in wrong output.\n",
      "└ @ LikelihoodProfiler D:\\INSYSBIO\\repos\\LikelihoodProfiler\\src\\cico_one_pass.jl:29\n"
     ]
    },
    {
     "name": "stdout",
     "output_type": "stream",
     "text": [
      "ParamInterval(ParamIntervalInput([0.00016134539126921329, 0.023992179254071128, 0.00910920512455982, 0.009410350583927153, 0.10047863759852893, 0.0004042730786639355, 0.004076198201046859, 0.008640513394286379, 0.0023874332982037937, 0.01835684462469936, 4.5522634341256785, 0.0072351308420322644, 0.002200597245980988, 1.7073702419808598, 0.0007837581118844848, 0.0013890369518288097, 0.0020578935641991087, 0.0006081666562122653], 10, getfield(Main, Symbol(\"##32#33\"))(), 254.76869385593034, Symbol[:direct, :direct, :direct, :direct, :direct, :direct, :direct, :direct, :direct, :direct, :direct, :direct, :direct, :direct, :direct, :direct, :direct, :direct], Tuple{Float64,Float64}[(1.0e-7, 1.0), (1.0e-5, 10.0), (1.0e-7, 10.0), (1.0e-5, 10.0), (1.0e-7, 10.0), (1.0e-7, 10.0), (1.0000000000000002e-6, 10.0), (1.0000000000000002e-6, 10.0), (1.0e-7, 10.0), (1.0000000000000002e-6, 10.0), (0.01, 1000.0), (1.0000000000000002e-6, 10.0), (1.0000000000000002e-6, 10.0), (0.0001, 1000.0), (1.0000000000000002e-6, 1.0), (1.0000000000000002e-6, 1.0), (1.0000000000000002e-6, 1.0), (1.0000000000000002e-6, 1.0)], (1.0e-5, 1.0), 0.001, 0.001, :LN_SBPLX, Base.Iterators.Pairs{Union{},Union{},Tuple{},NamedTuple{(),Tuple{}}}()), 250.92869385593033, :CICO_ONE_PASS, (EndPoint(0.01625726540616954, ProfilePoint[ProfilePoint(0.01625726540616954, 254.59215071555434, [0.0001648287437637028, 0.024350710492661666, 0.00901417725820252, 0.009422113522157062, 0.10028907860744071, 0.00040217371690342944, 0.00405662305442692, 0.008569424249156087, 0.0021544049332093617, 0.01625726540616954, 4.540006377287913, 0.007319900293210169, 0.002199576202280203, 1.7077705072961222, 0.0007851014613850071, 0.0014087966396291584, 0.0020513469702342006, 0.0005978572356576221], :FTOL_REACHED, nothing)], :BORDER_FOUND_BY_SCAN_TOL, :left, 609, 0.01625726540616954), EndPoint(0.020736030093132084, ProfilePoint[ProfilePoint(0.020736030093132084, 254.64630632076467, [0.0001647573452180629, 0.024700450406238982, 0.009382975703076899, 0.009423088605066212, 0.10027074325512433, 0.0004068725939808462, 0.0040883063919116185, 0.008555509854246083, 0.0026150085894936347, 0.020736030093132084, 4.54486600907216, 0.007104755692484547, 0.0021950756057965226, 1.702365500701772, 0.0007860423533569024, 0.0014101763025858535, 0.002068151721192312, 0.0005962107848365159], :FTOL_REACHED, nothing)], :BORDER_FOUND_BY_SCAN_TOL, :right, 622, 0.020736030093132084)))\n"
     ]
    },
    {
     "name": "stderr",
     "output_type": "stream",
     "text": [
      "┌ Warning: Using local_alg = :LN_SBPLX may result in wrong output.\n",
      "└ @ LikelihoodProfiler D:\\INSYSBIO\\repos\\LikelihoodProfiler\\src\\cico_one_pass.jl:29\n",
      "┌ Warning: Using local_alg = :LN_SBPLX may result in wrong output.\n",
      "└ @ LikelihoodProfiler D:\\INSYSBIO\\repos\\LikelihoodProfiler\\src\\cico_one_pass.jl:29\n"
     ]
    },
    {
     "name": "stdout",
     "output_type": "stream",
     "text": [
      "ParamInterval(ParamIntervalInput([0.00016134539126921329, 0.023992179254071128, 0.00910920512455982, 0.009410350583927153, 0.10047863759852893, 0.0004042730786639355, 0.004076198201046859, 0.008640513394286379, 0.0023874332982037937, 0.01835684462469936, 4.5522634341256785, 0.0072351308420322644, 0.002200597245980988, 1.7073702419808598, 0.0007837581118844848, 0.0013890369518288097, 0.0020578935641991087, 0.0006081666562122653], 11, getfield(Main, Symbol(\"##32#33\"))(), 254.76869385593034, Symbol[:direct, :direct, :direct, :direct, :direct, :direct, :direct, :direct, :direct, :direct, :direct, :direct, :direct, :direct, :direct, :direct, :direct, :direct], Tuple{Float64,Float64}[(1.0e-7, 1.0), (1.0e-5, 10.0), (1.0e-7, 10.0), (1.0e-5, 10.0), (1.0e-7, 10.0), (1.0e-7, 10.0), (1.0000000000000002e-6, 10.0), (1.0000000000000002e-6, 10.0), (1.0e-7, 10.0), (1.0000000000000002e-6, 10.0), (0.01, 1000.0), (1.0000000000000002e-6, 10.0), (1.0000000000000002e-6, 10.0), (0.0001, 1000.0), (1.0000000000000002e-6, 1.0), (1.0000000000000002e-6, 1.0), (1.0000000000000002e-6, 1.0), (1.0000000000000002e-6, 1.0)], (0.1, 100.0), 0.001, 0.001, :LN_SBPLX, Base.Iterators.Pairs{Union{},Union{},Tuple{},NamedTuple{(),Tuple{}}}()), 250.92869385593033, :CICO_ONE_PASS, (EndPoint(4.350453755344142, ProfilePoint[ProfilePoint(4.350453755344142, 254.69052867981853, [0.0001609941964984399, 0.02389651894948698, 0.009270100289975668, 0.009334737625020188, 0.10004948759918582, 0.0004036015450998406, 0.004053390942925226, 0.008538653324664344, 0.002386434036959509, 0.01828155062366392, 4.350453755344142, 0.0072843183367549726, 0.002206998973246446, 1.684157143940241, 0.0008275291089982042, 0.00134864795081314, 0.0020010793274606088, 0.0006067856266796061], :FTOL_REACHED, nothing)], :BORDER_FOUND_BY_SCAN_TOL, :left, 815, 4.350453755344142), EndPoint(4.773454458537314, ProfilePoint[ProfilePoint(4.773454458537314, 254.24121769581518, [0.0001605710738710736, 0.02433187941854984, 0.008919688214908648, 0.0093682938282073, 0.10073966520871788, 0.0004052136784265698, 0.0040444778283211585, 0.008594478261350413, 0.0023848952121510282, 0.018382096344095464, 4.773454458537314, 0.007224734699839978, 0.0021994275158817257, 1.7268646228513789, 0.0007578693656860481, 0.0014196287206129812, 0.002093906701572593, 0.0006066564637869847], :FTOL_REACHED, nothing)], :BORDER_FOUND_BY_SCAN_TOL, :right, 579, 4.773454458537314)))\n"
     ]
    },
    {
     "name": "stderr",
     "output_type": "stream",
     "text": [
      "┌ Warning: Using local_alg = :LN_SBPLX may result in wrong output.\n",
      "└ @ LikelihoodProfiler D:\\INSYSBIO\\repos\\LikelihoodProfiler\\src\\cico_one_pass.jl:29\n",
      "┌ Warning: Using local_alg = :LN_SBPLX may result in wrong output.\n",
      "└ @ LikelihoodProfiler D:\\INSYSBIO\\repos\\LikelihoodProfiler\\src\\cico_one_pass.jl:29\n"
     ]
    },
    {
     "name": "stdout",
     "output_type": "stream",
     "text": [
      "ParamInterval(ParamIntervalInput([0.00016134539126921329, 0.023992179254071128, 0.00910920512455982, 0.009410350583927153, 0.10047863759852893, 0.0004042730786639355, 0.004076198201046859, 0.008640513394286379, 0.0023874332982037937, 0.01835684462469936, 4.5522634341256785, 0.0072351308420322644, 0.002200597245980988, 1.7073702419808598, 0.0007837581118844848, 0.0013890369518288097, 0.0020578935641991087, 0.0006081666562122653], 12, getfield(Main, Symbol(\"##32#33\"))(), 254.76869385593034, Symbol[:direct, :direct, :direct, :direct, :direct, :direct, :direct, :direct, :direct, :direct, :direct, :direct, :direct, :direct, :direct, :direct, :direct, :direct], Tuple{Float64,Float64}[(1.0e-7, 1.0), (1.0e-5, 10.0), (1.0e-7, 10.0), (1.0e-5, 10.0), (1.0e-7, 10.0), (1.0e-7, 10.0), (1.0000000000000002e-6, 10.0), (1.0000000000000002e-6, 10.0), (1.0e-7, 10.0), (1.0000000000000002e-6, 10.0), (0.01, 1000.0), (1.0000000000000002e-6, 10.0), (1.0000000000000002e-6, 10.0), (0.0001, 1000.0), (1.0000000000000002e-6, 1.0), (1.0000000000000002e-6, 1.0), (1.0000000000000002e-6, 1.0), (1.0000000000000002e-6, 1.0)], (1.0e-5, 1.0), 0.001, 0.001, :LN_SBPLX, Base.Iterators.Pairs{Union{},Union{},Tuple{},NamedTuple{(),Tuple{}}}()), 250.92869385593033, :CICO_ONE_PASS, (EndPoint(0.0069727698583200454, ProfilePoint[ProfilePoint(0.0069727698583200454, 254.62689594990184, [0.00016481148103204547, 0.024492242810535622, 0.009081966466267435, 0.009879691819300521, 0.1005761453120551, 0.00040559328293644743, 0.00407030682083441, 0.008616178198359498, 0.002381352804022431, 0.01850556374872915, 4.553581192279954, 0.0069727698583200454, 0.0021996143376163584, 1.7071114895204815, 0.0007747277495941103, 0.0014084994068173263, 0.002066527070792663, 0.0006009740897707101], :FTOL_REACHED, nothing)], :BORDER_FOUND_BY_SCAN_TOL, :left, 766, 0.0069727698583200454), EndPoint(0.0074162161765636316, ProfilePoint[ProfilePoint(0.0074162161765636316, 254.51980832440898, [0.00016480339026119216, 0.02451263441557197, 0.008794739145096694, 0.009874282238410106, 0.10063390589313018, 0.000407270898441472, 0.004060421446464911, 0.008692159911481163, 0.002381651233184706, 0.01813383764507899, 4.552252858625835, 0.0074162161765636316, 0.002194305557028018, 1.7256101972348559, 0.0007171386723743033, 0.0014091242711209363, 0.0020660125974016133, 0.0006013236970135319], :FTOL_REACHED, nothing)], :BORDER_FOUND_BY_SCAN_TOL, :right, 651, 0.0074162161765636316)))\n"
     ]
    },
    {
     "name": "stderr",
     "output_type": "stream",
     "text": [
      "┌ Warning: Using local_alg = :LN_SBPLX may result in wrong output.\n",
      "└ @ LikelihoodProfiler D:\\INSYSBIO\\repos\\LikelihoodProfiler\\src\\cico_one_pass.jl:29\n",
      "┌ Warning: Using local_alg = :LN_SBPLX may result in wrong output.\n",
      "└ @ LikelihoodProfiler D:\\INSYSBIO\\repos\\LikelihoodProfiler\\src\\cico_one_pass.jl:29\n"
     ]
    },
    {
     "name": "stdout",
     "output_type": "stream",
     "text": [
      "ParamInterval(ParamIntervalInput([0.00016134539126921329, 0.023992179254071128, 0.00910920512455982, 0.009410350583927153, 0.10047863759852893, 0.0004042730786639355, 0.004076198201046859, 0.008640513394286379, 0.0023874332982037937, 0.01835684462469936, 4.5522634341256785, 0.0072351308420322644, 0.002200597245980988, 1.7073702419808598, 0.0007837581118844848, 0.0013890369518288097, 0.0020578935641991087, 0.0006081666562122653], 13, getfield(Main, Symbol(\"##32#33\"))(), 254.76869385593034, Symbol[:direct, :direct, :direct, :direct, :direct, :direct, :direct, :direct, :direct, :direct, :direct, :direct, :direct, :direct, :direct, :direct, :direct, :direct], Tuple{Float64,Float64}[(1.0e-7, 1.0), (1.0e-5, 10.0), (1.0e-7, 10.0), (1.0e-5, 10.0), (1.0e-7, 10.0), (1.0e-7, 10.0), (1.0000000000000002e-6, 10.0), (1.0000000000000002e-6, 10.0), (1.0e-7, 10.0), (1.0000000000000002e-6, 10.0), (0.01, 1000.0), (1.0000000000000002e-6, 10.0), (1.0000000000000002e-6, 10.0), (0.0001, 1000.0), (1.0000000000000002e-6, 1.0), (1.0000000000000002e-6, 1.0), (1.0000000000000002e-6, 1.0), (1.0000000000000002e-6, 1.0)], (1.0e-5, 1.0), 0.001, 0.001, :LN_SBPLX, Base.Iterators.Pairs{Union{},Union{},Tuple{},NamedTuple{(),Tuple{}}}()), 250.92869385593033, :CICO_ONE_PASS, (EndPoint(0.0017101042771127796, ProfilePoint[ProfilePoint(0.0017101042771127796, 254.70847222883305, [0.00016680975082288013, 0.024454203657197478, 0.009089844754322004, 0.009407979147100952, 0.09924644759977372, 0.0004061510130677679, 0.004069655279105952, 0.008594717778390333, 0.002382529168042549, 0.018315783467065482, 4.517547711742425, 0.007382729358975168, 0.0017101042771127796, 1.3586983482223498, 0.0007929674781663214, 0.0014044017767000385, 0.0021237502891421024, 0.0006026617269431582], :FTOL_REACHED, nothing)], :BORDER_FOUND_BY_SCAN_TOL, :left, 878, 0.0017101042771127796), EndPoint(0.0027129616000799188, ProfilePoint[ProfilePoint(0.0027129616000799188, 254.6886847082031, [0.00016670954295953103, 0.024552677724865527, 0.009395348946464096, 0.009487099029817262, 0.10063273471710911, 0.0004049422875676916, 0.00400375405697638, 0.008604438348468883, 0.002391066437944251, 0.018387283205440638, 4.554009556562153, 0.0071395249310692264, 0.0027129616000799188, 2.0609134368426885, 0.0007577356451073942, 0.001406415851389583, 0.002063310174924633, 0.0005879233505663561], :FTOL_REACHED, nothing)], :BORDER_FOUND_BY_SCAN_TOL, :right, 634, 0.0027129616000799188)))\n"
     ]
    },
    {
     "name": "stderr",
     "output_type": "stream",
     "text": [
      "┌ Warning: Using local_alg = :LN_SBPLX may result in wrong output.\n",
      "└ @ LikelihoodProfiler D:\\INSYSBIO\\repos\\LikelihoodProfiler\\src\\cico_one_pass.jl:29\n",
      "┌ Warning: Using local_alg = :LN_SBPLX may result in wrong output.\n",
      "└ @ LikelihoodProfiler D:\\INSYSBIO\\repos\\LikelihoodProfiler\\src\\cico_one_pass.jl:29\n"
     ]
    },
    {
     "name": "stdout",
     "output_type": "stream",
     "text": [
      "ParamInterval(ParamIntervalInput([0.00016134539126921329, 0.023992179254071128, 0.00910920512455982, 0.009410350583927153, 0.10047863759852893, 0.0004042730786639355, 0.004076198201046859, 0.008640513394286379, 0.0023874332982037937, 0.01835684462469936, 4.5522634341256785, 0.0072351308420322644, 0.002200597245980988, 1.7073702419808598, 0.0007837581118844848, 0.0013890369518288097, 0.0020578935641991087, 0.0006081666562122653], 14, getfield(Main, Symbol(\"##32#33\"))(), 254.76869385593034, Symbol[:direct, :direct, :direct, :direct, :direct, :direct, :direct, :direct, :direct, :direct, :direct, :direct, :direct, :direct, :direct, :direct, :direct, :direct], Tuple{Float64,Float64}[(1.0e-7, 1.0), (1.0e-5, 10.0), (1.0e-7, 10.0), (1.0e-5, 10.0), (1.0e-7, 10.0), (1.0e-7, 10.0), (1.0000000000000002e-6, 10.0), (1.0000000000000002e-6, 10.0), (1.0e-7, 10.0), (1.0000000000000002e-6, 10.0), (0.01, 1000.0), (1.0000000000000002e-6, 10.0), (1.0000000000000002e-6, 10.0), (0.0001, 1000.0), (1.0000000000000002e-6, 1.0), (1.0000000000000002e-6, 1.0), (1.0000000000000002e-6, 1.0), (1.0000000000000002e-6, 1.0)], (0.001, 100.0), 0.001, 0.001, :LN_SBPLX, Base.Iterators.Pairs{Union{},Union{},Tuple{},NamedTuple{(),Tuple{}}}()), 250.92869385593033, :CICO_ONE_PASS, (EndPoint(1.317651413892462, ProfilePoint[ProfilePoint(1.317651413892462, 254.59606745756508, [0.00017052281643757975, 0.02444473277046644, 0.008800691447824107, 0.009429088441441517, 0.10089109658855652, 0.00040449208860421327, 0.004060245323007506, 0.008639549934281903, 0.002391159078415167, 0.01835437038598998, 4.550975881605353, 0.007411630302127695, 0.0017910048438198624, 1.317651413892462, 0.0007935015765038791, 0.0014073004968756955, 0.0020319779233375877, 0.0006020432963870972], :FTOL_REACHED, nothing)], :BORDER_FOUND_BY_SCAN_TOL, :left, 746, 1.317651413892462), EndPoint(2.154981996282068, ProfilePoint[ProfilePoint(2.154981996282068, 254.6640211641565, [0.000169642873813776, 0.024893243105636204, 0.008989517768946305, 0.009597111595290617, 0.10064970359543436, 0.0004064203291259896, 0.004050971445486799, 0.008582222165274496, 0.002375538668803681, 0.018022661811048238, 4.5577233810206454, 0.007321346649196115, 0.00280207831491061, 2.154981996282068, 0.0007124047476259243, 0.0014363909520148455, 0.002080097149360919, 0.0006015259553610087], :FTOL_REACHED, nothing)], :BORDER_FOUND_BY_SCAN_TOL, :right, 854, 2.154981996282068)))\n"
     ]
    },
    {
     "name": "stderr",
     "output_type": "stream",
     "text": [
      "┌ Warning: Using local_alg = :LN_SBPLX may result in wrong output.\n",
      "└ @ LikelihoodProfiler D:\\INSYSBIO\\repos\\LikelihoodProfiler\\src\\cico_one_pass.jl:29\n",
      "┌ Warning: Using local_alg = :LN_SBPLX may result in wrong output.\n",
      "└ @ LikelihoodProfiler D:\\INSYSBIO\\repos\\LikelihoodProfiler\\src\\cico_one_pass.jl:29\n"
     ]
    },
    {
     "name": "stdout",
     "output_type": "stream",
     "text": [
      "ParamInterval(ParamIntervalInput([0.00016134539126921329, 0.023992179254071128, 0.00910920512455982, 0.009410350583927153, 0.10047863759852893, 0.0004042730786639355, 0.004076198201046859, 0.008640513394286379, 0.0023874332982037937, 0.01835684462469936, 4.5522634341256785, 0.0072351308420322644, 0.002200597245980988, 1.7073702419808598, 0.0007837581118844848, 0.0013890369518288097, 0.0020578935641991087, 0.0006081666562122653], 15, getfield(Main, Symbol(\"##32#33\"))(), 254.76869385593034, Symbol[:direct, :direct, :direct, :direct, :direct, :direct, :direct, :direct, :direct, :direct, :direct, :direct, :direct, :direct, :direct, :direct, :direct, :direct], Tuple{Float64,Float64}[(1.0e-7, 1.0), (1.0e-5, 10.0), (1.0e-7, 10.0), (1.0e-5, 10.0), (1.0e-7, 10.0), (1.0e-7, 10.0), (1.0000000000000002e-6, 10.0), (1.0000000000000002e-6, 10.0), (1.0e-7, 10.0), (1.0000000000000002e-6, 10.0), (0.01, 1000.0), (1.0000000000000002e-6, 10.0), (1.0000000000000002e-6, 10.0), (0.0001, 1000.0), (1.0000000000000002e-6, 1.0), (1.0000000000000002e-6, 1.0), (1.0000000000000002e-6, 1.0), (1.0000000000000002e-6, 1.0)], (1.0e-5, 0.1), 0.001, 0.001, :LN_SBPLX, Base.Iterators.Pairs{Union{},Union{},Tuple{},NamedTuple{(),Tuple{}}}()), 250.92869385593033, :CICO_ONE_PASS, (EndPoint(0.000705504762901018, ProfilePoint[ProfilePoint(0.000705504762901018, 254.54901796738318, [0.00016469047198859355, 0.024534229124230242, 0.009011263378054543, 0.009801468280071626, 0.10056358548235528, 0.0004056943512061134, 0.004057568701456137, 0.008543813898682353, 0.0023906041080529704, 0.018500974537572976, 4.552265303631027, 0.007208846968270194, 0.002199889412272106, 1.7073249108007291, 0.000705504762901018, 0.001409020295674262, 0.0020660125974016133, 0.0006008980689386835], :FTOL_REACHED, nothing)], :BORDER_FOUND_BY_SCAN_TOL, :left, 535, 0.000705504762901018), EndPoint(0.0008644969289727699, ProfilePoint[ProfilePoint(0.0008644969289727699, 254.74039153271622, [0.00016473080833641086, 0.024027297927519037, 0.008967016125818643, 0.009148518182416127, 0.10058870514175491, 0.00040670503390277327, 0.004057059176681007, 0.008541653770333783, 0.002381352804022431, 0.01827036667697519, 4.553581192279954, 0.007305899465580893, 0.0021945254564850274, 1.704780528975277, 0.0008644969289727699, 0.0014083257771983475, 0.0020703856212255364, 0.0005993016314661264], :FTOL_REACHED, nothing)], :BORDER_FOUND_BY_SCAN_TOL, :right, 789, 0.0008644969289727699)))\n"
     ]
    },
    {
     "name": "stderr",
     "output_type": "stream",
     "text": [
      "┌ Warning: Using local_alg = :LN_SBPLX may result in wrong output.\n",
      "└ @ LikelihoodProfiler D:\\INSYSBIO\\repos\\LikelihoodProfiler\\src\\cico_one_pass.jl:29\n",
      "┌ Warning: Using local_alg = :LN_SBPLX may result in wrong output.\n",
      "└ @ LikelihoodProfiler D:\\INSYSBIO\\repos\\LikelihoodProfiler\\src\\cico_one_pass.jl:29\n"
     ]
    },
    {
     "name": "stdout",
     "output_type": "stream",
     "text": [
      "ParamInterval(ParamIntervalInput([0.00016134539126921329, 0.023992179254071128, 0.00910920512455982, 0.009410350583927153, 0.10047863759852893, 0.0004042730786639355, 0.004076198201046859, 0.008640513394286379, 0.0023874332982037937, 0.01835684462469936, 4.5522634341256785, 0.0072351308420322644, 0.002200597245980988, 1.7073702419808598, 0.0007837581118844848, 0.0013890369518288097, 0.0020578935641991087, 0.0006081666562122653], 16, getfield(Main, Symbol(\"##32#33\"))(), 254.76869385593034, Symbol[:direct, :direct, :direct, :direct, :direct, :direct, :direct, :direct, :direct, :direct, :direct, :direct, :direct, :direct, :direct, :direct, :direct, :direct], Tuple{Float64,Float64}[(1.0e-7, 1.0), (1.0e-5, 10.0), (1.0e-7, 10.0), (1.0e-5, 10.0), (1.0e-7, 10.0), (1.0e-7, 10.0), (1.0000000000000002e-6, 10.0), (1.0000000000000002e-6, 10.0), (1.0e-7, 10.0), (1.0000000000000002e-6, 10.0), (0.01, 1000.0), (1.0000000000000002e-6, 10.0), (1.0000000000000002e-6, 10.0), (0.0001, 1000.0), (1.0000000000000002e-6, 1.0), (1.0000000000000002e-6, 1.0), (1.0000000000000002e-6, 1.0), (1.0000000000000002e-6, 1.0)], (1.0e-5, 0.1), 0.001, 0.001, :LN_SBPLX, Base.Iterators.Pairs{Union{},Union{},Tuple{},NamedTuple{(),Tuple{}}}()), 250.92869385593033, :CICO_ONE_PASS, (EndPoint(0.0012631882018169717, ProfilePoint[ProfilePoint(0.0012631882018169717, 253.55234921090985, [0.00016368206329316098, 0.024744160692703375, 0.009209548712260051, 0.00930595450713671, 0.10031238888835896, 0.0004047799621916732, 0.004057568701456137, 0.008543813898682353, 0.0023846413535020365, 0.018294460035545107, 4.484869430584937, 0.007376441991290708, 0.0021436911765731984, 1.7073802721557736, 0.0007680829496467951, 0.0012631882018169717, 0.0020270251607361223, 0.0006252247351871741], :FTOL_REACHED, nothing)], :BORDER_FOUND_BY_SCAN_TOL, :left, 544, 0.0012631882018169717), EndPoint(0.0014993571088242493, ProfilePoint[ProfilePoint(0.0014993571088242493, 254.18978605840422, [0.0001679173798139778, 0.023994405091013644, 0.00903519283292277, 0.009610320533835606, 0.10031238888835896, 0.0004047861309093042, 0.004051995774228143, 0.008544657698818516, 0.002381651233184706, 0.018317406091325983, 4.627729822507129, 0.007126603879401781, 0.002203347992538464, 1.7116471346165836, 0.0007573062756083835, 0.0014993571088242493, 0.002088761967662095, 0.000592535777415765], :FTOL_REACHED, nothing)], :BORDER_FOUND_BY_SCAN_TOL, :right, 495, 0.0014993571088242493)))\n"
     ]
    },
    {
     "name": "stderr",
     "output_type": "stream",
     "text": [
      "┌ Warning: Using local_alg = :LN_SBPLX may result in wrong output.\n",
      "└ @ LikelihoodProfiler D:\\INSYSBIO\\repos\\LikelihoodProfiler\\src\\cico_one_pass.jl:29\n",
      "┌ Warning: Using local_alg = :LN_SBPLX may result in wrong output.\n",
      "└ @ LikelihoodProfiler D:\\INSYSBIO\\repos\\LikelihoodProfiler\\src\\cico_one_pass.jl:29\n"
     ]
    },
    {
     "name": "stdout",
     "output_type": "stream",
     "text": [
      "ParamInterval(ParamIntervalInput([0.00016134539126921329, 0.023992179254071128, 0.00910920512455982, 0.009410350583927153, 0.10047863759852893, 0.0004042730786639355, 0.004076198201046859, 0.008640513394286379, 0.0023874332982037937, 0.01835684462469936, 4.5522634341256785, 0.0072351308420322644, 0.002200597245980988, 1.7073702419808598, 0.0007837581118844848, 0.0013890369518288097, 0.0020578935641991087, 0.0006081666562122653], 17, getfield(Main, Symbol(\"##32#33\"))(), 254.76869385593034, Symbol[:direct, :direct, :direct, :direct, :direct, :direct, :direct, :direct, :direct, :direct, :direct, :direct, :direct, :direct, :direct, :direct, :direct, :direct], Tuple{Float64,Float64}[(1.0e-7, 1.0), (1.0e-5, 10.0), (1.0e-7, 10.0), (1.0e-5, 10.0), (1.0e-7, 10.0), (1.0e-7, 10.0), (1.0000000000000002e-6, 10.0), (1.0000000000000002e-6, 10.0), (1.0e-7, 10.0), (1.0000000000000002e-6, 10.0), (0.01, 1000.0), (1.0000000000000002e-6, 10.0), (1.0000000000000002e-6, 10.0), (0.0001, 1000.0), (1.0000000000000002e-6, 1.0), (1.0000000000000002e-6, 1.0), (1.0000000000000002e-6, 1.0), (1.0000000000000002e-6, 1.0)], (1.0e-5, 0.1), 0.001, 0.001, :LN_SBPLX, Base.Iterators.Pairs{Union{},Union{},Tuple{},NamedTuple{(),Tuple{}}}()), 250.92869385593033, :CICO_ONE_PASS, (EndPoint(0.001967841880187112, ProfilePoint[ProfilePoint(0.001967841880187112, 254.02808564691884, [0.0001652955172058531, 0.024534229124230242, 0.008977904472569093, 0.009422113522157062, 0.10031238888835896, 0.0003988865544285634, 0.004062663949207446, 0.008538761645367095, 0.0023786669415619514, 0.018271513979764235, 4.541062467836109, 0.007262827827286919, 0.00219508232148636, 1.7030549220516347, 0.0007847378095243404, 0.0014059817773421366, 0.001967841880187112, 0.0005978572356576221], :FTOL_REACHED, nothing)], :BORDER_FOUND_BY_SCAN_TOL, :left, 492, 0.001967841880187112), EndPoint(0.002147127567113515, ProfilePoint[ProfilePoint(0.002147127567113515, 253.8121914936876, [0.00016469047198859355, 0.024534229124230242, 0.009281426033946029, 0.009151565942869155, 0.10031238888835896, 0.00040975484789953, 0.004057568701456137, 0.008543813898682353, 0.002381651233184706, 0.018317406091325983, 4.541062467836109, 0.007255479647525481, 0.002206098739095941, 1.711638667585812, 0.0007524077874091054, 0.0014098884437691549, 0.002147127567113515, 0.0005993776522981529], :FTOL_REACHED, nothing)], :BORDER_FOUND_BY_SCAN_TOL, :right, 409, 0.002147127567113515)))\n"
     ]
    },
    {
     "name": "stderr",
     "output_type": "stream",
     "text": [
      "┌ Warning: Using local_alg = :LN_SBPLX may result in wrong output.\n",
      "└ @ LikelihoodProfiler D:\\INSYSBIO\\repos\\LikelihoodProfiler\\src\\cico_one_pass.jl:29\n",
      "┌ Warning: Using local_alg = :LN_SBPLX may result in wrong output.\n",
      "└ @ LikelihoodProfiler D:\\INSYSBIO\\repos\\LikelihoodProfiler\\src\\cico_one_pass.jl:29\n"
     ]
    },
    {
     "name": "stdout",
     "output_type": "stream",
     "text": [
      "ParamInterval(ParamIntervalInput([0.00016134539126921329, 0.023992179254071128, 0.00910920512455982, 0.009410350583927153, 0.10047863759852893, 0.0004042730786639355, 0.004076198201046859, 0.008640513394286379, 0.0023874332982037937, 0.01835684462469936, 4.5522634341256785, 0.0072351308420322644, 0.002200597245980988, 1.7073702419808598, 0.0007837581118844848, 0.0013890369518288097, 0.0020578935641991087, 0.0006081666562122653], 18, getfield(Main, Symbol(\"##32#33\"))(), 254.76869385593034, Symbol[:direct, :direct, :direct, :direct, :direct, :direct, :direct, :direct, :direct, :direct, :direct, :direct, :direct, :direct, :direct, :direct, :direct, :direct], Tuple{Float64,Float64}[(1.0e-7, 1.0), (1.0e-5, 10.0), (1.0e-7, 10.0), (1.0e-5, 10.0), (1.0e-7, 10.0), (1.0e-7, 10.0), (1.0000000000000002e-6, 10.0), (1.0000000000000002e-6, 10.0), (1.0e-7, 10.0), (1.0000000000000002e-6, 10.0), (0.01, 1000.0), (1.0000000000000002e-6, 10.0), (1.0000000000000002e-6, 10.0), (0.0001, 1000.0), (1.0000000000000002e-6, 1.0), (1.0000000000000002e-6, 1.0), (1.0000000000000002e-6, 1.0), (1.0000000000000002e-6, 1.0)], (1.0e-5, 0.1), 0.001, 0.001, :LN_SBPLX, Base.Iterators.Pairs{Union{},Union{},Tuple{},NamedTuple{(),Tuple{}}}()), 250.92869385593033, :CICO_ONE_PASS, (EndPoint(0.0005616497780234469, ProfilePoint[ProfilePoint(0.0005616497780234469, 254.70860754503698, [0.00016590056242311266, 0.023948916786521897, 0.009069352352139869, 0.009610320533835606, 0.10154578616604744, 0.0004077471153721749, 0.004052473453704829, 0.008543813898682353, 0.0023786669415619514, 0.018294460035545107, 4.574849196875247, 0.007155431353850502, 0.002233176400521097, 1.7116471346165836, 0.0007671032520069395, 0.001461311506065853, 0.0020270251607361223, 0.0005616497780234469], :FTOL_REACHED, nothing)], :BORDER_FOUND_BY_SCAN_TOL, :left, 484, 0.0005616497780234469), EndPoint(0.0006540221384073108, ProfilePoint[ProfilePoint(0.0006540221384073108, 254.65913162408572, [0.00016590056242311266, 0.023994405091013644, 0.009217376935413968, 0.009339772954547697, 0.09714081794718876, 0.00040478011640961403, 0.004051995774228143, 0.008544657698818516, 0.002381651233184706, 0.018294460035545107, 4.557685954742004, 0.007261132093495818, 0.0021117137478425373, 1.7116442037213164, 0.0007680829496467951, 0.001315950403057882, 0.0020861896007068463, 0.0006540221384073108], :FTOL_REACHED, nothing)], :BORDER_FOUND_BY_SCAN_TOL, :right, 601, 0.0006540221384073108)))\n"
     ]
    }
   ],
   "source": [
    "α = loss + 3.84\n",
    "scan_bounds = tuple.(lb/10,ub*10)\n",
    "theta_bounds = tuple.(lb/100.,ub*100)\n",
    "\n",
    "intervals = Vector{ParamInterval}(undef,length(p))\n",
    "for i in eachindex(p)\n",
    "    \n",
    "    intervals[i] = get_interval(\n",
    "        p,\n",
    "        i,\n",
    "        (p)->obj_func(p),\n",
    "        :CICO_ONE_PASS,\n",
    "        loss_crit = α,\n",
    "        theta_bounds = theta_bounds,\n",
    "        scan_bounds = scan_bounds[i],\n",
    "        local_alg = :LN_SBPLX,\n",
    "        #scale = fill(:log,length(p))\n",
    "    )\n",
    "    println(intervals[i]) \n",
    "end"
   ]
  },
  {
   "cell_type": "code",
   "execution_count": 38,
   "metadata": {
    "scrolled": true
   },
   "outputs": [
    {
     "data": {
      "text/html": [
       "<table class=\"data-frame\"><thead><tr><th></th><th>Parameters</th><th>StatusLower</th><th>StatusUpper</th><th>CILower</th><th>CIUpper</th><th>FittedValues</th><th>StartValues</th><th>NominalValues</th><th>NominalInCI</th></tr><tr><th></th><th>Symbol</th><th>Symbol</th><th>Symbol</th><th>Float64</th><th>Float64</th><th>Float64</th><th>Float64</th><th>Float64</th><th>Bool</th></tr></thead><tbody><p>18 rows × 9 columns</p><tr><th>1</th><td>k1</td><td>BORDER_FOUND_BY_SCAN_TOL</td><td>BORDER_FOUND_BY_SCAN_TOL</td><td>9.64115e-5</td><td>0.000508596</td><td>0.000161345</td><td>3.52e-5</td><td>0.00015</td><td>1</td></tr><tr><th>2</th><td>k2</td><td>BORDER_FOUND_BY_SCAN_TOL</td><td>BORDER_FOUND_BY_SCAN_TOL</td><td>0.0147563</td><td>0.0754179</td><td>0.0239922</td><td>0.00131226</td><td>0.023</td><td>1</td></tr><tr><th>3</th><td>k4</td><td>BORDER_FOUND_BY_SCAN_TOL</td><td>BORDER_FOUND_BY_SCAN_TOL</td><td>0.00867987</td><td>0.00943914</td><td>0.00910921</td><td>0.00151732</td><td>0.01</td><td>0</td></tr><tr><th>4</th><td>k5</td><td>BORDER_FOUND_BY_SCAN_TOL</td><td>BORDER_FOUND_BY_SCAN_TOL</td><td>0.00893424</td><td>0.00996476</td><td>0.00941035</td><td>0.0395871</td><td>0.01</td><td>0</td></tr><tr><th>5</th><td>k6</td><td>BORDER_FOUND_BY_SCAN_TOL</td><td>BORDER_FOUND_BY_SCAN_TOL</td><td>0.0932071</td><td>0.107813</td><td>0.100479</td><td>1.63e-5</td><td>0.1</td><td>1</td></tr><tr><th>6</th><td>k7</td><td>BORDER_FOUND_BY_SCAN_TOL</td><td>BORDER_FOUND_BY_SCAN_TOL</td><td>0.000395224</td><td>0.000421052</td><td>0.000404273</td><td>0.000251247</td><td>0.000404</td><td>1</td></tr><tr><th>7</th><td>k8</td><td>BORDER_FOUND_BY_SCAN_TOL</td><td>BORDER_FOUND_BY_SCAN_TOL</td><td>0.00366936</td><td>0.00450314</td><td>0.0040762</td><td>0.000112007</td><td>0.0026</td><td>0</td></tr><tr><th>8</th><td>k9</td><td>BORDER_FOUND_BY_SCAN_TOL</td><td>BORDER_FOUND_BY_SCAN_TOL</td><td>0.00753425</td><td>0.00975732</td><td>0.00864051</td><td>0.00783227</td><td>0.0056</td><td>0</td></tr><tr><th>9</th><td>k10</td><td>BORDER_FOUND_BY_SCAN_TOL</td><td>BORDER_FOUND_BY_SCAN_TOL</td><td>0.00212018</td><td>0.00267173</td><td>0.00238743</td><td>0.0424562</td><td>0.002</td><td>0</td></tr><tr><th>10</th><td>k11</td><td>BORDER_FOUND_BY_SCAN_TOL</td><td>BORDER_FOUND_BY_SCAN_TOL</td><td>0.0162573</td><td>0.020736</td><td>0.0183568</td><td>0.000142716</td><td>0.016</td><td>0</td></tr><tr><th>11</th><td>k12</td><td>BORDER_FOUND_BY_SCAN_TOL</td><td>BORDER_FOUND_BY_SCAN_TOL</td><td>4.35045</td><td>4.77345</td><td>4.55226</td><td>8.20992</td><td>5.7</td><td>0</td></tr><tr><th>12</th><td>k13</td><td>BORDER_FOUND_BY_SCAN_TOL</td><td>BORDER_FOUND_BY_SCAN_TOL</td><td>0.00697277</td><td>0.00741622</td><td>0.00723513</td><td>0.000270499</td><td>0.00657</td><td>0</td></tr><tr><th>13</th><td>k14</td><td>BORDER_FOUND_BY_SCAN_TOL</td><td>BORDER_FOUND_BY_SCAN_TOL</td><td>0.0017101</td><td>0.00271296</td><td>0.0022006</td><td>0.0213893</td><td>0.0017</td><td>0</td></tr><tr><th>14</th><td>k15</td><td>BORDER_FOUND_BY_SCAN_TOL</td><td>BORDER_FOUND_BY_SCAN_TOL</td><td>1.31765</td><td>2.15498</td><td>1.70737</td><td>1.41254</td><td>1.0</td><td>0</td></tr><tr><th>15</th><td>k16</td><td>BORDER_FOUND_BY_SCAN_TOL</td><td>BORDER_FOUND_BY_SCAN_TOL</td><td>0.000705505</td><td>0.000864497</td><td>0.000783758</td><td>0.000121978</td><td>0.0008</td><td>1</td></tr><tr><th>16</th><td>k17</td><td>BORDER_FOUND_BY_SCAN_TOL</td><td>BORDER_FOUND_BY_SCAN_TOL</td><td>0.00126319</td><td>0.00149936</td><td>0.00138904</td><td>0.00658392</td><td>0.001</td><td>0</td></tr><tr><th>17</th><td>k18</td><td>BORDER_FOUND_BY_SCAN_TOL</td><td>BORDER_FOUND_BY_SCAN_TOL</td><td>0.00196784</td><td>0.00214713</td><td>0.00205789</td><td>0.000205464</td><td>0.0021</td><td>1</td></tr><tr><th>18</th><td>k19</td><td>BORDER_FOUND_BY_SCAN_TOL</td><td>BORDER_FOUND_BY_SCAN_TOL</td><td>0.00056165</td><td>0.000654022</td><td>0.000608167</td><td>0.0111338</td><td>0.001</td><td>0</td></tr></tbody></table>"
      ],
      "text/latex": [
       "\\begin{tabular}{r|ccccccccc}\n",
       "\t& Parameters & StatusLower & StatusUpper & CILower & CIUpper & FittedValues & StartValues & NominalValues & NominalInCI\\\\\n",
       "\t\\hline\n",
       "\t& Symbol & Symbol & Symbol & Float64 & Float64 & Float64 & Float64 & Float64 & Bool\\\\\n",
       "\t\\hline\n",
       "\t1 & k1 & BORDER\\_FOUND\\_BY\\_SCAN\\_TOL & BORDER\\_FOUND\\_BY\\_SCAN\\_TOL & 9.64115e-5 & 0.000508596 & 0.000161345 & 3.52e-5 & 0.00015 & 1 \\\\\n",
       "\t2 & k2 & BORDER\\_FOUND\\_BY\\_SCAN\\_TOL & BORDER\\_FOUND\\_BY\\_SCAN\\_TOL & 0.0147563 & 0.0754179 & 0.0239922 & 0.00131226 & 0.023 & 1 \\\\\n",
       "\t3 & k4 & BORDER\\_FOUND\\_BY\\_SCAN\\_TOL & BORDER\\_FOUND\\_BY\\_SCAN\\_TOL & 0.00867987 & 0.00943914 & 0.00910921 & 0.00151732 & 0.01 & 0 \\\\\n",
       "\t4 & k5 & BORDER\\_FOUND\\_BY\\_SCAN\\_TOL & BORDER\\_FOUND\\_BY\\_SCAN\\_TOL & 0.00893424 & 0.00996476 & 0.00941035 & 0.0395871 & 0.01 & 0 \\\\\n",
       "\t5 & k6 & BORDER\\_FOUND\\_BY\\_SCAN\\_TOL & BORDER\\_FOUND\\_BY\\_SCAN\\_TOL & 0.0932071 & 0.107813 & 0.100479 & 1.63e-5 & 0.1 & 1 \\\\\n",
       "\t6 & k7 & BORDER\\_FOUND\\_BY\\_SCAN\\_TOL & BORDER\\_FOUND\\_BY\\_SCAN\\_TOL & 0.000395224 & 0.000421052 & 0.000404273 & 0.000251247 & 0.000404 & 1 \\\\\n",
       "\t7 & k8 & BORDER\\_FOUND\\_BY\\_SCAN\\_TOL & BORDER\\_FOUND\\_BY\\_SCAN\\_TOL & 0.00366936 & 0.00450314 & 0.0040762 & 0.000112007 & 0.0026 & 0 \\\\\n",
       "\t8 & k9 & BORDER\\_FOUND\\_BY\\_SCAN\\_TOL & BORDER\\_FOUND\\_BY\\_SCAN\\_TOL & 0.00753425 & 0.00975732 & 0.00864051 & 0.00783227 & 0.0056 & 0 \\\\\n",
       "\t9 & k10 & BORDER\\_FOUND\\_BY\\_SCAN\\_TOL & BORDER\\_FOUND\\_BY\\_SCAN\\_TOL & 0.00212018 & 0.00267173 & 0.00238743 & 0.0424562 & 0.002 & 0 \\\\\n",
       "\t10 & k11 & BORDER\\_FOUND\\_BY\\_SCAN\\_TOL & BORDER\\_FOUND\\_BY\\_SCAN\\_TOL & 0.0162573 & 0.020736 & 0.0183568 & 0.000142716 & 0.016 & 0 \\\\\n",
       "\t11 & k12 & BORDER\\_FOUND\\_BY\\_SCAN\\_TOL & BORDER\\_FOUND\\_BY\\_SCAN\\_TOL & 4.35045 & 4.77345 & 4.55226 & 8.20992 & 5.7 & 0 \\\\\n",
       "\t12 & k13 & BORDER\\_FOUND\\_BY\\_SCAN\\_TOL & BORDER\\_FOUND\\_BY\\_SCAN\\_TOL & 0.00697277 & 0.00741622 & 0.00723513 & 0.000270499 & 0.00657 & 0 \\\\\n",
       "\t13 & k14 & BORDER\\_FOUND\\_BY\\_SCAN\\_TOL & BORDER\\_FOUND\\_BY\\_SCAN\\_TOL & 0.0017101 & 0.00271296 & 0.0022006 & 0.0213893 & 0.0017 & 0 \\\\\n",
       "\t14 & k15 & BORDER\\_FOUND\\_BY\\_SCAN\\_TOL & BORDER\\_FOUND\\_BY\\_SCAN\\_TOL & 1.31765 & 2.15498 & 1.70737 & 1.41254 & 1.0 & 0 \\\\\n",
       "\t15 & k16 & BORDER\\_FOUND\\_BY\\_SCAN\\_TOL & BORDER\\_FOUND\\_BY\\_SCAN\\_TOL & 0.000705505 & 0.000864497 & 0.000783758 & 0.000121978 & 0.0008 & 1 \\\\\n",
       "\t16 & k17 & BORDER\\_FOUND\\_BY\\_SCAN\\_TOL & BORDER\\_FOUND\\_BY\\_SCAN\\_TOL & 0.00126319 & 0.00149936 & 0.00138904 & 0.00658392 & 0.001 & 0 \\\\\n",
       "\t17 & k18 & BORDER\\_FOUND\\_BY\\_SCAN\\_TOL & BORDER\\_FOUND\\_BY\\_SCAN\\_TOL & 0.00196784 & 0.00214713 & 0.00205789 & 0.000205464 & 0.0021 & 1 \\\\\n",
       "\t18 & k19 & BORDER\\_FOUND\\_BY\\_SCAN\\_TOL & BORDER\\_FOUND\\_BY\\_SCAN\\_TOL & 0.00056165 & 0.000654022 & 0.000608167 & 0.0111338 & 0.001 & 0 \\\\\n",
       "\\end{tabular}\n"
      ],
      "text/plain": [
       "18×9 DataFrame. Omitted printing of 2 columns\n",
       "│ Row │ Parameters │ StatusLower              │ StatusUpper              │ CILower     │ CIUpper     │ FittedValues │ StartValues │\n",
       "│     │ \u001b[90mSymbol\u001b[39m     │ \u001b[90mSymbol\u001b[39m                   │ \u001b[90mSymbol\u001b[39m                   │ \u001b[90mFloat64\u001b[39m     │ \u001b[90mFloat64\u001b[39m     │ \u001b[90mFloat64\u001b[39m      │ \u001b[90mFloat64\u001b[39m     │\n",
       "├─────┼────────────┼──────────────────────────┼──────────────────────────┼─────────────┼─────────────┼──────────────┼─────────────┤\n",
       "│ 1   │ k1         │ BORDER_FOUND_BY_SCAN_TOL │ BORDER_FOUND_BY_SCAN_TOL │ 9.64115e-5  │ 0.000508596 │ 0.000161345  │ 3.52e-5     │\n",
       "│ 2   │ k2         │ BORDER_FOUND_BY_SCAN_TOL │ BORDER_FOUND_BY_SCAN_TOL │ 0.0147563   │ 0.0754179   │ 0.0239922    │ 0.00131226  │\n",
       "│ 3   │ k4         │ BORDER_FOUND_BY_SCAN_TOL │ BORDER_FOUND_BY_SCAN_TOL │ 0.00867987  │ 0.00943914  │ 0.00910921   │ 0.00151732  │\n",
       "│ 4   │ k5         │ BORDER_FOUND_BY_SCAN_TOL │ BORDER_FOUND_BY_SCAN_TOL │ 0.00893424  │ 0.00996476  │ 0.00941035   │ 0.0395871   │\n",
       "│ 5   │ k6         │ BORDER_FOUND_BY_SCAN_TOL │ BORDER_FOUND_BY_SCAN_TOL │ 0.0932071   │ 0.107813    │ 0.100479     │ 1.63e-5     │\n",
       "│ 6   │ k7         │ BORDER_FOUND_BY_SCAN_TOL │ BORDER_FOUND_BY_SCAN_TOL │ 0.000395224 │ 0.000421052 │ 0.000404273  │ 0.000251247 │\n",
       "│ 7   │ k8         │ BORDER_FOUND_BY_SCAN_TOL │ BORDER_FOUND_BY_SCAN_TOL │ 0.00366936  │ 0.00450314  │ 0.0040762    │ 0.000112007 │\n",
       "│ 8   │ k9         │ BORDER_FOUND_BY_SCAN_TOL │ BORDER_FOUND_BY_SCAN_TOL │ 0.00753425  │ 0.00975732  │ 0.00864051   │ 0.00783227  │\n",
       "│ 9   │ k10        │ BORDER_FOUND_BY_SCAN_TOL │ BORDER_FOUND_BY_SCAN_TOL │ 0.00212018  │ 0.00267173  │ 0.00238743   │ 0.0424562   │\n",
       "│ 10  │ k11        │ BORDER_FOUND_BY_SCAN_TOL │ BORDER_FOUND_BY_SCAN_TOL │ 0.0162573   │ 0.020736    │ 0.0183568    │ 0.000142716 │\n",
       "│ 11  │ k12        │ BORDER_FOUND_BY_SCAN_TOL │ BORDER_FOUND_BY_SCAN_TOL │ 4.35045     │ 4.77345     │ 4.55226      │ 8.20992     │\n",
       "│ 12  │ k13        │ BORDER_FOUND_BY_SCAN_TOL │ BORDER_FOUND_BY_SCAN_TOL │ 0.00697277  │ 0.00741622  │ 0.00723513   │ 0.000270499 │\n",
       "│ 13  │ k14        │ BORDER_FOUND_BY_SCAN_TOL │ BORDER_FOUND_BY_SCAN_TOL │ 0.0017101   │ 0.00271296  │ 0.0022006    │ 0.0213893   │\n",
       "│ 14  │ k15        │ BORDER_FOUND_BY_SCAN_TOL │ BORDER_FOUND_BY_SCAN_TOL │ 1.31765     │ 2.15498     │ 1.70737      │ 1.41254     │\n",
       "│ 15  │ k16        │ BORDER_FOUND_BY_SCAN_TOL │ BORDER_FOUND_BY_SCAN_TOL │ 0.000705505 │ 0.000864497 │ 0.000783758  │ 0.000121978 │\n",
       "│ 16  │ k17        │ BORDER_FOUND_BY_SCAN_TOL │ BORDER_FOUND_BY_SCAN_TOL │ 0.00126319  │ 0.00149936  │ 0.00138904   │ 0.00658392  │\n",
       "│ 17  │ k18        │ BORDER_FOUND_BY_SCAN_TOL │ BORDER_FOUND_BY_SCAN_TOL │ 0.00196784  │ 0.00214713  │ 0.00205789   │ 0.000205464 │\n",
       "│ 18  │ k19        │ BORDER_FOUND_BY_SCAN_TOL │ BORDER_FOUND_BY_SCAN_TOL │ 0.00056165  │ 0.000654022 │ 0.000608167  │ 0.0111338   │"
      ]
     },
     "execution_count": 38,
     "metadata": {},
     "output_type": "execute_result"
    }
   ],
   "source": [
    "ENV[\"COLUMNS\"]=140\n",
    "df_res = DataFrame(\n",
    "    Parameters = [:k1, :k2, :k4, :k5, :k6, :k7, :k8, :k9, :k10, :k11, :k12, :k13, :k14, :k15, :k16, :k17, :k18, :k19], \n",
    "    StatusLower = [k.result[1].status for k in intervals],\n",
    "    StatusUpper = [k.result[2].status for k in intervals],\n",
    "    CILower = [k.result[1].value for k in intervals],\n",
    "    CIUpper = [k.result[2].value for k in intervals],\n",
    "    FittedValues = p,\n",
    "    StartValues = p_start,\n",
    "    NominalValues = p0,\n",
    "    NominalInCI = [(intervals[i].result[1].value <= p0[i] <= intervals[i].result[2].value) for i in eachindex(p0)]\n",
    ")\n",
    "df_res"
   ]
  },
  {
   "cell_type": "code",
   "execution_count": null,
   "metadata": {},
   "outputs": [],
   "source": []
  }
 ],
 "metadata": {
  "@webio": {
   "lastCommId": null,
   "lastKernelId": null
  },
  "kernelspec": {
   "display_name": "Julia 1.5.0",
   "language": "julia",
   "name": "julia-1.5"
  },
  "language_info": {
   "file_extension": ".jl",
   "mimetype": "application/julia",
   "name": "julia",
   "version": "1.5.0"
  }
 },
 "nbformat": 4,
 "nbformat_minor": 2
}
